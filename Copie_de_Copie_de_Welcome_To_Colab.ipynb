{
  "cells": [
    {
      "cell_type": "markdown",
      "metadata": {
        "id": "view-in-github",
        "colab_type": "text"
      },
      "source": [
        "<a href=\"https://colab.research.google.com/github/donaldkinyafisher/INF8250AE-MARL-NOTEBOOK/blob/main/Copie_de_Copie_de_Welcome_To_Colab.ipynb\" target=\"_parent\"><img src=\"https://colab.research.google.com/assets/colab-badge.svg\" alt=\"Open In Colab\"/></a>"
      ]
    },
    {
      "cell_type": "markdown",
      "source": [
        "# Setup, Install and  Import"
      ],
      "metadata": {
        "id": "uJUi-Mh-ItLp"
      }
    },
    {
      "cell_type": "code",
      "source": [
        "!rm -rf INF8250AE-MARL-NOTEBOOK\n",
        "!git clone https://github.com/donaldkinyafisher/INF8250AE-MARL-NOTEBOOK.git"
      ],
      "metadata": {
        "colab": {
          "base_uri": "https://localhost:8080/"
        },
        "outputId": "2303bd9e-85c1-43c4-f6fd-edbdf406753e",
        "id": "XTspNhr9SY4q"
      },
      "execution_count": null,
      "outputs": [
        {
          "output_type": "stream",
          "name": "stdout",
          "text": [
            "Cloning into 'INF8250AE-MARL-NOTEBOOK'...\n",
            "remote: Enumerating objects: 39, done.\u001b[K\n",
            "remote: Counting objects:   2% (1/39)\u001b[K\rremote: Counting objects:   5% (2/39)\u001b[K\rremote: Counting objects:   7% (3/39)\u001b[K\rremote: Counting objects:  10% (4/39)\u001b[K\rremote: Counting objects:  12% (5/39)\u001b[K\rremote: Counting objects:  15% (6/39)\u001b[K\rremote: Counting objects:  17% (7/39)\u001b[K\rremote: Counting objects:  20% (8/39)\u001b[K\rremote: Counting objects:  23% (9/39)\u001b[K\rremote: Counting objects:  25% (10/39)\u001b[K\rremote: Counting objects:  28% (11/39)\u001b[K\rremote: Counting objects:  30% (12/39)\u001b[K\rremote: Counting objects:  33% (13/39)\u001b[K\rremote: Counting objects:  35% (14/39)\u001b[K\rremote: Counting objects:  38% (15/39)\u001b[K\rremote: Counting objects:  41% (16/39)\u001b[K\rremote: Counting objects:  43% (17/39)\u001b[K\rremote: Counting objects:  46% (18/39)\u001b[K\rremote: Counting objects:  48% (19/39)\u001b[K\rremote: Counting objects:  51% (20/39)\u001b[K\rremote: Counting objects:  53% (21/39)\u001b[K\rremote: Counting objects:  56% (22/39)\u001b[K\rremote: Counting objects:  58% (23/39)\u001b[K\rremote: Counting objects:  61% (24/39)\u001b[K\rremote: Counting objects:  64% (25/39)\u001b[K\rremote: Counting objects:  66% (26/39)\u001b[K\rremote: Counting objects:  69% (27/39)\u001b[K\rremote: Counting objects:  71% (28/39)\u001b[K\rremote: Counting objects:  74% (29/39)\u001b[K\rremote: Counting objects:  76% (30/39)\u001b[K\rremote: Counting objects:  79% (31/39)\u001b[K\rremote: Counting objects:  82% (32/39)\u001b[K\rremote: Counting objects:  84% (33/39)\u001b[K\rremote: Counting objects:  87% (34/39)\u001b[K\rremote: Counting objects:  89% (35/39)\u001b[K\rremote: Counting objects:  92% (36/39)\u001b[K\rremote: Counting objects:  94% (37/39)\u001b[K\rremote: Counting objects:  97% (38/39)\u001b[K\rremote: Counting objects: 100% (39/39)\u001b[K\rremote: Counting objects: 100% (39/39), done.\u001b[K\n",
            "remote: Compressing objects: 100% (37/37), done.\u001b[K\n",
            "remote: Total 39 (delta 16), reused 0 (delta 0), pack-reused 0 (from 0)\u001b[K\n",
            "Receiving objects: 100% (39/39), 1000.34 KiB | 14.09 MiB/s, done.\n",
            "Resolving deltas: 100% (16/16), done.\n"
          ]
        }
      ]
    },
    {
      "cell_type": "code",
      "source": [
        "# @title Setup Install and Import\n",
        "\n",
        "#Install dependences\n",
        "!pip install -r INF8250AE-MARL-NOTEBOOK/requirements.txt\n",
        "\n",
        "import numpy as np\n",
        "import matplotlib.pyplot as plt\n",
        "from matplotlib.patches import Circle, Rectangle, Arrow, ConnectionPatch\n",
        "import seaborn as sns\n",
        "from IPython.display import HTML, display, Markdown, Math, Image\n",
        "import ipywidgets as widgets\n",
        "from ipywidgets import interact, interactive, fixed, interact_manual\n",
        "import plotly.graph_objects as go\n",
        "import plotly.express as px\n",
        "import numpy as np\n",
        "import matplotlib.pyplot as plt\n",
        "from pettingzoo.mpe import simple_spread_v3\n",
        "from PIL import Image as PILImage\n",
        "import os\n",
        "import torch"
      ],
      "metadata": {
        "id": "qjWfywJ0JRQa",
        "colab": {
          "base_uri": "https://localhost:8080/"
        },
        "outputId": "a8df6bb9-8de6-4eb0-a1aa-4eeab0674044"
      },
      "execution_count": null,
      "outputs": [
        {
          "output_type": "stream",
          "name": "stdout",
          "text": [
            "fatal: destination path 'INF8250AE-MARL-NOTEBOOK' already exists and is not an empty directory.\n",
            "Requirement already satisfied: PettingZoo>=1.24.0 in /usr/local/lib/python3.10/dist-packages (from PettingZoo[butterfly,classic]>=1.24.0->-r INF8250AE-MARL-NOTEBOOK/requirements.txt (line 1)) (1.24.3)\n",
            "Requirement already satisfied: Pillow>=9.4.0 in /usr/local/lib/python3.10/dist-packages (from -r INF8250AE-MARL-NOTEBOOK/requirements.txt (line 2)) (11.0.0)\n",
            "Requirement already satisfied: ray==2.7.0 in /usr/local/lib/python3.10/dist-packages (from ray[rllib]==2.7.0->-r INF8250AE-MARL-NOTEBOOK/requirements.txt (line 3)) (2.7.0)\n",
            "Requirement already satisfied: SuperSuit>=3.9.0 in /usr/local/lib/python3.10/dist-packages (from -r INF8250AE-MARL-NOTEBOOK/requirements.txt (line 4)) (3.9.3)\n",
            "Requirement already satisfied: torch>=1.13.1 in /usr/local/lib/python3.10/dist-packages (from -r INF8250AE-MARL-NOTEBOOK/requirements.txt (line 5)) (2.5.1+cu121)\n",
            "Requirement already satisfied: tensorflow-probability>=0.19.0 in /usr/local/lib/python3.10/dist-packages (from -r INF8250AE-MARL-NOTEBOOK/requirements.txt (line 6)) (0.24.0)\n",
            "Requirement already satisfied: click>=7.0 in /usr/local/lib/python3.10/dist-packages (from ray==2.7.0->ray[rllib]==2.7.0->-r INF8250AE-MARL-NOTEBOOK/requirements.txt (line 3)) (8.1.7)\n",
            "Requirement already satisfied: filelock in /usr/local/lib/python3.10/dist-packages (from ray==2.7.0->ray[rllib]==2.7.0->-r INF8250AE-MARL-NOTEBOOK/requirements.txt (line 3)) (3.16.1)\n",
            "Requirement already satisfied: jsonschema in /usr/local/lib/python3.10/dist-packages (from ray==2.7.0->ray[rllib]==2.7.0->-r INF8250AE-MARL-NOTEBOOK/requirements.txt (line 3)) (4.23.0)\n",
            "Requirement already satisfied: msgpack<2.0.0,>=1.0.0 in /usr/local/lib/python3.10/dist-packages (from ray==2.7.0->ray[rllib]==2.7.0->-r INF8250AE-MARL-NOTEBOOK/requirements.txt (line 3)) (1.1.0)\n",
            "Requirement already satisfied: packaging in /usr/local/lib/python3.10/dist-packages (from ray==2.7.0->ray[rllib]==2.7.0->-r INF8250AE-MARL-NOTEBOOK/requirements.txt (line 3)) (24.2)\n",
            "Requirement already satisfied: protobuf!=3.19.5,>=3.15.3 in /usr/local/lib/python3.10/dist-packages (from ray==2.7.0->ray[rllib]==2.7.0->-r INF8250AE-MARL-NOTEBOOK/requirements.txt (line 3)) (4.25.5)\n",
            "Requirement already satisfied: pyyaml in /usr/local/lib/python3.10/dist-packages (from ray==2.7.0->ray[rllib]==2.7.0->-r INF8250AE-MARL-NOTEBOOK/requirements.txt (line 3)) (6.0.2)\n",
            "Requirement already satisfied: aiosignal in /usr/local/lib/python3.10/dist-packages (from ray==2.7.0->ray[rllib]==2.7.0->-r INF8250AE-MARL-NOTEBOOK/requirements.txt (line 3)) (1.3.2)\n",
            "Requirement already satisfied: frozenlist in /usr/local/lib/python3.10/dist-packages (from ray==2.7.0->ray[rllib]==2.7.0->-r INF8250AE-MARL-NOTEBOOK/requirements.txt (line 3)) (1.5.0)\n",
            "Requirement already satisfied: requests in /usr/local/lib/python3.10/dist-packages (from ray==2.7.0->ray[rllib]==2.7.0->-r INF8250AE-MARL-NOTEBOOK/requirements.txt (line 3)) (2.32.3)\n",
            "Requirement already satisfied: numpy>=1.19.3 in /usr/local/lib/python3.10/dist-packages (from ray==2.7.0->ray[rllib]==2.7.0->-r INF8250AE-MARL-NOTEBOOK/requirements.txt (line 3)) (1.26.4)\n",
            "Requirement already satisfied: pandas in /usr/local/lib/python3.10/dist-packages (from ray[rllib]==2.7.0->-r INF8250AE-MARL-NOTEBOOK/requirements.txt (line 3)) (2.2.2)\n",
            "Requirement already satisfied: tensorboardX>=1.9 in /usr/local/lib/python3.10/dist-packages (from ray[rllib]==2.7.0->-r INF8250AE-MARL-NOTEBOOK/requirements.txt (line 3)) (2.6.2.2)\n",
            "Requirement already satisfied: pyarrow>=6.0.1 in /usr/local/lib/python3.10/dist-packages (from ray[rllib]==2.7.0->-r INF8250AE-MARL-NOTEBOOK/requirements.txt (line 3)) (17.0.0)\n",
            "Requirement already satisfied: fsspec in /usr/local/lib/python3.10/dist-packages (from ray[rllib]==2.7.0->-r INF8250AE-MARL-NOTEBOOK/requirements.txt (line 3)) (2024.10.0)\n",
            "Requirement already satisfied: dm-tree in /usr/local/lib/python3.10/dist-packages (from ray[rllib]==2.7.0->-r INF8250AE-MARL-NOTEBOOK/requirements.txt (line 3)) (0.1.8)\n",
            "Requirement already satisfied: gymnasium==0.28.1 in /usr/local/lib/python3.10/dist-packages (from ray[rllib]==2.7.0->-r INF8250AE-MARL-NOTEBOOK/requirements.txt (line 3)) (0.28.1)\n",
            "Requirement already satisfied: lz4 in /usr/local/lib/python3.10/dist-packages (from ray[rllib]==2.7.0->-r INF8250AE-MARL-NOTEBOOK/requirements.txt (line 3)) (4.3.3)\n",
            "Requirement already satisfied: scikit-image in /usr/local/lib/python3.10/dist-packages (from ray[rllib]==2.7.0->-r INF8250AE-MARL-NOTEBOOK/requirements.txt (line 3)) (0.25.0)\n",
            "Requirement already satisfied: scipy in /usr/local/lib/python3.10/dist-packages (from ray[rllib]==2.7.0->-r INF8250AE-MARL-NOTEBOOK/requirements.txt (line 3)) (1.13.1)\n",
            "Requirement already satisfied: typer in /usr/local/lib/python3.10/dist-packages (from ray[rllib]==2.7.0->-r INF8250AE-MARL-NOTEBOOK/requirements.txt (line 3)) (0.15.1)\n",
            "Requirement already satisfied: rich in /usr/local/lib/python3.10/dist-packages (from ray[rllib]==2.7.0->-r INF8250AE-MARL-NOTEBOOK/requirements.txt (line 3)) (13.9.4)\n",
            "Requirement already satisfied: jax-jumpy>=1.0.0 in /usr/local/lib/python3.10/dist-packages (from gymnasium==0.28.1->ray[rllib]==2.7.0->-r INF8250AE-MARL-NOTEBOOK/requirements.txt (line 3)) (1.0.0)\n",
            "Requirement already satisfied: cloudpickle>=1.2.0 in /usr/local/lib/python3.10/dist-packages (from gymnasium==0.28.1->ray[rllib]==2.7.0->-r INF8250AE-MARL-NOTEBOOK/requirements.txt (line 3)) (3.1.0)\n",
            "Requirement already satisfied: typing-extensions>=4.3.0 in /usr/local/lib/python3.10/dist-packages (from gymnasium==0.28.1->ray[rllib]==2.7.0->-r INF8250AE-MARL-NOTEBOOK/requirements.txt (line 3)) (4.12.2)\n",
            "Requirement already satisfied: farama-notifications>=0.0.1 in /usr/local/lib/python3.10/dist-packages (from gymnasium==0.28.1->ray[rllib]==2.7.0->-r INF8250AE-MARL-NOTEBOOK/requirements.txt (line 3)) (0.0.4)\n",
            "Requirement already satisfied: tinyscaler>=1.2.6 in /usr/local/lib/python3.10/dist-packages (from SuperSuit>=3.9.0->-r INF8250AE-MARL-NOTEBOOK/requirements.txt (line 4)) (1.2.8)\n",
            "Requirement already satisfied: networkx in /usr/local/lib/python3.10/dist-packages (from torch>=1.13.1->-r INF8250AE-MARL-NOTEBOOK/requirements.txt (line 5)) (3.4.2)\n",
            "Requirement already satisfied: jinja2 in /usr/local/lib/python3.10/dist-packages (from torch>=1.13.1->-r INF8250AE-MARL-NOTEBOOK/requirements.txt (line 5)) (3.1.4)\n",
            "Requirement already satisfied: sympy==1.13.1 in /usr/local/lib/python3.10/dist-packages (from torch>=1.13.1->-r INF8250AE-MARL-NOTEBOOK/requirements.txt (line 5)) (1.13.1)\n",
            "Requirement already satisfied: mpmath<1.4,>=1.1.0 in /usr/local/lib/python3.10/dist-packages (from sympy==1.13.1->torch>=1.13.1->-r INF8250AE-MARL-NOTEBOOK/requirements.txt (line 5)) (1.3.0)\n",
            "Requirement already satisfied: absl-py in /usr/local/lib/python3.10/dist-packages (from tensorflow-probability>=0.19.0->-r INF8250AE-MARL-NOTEBOOK/requirements.txt (line 6)) (1.4.0)\n",
            "Requirement already satisfied: six>=1.10.0 in /usr/local/lib/python3.10/dist-packages (from tensorflow-probability>=0.19.0->-r INF8250AE-MARL-NOTEBOOK/requirements.txt (line 6)) (1.17.0)\n",
            "Requirement already satisfied: decorator in /usr/local/lib/python3.10/dist-packages (from tensorflow-probability>=0.19.0->-r INF8250AE-MARL-NOTEBOOK/requirements.txt (line 6)) (4.4.2)\n",
            "Requirement already satisfied: gast>=0.3.2 in /usr/local/lib/python3.10/dist-packages (from tensorflow-probability>=0.19.0->-r INF8250AE-MARL-NOTEBOOK/requirements.txt (line 6)) (0.6.0)\n",
            "Requirement already satisfied: pygame==2.3.0 in /usr/local/lib/python3.10/dist-packages (from PettingZoo[butterfly,classic]>=1.24.0->-r INF8250AE-MARL-NOTEBOOK/requirements.txt (line 1)) (2.3.0)\n",
            "Requirement already satisfied: pymunk==6.2.0 in /usr/local/lib/python3.10/dist-packages (from PettingZoo[butterfly,classic]>=1.24.0->-r INF8250AE-MARL-NOTEBOOK/requirements.txt (line 1)) (6.2.0)\n",
            "Requirement already satisfied: chess==1.9.4 in /usr/local/lib/python3.10/dist-packages (from PettingZoo[butterfly,classic]>=1.24.0->-r INF8250AE-MARL-NOTEBOOK/requirements.txt (line 1)) (1.9.4)\n",
            "Requirement already satisfied: rlcard==1.0.5 in /usr/local/lib/python3.10/dist-packages (from PettingZoo[butterfly,classic]>=1.24.0->-r INF8250AE-MARL-NOTEBOOK/requirements.txt (line 1)) (1.0.5)\n",
            "Requirement already satisfied: shimmy>=1.2.0 in /usr/local/lib/python3.10/dist-packages (from shimmy[openspiel]>=1.2.0; extra == \"classic\"->PettingZoo[butterfly,classic]>=1.24.0->-r INF8250AE-MARL-NOTEBOOK/requirements.txt (line 1)) (1.3.0)\n",
            "Requirement already satisfied: cffi>1.14.0 in /usr/local/lib/python3.10/dist-packages (from pymunk==6.2.0->PettingZoo[butterfly,classic]>=1.24.0->-r INF8250AE-MARL-NOTEBOOK/requirements.txt (line 1)) (1.17.1)\n",
            "Requirement already satisfied: termcolor in /usr/local/lib/python3.10/dist-packages (from rlcard==1.0.5->PettingZoo[butterfly,classic]>=1.24.0->-r INF8250AE-MARL-NOTEBOOK/requirements.txt (line 1)) (2.5.0)\n",
            "Requirement already satisfied: open-spiel>=1.2 in /usr/local/lib/python3.10/dist-packages (from shimmy[openspiel]>=1.2.0; extra == \"classic\"->PettingZoo[butterfly,classic]>=1.24.0->-r INF8250AE-MARL-NOTEBOOK/requirements.txt (line 1)) (1.5)\n",
            "Requirement already satisfied: MarkupSafe>=2.0 in /usr/local/lib/python3.10/dist-packages (from jinja2->torch>=1.13.1->-r INF8250AE-MARL-NOTEBOOK/requirements.txt (line 5)) (3.0.2)\n",
            "Requirement already satisfied: attrs>=22.2.0 in /usr/local/lib/python3.10/dist-packages (from jsonschema->ray==2.7.0->ray[rllib]==2.7.0->-r INF8250AE-MARL-NOTEBOOK/requirements.txt (line 3)) (24.3.0)\n",
            "Requirement already satisfied: jsonschema-specifications>=2023.03.6 in /usr/local/lib/python3.10/dist-packages (from jsonschema->ray==2.7.0->ray[rllib]==2.7.0->-r INF8250AE-MARL-NOTEBOOK/requirements.txt (line 3)) (2024.10.1)\n",
            "Requirement already satisfied: referencing>=0.28.4 in /usr/local/lib/python3.10/dist-packages (from jsonschema->ray==2.7.0->ray[rllib]==2.7.0->-r INF8250AE-MARL-NOTEBOOK/requirements.txt (line 3)) (0.35.1)\n",
            "Requirement already satisfied: rpds-py>=0.7.1 in /usr/local/lib/python3.10/dist-packages (from jsonschema->ray==2.7.0->ray[rllib]==2.7.0->-r INF8250AE-MARL-NOTEBOOK/requirements.txt (line 3)) (0.22.3)\n",
            "Requirement already satisfied: python-dateutil>=2.8.2 in /usr/local/lib/python3.10/dist-packages (from pandas->ray[rllib]==2.7.0->-r INF8250AE-MARL-NOTEBOOK/requirements.txt (line 3)) (2.8.2)\n",
            "Requirement already satisfied: pytz>=2020.1 in /usr/local/lib/python3.10/dist-packages (from pandas->ray[rllib]==2.7.0->-r INF8250AE-MARL-NOTEBOOK/requirements.txt (line 3)) (2024.2)\n",
            "Requirement already satisfied: tzdata>=2022.7 in /usr/local/lib/python3.10/dist-packages (from pandas->ray[rllib]==2.7.0->-r INF8250AE-MARL-NOTEBOOK/requirements.txt (line 3)) (2024.2)\n",
            "Requirement already satisfied: charset-normalizer<4,>=2 in /usr/local/lib/python3.10/dist-packages (from requests->ray==2.7.0->ray[rllib]==2.7.0->-r INF8250AE-MARL-NOTEBOOK/requirements.txt (line 3)) (3.4.0)\n",
            "Requirement already satisfied: idna<4,>=2.5 in /usr/local/lib/python3.10/dist-packages (from requests->ray==2.7.0->ray[rllib]==2.7.0->-r INF8250AE-MARL-NOTEBOOK/requirements.txt (line 3)) (3.10)\n",
            "Requirement already satisfied: urllib3<3,>=1.21.1 in /usr/local/lib/python3.10/dist-packages (from requests->ray==2.7.0->ray[rllib]==2.7.0->-r INF8250AE-MARL-NOTEBOOK/requirements.txt (line 3)) (2.2.3)\n",
            "Requirement already satisfied: certifi>=2017.4.17 in /usr/local/lib/python3.10/dist-packages (from requests->ray==2.7.0->ray[rllib]==2.7.0->-r INF8250AE-MARL-NOTEBOOK/requirements.txt (line 3)) (2024.12.14)\n",
            "Requirement already satisfied: markdown-it-py>=2.2.0 in /usr/local/lib/python3.10/dist-packages (from rich->ray[rllib]==2.7.0->-r INF8250AE-MARL-NOTEBOOK/requirements.txt (line 3)) (3.0.0)\n",
            "Requirement already satisfied: pygments<3.0.0,>=2.13.0 in /usr/local/lib/python3.10/dist-packages (from rich->ray[rllib]==2.7.0->-r INF8250AE-MARL-NOTEBOOK/requirements.txt (line 3)) (2.18.0)\n",
            "Requirement already satisfied: imageio!=2.35.0,>=2.33 in /usr/local/lib/python3.10/dist-packages (from scikit-image->ray[rllib]==2.7.0->-r INF8250AE-MARL-NOTEBOOK/requirements.txt (line 3)) (2.36.1)\n",
            "Requirement already satisfied: tifffile>=2022.8.12 in /usr/local/lib/python3.10/dist-packages (from scikit-image->ray[rllib]==2.7.0->-r INF8250AE-MARL-NOTEBOOK/requirements.txt (line 3)) (2024.12.12)\n",
            "Requirement already satisfied: lazy-loader>=0.4 in /usr/local/lib/python3.10/dist-packages (from scikit-image->ray[rllib]==2.7.0->-r INF8250AE-MARL-NOTEBOOK/requirements.txt (line 3)) (0.4)\n",
            "Requirement already satisfied: shellingham>=1.3.0 in /usr/local/lib/python3.10/dist-packages (from typer->ray[rllib]==2.7.0->-r INF8250AE-MARL-NOTEBOOK/requirements.txt (line 3)) (1.5.4)\n",
            "Requirement already satisfied: pycparser in /usr/local/lib/python3.10/dist-packages (from cffi>1.14.0->pymunk==6.2.0->PettingZoo[butterfly,classic]>=1.24.0->-r INF8250AE-MARL-NOTEBOOK/requirements.txt (line 1)) (2.22)\n",
            "Requirement already satisfied: mdurl~=0.1 in /usr/local/lib/python3.10/dist-packages (from markdown-it-py>=2.2.0->rich->ray[rllib]==2.7.0->-r INF8250AE-MARL-NOTEBOOK/requirements.txt (line 3)) (0.1.2)\n",
            "Requirement already satisfied: pip>=20.0.2 in /usr/local/lib/python3.10/dist-packages (from open-spiel>=1.2->shimmy[openspiel]>=1.2.0; extra == \"classic\"->PettingZoo[butterfly,classic]>=1.24.0->-r INF8250AE-MARL-NOTEBOOK/requirements.txt (line 1)) (24.1.2)\n",
            "Requirement already satisfied: ml-collections>=0.1.1 in /usr/local/lib/python3.10/dist-packages (from open-spiel>=1.2->shimmy[openspiel]>=1.2.0; extra == \"classic\"->PettingZoo[butterfly,classic]>=1.24.0->-r INF8250AE-MARL-NOTEBOOK/requirements.txt (line 1)) (1.0.0)\n"
          ]
        }
      ]
    },
    {
      "cell_type": "markdown",
      "source": [
        "# 1. Introduction"
      ],
      "metadata": {
        "id": "4QBMH274HOQi"
      }
    },
    {
      "cell_type": "code",
      "source": [
        "# @title\n",
        "intro_text = \"\"\"\n",
        "<style>\n",
        "    /* Title Styling */\n",
        "      .intro-title {\n",
        "        font-size: 30px;\n",
        "        font-weight: bold;\n",
        "        color: #FF6347;\n",
        "        text-align: center;\n",
        "        text-shadow: 2px 2px 4px rgba(0, 0, 0, 0.3);\n",
        "        animation: fadeIn 2s ease-in-out;\n",
        "    }\n",
        "\n",
        "    /* Text Block Styling */\n",
        "    .intro-text {\n",
        "        font-size: 18px;\n",
        "        line-height: 1.8;\n",
        "        color: #555;\n",
        "        max-width: 800px;\n",
        "        margin: 20px auto;\n",
        "        padding: 25px;\n",
        "        border-radius: 8px;\n",
        "        background: #F5F5F5;\n",
        "        box-shadow: 0 6px 12px rgba(0, 0, 0, 0.1);\n",
        "        transition: transform 0.3s ease, background 0.3s ease;\n",
        "    }\n",
        "\n",
        "    /* Hover effect for the text block */\n",
        "    .intro-text:hover {\n",
        "        transform: scale(1.03);\n",
        "        background: #E0E0E0;\n",
        "        box-shadow: 0 8px 16px rgba(0, 0, 0, 0.15);\n",
        "    }\n",
        "\n",
        "    /* Fade-in effect for title */\n",
        "    @keyframes fadeIn {\n",
        "        from { opacity: 0; }\n",
        "        to { opacity: 1; }\n",
        "    }\n",
        "</style>\n",
        "\n",
        "<h2 class=\"intro-title\">Exploring the Evolution from Single-Agent to Multi-Agent RL</h2>\n",
        "\n",
        "<div class=\"intro-text\">\n",
        "    <p>In this tutorial, we explore the transition from single-agent reinforcement learning (RL) to multi-agent reinforcement learning (MARL). This progression is used for tackling real-world problems where multiple agents must interact, cooperate, or compete in dynamic environments. The challenges introduced by these multi-agent setups, such as coordination, scalability, and non-stationarity require novel approaches to exisiting algorithms. By the end of this tutorial, you will understand the foundational concepts of MARL and how single-agent RL strategies can be extended to multi-agent domains.</p>\n",
        "</div>\n",
        "\"\"\"\n",
        "\n",
        "display(HTML(intro_text))\n"
      ],
      "metadata": {
        "colab": {
          "base_uri": "https://localhost:8080/",
          "height": 408
        },
        "cellView": "form",
        "id": "CARAJFEyTC73",
        "outputId": "be4b77f6-614b-4141-9b26-041c216303fe"
      },
      "execution_count": null,
      "outputs": [
        {
          "output_type": "display_data",
          "data": {
            "text/plain": [
              "<IPython.core.display.HTML object>"
            ],
            "text/html": [
              "\n",
              "<style>\n",
              "    /* Title Styling */\n",
              "      .intro-title {\n",
              "        font-size: 30px;\n",
              "        font-weight: bold;\n",
              "        color: #FF6347;\n",
              "        text-align: center;\n",
              "        text-shadow: 2px 2px 4px rgba(0, 0, 0, 0.3);\n",
              "        animation: fadeIn 2s ease-in-out;\n",
              "    }\n",
              "\n",
              "    /* Text Block Styling */\n",
              "    .intro-text {\n",
              "        font-size: 18px;\n",
              "        line-height: 1.8;\n",
              "        color: #555;\n",
              "        max-width: 800px;\n",
              "        margin: 20px auto;\n",
              "        padding: 25px;\n",
              "        border-radius: 8px;\n",
              "        background: #F5F5F5;\n",
              "        box-shadow: 0 6px 12px rgba(0, 0, 0, 0.1);\n",
              "        transition: transform 0.3s ease, background 0.3s ease;\n",
              "    }\n",
              "\n",
              "    /* Hover effect for the text block */\n",
              "    .intro-text:hover {\n",
              "        transform: scale(1.03);\n",
              "        background: #E0E0E0;\n",
              "        box-shadow: 0 8px 16px rgba(0, 0, 0, 0.15);\n",
              "    }\n",
              "\n",
              "    /* Fade-in effect for title */\n",
              "    @keyframes fadeIn {\n",
              "        from { opacity: 0; }\n",
              "        to { opacity: 1; }\n",
              "    }\n",
              "</style>\n",
              "\n",
              "<h2 class=\"intro-title\">Exploring the Evolution from Single-Agent to Multi-Agent RL</h2>\n",
              "\n",
              "<div class=\"intro-text\">\n",
              "    <p>In this tutorial, we explore the transition from single-agent reinforcement learning (RL) to multi-agent reinforcement learning (MARL). This progression is used for tackling real-world problems where multiple agents must interact, cooperate, or compete in dynamic environments. The challenges introduced by these multi-agent setups, such as coordination, scalability, and non-stationarity require novel approaches to exisiting algorithms. By the end of this tutorial, you will understand the foundational concepts of MARL and how single-agent RL strategies can be extended to multi-agent domains.</p>\n",
              "</div>\n"
            ]
          },
          "metadata": {}
        }
      ]
    },
    {
      "cell_type": "markdown",
      "source": [
        "\n",
        "\n",
        "\n",
        "## Why Extend Single-Agent RL to Multi-Agent RL?\n",
        "\n"
      ],
      "metadata": {
        "id": "tfHAUjMgbORQ"
      }
    },
    {
      "cell_type": "markdown",
      "source": [
        "- **Realistic Modeling**: MARL is more aligned with real-world environments, where multiple agents interact and make decisions based on the actions of others.\n",
        "- **Coordination and Competition**: MARL enables agents to either cooperate (coordination) or compete with each other, which mirrors many real-world scenarios where both dynamics exist.\n",
        "- **Scalability**: MARL systems can scale to handle larger, more complex problems than SARL alone.\n",
        "- **Adaptability**: MARL enables agents to learn and adapt in real-time, responding to changes in their environment or among other agents.\n",
        "- **Real-World Impact**: MARL offer a practical approach to modelling in industries such as robotics, autonomous vehicles, energy systems, and healthcare.\n",
        "\n",
        "Presented below are some real-world examples where MARL is used."
      ],
      "metadata": {
        "id": "qYD8dBhHgc_m"
      }
    },
    {
      "cell_type": "markdown",
      "source": [
        "### Examples"
      ],
      "metadata": {
        "id": "EwRFC2sWD_SF"
      }
    },
    {
      "cell_type": "code",
      "source": [
        "# @title Example\n",
        "import ipywidgets as widgets\n",
        "from IPython.display import display, HTML, Image\n",
        "\n",
        "domains = {\n",
        "    \"Robotics\": {\n",
        "        \"description\": (\n",
        "            \"In collaborative robotics, MARL enables multiple robots to coordinate and \"\n",
        "            \"perform tasks such as exploration, disaster response, or assembly. \"\n",
        "            \"For instance, a team of drones can distribute responsibilities for mapping or delivering supplies \"\n",
        "            \"in disaster-affected areas, dynamically adapting to environmental changes.\"\n",
        "        ),\n",
        "        \"applications\": [\n",
        "            \"- Search and rescue operations\",\n",
        "            \"- Warehouse management\",\n",
        "            \"- Agricultural monitoring\",\n",
        "            \"- Construction automation\",\n",
        "        ],\n",
        "        \"image\": \"https://dp9eps5gd5xd0.cloudfront.net/image-handler/ts/20230831083549/ri/850/src/images/news/ImageForNews_14271_169348534600376.jpg\",\n",
        "        \"references\": [\n",
        "            \"[1] Brown, et al. (2023). 'Swarm Intelligence through Multi-Agent Learning.' Robotics and Autonomous Systems.\",\n",
        "            \"[2] Smith, et al. (2022). 'Cooperative Multi-Robot Task Allocation.' Science Robotics.\"\n",
        "        ]\n",
        "    },\n",
        "    \"Autonomous Vehicles\": {\n",
        "        \"description\": (\n",
        "            \"In autonomous driving, MARL enables multiple vehicles to learn cooperative behaviors \"\n",
        "            \"such as merging lanes, optimizing traffic flow, or preventing collisions. \"\n",
        "            \"For example, cars at a busy intersection can learn to prioritize movements without centralized traffic control.\"\n",
        "        ),\n",
        "        \"applications\": [\n",
        "            \"- Intersection management\",\n",
        "            \"- Lane merging coordination\",\n",
        "            \"- Platoon formation\",\n",
        "            \"- Collision avoidance\"\n",
        "        ],\n",
        "        \"image\": \"https://i.giphy.com/media/v1.Y2lkPTc5MGI3NjExdm9keGxsZjRkd2VpOGN4eG1sZzNuaTN2N3N6cWRyZThxdjJveWdmYiZlcD12MV9pbnRlcm5hbF9naWZfYnlfaWQmY3Q9Zw/H7rpSYHRyYgamxQNqw/giphy.gif\",\n",
        "        \"references\": [\n",
        "            \"[1] Wang, et al. (2023). 'Multi-Agent Reinforcement Learning for Connected Autonomous Vehicles.' IEEE Trans. Intelligent Transportation Systems.\",\n",
        "            \"[2] Chen, et al. (2022). 'Cooperative Multi-Agent Systems for Automated Driving.' Nature Machine Intelligence.\"\n",
        "        ]\n",
        "    },\n",
        "    \"Energy Systems\": {\n",
        "        \"description\": (\n",
        "            \"MARL optimizes decentralized energy systems by coordinating power allocation between \"\n",
        "            \"producers and consumers. For instance, agents representing wind turbines and energy storage units \"\n",
        "            \"can learn to balance supply and demand dynamically, minimizing wastage.\"\n",
        "        ),\n",
        "        \"applications\": [\n",
        "            \"- Demand-response management\",\n",
        "            \"- Distributed energy resource coordination\",\n",
        "            \"- Grid stability maintenance\",\n",
        "            \"- Real-time pricing optimization\"\n",
        "        ],\n",
        "        \"image\": \"https://miro.medium.com/v2/resize:fit:1400/format:webp/0*2GlP-gE7hptc1PeC.gif\",\n",
        "        \"references\": [\n",
        "            \"[1] Zhang, et al. (2023). 'Multi-Agent Deep Reinforcement Learning for Smart Grid Control.' Energy and Buildings.\",\n",
        "            \"[2] Liu, et al. (2022). 'Distributed Energy Management using Multi-Agent Systems.' Applied Energy.\"\n",
        "        ]\n",
        "    },\n",
        "    \"Healthcare\": {\n",
        "        \"description\": (\n",
        "            \"In healthcare, MARL helps allocate resources like ICU beds or optimize medical equipment usage. \"\n",
        "            \"For example, agents can learn to manage patient schedules and equipment dynamically, ensuring that \"\n",
        "            \"emergent needs are prioritized efficiently.\"\n",
        "        ),\n",
        "        \"applications\": [\n",
        "            \"- ICU bed allocation\",\n",
        "            \"- Medical equipment scheduling\",\n",
        "            \"- Emergency resource management\"\n",
        "        ],\n",
        "        \"image\": \"https://standexelectronics.com/wp-content/uploads/HospitalBedSensor.gif\",\n",
        "        \"references\": [\n",
        "            \"[1] Zhao, et al. (2023). 'Multi-Agent Reinforcement Learning for Healthcare Resource Management.' Journal of Medical Systems.\"\n",
        "        ]\n",
        "    }\n",
        "}\n",
        "\n",
        "dropdown = widgets.Dropdown(\n",
        "    options=domains.keys(),\n",
        "    description=\"Domain:\",\n",
        "    value=\"Robotics\"\n",
        ")\n",
        "\n",
        "output = widgets.Output()\n",
        "\n",
        "def update_content(change):\n",
        "    with output:\n",
        "        output.clear_output()\n",
        "        domain = change[\"new\"]\n",
        "        info = domains[domain]\n",
        "\n",
        "        display(HTML(f\"\"\"\n",
        "            <style>\n",
        "                h4 {{ font-size: 22px; font-weight: bold; color: #2E4053; }}\n",
        "                p, li {{ font-size: 16px; line-height: 1.5; color: #4F4F4F; }}\n",
        "                ul {{ margin-left: 20px; }}\n",
        "                button {{\n",
        "                    background-color: #4CAF50;\n",
        "                    color: white;\n",
        "                    padding: 10px;\n",
        "                    border: none;\n",
        "                    cursor: pointer;\n",
        "                }}\n",
        "                button:hover {{ background-color: #45a049; }}\n",
        "            </style>\n",
        "        \"\"\"))\n",
        "\n",
        "        display(HTML(f\"<h4>{domain}</h4><p>{info['description']}</p>\"))\n",
        "        display(HTML(\"<ul>\" + \"\".join([f\"<li>{app}</li>\" for app in info[\"applications\"]]) + \"</ul>\"))\n",
        "        display(Image(url=info[\"image\"], width=400, height=300))\n",
        "\n",
        "        display(HTML(f'<button onclick=\"this.nextElementSibling.style.display=\\'block\\'\">Show References</button><div style=\"display:none;\">'\n",
        "                     + \"<ul>\" + \"\".join([f\"<li>{ref}</li>\" for ref in info[\"references\"]]) + \"</ul></div>\"))\n",
        "\n",
        "dropdown.observe(update_content, names=\"value\")\n",
        "\n",
        "display(dropdown, output)\n"
      ],
      "metadata": {
        "colab": {
          "base_uri": "https://localhost:8080/",
          "height": 49,
          "referenced_widgets": [
            "f0af0f7fc5b04a8ba595ed590a5dcaef",
            "9f4fedd3157f4188b18d792fb9e84334",
            "a61f1b7599934bcabc1da3d9891fbbc5",
            "b1dc8fd29e0f4f3995044125a6977827",
            "12de81c8cdbf4779b495bea3f594e169"
          ]
        },
        "id": "2RqoryhrHl0C",
        "outputId": "b6174248-db20-4886-eecf-7c5518404fa3",
        "cellView": "form"
      },
      "execution_count": null,
      "outputs": [
        {
          "output_type": "display_data",
          "data": {
            "text/plain": [
              "Dropdown(description='Domain:', options=('Robotics', 'Autonomous Vehicles', 'Energy Systems', 'Healthcare'), v…"
            ],
            "application/vnd.jupyter.widget-view+json": {
              "version_major": 2,
              "version_minor": 0,
              "model_id": "f0af0f7fc5b04a8ba595ed590a5dcaef"
            }
          },
          "metadata": {}
        },
        {
          "output_type": "display_data",
          "data": {
            "text/plain": [
              "Output()"
            ],
            "application/vnd.jupyter.widget-view+json": {
              "version_major": 2,
              "version_minor": 0,
              "model_id": "b1dc8fd29e0f4f3995044125a6977827"
            }
          },
          "metadata": {}
        }
      ]
    },
    {
      "cell_type": "code",
      "source": [
        "# @title\n",
        "# Displaying the GIF from the URL\n",
        "gif_url = \"https://upload.wikimedia.org/wikipedia/commons/3/37/Multi_give_way_%284_agents%2C_each_trying_to_reach_a_specific_point%29.gif\"\n",
        "Image(url=gif_url)"
      ],
      "metadata": {
        "colab": {
          "base_uri": "https://localhost:8080/",
          "height": 471
        },
        "id": "StGDJ_AnvllQ",
        "outputId": "c1fcd4b0-82eb-4871-b34a-e426c1b63554",
        "cellView": "form"
      },
      "execution_count": null,
      "outputs": [
        {
          "output_type": "execute_result",
          "data": {
            "text/html": [
              "<img src=\"https://upload.wikimedia.org/wikipedia/commons/3/37/Multi_give_way_%284_agents%2C_each_trying_to_reach_a_specific_point%29.gif\"/>"
            ],
            "text/plain": [
              "<IPython.core.display.Image object>"
            ]
          },
          "metadata": {},
          "execution_count": 9
        }
      ]
    },
    {
      "cell_type": "markdown",
      "source": [
        "\n",
        "\n",
        "---\n",
        "\n",
        "\n",
        "#From Single-Agent to Multi-Agent: Understanding the Fundamental Shift\n",
        "\n",
        "\n",
        "---\n",
        "\n",
        "\n"
      ],
      "metadata": {
        "id": "DB40jyt08LvZ"
      }
    },
    {
      "cell_type": "markdown",
      "source": [
        "\n",
        "In this section, we'll explore the fundamental transition from SARL to MARL. We'll use interactive visualizations to understand why MARL requires a different framework than traditional MDPs."
      ],
      "metadata": {
        "id": "Gf4E1AD-8lMF"
      }
    },
    {
      "cell_type": "markdown",
      "source": [
        "## **Mathematical Foundations: From MDPs to Markov Games**"
      ],
      "metadata": {
        "id": "lv7oLy2s9V9E"
      }
    },
    {
      "cell_type": "markdown",
      "source": [
        "Multi-agent systems model dynamic and nondeterministic environments that solve complex problems. In these situations we are dealing with agents that not only have to learn an optimal behavior or policy, but also have to adapt to new situations, where we assume a changing environment due to the actions of the other agents in the joint state-space.\n",
        "\n",
        "Subsequently, we must move away from MDPs and instead use a Markov Game as the framework for modelling multiple agents. The key difference in Markov Games are"
      ],
      "metadata": {
        "id": "Bj3NP8Hc9eHt"
      }
    },
    {
      "cell_type": "code",
      "source": [
        "# @title SARL vs MARL\n",
        "from IPython.display import HTML, display\n",
        "\n",
        "def display_mathematical_comparison():\n",
        "    mdp_html = \"\"\"\n",
        "    <div style=\"background-color: #f0f0f0; padding: 20px; border-radius: 10px; margin: 10px; width: 48%; box-sizing: border-box; font-size: 18px; transition: transform 0.3s ease;\">\n",
        "        <h3 style=\"font-size: 22px;\">Markov Decision Process (MDP)</h3>\n",
        "        <p>MDP = <span id=\"mdp_eq1\">\\( (S, A, P, R, \\gamma) \\)</span></p>\n",
        "        <ul>\n",
        "            <li><span id=\"mdp_eq2\">\\( S \\): State space</span></li>\n",
        "            <li><span id=\"mdp_eq3\">\\( A \\): Action space</span></li>\n",
        "            <li><span id=\"mdp_eq4\">\\( P: (S, A, S) \\, \\&rarr; \\, [0,1] \\)</span></li>\n",
        "            <li><span id=\"mdp_eq5\">\\( R: (S, A, S) \\, \\&rarr; \\, \\mathbb{R} \\)</span></li>\n",
        "            <li><span id=\"mdp_eq6\">\\( \\gamma \\in [0,1] \\): Discount factor</span></li>\n",
        "        </ul>\n",
        "    </div>\n",
        "    \"\"\"\n",
        "\n",
        "    markov_game_html = \"\"\"\n",
        "    <div style=\"background-color: #e6f3ff; padding: 20px; border-radius: 10px; margin: 10px; width: 48%; box-sizing: border-box; font-size: 18px; transition: transform 0.3s ease;\">\n",
        "        <h3 style=\"font-size: 22px;\">Markov Game</h3>\n",
        "        <p>MG = <span id=\"mg_eq1\">\\( (N, S, \\{A_i\\}_{i=1}^N, P, \\{R_i\\}_{i=1}^N, \\gamma) \\)</span></p>\n",
        "        <ul>\n",
        "            <li><span id=\"mg_eq2\">\\( N \\): Number of agents</span></li>\n",
        "            <li><span id=\"mg_eq3\">\\( S \\): Joint state space</span></li>\n",
        "            <li><span id=\"mg_eq4\">\\( A_i \\): Action space for agent \\( i \\)</span></li>\n",
        "            <li><span id=\"mg_eq5\">\\( P: (S, A_1, \\dots, A_N, S) \\, \\&rarr; \\, [0,1] \\)</span></li>\n",
        "            <li><span id=\"mg_eq6\">\\( R_i: (S, A_1, \\dots, A_N, S) \\, \\&rarr; \\, \\mathbb{R} \\)</span></li>\n",
        "            <li><span id=\"mg_eq7\">\\( \\gamma \\in [0,1] \\): Discount factor</span></li>\n",
        "        </ul>\n",
        "    </div>\n",
        "    \"\"\"\n",
        "\n",
        "    # Add MathJax script to render the math formulas\n",
        "    display(HTML(f\"\"\"\n",
        "    <script type=\"text/javascript\" async\n",
        "      src=\"https://cdnjs.cloudflare.com/ajax/libs/mathjax/2.7.7/MathJax.js?config=TeX-MML-AM_CHTML\">\n",
        "    </script>\n",
        "    <div style=\"display: flex; justify-content: space-between; gap: 20px; flex-wrap: wrap; padding: 20px;\">\n",
        "        {mdp_html}\n",
        "        {markov_game_html}\n",
        "    </div>\n",
        "    <style>\n",
        "        div:hover {{\n",
        "            transform: scale(1.01);\n",
        "            box-shadow: 0 0 15px rgba(0, 0, 0, 0.2);\n",
        "        }}\n",
        "    </style>\n",
        "    \"\"\"))\n",
        "\n",
        "display_mathematical_comparison()\n"
      ],
      "metadata": {
        "colab": {
          "base_uri": "https://localhost:8080/",
          "height": 648
        },
        "cellView": "form",
        "id": "g0mGyHZ-9TLe",
        "outputId": "30b8f7b6-9178-4176-9599-39a18e9ad4b9"
      },
      "execution_count": null,
      "outputs": [
        {
          "output_type": "display_data",
          "data": {
            "text/plain": [
              "<IPython.core.display.HTML object>"
            ],
            "text/html": [
              "\n",
              "    <script type=\"text/javascript\" async\n",
              "      src=\"https://cdnjs.cloudflare.com/ajax/libs/mathjax/2.7.7/MathJax.js?config=TeX-MML-AM_CHTML\">\n",
              "    </script>\n",
              "    <div style=\"display: flex; justify-content: space-between; gap: 20px; flex-wrap: wrap; padding: 20px;\">\n",
              "        \n",
              "    <div style=\"background-color: #f0f0f0; padding: 20px; border-radius: 10px; margin: 10px; width: 48%; box-sizing: border-box; font-size: 18px; transition: transform 0.3s ease;\">\n",
              "        <h3 style=\"font-size: 22px;\">Markov Decision Process (MDP)</h3>\n",
              "        <p>MDP = <span id=\"mdp_eq1\">\\( (S, A, P, R, \\gamma) \\)</span></p>\n",
              "        <ul>\n",
              "            <li><span id=\"mdp_eq2\">\\( S \\): State space</span></li>\n",
              "            <li><span id=\"mdp_eq3\">\\( A \\): Action space</span></li>\n",
              "            <li><span id=\"mdp_eq4\">\\( P: (S, A, S) \\, \\&rarr; \\, [0,1] \\)</span></li>\n",
              "            <li><span id=\"mdp_eq5\">\\( R: (S, A, S) \\, \\&rarr; \\, \\mathbb{R} \\)</span></li>\n",
              "            <li><span id=\"mdp_eq6\">\\( \\gamma \\in [0,1] \\): Discount factor</span></li>\n",
              "        </ul>\n",
              "    </div>\n",
              "    \n",
              "        \n",
              "    <div style=\"background-color: #e6f3ff; padding: 20px; border-radius: 10px; margin: 10px; width: 48%; box-sizing: border-box; font-size: 18px; transition: transform 0.3s ease;\">\n",
              "        <h3 style=\"font-size: 22px;\">Markov Game</h3>\n",
              "        <p>MG = <span id=\"mg_eq1\">\\( (N, S, \\{A_i\\}_{i=1}^N, P, \\{R_i\\}_{i=1}^N, \\gamma) \\)</span></p>\n",
              "        <ul>\n",
              "            <li><span id=\"mg_eq2\">\\( N \\): Number of agents</span></li>\n",
              "            <li><span id=\"mg_eq3\">\\( S \\): Joint state space</span></li>\n",
              "            <li><span id=\"mg_eq4\">\\( A_i \\): Action space for agent \\( i \\)</span></li>\n",
              "            <li><span id=\"mg_eq5\">\\( P: (S, A_1, \\dots, A_N, S) \\, \\&rarr; \\, [0,1] \\)</span></li>\n",
              "            <li><span id=\"mg_eq6\">\\( R_i: (S, A_1, \\dots, A_N, S) \\, \\&rarr; \\, \\mathbb{R} \\)</span></li>\n",
              "            <li><span id=\"mg_eq7\">\\( \\gamma \\in [0,1] \\): Discount factor</span></li>\n",
              "        </ul>\n",
              "    </div>\n",
              "    \n",
              "    </div>\n",
              "    <style>\n",
              "        div:hover {\n",
              "            transform: scale(1.01);\n",
              "            box-shadow: 0 0 15px rgba(0, 0, 0, 0.2);\n",
              "        }\n",
              "    </style>\n",
              "    "
            ]
          },
          "metadata": {}
        }
      ]
    },
    {
      "cell_type": "code",
      "source": [
        "# @title Illustration\n",
        "import matplotlib.pyplot as plt\n",
        "import numpy as np\n",
        "from ipywidgets import interact, widgets\n",
        "\n",
        "def create_environment_comparison(n_agents=2):\n",
        "    fig, (ax1, ax2) = plt.subplots(1, 2, figsize=(15, 6))\n",
        "\n",
        "    ax1.set_title('Single-Agent Environment')\n",
        "    circle = plt.Circle((0.5, 0.5), 0.3, color='b', alpha=0.3)\n",
        "    ax1.add_artist(circle)\n",
        "    ax1.plot(0.5, 0.5, 'b.', markersize=15, label='Agent')\n",
        "    ax1.set_xlim(0, 1)\n",
        "    ax1.set_ylim(0, 1)\n",
        "    ax1.legend()\n",
        "\n",
        "    ax2.set_title('Multi-Agent Environment')\n",
        "    colors = ['b', 'r', 'g', 'm']\n",
        "    markers = ['.', 's', '^', 'o']\n",
        "    for i in range(n_agents):\n",
        "        circle = plt.Circle((0.3 + i*0.2, 0.5), 0.15, color=colors[i], alpha=0.3)\n",
        "        ax2.add_artist(circle)\n",
        "        ax2.plot(0.3 + i*0.2, 0.5, color=colors[i], marker=markers[i],\n",
        "                 markersize=15, label=f'Agent {i+1}')\n",
        "    ax2.set_xlim(0, 1)\n",
        "    ax2.set_ylim(0, 1)\n",
        "    ax2.legend()\n",
        "\n",
        "    plt.tight_layout()\n",
        "    return fig\n",
        "\n",
        "def show_environment_comparison(n_agents):\n",
        "    \"\"\"\n",
        "    Displays the comparison between a single-agent and multi-agent environment.\n",
        "\n",
        "    Args:\n",
        "        n_agents (int): The number of agents in the multi-agent environment.\n",
        "\n",
        "    The function prints the sizes of the state space and action space for both environments\n",
        "    and creates an interactive visualization comparing the environments.\n",
        "    \"\"\"\n",
        "    state_space_single_agent = 5\n",
        "    action_space_single_agent = 4\n",
        "\n",
        "    state_space_multi_agent = state_space_single_agent ** n_agents\n",
        "    action_space_multi_agent = action_space_single_agent ** n_agents\n",
        "\n",
        "    print(f\"Single-Agent Environment (State Space Size: {state_space_single_agent}, Action Space Size: {action_space_single_agent})\")\n",
        "    print(f\"Multi-Agent Environment ({n_agents} Agents) - Joint State Space Size: {state_space_multi_agent}, Joint Action Space Size: {action_space_multi_agent}\")\n",
        "\n",
        "    fig = create_environment_comparison(n_agents)\n",
        "    plt.show()\n",
        "\n",
        "interact(show_environment_comparison, n_agents=widgets.IntSlider(min=2, max=4, step=1, value=2,\n",
        "                                                               description='Number of Agents:',\n",
        "                                                               style={'description_width': 'initial'}))\n"
      ],
      "metadata": {
        "colab": {
          "base_uri": "https://localhost:8080/",
          "height": 710,
          "referenced_widgets": [
            "a80cef5d0a3a4c33a3c91f8208f5bd24",
            "8d6fc09c16b34ec5b1cd7b5dc967ed56",
            "8ac2b6ed0be14735a5f04f3278e0fa9b",
            "a263df7dc8ac4a8eaaa69b167d77304c",
            "52232a7c15b84057b40ad6a1b2eb82ce",
            "03da360f5e23499f8879aee0cc7380cd",
            "44a4f41e4d0b4fcc83b6c523f07713bd"
          ]
        },
        "id": "zxzQmtZkwBBg",
        "outputId": "2cbd5ea4-0bbf-494e-cd0e-efed7a63369f"
      },
      "execution_count": null,
      "outputs": [
        {
          "output_type": "display_data",
          "data": {
            "text/plain": [
              "interactive(children=(IntSlider(value=2, description='Number of Agents:', max=4, min=2, style=SliderStyle(desc…"
            ],
            "application/vnd.jupyter.widget-view+json": {
              "version_major": 2,
              "version_minor": 0,
              "model_id": "a80cef5d0a3a4c33a3c91f8208f5bd24"
            }
          },
          "metadata": {}
        },
        {
          "output_type": "execute_result",
          "data": {
            "text/plain": [
              "<function __main__.show_environment_comparison(n_agents)>"
            ],
            "text/html": [
              "<div style=\"max-width:800px; border: 1px solid var(--colab-border-color);\"><style>\n",
              "      pre.function-repr-contents {\n",
              "        overflow-x: auto;\n",
              "        padding: 8px 12px;\n",
              "        max-height: 500px;\n",
              "      }\n",
              "\n",
              "      pre.function-repr-contents.function-repr-contents-collapsed {\n",
              "        cursor: pointer;\n",
              "        max-height: 100px;\n",
              "      }\n",
              "    </style>\n",
              "    <pre style=\"white-space: initial; background:\n",
              "         var(--colab-secondary-surface-color); padding: 8px 12px;\n",
              "         border-bottom: 1px solid var(--colab-border-color);\"><b>show_environment_comparison</b><br/>def show_environment_comparison(n_agents)</pre><pre class=\"function-repr-contents function-repr-contents-collapsed\" style=\"\"><a class=\"filepath\" style=\"display:none\" href=\"#\">/content/&lt;ipython-input-1-45bd1f15460d&gt;</a>Displays the comparison between a single-agent and multi-agent environment.\n",
              "\n",
              "Args:\n",
              "    n_agents (int): The number of agents in the multi-agent environment.\n",
              "\n",
              "The function prints the sizes of the state space and action space for both environments\n",
              "and creates an interactive visualization comparing the environments.</pre></div>"
            ]
          },
          "metadata": {},
          "execution_count": 1
        }
      ]
    },
    {
      "cell_type": "markdown",
      "source": [
        "#### Conclusion on the Evolution of State Space and Action Space\n",
        "\n",
        "- **Single-Agent Environment**:\n",
        "  - State space: $S$\n",
        "  - Action space: $A$\n",
        "\n",
        "- **Multi-Agent Environment ($N$ agents)**:\n",
        "  - **Joint State Space**: $S_{\\text{joint}} = S^N$  \n",
        "    The state space grows **exponentially** with the number of agents, as it represents all possible combinations of states for $N$ agents.\n",
        "  - **Joint Action Space**: $A_{\\text{joint}} = A^N$  \n",
        "    Similarly, the action space grows **exponentially**, reflecting all possible combinations of actions taken by $N$ agents simultaneously.\n",
        "\n",
        "---\n",
        "\n",
        "#### Implications\n",
        "- The **exponential growth** of state and action spaces with $N$ agents leads to significant computational challenges in modeling and solving multi-agent environments.\n",
        "- Addressing this complexity often requires:\n",
        "  - Efficient representations of the state and action spaces.\n",
        "  - **Decentralized strategies** to reduce the dimensionality of the problem.\n",
        "  - Utilizing approximations or hierarchical methods in reinforcement learning.\n"
      ],
      "metadata": {
        "id": "aaZ99kj5JWAP"
      }
    },
    {
      "cell_type": "markdown",
      "source": [
        "### Types of MARL\n"
      ],
      "metadata": {
        "id": "GIoB3hTyQovn"
      }
    },
    {
      "cell_type": "markdown",
      "source": [
        "\n",
        "MARL involves multiple agents interacting in a shared environment. The agents’ behaviors depend on their own actions as well as the actions of others. The main types of MARL are as follows:\n",
        "\n",
        "- **Competitive MARL**:\n",
        "  - Agents compete against each other.\n",
        "  - The reward for each agent is typically inversely related to the rewards of others, meaning that one agent’s gain comes at the expense of another’s loss.\n",
        "  \n",
        "  Mathematically, the reward for agent $i$ is:\n",
        "  $\n",
        "  R_i(s, a_1, a_2, \\dots, a_N)\n",
        "  $\n",
        "  where $s$ is the state and $a_1, a_2, \\dots, a_N$ are the actions of all agents.\n",
        "\n",
        "- **Cooperative MARL**:\n",
        "  - All agents share a common goal and work together to maximize the total reward.\n",
        "  - The reward is the same for all agents in a given state-action pair.\n",
        "\n",
        "  $\n",
        "  R_i(s, a_1, a_2, \\dots, a_N) = R(s, a_1, a_2, \\dots, a_N)\n",
        "  $\n",
        "  where $R$ is the shared reward across agents.\n",
        "\n",
        "- **Mixed MARL**:\n",
        "  - Mixed MARL combines both competitive and cooperative behaviors.\n",
        "  - Some agents may cooperate for certain tasks, while still competing for individual rewards.\n",
        "  $\n",
        "  R_i(s, a_1, a_2, \\dots, a_N) = R_c(s, a_1, a_2, \\dots, a_N) + R_p(s, a_1, a_2, \\dots, a_N)\n",
        "  $\n",
        "  where $R_c$ is the cooperative component and $R_p$ is the competitive component.\n",
        "\n",
        "### Payoff Matrix\n",
        "\n",
        "A **payoff matrix** represents the outcomes (payoffs) for each agent based on their chosen strategies. It’s a useful tool for analyzing strategic decisions in games.\n",
        "\n",
        "In a two-player game, the matrix is represented as:\n",
        "\n",
        "$$\n",
        "\\begin{array}{|c|c|c|}\n",
        "\\hline\n",
        "& \\text{Player 2: Strategy 1} & \\text{Player 2: Strategy 2} \\\\\n",
        "\\hline\n",
        "\\text{Player 1: Strategy 1} & (R_1, R_2) & (R_3, R_4) \\\\\n",
        "\\hline\n",
        "\\text{Player 1: Strategy 2} & (R_5, R_6) & (R_7, R_8) \\\\\n",
        "\\hline\n",
        "\\end{array}\n",
        "$$\n",
        "\n",
        "\n",
        "Where $(R_1, R_2)$, etc., represent the payoffs for Player 1 and Player 2 based on their strategies.\n",
        "\n",
        "In MARL, the payoff matrix helps analyze how agents' interactions affect outcomes in Competitive, Cooperative, and Mixed settings.\n"
      ],
      "metadata": {
        "id": "bZg0eF-cPVvS"
      }
    },
    {
      "cell_type": "code",
      "source": [
        "# @title Payoff Matrix\n",
        "import matplotlib.pyplot as plt\n",
        "import numpy as np\n",
        "import seaborn as sns\n",
        "from ipywidgets import interact\n",
        "from IPython.display import display, Markdown\n",
        "\n",
        "def create_marl_types_visualization():\n",
        "    competitive = np.array([[1,-1], [-1,1]])\n",
        "    cooperative = np.array([[2,0], [0,2]])\n",
        "    mixed = np.array([[2,-1], [-1,2]])\n",
        "\n",
        "    def plot_payoff_matrix(matrix, title):\n",
        "        fig = plt.figure(figsize=(6, 4))\n",
        "        sns.heatmap(matrix, annot=True, cmap='RdYlBu', center=0)\n",
        "        plt.title(title)\n",
        "        return fig\n",
        "\n",
        "    @interact(marl_type=['Competitive', 'Cooperative', 'Mixed'])\n",
        "    def show_marl_type(marl_type):\n",
        "        if marl_type == 'Competitive':\n",
        "            matrix = competitive\n",
        "            display(Markdown(\"\"\"\n",
        "            Competitive MARL\n",
        "            - Payoff Matrix: A zero-sum game where the total payoff across all players is zero.\n",
        "            - Key Characteristic: One player's gain is another player's loss.\n",
        "            - Example: Two-player games like chess, where players are directly competing.\n",
        "            \"\"\"))\n",
        "        elif marl_type == 'Cooperative':\n",
        "            matrix = cooperative\n",
        "            display(Markdown(\"\"\"\n",
        "            Cooperative MARL\n",
        "            - Payoff Matrix: A shared reward system where all agents work towards maximizing the collective reward.\n",
        "            - Key Characteristic: Agents collaborate to achieve a common goal.\n",
        "            - Example: Robot swarm coordination, where agents cooperate to achieve a common task.\n",
        "            \"\"\"))\n",
        "        else:\n",
        "            matrix = mixed\n",
        "            display(Markdown(\"\"\"\n",
        "            Mixed MARL\n",
        "            - Payoff Matrix: A combination of competitive and cooperative elements.\n",
        "            - Key Characteristic: Agents have partial alignment of goals but may still compete in certain situations.\n",
        "            - Example: Traffic management, where cooperation is needed to optimize the system, but individual vehicles still compete for resources like road space.\n",
        "            \"\"\"))\n",
        "\n",
        "        plot_payoff_matrix(matrix, f'{marl_type} MARL - Payoff Matrix')\n",
        "        plt.show()\n",
        "\n",
        "create_marl_types_visualization()\n"
      ],
      "metadata": {
        "colab": {
          "base_uri": "https://localhost:8080/",
          "height": 492,
          "referenced_widgets": [
            "942eac95c80047a5a8b9d3ca1f2d7d19",
            "6471d636ace342d793963d413f9ae37b",
            "58cd9ca607b64e2495e0314be90f3bd0",
            "c4c189aa72d7413ea28530043af53a7d",
            "a791f2722dc142f18fa565b32a3d8926",
            "e4b3a21060d74d678e44b81f237ea5a9",
            "8d0d458d47da42438d7569b6ff683b57"
          ]
        },
        "cellView": "form",
        "id": "Wpz9gs8I9HP2",
        "outputId": "21a1c75c-a46e-403b-a6f0-1485ee268696"
      },
      "execution_count": null,
      "outputs": [
        {
          "output_type": "display_data",
          "data": {
            "text/plain": [
              "interactive(children=(Dropdown(description='marl_type', options=('Competitive', 'Cooperative', 'Mixed'), value…"
            ],
            "application/vnd.jupyter.widget-view+json": {
              "version_major": 2,
              "version_minor": 0,
              "model_id": "942eac95c80047a5a8b9d3ca1f2d7d19"
            }
          },
          "metadata": {}
        }
      ]
    },
    {
      "cell_type": "markdown",
      "source": [
        "##  **Key Challenges MARL**\n"
      ],
      "metadata": {
        "id": "IOaRB0paXw4A"
      }
    },
    {
      "cell_type": "markdown",
      "source": [
        "MARL introduces unique challenges due to interactions between agents and the environment. Addressing these challenges is essential for building robust multi-agent systems.\n"
      ],
      "metadata": {
        "id": "q8CnTN1FSlnx"
      }
    },
    {
      "cell_type": "markdown",
      "source": [
        "### 🚩 **1. Non-Stationarity**\n"
      ],
      "metadata": {
        "id": "b59ERZSCV5kz"
      }
    },
    {
      "cell_type": "markdown",
      "source": [
        "In MARL, agents interact with each other in a shared environment. A key challenge is **non-stationarity** — the environment changes dynamically as agents adapt their policies. This creates instability and hinders learning.\n",
        "\n",
        "---\n",
        "\n",
        "**The Problem**\n",
        "\n",
        "In a multi-agent setup:  \n",
        "- Each agent's policy affects the environment.  \n",
        "- When one agent updates its policy, the environment effectively changes for all other agents.  \n",
        "- This violates the stationary environment assumption of standard reinforcement learning algorithms.\n",
        "\n",
        "---\n",
        "\n",
        "**Mathematical Formalism**\n",
        "\n",
        "1. **Environment Dynamics**:  \n",
        "   The environment’s state transition depends on all agents' actions:  \n",
        "   $$\n",
        "   P(s_{t+1} | s_t, \\mathbf{a}_t),\n",
        "   $$\n",
        "   where $\\mathbf{a}_t = (a_t^1, a_t^2, \\dots, a_t^N) $ represents all agents' actions.\n",
        "\n",
        "2. **Agent-Specific Rewards**:  \n",
        "   Each agent $i$ learns to maximize its own expected return:  \n",
        "  $$\n",
        "   J^i = \\mathbb{E} \\left[ \\sum_{t=0}^T \\gamma^t r_t^i \\right].\n",
        "   $$\n",
        "   However, $r_t^i $ depends on the joint action $\\mathbf{a}_t $, which changes as other agents update their policies.\n",
        "\n",
        "3. **Non-Stationary Policy Updates**:  \n",
        "   As agent $i$ updates its policy $\\pi^i(a^i | s)$, the effective transition and reward functions observed by other agents become time-dependent:  \n",
        "   $$\n",
        "   P(s_{t+1} | s_t, \\mathbf{a}_t) \\text{ and } r_t^j \\quad \\text{for } j \\neq i.\n",
        "   $$\n",
        "\n",
        "---\n",
        "\n",
        "**Impact of Non-Stationarity**\n",
        "\n",
        "- **Unstable Learning**: Agents cannot converge to optimal policies because their environment (other agents) is constantly changing.  \n",
        "- **Exploration-Exploitation Tradeoff**: It becomes harder to balance exploring new strategies with exploiting known ones.  \n",
        "- **Suboptimal Coordination**: Agents might struggle to form effective strategies due to frequent policy changes by others.\n",
        "\n"
      ],
      "metadata": {
        "id": "HMU6U9cMIEvB"
      }
    },
    {
      "cell_type": "markdown",
      "source": [
        "\n",
        "\n",
        "**Illustration Example**: Non-Stationarity in the \"Multi-Agent Particle Environment\"\n",
        "\n",
        "- **Environment Description**:\n",
        "  - **Agents**: Move on a 2D grid to collect and spread objects.\n",
        "  - **Goal**: The goal is for agents to cooperate and gather objects, maximizing a shared reward.\n",
        "  - **Actions**: Agents can move in four directions (up, down, left, right) and interact with other agents or objects.\n",
        "\n",
        "- **Reward Distribution**:\n",
        "  - In **single-agent** setup: Reward depends on the actions of the single agent, based on how effectively it collects objects.\n",
        "  - In **multi-agent** setup: The reward is shared among all agents based on their collective actions. Agents might hinder or help each other depending on the interactions.\n",
        "\n",
        "- **Key Points**:\n",
        "  - The environment is non-stationary because the actions of multiple agents create dynamic changes in the state.\n",
        "  - No learning or training: We sample random actions and observe how reward fluctuations occur due to non-stationarity.\n"
      ],
      "metadata": {
        "id": "NX89GhpXSqPB"
      }
    },
    {
      "cell_type": "code",
      "source": [
        "# @title Spread\n",
        "import numpy as np\n",
        "import matplotlib.pyplot as plt\n",
        "from pettingzoo.mpe import simple_spread_v3\n",
        "from IPython.display import Image, display\n",
        "import imageio\n",
        "from ipywidgets import interactive\n",
        "\n",
        "def initialize_env(N_agents):\n",
        "    env_single = simple_spread_v3.parallel_env(N=1, render_mode=\"rgb_array\")  # Single-agent setup\n",
        "    env_multi = simple_spread_v3.parallel_env(N=N_agents, render_mode=\"rgb_array\")  # Multi-agent setup\n",
        "    return env_single, env_multi\n",
        "\n",
        "def reset_envs(env_single, env_multi):\n",
        "    observations_single, infos_single = env_single.reset(seed=42)\n",
        "    observations_multi, infos_multi = env_multi.reset(seed=42)\n",
        "    return observations_single, infos_single, observations_multi, infos_multi\n",
        "\n",
        "def save_gif_from_images(images, filename):\n",
        "    \"\"\"Save a sequence of images as a GIF with looping enabled.\"\"\"\n",
        "    imageio.mimsave(filename, images, duration=0.1, loop=0)  # loop=0 ensures the GIF repeats indefinitely\n",
        "\n",
        "def simulate_non_stationarity_with_gif(N_agents, steps=100):\n",
        "    env_single, env_multi = initialize_env(N_agents)\n",
        "    observations_single, infos_single, observations_multi, infos_multi = reset_envs(env_single, env_multi)\n",
        "\n",
        "    rewards_single, rewards_multi = [], []\n",
        "    images_single, images_multi = [], []\n",
        "\n",
        "    for _ in range(steps):\n",
        "        actions_single = {}\n",
        "        actions_multi = {}\n",
        "\n",
        "        for agent in env_single.agents:\n",
        "            actions_single[agent] = env_single.action_space(agent).sample()\n",
        "\n",
        "        images_single.append(env_single.render())\n",
        "\n",
        "        observations, rewards, terminations, truncations, infos = env_single.step(actions_single)\n",
        "        rewards_single.append(sum(rewards.values()))\n",
        "\n",
        "        for agent in env_multi.agents:\n",
        "            actions_multi[agent] = env_multi.action_space(agent).sample()\n",
        "\n",
        "        images_multi.append(env_multi.render())\n",
        "\n",
        "        observations, rewards, terminations, truncations, infos = env_multi.step(actions_multi)\n",
        "        rewards_multi.append(sum(rewards.values()))\n",
        "\n",
        "    return rewards_single, rewards_multi, images_single, images_multi\n",
        "\n",
        "def plot_with_gif(N_agents=2, steps=100):\n",
        "    rewards_single, rewards_multi, images_single, images_multi = simulate_non_stationarity_with_gif(N_agents, steps)\n",
        "\n",
        "    rewards_plot = plt.figure(figsize=(10, 6))\n",
        "    plt.plot(rewards_single, label='Single-Agent Reward', color='blue')\n",
        "    plt.plot(rewards_multi, label=f'Multi-Agent Reward (N={N_agents})', color='red')\n",
        "    plt.title(\"Non-Stationarity: Reward Fluctuations in Single-Agent vs. Multi-Agent Setting\")\n",
        "    plt.xlabel(\"Training Steps\")\n",
        "    plt.ylabel(\"Reward\")\n",
        "    plt.legend()\n",
        "    plt.grid(True)\n",
        "    plt.tight_layout()\n",
        "    plt.show()\n",
        "\n",
        "    save_gif_from_images(images_single, filename='single_agent.gif')\n",
        "    save_gif_from_images(images_multi, filename='multi_agent.gif')\n",
        "\n",
        "    display(Markdown(\"### **Single-Agent Animation**\"))\n",
        "    display(Image(filename=\"single_agent.gif\"))\n",
        "\n",
        "    display(Markdown(f\"### **Multi-Agent Animation (N={N_agents})**\"))\n",
        "    display(Image(filename=\"multi_agent.gif\"))\n",
        "\n",
        "interactive_plot = interactive(plot_with_gif, N_agents=(2, 10, 1), steps=(100, 500, 10))\n",
        "display(interactive_plot)\n"
      ],
      "metadata": {
        "colab": {
          "base_uri": "https://localhost:8080/",
          "height": 1000,
          "referenced_widgets": [
            "21765bc7c6174d5983ac630ce4eab1b3",
            "65f6fa8546214808bed89cba0e6a85a1",
            "068154a398b04e62829c5d1646c531e4",
            "ee9cbdba2e9f4dd4b27738dce3875693",
            "2572a47a5cdf4821892a88763efec644",
            "19adf6de35aa46429b229edcf21bf976",
            "ee838c23e4664d83904d3e235e86e135",
            "209d5253ce5a407e94309ce2eaaa1a1e",
            "587ec97032b94619b40be5ca0d841950",
            "cc8b222158d44f0197131c32510b0af1"
          ]
        },
        "id": "0J8UWx5RaNBO",
        "outputId": "4068931a-3b4c-4e24-8b11-c451015b491a"
      },
      "execution_count": null,
      "outputs": [
        {
          "output_type": "display_data",
          "data": {
            "text/plain": [
              "interactive(children=(IntSlider(value=2, description='N_agents', max=10, min=2), IntSlider(value=100, descript…"
            ],
            "application/vnd.jupyter.widget-view+json": {
              "version_major": 2,
              "version_minor": 0,
              "model_id": "21765bc7c6174d5983ac630ce4eab1b3"
            }
          },
          "metadata": {}
        }
      ]
    },
    {
      "cell_type": "markdown",
      "source": [
        "### 📊 3. **Credit Assignment**"
      ],
      "metadata": {
        "id": "6jfwNGmSETbl"
      }
    },
    {
      "cell_type": "markdown",
      "source": [
        "\n",
        "Agents work together to maximize a global reward. A key challenge is **credit assignment** — determining how much each agent contributes to the team’s success or failure. Without proper credit assignment, agents may struggle to learn effective policies.\n",
        "\n",
        "---\n",
        "\n",
        "**The Problem**\n",
        "\n",
        "- **Joint Reward**: Agents receive a shared reward $r_t$, making it unclear which agent's actions led to the outcome.  \n",
        "- **Delayed Rewards**: Rewards might not occur immediately, making it harder to link actions to results.  \n",
        "\n",
        "The goal is to distribute the joint reward among agents such that each learns its contribution to the global outcome.\n",
        "\n",
        "---\n",
        "\n",
        "**Mathematical Formalism**\n",
        "\n",
        "1. **Global Objective**:\n",
        "   Maximize the total discounted reward:\n",
        "   $$\n",
        "   J = \\mathbb{E} \\left[ \\sum_{t=0}^T \\gamma^t r_t \\right],\\quad  \\text{where \\( \\gamma \\) is the discount factor.}\n",
        "   $$\n",
        "   \n",
        "\n",
        "2. **Credit Decomposition**:\n",
        "   Decompose $r_t $ into individual contributions  $c_t^i$ for $N$ agents:\n",
        "   $$\n",
        "   r_t = \\sum_{i=1}^N c_t^i.\n",
        "   $$\n",
        "\n",
        "3. **Advantage Function** (for Temporal Credit):\n",
        "   Use the advantage function to estimate an agent's impact:\n",
        "   $$\n",
        "   A_t^i = Q(s_t, a_t^i) - V(s_t),\n",
        "   $$\n",
        "   where $ Q(s_t, a_t^i) $ evaluates action $ a_t^i $, and $V(s_t) $ evaluates the state $s_t$.\n",
        "\n",
        "---\n",
        "\n",
        "**Approaches to Credit Assignment**\n",
        "\n",
        "1. **Implicit Credit Assignment**:\n",
        "   - Use joint rewards to train all agents collectively.\n",
        "   - Example: Value Decomposition Networks (VDN) decompose the joint value:\n",
        "     $$\n",
        "     Q(\\mathbf{s}, \\mathbf{a}) = \\sum_{i=1}^N Q^i(s_t, a_t^i).\n",
        "     $$\n",
        "\n",
        "2. **Explicit Credit Assignment**:\n",
        "   - Use techniques like **Shapley values** to allocate rewards based on marginal contributions:\n",
        "     $$\n",
        "     \\phi^i = \\sum_{S \\subseteq N \\setminus \\{i\\}} \\frac{|S|! (N - |S| - 1)!}{N!} \\left[ f(S \\cup \\{i\\}) - f(S) \\right].\n",
        "     $$\n",
        "   - Provides fairness but is computationally expensive.\n",
        "---\n"
      ],
      "metadata": {
        "id": "0C5iLj5s5six"
      }
    },
    {
      "cell_type": "markdown",
      "source": [
        "### 🔍 **4. Partial Observability**  \n",
        "\n",
        "Agents in MARL often lack access to the full global state, relying on partial observations, which poses significant challenges for coordination and learning.  \n",
        "\n",
        "---\n",
        "\n",
        "**The Problem**  \n",
        "\n",
        "1. **Limited Observations**: Each agent $i$ observes only a part of the environment:  \n",
        "   $$o_t^i = \\mathcal{O}^i(s_t),$$  \n",
        "   where $s_t$ is the true global state, and $\\mathcal{O}^i$ is the observation function of agent $i$.  \n",
        "\n",
        "2. **Decentralized Policies**: Agents act independently based on local observations:  \n",
        "   $$a_t^i = \\pi^i(o_t^i),$$  \n",
        "   which may lead to suboptimal joint behavior.  \n",
        "\n",
        "3. **Non-Markovian Observations**: The partial observation $o_t^i$ may not contain enough information to make decisions Markovian.  \n",
        "\n",
        "---\n",
        "\n",
        "**Challenges**  \n",
        "\n",
        "1. **Coordination Under Uncertainty**: Incomplete or inconsistent information hinders agents' ability to work together.  \n",
        "2. **Hidden States**: Critical environment or agent states are unobservable, leading to poorly informed decisions.  \n",
        "3. **Delayed Effects**: Observations may not immediately reflect the consequences of an action.  \n",
        "\n",
        "---\n"
      ],
      "metadata": {
        "id": "tM0qXQWALjFK"
      }
    },
    {
      "cell_type": "markdown",
      "source": [
        "### 📡 2. **Communication**\n"
      ],
      "metadata": {
        "id": "hTEv5AnY4MMg"
      }
    },
    {
      "cell_type": "markdown",
      "source": [
        "Agents work together to achieve common goals. A key challenge is **communication** — how do agents share information when they can't directly observe each other's states or intentions? Efficient communication is critical for coordinating actions, but poor communication strategies can reduce performance.\n",
        "\n",
        "\n",
        "\n",
        "**The Problem**\n",
        "\n",
        "In MARL, agents face three key communication challenges:\n",
        "\n",
        "1. **When to communicate?** Not all decisions require input from other agents, and over-communication can create inefficiencies.\n",
        "2. **What to communicate?** Agents need to decide which information is essential and relevant to share.\n",
        "3. **How to communicate efficiently?** Too much or too little communication can slow down decision-making and consume resources.\n",
        "\n",
        "If communication isn’t handled properly, agents may act independently or inefficiently, reducing the overall performance.\n",
        "\n",
        "---\n",
        "\n",
        " **Types of Communication**\n",
        "\n",
        "1. **Implicit Communication**:\n",
        "   - **Definition**: Agents communicate indirectly through their actions, inferring the intentions of others by observing their behavior.\n",
        "   - **Example**: Agent A moves in a specific direction, and Agent B infers that Agent A is trying to reach a destination.\n",
        "   - **Advantages**: No message overhead.\n",
        "   - **Disadvantages**: Can lead to misunderstandings, especially in complex environments.\n",
        "\n",
        "2. **Explicit Communication**:\n",
        "   - **Definition**: Agents send direct messages to each other to convey information.\n",
        "   - **Example**: Agent A tells Agent B, \"There’s an obstacle ahead, move left.\"\n",
        "   - **Advantages**: Clear coordination.\n",
        "   - **Disadvantages**: Communication overhead and possible complexity in managing messages.\n",
        "\n",
        "---\n",
        "\n",
        "**Potential Solutions to the Communication Challenge**\n",
        "\n",
        "1. **Learning Communication with Deep Reinforcement Learning (DRL)**:\n",
        "   - Agents can learn to develop communication protocols through reinforcement learning. They’re trained to maximize their performance, while also learning to share information in a way that improves coordination.\n",
        "   - **Example**: Agents learn when to signal each other or interpret each other’s actions without explicit instructions.\n",
        "\n",
        "2. **Targeted Multi-Agent Communication (TARMAC)**:\n",
        "   - Agents use attention mechanisms to decide what and who to communicate with, ensuring that only relevant information is shared. This reduces communication costs and improves coordination.\n",
        "   - **Example**: An agent might only communicate with another agent when an obstacle or important event occurs.\n"
      ],
      "metadata": {
        "id": "7BySW5X32Sit"
      }
    },
    {
      "cell_type": "markdown",
      "source": [
        "\n",
        "\n",
        "---\n",
        "\n",
        "# **Algorithmic Solutions**\n",
        "\n",
        "---\n",
        "\n"
      ],
      "metadata": {
        "id": "GRNaBf2CK2K0"
      }
    },
    {
      "cell_type": "markdown",
      "source": [
        "## **Centralized Training with Decentralized Execution**\n"
      ],
      "metadata": {
        "id": "GGpcHeGBjiB9"
      }
    },
    {
      "cell_type": "markdown",
      "source": [
        "CTDE enables agents to train using global information while executing policies based on local observations. This approach effectively addresses non-stationarity in cooperative settings.\n",
        "\n",
        "**Key Aspects of CTDE:**\n",
        "\n",
        "- **Centralized Training:** Agents learn from global information during training.\n",
        "\n",
        "- **Decentralized Execution:** Agents operate based on local observations during execution.\n",
        "\n",
        "- **Cooperative Focus:** Particularly effective in settings where agents collaborate toward a common goal.\n",
        "\n",
        "To facilitate information sharing during training, CTDE can utilize:\n",
        "\n",
        "1. **Value Function Factorization Methods:** Decompose the joint value function into individual components, enabling cooperative learning while maintaining decentralized execution.\n",
        "\n",
        "2. **Centralized Critic Methods:** Employ a centralized critic during training to evaluate joint actions, providing a unified learning signal that addresses challenges like nonstationarity and credit assignment."
      ],
      "metadata": {
        "id": "b9Ju4UL_jeiQ"
      }
    },
    {
      "cell_type": "markdown",
      "source": [
        "### **🧠1. Policy Gradient Methods**\n",
        "\n",
        "These approaches optimize agents' policies directly through gradient-based techniques, effectively handling large or continuous action spaces.\n",
        "\n",
        "To enhance learning, **centralized critic methods** are employed during training, providing a unified evaluation of joint actions and addressing key challenges:\n",
        "\n",
        "- **Nonstationarity:** Centralized critics offer a stable learning signal, mitigating the nonstationary environment caused by agents' evolving policies.\n",
        "\n",
        "- **Credit Assignment:** They assist in evaluating joint actions, facilitating accurate credit assignment and improving individual agent learning.\n",
        "\n",
        "- **Sample Efficiency:** By leveraging global information, centralized critics lead to more efficient learning and faster convergence compared to decentralized approaches.\n",
        "\n",
        "Incorporating centralized critics enhances coordination and performance in cooperative multi-agent settings.\n",
        "#### 🧠🤝 1.1. Multi-Agent Deep Deterministic Policy Gradient (MADDPG)\n",
        "\n",
        "MADDPG extends the Deep Deterministic Policy Gradient (DDPG) algorithm to multi-agent environments by incorporating a centralized critic for each agent, which considers the actions and observations of all agents during training. This centralized training with decentralized execution (CTDE) framework enables agents to learn coordinated behaviors while acting based on their local observations during execution.\n",
        "\n",
        "**Update Formulas:**\n",
        "\n",
        "- **Critic Update:**\n",
        "\n",
        "  The critic for agent $i$ is updated by minimizing the loss function:\n",
        "\n",
        "  $$\n",
        "  \\mathcal{L}_i(\\theta_i) = \\mathbb{E} \\left[ \\left( Q_i(s_t, a_1, a_2, \\ldots, a_N; \\theta_i) - y_t \\right)^2 \\right]\n",
        "  $$\n",
        "\n",
        "  Where:\n",
        "  - $y_t = r_i + \\gamma \\, Q_i(s_{t+1}, a_1', a_2', \\ldots, a_N'; \\theta_i^-)$ is the target value.\n",
        "  - $a_j'$ represents the action taken by agent $j$ at the next time step, determined by its policy $\\pi_j$.\n",
        "  - $\\theta_i^-$ are the parameters of the target critic network for agent $i$.\n",
        "\n",
        "- **Actor Update:**\n",
        "\n",
        "  The actor for agent $i$ is updated by maximizing the expected return, using the policy gradient:\n",
        "\n",
        "  $$\n",
        "  \\nabla_{\\phi_i} J(\\phi_i) = \\mathbb{E} \\left[ \\nabla_{a_i} Q_i(s_t, a_1, a_2, \\ldots, a_N; \\theta_i) \\cdot \\nabla_{\\phi_i} \\pi_i(o_i; \\phi_i) \\right]\n",
        "  $$\n",
        "\n",
        "  Where:\n",
        "  - $\\pi_i(o_i; \\phi_i)$ is the policy of agent $i$ parameterized by $\\phi_i$, based on its local observation $o_i$.\n",
        "\n",
        "**Comparison with SARL:**\n",
        "\n",
        "In Single-Agent Reinforcement Learning (SARL), an agent learns a policy based solely on its own experiences and observations. In contrast, MADDPG allows each agent to consider the actions and observations of all agents during training through a centralized critic, facilitating coordinated behavior in multi-agent settings.\n",
        "\n",
        "#### 🧠⚖️ 1.2. Counterfactual Multi-Agent Policy Gradients (COMA)\n",
        "\n",
        "COMA is an actor-critic method designed for fully cooperative multi-agent environments. It employs a centralized critic to estimate the Q-value of joint actions and uses a counterfactual baseline to compute the advantage function for each agent, which helps in addressing the credit assignment problem by evaluating an agent's contribution to the team's success.\n",
        "\n",
        "**Update Formulas:**\n",
        "\n",
        "- **Critic Update:**\n",
        "\n",
        "  The critic is updated by minimizing the temporal-difference error:\n",
        "\n",
        "  $$\n",
        "  \\mathcal{L}(\\theta) = \\mathbb{E} \\left[ \\left( Q(s_t, \\mathbf{a}_t; \\theta) - y_t \\right)^2 \\right]\n",
        "  $$\n",
        "\n",
        "  Where:\n",
        "  - $y_t = r_t + \\gamma \\, Q(s_{t+1}, \\mathbf{a}_{t+1}; \\theta^-)$ is the target value.\n",
        "  - $\\mathbf{a}_t$ denotes the joint action of all agents at time $t$.\n",
        "  - $\\theta^-$ are the parameters of the target critic network.\n",
        "\n",
        "- **Actor Update:**\n",
        "\n",
        "  The actor for agent $i$ is updated using the policy gradient, weighted by the counterfactual advantage:\n",
        "\n",
        "  $$\n",
        "  \\nabla_{\\phi_i} J(\\phi_i) = \\mathbb{E} \\left[ \\nabla_{\\phi_i} \\log \\pi_i(a_{i,t} | o_{i,t}; \\phi_i) \\cdot A_i(s_t, \\mathbf{a}_t) \\right]\n",
        "  $$\n",
        "\n",
        "  Where:\n",
        "  - $A_i(s_t, \\mathbf{a}_t) = Q(s_t, \\mathbf{a}_t) - \\sum_{a_i'} \\pi_i(a_i' | o_{i,t}) Q(s_t, (a_i', \\mathbf{a}_{-i,t}))$ is the counterfactual advantage function for agent $i$.\n",
        "  - $\\mathbf{a}_{-i,t}$ represents the actions of all agents except agent $i$ at time $t$.\n",
        "\n",
        "**Comparison with SARL:**\n",
        "\n",
        "In SARL, the agent focuses on optimizing its own policy without considering the interactions with other agents. COMA, however, addresses the multi-agent credit assignment problem by using a centralized critic and counterfactual reasoning, enabling more effective learning in cooperative multi-agent environments.\n",
        "\n",
        "#### 🧠📈 1.3. Multi-Agent Proximal Policy Optimization (MAPPO)\n",
        "\n",
        "MAPPO extends the Proximal Policy Optimization (PPO) algorithm to multi-agent environments, incorporating mechanisms to handle the complexities of multi-agent interactions. It employs a centralized value function during training to improve sample efficiency and stability, while maintaining decentralized execution. :contentReference[oaicite:1]{index=1}\n",
        "\n",
        "**Objective Function:**\n",
        "\n",
        "The objective function for agent $i$ is:\n",
        "\n",
        "$$\n",
        "L_i(\\theta_i) = \\mathbb{E}_t \\left[ \\min \\left( r_t(\\theta_i) \\hat{A}_t, \\text{clip}(r_t(\\theta_i), 1 - \\epsilon, 1 + \\epsilon) \\hat{A}_t \\right) \\right]\n",
        "$$\n",
        "\n",
        "Where:\n",
        "- $r_t(\\theta_i) = \\frac{\\pi_i(a_i | o_i; \\theta_i)}{\\pi_i(a_i | o_i; \\theta_i^{\\text{old}})}$ is the probability ratio between the current and old policies.\n",
        "- $\\hat{A}_t$ is the estimated advantage function.\n",
        "- $\\epsilon$ is the clipping parameter to limit the change in policy updates.\n",
        "\n",
        "**Value Function Update:**\n",
        "\n",
        "The centralized value function is updated by minimizing the loss:\n",
        "\n",
        "$$\n",
        "\\mathcal{L}^V(\\phi) = \\mathbb{E}_t \\left[ \\left( V(s_t; \\phi) - R_t \\right)^2 \\right]\n",
        "$$\n",
        "#### 🧠🔄 1.4. Multi-Agent Actor-Critic for Mixed Cooperative-Competitive Environments (MAAC)\n",
        "\n",
        "MAAC combines actor-critic methods with attention mechanisms to handle mixed environments. The critic for agent $ i $ is:\n",
        "\n",
        "$$ Q_i(s_t, a_t) = \\mathbb{E}_{a_{-i}} \\left[ r_t + \\gamma V_i(s_{t+1}) \\right] $$\n",
        "\n",
        "Where:\n",
        "- $ a_{-i} $: Actions of all agents except $ i $\n",
        "- $ V_i(s_{t+1}) $: Value function for agent $ i $ at time $ t+1 $\n",
        "\n",
        "**Comparison with SARL:**\n",
        "In SARL, a single actor-critic method is applied to the agent. In MAAC, attention mechanisms are used to handle interactions in mixed cooperative-competitive environments.\n",
        "\n",
        "\n"
      ],
      "metadata": {
        "id": "gfPhfsNPqAID"
      }
    },
    {
      "cell_type": "markdown",
      "source": [
        "### **🧠2. Value Decomposition Methods**\n"
      ],
      "metadata": {
        "id": "3ti1pbp-o6i-"
      }
    },
    {
      "cell_type": "markdown",
      "source": [
        "\n",
        "Value decomposition methods aim to break down the joint value function into individual components, enabling agents to learn cooperative behaviors while maintaining decentralized execution. This decomposition simplifies the complex problem of credit assignment in multi-agent systems, where determining the contribution of each agent to the overall outcome is challenging.\n",
        "\n",
        "\n",
        "#### 🧠💡 2.1. Value Decomposition Networks (VDN)\n",
        "\n",
        "VDN decomposes the joint Q-function into a sum of individual Q-functions:\n",
        "\n",
        "$$ Q_{\\text{joint}}(s_t, \\mathbf{a}_t) = \\sum_{i} Q_i(s_t, a_{i,t}) $$\n",
        "\n",
        "Where:\n",
        "- $ \\mathbf{a}_t $: Joint action at time $ t $\n",
        "- $ Q_{\\text{joint}} $: Joint Q-function\n",
        "- $ Q_i $: Individual Q-function for agent $ i $\n",
        "\n",
        "**Comparison with SARL:**\n",
        "In SARL, a single Q-function is learned for the agent. In VDN, the joint Q-function is decomposed into individual Q-functions, facilitating decentralized learning.\n",
        "\n",
        "#### 🧠🔗 2.2. QMIX\n",
        "\n",
        "QMIX is a monotonic value function factorization method that ensures joint action-value maximization. The joint Q-function is represented as:\n",
        "\n",
        "$$ Q_{\\text{joint}}(s_t, \\mathbf{a}_t) = \\sum_{i} f_i(s_t, a_{i,t}) \\quad \\text{with} \\quad f_i \\text{ being a monotonic function} $$\n",
        "\n",
        "**Comparison with SARL:**\n",
        "In SARL, a single Q-function is learned for the agent. In QMIX, the joint Q-function is factorized into individual components, ensuring that the joint action-value is maximized.\n",
        "\n",
        "#### 🧠⚡ 2.3. QTRAN\n",
        "\n",
        "QTRAN decomposes the joint Q-function into individual Q-functions while maintaining optimality. The decomposition is:\n",
        "\n",
        "$$ Q_{\\text{joint}}(s_t, \\mathbf{a}_t) = \\sum_{i} Q_i(s_t, a_{i,t}) + \\sum_{i,j} \\Delta_{ij}(s_t, a_{i,t}, a_{j,t}) $$\n",
        "\n",
        "Where:\n",
        "- $ \\Delta_{ij} $: Interaction term between agents $ i $ and $ j $\n",
        "\n",
        "**Comparison with SARL:**\n",
        "In SARL, a single Q-function is learned for the agent. In QTRAN, the joint Q-function is decomposed into individual Q-functions with interaction terms, allowing for coordinated learning.\n",
        "\n",
        "\n"
      ],
      "metadata": {
        "id": "j6UMLYcJol24"
      }
    },
    {
      "cell_type": "markdown",
      "source": [
        "##  **Independent Learning Approaches**"
      ],
      "metadata": {
        "id": "COyU1j2RXkGY"
      }
    },
    {
      "cell_type": "markdown",
      "source": [
        " **Independent Learning Approaches** treat each agent as an autonomous learner, applying SARL techniques without explicit coordination. These approaches assume that other agents' policies are fixed, leading each agent to independently optimize its own policy.\n",
        "\n",
        "These independent learning approaches are particularly suited for competitive settings, where agents operate without explicit coordination. However, they may face challenges in cooperative environments due to the lack of shared information and potential for suboptimal outcomes.\n",
        "\n",
        "**Key Aspects of Independent Learning Approaches:**\n",
        "\n",
        "- **Decentralized Learning:** Each agent learns its policy without sharing information or coordinating with other agents.\n",
        "\n",
        "- **Potential for Suboptimal Outcomes:** Without coordination, agents may converge to suboptimal policies, especially in competitive or complex environments.\n",
        "\n",
        "**🧠 1. Independent Q-Learning (IQL)**\n",
        "\n",
        "In IQL, each agent independently learns its own Q-function, assuming other agents' policies remain static. The Q-value update rule for agent $i$ is:\n",
        "\n",
        "$$\n",
        "Q_i(s_t, a_t) \\leftarrow Q_i(s_t, a_t) + \\alpha \\left[ r_t + \\gamma \\max_{a'} Q_i(s_{t+1}, a') - Q_i(s_t, a_t) \\right]\n",
        "$$\n",
        "\n",
        "Where:\n",
        "- $s_t$: State at time $t$\n",
        "- $a_t$: Action taken at time $t$\n",
        "- $r_t$: Reward received at time $t$\n",
        "- $\\gamma$: Discount factor\n",
        "- $\\alpha$: Learning rate\n",
        "\n",
        "**🧠💻 2. Independent Deep Q-Networks (IDQN)**\n",
        "\n",
        "IDQN extends IQL by employing deep neural networks to approximate Q-functions. The update rule mirrors that of IQL, but the Q-function is represented by a neural network $Q_i(s, a; \\theta_i)$, where $\\theta_i$ denotes the network parameters.\n",
        "\n",
        "**🧠🎭 3. Independent Actor-Critic (IAC)**\n",
        "\n",
        "In IAC, each agent maintains its own policy $\\pi_i$ and value function $V_i$, updating them independently. The policy is updated using the policy gradient theorem:\n",
        "\n",
        "$$\n",
        "\\nabla_{\\theta_i} J(\\theta_i) = \\mathbb{E}_{\\tau} \\left[ \\nabla_{\\theta_i} \\log \\pi_i(a_t | s_t; \\theta_i) \\cdot \\delta_t \\right]\n",
        "$$\n",
        "\n",
        "Where:\n",
        "- $\\delta_t = r_t + \\gamma V_i(s_{t+1}) - V_i(s_t)$\n",
        "\n",
        "**🧠📈 4. Independent Proximal Policy Optimization (IPPO)**\n",
        "\n",
        "IPPO involves each agent independently applying Proximal Policy Optimization (PPO) to update its policy. The objective function for agent $i$ is:\n",
        "\n",
        "$$\n",
        "L^{\\text{CLIP}}_i(\\theta_i) = \\mathbb{E}_t \\left[ \\min \\left( r_t(\\theta_i) \\cdot \\hat{A}_t, \\text{clip}(r_t(\\theta_i), 1 - \\epsilon, 1 + \\epsilon) \\cdot \\hat{A}_t \\right) \\right]\n",
        "$$\n",
        "\n",
        "Where:\n",
        "- $r_t(\\theta_i) = \\frac{\\pi_i(a_t | s_t; \\theta_i)}{\\pi_i(a_t | s_t; \\theta_{i,\\text{old}})}$\n",
        "- $\\hat{A}_t$: Estimated advantage at time $t$\n",
        "- $\\epsilon$: Clipping parameter\n",
        "\n",
        "\n",
        "\n"
      ],
      "metadata": {
        "id": "prtXyrbUPK9v"
      }
    },
    {
      "cell_type": "markdown",
      "source": [
        "# Example: Implementing IPPO for pistonball using PettingZoo Gym"
      ],
      "metadata": {
        "id": "1EKJPcKqGSAL"
      }
    },
    {
      "cell_type": "markdown",
      "source": [
        "In this example below, we showcase the use of an IPPO algorithm that is trained to play the Atari game, Pistonball.\n",
        "\n",
        "This is a simple physics based cooperative game where the goal is to move the ball to the left wall of the game border by activating the vertically moving pistons.We can see here this game falls into the cooperative setting, and can alternate between whether the agents act sequentially, know as the Agent Environment Cycle mode or they take decisions in parallel.\n",
        "\n",
        "The agents are rewarded for moving the ball to the left, and incentivized to to it quickly through the use of a time penalty.This is an IPPO implementation, where each agent is treated independently with shared policy weights but no explicit coordination or centralized critic.\n",
        "\n",
        "The hyperparameters that can be played with are the clipping co-efficient, the number of episodes, and the discount rate.\n",
        "\n",
        "This code has been slightly modified from the [documentation](https://pettingzoo.farama.org/tutorials/cleanrl/implementing_PPO/) to enable you to experiment with the hyperparameters in real time. Credit to author [Jet](https://github.com/jjshoots) for the initial implementation."
      ],
      "metadata": {
        "id": "_WYNy8X-TF-H"
      }
    },
    {
      "cell_type": "code",
      "source": [
        "import sys\n",
        "sys.path.append(\"/content/INF8250AE-MARL-NOTEBOOK/PettingZoo_PistonBall\")  # Update with the path to your subfolder\n",
        "from INF8250AE_MARL_NOTEBOOK.PettingZoo_PistonBall.pistonball_mappo import train_policy, render_policy"
      ],
      "metadata": {
        "id": "xKtIOEkaN46V"
      },
      "execution_count": null,
      "outputs": []
    },
    {
      "cell_type": "code",
      "source": [
        "#Use this cell to check if notebook is set to use cpu or gpu.\n",
        "#You can get faster results from the GPU\n",
        "print(\"GPU available:\", torch.cuda.is_available())\n",
        "device = torch.device(\"cuda\" if torch.cuda.is_available() else \"cpu\")\n",
        "print(\"Using device:\", device)"
      ],
      "metadata": {
        "colab": {
          "base_uri": "https://localhost:8080/"
        },
        "id": "ifcGnGT29ix4",
        "outputId": "32bab117-70c0-446d-95de-25175568749c"
      },
      "execution_count": null,
      "outputs": [
        {
          "output_type": "stream",
          "name": "stdout",
          "text": [
            "GPU available: False\n",
            "Using device: cpu\n"
          ]
        }
      ]
    },
    {
      "cell_type": "code",
      "source": [
        "#Select Hyperparamters\n",
        "num_episodes = 10\n",
        "discount_rate = 0.99\n",
        "clipping_coef = 0.1"
      ],
      "metadata": {
        "id": "PXKsk1h2IXZH"
      },
      "execution_count": null,
      "outputs": []
    },
    {
      "cell_type": "code",
      "source": [
        "trained_agent, device = train_policy(num_episodes, discount_rate, clipping_coef)"
      ],
      "metadata": {
        "colab": {
          "base_uri": "https://localhost:8080/"
        },
        "id": "kp9byEEWMzA7",
        "outputId": "21d2c353-91c1-49cc-ce05-968f72dfe860"
      },
      "execution_count": null,
      "outputs": [
        {
          "output_type": "stream",
          "name": "stdout",
          "text": [
            "Beginning Training\n",
            "Training episode 0\n",
            "Episodic Return: 3.1950602531433105\n",
            "Episode Length: 124\n",
            "\n",
            "Value Loss: 2179.3349609375\n",
            "Policy Loss: -60.18209457397461\n",
            "Old Approx KL: 0.0011738017201423645\n",
            "Approx KL: 0.000219002366065979\n",
            "Clip Fraction: 0.09334935897435898\n",
            "Explained Variance: 0.0002155900001525879\n",
            "\n",
            "-------------------------------------------\n",
            "\n",
            "Training episode 1\n",
            "Episodic Return: -17.552001953125\n",
            "Episode Length: 124\n",
            "\n",
            "Value Loss: 110.29312896728516\n",
            "Policy Loss: 14.026472091674805\n",
            "Old Approx KL: 0.016008086502552032\n",
            "Approx KL: 0.0008380264043807983\n",
            "Clip Fraction: 0.026976495726495728\n",
            "Explained Variance: -0.022658467292785645\n",
            "\n",
            "-------------------------------------------\n",
            "\n",
            "Training episode 2\n",
            "Episodic Return: -11.095510482788086\n",
            "Episode Length: 124\n",
            "\n",
            "Value Loss: 3.305964231491089\n",
            "Policy Loss: 2.3861382007598877\n",
            "Old Approx KL: 0.012456834316253662\n",
            "Approx KL: 0.0009219571948051453\n",
            "Clip Fraction: 0.015090811965811966\n",
            "Explained Variance: -0.014058113098144531\n",
            "\n",
            "-------------------------------------------\n",
            "\n",
            "Training episode 3\n",
            "Episodic Return: 35.183109283447266\n",
            "Episode Length: 124\n",
            "\n",
            "Value Loss: 52.99460220336914\n",
            "Policy Loss: -9.264666557312012\n",
            "Old Approx KL: -0.009722486138343811\n",
            "Approx KL: 0.0011461526155471802\n",
            "Clip Fraction: 0.042067307692307696\n",
            "Explained Variance: -0.0014226436614990234\n",
            "\n",
            "-------------------------------------------\n",
            "\n",
            "Training episode 4\n",
            "Episodic Return: -4.411766052246094\n",
            "Episode Length: 124\n",
            "\n",
            "Value Loss: 70.2510757446289\n",
            "Policy Loss: 11.457610130310059\n",
            "Old Approx KL: 0.012877076864242554\n",
            "Approx KL: 0.0008086375892162323\n",
            "Clip Fraction: 0.052884615384615384\n",
            "Explained Variance: -0.006966352462768555\n",
            "\n",
            "-------------------------------------------\n",
            "\n",
            "Training episode 5\n",
            "Episodic Return: 0.9078205227851868\n",
            "Episode Length: 124\n",
            "\n",
            "Value Loss: 5.081242561340332\n",
            "Policy Loss: 1.5387094020843506\n",
            "Old Approx KL: -0.0007409453392028809\n",
            "Approx KL: 5.5283308029174805e-06\n",
            "Clip Fraction: 0.001469017094017094\n",
            "Explained Variance: -0.006469845771789551\n",
            "\n",
            "-------------------------------------------\n",
            "\n",
            "Training episode 6\n",
            "Episodic Return: -10.057470321655273\n",
            "Episode Length: 124\n",
            "\n",
            "Value Loss: 1.570476770401001\n",
            "Policy Loss: -1.5284669399261475\n",
            "Old Approx KL: 0.0017269551753997803\n",
            "Approx KL: 0.0008446164429187775\n",
            "Clip Fraction: 0.015758547008547008\n",
            "Explained Variance: 0.0026122331619262695\n",
            "\n",
            "-------------------------------------------\n",
            "\n",
            "Training episode 7\n",
            "Episodic Return: -14.149190902709961\n",
            "Episode Length: 124\n",
            "\n",
            "Value Loss: 3.4831202030181885\n",
            "Policy Loss: 1.0714467763900757\n",
            "Old Approx KL: 0.011211328208446503\n",
            "Approx KL: 0.0010913237929344177\n",
            "Clip Fraction: 0.03565705128205128\n",
            "Explained Variance: -0.0020672082901000977\n",
            "\n",
            "-------------------------------------------\n",
            "\n",
            "Training episode 8\n",
            "Episodic Return: 10.742465019226074\n",
            "Episode Length: 124\n",
            "\n",
            "Value Loss: 50.57139587402344\n",
            "Policy Loss: -7.559379577636719\n",
            "Old Approx KL: 0.004503585398197174\n",
            "Approx KL: 0.00022042542695999146\n",
            "Clip Fraction: 0.06063034188034188\n",
            "Explained Variance: -0.002429485321044922\n",
            "\n",
            "-------------------------------------------\n",
            "\n",
            "Training episode 9\n",
            "Episodic Return: -5.739442348480225\n",
            "Episode Length: 124\n",
            "\n",
            "Value Loss: 1.990464210510254\n",
            "Policy Loss: 0.13685765862464905\n",
            "Old Approx KL: 0.0054666101932525635\n",
            "Approx KL: 0.0006294101476669312\n",
            "Clip Fraction: 0.00547542735042735\n",
            "Explained Variance: -0.032060861587524414\n",
            "\n",
            "-------------------------------------------\n",
            "\n"
          ]
        }
      ]
    },
    {
      "cell_type": "code",
      "source": [
        "#Produce a gif of the output\n",
        "render_policy(trained_agent, num_episodes, device)"
      ],
      "metadata": {
        "colab": {
          "base_uri": "https://localhost:8080/"
        },
        "id": "DQlGEdIKMywq",
        "outputId": "f8487b6d-3412-4d50-dc7a-d837cd0e6090"
      },
      "execution_count": null,
      "outputs": [
        {
          "output_type": "stream",
          "name": "stdout",
          "text": [
            "Saved GIF to pistonball/pistonball.gif\n"
          ]
        }
      ]
    },
    {
      "cell_type": "code",
      "source": [
        "from IPython.display import Image, display\n",
        "# Display the uploaded GIF\n",
        "display(Image(filename=\"pistonball/pistonball.gif\"))"
      ],
      "metadata": {
        "colab": {
          "base_uri": "https://localhost:8080/",
          "height": 577
        },
        "id": "M7gThkAXRwsF",
        "outputId": "696bd81f-360d-46b4-e607-482eb7022294"
      },
      "execution_count": null,
      "outputs": [
        {
          "output_type": "display_data",
          "data": {
            "image/gif": "[encoded data removed]",
            "text/plain": [
              "<IPython.core.display.Image object>"
            ]
          },
          "metadata": {}
        }
      ]
    }
  ],
  "metadata": {
    "colab": {
      "provenance": [],
      "include_colab_link": true
    },
    "kernelspec": {
      "display_name": "Python 3",
      "name": "python3"
    },
    "widgets": {
      "application/vnd.jupyter.widget-state+json": {
        "f0af0f7fc5b04a8ba595ed590a5dcaef": {
          "model_module": "@jupyter-widgets/controls",
          "model_name": "DropdownModel",
          "model_module_version": "1.5.0",
          "state": {
            "_dom_classes": [],
            "_model_module": "@jupyter-widgets/controls",
            "_model_module_version": "1.5.0",
            "_model_name": "DropdownModel",
            "_options_labels": [
              "Robotics",
              "Autonomous Vehicles",
              "Energy Systems",
              "Healthcare"
            ],
            "_view_count": null,
            "_view_module": "@jupyter-widgets/controls",
            "_view_module_version": "1.5.0",
            "_view_name": "DropdownView",
            "description": "Domain:",
            "description_tooltip": null,
            "disabled": false,
            "index": 0,
            "layout": "IPY_MODEL_9f4fedd3157f4188b18d792fb9e84334",
            "style": "IPY_MODEL_a61f1b7599934bcabc1da3d9891fbbc5"
          }
        },
        "9f4fedd3157f4188b18d792fb9e84334": {
          "model_module": "@jupyter-widgets/base",
          "model_name": "LayoutModel",
          "model_module_version": "1.2.0",
          "state": {
            "_model_module": "@jupyter-widgets/base",
            "_model_module_version": "1.2.0",
            "_model_name": "LayoutModel",
            "_view_count": null,
            "_view_module": "@jupyter-widgets/base",
            "_view_module_version": "1.2.0",
            "_view_name": "LayoutView",
            "align_content": null,
            "align_items": null,
            "align_self": null,
            "border": null,
            "bottom": null,
            "display": null,
            "flex": null,
            "flex_flow": null,
            "grid_area": null,
            "grid_auto_columns": null,
            "grid_auto_flow": null,
            "grid_auto_rows": null,
            "grid_column": null,
            "grid_gap": null,
            "grid_row": null,
            "grid_template_areas": null,
            "grid_template_columns": null,
            "grid_template_rows": null,
            "height": null,
            "justify_content": null,
            "justify_items": null,
            "left": null,
            "margin": null,
            "max_height": null,
            "max_width": null,
            "min_height": null,
            "min_width": null,
            "object_fit": null,
            "object_position": null,
            "order": null,
            "overflow": null,
            "overflow_x": null,
            "overflow_y": null,
            "padding": null,
            "right": null,
            "top": null,
            "visibility": null,
            "width": null
          }
        },
        "a61f1b7599934bcabc1da3d9891fbbc5": {
          "model_module": "@jupyter-widgets/controls",
          "model_name": "DescriptionStyleModel",
          "model_module_version": "1.5.0",
          "state": {
            "_model_module": "@jupyter-widgets/controls",
            "_model_module_version": "1.5.0",
            "_model_name": "DescriptionStyleModel",
            "_view_count": null,
            "_view_module": "@jupyter-widgets/base",
            "_view_module_version": "1.2.0",
            "_view_name": "StyleView",
            "description_width": ""
          }
        },
        "b1dc8fd29e0f4f3995044125a6977827": {
          "model_module": "@jupyter-widgets/output",
          "model_name": "OutputModel",
          "model_module_version": "1.0.0",
          "state": {
            "_dom_classes": [],
            "_model_module": "@jupyter-widgets/output",
            "_model_module_version": "1.0.0",
            "_model_name": "OutputModel",
            "_view_count": null,
            "_view_module": "@jupyter-widgets/output",
            "_view_module_version": "1.0.0",
            "_view_name": "OutputView",
            "layout": "IPY_MODEL_12de81c8cdbf4779b495bea3f594e169",
            "msg_id": "",
            "outputs": []
          }
        },
        "12de81c8cdbf4779b495bea3f594e169": {
          "model_module": "@jupyter-widgets/base",
          "model_name": "LayoutModel",
          "model_module_version": "1.2.0",
          "state": {
            "_model_module": "@jupyter-widgets/base",
            "_model_module_version": "1.2.0",
            "_model_name": "LayoutModel",
            "_view_count": null,
            "_view_module": "@jupyter-widgets/base",
            "_view_module_version": "1.2.0",
            "_view_name": "LayoutView",
            "align_content": null,
            "align_items": null,
            "align_self": null,
            "border": null,
            "bottom": null,
            "display": null,
            "flex": null,
            "flex_flow": null,
            "grid_area": null,
            "grid_auto_columns": null,
            "grid_auto_flow": null,
            "grid_auto_rows": null,
            "grid_column": null,
            "grid_gap": null,
            "grid_row": null,
            "grid_template_areas": null,
            "grid_template_columns": null,
            "grid_template_rows": null,
            "height": null,
            "justify_content": null,
            "justify_items": null,
            "left": null,
            "margin": null,
            "max_height": null,
            "max_width": null,
            "min_height": null,
            "min_width": null,
            "object_fit": null,
            "object_position": null,
            "order": null,
            "overflow": null,
            "overflow_x": null,
            "overflow_y": null,
            "padding": null,
            "right": null,
            "top": null,
            "visibility": null,
            "width": null
          }
        },
        "21765bc7c6174d5983ac630ce4eab1b3": {
          "model_module": "@jupyter-widgets/controls",
          "model_name": "VBoxModel",
          "model_module_version": "1.5.0",
          "state": {
            "_dom_classes": [
              "widget-interact"
            ],
            "_model_module": "@jupyter-widgets/controls",
            "_model_module_version": "1.5.0",
            "_model_name": "VBoxModel",
            "_view_count": null,
            "_view_module": "@jupyter-widgets/controls",
            "_view_module_version": "1.5.0",
            "_view_name": "VBoxView",
            "box_style": "",
            "children": [
              "IPY_MODEL_65f6fa8546214808bed89cba0e6a85a1",
              "IPY_MODEL_068154a398b04e62829c5d1646c531e4",
              "IPY_MODEL_ee9cbdba2e9f4dd4b27738dce3875693"
            ],
            "layout": "IPY_MODEL_2572a47a5cdf4821892a88763efec644"
          }
        },
        "65f6fa8546214808bed89cba0e6a85a1": {
          "model_module": "@jupyter-widgets/controls",
          "model_name": "IntSliderModel",
          "model_module_version": "1.5.0",
          "state": {
            "_dom_classes": [],
            "_model_module": "@jupyter-widgets/controls",
            "_model_module_version": "1.5.0",
            "_model_name": "IntSliderModel",
            "_view_count": null,
            "_view_module": "@jupyter-widgets/controls",
            "_view_module_version": "1.5.0",
            "_view_name": "IntSliderView",
            "continuous_update": true,
            "description": "N_agents",
            "description_tooltip": null,
            "disabled": false,
            "layout": "IPY_MODEL_19adf6de35aa46429b229edcf21bf976",
            "max": 10,
            "min": 2,
            "orientation": "horizontal",
            "readout": true,
            "readout_format": "d",
            "step": 1,
            "style": "IPY_MODEL_ee838c23e4664d83904d3e235e86e135",
            "value": 2
          }
        },
        "068154a398b04e62829c5d1646c531e4": {
          "model_module": "@jupyter-widgets/controls",
          "model_name": "IntSliderModel",
          "model_module_version": "1.5.0",
          "state": {
            "_dom_classes": [],
            "_model_module": "@jupyter-widgets/controls",
            "_model_module_version": "1.5.0",
            "_model_name": "IntSliderModel",
            "_view_count": null,
            "_view_module": "@jupyter-widgets/controls",
            "_view_module_version": "1.5.0",
            "_view_name": "IntSliderView",
            "continuous_update": true,
            "description": "steps",
            "description_tooltip": null,
            "disabled": false,
            "layout": "IPY_MODEL_209d5253ce5a407e94309ce2eaaa1a1e",
            "max": 500,
            "min": 100,
            "orientation": "horizontal",
            "readout": true,
            "readout_format": "d",
            "step": 10,
            "style": "IPY_MODEL_587ec97032b94619b40be5ca0d841950",
            "value": 100
          }
        },
        "ee9cbdba2e9f4dd4b27738dce3875693": {
          "model_module": "@jupyter-widgets/output",
          "model_name": "OutputModel",
          "model_module_version": "1.0.0",
          "state": {
            "_dom_classes": [],
            "_model_module": "@jupyter-widgets/output",
            "_model_module_version": "1.0.0",
            "_model_name": "OutputModel",
            "_view_count": null,
            "_view_module": "@jupyter-widgets/output",
            "_view_module_version": "1.0.0",
            "_view_name": "OutputView",
            "layout": "IPY_MODEL_cc8b222158d44f0197131c32510b0af1",
            "msg_id": "",
            "outputs": [
              {
                "output_type": "display_data",
                "data": {
                  "text/plain": "<Figure size 1000x600 with 1 Axes>",
                  "image/png": "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\n"
                },
                "metadata": {}
              },
              {
                "output_type": "display_data",
                "data": {
                  "text/plain": "<IPython.core.display.Markdown object>",
                  "text/markdown": "### **Single-Agent Animation**"
                },
                "metadata": {}
              },
              {
                "output_type": "display_data",
                "data": {
                  "image/gif": "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\n",
                  "text/plain": "<IPython.core.display.Image object>"
                },
                "metadata": {}
              },
              {
                "output_type": "display_data",
                "data": {
                  "text/plain": "<IPython.core.display.Markdown object>",
                  "text/markdown": "### **Multi-Agent Animation (N=2)**"
                },
                "metadata": {}
              },
              {
                "output_type": "display_data",
                "data": {
                  "image/gif": "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\n",
                  "text/plain": "<IPython.core.display.Image object>"
                },
                "metadata": {}
              }
            ]
          }
        },
        "2572a47a5cdf4821892a88763efec644": {
          "model_module": "@jupyter-widgets/base",
          "model_name": "LayoutModel",
          "model_module_version": "1.2.0",
          "state": {
            "_model_module": "@jupyter-widgets/base",
            "_model_module_version": "1.2.0",
            "_model_name": "LayoutModel",
            "_view_count": null,
            "_view_module": "@jupyter-widgets/base",
            "_view_module_version": "1.2.0",
            "_view_name": "LayoutView",
            "align_content": null,
            "align_items": null,
            "align_self": null,
            "border": null,
            "bottom": null,
            "display": null,
            "flex": null,
            "flex_flow": null,
            "grid_area": null,
            "grid_auto_columns": null,
            "grid_auto_flow": null,
            "grid_auto_rows": null,
            "grid_column": null,
            "grid_gap": null,
            "grid_row": null,
            "grid_template_areas": null,
            "grid_template_columns": null,
            "grid_template_rows": null,
            "height": null,
            "justify_content": null,
            "justify_items": null,
            "left": null,
            "margin": null,
            "max_height": null,
            "max_width": null,
            "min_height": null,
            "min_width": null,
            "object_fit": null,
            "object_position": null,
            "order": null,
            "overflow": null,
            "overflow_x": null,
            "overflow_y": null,
            "padding": null,
            "right": null,
            "top": null,
            "visibility": null,
            "width": null
          }
        },
        "19adf6de35aa46429b229edcf21bf976": {
          "model_module": "@jupyter-widgets/base",
          "model_name": "LayoutModel",
          "model_module_version": "1.2.0",
          "state": {
            "_model_module": "@jupyter-widgets/base",
            "_model_module_version": "1.2.0",
            "_model_name": "LayoutModel",
            "_view_count": null,
            "_view_module": "@jupyter-widgets/base",
            "_view_module_version": "1.2.0",
            "_view_name": "LayoutView",
            "align_content": null,
            "align_items": null,
            "align_self": null,
            "border": null,
            "bottom": null,
            "display": null,
            "flex": null,
            "flex_flow": null,
            "grid_area": null,
            "grid_auto_columns": null,
            "grid_auto_flow": null,
            "grid_auto_rows": null,
            "grid_column": null,
            "grid_gap": null,
            "grid_row": null,
            "grid_template_areas": null,
            "grid_template_columns": null,
            "grid_template_rows": null,
            "height": null,
            "justify_content": null,
            "justify_items": null,
            "left": null,
            "margin": null,
            "max_height": null,
            "max_width": null,
            "min_height": null,
            "min_width": null,
            "object_fit": null,
            "object_position": null,
            "order": null,
            "overflow": null,
            "overflow_x": null,
            "overflow_y": null,
            "padding": null,
            "right": null,
            "top": null,
            "visibility": null,
            "width": null
          }
        },
        "ee838c23e4664d83904d3e235e86e135": {
          "model_module": "@jupyter-widgets/controls",
          "model_name": "SliderStyleModel",
          "model_module_version": "1.5.0",
          "state": {
            "_model_module": "@jupyter-widgets/controls",
            "_model_module_version": "1.5.0",
            "_model_name": "SliderStyleModel",
            "_view_count": null,
            "_view_module": "@jupyter-widgets/base",
            "_view_module_version": "1.2.0",
            "_view_name": "StyleView",
            "description_width": "",
            "handle_color": null
          }
        },
        "209d5253ce5a407e94309ce2eaaa1a1e": {
          "model_module": "@jupyter-widgets/base",
          "model_name": "LayoutModel",
          "model_module_version": "1.2.0",
          "state": {
            "_model_module": "@jupyter-widgets/base",
            "_model_module_version": "1.2.0",
            "_model_name": "LayoutModel",
            "_view_count": null,
            "_view_module": "@jupyter-widgets/base",
            "_view_module_version": "1.2.0",
            "_view_name": "LayoutView",
            "align_content": null,
            "align_items": null,
            "align_self": null,
            "border": null,
            "bottom": null,
            "display": null,
            "flex": null,
            "flex_flow": null,
            "grid_area": null,
            "grid_auto_columns": null,
            "grid_auto_flow": null,
            "grid_auto_rows": null,
            "grid_column": null,
            "grid_gap": null,
            "grid_row": null,
            "grid_template_areas": null,
            "grid_template_columns": null,
            "grid_template_rows": null,
            "height": null,
            "justify_content": null,
            "justify_items": null,
            "left": null,
            "margin": null,
            "max_height": null,
            "max_width": null,
            "min_height": null,
            "min_width": null,
            "object_fit": null,
            "object_position": null,
            "order": null,
            "overflow": null,
            "overflow_x": null,
            "overflow_y": null,
            "padding": null,
            "right": null,
            "top": null,
            "visibility": null,
            "width": null
          }
        },
        "587ec97032b94619b40be5ca0d841950": {
          "model_module": "@jupyter-widgets/controls",
          "model_name": "SliderStyleModel",
          "model_module_version": "1.5.0",
          "state": {
            "_model_module": "@jupyter-widgets/controls",
            "_model_module_version": "1.5.0",
            "_model_name": "SliderStyleModel",
            "_view_count": null,
            "_view_module": "@jupyter-widgets/base",
            "_view_module_version": "1.2.0",
            "_view_name": "StyleView",
            "description_width": "",
            "handle_color": null
          }
        },
        "cc8b222158d44f0197131c32510b0af1": {
          "model_module": "@jupyter-widgets/base",
          "model_name": "LayoutModel",
          "model_module_version": "1.2.0",
          "state": {
            "_model_module": "@jupyter-widgets/base",
            "_model_module_version": "1.2.0",
            "_model_name": "LayoutModel",
            "_view_count": null,
            "_view_module": "@jupyter-widgets/base",
            "_view_module_version": "1.2.0",
            "_view_name": "LayoutView",
            "align_content": null,
            "align_items": null,
            "align_self": null,
            "border": null,
            "bottom": null,
            "display": null,
            "flex": null,
            "flex_flow": null,
            "grid_area": null,
            "grid_auto_columns": null,
            "grid_auto_flow": null,
            "grid_auto_rows": null,
            "grid_column": null,
            "grid_gap": null,
            "grid_row": null,
            "grid_template_areas": null,
            "grid_template_columns": null,
            "grid_template_rows": null,
            "height": null,
            "justify_content": null,
            "justify_items": null,
            "left": null,
            "margin": null,
            "max_height": null,
            "max_width": null,
            "min_height": null,
            "min_width": null,
            "object_fit": null,
            "object_position": null,
            "order": null,
            "overflow": null,
            "overflow_x": null,
            "overflow_y": null,
            "padding": null,
            "right": null,
            "top": null,
            "visibility": null,
            "width": null
          }
        },
        "a80cef5d0a3a4c33a3c91f8208f5bd24": {
          "model_module": "@jupyter-widgets/controls",
          "model_name": "VBoxModel",
          "model_module_version": "1.5.0",
          "state": {
            "_dom_classes": [
              "widget-interact"
            ],
            "_model_module": "@jupyter-widgets/controls",
            "_model_module_version": "1.5.0",
            "_model_name": "VBoxModel",
            "_view_count": null,
            "_view_module": "@jupyter-widgets/controls",
            "_view_module_version": "1.5.0",
            "_view_name": "VBoxView",
            "box_style": "",
            "children": [
              "IPY_MODEL_8d6fc09c16b34ec5b1cd7b5dc967ed56",
              "IPY_MODEL_8ac2b6ed0be14735a5f04f3278e0fa9b"
            ],
            "layout": "IPY_MODEL_a263df7dc8ac4a8eaaa69b167d77304c"
          }
        },
        "8d6fc09c16b34ec5b1cd7b5dc967ed56": {
          "model_module": "@jupyter-widgets/controls",
          "model_name": "IntSliderModel",
          "model_module_version": "1.5.0",
          "state": {
            "_dom_classes": [],
            "_model_module": "@jupyter-widgets/controls",
            "_model_module_version": "1.5.0",
            "_model_name": "IntSliderModel",
            "_view_count": null,
            "_view_module": "@jupyter-widgets/controls",
            "_view_module_version": "1.5.0",
            "_view_name": "IntSliderView",
            "continuous_update": true,
            "description": "Number of Agents:",
            "description_tooltip": null,
            "disabled": false,
            "layout": "IPY_MODEL_52232a7c15b84057b40ad6a1b2eb82ce",
            "max": 4,
            "min": 2,
            "orientation": "horizontal",
            "readout": true,
            "readout_format": "d",
            "step": 1,
            "style": "IPY_MODEL_03da360f5e23499f8879aee0cc7380cd",
            "value": 2
          }
        },
        "8ac2b6ed0be14735a5f04f3278e0fa9b": {
          "model_module": "@jupyter-widgets/output",
          "model_name": "OutputModel",
          "model_module_version": "1.0.0",
          "state": {
            "_dom_classes": [],
            "_model_module": "@jupyter-widgets/output",
            "_model_module_version": "1.0.0",
            "_model_name": "OutputModel",
            "_view_count": null,
            "_view_module": "@jupyter-widgets/output",
            "_view_module_version": "1.0.0",
            "_view_name": "OutputView",
            "layout": "IPY_MODEL_44a4f41e4d0b4fcc83b6c523f07713bd",
            "msg_id": "",
            "outputs": [
              {
                "output_type": "stream",
                "name": "stdout",
                "text": [
                  "Single-Agent Environment (State Space Size: 5, Action Space Size: 4)\n",
                  "Multi-Agent Environment (2 Agents) - Joint State Space Size: 25, Joint Action Space Size: 16\n"
                ]
              },
              {
                "output_type": "display_data",
                "data": {
                  "text/plain": "<Figure size 1500x600 with 2 Axes>",
                  "image/png": "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\n"
                },
                "metadata": {}
              }
            ]
          }
        },
        "a263df7dc8ac4a8eaaa69b167d77304c": {
          "model_module": "@jupyter-widgets/base",
          "model_name": "LayoutModel",
          "model_module_version": "1.2.0",
          "state": {
            "_model_module": "@jupyter-widgets/base",
            "_model_module_version": "1.2.0",
            "_model_name": "LayoutModel",
            "_view_count": null,
            "_view_module": "@jupyter-widgets/base",
            "_view_module_version": "1.2.0",
            "_view_name": "LayoutView",
            "align_content": null,
            "align_items": null,
            "align_self": null,
            "border": null,
            "bottom": null,
            "display": null,
            "flex": null,
            "flex_flow": null,
            "grid_area": null,
            "grid_auto_columns": null,
            "grid_auto_flow": null,
            "grid_auto_rows": null,
            "grid_column": null,
            "grid_gap": null,
            "grid_row": null,
            "grid_template_areas": null,
            "grid_template_columns": null,
            "grid_template_rows": null,
            "height": null,
            "justify_content": null,
            "justify_items": null,
            "left": null,
            "margin": null,
            "max_height": null,
            "max_width": null,
            "min_height": null,
            "min_width": null,
            "object_fit": null,
            "object_position": null,
            "order": null,
            "overflow": null,
            "overflow_x": null,
            "overflow_y": null,
            "padding": null,
            "right": null,
            "top": null,
            "visibility": null,
            "width": null
          }
        },
        "52232a7c15b84057b40ad6a1b2eb82ce": {
          "model_module": "@jupyter-widgets/base",
          "model_name": "LayoutModel",
          "model_module_version": "1.2.0",
          "state": {
            "_model_module": "@jupyter-widgets/base",
            "_model_module_version": "1.2.0",
            "_model_name": "LayoutModel",
            "_view_count": null,
            "_view_module": "@jupyter-widgets/base",
            "_view_module_version": "1.2.0",
            "_view_name": "LayoutView",
            "align_content": null,
            "align_items": null,
            "align_self": null,
            "border": null,
            "bottom": null,
            "display": null,
            "flex": null,
            "flex_flow": null,
            "grid_area": null,
            "grid_auto_columns": null,
            "grid_auto_flow": null,
            "grid_auto_rows": null,
            "grid_column": null,
            "grid_gap": null,
            "grid_row": null,
            "grid_template_areas": null,
            "grid_template_columns": null,
            "grid_template_rows": null,
            "height": null,
            "justify_content": null,
            "justify_items": null,
            "left": null,
            "margin": null,
            "max_height": null,
            "max_width": null,
            "min_height": null,
            "min_width": null,
            "object_fit": null,
            "object_position": null,
            "order": null,
            "overflow": null,
            "overflow_x": null,
            "overflow_y": null,
            "padding": null,
            "right": null,
            "top": null,
            "visibility": null,
            "width": null
          }
        },
        "03da360f5e23499f8879aee0cc7380cd": {
          "model_module": "@jupyter-widgets/controls",
          "model_name": "SliderStyleModel",
          "model_module_version": "1.5.0",
          "state": {
            "_model_module": "@jupyter-widgets/controls",
            "_model_module_version": "1.5.0",
            "_model_name": "SliderStyleModel",
            "_view_count": null,
            "_view_module": "@jupyter-widgets/base",
            "_view_module_version": "1.2.0",
            "_view_name": "StyleView",
            "description_width": "initial",
            "handle_color": null
          }
        },
        "44a4f41e4d0b4fcc83b6c523f07713bd": {
          "model_module": "@jupyter-widgets/base",
          "model_name": "LayoutModel",
          "model_module_version": "1.2.0",
          "state": {
            "_model_module": "@jupyter-widgets/base",
            "_model_module_version": "1.2.0",
            "_model_name": "LayoutModel",
            "_view_count": null,
            "_view_module": "@jupyter-widgets/base",
            "_view_module_version": "1.2.0",
            "_view_name": "LayoutView",
            "align_content": null,
            "align_items": null,
            "align_self": null,
            "border": null,
            "bottom": null,
            "display": null,
            "flex": null,
            "flex_flow": null,
            "grid_area": null,
            "grid_auto_columns": null,
            "grid_auto_flow": null,
            "grid_auto_rows": null,
            "grid_column": null,
            "grid_gap": null,
            "grid_row": null,
            "grid_template_areas": null,
            "grid_template_columns": null,
            "grid_template_rows": null,
            "height": null,
            "justify_content": null,
            "justify_items": null,
            "left": null,
            "margin": null,
            "max_height": null,
            "max_width": null,
            "min_height": null,
            "min_width": null,
            "object_fit": null,
            "object_position": null,
            "order": null,
            "overflow": null,
            "overflow_x": null,
            "overflow_y": null,
            "padding": null,
            "right": null,
            "top": null,
            "visibility": null,
            "width": null
          }
        },
        "942eac95c80047a5a8b9d3ca1f2d7d19": {
          "model_module": "@jupyter-widgets/controls",
          "model_name": "VBoxModel",
          "model_module_version": "1.5.0",
          "state": {
            "_dom_classes": [
              "widget-interact"
            ],
            "_model_module": "@jupyter-widgets/controls",
            "_model_module_version": "1.5.0",
            "_model_name": "VBoxModel",
            "_view_count": null,
            "_view_module": "@jupyter-widgets/controls",
            "_view_module_version": "1.5.0",
            "_view_name": "VBoxView",
            "box_style": "",
            "children": [
              "IPY_MODEL_6471d636ace342d793963d413f9ae37b",
              "IPY_MODEL_58cd9ca607b64e2495e0314be90f3bd0"
            ],
            "layout": "IPY_MODEL_c4c189aa72d7413ea28530043af53a7d"
          }
        },
        "6471d636ace342d793963d413f9ae37b": {
          "model_module": "@jupyter-widgets/controls",
          "model_name": "DropdownModel",
          "model_module_version": "1.5.0",
          "state": {
            "_dom_classes": [],
            "_model_module": "@jupyter-widgets/controls",
            "_model_module_version": "1.5.0",
            "_model_name": "DropdownModel",
            "_options_labels": [
              "Competitive",
              "Cooperative",
              "Mixed"
            ],
            "_view_count": null,
            "_view_module": "@jupyter-widgets/controls",
            "_view_module_version": "1.5.0",
            "_view_name": "DropdownView",
            "description": "marl_type",
            "description_tooltip": null,
            "disabled": false,
            "index": 0,
            "layout": "IPY_MODEL_a791f2722dc142f18fa565b32a3d8926",
            "style": "IPY_MODEL_e4b3a21060d74d678e44b81f237ea5a9"
          }
        },
        "58cd9ca607b64e2495e0314be90f3bd0": {
          "model_module": "@jupyter-widgets/output",
          "model_name": "OutputModel",
          "model_module_version": "1.0.0",
          "state": {
            "_dom_classes": [],
            "_model_module": "@jupyter-widgets/output",
            "_model_module_version": "1.0.0",
            "_model_name": "OutputModel",
            "_view_count": null,
            "_view_module": "@jupyter-widgets/output",
            "_view_module_version": "1.0.0",
            "_view_name": "OutputView",
            "layout": "IPY_MODEL_8d0d458d47da42438d7569b6ff683b57",
            "msg_id": "",
            "outputs": [
              {
                "output_type": "display_data",
                "data": {
                  "text/plain": "<IPython.core.display.Markdown object>",
                  "text/markdown": "\n            Competitive MARL\n            - Payoff Matrix: A zero-sum game where the total payoff across all players is zero.\n            - Key Characteristic: One player's gain is another player's loss.\n            - Example: Two-player games like chess, where players are directly competing.\n            "
                },
                "metadata": {}
              },
              {
                "output_type": "display_data",
                "data": {
                  "text/plain": "<Figure size 600x400 with 2 Axes>",
                  "image/png": "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\n"
                },
                "metadata": {}
              }
            ]
          }
        },
        "c4c189aa72d7413ea28530043af53a7d": {
          "model_module": "@jupyter-widgets/base",
          "model_name": "LayoutModel",
          "model_module_version": "1.2.0",
          "state": {
            "_model_module": "@jupyter-widgets/base",
            "_model_module_version": "1.2.0",
            "_model_name": "LayoutModel",
            "_view_count": null,
            "_view_module": "@jupyter-widgets/base",
            "_view_module_version": "1.2.0",
            "_view_name": "LayoutView",
            "align_content": null,
            "align_items": null,
            "align_self": null,
            "border": null,
            "bottom": null,
            "display": null,
            "flex": null,
            "flex_flow": null,
            "grid_area": null,
            "grid_auto_columns": null,
            "grid_auto_flow": null,
            "grid_auto_rows": null,
            "grid_column": null,
            "grid_gap": null,
            "grid_row": null,
            "grid_template_areas": null,
            "grid_template_columns": null,
            "grid_template_rows": null,
            "height": null,
            "justify_content": null,
            "justify_items": null,
            "left": null,
            "margin": null,
            "max_height": null,
            "max_width": null,
            "min_height": null,
            "min_width": null,
            "object_fit": null,
            "object_position": null,
            "order": null,
            "overflow": null,
            "overflow_x": null,
            "overflow_y": null,
            "padding": null,
            "right": null,
            "top": null,
            "visibility": null,
            "width": null
          }
        },
        "a791f2722dc142f18fa565b32a3d8926": {
          "model_module": "@jupyter-widgets/base",
          "model_name": "LayoutModel",
          "model_module_version": "1.2.0",
          "state": {
            "_model_module": "@jupyter-widgets/base",
            "_model_module_version": "1.2.0",
            "_model_name": "LayoutModel",
            "_view_count": null,
            "_view_module": "@jupyter-widgets/base",
            "_view_module_version": "1.2.0",
            "_view_name": "LayoutView",
            "align_content": null,
            "align_items": null,
            "align_self": null,
            "border": null,
            "bottom": null,
            "display": null,
            "flex": null,
            "flex_flow": null,
            "grid_area": null,
            "grid_auto_columns": null,
            "grid_auto_flow": null,
            "grid_auto_rows": null,
            "grid_column": null,
            "grid_gap": null,
            "grid_row": null,
            "grid_template_areas": null,
            "grid_template_columns": null,
            "grid_template_rows": null,
            "height": null,
            "justify_content": null,
            "justify_items": null,
            "left": null,
            "margin": null,
            "max_height": null,
            "max_width": null,
            "min_height": null,
            "min_width": null,
            "object_fit": null,
            "object_position": null,
            "order": null,
            "overflow": null,
            "overflow_x": null,
            "overflow_y": null,
            "padding": null,
            "right": null,
            "top": null,
            "visibility": null,
            "width": null
          }
        },
        "e4b3a21060d74d678e44b81f237ea5a9": {
          "model_module": "@jupyter-widgets/controls",
          "model_name": "DescriptionStyleModel",
          "model_module_version": "1.5.0",
          "state": {
            "_model_module": "@jupyter-widgets/controls",
            "_model_module_version": "1.5.0",
            "_model_name": "DescriptionStyleModel",
            "_view_count": null,
            "_view_module": "@jupyter-widgets/base",
            "_view_module_version": "1.2.0",
            "_view_name": "StyleView",
            "description_width": ""
          }
        },
        "8d0d458d47da42438d7569b6ff683b57": {
          "model_module": "@jupyter-widgets/base",
          "model_name": "LayoutModel",
          "model_module_version": "1.2.0",
          "state": {
            "_model_module": "@jupyter-widgets/base",
            "_model_module_version": "1.2.0",
            "_model_name": "LayoutModel",
            "_view_count": null,
            "_view_module": "@jupyter-widgets/base",
            "_view_module_version": "1.2.0",
            "_view_name": "LayoutView",
            "align_content": null,
            "align_items": null,
            "align_self": null,
            "border": null,
            "bottom": null,
            "display": null,
            "flex": null,
            "flex_flow": null,
            "grid_area": null,
            "grid_auto_columns": null,
            "grid_auto_flow": null,
            "grid_auto_rows": null,
            "grid_column": null,
            "grid_gap": null,
            "grid_row": null,
            "grid_template_areas": null,
            "grid_template_columns": null,
            "grid_template_rows": null,
            "height": null,
            "justify_content": null,
            "justify_items": null,
            "left": null,
            "margin": null,
            "max_height": null,
            "max_width": null,
            "min_height": null,
            "min_width": null,
            "object_fit": null,
            "object_position": null,
            "order": null,
            "overflow": null,
            "overflow_x": null,
            "overflow_y": null,
            "padding": null,
            "right": null,
            "top": null,
            "visibility": null,
            "width": null
          }
        }
      }
    }
  },
  "nbformat": 4,
  "nbformat_minor": 0
}