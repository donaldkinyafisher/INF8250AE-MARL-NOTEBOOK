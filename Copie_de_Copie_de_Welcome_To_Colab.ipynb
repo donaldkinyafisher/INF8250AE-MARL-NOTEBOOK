{
  "cells": [
    {
      "cell_type": "markdown",
      "metadata": {
        "id": "view-in-github",
        "colab_type": "text"
      },
      "source": [
        "<a href=\"https://colab.research.google.com/github/donaldkinyafisher/INF8250AE-MARL-NOTEBOOK/blob/main/Copie_de_Copie_de_Welcome_To_Colab.ipynb\" target=\"_parent\"><img src=\"https://colab.research.google.com/assets/colab-badge.svg\" alt=\"Open In Colab\"/></a>"
      ]
    },
    {
      "cell_type": "markdown",
      "source": [
        "# Setup, Install and  Import"
      ],
      "metadata": {
        "id": "uJUi-Mh-ItLp"
      }
    },
    {
      "cell_type": "code",
      "source": [
        "!rm -rf INF8250AE_MARL_NOTEBOOK\n",
        "!git clone https://github.com/donaldkinyafisher/INF8250AE-MARL-NOTEBOOK.git"
      ],
      "metadata": {
        "colab": {
          "base_uri": "https://localhost:8080/"
        },
        "outputId": "7f601f96-7b16-4a24-994b-6168d439f751",
        "id": "XTspNhr9SY4q"
      },
      "execution_count": 11,
      "outputs": [
        {
          "output_type": "stream",
          "name": "stdout",
          "text": [
            "fatal: destination path 'INF8250AE-MARL-NOTEBOOK' already exists and is not an empty directory.\n"
          ]
        }
      ]
    },
    {
      "cell_type": "code",
      "source": [
        "\n",
        "# @title Setup Install and Import\n",
        "\n",
        "#Install dependences\n",
        "!pip install -r INF8250AE-MARL-NOTEBOOK/requirements.txt\n",
        "!pip install pettingzoo\n",
        "\n",
        "import numpy as np\n",
        "import matplotlib.pyplot as plt\n",
        "from matplotlib.patches import Circle, Rectangle, Arrow, ConnectionPatch\n",
        "import seaborn as sns\n",
        "from IPython.display import HTML, display, Markdown, Math, Image\n",
        "import ipywidgets as widgets\n",
        "from ipywidgets import interact, interactive, fixed, interact_manual\n",
        "import plotly.graph_objects as go\n",
        "import plotly.express as px\n",
        "import numpy as np\n",
        "import matplotlib.pyplot as plt\n",
        "from pettingzoo.mpe import simple_spread_v3\n",
        "from PIL import Image as PILImage\n",
        "import os\n",
        "import torch"
      ],
      "metadata": {
        "id": "qjWfywJ0JRQa",
        "colab": {
          "base_uri": "https://localhost:8080/"
        },
        "outputId": "8a66ce34-f33b-42c8-a0a2-170fec5007d6"
      },
      "execution_count": 12,
      "outputs": [
        {
          "output_type": "stream",
          "name": "stdout",
          "text": [
            "Requirement already satisfied: PettingZoo>=1.24.0 in /usr/local/lib/python3.10/dist-packages (from PettingZoo[butterfly,classic]>=1.24.0->-r INF8250AE-MARL-NOTEBOOK/requirements.txt (line 1)) (1.24.3)\n",
            "Requirement already satisfied: Pillow>=9.4.0 in /usr/local/lib/python3.10/dist-packages (from -r INF8250AE-MARL-NOTEBOOK/requirements.txt (line 2)) (11.0.0)\n",
            "Collecting ray==2.7.0 (from ray[rllib]==2.7.0->-r INF8250AE-MARL-NOTEBOOK/requirements.txt (line 3))\n",
            "  Using cached ray-2.7.0-cp310-cp310-manylinux2014_x86_64.whl.metadata (13 kB)\n",
            "Collecting SuperSuit>=3.9.0 (from -r INF8250AE-MARL-NOTEBOOK/requirements.txt (line 4))\n",
            "  Using cached SuperSuit-3.9.3-py3-none-any.whl.metadata (3.2 kB)\n",
            "Requirement already satisfied: torch>=1.13.1 in /usr/local/lib/python3.10/dist-packages (from -r INF8250AE-MARL-NOTEBOOK/requirements.txt (line 5)) (2.5.1+cu121)\n",
            "Requirement already satisfied: tensorflow-probability>=0.19.0 in /usr/local/lib/python3.10/dist-packages (from -r INF8250AE-MARL-NOTEBOOK/requirements.txt (line 6)) (0.24.0)\n",
            "Requirement already satisfied: gymnasium in /usr/local/lib/python3.10/dist-packages (from -r INF8250AE-MARL-NOTEBOOK/requirements.txt (line 7)) (1.0.0)\n",
            "Requirement already satisfied: matplotlib in /usr/local/lib/python3.10/dist-packages (from -r INF8250AE-MARL-NOTEBOOK/requirements.txt (line 8)) (3.8.0)\n",
            "Requirement already satisfied: numpy in /usr/local/lib/python3.10/dist-packages (from -r INF8250AE-MARL-NOTEBOOK/requirements.txt (line 9)) (1.26.4)\n",
            "Collecting stable-baselines3 (from -r INF8250AE-MARL-NOTEBOOK/requirements.txt (line 10))\n",
            "  Using cached stable_baselines3-2.4.0-py3-none-any.whl.metadata (4.5 kB)\n",
            "Collecting shimmy>=2.0 (from -r INF8250AE-MARL-NOTEBOOK/requirements.txt (line 11))\n",
            "  Using cached Shimmy-2.0.0-py3-none-any.whl.metadata (3.5 kB)\n",
            "Requirement already satisfied: click>=7.0 in /usr/local/lib/python3.10/dist-packages (from ray==2.7.0->ray[rllib]==2.7.0->-r INF8250AE-MARL-NOTEBOOK/requirements.txt (line 3)) (8.1.7)\n",
            "Requirement already satisfied: filelock in /usr/local/lib/python3.10/dist-packages (from ray==2.7.0->ray[rllib]==2.7.0->-r INF8250AE-MARL-NOTEBOOK/requirements.txt (line 3)) (3.16.1)\n",
            "Requirement already satisfied: jsonschema in /usr/local/lib/python3.10/dist-packages (from ray==2.7.0->ray[rllib]==2.7.0->-r INF8250AE-MARL-NOTEBOOK/requirements.txt (line 3)) (4.23.0)\n",
            "Requirement already satisfied: msgpack<2.0.0,>=1.0.0 in /usr/local/lib/python3.10/dist-packages (from ray==2.7.0->ray[rllib]==2.7.0->-r INF8250AE-MARL-NOTEBOOK/requirements.txt (line 3)) (1.1.0)\n",
            "Requirement already satisfied: packaging in /usr/local/lib/python3.10/dist-packages (from ray==2.7.0->ray[rllib]==2.7.0->-r INF8250AE-MARL-NOTEBOOK/requirements.txt (line 3)) (24.2)\n",
            "Requirement already satisfied: protobuf!=3.19.5,>=3.15.3 in /usr/local/lib/python3.10/dist-packages (from ray==2.7.0->ray[rllib]==2.7.0->-r INF8250AE-MARL-NOTEBOOK/requirements.txt (line 3)) (4.25.5)\n",
            "Requirement already satisfied: pyyaml in /usr/local/lib/python3.10/dist-packages (from ray==2.7.0->ray[rllib]==2.7.0->-r INF8250AE-MARL-NOTEBOOK/requirements.txt (line 3)) (6.0.2)\n",
            "Requirement already satisfied: aiosignal in /usr/local/lib/python3.10/dist-packages (from ray==2.7.0->ray[rllib]==2.7.0->-r INF8250AE-MARL-NOTEBOOK/requirements.txt (line 3)) (1.3.2)\n",
            "Requirement already satisfied: frozenlist in /usr/local/lib/python3.10/dist-packages (from ray==2.7.0->ray[rllib]==2.7.0->-r INF8250AE-MARL-NOTEBOOK/requirements.txt (line 3)) (1.5.0)\n",
            "Requirement already satisfied: requests in /usr/local/lib/python3.10/dist-packages (from ray==2.7.0->ray[rllib]==2.7.0->-r INF8250AE-MARL-NOTEBOOK/requirements.txt (line 3)) (2.32.3)\n",
            "Requirement already satisfied: pandas in /usr/local/lib/python3.10/dist-packages (from ray[rllib]==2.7.0->-r INF8250AE-MARL-NOTEBOOK/requirements.txt (line 3)) (2.2.2)\n",
            "Collecting tensorboardX>=1.9 (from ray[rllib]==2.7.0->-r INF8250AE-MARL-NOTEBOOK/requirements.txt (line 3))\n",
            "  Using cached tensorboardX-2.6.2.2-py2.py3-none-any.whl.metadata (5.8 kB)\n",
            "Requirement already satisfied: pyarrow>=6.0.1 in /usr/local/lib/python3.10/dist-packages (from ray[rllib]==2.7.0->-r INF8250AE-MARL-NOTEBOOK/requirements.txt (line 3)) (17.0.0)\n",
            "Requirement already satisfied: fsspec in /usr/local/lib/python3.10/dist-packages (from ray[rllib]==2.7.0->-r INF8250AE-MARL-NOTEBOOK/requirements.txt (line 3)) (2024.10.0)\n",
            "Requirement already satisfied: dm-tree in /usr/local/lib/python3.10/dist-packages (from ray[rllib]==2.7.0->-r INF8250AE-MARL-NOTEBOOK/requirements.txt (line 3)) (0.1.8)\n",
            "Collecting gymnasium (from -r INF8250AE-MARL-NOTEBOOK/requirements.txt (line 7))\n",
            "  Using cached gymnasium-0.28.1-py3-none-any.whl.metadata (9.2 kB)\n",
            "Collecting lz4 (from ray[rllib]==2.7.0->-r INF8250AE-MARL-NOTEBOOK/requirements.txt (line 3))\n",
            "  Using cached lz4-4.3.3-cp310-cp310-manylinux_2_17_x86_64.manylinux2014_x86_64.whl.metadata (3.7 kB)\n",
            "Requirement already satisfied: scikit-image in /usr/local/lib/python3.10/dist-packages (from ray[rllib]==2.7.0->-r INF8250AE-MARL-NOTEBOOK/requirements.txt (line 3)) (0.25.0)\n",
            "Requirement already satisfied: scipy in /usr/local/lib/python3.10/dist-packages (from ray[rllib]==2.7.0->-r INF8250AE-MARL-NOTEBOOK/requirements.txt (line 3)) (1.13.1)\n",
            "Requirement already satisfied: typer in /usr/local/lib/python3.10/dist-packages (from ray[rllib]==2.7.0->-r INF8250AE-MARL-NOTEBOOK/requirements.txt (line 3)) (0.15.1)\n",
            "Requirement already satisfied: rich in /usr/local/lib/python3.10/dist-packages (from ray[rllib]==2.7.0->-r INF8250AE-MARL-NOTEBOOK/requirements.txt (line 3)) (13.9.4)\n",
            "Collecting jax-jumpy>=1.0.0 (from gymnasium->-r INF8250AE-MARL-NOTEBOOK/requirements.txt (line 7))\n",
            "  Using cached jax_jumpy-1.0.0-py3-none-any.whl.metadata (15 kB)\n",
            "Requirement already satisfied: cloudpickle>=1.2.0 in /usr/local/lib/python3.10/dist-packages (from gymnasium->-r INF8250AE-MARL-NOTEBOOK/requirements.txt (line 7)) (3.1.0)\n",
            "Requirement already satisfied: typing-extensions>=4.3.0 in /usr/local/lib/python3.10/dist-packages (from gymnasium->-r INF8250AE-MARL-NOTEBOOK/requirements.txt (line 7)) (4.12.2)\n",
            "Requirement already satisfied: farama-notifications>=0.0.1 in /usr/local/lib/python3.10/dist-packages (from gymnasium->-r INF8250AE-MARL-NOTEBOOK/requirements.txt (line 7)) (0.0.4)\n",
            "Collecting tinyscaler>=1.2.6 (from SuperSuit>=3.9.0->-r INF8250AE-MARL-NOTEBOOK/requirements.txt (line 4))\n",
            "  Using cached tinyscaler-1.2.8-cp310-cp310-manylinux_2_17_x86_64.manylinux2014_x86_64.whl.metadata (4.2 kB)\n",
            "Requirement already satisfied: networkx in /usr/local/lib/python3.10/dist-packages (from torch>=1.13.1->-r INF8250AE-MARL-NOTEBOOK/requirements.txt (line 5)) (3.4.2)\n",
            "Requirement already satisfied: jinja2 in /usr/local/lib/python3.10/dist-packages (from torch>=1.13.1->-r INF8250AE-MARL-NOTEBOOK/requirements.txt (line 5)) (3.1.4)\n",
            "Requirement already satisfied: sympy==1.13.1 in /usr/local/lib/python3.10/dist-packages (from torch>=1.13.1->-r INF8250AE-MARL-NOTEBOOK/requirements.txt (line 5)) (1.13.1)\n",
            "Requirement already satisfied: mpmath<1.4,>=1.1.0 in /usr/local/lib/python3.10/dist-packages (from sympy==1.13.1->torch>=1.13.1->-r INF8250AE-MARL-NOTEBOOK/requirements.txt (line 5)) (1.3.0)\n",
            "Requirement already satisfied: absl-py in /usr/local/lib/python3.10/dist-packages (from tensorflow-probability>=0.19.0->-r INF8250AE-MARL-NOTEBOOK/requirements.txt (line 6)) (1.4.0)\n",
            "Requirement already satisfied: six>=1.10.0 in /usr/local/lib/python3.10/dist-packages (from tensorflow-probability>=0.19.0->-r INF8250AE-MARL-NOTEBOOK/requirements.txt (line 6)) (1.17.0)\n",
            "Requirement already satisfied: decorator in /usr/local/lib/python3.10/dist-packages (from tensorflow-probability>=0.19.0->-r INF8250AE-MARL-NOTEBOOK/requirements.txt (line 6)) (4.4.2)\n",
            "Requirement already satisfied: gast>=0.3.2 in /usr/local/lib/python3.10/dist-packages (from tensorflow-probability>=0.19.0->-r INF8250AE-MARL-NOTEBOOK/requirements.txt (line 6)) (0.6.0)\n",
            "Requirement already satisfied: contourpy>=1.0.1 in /usr/local/lib/python3.10/dist-packages (from matplotlib->-r INF8250AE-MARL-NOTEBOOK/requirements.txt (line 8)) (1.3.1)\n",
            "Requirement already satisfied: cycler>=0.10 in /usr/local/lib/python3.10/dist-packages (from matplotlib->-r INF8250AE-MARL-NOTEBOOK/requirements.txt (line 8)) (0.12.1)\n",
            "Requirement already satisfied: fonttools>=4.22.0 in /usr/local/lib/python3.10/dist-packages (from matplotlib->-r INF8250AE-MARL-NOTEBOOK/requirements.txt (line 8)) (4.55.3)\n",
            "Requirement already satisfied: kiwisolver>=1.0.1 in /usr/local/lib/python3.10/dist-packages (from matplotlib->-r INF8250AE-MARL-NOTEBOOK/requirements.txt (line 8)) (1.4.7)\n",
            "Requirement already satisfied: pyparsing>=2.3.1 in /usr/local/lib/python3.10/dist-packages (from matplotlib->-r INF8250AE-MARL-NOTEBOOK/requirements.txt (line 8)) (3.2.0)\n",
            "Requirement already satisfied: python-dateutil>=2.7 in /usr/local/lib/python3.10/dist-packages (from matplotlib->-r INF8250AE-MARL-NOTEBOOK/requirements.txt (line 8)) (2.8.2)\n",
            "INFO: pip is looking at multiple versions of stable-baselines3 to determine which version is compatible with other requirements. This could take a while.\n",
            "Collecting stable-baselines3 (from -r INF8250AE-MARL-NOTEBOOK/requirements.txt (line 10))\n",
            "  Using cached stable_baselines3-2.3.2-py3-none-any.whl.metadata (5.1 kB)\n",
            "INFO: pip is looking at multiple versions of shimmy to determine which version is compatible with other requirements. This could take a while.\n",
            "  Using cached stable_baselines3-2.2.1-py3-none-any.whl.metadata (5.0 kB)\n",
            "  Using cached stable_baselines3-2.1.0-py3-none-any.whl.metadata (5.2 kB)\n",
            "  Using cached stable_baselines3-2.0.0-py3-none-any.whl.metadata (5.4 kB)\n",
            "  Using cached stable_baselines3-1.8.0-py3-none-any.whl.metadata (5.0 kB)\n",
            "Collecting gym==0.21 (from stable-baselines3->-r INF8250AE-MARL-NOTEBOOK/requirements.txt (line 10))\n",
            "  Using cached gym-0.21.0.tar.gz (1.5 MB)\n",
            "  \u001b[1;31merror\u001b[0m: \u001b[1msubprocess-exited-with-error\u001b[0m\n",
            "  \n",
            "  \u001b[31m×\u001b[0m \u001b[32mpython setup.py egg_info\u001b[0m did not run successfully.\n",
            "  \u001b[31m│\u001b[0m exit code: \u001b[1;36m1\u001b[0m\n",
            "  \u001b[31m╰─>\u001b[0m See above for output.\n",
            "  \n",
            "  \u001b[1;35mnote\u001b[0m: This error originates from a subprocess, and is likely not a problem with pip.\n",
            "  Preparing metadata (setup.py) ... \u001b[?25l\u001b[?25herror\n",
            "\u001b[1;31merror\u001b[0m: \u001b[1mmetadata-generation-failed\u001b[0m\n",
            "\n",
            "\u001b[31m×\u001b[0m Encountered error while generating package metadata.\n",
            "\u001b[31m╰─>\u001b[0m See above for output.\n",
            "\n",
            "\u001b[1;35mnote\u001b[0m: This is an issue with the package mentioned above, not pip.\n",
            "\u001b[1;36mhint\u001b[0m: See above for details.\n",
            "Requirement already satisfied: pettingzoo in /usr/local/lib/python3.10/dist-packages (1.24.3)\n",
            "Requirement already satisfied: numpy>=1.21.0 in /usr/local/lib/python3.10/dist-packages (from pettingzoo) (1.26.4)\n",
            "Requirement already satisfied: gymnasium>=0.28.0 in /usr/local/lib/python3.10/dist-packages (from pettingzoo) (1.0.0)\n",
            "Requirement already satisfied: cloudpickle>=1.2.0 in /usr/local/lib/python3.10/dist-packages (from gymnasium>=0.28.0->pettingzoo) (3.1.0)\n",
            "Requirement already satisfied: typing-extensions>=4.3.0 in /usr/local/lib/python3.10/dist-packages (from gymnasium>=0.28.0->pettingzoo) (4.12.2)\n",
            "Requirement already satisfied: farama-notifications>=0.0.1 in /usr/local/lib/python3.10/dist-packages (from gymnasium>=0.28.0->pettingzoo) (0.0.4)\n"
          ]
        }
      ]
    },
    {
      "cell_type": "markdown",
      "source": [
        "# 1. Introduction"
      ],
      "metadata": {
        "id": "4QBMH274HOQi"
      }
    },
    {
      "cell_type": "code",
      "source": [
        "# @title\n",
        "intro_text = \"\"\"\n",
        "<style>\n",
        "    /* Title Styling */\n",
        "      .intro-title {\n",
        "        font-size: 30px;\n",
        "        font-weight: bold;\n",
        "        color: #FF6347;\n",
        "        text-align: center;\n",
        "        text-shadow: 2px 2px 4px rgba(0, 0, 0, 0.3);\n",
        "        animation: fadeIn 2s ease-in-out;\n",
        "    }\n",
        "\n",
        "    /* Text Block Styling */\n",
        "    .intro-text {\n",
        "        font-size: 18px;\n",
        "        line-height: 1.8;\n",
        "        color: #555;\n",
        "        max-width: 800px;\n",
        "        margin: 20px auto;\n",
        "        padding: 25px;\n",
        "        border-radius: 8px;\n",
        "        background: #F5F5F5;\n",
        "        box-shadow: 0 6px 12px rgba(0, 0, 0, 0.1);\n",
        "        transition: transform 0.3s ease, background 0.3s ease;\n",
        "    }\n",
        "\n",
        "    /* Hover effect for the text block */\n",
        "    .intro-text:hover {\n",
        "        transform: scale(1.03);\n",
        "        background: #E0E0E0;\n",
        "        box-shadow: 0 8px 16px rgba(0, 0, 0, 0.15);\n",
        "    }\n",
        "\n",
        "    /* Fade-in effect for title */\n",
        "    @keyframes fadeIn {\n",
        "        from { opacity: 0; }\n",
        "        to { opacity: 1; }\n",
        "    }\n",
        "</style>\n",
        "\n",
        "<h2 class=\"intro-title\">Exploring the Evolution from Single-Agent to Multi-Agent RL</h2>\n",
        "\n",
        "<div class=\"intro-text\">\n",
        "    <p>In this tutorial, we explore the transition from single-agent reinforcement learning (RL) to multi-agent reinforcement learning (MARL). This progression is used for tackling real-world problems where multiple agents must interact, cooperate, or compete in dynamic environments. The challenges introduced by these multi-agent setups, such as coordination, scalability, and non-stationarity require novel approaches to exisiting algorithms. By the end of this tutorial, you will understand the foundational concepts of MARL and how single-agent RL strategies can be extended to multi-agent domains.</p>\n",
        "</div>\n",
        "\"\"\"\n",
        "\n",
        "display(HTML(intro_text))\n"
      ],
      "metadata": {
        "colab": {
          "base_uri": "https://localhost:8080/",
          "height": 408
        },
        "cellView": "form",
        "id": "CARAJFEyTC73",
        "outputId": "817379fa-549d-4c8b-fd15-a5b2e3cd3e48"
      },
      "execution_count": 13,
      "outputs": [
        {
          "output_type": "display_data",
          "data": {
            "text/plain": [
              "<IPython.core.display.HTML object>"
            ],
            "text/html": [
              "\n",
              "<style>\n",
              "    /* Title Styling */\n",
              "      .intro-title {\n",
              "        font-size: 30px;\n",
              "        font-weight: bold;\n",
              "        color: #FF6347;\n",
              "        text-align: center;\n",
              "        text-shadow: 2px 2px 4px rgba(0, 0, 0, 0.3);\n",
              "        animation: fadeIn 2s ease-in-out;\n",
              "    }\n",
              "\n",
              "    /* Text Block Styling */\n",
              "    .intro-text {\n",
              "        font-size: 18px;\n",
              "        line-height: 1.8;\n",
              "        color: #555;\n",
              "        max-width: 800px;\n",
              "        margin: 20px auto;\n",
              "        padding: 25px;\n",
              "        border-radius: 8px;\n",
              "        background: #F5F5F5;\n",
              "        box-shadow: 0 6px 12px rgba(0, 0, 0, 0.1);\n",
              "        transition: transform 0.3s ease, background 0.3s ease;\n",
              "    }\n",
              "\n",
              "    /* Hover effect for the text block */\n",
              "    .intro-text:hover {\n",
              "        transform: scale(1.03);\n",
              "        background: #E0E0E0;\n",
              "        box-shadow: 0 8px 16px rgba(0, 0, 0, 0.15);\n",
              "    }\n",
              "\n",
              "    /* Fade-in effect for title */\n",
              "    @keyframes fadeIn {\n",
              "        from { opacity: 0; }\n",
              "        to { opacity: 1; }\n",
              "    }\n",
              "</style>\n",
              "\n",
              "<h2 class=\"intro-title\">Exploring the Evolution from Single-Agent to Multi-Agent RL</h2>\n",
              "\n",
              "<div class=\"intro-text\">\n",
              "    <p>In this tutorial, we explore the transition from single-agent reinforcement learning (RL) to multi-agent reinforcement learning (MARL). This progression is used for tackling real-world problems where multiple agents must interact, cooperate, or compete in dynamic environments. The challenges introduced by these multi-agent setups, such as coordination, scalability, and non-stationarity require novel approaches to exisiting algorithms. By the end of this tutorial, you will understand the foundational concepts of MARL and how single-agent RL strategies can be extended to multi-agent domains.</p>\n",
              "</div>\n"
            ]
          },
          "metadata": {}
        }
      ]
    },
    {
      "cell_type": "markdown",
      "source": [
        "\n",
        "\n",
        "\n",
        "## Why Extend Single-Agent RL to Multi-Agent RL?\n",
        "\n"
      ],
      "metadata": {
        "id": "tfHAUjMgbORQ"
      }
    },
    {
      "cell_type": "markdown",
      "source": [
        "- **Realistic Modeling**: MARL is more aligned with real-world environments, where multiple agents interact and make decisions based on the actions of others.\n",
        "- **Coordination and Competition**: MARL enables agents to either cooperate (coordination) or compete with each other, which mirrors many real-world scenarios where both dynamics exist.\n",
        "- **Scalability**: MARL systems can scale to handle larger, more complex problems than SARL alone.\n",
        "- **Adaptability**: MARL enables agents to learn and adapt in real-time, responding to changes in their environment or among other agents.\n",
        "- **Real-World Impact**: MARL offer a practical approach to modelling in industries such as robotics, autonomous vehicles, energy systems, and healthcare.\n",
        "\n",
        "Presented below are some real-world examples where MARL is used."
      ],
      "metadata": {
        "id": "qYD8dBhHgc_m"
      }
    },
    {
      "cell_type": "markdown",
      "source": [
        "### Examples"
      ],
      "metadata": {
        "id": "EwRFC2sWD_SF"
      }
    },
    {
      "cell_type": "code",
      "source": [
        "# @title Example\n",
        "import ipywidgets as widgets\n",
        "from IPython.display import display, HTML, Image\n",
        "\n",
        "domains = {\n",
        "    \"Robotics\": {\n",
        "        \"description\": (\n",
        "            \"In collaborative robotics, MARL enables multiple robots to coordinate and \"\n",
        "            \"perform tasks such as exploration, disaster response, or assembly. \"\n",
        "            \"For instance, a team of drones can distribute responsibilities for mapping or delivering supplies \"\n",
        "            \"in disaster-affected areas, dynamically adapting to environmental changes.\"\n",
        "        ),\n",
        "        \"applications\": [\n",
        "            \"- Search and rescue operations\",\n",
        "            \"- Warehouse management\",\n",
        "            \"- Agricultural monitoring\",\n",
        "            \"- Construction automation\",\n",
        "        ],\n",
        "        \"image\": \"https://dp9eps5gd5xd0.cloudfront.net/image-handler/ts/20230831083549/ri/850/src/images/news/ImageForNews_14271_169348534600376.jpg\",\n",
        "        \"references\": [\n",
        "            \"[1] Brown, et al. (2023). 'Swarm Intelligence through Multi-Agent Learning.' Robotics and Autonomous Systems.\",\n",
        "            \"[2] Smith, et al. (2022). 'Cooperative Multi-Robot Task Allocation.' Science Robotics.\"\n",
        "        ]\n",
        "    },\n",
        "    \"Autonomous Vehicles\": {\n",
        "        \"description\": (\n",
        "            \"In autonomous driving, MARL enables multiple vehicles to learn cooperative behaviors \"\n",
        "            \"such as merging lanes, optimizing traffic flow, or preventing collisions. \"\n",
        "            \"For example, cars at a busy intersection can learn to prioritize movements without centralized traffic control.\"\n",
        "        ),\n",
        "        \"applications\": [\n",
        "            \"- Intersection management\",\n",
        "            \"- Lane merging coordination\",\n",
        "            \"- Platoon formation\",\n",
        "            \"- Collision avoidance\"\n",
        "        ],\n",
        "        \"image\": \"https://i.giphy.com/media/v1.Y2lkPTc5MGI3NjExdm9keGxsZjRkd2VpOGN4eG1sZzNuaTN2N3N6cWRyZThxdjJveWdmYiZlcD12MV9pbnRlcm5hbF9naWZfYnlfaWQmY3Q9Zw/H7rpSYHRyYgamxQNqw/giphy.gif\",\n",
        "        \"references\": [\n",
        "            \"[1] Wang, et al. (2023). 'Multi-Agent Reinforcement Learning for Connected Autonomous Vehicles.' IEEE Trans. Intelligent Transportation Systems.\",\n",
        "            \"[2] Chen, et al. (2022). 'Cooperative Multi-Agent Systems for Automated Driving.' Nature Machine Intelligence.\"\n",
        "        ]\n",
        "    },\n",
        "    \"Energy Systems\": {\n",
        "        \"description\": (\n",
        "            \"MARL optimizes decentralized energy systems by coordinating power allocation between \"\n",
        "            \"producers and consumers. For instance, agents representing wind turbines and energy storage units \"\n",
        "            \"can learn to balance supply and demand dynamically, minimizing wastage.\"\n",
        "        ),\n",
        "        \"applications\": [\n",
        "            \"- Demand-response management\",\n",
        "            \"- Distributed energy resource coordination\",\n",
        "            \"- Grid stability maintenance\",\n",
        "            \"- Real-time pricing optimization\"\n",
        "        ],\n",
        "        \"image\": \"https://miro.medium.com/v2/resize:fit:1400/format:webp/0*2GlP-gE7hptc1PeC.gif\",\n",
        "        \"references\": [\n",
        "            \"[1] Zhang, et al. (2023). 'Multi-Agent Deep Reinforcement Learning for Smart Grid Control.' Energy and Buildings.\",\n",
        "            \"[2] Liu, et al. (2022). 'Distributed Energy Management using Multi-Agent Systems.' Applied Energy.\"\n",
        "        ]\n",
        "    },\n",
        "    \"Healthcare\": {\n",
        "        \"description\": (\n",
        "            \"In healthcare, MARL helps allocate resources like ICU beds or optimize medical equipment usage. \"\n",
        "            \"For example, agents can learn to manage patient schedules and equipment dynamically, ensuring that \"\n",
        "            \"emergent needs are prioritized efficiently.\"\n",
        "        ),\n",
        "        \"applications\": [\n",
        "            \"- ICU bed allocation\",\n",
        "            \"- Medical equipment scheduling\",\n",
        "            \"- Emergency resource management\"\n",
        "        ],\n",
        "        \"image\": \"https://standexelectronics.com/wp-content/uploads/HospitalBedSensor.gif\",\n",
        "        \"references\": [\n",
        "            \"[1] Zhao, et al. (2023). 'Multi-Agent Reinforcement Learning for Healthcare Resource Management.' Journal of Medical Systems.\"\n",
        "        ]\n",
        "    }\n",
        "}\n",
        "\n",
        "dropdown = widgets.Dropdown(\n",
        "    options=domains.keys(),\n",
        "    description=\"Domain:\",\n",
        "    value=\"Robotics\"\n",
        ")\n",
        "\n",
        "output = widgets.Output()\n",
        "\n",
        "def update_content(change):\n",
        "    with output:\n",
        "        output.clear_output()\n",
        "        domain = change[\"new\"]\n",
        "        info = domains[domain]\n",
        "\n",
        "        display(HTML(f\"\"\"\n",
        "            <style>\n",
        "                h4 {{ font-size: 22px; font-weight: bold; color: #2E4053; }}\n",
        "                p, li {{ font-size: 16px; line-height: 1.5; color: #4F4F4F; }}\n",
        "                ul {{ margin-left: 20px; }}\n",
        "                button {{\n",
        "                    background-color: #4CAF50;\n",
        "                    color: white;\n",
        "                    padding: 10px;\n",
        "                    border: none;\n",
        "                    cursor: pointer;\n",
        "                }}\n",
        "                button:hover {{ background-color: #45a049; }}\n",
        "            </style>\n",
        "        \"\"\"))\n",
        "\n",
        "        display(HTML(f\"<h4>{domain}</h4><p>{info['description']}</p>\"))\n",
        "        display(HTML(\"<ul>\" + \"\".join([f\"<li>{app}</li>\" for app in info[\"applications\"]]) + \"</ul>\"))\n",
        "        display(Image(url=info[\"image\"], width=400, height=300))\n",
        "\n",
        "        display(HTML(f'<button onclick=\"this.nextElementSibling.style.display=\\'block\\'\">Show References</button><div style=\"display:none;\">'\n",
        "                     + \"<ul>\" + \"\".join([f\"<li>{ref}</li>\" for ref in info[\"references\"]]) + \"</ul></div>\"))\n",
        "\n",
        "dropdown.observe(update_content, names=\"value\")\n",
        "\n",
        "display(dropdown, output)\n"
      ],
      "metadata": {
        "colab": {
          "base_uri": "https://localhost:8080/",
          "height": 605,
          "referenced_widgets": [
            "4dbb29475ecb43d49419def138c4f09e",
            "bbfe3535a363440e958b4234435f623a",
            "019ca0e4c4e24887a32d39b61504e1e7",
            "18f30226d4d44814b8dda5aa7cfd6fb4",
            "fa6fc80ec5294498a3a3512551b1dd42"
          ]
        },
        "id": "2RqoryhrHl0C",
        "outputId": "80ea87bc-7fc5-4e82-f029-30a5222e4ba0",
        "cellView": "form"
      },
      "execution_count": 14,
      "outputs": [
        {
          "output_type": "display_data",
          "data": {
            "text/plain": [
              "Dropdown(description='Domain:', options=('Robotics', 'Autonomous Vehicles', 'Energy Systems', 'Healthcare'), v…"
            ],
            "application/vnd.jupyter.widget-view+json": {
              "version_major": 2,
              "version_minor": 0,
              "model_id": "4dbb29475ecb43d49419def138c4f09e"
            }
          },
          "metadata": {}
        },
        {
          "output_type": "display_data",
          "data": {
            "text/plain": [
              "Output()"
            ],
            "application/vnd.jupyter.widget-view+json": {
              "version_major": 2,
              "version_minor": 0,
              "model_id": "18f30226d4d44814b8dda5aa7cfd6fb4"
            }
          },
          "metadata": {}
        }
      ]
    },
    {
      "cell_type": "markdown",
      "source": [],
      "metadata": {
        "id": "Ewdw7FZ_9s-D"
      }
    },
    {
      "cell_type": "code",
      "source": [
        "# @title\n",
        "# Displaying the GIF from the URL\n",
        "gif_url = \"https://upload.wikimedia.org/wikipedia/commons/3/37/Multi_give_way_%284_agents%2C_each_trying_to_reach_a_specific_point%29.gif\"\n",
        "Image(url=gif_url)"
      ],
      "metadata": {
        "colab": {
          "base_uri": "https://localhost:8080/",
          "height": 471
        },
        "id": "StGDJ_AnvllQ",
        "outputId": "afeb3c7b-86fe-44bd-993f-3e5183893b5c"
      },
      "execution_count": null,
      "outputs": [
        {
          "output_type": "execute_result",
          "data": {
            "text/html": [
              "<img src=\"https://upload.wikimedia.org/wikipedia/commons/3/37/Multi_give_way_%284_agents%2C_each_trying_to_reach_a_specific_point%29.gif\"/>"
            ],
            "text/plain": [
              "<IPython.core.display.Image object>"
            ]
          },
          "metadata": {},
          "execution_count": 5
        }
      ]
    },
    {
      "cell_type": "markdown",
      "source": [
        "\n",
        "\n",
        "---\n",
        "\n",
        "\n",
        "#From Single-Agent to Multi-Agent: Understanding the Fundamental Shift\n",
        "\n",
        "\n",
        "---\n",
        "\n",
        "\n"
      ],
      "metadata": {
        "id": "DB40jyt08LvZ"
      }
    },
    {
      "cell_type": "markdown",
      "source": [
        "## **Mathematical Foundations: From MDPs to Markov Games**"
      ],
      "metadata": {
        "id": "lv7oLy2s9V9E"
      }
    },
    {
      "cell_type": "markdown",
      "source": [
        "Multi-agent systems model dynamic and nondeterministic environments that solve complex problems. In these situations we are dealing with agents that not only have to learn an optimal behavior or policy, but also have to adapt to new situations, where we assume a changing environment due to the actions of the other agents in the joint state-space.\n",
        "\n",
        "Subsequently, we must move away from MDPs and instead use a Markov Game as the framework for modelling multiple agents. The key difference in Markov Games are each agent has its own Action Space,  and the agents share a Joint State Space, where the actions of one agent affect all other agents."
      ],
      "metadata": {
        "id": "Bj3NP8Hc9eHt"
      }
    },
    {
      "cell_type": "code",
      "source": [
        "# @title SARL vs MARL\n",
        "from IPython.display import HTML, display\n",
        "\n",
        "def display_mathematical_comparison():\n",
        "    mdp_html = \"\"\"\n",
        "    <div style=\"background-color: #f0f0f0; padding: 20px; border-radius: 10px; margin: 10px; width: 48%; box-sizing: border-box; font-size: 18px; transition: transform 0.3s ease;\">\n",
        "        <h3 style=\"font-size: 22px;\">Markov Decision Process (MDP)</h3>\n",
        "        <p>MDP = <span id=\"mdp_eq1\">\\( (S, A, P, R, \\gamma) \\)</span></p>\n",
        "        <ul>\n",
        "            <li><span id=\"mdp_eq2\">\\( S \\): State space</span></li>\n",
        "            <li><span id=\"mdp_eq3\">\\( A \\): Action space</span></li>\n",
        "            <li><span id=\"mdp_eq4\">\\( P: (S, A, S) \\, \\&rarr; \\, [0,1] \\)</span></li>\n",
        "            <li><span id=\"mdp_eq5\">\\( R: (S, A, S) \\, \\&rarr; \\, \\mathbb{R} \\)</span></li>\n",
        "            <li><span id=\"mdp_eq6\">\\( \\gamma \\in [0,1] \\): Discount factor</span></li>\n",
        "        </ul>\n",
        "    </div>\n",
        "    \"\"\"\n",
        "\n",
        "    markov_game_html = \"\"\"\n",
        "    <div style=\"background-color: #e6f3ff; padding: 20px; border-radius: 10px; margin: 10px; width: 48%; box-sizing: border-box; font-size: 18px; transition: transform 0.3s ease;\">\n",
        "        <h3 style=\"font-size: 22px;\">Markov Game</h3>\n",
        "        <p>MG = <span id=\"mg_eq1\">\\( (N, S, \\{A_i\\}_{i=1}^N, P, \\{R_i\\}_{i=1}^N, \\gamma) \\)</span></p>\n",
        "        <ul>\n",
        "            <li><span id=\"mg_eq2\">\\( N \\): Number of agents</span></li>\n",
        "            <li><span id=\"mg_eq3\">\\( S \\): Joint state space</span></li>\n",
        "            <li><span id=\"mg_eq4\">\\( A_i \\): Action space for agent \\( i \\)</span></li>\n",
        "            <li><span id=\"mg_eq5\">\\( P: (S, A_1, \\dots, A_N, S) \\, \\&rarr; \\, [0,1] \\)</span></li>\n",
        "            <li><span id=\"mg_eq6\">\\( R_i: (S, A_1, \\dots, A_N, S) \\, \\&rarr; \\, \\mathbb{R} \\)</span></li>\n",
        "            <li><span id=\"mg_eq7\">\\( \\gamma \\in [0,1] \\): Discount factor</span></li>\n",
        "        </ul>\n",
        "    </div>\n",
        "    \"\"\"\n",
        "\n",
        "    # Add MathJax script to render the math formulas\n",
        "    display(HTML(f\"\"\"\n",
        "    <script type=\"text/javascript\" async\n",
        "      src=\"https://cdnjs.cloudflare.com/ajax/libs/mathjax/2.7.7/MathJax.js?config=TeX-MML-AM_CHTML\">\n",
        "    </script>\n",
        "    <div style=\"display: flex; justify-content: space-between; gap: 20px; flex-wrap: wrap; padding: 20px;\">\n",
        "        {mdp_html}\n",
        "        {markov_game_html}\n",
        "    </div>\n",
        "    <style>\n",
        "        div:hover {{\n",
        "            transform: scale(1.01);\n",
        "            box-shadow: 0 0 15px rgba(0, 0, 0, 0.2);\n",
        "        }}\n",
        "    </style>\n",
        "    \"\"\"))\n",
        "\n",
        "display_mathematical_comparison()\n"
      ],
      "metadata": {
        "colab": {
          "base_uri": "https://localhost:8080/",
          "height": 647
        },
        "cellView": "form",
        "id": "g0mGyHZ-9TLe",
        "outputId": "2189a04e-9d7d-44f3-f6e5-7f0ce6be0217"
      },
      "execution_count": null,
      "outputs": [
        {
          "output_type": "display_data",
          "data": {
            "text/plain": [
              "<IPython.core.display.HTML object>"
            ],
            "text/html": [
              "\n",
              "    <script type=\"text/javascript\" async\n",
              "      src=\"https://cdnjs.cloudflare.com/ajax/libs/mathjax/2.7.7/MathJax.js?config=TeX-MML-AM_CHTML\">\n",
              "    </script>\n",
              "    <div style=\"display: flex; justify-content: space-between; gap: 20px; flex-wrap: wrap; padding: 20px;\">\n",
              "        \n",
              "    <div style=\"background-color: #f0f0f0; padding: 20px; border-radius: 10px; margin: 10px; width: 48%; box-sizing: border-box; font-size: 18px; transition: transform 0.3s ease;\">\n",
              "        <h3 style=\"font-size: 22px;\">Markov Decision Process (MDP)</h3>\n",
              "        <p>MDP = <span id=\"mdp_eq1\">\\( (S, A, P, R, \\gamma) \\)</span></p>\n",
              "        <ul>\n",
              "            <li><span id=\"mdp_eq2\">\\( S \\): State space</span></li>\n",
              "            <li><span id=\"mdp_eq3\">\\( A \\): Action space</span></li>\n",
              "            <li><span id=\"mdp_eq4\">\\( P: (S, A, S) \\, \\&rarr; \\, [0,1] \\)</span></li>\n",
              "            <li><span id=\"mdp_eq5\">\\( R: (S, A, S) \\, \\&rarr; \\, \\mathbb{R} \\)</span></li>\n",
              "            <li><span id=\"mdp_eq6\">\\( \\gamma \\in [0,1] \\): Discount factor</span></li>\n",
              "        </ul>\n",
              "    </div>\n",
              "    \n",
              "        \n",
              "    <div style=\"background-color: #e6f3ff; padding: 20px; border-radius: 10px; margin: 10px; width: 48%; box-sizing: border-box; font-size: 18px; transition: transform 0.3s ease;\">\n",
              "        <h3 style=\"font-size: 22px;\">Markov Game</h3>\n",
              "        <p>MG = <span id=\"mg_eq1\">\\( (N, S, \\{A_i\\}_{i=1}^N, P, \\{R_i\\}_{i=1}^N, \\gamma) \\)</span></p>\n",
              "        <ul>\n",
              "            <li><span id=\"mg_eq2\">\\( N \\): Number of agents</span></li>\n",
              "            <li><span id=\"mg_eq3\">\\( S \\): Joint state space</span></li>\n",
              "            <li><span id=\"mg_eq4\">\\( A_i \\): Action space for agent \\( i \\)</span></li>\n",
              "            <li><span id=\"mg_eq5\">\\( P: (S, A_1, \\dots, A_N, S) \\, \\&rarr; \\, [0,1] \\)</span></li>\n",
              "            <li><span id=\"mg_eq6\">\\( R_i: (S, A_1, \\dots, A_N, S) \\, \\&rarr; \\, \\mathbb{R} \\)</span></li>\n",
              "            <li><span id=\"mg_eq7\">\\( \\gamma \\in [0,1] \\): Discount factor</span></li>\n",
              "        </ul>\n",
              "    </div>\n",
              "    \n",
              "    </div>\n",
              "    <style>\n",
              "        div:hover {\n",
              "            transform: scale(1.01);\n",
              "            box-shadow: 0 0 15px rgba(0, 0, 0, 0.2);\n",
              "        }\n",
              "    </style>\n",
              "    "
            ]
          },
          "metadata": {}
        }
      ]
    },
    {
      "cell_type": "code",
      "source": [
        "# @title Illustration\n",
        "import matplotlib.pyplot as plt\n",
        "import numpy as np\n",
        "from ipywidgets import interact, widgets\n",
        "\n",
        "def create_environment_comparison(n_agents=2):\n",
        "    fig, (ax1, ax2) = plt.subplots(1, 2, figsize=(15, 6))\n",
        "\n",
        "    ax1.set_title('Single-Agent Environment')\n",
        "    circle = plt.Circle((0.5, 0.5), 0.3, color='b', alpha=0.3)\n",
        "    ax1.add_artist(circle)\n",
        "    ax1.plot(0.5, 0.5, 'b.', markersize=15, label='Agent')\n",
        "    ax1.set_xlim(0, 1)\n",
        "    ax1.set_ylim(0, 1)\n",
        "    ax1.legend()\n",
        "\n",
        "    ax2.set_title('Multi-Agent Environment')\n",
        "    colors = ['b', 'r', 'g', 'm']\n",
        "    markers = ['.', 's', '^', 'o']\n",
        "    for i in range(n_agents):\n",
        "        circle = plt.Circle((0.3 + i*0.2, 0.5), 0.15, color=colors[i], alpha=0.3)\n",
        "        ax2.add_artist(circle)\n",
        "        ax2.plot(0.3 + i*0.2, 0.5, color=colors[i], marker=markers[i],\n",
        "                 markersize=15, label=f'Agent {i+1}')\n",
        "    ax2.set_xlim(0, 1)\n",
        "    ax2.set_ylim(0, 1)\n",
        "    ax2.legend()\n",
        "\n",
        "    plt.tight_layout()\n",
        "    return fig\n",
        "\n",
        "def show_environment_comparison(n_agents):\n",
        "    \"\"\"\n",
        "    Displays the comparison between a single-agent and multi-agent environment.\n",
        "\n",
        "    Args:\n",
        "        n_agents (int): The number of agents in the multi-agent environment.\n",
        "\n",
        "    The function prints the sizes of the state space and action space for both environments\n",
        "    and creates an interactive visualization comparing the environments.\n",
        "    \"\"\"\n",
        "    state_space_single_agent = 5\n",
        "    action_space_single_agent = 4\n",
        "\n",
        "    state_space_multi_agent = state_space_single_agent ** n_agents\n",
        "    action_space_multi_agent = action_space_single_agent ** n_agents\n",
        "\n",
        "    print(f\"Single-Agent Environment (State Space Size: {state_space_single_agent}, Action Space Size: {action_space_single_agent})\")\n",
        "    print(f\"Multi-Agent Environment ({n_agents} Agents) - Joint State Space Size: {state_space_multi_agent}, Joint Action Space Size: {action_space_multi_agent}\")\n",
        "\n",
        "    fig = create_environment_comparison(n_agents)\n",
        "    plt.show()\n",
        "\n",
        "interact(show_environment_comparison, n_agents=widgets.IntSlider(min=2, max=4, step=1, value=2,\n",
        "                                                               description='Number of Agents:',\n",
        "                                                               style={'description_width': 'initial'}))\n"
      ],
      "metadata": {
        "colab": {
          "base_uri": "https://localhost:8080/",
          "height": 843,
          "referenced_widgets": [
            "bd7ad0624fa14d96944e0960ff32ffd4",
            "3c6b525a21954f2392582dc30a6ffa03",
            "9d47bdf869374cbb9ab0476178e670ff",
            "a4b5adc264c7488a8eee03989589d9d4",
            "8679a658dbd84fc987d75986ad97daac",
            "839d42e408e04f7eb77b48b3871e6ea1",
            "27ac7f6d37454b30beaa877d764f0ad6"
          ]
        },
        "id": "zxzQmtZkwBBg",
        "outputId": "c8f4d4f9-f949-46fa-d50d-686ac9d94f41",
        "cellView": "form"
      },
      "execution_count": null,
      "outputs": [
        {
          "output_type": "display_data",
          "data": {
            "text/plain": [
              "interactive(children=(IntSlider(value=2, description='Number of Agents:', max=4, min=2, style=SliderStyle(desc…"
            ],
            "application/vnd.jupyter.widget-view+json": {
              "version_major": 2,
              "version_minor": 0,
              "model_id": "bd7ad0624fa14d96944e0960ff32ffd4"
            }
          },
          "metadata": {}
        },
        {
          "output_type": "execute_result",
          "data": {
            "text/plain": [
              "<function __main__.show_environment_comparison(n_agents)>"
            ],
            "text/html": [
              "<div style=\"max-width:800px; border: 1px solid var(--colab-border-color);\"><style>\n",
              "      pre.function-repr-contents {\n",
              "        overflow-x: auto;\n",
              "        padding: 8px 12px;\n",
              "        max-height: 500px;\n",
              "      }\n",
              "\n",
              "      pre.function-repr-contents.function-repr-contents-collapsed {\n",
              "        cursor: pointer;\n",
              "        max-height: 100px;\n",
              "      }\n",
              "    </style>\n",
              "    <pre style=\"white-space: initial; background:\n",
              "         var(--colab-secondary-surface-color); padding: 8px 12px;\n",
              "         border-bottom: 1px solid var(--colab-border-color);\"><b>show_environment_comparison</b><br/>def show_environment_comparison(n_agents)</pre><pre class=\"function-repr-contents function-repr-contents-collapsed\" style=\"\"><a class=\"filepath\" style=\"display:none\" href=\"#\">/content/&lt;ipython-input-7-45bd1f15460d&gt;</a>Displays the comparison between a single-agent and multi-agent environment.\n",
              "\n",
              "Args:\n",
              "    n_agents (int): The number of agents in the multi-agent environment.\n",
              "\n",
              "The function prints the sizes of the state space and action space for both environments\n",
              "and creates an interactive visualization comparing the environments.</pre></div>"
            ]
          },
          "metadata": {},
          "execution_count": 7
        }
      ]
    },
    {
      "cell_type": "markdown",
      "source": [
        "We can observe that the State and Aciton Space becomes significantly more complex in Multi-agent problems.\n",
        "\n",
        "- **Single-Agent Environment**:\n",
        "  - State space: $S$\n",
        "  - Action space: $A$\n",
        "\n",
        "- **Multi-Agent Environment ($N$ agents)**:\n",
        "  - **Joint State Space**: $S_{\\text{joint}} = S^N$  \n",
        "    The state space grows **exponentially** with the number of agents, as it represents all possible combinations of states for $N$ agents.\n",
        "  - **Joint Action Space**: $A_{\\text{joint}} = A^N$  \n",
        "    Similarly, the action space grows **exponentially**, reflecting all possible combinations of actions taken by $N$ agents simultaneously.\n",
        "\n",
        "---\n",
        "**Implications**\n",
        "- The **exponential growth** of state and action spaces with $N$ agents leads to significant computational challenges in modeling and solving multi-agent environments.\n",
        "- Addressing this complexity often requires:\n",
        "  - Efficient representations of the state and action spaces.\n",
        "  - **Decentralized strategies** to reduce the dimensionality of the problem.\n",
        "  - Utilizing approximations or hierarchical methods in reinforcement learning.\n"
      ],
      "metadata": {
        "id": "aaZ99kj5JWAP"
      }
    },
    {
      "cell_type": "markdown",
      "source": [
        "### Types of MARL\n"
      ],
      "metadata": {
        "id": "GIoB3hTyQovn"
      }
    },
    {
      "cell_type": "markdown",
      "source": [
        "\n",
        "MARL involves multiple agents interacting in a shared environment. The agents’ behaviors depend on their own actions as well as the actions of others. The main types of MARL are as follows:\n",
        "\n",
        "- **Competitive MARL**:\n",
        "  - Agents compete against each other.\n",
        "  - The reward for each agent is typically inversely related to the rewards of others, meaning that one agent’s gain comes at the expense of another’s loss.\n",
        "  \n",
        "  Mathematically, the reward for agent $i$ is:\n",
        "  $\n",
        "  R_i(s, a_1, a_2, \\dots, a_N)\n",
        "  $\n",
        "  where $s$ is the state and $a_1, a_2, \\dots, a_N$ are the actions of all agents.\n",
        "\n",
        "- **Cooperative MARL**:\n",
        "  - All agents share a common goal and work together to maximize the total reward.\n",
        "  - The reward is the same for all agents in a given state-action pair.\n",
        "\n",
        "  $\n",
        "  R_i(s, a_1, a_2, \\dots, a_N) = R(s, a_1, a_2, \\dots, a_N)\n",
        "  $\n",
        "  where $R$ is the shared reward across agents.\n",
        "\n",
        "- **Mixed MARL**:\n",
        "  - Mixed MARL combines both competitive and cooperative behaviors.\n",
        "  - Some agents may cooperate for certain tasks, while still competing for individual rewards.\n",
        "  $\n",
        "  R_i(s, a_1, a_2, \\dots, a_N) = R_c(s, a_1, a_2, \\dots, a_N) + R_p(s, a_1, a_2, \\dots, a_N)\n",
        "  $\n",
        "  where $R_c$ is the cooperative component and $R_p$ is the competitive component.\n",
        "\n",
        "### Payoff Matrix\n",
        "\n",
        "A **payoff matrix** represents the outcomes (payoffs) for each agent based on their chosen strategies. It’s a useful tool for analyzing strategic decisions in games.\n",
        "\n",
        "In a two-player game, the matrix is represented as:\n",
        "\n",
        "$$\n",
        "\\begin{array}{|c|c|c|}\n",
        "\\hline\n",
        "& \\text{Player 2: Strategy 1} & \\text{Player 2: Strategy 2} \\\\\n",
        "\\hline\n",
        "\\text{Player 1: Strategy 1} & (R_1, R_2) & (R_3, R_4) \\\\\n",
        "\\hline\n",
        "\\text{Player 1: Strategy 2} & (R_5, R_6) & (R_7, R_8) \\\\\n",
        "\\hline\n",
        "\\end{array}\n",
        "$$\n",
        "\n",
        "\n",
        "Where $(R_1, R_2)$, etc., represent the payoffs for Player 1 and Player 2 based on their strategies.\n",
        "\n",
        "In MARL, the payoff matrix helps analyze how agents' interactions affect outcomes in Competitive, Cooperative, and Mixed settings.\n"
      ],
      "metadata": {
        "id": "bZg0eF-cPVvS"
      }
    },
    {
      "cell_type": "code",
      "source": [
        "# @title Payoff Matrix\n",
        "import matplotlib.pyplot as plt\n",
        "import numpy as np\n",
        "import seaborn as sns\n",
        "from ipywidgets import interact\n",
        "from IPython.display import display, Markdown\n",
        "\n",
        "def create_marl_types_visualization():\n",
        "    competitive = np.array([[1,-1], [-1,1]])\n",
        "    cooperative = np.array([[2,0], [0,2]])\n",
        "    mixed = np.array([[2,-1], [-1,2]])\n",
        "\n",
        "    def plot_payoff_matrix(matrix, title):\n",
        "        fig = plt.figure(figsize=(6, 4))\n",
        "        sns.heatmap(matrix, annot=True, cmap='RdYlBu', center=0)\n",
        "        plt.title(title)\n",
        "        return fig\n",
        "\n",
        "    @interact(marl_type=['Competitive', 'Cooperative', 'Mixed'])\n",
        "    def show_marl_type(marl_type):\n",
        "        if marl_type == 'Competitive':\n",
        "            matrix = competitive\n",
        "            display(Markdown(\"\"\"\n",
        "            Competitive MARL\n",
        "            - Payoff Matrix: A zero-sum game where the total payoff across all players is zero.\n",
        "            - Key Characteristic: One player's gain is another player's loss.\n",
        "            - Example: Two-player games like chess, where players are directly competing.\n",
        "            \"\"\"))\n",
        "        elif marl_type == 'Cooperative':\n",
        "            matrix = cooperative\n",
        "            display(Markdown(\"\"\"\n",
        "            Cooperative MARL\n",
        "            - Payoff Matrix: A shared reward system where all agents work towards maximizing the collective reward.\n",
        "            - Key Characteristic: Agents collaborate to achieve a common goal.\n",
        "            - Example: Robot swarm coordination, where agents cooperate to achieve a common task.\n",
        "            \"\"\"))\n",
        "        else:\n",
        "            matrix = mixed\n",
        "            display(Markdown(\"\"\"\n",
        "            Mixed MARL\n",
        "            - Payoff Matrix: A combination of competitive and cooperative elements.\n",
        "            - Key Characteristic: Agents have partial alignment of goals but may still compete in certain situations.\n",
        "            - Example: Traffic management, where cooperation is needed to optimize the system, but individual vehicles still compete for resources like road space.\n",
        "            \"\"\"))\n",
        "\n",
        "        plot_payoff_matrix(matrix, f'{marl_type} MARL - Payoff Matrix')\n",
        "        plt.show()\n",
        "\n",
        "create_marl_types_visualization()\n"
      ],
      "metadata": {
        "colab": {
          "base_uri": "https://localhost:8080/",
          "height": 492,
          "referenced_widgets": [
            "a0fa504f14814847af190e21658f6e74",
            "8b81b7ee773a44c6ba2c7fa240e32141",
            "3e5ac02ebb95405ca17d832ea98731e7",
            "7cfdfa52441a466dbe22ab0077dc93d7",
            "2aa0a54281974b6b8e064783ecfa0987",
            "db1336f82b7f4282a0a867f96aafa68f",
            "2730df56a01b49b897ecbe60228f57ff"
          ]
        },
        "cellView": "form",
        "id": "Wpz9gs8I9HP2",
        "outputId": "26b74da6-85e9-477a-fa23-0348fcdfb0c6"
      },
      "execution_count": null,
      "outputs": [
        {
          "output_type": "display_data",
          "data": {
            "text/plain": [
              "interactive(children=(Dropdown(description='marl_type', options=('Competitive', 'Cooperative', 'Mixed'), value…"
            ],
            "application/vnd.jupyter.widget-view+json": {
              "version_major": 2,
              "version_minor": 0,
              "model_id": "a0fa504f14814847af190e21658f6e74"
            }
          },
          "metadata": {}
        }
      ]
    },
    {
      "cell_type": "markdown",
      "source": [
        "##  **Key Challenges MARL**\n"
      ],
      "metadata": {
        "id": "IOaRB0paXw4A"
      }
    },
    {
      "cell_type": "markdown",
      "source": [
        "MARL introduces unique challenges due to interactions between agents and the environment. Addressing these challenges is essential for building robust multi-agent systems.\n"
      ],
      "metadata": {
        "id": "q8CnTN1FSlnx"
      }
    },
    {
      "cell_type": "markdown",
      "source": [
        "### 🚩 **1. Non-Stationarity**\n"
      ],
      "metadata": {
        "id": "b59ERZSCV5kz"
      }
    },
    {
      "cell_type": "markdown",
      "source": [
        "In MARL, agents interact with each other in a shared environment. A key challenge is **non-stationarity** — the environment changes dynamically as agents adapt their policies. This creates instability and hinders learning.\n",
        "\n",
        "---\n",
        "\n",
        "**The Problem**\n",
        "\n",
        "In a multi-agent setup:  \n",
        "- Each agent's policy affects the environment.  \n",
        "- When one agent updates its policy, the environment effectively changes for all other agents.  \n",
        "- This violates the stationary environment assumption of standard reinforcement learning algorithms.\n",
        "\n",
        "---\n",
        "\n",
        "**Mathematical Formalism**\n",
        "\n",
        "1. **Environment Dynamics**:  \n",
        "   The environment’s state transition depends on all agents' actions:  \n",
        "   $$\n",
        "   P(s_{t+1} | s_t, \\mathbf{a}_t),\n",
        "   $$\n",
        "   where $\\mathbf{a}_t = (a_t^1, a_t^2, \\dots, a_t^N) $ represents all agents' actions.\n",
        "\n",
        "2. **Agent-Specific Rewards**:  \n",
        "   Each agent $i$ learns to maximize its own expected return:  \n",
        "  $$\n",
        "   J^i = \\mathbb{E} \\left[ \\sum_{t=0}^T \\gamma^t r_t^i \\right].\n",
        "   $$\n",
        "   However, $r_t^i $ depends on the joint action $\\mathbf{a}_t $, which changes as other agents update their policies.\n",
        "\n",
        "3. **Non-Stationary Policy Updates**:  \n",
        "   As agent $i$ updates its policy $\\pi^i(a^i | s)$, the effective transition and reward functions observed by other agents become time-dependent:  \n",
        "   $$\n",
        "   P(s_{t+1} | s_t, \\mathbf{a}_t) \\text{ and } r_t^j \\quad \\text{for } j \\neq i.\n",
        "   $$\n",
        "\n",
        "---\n",
        "\n",
        "**Impact of Non-Stationarity**\n",
        "\n",
        "- **Unstable Learning**: Agents cannot converge to optimal policies because their environment (other agents) is constantly changing.  \n",
        "- **Exploration-Exploitation Tradeoff**: It becomes harder to balance exploring new strategies with exploiting known ones.  \n",
        "- **Suboptimal Coordination**: Agents might struggle to form effective strategies due to frequent policy changes by others.\n",
        "\n"
      ],
      "metadata": {
        "id": "HMU6U9cMIEvB"
      }
    },
    {
      "cell_type": "markdown",
      "source": [
        "\n",
        "\n",
        "**Illustration Example**: Non-Stationarity in the \"Multi-Agent Particle Environment\"\n",
        "\n",
        "- **Environment Description**:\n",
        "  - **Agents**: Move on a 2D grid to collect and spread objects.\n",
        "  - **Goal**: The goal is for agents to cooperate and gather objects, maximizing a shared reward.\n",
        "  - **Actions**: Agents can move in four directions (up, down, left, right) and interact with other agents or objects.\n",
        "\n",
        "- **Reward Distribution**:\n",
        "  - In **single-agent** setup: Reward depends on the actions of the single agent, based on how effectively it collects objects.\n",
        "  - In **multi-agent** setup: The reward is shared among all agents based on their collective actions. Agents might hinder or help each other depending on the interactions.\n",
        "\n",
        "- **Key Points**:\n",
        "  - The environment is non-stationary because the actions of multiple agents create dynamic changes in the state.\n",
        "  - No learning or training: We sample random actions and observe how reward fluctuations occur due to non-stationarity.\n"
      ],
      "metadata": {
        "id": "NX89GhpXSqPB"
      }
    },
    {
      "cell_type": "code",
      "source": [
        "# @title Spread\n",
        "import numpy as np\n",
        "import matplotlib.pyplot as plt\n",
        "from pettingzoo.mpe import simple_spread_v3\n",
        "from IPython.display import Image, display\n",
        "import imageio\n",
        "from ipywidgets import interactive\n",
        "\n",
        "def initialize_env(N_agents):\n",
        "    env_single = simple_spread_v3.parallel_env(N=1, render_mode=\"rgb_array\")  # Single-agent setup\n",
        "    env_multi = simple_spread_v3.parallel_env(N=N_agents, render_mode=\"rgb_array\")  # Multi-agent setup\n",
        "    return env_single, env_multi\n",
        "\n",
        "def reset_envs(env_single, env_multi):\n",
        "    observations_single, infos_single = env_single.reset(seed=42)\n",
        "    observations_multi, infos_multi = env_multi.reset(seed=42)\n",
        "    return observations_single, infos_single, observations_multi, infos_multi\n",
        "\n",
        "def save_gif_from_images(images, filename):\n",
        "    \"\"\"Save a sequence of images as a GIF with looping enabled.\"\"\"\n",
        "    imageio.mimsave(filename, images, duration=0.1, loop=0)  # loop=0 ensures the GIF repeats indefinitely\n",
        "\n",
        "def simulate_non_stationarity_with_gif(N_agents, steps=100):\n",
        "    env_single, env_multi = initialize_env(N_agents)\n",
        "    observations_single, infos_single, observations_multi, infos_multi = reset_envs(env_single, env_multi)\n",
        "\n",
        "    rewards_single, rewards_multi = [], []\n",
        "    images_single, images_multi = [], []\n",
        "\n",
        "    for _ in range(steps):\n",
        "        actions_single = {}\n",
        "        actions_multi = {}\n",
        "\n",
        "        for agent in env_single.agents:\n",
        "            actions_single[agent] = env_single.action_space(agent).sample()\n",
        "\n",
        "        images_single.append(env_single.render())\n",
        "\n",
        "        observations, rewards, terminations, truncations, infos = env_single.step(actions_single)\n",
        "        rewards_single.append(sum(rewards.values()))\n",
        "\n",
        "        for agent in env_multi.agents:\n",
        "            actions_multi[agent] = env_multi.action_space(agent).sample()\n",
        "\n",
        "        images_multi.append(env_multi.render())\n",
        "\n",
        "        observations, rewards, terminations, truncations, infos = env_multi.step(actions_multi)\n",
        "        rewards_multi.append(sum(rewards.values()))\n",
        "\n",
        "    return rewards_single, rewards_multi, images_single, images_multi\n",
        "\n",
        "def plot_with_gif(N_agents=2, steps=100):\n",
        "    rewards_single, rewards_multi, images_single, images_multi = simulate_non_stationarity_with_gif(N_agents, steps)\n",
        "\n",
        "    rewards_plot = plt.figure(figsize=(10, 6))\n",
        "    plt.plot(rewards_single, label='Single-Agent Reward', color='blue')\n",
        "    plt.plot(rewards_multi, label=f'Multi-Agent Reward (N={N_agents})', color='red')\n",
        "    plt.title(\"Non-Stationarity: Reward Fluctuations in Single-Agent vs. Multi-Agent Setting\")\n",
        "    plt.xlabel(\"Training Steps\")\n",
        "    plt.ylabel(\"Reward\")\n",
        "    plt.legend()\n",
        "    plt.grid(True)\n",
        "    plt.tight_layout()\n",
        "    plt.show()\n",
        "\n",
        "    save_gif_from_images(images_single, filename='single_agent.gif')\n",
        "    save_gif_from_images(images_multi, filename='multi_agent.gif')\n",
        "\n",
        "    display(Markdown(\"### **Single-Agent Animation**\"))\n",
        "    display(Image(filename=\"single_agent.gif\"))\n",
        "\n",
        "    display(Markdown(f\"### **Multi-Agent Animation (N={N_agents})**\"))\n",
        "    display(Image(filename=\"multi_agent.gif\"))\n",
        "\n",
        "interactive_plot = interactive(plot_with_gif, N_agents=(2, 10, 1), steps=(100, 500, 10))\n",
        "display(interactive_plot)\n"
      ],
      "metadata": {
        "colab": {
          "base_uri": "https://localhost:8080/",
          "height": 1000,
          "referenced_widgets": [
            "e5b2085703a1497ab88a7c5399c9c246",
            "d0c43b11a02b4818adfc1d6915f45eed",
            "c6a8987986a840efb98c320a53c14e94",
            "2585ed31448d405e9a5f4329d2a81735",
            "9b0aaf65184f4da8858a31d51e567dbb",
            "b92dfabb76fd45d4b452c96cf496877c",
            "e88decff28ba4b8f8d02c2c93393e280",
            "e78cbe9dc3cc4fc096465df161eaf1e1",
            "1635035d7e72443d895a8a0a5998dc3b",
            "c3f63190b3094b089b1a64a49229750f"
          ]
        },
        "id": "0J8UWx5RaNBO",
        "outputId": "f6ec0d41-aa3d-48a4-b432-eee858faa2ff"
      },
      "execution_count": null,
      "outputs": [
        {
          "output_type": "display_data",
          "data": {
            "text/plain": [
              "interactive(children=(IntSlider(value=2, description='N_agents', max=10, min=2), IntSlider(value=100, descript…"
            ],
            "application/vnd.jupyter.widget-view+json": {
              "version_major": 2,
              "version_minor": 0,
              "model_id": "e5b2085703a1497ab88a7c5399c9c246"
            }
          },
          "metadata": {}
        }
      ]
    },
    {
      "cell_type": "markdown",
      "source": [
        "### 📊 3. **Credit Assignment**"
      ],
      "metadata": {
        "id": "6jfwNGmSETbl"
      }
    },
    {
      "cell_type": "markdown",
      "source": [
        "\n",
        "Agents work together to maximize a global reward. A key challenge is **credit assignment** — determining how much each agent contributes to the team’s success or failure. Without proper credit assignment, agents may struggle to learn effective policies.\n",
        "\n",
        "---\n",
        "\n",
        "**The Problem**\n",
        "\n",
        "- **Joint Reward**: Agents receive a shared reward $r_t$, making it unclear which agent's actions led to the outcome.  \n",
        "- **Delayed Rewards**: Rewards might not occur immediately, making it harder to link actions to results.  \n",
        "\n",
        "The goal is to distribute the joint reward among agents such that each learns its contribution to the global outcome.\n",
        "\n",
        "---\n",
        "\n",
        "1. **Global Objective**:\n",
        "   Maximize the total discounted reward:\n",
        "   $$\n",
        "   J = \\mathbb{E} \\left[ \\sum_{t=0}^T \\gamma^t r_t \\right],\\quad  \\text{where \\( \\gamma \\) is the discount factor.}\n",
        "   $$\n",
        "   \n",
        "\n",
        "2. **Credit Decomposition**:\n",
        "   Decompose $r_t $ into individual contributions  $c_t^i$ for $N$ agents:\n",
        "   $$\n",
        "   r_t = \\sum_{i=1}^N c_t^i.\n",
        "   $$\n",
        "\n",
        "3. **Advantage Function** (for Temporal Credit):\n",
        "   Use the advantage function to estimate an agent's impact:\n",
        "   $$\n",
        "   A_t^i = Q(s_t, a_t^i) - V(s_t),\n",
        "   $$\n",
        "   where $ Q(s_t, a_t^i) $ evaluates action $ a_t^i $, and $V(s_t) $ evaluates the state $s_t$.\n",
        "\n",
        "---\n"
      ],
      "metadata": {
        "id": "0C5iLj5s5six"
      }
    },
    {
      "cell_type": "markdown",
      "source": [
        "### 🔍 **4. Partial Observability**  \n",
        "\n",
        "Agents in MARL often lack access to the full global state, relying on partial observations, which poses significant challenges for coordination and learning.  \n",
        "\n",
        "---\n",
        "\n",
        "**The Problem**  \n",
        "\n",
        "1. **Limited Observations**: Each agent $i$ observes only a part of the environment:  \n",
        "   $$o_t^i = \\mathcal{O}^i(s_t),$$  \n",
        "   where $s_t$ is the true global state, and $\\mathcal{O}^i$ is the observation function of agent $i$.  \n",
        "\n",
        "2. **Decentralized Policies**: Agents act independently based on local observations:  \n",
        "   $$a_t^i = \\pi^i(o_t^i),$$  \n",
        "   which may lead to suboptimal joint behavior.  \n",
        "\n",
        "3. **Non-Markovian Observations**: The partial observation $o_t^i$ may not contain enough information to make decisions Markovian.  \n",
        "\n",
        "---\n",
        "\n",
        "**Challenges**  \n",
        "\n",
        "1. **Coordination Under Uncertainty**: Incomplete or inconsistent information hinders agents' ability to work together.  \n",
        "2. **Hidden States**: Critical environment or agent states are unobservable, leading to poorly informed decisions.  \n",
        "3. **Delayed Effects**: Observations may not immediately reflect the consequences of an action.  \n",
        "\n",
        "---\n"
      ],
      "metadata": {
        "id": "tM0qXQWALjFK"
      }
    },
    {
      "cell_type": "markdown",
      "source": [
        "### 📡 2. **Communication**\n"
      ],
      "metadata": {
        "id": "hTEv5AnY4MMg"
      }
    },
    {
      "cell_type": "markdown",
      "source": [
        "Agents work together to achieve common goals. A key challenge is **communication** — how do agents share information when they can't directly observe each other's states or intentions? Efficient communication is critical for coordinating actions, but poor communication strategies can reduce performance.\n",
        "\n",
        "\n",
        "\n",
        "**The Problem**\n",
        "\n",
        "In MARL, agents face three key communication challenges:\n",
        "\n",
        "1. **When to communicate?** Not all decisions require input from other agents, and over-communication can create inefficiencies.\n",
        "2. **What to communicate?** Agents need to decide which information is essential and relevant to share.\n",
        "3. **How to communicate efficiently?** Too much or too little communication can slow down decision-making and consume resources.\n",
        "\n",
        "If communication isn’t handled properly, agents may act independently or inefficiently, reducing the overall performance.\n",
        "\n",
        "---\n",
        "\n",
        " **Types of Communication**\n",
        "\n",
        "1. **Implicit Communication**:\n",
        "   - **Definition**: Agents communicate indirectly through their actions, inferring the intentions of others by observing their behavior.\n",
        "   - **Example**: Agent A moves in a specific direction, and Agent B infers that Agent A is trying to reach a destination.\n",
        "   - **Advantages**: No message overhead.\n",
        "   - **Disadvantages**: Can lead to misunderstandings, especially in complex environments.\n",
        "\n",
        "2. **Explicit Communication**:\n",
        "   - **Definition**: Agents send direct messages to each other to convey information.\n",
        "   - **Example**: Agent A tells Agent B, \"There’s an obstacle ahead, move left.\"\n",
        "   - **Advantages**: Clear coordination.\n",
        "   - **Disadvantages**: Communication overhead and possible complexity in managing messages.\n",
        "\n",
        "---\n",
        "\n",
        "**Potential Solutions to the Communication Challenge**\n",
        "\n",
        "1. **Learning Communication with Deep Reinforcement Learning (DRL)**:\n",
        "   - Agents can learn to develop communication protocols through reinforcement learning. They’re trained to maximize their performance, while also learning to share information in a way that improves coordination.\n",
        "   - **Example**: Agents learn when to signal each other or interpret each other’s actions without explicit instructions.\n",
        "\n",
        "2. **Targeted Multi-Agent Communication (TARMAC)**:\n",
        "   - Agents use attention mechanisms to decide what and who to communicate with, ensuring that only relevant information is shared. This reduces communication costs and improves coordination.\n",
        "   - **Example**: An agent might only communicate with another agent when an obstacle or important event occurs.\n"
      ],
      "metadata": {
        "id": "7BySW5X32Sit"
      }
    },
    {
      "cell_type": "markdown",
      "source": [
        "\n",
        "\n",
        "---\n",
        "\n",
        "# **Algorithmic Solutions**\n",
        "\n",
        "---\n",
        "\n"
      ],
      "metadata": {
        "id": "GRNaBf2CK2K0"
      }
    },
    {
      "cell_type": "markdown",
      "source": [
        "## **Centralized Training with Decentralized Execution**\n"
      ],
      "metadata": {
        "id": "GGpcHeGBjiB9"
      }
    },
    {
      "cell_type": "markdown",
      "source": [
        "CTDE enables agents to train using global information while executing policies based on local observations. This approach effectively addresses non-stationarity in cooperative settings.\n",
        "\n",
        "**Key Aspects of CTDE:**\n",
        "\n",
        "- **Centralized Training:** Agents learn from global information during training.\n",
        "\n",
        "- **Decentralized Execution:** Agents operate based on local observations during execution.\n",
        "\n",
        "- **Cooperative Focus:** Particularly effective in settings where agents collaborate toward a common goal.\n",
        "\n",
        "To facilitate information sharing during training, CTDE can utilize:\n",
        "\n",
        "1. **Centralized Critic Methods:** Employ a centralized critic during training to evaluate joint actions, providing a unified learning signal that addresses challenges like nonstationarity and credit assignment.\n",
        "\n",
        "2. **Value Function Factorization Methods:** Decompose the joint value function into individual components, enabling cooperative learning while maintaining decentralized execution.\n"
      ],
      "metadata": {
        "id": "b9Ju4UL_jeiQ"
      }
    },
    {
      "cell_type": "markdown",
      "source": [
        "### **🧠1. Policy Gradient Methods**\n",
        "\n",
        "These approaches optimize agents' policies directly through gradient-based techniques, effectively handling large or continuous action spaces.\n",
        "\n",
        "To enhance learning, **centralized critic methods** are employed during training, providing a unified evaluation of joint actions and addressing key challenges:\n",
        "\n",
        "- **Nonstationarity:** Centralized critics offer a stable learning signal, mitigating the nonstationary environment caused by agents' evolving policies.\n",
        "\n",
        "- **Credit Assignment:** They assist in evaluating joint actions, facilitating accurate credit assignment and improving individual agent learning.\n",
        "\n",
        "- **Sample Efficiency:** By leveraging global information, centralized critics lead to more efficient learning and faster convergence compared to decentralized approaches.\n",
        "\n",
        "Incorporating centralized critics enhances coordination and performance in cooperative multi-agent settings.\n",
        "#### 🧠🤝 1.1. Multi-Agent Deep Deterministic Policy Gradient (MADDPG)\n",
        "\n",
        "MADDPG extends the Deep Deterministic Policy Gradient (DDPG) algorithm to multi-agent environments by incorporating a centralized critic for each agent, which considers the actions and observations of all agents during training. This centralized training with decentralized execution (CTDE) framework enables agents to learn coordinated behaviors while acting based on their local observations during execution.\n",
        "\n",
        "**Update Formulas:**\n",
        "\n",
        "- **Critic Update:**\n",
        "\n",
        "  The critic for agent $i$ is updated by minimizing the loss function:\n",
        "\n",
        "  $$\n",
        "  \\mathcal{L}_i(\\theta_i) = \\mathbb{E} \\left[ \\left( Q_i(s_t, a_1, a_2, \\ldots, a_N; \\theta_i) - y_t \\right)^2 \\right]\n",
        "  $$\n",
        "\n",
        "  Where:\n",
        "  - $y_t = r_i + \\gamma \\, Q_i(s_{t+1}, a_1', a_2', \\ldots, a_N'; \\theta_i^-)$ is the target value.\n",
        "  - $a_j'$ represents the action taken by agent $j$ at the next time step, determined by its policy $\\pi_j$.\n",
        "  - $\\theta_i^-$ are the parameters of the target critic network for agent $i$.\n",
        "\n",
        "- **Actor Update:**\n",
        "\n",
        "  The actor for agent $i$ is updated by maximizing the expected return, using the policy gradient:\n",
        "\n",
        "  $$\n",
        "  \\nabla_{\\phi_i} J(\\phi_i) = \\mathbb{E} \\left[ \\nabla_{a_i} Q_i(s_t, a_1, a_2, \\ldots, a_N; \\theta_i) \\cdot \\nabla_{\\phi_i} \\pi_i(o_i; \\phi_i) \\right]\n",
        "  $$\n",
        "\n",
        "  Where:\n",
        "  - $\\pi_i(o_i; \\phi_i)$ is the policy of agent $i$ parameterized by $\\phi_i$, based on its local observation $o_i$.\n",
        "\n",
        "**Comparison with SARL:**\n",
        "\n",
        "In Single-Agent Reinforcement Learning (SARL), an agent learns a policy based solely on its own experiences and observations. In contrast, MADDPG allows each agent to consider the actions and observations of all agents during training through a centralized critic, facilitating coordinated behavior in multi-agent settings.\n",
        "\n",
        "#### 🧠⚖️ 1.2. Counterfactual Multi-Agent Policy Gradients (COMA)\n",
        "\n",
        "COMA is an actor-critic method designed for fully cooperative multi-agent environments. It employs a centralized critic to estimate the Q-value of joint actions and uses a counterfactual baseline to compute the advantage function for each agent, which helps in addressing the credit assignment problem by evaluating an agent's contribution to the team's success.\n",
        "\n",
        "**Update Formulas:**\n",
        "\n",
        "- **Critic Update:**\n",
        "\n",
        "  The critic is updated by minimizing the temporal-difference error:\n",
        "\n",
        "  $$\n",
        "  \\mathcal{L}(\\theta) = \\mathbb{E} \\left[ \\left( Q(s_t, \\mathbf{a}_t; \\theta) - y_t \\right)^2 \\right]\n",
        "  $$\n",
        "\n",
        "  Where:\n",
        "  - $y_t = r_t + \\gamma \\, Q(s_{t+1}, \\mathbf{a}_{t+1}; \\theta^-)$ is the target value.\n",
        "  - $\\mathbf{a}_t$ denotes the joint action of all agents at time $t$.\n",
        "  - $\\theta^-$ are the parameters of the target critic network.\n",
        "\n",
        "- **Actor Update:**\n",
        "\n",
        "  The actor for agent $i$ is updated using the policy gradient, weighted by the counterfactual advantage:\n",
        "\n",
        "  $$\n",
        "  \\nabla_{\\phi_i} J(\\phi_i) = \\mathbb{E} \\left[ \\nabla_{\\phi_i} \\log \\pi_i(a_{i,t} | o_{i,t}; \\phi_i) \\cdot A_i(s_t, \\mathbf{a}_t) \\right]\n",
        "  $$\n",
        "\n",
        "  Where:\n",
        "  - $A_i(s_t, \\mathbf{a}_t) = Q(s_t, \\mathbf{a}_t) - \\sum_{a_i'} \\pi_i(a_i' | o_{i,t}) Q(s_t, (a_i', \\mathbf{a}_{-i,t}))$ is the counterfactual advantage function for agent $i$.\n",
        "  - $\\mathbf{a}_{-i,t}$ represents the actions of all agents except agent $i$ at time $t$.\n",
        "\n",
        "**Comparison with SARL:**\n",
        "\n",
        "In SARL, the agent focuses on optimizing its own policy without considering the interactions with other agents. COMA, however, addresses the multi-agent credit assignment problem by using a centralized critic and counterfactual reasoning, enabling more effective learning in cooperative multi-agent environments.\n",
        "\n",
        "#### 🧠📈 1.3. Multi-Agent Proximal Policy Optimization (MAPPO)\n",
        "\n",
        "MAPPO extends the Proximal Policy Optimization (PPO) algorithm to multi-agent environments, incorporating mechanisms to handle the complexities of multi-agent interactions. It employs a centralized value function during training to improve sample efficiency and stability, while maintaining decentralized execution. :contentReference[oaicite:1]{index=1}\n",
        "\n",
        "**Objective Function:**\n",
        "\n",
        "The objective function for agent $i$ is:\n",
        "\n",
        "$$\n",
        "L_i(\\theta_i) = \\mathbb{E}_t \\left[ \\min \\left( r_t(\\theta_i) \\hat{A}_t, \\text{clip}(r_t(\\theta_i), 1 - \\epsilon, 1 + \\epsilon) \\hat{A}_t \\right) \\right]\n",
        "$$\n",
        "\n",
        "Where:\n",
        "- $r_t(\\theta_i) = \\frac{\\pi_i(a_i | o_i; \\theta_i)}{\\pi_i(a_i | o_i; \\theta_i^{\\text{old}})}$ is the probability ratio between the current and old policies.\n",
        "- $\\hat{A}_t$ is the estimated advantage function.\n",
        "- $\\epsilon$ is the clipping parameter to limit the change in policy updates.\n",
        "\n",
        "**Value Function Update:**\n",
        "\n",
        "The centralized value function is updated by minimizing the loss:\n",
        "\n",
        "$$\n",
        "\\mathcal{L}^V(\\phi) = \\mathbb{E}_t \\left[ \\left( V(s_t; \\phi) - R_t \\right)^2 \\right]\n",
        "$$\n",
        "#### 🧠🔄 1.4. Multi-Agent Actor-Critic for Mixed Cooperative-Competitive Environments (MAAC)\n",
        "\n",
        "MAAC combines actor-critic methods with attention mechanisms to handle mixed environments. The critic for agent $ i $ is:\n",
        "\n",
        "$$ Q_i(s_t, a_t) = \\mathbb{E}_{a_{-i}} \\left[ r_t + \\gamma V_i(s_{t+1}) \\right] $$\n",
        "\n",
        "Where:\n",
        "- $ a_{-i} $: Actions of all agents except $ i $\n",
        "- $ V_i(s_{t+1}) $: Value function for agent $ i $ at time $ t+1 $\n",
        "\n",
        "**Comparison with SARL:**\n",
        "In SARL, a single actor-critic method is applied to the agent. In MAAC, attention mechanisms are used to handle interactions in mixed cooperative-competitive environments.\n",
        "\n",
        "\n"
      ],
      "metadata": {
        "id": "gfPhfsNPqAID"
      }
    },
    {
      "cell_type": "markdown",
      "source": [
        "### **🧠2. Value Decomposition Methods**\n"
      ],
      "metadata": {
        "id": "3ti1pbp-o6i-"
      }
    },
    {
      "cell_type": "markdown",
      "source": [
        "\n",
        "Value decomposition methods aim to break down the joint value function into individual components, enabling agents to learn cooperative behaviors while maintaining decentralized execution. This decomposition simplifies the complex problem of credit assignment in multi-agent systems, where determining the contribution of each agent to the overall outcome is challenging.\n",
        "\n",
        "\n",
        "#### 🧠💡 2.1. Value Decomposition Networks (VDN)\n",
        "\n",
        "VDN decomposes the joint Q-function into a sum of individual Q-functions:\n",
        "\n",
        "$$ Q_{\\text{joint}}(s_t, \\mathbf{a}_t) = \\sum_{i} Q_i(s_t, a_{i,t}) $$\n",
        "\n",
        "Where:\n",
        "- $ \\mathbf{a}_t $: Joint action at time $ t $\n",
        "- $ Q_{\\text{joint}} $: Joint Q-function\n",
        "- $ Q_i $: Individual Q-function for agent $ i $\n",
        "\n",
        "**Comparison with SARL:**\n",
        "In SARL, a single Q-function is learned for the agent. In VDN, the joint Q-function is decomposed into individual Q-functions, facilitating decentralized learning.\n",
        "\n",
        "#### 🧠🔗 2.2. QMIX\n",
        "\n",
        "QMIX is a monotonic value function factorization method that ensures joint action-value maximization. The joint Q-function is represented as:\n",
        "\n",
        "$$ Q_{\\text{joint}}(s_t, \\mathbf{a}_t) = \\sum_{i} f_i(s_t, a_{i,t}) \\quad \\text{with} \\quad f_i \\text{ being a monotonic function} $$\n",
        "\n",
        "**Comparison with SARL:**\n",
        "In SARL, a single Q-function is learned for the agent. In QMIX, the joint Q-function is factorized into individual components, ensuring that the joint action-value is maximized.\n",
        "\n",
        "#### 🧠⚡ 2.3. QTRAN\n",
        "\n",
        "QTRAN decomposes the joint Q-function into individual Q-functions while maintaining optimality. The decomposition is:\n",
        "\n",
        "$$ Q_{\\text{joint}}(s_t, \\mathbf{a}_t) = \\sum_{i} Q_i(s_t, a_{i,t}) + \\sum_{i,j} \\Delta_{ij}(s_t, a_{i,t}, a_{j,t}) $$\n",
        "\n",
        "Where:\n",
        "- $ \\Delta_{ij} $: Interaction term between agents $ i $ and $ j $\n",
        "\n",
        "**Comparison with SARL:**\n",
        "In SARL, a single Q-function is learned for the agent. In QTRAN, the joint Q-function is decomposed into individual Q-functions with interaction terms, allowing for coordinated learning.\n",
        "\n",
        "\n"
      ],
      "metadata": {
        "id": "j6UMLYcJol24"
      }
    },
    {
      "cell_type": "markdown",
      "source": [
        "##  **Independent Learning Approaches**"
      ],
      "metadata": {
        "id": "COyU1j2RXkGY"
      }
    },
    {
      "cell_type": "markdown",
      "source": [
        " **Independent Learning Approaches** treat each agent as an autonomous learner, applying SARL techniques without explicit coordination. These approaches assume that other agents' policies are fixed, leading each agent to independently optimize its own policy.\n",
        "\n",
        "These independent learning approaches are particularly suited for competitive settings, where agents operate without explicit coordination. However, they may face challenges in cooperative environments due to the lack of shared information and potential for suboptimal outcomes.\n",
        "\n",
        "**Key Aspects of Independent Learning Approaches:**\n",
        "\n",
        "- **Decentralized Learning:** Each agent learns its policy without sharing information or coordinating with other agents.\n",
        "\n",
        "- **Potential for Suboptimal Outcomes:** Without coordination, agents may converge to suboptimal policies, especially in competitive or complex environments.\n",
        "\n",
        "**🧠 1. Independent Q-Learning (IQL)**\n",
        "\n",
        "In IQL, each agent independently learns its own Q-function, assuming other agents' policies remain static. The Q-value update rule for agent $i$ is:\n",
        "\n",
        "$$\n",
        "Q_i(s_t, a_t) \\leftarrow Q_i(s_t, a_t) + \\alpha \\left[ r_t + \\gamma \\max_{a'} Q_i(s_{t+1}, a') - Q_i(s_t, a_t) \\right]\n",
        "$$\n",
        "\n",
        "Where:\n",
        "- $s_t$: State at time $t$\n",
        "- $a_t$: Action taken at time $t$\n",
        "- $r_t$: Reward received at time $t$\n",
        "- $\\gamma$: Discount factor\n",
        "- $\\alpha$: Learning rate\n",
        "\n",
        "**🧠💻 2. Independent Deep Q-Networks (IDQN)**\n",
        "\n",
        "IDQN extends IQL by employing deep neural networks to approximate Q-functions. The update rule mirrors that of IQL, but the Q-function is represented by a neural network $Q_i(s, a; \\theta_i)$, where $\\theta_i$ denotes the network parameters.\n",
        "\n",
        "**🧠🎭 3. Independent Actor-Critic (IAC)**\n",
        "\n",
        "In IAC, each agent maintains its own policy $\\pi_i$ and value function $V_i$, updating them independently. The policy is updated using the policy gradient theorem:\n",
        "\n",
        "$$\n",
        "\\nabla_{\\theta_i} J(\\theta_i) = \\mathbb{E}_{\\tau} \\left[ \\nabla_{\\theta_i} \\log \\pi_i(a_t | s_t; \\theta_i) \\cdot \\delta_t \\right]\n",
        "$$\n",
        "\n",
        "Where:\n",
        "- $\\delta_t = r_t + \\gamma V_i(s_{t+1}) - V_i(s_t)$\n",
        "\n",
        "**🧠📈 4. Independent Proximal Policy Optimization (IPPO)**\n",
        "\n",
        "IPPO involves each agent independently applying Proximal Policy Optimization (PPO) to update its policy. The objective function for agent $i$ is:\n",
        "\n",
        "$$\n",
        "L^{\\text{CLIP}}_i(\\theta_i) = \\mathbb{E}_t \\left[ \\min \\left( r_t(\\theta_i) \\cdot \\hat{A}_t, \\text{clip}(r_t(\\theta_i), 1 - \\epsilon, 1 + \\epsilon) \\cdot \\hat{A}_t \\right) \\right]\n",
        "$$\n",
        "\n",
        "Where:\n",
        "- $r_t(\\theta_i) = \\frac{\\pi_i(a_t | s_t; \\theta_i)}{\\pi_i(a_t | s_t; \\theta_{i,\\text{old}})}$\n",
        "- $\\hat{A}_t$: Estimated advantage at time $t$\n",
        "- $\\epsilon$: Clipping parameter\n",
        "\n",
        "\n",
        "\n"
      ],
      "metadata": {
        "id": "prtXyrbUPK9v"
      }
    },
    {
      "cell_type": "markdown",
      "source": [
        "\n",
        "\n",
        "## **🧠🧠 Advanced Strategies for Competitive MARL**\n",
        "\n",
        "In competitive Multi-Agent Reinforcement Learning (MARL), agents operate with opposing objectives, aiming to outperform each other.\n",
        "Understanding and anticipating opponents' behaviors is essential in competitive settings. By modeling opponents, agents can predict actions and adjust their strategies accordingly. This approach enhances performance by enabling agents to counteract opponents' tactics effectively.\n",
        "\n",
        "**Key Strategies:**\n",
        "\n",
        "- **Self-Play:** Agents train by competing against copies of themselves, allowing them to develop robust strategies through repeated interactions. This method is particularly effective in games like chess and Go, where agents can simulate various scenarios to improve their performance.\n",
        "\n",
        "  - **Implementation Steps:**\n",
        "    - **Initialize Multiple Agent Instances:** Create multiple instances of the agent, each with identical or evolving policies.\n",
        "    - **Simulate Interactions:** Allow these agents to play against each other in the target environment.\n",
        "    - **Policy Update:** After each game, update the agents' policies based on the outcomes, reinforcing successful strategies.\n",
        "    - **Iterative Training:** Repeat the process, enabling agents to adapt and refine their strategies over time.\n",
        "\n",
        "- **Opponent Modeling:** Agents learn models of their opponents to predict future actions, facilitating strategic planning. This technique is beneficial in environments where understanding the opponent's strategy is key to success.\n",
        "\n",
        "  - **Implementation Steps:**\n",
        "    - **Opponent Behavior Encoding:** Use neural networks to encode observations of the opponent's actions and states.\n",
        "    - **Policy and Model Joint Training:** Simultaneously train the agent's policy and the opponent model, allowing the agent to adapt to various strategies.\n",
        "    - **Strategic Adjustment:** Utilize the opponent model to predict and counteract the opponent's moves during interactions.\n",
        "\n",
        "- **Meta-Learning:** Agents develop the ability to adapt to new opponents by learning from a variety of adversarial interactions. This approach enables agents to generalize across different competitive scenarios.\n",
        "\n",
        "  - **Implementation Steps:**\n",
        "    - **Diverse Training Scenarios:** Expose the agent to a wide range of opponents with varying strategies.\n",
        "    - **Adaptation Mechanism:** Implement algorithms that allow the agent to quickly adjust its policy in response to new opponents.\n",
        "    - **Performance Evaluation:** Assess the agent's ability to maintain performance across different adversarial conditions.\n",
        "\n",
        "- **Ensemble Methods:** By maintaining multiple models of potential opponents, agents can select the most appropriate strategy based on the current context, enhancing adaptability and robustness.\n",
        "\n",
        "  - **Implementation Steps:**\n",
        "    - **Model Collection:** Develop and maintain a set of models representing different opponent strategies.\n",
        "    - **Contextual Analysis:** Evaluate the current game state to determine the most likely opponent model.\n",
        "    - **Strategy Selection:** Choose the agent's strategy that is most effective against the identified opponent model.\n",
        "    - **Continuous Refinement:** Update and refine the opponent models based on new interactions to improve future performance.\n"
      ],
      "metadata": {
        "id": "5HjxXShobfNX"
      }
    },
    {
      "cell_type": "markdown",
      "source": [
        "# Example: Implementing IPPO for pistonball using PettingZoo Gym"
      ],
      "metadata": {
        "id": "1EKJPcKqGSAL"
      }
    },
    {
      "cell_type": "markdown",
      "source": [
        "In this example below, we showcase the use of an IPPO algorithm that is trained to play the Atari game, Pistonball.\n",
        "\n",
        "This is a simple physics based cooperative game where the goal is to move the ball to the left wall of the game border by activating the vertically moving pistons.We can see here this game falls into the cooperative setting, and can alternate between whether the agents act sequentially, know as the Agent Environment Cycle mode or they take decisions in parallel.\n",
        "\n",
        "The agents are rewarded for moving the ball to the left, and incentivized to to it quickly through the use of a time penalty.This is an IPPO implementation, where each agent is treated independently with shared policy weights but no explicit coordination or centralized critic.\n",
        "\n",
        "The hyperparameters that can be played with are the clipping co-efficient, the number of episodes, and the discount rate.\n",
        "\n",
        "This code has been slightly modified from the [documentation](https://pettingzoo.farama.org/tutorials/cleanrl/implementing_PPO/) to enable you to experiment with the hyperparameters in real time. Credit to author [Jet](https://github.com/jjshoots) for the initial implementation."
      ],
      "metadata": {
        "id": "_WYNy8X-TF-H"
      }
    },
    {
      "cell_type": "code",
      "source": [
        "!mv INF8250AE-MARL-NOTEBOOK INF8250AE_MARL_NOTEBOOK\n"
      ],
      "metadata": {
        "id": "kRxUvqCrsE3X"
      },
      "execution_count": null,
      "outputs": []
    },
    {
      "cell_type": "code",
      "source": [
        "!pip install supersuit\n",
        "!pip install pymunk\n",
        "import sys\n",
        "sys.path.append(\"/content/INF8250AE_MARL_NOTEBOOK/PettingZoo_PistonBall\")  # Update with the path to your subfolder\n",
        "from INF8250AE_MARL_NOTEBOOK.PettingZoo_PistonBall.pistonball_mappo import train_policy, render_policy"
      ],
      "metadata": {
        "id": "xKtIOEkaN46V",
        "colab": {
          "base_uri": "https://localhost:8080/"
        },
        "outputId": "9b97cb62-677b-46c1-95a0-467197099597"
      },
      "execution_count": null,
      "outputs": [
        {
          "output_type": "stream",
          "name": "stdout",
          "text": [
            "Requirement already satisfied: supersuit in /usr/local/lib/python3.10/dist-packages (3.9.3)\n",
            "Requirement already satisfied: numpy>=1.19.0 in /usr/local/lib/python3.10/dist-packages (from supersuit) (1.26.4)\n",
            "Requirement already satisfied: gymnasium>=0.28.1 in /usr/local/lib/python3.10/dist-packages (from supersuit) (1.0.0)\n",
            "Requirement already satisfied: tinyscaler>=1.2.6 in /usr/local/lib/python3.10/dist-packages (from supersuit) (1.2.8)\n",
            "Requirement already satisfied: cloudpickle>=1.2.0 in /usr/local/lib/python3.10/dist-packages (from gymnasium>=0.28.1->supersuit) (3.1.0)\n",
            "Requirement already satisfied: typing-extensions>=4.3.0 in /usr/local/lib/python3.10/dist-packages (from gymnasium>=0.28.1->supersuit) (4.12.2)\n",
            "Requirement already satisfied: farama-notifications>=0.0.1 in /usr/local/lib/python3.10/dist-packages (from gymnasium>=0.28.1->supersuit) (0.0.4)\n",
            "Requirement already satisfied: pymunk in /usr/local/lib/python3.10/dist-packages (6.9.0)\n",
            "Requirement already satisfied: cffi>=1.17.1 in /usr/local/lib/python3.10/dist-packages (from pymunk) (1.17.1)\n",
            "Requirement already satisfied: pycparser in /usr/local/lib/python3.10/dist-packages (from cffi>=1.17.1->pymunk) (2.22)\n"
          ]
        }
      ]
    },
    {
      "cell_type": "code",
      "source": [
        "#Use this cell to check if notebook is set to use cpu or gpu.\n",
        "#You can get faster results from the GPU\n",
        "print(\"GPU available:\", torch.cuda.is_available())\n",
        "device = torch.device(\"cuda\" if torch.cuda.is_available() else \"cpu\")\n",
        "print(\"Using device:\", device)"
      ],
      "metadata": {
        "id": "ifcGnGT29ix4",
        "colab": {
          "base_uri": "https://localhost:8080/"
        },
        "outputId": "b5875147-9762-4a7e-bd5d-ae6d78af01ef"
      },
      "execution_count": null,
      "outputs": [
        {
          "output_type": "stream",
          "name": "stdout",
          "text": [
            "GPU available: True\n",
            "Using device: cuda\n"
          ]
        }
      ]
    },
    {
      "cell_type": "code",
      "source": [
        "#Select Hyperparamters\n",
        "num_episodes = 1\n",
        "discount_rate = 0.99\n",
        "clipping_coef = 0.1"
      ],
      "metadata": {
        "id": "PXKsk1h2IXZH"
      },
      "execution_count": null,
      "outputs": []
    },
    {
      "cell_type": "code",
      "source": [
        "trained_agent, device = train_policy(num_episodes, discount_rate, clipping_coef)"
      ],
      "metadata": {
        "id": "kp9byEEWMzA7",
        "colab": {
          "base_uri": "https://localhost:8080/"
        },
        "outputId": "66cdd6b9-06fc-4ae7-e252-493de6d113eb"
      },
      "execution_count": null,
      "outputs": [
        {
          "output_type": "stream",
          "name": "stdout",
          "text": [
            "Beginning Training\n",
            "Training episode 0\n",
            "Episodic Return: -13.218403816223145\n",
            "Episode Length: 124\n",
            "\n",
            "Value Loss: 99.61067199707031\n",
            "Policy Loss: -13.34893798828125\n",
            "Old Approx KL: -0.0021174773573875427\n",
            "Approx KL: 0.0009930990636348724\n",
            "Clip Fraction: 0.10096153846153846\n",
            "Explained Variance: -0.042389869689941406\n",
            "\n",
            "-------------------------------------------\n",
            "\n"
          ]
        }
      ]
    },
    {
      "cell_type": "code",
      "source": [
        "#Produce a gif of the output\n",
        "render_policy(trained_agent, num_episodes, device)"
      ],
      "metadata": {
        "id": "DQlGEdIKMywq",
        "colab": {
          "base_uri": "https://localhost:8080/"
        },
        "outputId": "5ee79d40-2e92-4fc7-a849-8bc59ee47c1d"
      },
      "execution_count": null,
      "outputs": [
        {
          "output_type": "stream",
          "name": "stdout",
          "text": [
            "Saved GIF to pistonball.gif\n"
          ]
        }
      ]
    },
    {
      "cell_type": "code",
      "source": [
        "from IPython.display import Image, display\n",
        "# Display the uploaded GIF\n",
        "display(Image(filename=\"/content/pistonball.gif\"))"
      ],
      "metadata": {
        "id": "M7gThkAXRwsF",
        "colab": {
          "base_uri": "https://localhost:8080/",
          "height": 577
        },
        "outputId": "beaf73d3-9190-4cff-ceff-4611e794eae8"
      },
      "execution_count": null,
      "outputs": [
        {
          "output_type": "display_data",
          "data": {
            "image/gif": "[encoded data removed]",
            "text/plain": [
              "<IPython.core.display.Image object>"
            ]
          },
          "metadata": {}
        }
      ]
    }
  ],
  "metadata": {
    "colab": {
      "provenance": [],
      "gpuType": "T4",
      "include_colab_link": true
    },
    "kernelspec": {
      "display_name": "Python 3",
      "name": "python3"
    },
    "widgets": {
      "application/vnd.jupyter.widget-state+json": {
        "bd7ad0624fa14d96944e0960ff32ffd4": {
          "model_module": "@jupyter-widgets/controls",
          "model_name": "VBoxModel",
          "model_module_version": "1.5.0",
          "state": {
            "_dom_classes": [
              "widget-interact"
            ],
            "_model_module": "@jupyter-widgets/controls",
            "_model_module_version": "1.5.0",
            "_model_name": "VBoxModel",
            "_view_count": null,
            "_view_module": "@jupyter-widgets/controls",
            "_view_module_version": "1.5.0",
            "_view_name": "VBoxView",
            "box_style": "",
            "children": [
              "IPY_MODEL_3c6b525a21954f2392582dc30a6ffa03",
              "IPY_MODEL_9d47bdf869374cbb9ab0476178e670ff"
            ],
            "layout": "IPY_MODEL_a4b5adc264c7488a8eee03989589d9d4"
          }
        },
        "3c6b525a21954f2392582dc30a6ffa03": {
          "model_module": "@jupyter-widgets/controls",
          "model_name": "IntSliderModel",
          "model_module_version": "1.5.0",
          "state": {
            "_dom_classes": [],
            "_model_module": "@jupyter-widgets/controls",
            "_model_module_version": "1.5.0",
            "_model_name": "IntSliderModel",
            "_view_count": null,
            "_view_module": "@jupyter-widgets/controls",
            "_view_module_version": "1.5.0",
            "_view_name": "IntSliderView",
            "continuous_update": true,
            "description": "Number of Agents:",
            "description_tooltip": null,
            "disabled": false,
            "layout": "IPY_MODEL_8679a658dbd84fc987d75986ad97daac",
            "max": 4,
            "min": 2,
            "orientation": "horizontal",
            "readout": true,
            "readout_format": "d",
            "step": 1,
            "style": "IPY_MODEL_839d42e408e04f7eb77b48b3871e6ea1",
            "value": 2
          }
        },
        "9d47bdf869374cbb9ab0476178e670ff": {
          "model_module": "@jupyter-widgets/output",
          "model_name": "OutputModel",
          "model_module_version": "1.0.0",
          "state": {
            "_dom_classes": [],
            "_model_module": "@jupyter-widgets/output",
            "_model_module_version": "1.0.0",
            "_model_name": "OutputModel",
            "_view_count": null,
            "_view_module": "@jupyter-widgets/output",
            "_view_module_version": "1.0.0",
            "_view_name": "OutputView",
            "layout": "IPY_MODEL_27ac7f6d37454b30beaa877d764f0ad6",
            "msg_id": "",
            "outputs": [
              {
                "output_type": "stream",
                "name": "stdout",
                "text": [
                  "Single-Agent Environment (State Space Size: 5, Action Space Size: 4)\n",
                  "Multi-Agent Environment (2 Agents) - Joint State Space Size: 25, Joint Action Space Size: 16\n"
                ]
              },
              {
                "output_type": "display_data",
                "data": {
                  "text/plain": "<Figure size 1500x600 with 2 Axes>",
                  "image/png": "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\n"
                },
                "metadata": {}
              }
            ]
          }
        },
        "a4b5adc264c7488a8eee03989589d9d4": {
          "model_module": "@jupyter-widgets/base",
          "model_name": "LayoutModel",
          "model_module_version": "1.2.0",
          "state": {
            "_model_module": "@jupyter-widgets/base",
            "_model_module_version": "1.2.0",
            "_model_name": "LayoutModel",
            "_view_count": null,
            "_view_module": "@jupyter-widgets/base",
            "_view_module_version": "1.2.0",
            "_view_name": "LayoutView",
            "align_content": null,
            "align_items": null,
            "align_self": null,
            "border": null,
            "bottom": null,
            "display": null,
            "flex": null,
            "flex_flow": null,
            "grid_area": null,
            "grid_auto_columns": null,
            "grid_auto_flow": null,
            "grid_auto_rows": null,
            "grid_column": null,
            "grid_gap": null,
            "grid_row": null,
            "grid_template_areas": null,
            "grid_template_columns": null,
            "grid_template_rows": null,
            "height": null,
            "justify_content": null,
            "justify_items": null,
            "left": null,
            "margin": null,
            "max_height": null,
            "max_width": null,
            "min_height": null,
            "min_width": null,
            "object_fit": null,
            "object_position": null,
            "order": null,
            "overflow": null,
            "overflow_x": null,
            "overflow_y": null,
            "padding": null,
            "right": null,
            "top": null,
            "visibility": null,
            "width": null
          }
        },
        "8679a658dbd84fc987d75986ad97daac": {
          "model_module": "@jupyter-widgets/base",
          "model_name": "LayoutModel",
          "model_module_version": "1.2.0",
          "state": {
            "_model_module": "@jupyter-widgets/base",
            "_model_module_version": "1.2.0",
            "_model_name": "LayoutModel",
            "_view_count": null,
            "_view_module": "@jupyter-widgets/base",
            "_view_module_version": "1.2.0",
            "_view_name": "LayoutView",
            "align_content": null,
            "align_items": null,
            "align_self": null,
            "border": null,
            "bottom": null,
            "display": null,
            "flex": null,
            "flex_flow": null,
            "grid_area": null,
            "grid_auto_columns": null,
            "grid_auto_flow": null,
            "grid_auto_rows": null,
            "grid_column": null,
            "grid_gap": null,
            "grid_row": null,
            "grid_template_areas": null,
            "grid_template_columns": null,
            "grid_template_rows": null,
            "height": null,
            "justify_content": null,
            "justify_items": null,
            "left": null,
            "margin": null,
            "max_height": null,
            "max_width": null,
            "min_height": null,
            "min_width": null,
            "object_fit": null,
            "object_position": null,
            "order": null,
            "overflow": null,
            "overflow_x": null,
            "overflow_y": null,
            "padding": null,
            "right": null,
            "top": null,
            "visibility": null,
            "width": null
          }
        },
        "839d42e408e04f7eb77b48b3871e6ea1": {
          "model_module": "@jupyter-widgets/controls",
          "model_name": "SliderStyleModel",
          "model_module_version": "1.5.0",
          "state": {
            "_model_module": "@jupyter-widgets/controls",
            "_model_module_version": "1.5.0",
            "_model_name": "SliderStyleModel",
            "_view_count": null,
            "_view_module": "@jupyter-widgets/base",
            "_view_module_version": "1.2.0",
            "_view_name": "StyleView",
            "description_width": "initial",
            "handle_color": null
          }
        },
        "27ac7f6d37454b30beaa877d764f0ad6": {
          "model_module": "@jupyter-widgets/base",
          "model_name": "LayoutModel",
          "model_module_version": "1.2.0",
          "state": {
            "_model_module": "@jupyter-widgets/base",
            "_model_module_version": "1.2.0",
            "_model_name": "LayoutModel",
            "_view_count": null,
            "_view_module": "@jupyter-widgets/base",
            "_view_module_version": "1.2.0",
            "_view_name": "LayoutView",
            "align_content": null,
            "align_items": null,
            "align_self": null,
            "border": null,
            "bottom": null,
            "display": null,
            "flex": null,
            "flex_flow": null,
            "grid_area": null,
            "grid_auto_columns": null,
            "grid_auto_flow": null,
            "grid_auto_rows": null,
            "grid_column": null,
            "grid_gap": null,
            "grid_row": null,
            "grid_template_areas": null,
            "grid_template_columns": null,
            "grid_template_rows": null,
            "height": null,
            "justify_content": null,
            "justify_items": null,
            "left": null,
            "margin": null,
            "max_height": null,
            "max_width": null,
            "min_height": null,
            "min_width": null,
            "object_fit": null,
            "object_position": null,
            "order": null,
            "overflow": null,
            "overflow_x": null,
            "overflow_y": null,
            "padding": null,
            "right": null,
            "top": null,
            "visibility": null,
            "width": null
          }
        },
        "a0fa504f14814847af190e21658f6e74": {
          "model_module": "@jupyter-widgets/controls",
          "model_name": "VBoxModel",
          "model_module_version": "1.5.0",
          "state": {
            "_dom_classes": [
              "widget-interact"
            ],
            "_model_module": "@jupyter-widgets/controls",
            "_model_module_version": "1.5.0",
            "_model_name": "VBoxModel",
            "_view_count": null,
            "_view_module": "@jupyter-widgets/controls",
            "_view_module_version": "1.5.0",
            "_view_name": "VBoxView",
            "box_style": "",
            "children": [
              "IPY_MODEL_8b81b7ee773a44c6ba2c7fa240e32141",
              "IPY_MODEL_3e5ac02ebb95405ca17d832ea98731e7"
            ],
            "layout": "IPY_MODEL_7cfdfa52441a466dbe22ab0077dc93d7"
          }
        },
        "8b81b7ee773a44c6ba2c7fa240e32141": {
          "model_module": "@jupyter-widgets/controls",
          "model_name": "DropdownModel",
          "model_module_version": "1.5.0",
          "state": {
            "_dom_classes": [],
            "_model_module": "@jupyter-widgets/controls",
            "_model_module_version": "1.5.0",
            "_model_name": "DropdownModel",
            "_options_labels": [
              "Competitive",
              "Cooperative",
              "Mixed"
            ],
            "_view_count": null,
            "_view_module": "@jupyter-widgets/controls",
            "_view_module_version": "1.5.0",
            "_view_name": "DropdownView",
            "description": "marl_type",
            "description_tooltip": null,
            "disabled": false,
            "index": 0,
            "layout": "IPY_MODEL_2aa0a54281974b6b8e064783ecfa0987",
            "style": "IPY_MODEL_db1336f82b7f4282a0a867f96aafa68f"
          }
        },
        "3e5ac02ebb95405ca17d832ea98731e7": {
          "model_module": "@jupyter-widgets/output",
          "model_name": "OutputModel",
          "model_module_version": "1.0.0",
          "state": {
            "_dom_classes": [],
            "_model_module": "@jupyter-widgets/output",
            "_model_module_version": "1.0.0",
            "_model_name": "OutputModel",
            "_view_count": null,
            "_view_module": "@jupyter-widgets/output",
            "_view_module_version": "1.0.0",
            "_view_name": "OutputView",
            "layout": "IPY_MODEL_2730df56a01b49b897ecbe60228f57ff",
            "msg_id": "",
            "outputs": [
              {
                "output_type": "display_data",
                "data": {
                  "text/plain": "<IPython.core.display.Markdown object>",
                  "text/markdown": "\n            Competitive MARL\n            - Payoff Matrix: A zero-sum game where the total payoff across all players is zero.\n            - Key Characteristic: One player's gain is another player's loss.\n            - Example: Two-player games like chess, where players are directly competing.\n            "
                },
                "metadata": {}
              },
              {
                "output_type": "display_data",
                "data": {
                  "text/plain": "<Figure size 600x400 with 2 Axes>",
                  "image/png": "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\n"
                },
                "metadata": {}
              }
            ]
          }
        },
        "7cfdfa52441a466dbe22ab0077dc93d7": {
          "model_module": "@jupyter-widgets/base",
          "model_name": "LayoutModel",
          "model_module_version": "1.2.0",
          "state": {
            "_model_module": "@jupyter-widgets/base",
            "_model_module_version": "1.2.0",
            "_model_name": "LayoutModel",
            "_view_count": null,
            "_view_module": "@jupyter-widgets/base",
            "_view_module_version": "1.2.0",
            "_view_name": "LayoutView",
            "align_content": null,
            "align_items": null,
            "align_self": null,
            "border": null,
            "bottom": null,
            "display": null,
            "flex": null,
            "flex_flow": null,
            "grid_area": null,
            "grid_auto_columns": null,
            "grid_auto_flow": null,
            "grid_auto_rows": null,
            "grid_column": null,
            "grid_gap": null,
            "grid_row": null,
            "grid_template_areas": null,
            "grid_template_columns": null,
            "grid_template_rows": null,
            "height": null,
            "justify_content": null,
            "justify_items": null,
            "left": null,
            "margin": null,
            "max_height": null,
            "max_width": null,
            "min_height": null,
            "min_width": null,
            "object_fit": null,
            "object_position": null,
            "order": null,
            "overflow": null,
            "overflow_x": null,
            "overflow_y": null,
            "padding": null,
            "right": null,
            "top": null,
            "visibility": null,
            "width": null
          }
        },
        "2aa0a54281974b6b8e064783ecfa0987": {
          "model_module": "@jupyter-widgets/base",
          "model_name": "LayoutModel",
          "model_module_version": "1.2.0",
          "state": {
            "_model_module": "@jupyter-widgets/base",
            "_model_module_version": "1.2.0",
            "_model_name": "LayoutModel",
            "_view_count": null,
            "_view_module": "@jupyter-widgets/base",
            "_view_module_version": "1.2.0",
            "_view_name": "LayoutView",
            "align_content": null,
            "align_items": null,
            "align_self": null,
            "border": null,
            "bottom": null,
            "display": null,
            "flex": null,
            "flex_flow": null,
            "grid_area": null,
            "grid_auto_columns": null,
            "grid_auto_flow": null,
            "grid_auto_rows": null,
            "grid_column": null,
            "grid_gap": null,
            "grid_row": null,
            "grid_template_areas": null,
            "grid_template_columns": null,
            "grid_template_rows": null,
            "height": null,
            "justify_content": null,
            "justify_items": null,
            "left": null,
            "margin": null,
            "max_height": null,
            "max_width": null,
            "min_height": null,
            "min_width": null,
            "object_fit": null,
            "object_position": null,
            "order": null,
            "overflow": null,
            "overflow_x": null,
            "overflow_y": null,
            "padding": null,
            "right": null,
            "top": null,
            "visibility": null,
            "width": null
          }
        },
        "db1336f82b7f4282a0a867f96aafa68f": {
          "model_module": "@jupyter-widgets/controls",
          "model_name": "DescriptionStyleModel",
          "model_module_version": "1.5.0",
          "state": {
            "_model_module": "@jupyter-widgets/controls",
            "_model_module_version": "1.5.0",
            "_model_name": "DescriptionStyleModel",
            "_view_count": null,
            "_view_module": "@jupyter-widgets/base",
            "_view_module_version": "1.2.0",
            "_view_name": "StyleView",
            "description_width": ""
          }
        },
        "2730df56a01b49b897ecbe60228f57ff": {
          "model_module": "@jupyter-widgets/base",
          "model_name": "LayoutModel",
          "model_module_version": "1.2.0",
          "state": {
            "_model_module": "@jupyter-widgets/base",
            "_model_module_version": "1.2.0",
            "_model_name": "LayoutModel",
            "_view_count": null,
            "_view_module": "@jupyter-widgets/base",
            "_view_module_version": "1.2.0",
            "_view_name": "LayoutView",
            "align_content": null,
            "align_items": null,
            "align_self": null,
            "border": null,
            "bottom": null,
            "display": null,
            "flex": null,
            "flex_flow": null,
            "grid_area": null,
            "grid_auto_columns": null,
            "grid_auto_flow": null,
            "grid_auto_rows": null,
            "grid_column": null,
            "grid_gap": null,
            "grid_row": null,
            "grid_template_areas": null,
            "grid_template_columns": null,
            "grid_template_rows": null,
            "height": null,
            "justify_content": null,
            "justify_items": null,
            "left": null,
            "margin": null,
            "max_height": null,
            "max_width": null,
            "min_height": null,
            "min_width": null,
            "object_fit": null,
            "object_position": null,
            "order": null,
            "overflow": null,
            "overflow_x": null,
            "overflow_y": null,
            "padding": null,
            "right": null,
            "top": null,
            "visibility": null,
            "width": null
          }
        },
        "e5b2085703a1497ab88a7c5399c9c246": {
          "model_module": "@jupyter-widgets/controls",
          "model_name": "VBoxModel",
          "model_module_version": "1.5.0",
          "state": {
            "_dom_classes": [
              "widget-interact"
            ],
            "_model_module": "@jupyter-widgets/controls",
            "_model_module_version": "1.5.0",
            "_model_name": "VBoxModel",
            "_view_count": null,
            "_view_module": "@jupyter-widgets/controls",
            "_view_module_version": "1.5.0",
            "_view_name": "VBoxView",
            "box_style": "",
            "children": [
              "IPY_MODEL_d0c43b11a02b4818adfc1d6915f45eed",
              "IPY_MODEL_c6a8987986a840efb98c320a53c14e94",
              "IPY_MODEL_2585ed31448d405e9a5f4329d2a81735"
            ],
            "layout": "IPY_MODEL_9b0aaf65184f4da8858a31d51e567dbb"
          }
        },
        "d0c43b11a02b4818adfc1d6915f45eed": {
          "model_module": "@jupyter-widgets/controls",
          "model_name": "IntSliderModel",
          "model_module_version": "1.5.0",
          "state": {
            "_dom_classes": [],
            "_model_module": "@jupyter-widgets/controls",
            "_model_module_version": "1.5.0",
            "_model_name": "IntSliderModel",
            "_view_count": null,
            "_view_module": "@jupyter-widgets/controls",
            "_view_module_version": "1.5.0",
            "_view_name": "IntSliderView",
            "continuous_update": true,
            "description": "N_agents",
            "description_tooltip": null,
            "disabled": false,
            "layout": "IPY_MODEL_b92dfabb76fd45d4b452c96cf496877c",
            "max": 10,
            "min": 2,
            "orientation": "horizontal",
            "readout": true,
            "readout_format": "d",
            "step": 1,
            "style": "IPY_MODEL_e88decff28ba4b8f8d02c2c93393e280",
            "value": 2
          }
        },
        "c6a8987986a840efb98c320a53c14e94": {
          "model_module": "@jupyter-widgets/controls",
          "model_name": "IntSliderModel",
          "model_module_version": "1.5.0",
          "state": {
            "_dom_classes": [],
            "_model_module": "@jupyter-widgets/controls",
            "_model_module_version": "1.5.0",
            "_model_name": "IntSliderModel",
            "_view_count": null,
            "_view_module": "@jupyter-widgets/controls",
            "_view_module_version": "1.5.0",
            "_view_name": "IntSliderView",
            "continuous_update": true,
            "description": "steps",
            "description_tooltip": null,
            "disabled": false,
            "layout": "IPY_MODEL_e78cbe9dc3cc4fc096465df161eaf1e1",
            "max": 500,
            "min": 100,
            "orientation": "horizontal",
            "readout": true,
            "readout_format": "d",
            "step": 10,
            "style": "IPY_MODEL_1635035d7e72443d895a8a0a5998dc3b",
            "value": 100
          }
        },
        "2585ed31448d405e9a5f4329d2a81735": {
          "model_module": "@jupyter-widgets/output",
          "model_name": "OutputModel",
          "model_module_version": "1.0.0",
          "state": {
            "_dom_classes": [],
            "_model_module": "@jupyter-widgets/output",
            "_model_module_version": "1.0.0",
            "_model_name": "OutputModel",
            "_view_count": null,
            "_view_module": "@jupyter-widgets/output",
            "_view_module_version": "1.0.0",
            "_view_name": "OutputView",
            "layout": "IPY_MODEL_c3f63190b3094b089b1a64a49229750f",
            "msg_id": "",
            "outputs": [
              {
                "output_type": "display_data",
                "data": {
                  "text/plain": "<Figure size 1000x600 with 1 Axes>",
                  "image/png": "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\n"
                },
                "metadata": {}
              },
              {
                "output_type": "display_data",
                "data": {
                  "text/plain": "<IPython.core.display.Markdown object>",
                  "text/markdown": "### **Single-Agent Animation**"
                },
                "metadata": {}
              },
              {
                "output_type": "display_data",
                "data": {
                  "image/gif": "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\n",
                  "text/plain": "<IPython.core.display.Image object>"
                },
                "metadata": {}
              },
              {
                "output_type": "display_data",
                "data": {
                  "text/plain": "<IPython.core.display.Markdown object>",
                  "text/markdown": "### **Multi-Agent Animation (N=2)**"
                },
                "metadata": {}
              },
              {
                "output_type": "display_data",
                "data": {
                  "image/gif": "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\n",
                  "text/plain": "<IPython.core.display.Image object>"
                },
                "metadata": {}
              }
            ]
          }
        },
        "9b0aaf65184f4da8858a31d51e567dbb": {
          "model_module": "@jupyter-widgets/base",
          "model_name": "LayoutModel",
          "model_module_version": "1.2.0",
          "state": {
            "_model_module": "@jupyter-widgets/base",
            "_model_module_version": "1.2.0",
            "_model_name": "LayoutModel",
            "_view_count": null,
            "_view_module": "@jupyter-widgets/base",
            "_view_module_version": "1.2.0",
            "_view_name": "LayoutView",
            "align_content": null,
            "align_items": null,
            "align_self": null,
            "border": null,
            "bottom": null,
            "display": null,
            "flex": null,
            "flex_flow": null,
            "grid_area": null,
            "grid_auto_columns": null,
            "grid_auto_flow": null,
            "grid_auto_rows": null,
            "grid_column": null,
            "grid_gap": null,
            "grid_row": null,
            "grid_template_areas": null,
            "grid_template_columns": null,
            "grid_template_rows": null,
            "height": null,
            "justify_content": null,
            "justify_items": null,
            "left": null,
            "margin": null,
            "max_height": null,
            "max_width": null,
            "min_height": null,
            "min_width": null,
            "object_fit": null,
            "object_position": null,
            "order": null,
            "overflow": null,
            "overflow_x": null,
            "overflow_y": null,
            "padding": null,
            "right": null,
            "top": null,
            "visibility": null,
            "width": null
          }
        },
        "b92dfabb76fd45d4b452c96cf496877c": {
          "model_module": "@jupyter-widgets/base",
          "model_name": "LayoutModel",
          "model_module_version": "1.2.0",
          "state": {
            "_model_module": "@jupyter-widgets/base",
            "_model_module_version": "1.2.0",
            "_model_name": "LayoutModel",
            "_view_count": null,
            "_view_module": "@jupyter-widgets/base",
            "_view_module_version": "1.2.0",
            "_view_name": "LayoutView",
            "align_content": null,
            "align_items": null,
            "align_self": null,
            "border": null,
            "bottom": null,
            "display": null,
            "flex": null,
            "flex_flow": null,
            "grid_area": null,
            "grid_auto_columns": null,
            "grid_auto_flow": null,
            "grid_auto_rows": null,
            "grid_column": null,
            "grid_gap": null,
            "grid_row": null,
            "grid_template_areas": null,
            "grid_template_columns": null,
            "grid_template_rows": null,
            "height": null,
            "justify_content": null,
            "justify_items": null,
            "left": null,
            "margin": null,
            "max_height": null,
            "max_width": null,
            "min_height": null,
            "min_width": null,
            "object_fit": null,
            "object_position": null,
            "order": null,
            "overflow": null,
            "overflow_x": null,
            "overflow_y": null,
            "padding": null,
            "right": null,
            "top": null,
            "visibility": null,
            "width": null
          }
        },
        "e88decff28ba4b8f8d02c2c93393e280": {
          "model_module": "@jupyter-widgets/controls",
          "model_name": "SliderStyleModel",
          "model_module_version": "1.5.0",
          "state": {
            "_model_module": "@jupyter-widgets/controls",
            "_model_module_version": "1.5.0",
            "_model_name": "SliderStyleModel",
            "_view_count": null,
            "_view_module": "@jupyter-widgets/base",
            "_view_module_version": "1.2.0",
            "_view_name": "StyleView",
            "description_width": "",
            "handle_color": null
          }
        },
        "e78cbe9dc3cc4fc096465df161eaf1e1": {
          "model_module": "@jupyter-widgets/base",
          "model_name": "LayoutModel",
          "model_module_version": "1.2.0",
          "state": {
            "_model_module": "@jupyter-widgets/base",
            "_model_module_version": "1.2.0",
            "_model_name": "LayoutModel",
            "_view_count": null,
            "_view_module": "@jupyter-widgets/base",
            "_view_module_version": "1.2.0",
            "_view_name": "LayoutView",
            "align_content": null,
            "align_items": null,
            "align_self": null,
            "border": null,
            "bottom": null,
            "display": null,
            "flex": null,
            "flex_flow": null,
            "grid_area": null,
            "grid_auto_columns": null,
            "grid_auto_flow": null,
            "grid_auto_rows": null,
            "grid_column": null,
            "grid_gap": null,
            "grid_row": null,
            "grid_template_areas": null,
            "grid_template_columns": null,
            "grid_template_rows": null,
            "height": null,
            "justify_content": null,
            "justify_items": null,
            "left": null,
            "margin": null,
            "max_height": null,
            "max_width": null,
            "min_height": null,
            "min_width": null,
            "object_fit": null,
            "object_position": null,
            "order": null,
            "overflow": null,
            "overflow_x": null,
            "overflow_y": null,
            "padding": null,
            "right": null,
            "top": null,
            "visibility": null,
            "width": null
          }
        },
        "1635035d7e72443d895a8a0a5998dc3b": {
          "model_module": "@jupyter-widgets/controls",
          "model_name": "SliderStyleModel",
          "model_module_version": "1.5.0",
          "state": {
            "_model_module": "@jupyter-widgets/controls",
            "_model_module_version": "1.5.0",
            "_model_name": "SliderStyleModel",
            "_view_count": null,
            "_view_module": "@jupyter-widgets/base",
            "_view_module_version": "1.2.0",
            "_view_name": "StyleView",
            "description_width": "",
            "handle_color": null
          }
        },
        "c3f63190b3094b089b1a64a49229750f": {
          "model_module": "@jupyter-widgets/base",
          "model_name": "LayoutModel",
          "model_module_version": "1.2.0",
          "state": {
            "_model_module": "@jupyter-widgets/base",
            "_model_module_version": "1.2.0",
            "_model_name": "LayoutModel",
            "_view_count": null,
            "_view_module": "@jupyter-widgets/base",
            "_view_module_version": "1.2.0",
            "_view_name": "LayoutView",
            "align_content": null,
            "align_items": null,
            "align_self": null,
            "border": null,
            "bottom": null,
            "display": null,
            "flex": null,
            "flex_flow": null,
            "grid_area": null,
            "grid_auto_columns": null,
            "grid_auto_flow": null,
            "grid_auto_rows": null,
            "grid_column": null,
            "grid_gap": null,
            "grid_row": null,
            "grid_template_areas": null,
            "grid_template_columns": null,
            "grid_template_rows": null,
            "height": null,
            "justify_content": null,
            "justify_items": null,
            "left": null,
            "margin": null,
            "max_height": null,
            "max_width": null,
            "min_height": null,
            "min_width": null,
            "object_fit": null,
            "object_position": null,
            "order": null,
            "overflow": null,
            "overflow_x": null,
            "overflow_y": null,
            "padding": null,
            "right": null,
            "top": null,
            "visibility": null,
            "width": null
          }
        },
        "4dbb29475ecb43d49419def138c4f09e": {
          "model_module": "@jupyter-widgets/controls",
          "model_name": "DropdownModel",
          "model_module_version": "1.5.0",
          "state": {
            "_dom_classes": [],
            "_model_module": "@jupyter-widgets/controls",
            "_model_module_version": "1.5.0",
            "_model_name": "DropdownModel",
            "_options_labels": [
              "Robotics",
              "Autonomous Vehicles",
              "Energy Systems",
              "Healthcare"
            ],
            "_view_count": null,
            "_view_module": "@jupyter-widgets/controls",
            "_view_module_version": "1.5.0",
            "_view_name": "DropdownView",
            "description": "Domain:",
            "description_tooltip": null,
            "disabled": false,
            "index": 0,
            "layout": "IPY_MODEL_bbfe3535a363440e958b4234435f623a",
            "style": "IPY_MODEL_019ca0e4c4e24887a32d39b61504e1e7"
          }
        },
        "bbfe3535a363440e958b4234435f623a": {
          "model_module": "@jupyter-widgets/base",
          "model_name": "LayoutModel",
          "model_module_version": "1.2.0",
          "state": {
            "_model_module": "@jupyter-widgets/base",
            "_model_module_version": "1.2.0",
            "_model_name": "LayoutModel",
            "_view_count": null,
            "_view_module": "@jupyter-widgets/base",
            "_view_module_version": "1.2.0",
            "_view_name": "LayoutView",
            "align_content": null,
            "align_items": null,
            "align_self": null,
            "border": null,
            "bottom": null,
            "display": null,
            "flex": null,
            "flex_flow": null,
            "grid_area": null,
            "grid_auto_columns": null,
            "grid_auto_flow": null,
            "grid_auto_rows": null,
            "grid_column": null,
            "grid_gap": null,
            "grid_row": null,
            "grid_template_areas": null,
            "grid_template_columns": null,
            "grid_template_rows": null,
            "height": null,
            "justify_content": null,
            "justify_items": null,
            "left": null,
            "margin": null,
            "max_height": null,
            "max_width": null,
            "min_height": null,
            "min_width": null,
            "object_fit": null,
            "object_position": null,
            "order": null,
            "overflow": null,
            "overflow_x": null,
            "overflow_y": null,
            "padding": null,
            "right": null,
            "top": null,
            "visibility": null,
            "width": null
          }
        },
        "019ca0e4c4e24887a32d39b61504e1e7": {
          "model_module": "@jupyter-widgets/controls",
          "model_name": "DescriptionStyleModel",
          "model_module_version": "1.5.0",
          "state": {
            "_model_module": "@jupyter-widgets/controls",
            "_model_module_version": "1.5.0",
            "_model_name": "DescriptionStyleModel",
            "_view_count": null,
            "_view_module": "@jupyter-widgets/base",
            "_view_module_version": "1.2.0",
            "_view_name": "StyleView",
            "description_width": ""
          }
        },
        "18f30226d4d44814b8dda5aa7cfd6fb4": {
          "model_module": "@jupyter-widgets/output",
          "model_name": "OutputModel",
          "model_module_version": "1.0.0",
          "state": {
            "_dom_classes": [],
            "_model_module": "@jupyter-widgets/output",
            "_model_module_version": "1.0.0",
            "_model_name": "OutputModel",
            "_view_count": null,
            "_view_module": "@jupyter-widgets/output",
            "_view_module_version": "1.0.0",
            "_view_name": "OutputView",
            "layout": "IPY_MODEL_fa6fc80ec5294498a3a3512551b1dd42",
            "msg_id": "",
            "outputs": [
              {
                "output_type": "display_data",
                "data": {
                  "text/plain": "<IPython.core.display.HTML object>",
                  "text/html": "\n            <style>\n                h4 { font-size: 22px; font-weight: bold; color: #2E4053; }\n                p, li { font-size: 16px; line-height: 1.5; color: #4F4F4F; }\n                ul { margin-left: 20px; }\n                button {\n                    background-color: #4CAF50;\n                    color: white;\n                    padding: 10px;\n                    border: none;\n                    cursor: pointer;\n                }\n                button:hover { background-color: #45a049; }\n            </style>\n        "
                },
                "metadata": {}
              },
              {
                "output_type": "display_data",
                "data": {
                  "text/plain": "<IPython.core.display.HTML object>",
                  "text/html": "<h4>Robotics</h4><p>In collaborative robotics, MARL enables multiple robots to coordinate and perform tasks such as exploration, disaster response, or assembly. For instance, a team of drones can distribute responsibilities for mapping or delivering supplies in disaster-affected areas, dynamically adapting to environmental changes.</p>"
                },
                "metadata": {}
              },
              {
                "output_type": "display_data",
                "data": {
                  "text/plain": "<IPython.core.display.HTML object>",
                  "text/html": "<ul><li>- Search and rescue operations</li><li>- Warehouse management</li><li>- Agricultural monitoring</li><li>- Construction automation</li></ul>"
                },
                "metadata": {}
              },
              {
                "output_type": "display_data",
                "data": {
                  "text/html": "<img src=\"https://dp9eps5gd5xd0.cloudfront.net/image-handler/ts/20230831083549/ri/850/src/images/news/ImageForNews_14271_169348534600376.jpg\" width=\"400\" height=\"300\"/>",
                  "text/plain": "<IPython.core.display.Image object>"
                },
                "metadata": {}
              },
              {
                "output_type": "display_data",
                "data": {
                  "text/plain": "<IPython.core.display.HTML object>",
                  "text/html": "<button onclick=\"this.nextElementSibling.style.display='block'\">Show References</button><div style=\"display:none;\"><ul><li>[1] Brown, et al. (2023). 'Swarm Intelligence through Multi-Agent Learning.' Robotics and Autonomous Systems.</li><li>[2] Smith, et al. (2022). 'Cooperative Multi-Robot Task Allocation.' Science Robotics.</li></ul></div>"
                },
                "metadata": {}
              }
            ]
          }
        },
        "fa6fc80ec5294498a3a3512551b1dd42": {
          "model_module": "@jupyter-widgets/base",
          "model_name": "LayoutModel",
          "model_module_version": "1.2.0",
          "state": {
            "_model_module": "@jupyter-widgets/base",
            "_model_module_version": "1.2.0",
            "_model_name": "LayoutModel",
            "_view_count": null,
            "_view_module": "@jupyter-widgets/base",
            "_view_module_version": "1.2.0",
            "_view_name": "LayoutView",
            "align_content": null,
            "align_items": null,
            "align_self": null,
            "border": null,
            "bottom": null,
            "display": null,
            "flex": null,
            "flex_flow": null,
            "grid_area": null,
            "grid_auto_columns": null,
            "grid_auto_flow": null,
            "grid_auto_rows": null,
            "grid_column": null,
            "grid_gap": null,
            "grid_row": null,
            "grid_template_areas": null,
            "grid_template_columns": null,
            "grid_template_rows": null,
            "height": null,
            "justify_content": null,
            "justify_items": null,
            "left": null,
            "margin": null,
            "max_height": null,
            "max_width": null,
            "min_height": null,
            "min_width": null,
            "object_fit": null,
            "object_position": null,
            "order": null,
            "overflow": null,
            "overflow_x": null,
            "overflow_y": null,
            "padding": null,
            "right": null,
            "top": null,
            "visibility": null,
            "width": null
          }
        }
      }
    },
    "accelerator": "GPU"
  },
  "nbformat": 4,
  "nbformat_minor": 0
}