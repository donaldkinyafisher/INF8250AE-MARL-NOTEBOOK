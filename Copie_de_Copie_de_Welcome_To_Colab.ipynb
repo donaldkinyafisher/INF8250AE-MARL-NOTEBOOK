{
  "cells": [
    {
      "cell_type": "markdown",
      "metadata": {
        "id": "view-in-github",
        "colab_type": "text"
      },
      "source": [
        "<a href=\"https://colab.research.google.com/github/donaldkinyafisher/INF8250AE-MARL-NOTEBOOK/blob/main/Copie_de_Copie_de_Welcome_To_Colab.ipynb\" target=\"_parent\"><img src=\"https://colab.research.google.com/assets/colab-badge.svg\" alt=\"Open In Colab\"/></a>"
      ]
    },
    {
      "cell_type": "markdown",
      "source": [
        "# Setup, Install and  Import"
      ],
      "metadata": {
        "id": "uJUi-Mh-ItLp"
      }
    },
    {
      "cell_type": "code",
      "source": [
        "!rm -rf INF8250AE_MARL_NOTEBOOK\n",
        "!git clone https://github.com/donaldkinyafisher/INF8250AE-MARL-NOTEBOOK.git"
      ],
      "metadata": {
        "colab": {
          "base_uri": "https://localhost:8080/"
        },
        "outputId": "08a5f08c-a31a-486b-8827-8135f817a95f",
        "id": "XTspNhr9SY4q"
      },
      "execution_count": 24,
      "outputs": [
        {
          "output_type": "stream",
          "name": "stdout",
          "text": [
            "Cloning into 'INF8250AE-MARL-NOTEBOOK'...\n",
            "remote: Enumerating objects: 64, done.\u001b[K\n",
            "remote: Counting objects: 100% (64/64), done.\u001b[K\n",
            "remote: Compressing objects: 100% (62/62), done.\u001b[K\n",
            "remote: Total 64 (delta 31), reused 0 (delta 0), pack-reused 0 (from 0)\u001b[K\n",
            "Receiving objects: 100% (64/64), 1.48 MiB | 3.81 MiB/s, done.\n",
            "Resolving deltas: 100% (31/31), done.\n"
          ]
        }
      ]
    },
    {
      "cell_type": "code",
      "source": [
        "# @title Setup Install and Import\n",
        "\n",
        "#Install dependences\n",
        "!pip install -r INF8250AE-MARL-NOTEBOOK/requirements.txt\n",
        "!pip install pettingzoo\n",
        "\n",
        "import numpy as np\n",
        "import matplotlib.pyplot as plt\n",
        "from matplotlib.patches import Circle, Rectangle, Arrow, ConnectionPatch\n",
        "import seaborn as sns\n",
        "from IPython.display import HTML, display, Markdown, Math, Image\n",
        "import ipywidgets as widgets\n",
        "from ipywidgets import interact, interactive, fixed, interact_manual\n",
        "import plotly.graph_objects as go\n",
        "import plotly.express as px\n",
        "import numpy as np\n",
        "import matplotlib.pyplot as plt\n",
        "from pettingzoo.mpe import simple_spread_v3\n",
        "from PIL import Image as PILImage\n",
        "import os\n",
        "import torch"
      ],
      "metadata": {
        "id": "qjWfywJ0JRQa",
        "colab": {
          "base_uri": "https://localhost:8080/"
        },
        "outputId": "17843c08-e225-4bfa-a5c7-ed24ac6b2189"
      },
      "execution_count": 17,
      "outputs": [
        {
          "output_type": "stream",
          "name": "stdout",
          "text": [
            "Requirement already satisfied: PettingZoo>=1.24.0 in /usr/local/lib/python3.10/dist-packages (from PettingZoo[butterfly,classic]>=1.24.0->-r INF8250AE-MARL-NOTEBOOK/requirements.txt (line 1)) (1.24.3)\n",
            "Requirement already satisfied: Pillow>=9.4.0 in /usr/local/lib/python3.10/dist-packages (from -r INF8250AE-MARL-NOTEBOOK/requirements.txt (line 2)) (11.0.0)\n",
            "Collecting ray==2.7.0 (from ray[rllib]==2.7.0->-r INF8250AE-MARL-NOTEBOOK/requirements.txt (line 3))\n",
            "  Using cached ray-2.7.0-cp310-cp310-manylinux2014_x86_64.whl.metadata (13 kB)\n",
            "Requirement already satisfied: SuperSuit>=3.9.0 in /usr/local/lib/python3.10/dist-packages (from -r INF8250AE-MARL-NOTEBOOK/requirements.txt (line 4)) (3.9.3)\n",
            "Requirement already satisfied: torch>=1.13.1 in /usr/local/lib/python3.10/dist-packages (from -r INF8250AE-MARL-NOTEBOOK/requirements.txt (line 5)) (2.5.1+cu121)\n",
            "Requirement already satisfied: tensorflow-probability>=0.19.0 in /usr/local/lib/python3.10/dist-packages (from -r INF8250AE-MARL-NOTEBOOK/requirements.txt (line 6)) (0.24.0)\n",
            "Requirement already satisfied: gymnasium in /usr/local/lib/python3.10/dist-packages (from -r INF8250AE-MARL-NOTEBOOK/requirements.txt (line 7)) (1.0.0)\n",
            "Requirement already satisfied: matplotlib in /usr/local/lib/python3.10/dist-packages (from -r INF8250AE-MARL-NOTEBOOK/requirements.txt (line 8)) (3.8.0)\n",
            "Requirement already satisfied: numpy in /usr/local/lib/python3.10/dist-packages (from -r INF8250AE-MARL-NOTEBOOK/requirements.txt (line 9)) (1.26.4)\n",
            "Collecting stable-baselines3 (from -r INF8250AE-MARL-NOTEBOOK/requirements.txt (line 10))\n",
            "  Using cached stable_baselines3-2.4.0-py3-none-any.whl.metadata (4.5 kB)\n",
            "Collecting shimmy>=2.0 (from -r INF8250AE-MARL-NOTEBOOK/requirements.txt (line 11))\n",
            "  Using cached Shimmy-2.0.0-py3-none-any.whl.metadata (3.5 kB)\n",
            "Requirement already satisfied: click>=7.0 in /usr/local/lib/python3.10/dist-packages (from ray==2.7.0->ray[rllib]==2.7.0->-r INF8250AE-MARL-NOTEBOOK/requirements.txt (line 3)) (8.1.7)\n",
            "Requirement already satisfied: filelock in /usr/local/lib/python3.10/dist-packages (from ray==2.7.0->ray[rllib]==2.7.0->-r INF8250AE-MARL-NOTEBOOK/requirements.txt (line 3)) (3.16.1)\n",
            "Requirement already satisfied: jsonschema in /usr/local/lib/python3.10/dist-packages (from ray==2.7.0->ray[rllib]==2.7.0->-r INF8250AE-MARL-NOTEBOOK/requirements.txt (line 3)) (4.23.0)\n",
            "Requirement already satisfied: msgpack<2.0.0,>=1.0.0 in /usr/local/lib/python3.10/dist-packages (from ray==2.7.0->ray[rllib]==2.7.0->-r INF8250AE-MARL-NOTEBOOK/requirements.txt (line 3)) (1.1.0)\n",
            "Requirement already satisfied: packaging in /usr/local/lib/python3.10/dist-packages (from ray==2.7.0->ray[rllib]==2.7.0->-r INF8250AE-MARL-NOTEBOOK/requirements.txt (line 3)) (24.2)\n",
            "Requirement already satisfied: protobuf!=3.19.5,>=3.15.3 in /usr/local/lib/python3.10/dist-packages (from ray==2.7.0->ray[rllib]==2.7.0->-r INF8250AE-MARL-NOTEBOOK/requirements.txt (line 3)) (4.25.5)\n",
            "Requirement already satisfied: pyyaml in /usr/local/lib/python3.10/dist-packages (from ray==2.7.0->ray[rllib]==2.7.0->-r INF8250AE-MARL-NOTEBOOK/requirements.txt (line 3)) (6.0.2)\n",
            "Requirement already satisfied: aiosignal in /usr/local/lib/python3.10/dist-packages (from ray==2.7.0->ray[rllib]==2.7.0->-r INF8250AE-MARL-NOTEBOOK/requirements.txt (line 3)) (1.3.2)\n",
            "Requirement already satisfied: frozenlist in /usr/local/lib/python3.10/dist-packages (from ray==2.7.0->ray[rllib]==2.7.0->-r INF8250AE-MARL-NOTEBOOK/requirements.txt (line 3)) (1.5.0)\n",
            "Requirement already satisfied: requests in /usr/local/lib/python3.10/dist-packages (from ray==2.7.0->ray[rllib]==2.7.0->-r INF8250AE-MARL-NOTEBOOK/requirements.txt (line 3)) (2.32.3)\n",
            "Requirement already satisfied: pandas in /usr/local/lib/python3.10/dist-packages (from ray[rllib]==2.7.0->-r INF8250AE-MARL-NOTEBOOK/requirements.txt (line 3)) (2.2.2)\n",
            "Collecting tensorboardX>=1.9 (from ray[rllib]==2.7.0->-r INF8250AE-MARL-NOTEBOOK/requirements.txt (line 3))\n",
            "  Using cached tensorboardX-2.6.2.2-py2.py3-none-any.whl.metadata (5.8 kB)\n",
            "Requirement already satisfied: pyarrow>=6.0.1 in /usr/local/lib/python3.10/dist-packages (from ray[rllib]==2.7.0->-r INF8250AE-MARL-NOTEBOOK/requirements.txt (line 3)) (17.0.0)\n",
            "Requirement already satisfied: fsspec in /usr/local/lib/python3.10/dist-packages (from ray[rllib]==2.7.0->-r INF8250AE-MARL-NOTEBOOK/requirements.txt (line 3)) (2024.10.0)\n",
            "Requirement already satisfied: dm-tree in /usr/local/lib/python3.10/dist-packages (from ray[rllib]==2.7.0->-r INF8250AE-MARL-NOTEBOOK/requirements.txt (line 3)) (0.1.8)\n",
            "Collecting gymnasium (from -r INF8250AE-MARL-NOTEBOOK/requirements.txt (line 7))\n",
            "  Using cached gymnasium-0.28.1-py3-none-any.whl.metadata (9.2 kB)\n",
            "Collecting lz4 (from ray[rllib]==2.7.0->-r INF8250AE-MARL-NOTEBOOK/requirements.txt (line 3))\n",
            "  Using cached lz4-4.3.3-cp310-cp310-manylinux_2_17_x86_64.manylinux2014_x86_64.whl.metadata (3.7 kB)\n",
            "Requirement already satisfied: scikit-image in /usr/local/lib/python3.10/dist-packages (from ray[rllib]==2.7.0->-r INF8250AE-MARL-NOTEBOOK/requirements.txt (line 3)) (0.25.0)\n",
            "Requirement already satisfied: scipy in /usr/local/lib/python3.10/dist-packages (from ray[rllib]==2.7.0->-r INF8250AE-MARL-NOTEBOOK/requirements.txt (line 3)) (1.13.1)\n",
            "Requirement already satisfied: typer in /usr/local/lib/python3.10/dist-packages (from ray[rllib]==2.7.0->-r INF8250AE-MARL-NOTEBOOK/requirements.txt (line 3)) (0.15.1)\n",
            "Requirement already satisfied: rich in /usr/local/lib/python3.10/dist-packages (from ray[rllib]==2.7.0->-r INF8250AE-MARL-NOTEBOOK/requirements.txt (line 3)) (13.9.4)\n",
            "Collecting jax-jumpy>=1.0.0 (from gymnasium->-r INF8250AE-MARL-NOTEBOOK/requirements.txt (line 7))\n",
            "  Using cached jax_jumpy-1.0.0-py3-none-any.whl.metadata (15 kB)\n",
            "Requirement already satisfied: cloudpickle>=1.2.0 in /usr/local/lib/python3.10/dist-packages (from gymnasium->-r INF8250AE-MARL-NOTEBOOK/requirements.txt (line 7)) (3.1.0)\n",
            "Requirement already satisfied: typing-extensions>=4.3.0 in /usr/local/lib/python3.10/dist-packages (from gymnasium->-r INF8250AE-MARL-NOTEBOOK/requirements.txt (line 7)) (4.12.2)\n",
            "Requirement already satisfied: farama-notifications>=0.0.1 in /usr/local/lib/python3.10/dist-packages (from gymnasium->-r INF8250AE-MARL-NOTEBOOK/requirements.txt (line 7)) (0.0.4)\n",
            "Requirement already satisfied: tinyscaler>=1.2.6 in /usr/local/lib/python3.10/dist-packages (from SuperSuit>=3.9.0->-r INF8250AE-MARL-NOTEBOOK/requirements.txt (line 4)) (1.2.8)\n",
            "Requirement already satisfied: networkx in /usr/local/lib/python3.10/dist-packages (from torch>=1.13.1->-r INF8250AE-MARL-NOTEBOOK/requirements.txt (line 5)) (3.4.2)\n",
            "Requirement already satisfied: jinja2 in /usr/local/lib/python3.10/dist-packages (from torch>=1.13.1->-r INF8250AE-MARL-NOTEBOOK/requirements.txt (line 5)) (3.1.4)\n",
            "Requirement already satisfied: sympy==1.13.1 in /usr/local/lib/python3.10/dist-packages (from torch>=1.13.1->-r INF8250AE-MARL-NOTEBOOK/requirements.txt (line 5)) (1.13.1)\n",
            "Requirement already satisfied: mpmath<1.4,>=1.1.0 in /usr/local/lib/python3.10/dist-packages (from sympy==1.13.1->torch>=1.13.1->-r INF8250AE-MARL-NOTEBOOK/requirements.txt (line 5)) (1.3.0)\n",
            "Requirement already satisfied: absl-py in /usr/local/lib/python3.10/dist-packages (from tensorflow-probability>=0.19.0->-r INF8250AE-MARL-NOTEBOOK/requirements.txt (line 6)) (1.4.0)\n",
            "Requirement already satisfied: six>=1.10.0 in /usr/local/lib/python3.10/dist-packages (from tensorflow-probability>=0.19.0->-r INF8250AE-MARL-NOTEBOOK/requirements.txt (line 6)) (1.17.0)\n",
            "Requirement already satisfied: decorator in /usr/local/lib/python3.10/dist-packages (from tensorflow-probability>=0.19.0->-r INF8250AE-MARL-NOTEBOOK/requirements.txt (line 6)) (4.4.2)\n",
            "Requirement already satisfied: gast>=0.3.2 in /usr/local/lib/python3.10/dist-packages (from tensorflow-probability>=0.19.0->-r INF8250AE-MARL-NOTEBOOK/requirements.txt (line 6)) (0.6.0)\n",
            "Requirement already satisfied: contourpy>=1.0.1 in /usr/local/lib/python3.10/dist-packages (from matplotlib->-r INF8250AE-MARL-NOTEBOOK/requirements.txt (line 8)) (1.3.1)\n",
            "Requirement already satisfied: cycler>=0.10 in /usr/local/lib/python3.10/dist-packages (from matplotlib->-r INF8250AE-MARL-NOTEBOOK/requirements.txt (line 8)) (0.12.1)\n",
            "Requirement already satisfied: fonttools>=4.22.0 in /usr/local/lib/python3.10/dist-packages (from matplotlib->-r INF8250AE-MARL-NOTEBOOK/requirements.txt (line 8)) (4.55.3)\n",
            "Requirement already satisfied: kiwisolver>=1.0.1 in /usr/local/lib/python3.10/dist-packages (from matplotlib->-r INF8250AE-MARL-NOTEBOOK/requirements.txt (line 8)) (1.4.7)\n",
            "Requirement already satisfied: pyparsing>=2.3.1 in /usr/local/lib/python3.10/dist-packages (from matplotlib->-r INF8250AE-MARL-NOTEBOOK/requirements.txt (line 8)) (3.2.0)\n",
            "Requirement already satisfied: python-dateutil>=2.7 in /usr/local/lib/python3.10/dist-packages (from matplotlib->-r INF8250AE-MARL-NOTEBOOK/requirements.txt (line 8)) (2.8.2)\n",
            "INFO: pip is looking at multiple versions of stable-baselines3 to determine which version is compatible with other requirements. This could take a while.\n",
            "Collecting stable-baselines3 (from -r INF8250AE-MARL-NOTEBOOK/requirements.txt (line 10))\n",
            "  Using cached stable_baselines3-2.3.2-py3-none-any.whl.metadata (5.1 kB)\n",
            "INFO: pip is looking at multiple versions of shimmy to determine which version is compatible with other requirements. This could take a while.\n",
            "  Using cached stable_baselines3-2.2.1-py3-none-any.whl.metadata (5.0 kB)\n",
            "  Using cached stable_baselines3-2.1.0-py3-none-any.whl.metadata (5.2 kB)\n",
            "  Using cached stable_baselines3-2.0.0-py3-none-any.whl.metadata (5.4 kB)\n",
            "  Using cached stable_baselines3-1.8.0-py3-none-any.whl.metadata (5.0 kB)\n",
            "Collecting gym==0.21 (from stable-baselines3->-r INF8250AE-MARL-NOTEBOOK/requirements.txt (line 10))\n",
            "  Using cached gym-0.21.0.tar.gz (1.5 MB)\n",
            "  \u001b[1;31merror\u001b[0m: \u001b[1msubprocess-exited-with-error\u001b[0m\n",
            "  \n",
            "  \u001b[31m×\u001b[0m \u001b[32mpython setup.py egg_info\u001b[0m did not run successfully.\n",
            "  \u001b[31m│\u001b[0m exit code: \u001b[1;36m1\u001b[0m\n",
            "  \u001b[31m╰─>\u001b[0m See above for output.\n",
            "  \n",
            "  \u001b[1;35mnote\u001b[0m: This error originates from a subprocess, and is likely not a problem with pip.\n",
            "  Preparing metadata (setup.py) ... \u001b[?25l\u001b[?25herror\n",
            "\u001b[1;31merror\u001b[0m: \u001b[1mmetadata-generation-failed\u001b[0m\n",
            "\n",
            "\u001b[31m×\u001b[0m Encountered error while generating package metadata.\n",
            "\u001b[31m╰─>\u001b[0m See above for output.\n",
            "\n",
            "\u001b[1;35mnote\u001b[0m: This is an issue with the package mentioned above, not pip.\n",
            "\u001b[1;36mhint\u001b[0m: See above for details.\n",
            "Requirement already satisfied: pettingzoo in /usr/local/lib/python3.10/dist-packages (1.24.3)\n",
            "Requirement already satisfied: numpy>=1.21.0 in /usr/local/lib/python3.10/dist-packages (from pettingzoo) (1.26.4)\n",
            "Requirement already satisfied: gymnasium>=0.28.0 in /usr/local/lib/python3.10/dist-packages (from pettingzoo) (1.0.0)\n",
            "Requirement already satisfied: cloudpickle>=1.2.0 in /usr/local/lib/python3.10/dist-packages (from gymnasium>=0.28.0->pettingzoo) (3.1.0)\n",
            "Requirement already satisfied: typing-extensions>=4.3.0 in /usr/local/lib/python3.10/dist-packages (from gymnasium>=0.28.0->pettingzoo) (4.12.2)\n",
            "Requirement already satisfied: farama-notifications>=0.0.1 in /usr/local/lib/python3.10/dist-packages (from gymnasium>=0.28.0->pettingzoo) (0.0.4)\n"
          ]
        }
      ]
    },
    {
      "cell_type": "markdown",
      "source": [
        "# 1. Introduction"
      ],
      "metadata": {
        "id": "4QBMH274HOQi"
      }
    },
    {
      "cell_type": "code",
      "source": [
        "# @title\n",
        "intro_text = \"\"\"\n",
        "<style>\n",
        "    /* Title Styling */\n",
        "      .intro-title {\n",
        "        font-size: 30px;\n",
        "        font-weight: bold;\n",
        "        color: #FF6347;\n",
        "        text-align: center;\n",
        "        text-shadow: 2px 2px 4px rgba(0, 0, 0, 0.3);\n",
        "        animation: fadeIn 2s ease-in-out;\n",
        "    }\n",
        "\n",
        "    /* Text Block Styling */\n",
        "    .intro-text {\n",
        "        font-size: 18px;\n",
        "        line-height: 1.8;\n",
        "        color: #555;\n",
        "        max-width: 800px;\n",
        "        margin: 20px auto;\n",
        "        padding: 25px;\n",
        "        border-radius: 8px;\n",
        "        background: #F5F5F5;\n",
        "        box-shadow: 0 6px 12px rgba(0, 0, 0, 0.1);\n",
        "        transition: transform 0.3s ease, background 0.3s ease;\n",
        "    }\n",
        "\n",
        "    /* Hover effect for the text block */\n",
        "    .intro-text:hover {\n",
        "        transform: scale(1.03);\n",
        "        background: #E0E0E0;\n",
        "        box-shadow: 0 8px 16px rgba(0, 0, 0, 0.15);\n",
        "    }\n",
        "\n",
        "    /* Fade-in effect for title */\n",
        "    @keyframes fadeIn {\n",
        "        from { opacity: 0; }\n",
        "        to { opacity: 1; }\n",
        "    }\n",
        "</style>\n",
        "\n",
        "<h2 class=\"intro-title\">Exploring the Evolution from Single-Agent to Multi-Agent RL</h2>\n",
        "\n",
        "<div class=\"intro-text\">\n",
        "    <p>In this tutorial, we explore the transition from single-agent reinforcement learning (RL) to multi-agent reinforcement learning (MARL). This progression is used for tackling real-world problems where multiple agents must interact, cooperate, or compete in dynamic environments. The challenges introduced by these multi-agent setups, such as coordination, scalability, and non-stationarity require novel approaches to exisiting algorithms. By the end of this tutorial, you will understand the foundational concepts of MARL and how single-agent RL strategies can be extended to multi-agent domains.</p>\n",
        "</div>\n",
        "\"\"\"\n",
        "\n",
        "display(HTML(intro_text))\n"
      ],
      "metadata": {
        "colab": {
          "base_uri": "https://localhost:8080/",
          "height": 408
        },
        "cellView": "form",
        "id": "CARAJFEyTC73",
        "outputId": "b9a942bf-f25f-4020-fc06-3f71db63839a"
      },
      "execution_count": 3,
      "outputs": [
        {
          "output_type": "display_data",
          "data": {
            "text/plain": [
              "<IPython.core.display.HTML object>"
            ],
            "text/html": [
              "\n",
              "<style>\n",
              "    /* Title Styling */\n",
              "      .intro-title {\n",
              "        font-size: 30px;\n",
              "        font-weight: bold;\n",
              "        color: #FF6347;\n",
              "        text-align: center;\n",
              "        text-shadow: 2px 2px 4px rgba(0, 0, 0, 0.3);\n",
              "        animation: fadeIn 2s ease-in-out;\n",
              "    }\n",
              "\n",
              "    /* Text Block Styling */\n",
              "    .intro-text {\n",
              "        font-size: 18px;\n",
              "        line-height: 1.8;\n",
              "        color: #555;\n",
              "        max-width: 800px;\n",
              "        margin: 20px auto;\n",
              "        padding: 25px;\n",
              "        border-radius: 8px;\n",
              "        background: #F5F5F5;\n",
              "        box-shadow: 0 6px 12px rgba(0, 0, 0, 0.1);\n",
              "        transition: transform 0.3s ease, background 0.3s ease;\n",
              "    }\n",
              "\n",
              "    /* Hover effect for the text block */\n",
              "    .intro-text:hover {\n",
              "        transform: scale(1.03);\n",
              "        background: #E0E0E0;\n",
              "        box-shadow: 0 8px 16px rgba(0, 0, 0, 0.15);\n",
              "    }\n",
              "\n",
              "    /* Fade-in effect for title */\n",
              "    @keyframes fadeIn {\n",
              "        from { opacity: 0; }\n",
              "        to { opacity: 1; }\n",
              "    }\n",
              "</style>\n",
              "\n",
              "<h2 class=\"intro-title\">Exploring the Evolution from Single-Agent to Multi-Agent RL</h2>\n",
              "\n",
              "<div class=\"intro-text\">\n",
              "    <p>In this tutorial, we explore the transition from single-agent reinforcement learning (RL) to multi-agent reinforcement learning (MARL). This progression is used for tackling real-world problems where multiple agents must interact, cooperate, or compete in dynamic environments. The challenges introduced by these multi-agent setups, such as coordination, scalability, and non-stationarity require novel approaches to exisiting algorithms. By the end of this tutorial, you will understand the foundational concepts of MARL and how single-agent RL strategies can be extended to multi-agent domains.</p>\n",
              "</div>\n"
            ]
          },
          "metadata": {}
        }
      ]
    },
    {
      "cell_type": "markdown",
      "source": [
        "\n",
        "\n",
        "\n",
        "## Why Extend Single-Agent RL to Multi-Agent RL?\n",
        "\n"
      ],
      "metadata": {
        "id": "tfHAUjMgbORQ"
      }
    },
    {
      "cell_type": "markdown",
      "source": [
        "- **Realistic Modeling**: MARL is more aligned with real-world environments, where multiple agents interact and make decisions based on the actions of others.\n",
        "- **Coordination and Competition**: MARL enables agents to either cooperate (coordination) or compete with each other, which mirrors many real-world scenarios where both dynamics exist.\n",
        "- **Scalability**: MARL systems can scale to handle larger, more complex problems than SARL alone.\n",
        "- **Adaptability**: MARL enables agents to learn and adapt in real-time, responding to changes in their environment or among other agents.\n",
        "- **Real-World Impact**: MARL offer a practical approach to modelling in industries such as robotics, autonomous vehicles, energy systems, and healthcare.\n",
        "\n",
        "Presented below are some real-world examples where MARL is used."
      ],
      "metadata": {
        "id": "qYD8dBhHgc_m"
      }
    },
    {
      "cell_type": "markdown",
      "source": [
        "### Examples"
      ],
      "metadata": {
        "id": "EwRFC2sWD_SF"
      }
    },
    {
      "cell_type": "code",
      "source": [
        "# @title Example\n",
        "import ipywidgets as widgets\n",
        "from IPython.display import display, HTML, Image\n",
        "\n",
        "domains = {\n",
        "    \"Robotics\": {\n",
        "        \"description\": (\n",
        "            \"In collaborative robotics, MARL enables multiple robots to coordinate and \"\n",
        "            \"perform tasks such as exploration, disaster response, or assembly. \"\n",
        "            \"For instance, a team of drones can distribute responsibilities for mapping or delivering supplies \"\n",
        "            \"in disaster-affected areas, dynamically adapting to environmental changes.\"\n",
        "        ),\n",
        "        \"applications\": [\n",
        "            \"- Search and rescue operations\",\n",
        "            \"- Warehouse management\",\n",
        "            \"- Agricultural monitoring\",\n",
        "            \"- Construction automation\",\n",
        "        ],\n",
        "        \"image\": \"https://dp9eps5gd5xd0.cloudfront.net/image-handler/ts/20230831083549/ri/850/src/images/news/ImageForNews_14271_169348534600376.jpg\",\n",
        "        \"references\": [\n",
        "            \"[1] Brown, et al. (2023). 'Swarm Intelligence through Multi-Agent Learning.' Robotics and Autonomous Systems.\",\n",
        "            \"[2] Smith, et al. (2022). 'Cooperative Multi-Robot Task Allocation.' Science Robotics.\"\n",
        "        ]\n",
        "    },\n",
        "    \"Autonomous Vehicles\": {\n",
        "        \"description\": (\n",
        "            \"In autonomous driving, MARL enables multiple vehicles to learn cooperative behaviors \"\n",
        "            \"such as merging lanes, optimizing traffic flow, or preventing collisions. \"\n",
        "            \"For example, cars at a busy intersection can learn to prioritize movements without centralized traffic control.\"\n",
        "        ),\n",
        "        \"applications\": [\n",
        "            \"- Intersection management\",\n",
        "            \"- Lane merging coordination\",\n",
        "            \"- Platoon formation\",\n",
        "            \"- Collision avoidance\"\n",
        "        ],\n",
        "        \"image\": \"https://i.giphy.com/media/v1.Y2lkPTc5MGI3NjExdm9keGxsZjRkd2VpOGN4eG1sZzNuaTN2N3N6cWRyZThxdjJveWdmYiZlcD12MV9pbnRlcm5hbF9naWZfYnlfaWQmY3Q9Zw/H7rpSYHRyYgamxQNqw/giphy.gif\",\n",
        "        \"references\": [\n",
        "            \"[1] Wang, et al. (2023). 'Multi-Agent Reinforcement Learning for Connected Autonomous Vehicles.' IEEE Trans. Intelligent Transportation Systems.\",\n",
        "            \"[2] Chen, et al. (2022). 'Cooperative Multi-Agent Systems for Automated Driving.' Nature Machine Intelligence.\"\n",
        "        ]\n",
        "    },\n",
        "    \"Energy Systems\": {\n",
        "        \"description\": (\n",
        "            \"MARL optimizes decentralized energy systems by coordinating power allocation between \"\n",
        "            \"producers and consumers. For instance, agents representing wind turbines and energy storage units \"\n",
        "            \"can learn to balance supply and demand dynamically, minimizing wastage.\"\n",
        "        ),\n",
        "        \"applications\": [\n",
        "            \"- Demand-response management\",\n",
        "            \"- Distributed energy resource coordination\",\n",
        "            \"- Grid stability maintenance\",\n",
        "            \"- Real-time pricing optimization\"\n",
        "        ],\n",
        "        \"image\": \"https://miro.medium.com/v2/resize:fit:1400/format:webp/0*2GlP-gE7hptc1PeC.gif\",\n",
        "        \"references\": [\n",
        "            \"[1] Zhang, et al. (2023). 'Multi-Agent Deep Reinforcement Learning for Smart Grid Control.' Energy and Buildings.\",\n",
        "            \"[2] Liu, et al. (2022). 'Distributed Energy Management using Multi-Agent Systems.' Applied Energy.\"\n",
        "        ]\n",
        "    },\n",
        "    \"Healthcare\": {\n",
        "        \"description\": (\n",
        "            \"In healthcare, MARL helps allocate resources like ICU beds or optimize medical equipment usage. \"\n",
        "            \"For example, agents can learn to manage patient schedules and equipment dynamically, ensuring that \"\n",
        "            \"emergent needs are prioritized efficiently.\"\n",
        "        ),\n",
        "        \"applications\": [\n",
        "            \"- ICU bed allocation\",\n",
        "            \"- Medical equipment scheduling\",\n",
        "            \"- Emergency resource management\"\n",
        "        ],\n",
        "        \"image\": \"https://standexelectronics.com/wp-content/uploads/HospitalBedSensor.gif\",\n",
        "        \"references\": [\n",
        "            \"[1] Zhao, et al. (2023). 'Multi-Agent Reinforcement Learning for Healthcare Resource Management.' Journal of Medical Systems.\"\n",
        "        ]\n",
        "    }\n",
        "}\n",
        "\n",
        "dropdown = widgets.Dropdown(\n",
        "    options=domains.keys(),\n",
        "    description=\"Domain:\",\n",
        "    value=\"Robotics\"\n",
        ")\n",
        "\n",
        "output = widgets.Output()\n",
        "\n",
        "def update_content(change):\n",
        "    with output:\n",
        "        output.clear_output()\n",
        "        domain = change[\"new\"]\n",
        "        info = domains[domain]\n",
        "\n",
        "        display(HTML(f\"\"\"\n",
        "            <style>\n",
        "                h4 {{ font-size: 22px; font-weight: bold; color: #2E4053; }}\n",
        "                p, li {{ font-size: 16px; line-height: 1.5; color: #4F4F4F; }}\n",
        "                ul {{ margin-left: 20px; }}\n",
        "                button {{\n",
        "                    background-color: #4CAF50;\n",
        "                    color: white;\n",
        "                    padding: 10px;\n",
        "                    border: none;\n",
        "                    cursor: pointer;\n",
        "                }}\n",
        "                button:hover {{ background-color: #45a049; }}\n",
        "            </style>\n",
        "        \"\"\"))\n",
        "\n",
        "        display(HTML(f\"<h4>{domain}</h4><p>{info['description']}</p>\"))\n",
        "        display(HTML(\"<ul>\" + \"\".join([f\"<li>{app}</li>\" for app in info[\"applications\"]]) + \"</ul>\"))\n",
        "        display(Image(url=info[\"image\"], width=400, height=300))\n",
        "\n",
        "        display(HTML(f'<button onclick=\"this.nextElementSibling.style.display=\\'block\\'\">Show References</button><div style=\"display:none;\">'\n",
        "                     + \"<ul>\" + \"\".join([f\"<li>{ref}</li>\" for ref in info[\"references\"]]) + \"</ul></div>\"))\n",
        "\n",
        "dropdown.observe(update_content, names=\"value\")\n",
        "\n",
        "display(dropdown, output)\n"
      ],
      "metadata": {
        "colab": {
          "base_uri": "https://localhost:8080/",
          "height": 49,
          "referenced_widgets": [
            "a91718ae14864a5fa08879a166154c67",
            "02e9511cd69f41cb9fa5cf3294181be0",
            "9e4e77f57f99485ea0ef37caf306ff21",
            "acd3055f1c4a41f398aaebb2ac6013b3",
            "a28ca2db48914efca5aa3aac1e6543b1"
          ]
        },
        "id": "2RqoryhrHl0C",
        "outputId": "a354ed26-7cf1-4ec9-bd0a-0366992b5566",
        "cellView": "form"
      },
      "execution_count": 4,
      "outputs": [
        {
          "output_type": "display_data",
          "data": {
            "text/plain": [
              "Dropdown(description='Domain:', options=('Robotics', 'Autonomous Vehicles', 'Energy Systems', 'Healthcare'), v…"
            ],
            "application/vnd.jupyter.widget-view+json": {
              "version_major": 2,
              "version_minor": 0,
              "model_id": "a91718ae14864a5fa08879a166154c67"
            }
          },
          "metadata": {}
        },
        {
          "output_type": "display_data",
          "data": {
            "text/plain": [
              "Output()"
            ],
            "application/vnd.jupyter.widget-view+json": {
              "version_major": 2,
              "version_minor": 0,
              "model_id": "acd3055f1c4a41f398aaebb2ac6013b3"
            }
          },
          "metadata": {}
        }
      ]
    },
    {
      "cell_type": "code",
      "source": [
        "# @title\n",
        "# Displaying the GIF from the URL\n",
        "gif_url = \"https://upload.wikimedia.org/wikipedia/commons/3/37/Multi_give_way_%284_agents%2C_each_trying_to_reach_a_specific_point%29.gif\"\n",
        "Image(url=gif_url)"
      ],
      "metadata": {
        "colab": {
          "base_uri": "https://localhost:8080/",
          "height": 471
        },
        "id": "StGDJ_AnvllQ",
        "outputId": "1a2cae6d-ae10-47bb-841e-b034f608a8bb",
        "cellView": "form"
      },
      "execution_count": 5,
      "outputs": [
        {
          "output_type": "execute_result",
          "data": {
            "text/html": [
              "<img src=\"https://upload.wikimedia.org/wikipedia/commons/3/37/Multi_give_way_%284_agents%2C_each_trying_to_reach_a_specific_point%29.gif\"/>"
            ],
            "text/plain": [
              "<IPython.core.display.Image object>"
            ]
          },
          "metadata": {},
          "execution_count": 5
        }
      ]
    },
    {
      "cell_type": "markdown",
      "source": [
        "\n",
        "\n",
        "---\n",
        "\n",
        "\n",
        "#From Single-Agent to Multi-Agent: Understanding the Fundamental Shift\n",
        "\n",
        "\n",
        "---\n",
        "\n",
        "\n"
      ],
      "metadata": {
        "id": "DB40jyt08LvZ"
      }
    },
    {
      "cell_type": "markdown",
      "source": [
        "## **Mathematical Foundations: From MDPs to Markov Games**"
      ],
      "metadata": {
        "id": "lv7oLy2s9V9E"
      }
    },
    {
      "cell_type": "markdown",
      "source": [
        "Multi-agent systems model dynamic and nondeterministic environments that solve complex problems. In these situations we are dealing with agents that not only have to learn an optimal behavior or policy, but also have to adapt to new situations, where we assume a changing environment due to the actions of the other agents in the joint state-space.\n",
        "\n",
        "Subsequently, we must move away from MDPs and instead use a Markov Game as the framework for modelling multiple agents. The key difference in Markov Games are each agent has its own Action Space,  and the agents share a Joint State Space, where the actions of one agent affect all other agents."
      ],
      "metadata": {
        "id": "Bj3NP8Hc9eHt"
      }
    },
    {
      "cell_type": "code",
      "source": [
        "# @title SARL vs MARL\n",
        "from IPython.display import HTML, display\n",
        "\n",
        "def display_mathematical_comparison():\n",
        "    mdp_html = \"\"\"\n",
        "    <div style=\"background-color: #f0f0f0; padding: 20px; border-radius: 10px; margin: 10px; width: 48%; box-sizing: border-box; font-size: 18px; transition: transform 0.3s ease;\">\n",
        "        <h3 style=\"font-size: 22px;\">Markov Decision Process (MDP)</h3>\n",
        "        <p>MDP = <span id=\"mdp_eq1\">\\( (S, A, P, R, \\gamma) \\)</span></p>\n",
        "        <ul>\n",
        "            <li><span id=\"mdp_eq2\">\\( S \\): State space</span></li>\n",
        "            <li><span id=\"mdp_eq3\">\\( A \\): Action space</span></li>\n",
        "            <li><span id=\"mdp_eq4\">\\( P: (S, A, S) \\, \\&rarr; \\, [0,1] \\)</span></li>\n",
        "            <li><span id=\"mdp_eq5\">\\( R: (S, A, S) \\, \\&rarr; \\, \\mathbb{R} \\)</span></li>\n",
        "            <li><span id=\"mdp_eq6\">\\( \\gamma \\in [0,1] \\): Discount factor</span></li>\n",
        "        </ul>\n",
        "    </div>\n",
        "    \"\"\"\n",
        "\n",
        "    markov_game_html = \"\"\"\n",
        "    <div style=\"background-color: #e6f3ff; padding: 20px; border-radius: 10px; margin: 10px; width: 48%; box-sizing: border-box; font-size: 18px; transition: transform 0.3s ease;\">\n",
        "        <h3 style=\"font-size: 22px;\">Markov Game</h3>\n",
        "        <p>MG = <span id=\"mg_eq1\">\\( (N, S, \\{A_i\\}_{i=1}^N, P, \\{R_i\\}_{i=1}^N, \\gamma) \\)</span></p>\n",
        "        <ul>\n",
        "            <li><span id=\"mg_eq2\">\\( N \\): Number of agents</span></li>\n",
        "            <li><span id=\"mg_eq3\">\\( S \\): Joint state space</span></li>\n",
        "            <li><span id=\"mg_eq4\">\\( A_i \\): Action space for agent \\( i \\)</span></li>\n",
        "            <li><span id=\"mg_eq5\">\\( P: (S, A_1, \\dots, A_N, S) \\, \\&rarr; \\, [0,1] \\)</span></li>\n",
        "            <li><span id=\"mg_eq6\">\\( R_i: (S, A_1, \\dots, A_N, S) \\, \\&rarr; \\, \\mathbb{R} \\)</span></li>\n",
        "            <li><span id=\"mg_eq7\">\\( \\gamma \\in [0,1] \\): Discount factor</span></li>\n",
        "        </ul>\n",
        "    </div>\n",
        "    \"\"\"\n",
        "\n",
        "    # Add MathJax script to render the math formulas\n",
        "    display(HTML(f\"\"\"\n",
        "    <script type=\"text/javascript\" async\n",
        "      src=\"https://cdnjs.cloudflare.com/ajax/libs/mathjax/2.7.7/MathJax.js?config=TeX-MML-AM_CHTML\">\n",
        "    </script>\n",
        "    <div style=\"display: flex; justify-content: space-between; gap: 20px; flex-wrap: wrap; padding: 20px;\">\n",
        "        {mdp_html}\n",
        "        {markov_game_html}\n",
        "    </div>\n",
        "    <style>\n",
        "        div:hover {{\n",
        "            transform: scale(1.01);\n",
        "            box-shadow: 0 0 15px rgba(0, 0, 0, 0.2);\n",
        "        }}\n",
        "    </style>\n",
        "    \"\"\"))\n",
        "\n",
        "display_mathematical_comparison()\n"
      ],
      "metadata": {
        "colab": {
          "base_uri": "https://localhost:8080/",
          "height": 647
        },
        "cellView": "form",
        "id": "g0mGyHZ-9TLe",
        "outputId": "4f2947a5-8902-40bd-eeb2-443553bf2a40"
      },
      "execution_count": 6,
      "outputs": [
        {
          "output_type": "display_data",
          "data": {
            "text/plain": [
              "<IPython.core.display.HTML object>"
            ],
            "text/html": [
              "\n",
              "    <script type=\"text/javascript\" async\n",
              "      src=\"https://cdnjs.cloudflare.com/ajax/libs/mathjax/2.7.7/MathJax.js?config=TeX-MML-AM_CHTML\">\n",
              "    </script>\n",
              "    <div style=\"display: flex; justify-content: space-between; gap: 20px; flex-wrap: wrap; padding: 20px;\">\n",
              "        \n",
              "    <div style=\"background-color: #f0f0f0; padding: 20px; border-radius: 10px; margin: 10px; width: 48%; box-sizing: border-box; font-size: 18px; transition: transform 0.3s ease;\">\n",
              "        <h3 style=\"font-size: 22px;\">Markov Decision Process (MDP)</h3>\n",
              "        <p>MDP = <span id=\"mdp_eq1\">\\( (S, A, P, R, \\gamma) \\)</span></p>\n",
              "        <ul>\n",
              "            <li><span id=\"mdp_eq2\">\\( S \\): State space</span></li>\n",
              "            <li><span id=\"mdp_eq3\">\\( A \\): Action space</span></li>\n",
              "            <li><span id=\"mdp_eq4\">\\( P: (S, A, S) \\, \\&rarr; \\, [0,1] \\)</span></li>\n",
              "            <li><span id=\"mdp_eq5\">\\( R: (S, A, S) \\, \\&rarr; \\, \\mathbb{R} \\)</span></li>\n",
              "            <li><span id=\"mdp_eq6\">\\( \\gamma \\in [0,1] \\): Discount factor</span></li>\n",
              "        </ul>\n",
              "    </div>\n",
              "    \n",
              "        \n",
              "    <div style=\"background-color: #e6f3ff; padding: 20px; border-radius: 10px; margin: 10px; width: 48%; box-sizing: border-box; font-size: 18px; transition: transform 0.3s ease;\">\n",
              "        <h3 style=\"font-size: 22px;\">Markov Game</h3>\n",
              "        <p>MG = <span id=\"mg_eq1\">\\( (N, S, \\{A_i\\}_{i=1}^N, P, \\{R_i\\}_{i=1}^N, \\gamma) \\)</span></p>\n",
              "        <ul>\n",
              "            <li><span id=\"mg_eq2\">\\( N \\): Number of agents</span></li>\n",
              "            <li><span id=\"mg_eq3\">\\( S \\): Joint state space</span></li>\n",
              "            <li><span id=\"mg_eq4\">\\( A_i \\): Action space for agent \\( i \\)</span></li>\n",
              "            <li><span id=\"mg_eq5\">\\( P: (S, A_1, \\dots, A_N, S) \\, \\&rarr; \\, [0,1] \\)</span></li>\n",
              "            <li><span id=\"mg_eq6\">\\( R_i: (S, A_1, \\dots, A_N, S) \\, \\&rarr; \\, \\mathbb{R} \\)</span></li>\n",
              "            <li><span id=\"mg_eq7\">\\( \\gamma \\in [0,1] \\): Discount factor</span></li>\n",
              "        </ul>\n",
              "    </div>\n",
              "    \n",
              "    </div>\n",
              "    <style>\n",
              "        div:hover {\n",
              "            transform: scale(1.01);\n",
              "            box-shadow: 0 0 15px rgba(0, 0, 0, 0.2);\n",
              "        }\n",
              "    </style>\n",
              "    "
            ]
          },
          "metadata": {}
        }
      ]
    },
    {
      "cell_type": "code",
      "source": [
        "# @title Illustration\n",
        "import matplotlib.pyplot as plt\n",
        "import numpy as np\n",
        "from ipywidgets import interact, widgets\n",
        "\n",
        "def create_environment_comparison(n_agents=2):\n",
        "    fig, (ax1, ax2) = plt.subplots(1, 2, figsize=(15, 6))\n",
        "\n",
        "    ax1.set_title('Single-Agent Environment')\n",
        "    circle = plt.Circle((0.5, 0.5), 0.3, color='b', alpha=0.3)\n",
        "    ax1.add_artist(circle)\n",
        "    ax1.plot(0.5, 0.5, 'b.', markersize=15, label='Agent')\n",
        "    ax1.set_xlim(0, 1)\n",
        "    ax1.set_ylim(0, 1)\n",
        "    ax1.legend()\n",
        "\n",
        "    ax2.set_title('Multi-Agent Environment')\n",
        "    colors = ['b', 'r', 'g', 'm']\n",
        "    markers = ['.', 's', '^', 'o']\n",
        "    for i in range(n_agents):\n",
        "        circle = plt.Circle((0.3 + i*0.2, 0.5), 0.15, color=colors[i], alpha=0.3)\n",
        "        ax2.add_artist(circle)\n",
        "        ax2.plot(0.3 + i*0.2, 0.5, color=colors[i], marker=markers[i],\n",
        "                 markersize=15, label=f'Agent {i+1}')\n",
        "    ax2.set_xlim(0, 1)\n",
        "    ax2.set_ylim(0, 1)\n",
        "    ax2.legend()\n",
        "\n",
        "    plt.tight_layout()\n",
        "    return fig\n",
        "\n",
        "def show_environment_comparison(n_agents):\n",
        "    \"\"\"\n",
        "    Displays the comparison between a single-agent and multi-agent environment.\n",
        "\n",
        "    Args:\n",
        "        n_agents (int): The number of agents in the multi-agent environment.\n",
        "\n",
        "    The function prints the sizes of the state space and action space for both environments\n",
        "    and creates an interactive visualization comparing the environments.\n",
        "    \"\"\"\n",
        "    state_space_single_agent = 5\n",
        "    action_space_single_agent = 4\n",
        "\n",
        "    state_space_multi_agent = state_space_single_agent ** n_agents\n",
        "    action_space_multi_agent = action_space_single_agent ** n_agents\n",
        "\n",
        "    print(f\"Single-Agent Environment (State Space Size: {state_space_single_agent}, Action Space Size: {action_space_single_agent})\")\n",
        "    print(f\"Multi-Agent Environment ({n_agents} Agents) - Joint State Space Size: {state_space_multi_agent}, Joint Action Space Size: {action_space_multi_agent}\")\n",
        "\n",
        "    fig = create_environment_comparison(n_agents)\n",
        "    plt.show()\n",
        "\n",
        "interact(show_environment_comparison, n_agents=widgets.IntSlider(min=2, max=4, step=1, value=2,\n",
        "                                                               description='Number of Agents:',\n",
        "                                                               style={'description_width': 'initial'}))\n"
      ],
      "metadata": {
        "colab": {
          "base_uri": "https://localhost:8080/",
          "height": 843,
          "referenced_widgets": [
            "157b3fadc79441589a4085f9b592b987",
            "ea2deb5884d748eab0a02b6179fdb766",
            "9b775f0b191649ac8df23c4d341165e4",
            "ce566ee24e5842e6ae50d2bfaf58bee4",
            "a9cb91bdbb7341b995a32d2003f8ac25",
            "10b6efc0a1a449409d7c3bd2797fcb06",
            "3769ca5cee344d4baaa39b49282b1d35"
          ]
        },
        "id": "zxzQmtZkwBBg",
        "outputId": "13fe1311-0594-4348-d3c4-e37b27574a95",
        "cellView": "form"
      },
      "execution_count": 7,
      "outputs": [
        {
          "output_type": "display_data",
          "data": {
            "text/plain": [
              "interactive(children=(IntSlider(value=2, description='Number of Agents:', max=4, min=2, style=SliderStyle(desc…"
            ],
            "application/vnd.jupyter.widget-view+json": {
              "version_major": 2,
              "version_minor": 0,
              "model_id": "157b3fadc79441589a4085f9b592b987"
            }
          },
          "metadata": {}
        },
        {
          "output_type": "execute_result",
          "data": {
            "text/plain": [
              "<function __main__.show_environment_comparison(n_agents)>"
            ],
            "text/html": [
              "<div style=\"max-width:800px; border: 1px solid var(--colab-border-color);\"><style>\n",
              "      pre.function-repr-contents {\n",
              "        overflow-x: auto;\n",
              "        padding: 8px 12px;\n",
              "        max-height: 500px;\n",
              "      }\n",
              "\n",
              "      pre.function-repr-contents.function-repr-contents-collapsed {\n",
              "        cursor: pointer;\n",
              "        max-height: 100px;\n",
              "      }\n",
              "    </style>\n",
              "    <pre style=\"white-space: initial; background:\n",
              "         var(--colab-secondary-surface-color); padding: 8px 12px;\n",
              "         border-bottom: 1px solid var(--colab-border-color);\"><b>show_environment_comparison</b><br/>def show_environment_comparison(n_agents)</pre><pre class=\"function-repr-contents function-repr-contents-collapsed\" style=\"\"><a class=\"filepath\" style=\"display:none\" href=\"#\">/content/&lt;ipython-input-7-45bd1f15460d&gt;</a>Displays the comparison between a single-agent and multi-agent environment.\n",
              "\n",
              "Args:\n",
              "    n_agents (int): The number of agents in the multi-agent environment.\n",
              "\n",
              "The function prints the sizes of the state space and action space for both environments\n",
              "and creates an interactive visualization comparing the environments.</pre></div>"
            ]
          },
          "metadata": {},
          "execution_count": 7
        }
      ]
    },
    {
      "cell_type": "markdown",
      "source": [
        "We can observe that the State and Aciton Space becomes significantly more complex in Multi-agent problems.\n",
        "\n",
        "- **Single-Agent Environment**:\n",
        "  - State space: $S$\n",
        "  - Action space: $A$\n",
        "\n",
        "- **Multi-Agent Environment ($N$ agents)**:\n",
        "  - **Joint State Space**: $S_{\\text{joint}} = S^N$  \n",
        "    The state space grows **exponentially** with the number of agents, as it represents all possible combinations of states for $N$ agents.\n",
        "  - **Joint Action Space**: $A_{\\text{joint}} = A^N$  \n",
        "    Similarly, the action space grows **exponentially**, reflecting all possible combinations of actions taken by $N$ agents simultaneously.\n",
        "\n",
        "---\n",
        "**Implications**\n",
        "- The **exponential growth** of state and action spaces with $N$ agents leads to significant computational challenges in modeling and solving multi-agent environments.\n",
        "- Addressing this complexity often requires:\n",
        "  - Efficient representations of the state and action spaces.\n",
        "  - **Decentralized strategies** to reduce the dimensionality of the problem.\n",
        "  - Utilizing approximations or hierarchical methods in reinforcement learning.\n"
      ],
      "metadata": {
        "id": "aaZ99kj5JWAP"
      }
    },
    {
      "cell_type": "markdown",
      "source": [
        "### Types of MARL\n"
      ],
      "metadata": {
        "id": "GIoB3hTyQovn"
      }
    },
    {
      "cell_type": "markdown",
      "source": [
        "\n",
        "MARL involves multiple agents interacting in a shared environment. The agents’ behaviors depend on their own actions as well as the actions of others. The main types of MARL are as follows:\n",
        "\n",
        "- **Competitive MARL**:\n",
        "  - Agents compete against each other.\n",
        "  - The reward for each agent is typically inversely related to the rewards of others, meaning that one agent’s gain comes at the expense of another’s loss.\n",
        "  \n",
        "  Mathematically, the reward for agent $i$ is:\n",
        "  $\n",
        "  R_i(s, a_1, a_2, \\dots, a_N)\n",
        "  $\n",
        "  where $s$ is the state and $a_1, a_2, \\dots, a_N$ are the actions of all agents.\n",
        "\n",
        "- **Cooperative MARL**:\n",
        "  - All agents share a common goal and work together to maximize the total reward.\n",
        "  - The reward is the same for all agents in a given state-action pair.\n",
        "\n",
        "  $\n",
        "  R_i(s, a_1, a_2, \\dots, a_N) = R(s, a_1, a_2, \\dots, a_N)\n",
        "  $\n",
        "  where $R$ is the shared reward across agents.\n",
        "\n",
        "- **Mixed MARL**:\n",
        "  - Mixed MARL combines both competitive and cooperative behaviors.\n",
        "  - Some agents may cooperate for certain tasks, while still competing for individual rewards.\n",
        "  $\n",
        "  R_i(s, a_1, a_2, \\dots, a_N) = R_c(s, a_1, a_2, \\dots, a_N) + R_p(s, a_1, a_2, \\dots, a_N)\n",
        "  $\n",
        "  where $R_c$ is the cooperative component and $R_p$ is the competitive component.\n",
        "\n",
        "### Payoff Matrix\n",
        "\n",
        "A **payoff matrix** represents the outcomes (payoffs) for each agent based on their chosen strategies. It’s a useful tool for analyzing strategic decisions in games.\n",
        "\n",
        "In a two-player game, the matrix is represented as:\n",
        "\n",
        "$$\n",
        "\\begin{array}{|c|c|c|}\n",
        "\\hline\n",
        "& \\text{Player 2: Strategy 1} & \\text{Player 2: Strategy 2} \\\\\n",
        "\\hline\n",
        "\\text{Player 1: Strategy 1} & (R_1, R_2) & (R_3, R_4) \\\\\n",
        "\\hline\n",
        "\\text{Player 1: Strategy 2} & (R_5, R_6) & (R_7, R_8) \\\\\n",
        "\\hline\n",
        "\\end{array}\n",
        "$$\n",
        "\n",
        "\n",
        "Where $(R_1, R_2)$, etc., represent the payoffs for Player 1 and Player 2 based on their strategies.\n",
        "\n",
        "In MARL, the payoff matrix helps analyze how agents' interactions affect outcomes in Competitive, Cooperative, and Mixed settings.\n"
      ],
      "metadata": {
        "id": "bZg0eF-cPVvS"
      }
    },
    {
      "cell_type": "code",
      "source": [
        "# @title Payoff Matrix\n",
        "import matplotlib.pyplot as plt\n",
        "import numpy as np\n",
        "import seaborn as sns\n",
        "from ipywidgets import interact\n",
        "from IPython.display import display, Markdown\n",
        "\n",
        "def create_marl_types_visualization():\n",
        "    competitive = np.array([[1,-1], [-1,1]])\n",
        "    cooperative = np.array([[2,0], [0,2]])\n",
        "    mixed = np.array([[2,-1], [-1,2]])\n",
        "\n",
        "    def plot_payoff_matrix(matrix, title):\n",
        "        fig = plt.figure(figsize=(6, 4))\n",
        "        sns.heatmap(matrix, annot=True, cmap='RdYlBu', center=0)\n",
        "        plt.title(title)\n",
        "        return fig\n",
        "\n",
        "    @interact(marl_type=['Competitive', 'Cooperative', 'Mixed'])\n",
        "    def show_marl_type(marl_type):\n",
        "        if marl_type == 'Competitive':\n",
        "            matrix = competitive\n",
        "            display(Markdown(\"\"\"\n",
        "            Competitive MARL\n",
        "            - Payoff Matrix: A zero-sum game where the total payoff across all players is zero.\n",
        "            - Key Characteristic: One player's gain is another player's loss.\n",
        "            - Example: Two-player games like chess, where players are directly competing.\n",
        "            \"\"\"))\n",
        "        elif marl_type == 'Cooperative':\n",
        "            matrix = cooperative\n",
        "            display(Markdown(\"\"\"\n",
        "            Cooperative MARL\n",
        "            - Payoff Matrix: A shared reward system where all agents work towards maximizing the collective reward.\n",
        "            - Key Characteristic: Agents collaborate to achieve a common goal.\n",
        "            - Example: Robot swarm coordination, where agents cooperate to achieve a common task.\n",
        "            \"\"\"))\n",
        "        else:\n",
        "            matrix = mixed\n",
        "            display(Markdown(\"\"\"\n",
        "            Mixed MARL\n",
        "            - Payoff Matrix: A combination of competitive and cooperative elements.\n",
        "            - Key Characteristic: Agents have partial alignment of goals but may still compete in certain situations.\n",
        "            - Example: Traffic management, where cooperation is needed to optimize the system, but individual vehicles still compete for resources like road space.\n",
        "            \"\"\"))\n",
        "\n",
        "        plot_payoff_matrix(matrix, f'{marl_type} MARL - Payoff Matrix')\n",
        "        plt.show()\n",
        "\n",
        "create_marl_types_visualization()\n"
      ],
      "metadata": {
        "colab": {
          "base_uri": "https://localhost:8080/",
          "height": 492,
          "referenced_widgets": [
            "0c9dc9f5a02445eb80b361a249868407",
            "93235f33085448af8dc1a7e7a35c8d41",
            "8eb4f458f94442ad90ca75e4c508dd80",
            "11f9ca6a0bb54e3fb17aa66af316e43d",
            "ef62a29eca7541a7913358018902cc59",
            "c879f9dd8ebd4d249b66e2741eba23b0",
            "9d5ded8a455d44e39a260459ba994cb0"
          ]
        },
        "cellView": "form",
        "id": "Wpz9gs8I9HP2",
        "outputId": "721e91b6-374f-47a1-c0ea-57d2a2ef80d3"
      },
      "execution_count": 8,
      "outputs": [
        {
          "output_type": "display_data",
          "data": {
            "text/plain": [
              "interactive(children=(Dropdown(description='marl_type', options=('Competitive', 'Cooperative', 'Mixed'), value…"
            ],
            "application/vnd.jupyter.widget-view+json": {
              "version_major": 2,
              "version_minor": 0,
              "model_id": "0c9dc9f5a02445eb80b361a249868407"
            }
          },
          "metadata": {}
        }
      ]
    },
    {
      "cell_type": "markdown",
      "source": [
        "##  **Key Challenges MARL**\n"
      ],
      "metadata": {
        "id": "IOaRB0paXw4A"
      }
    },
    {
      "cell_type": "markdown",
      "source": [
        "MARL introduces unique challenges due to interactions between agents and the environment. Addressing these challenges is essential for building robust multi-agent systems.\n"
      ],
      "metadata": {
        "id": "q8CnTN1FSlnx"
      }
    },
    {
      "cell_type": "markdown",
      "source": [
        "### 🚩 **1. Non-Stationarity**\n"
      ],
      "metadata": {
        "id": "b59ERZSCV5kz"
      }
    },
    {
      "cell_type": "markdown",
      "source": [
        "In MARL, agents interact with each other in a shared environment. A key challenge is **non-stationarity** — the environment changes dynamically as agents adapt their policies. This creates instability and hinders learning.\n",
        "\n",
        "---\n",
        "\n",
        "**The Problem**\n",
        "\n",
        "In a multi-agent setup:  \n",
        "- Each agent's policy affects the environment.  \n",
        "- When one agent updates its policy, the environment effectively changes for all other agents.  \n",
        "- This violates the stationary environment assumption of standard reinforcement learning algorithms.\n",
        "\n",
        "---\n",
        "\n",
        "**Mathematical Formalism**\n",
        "\n",
        "1. **Environment Dynamics**:  \n",
        "   The environment’s state transition depends on all agents' actions:  \n",
        "   $$\n",
        "   P(s_{t+1} | s_t, \\mathbf{a}_t),\n",
        "   $$\n",
        "   where $\\mathbf{a}_t = (a_t^1, a_t^2, \\dots, a_t^N) $ represents all agents' actions.\n",
        "\n",
        "2. **Agent-Specific Rewards**:  \n",
        "   Each agent $i$ learns to maximize its own expected return:  \n",
        "  $$\n",
        "   J^i = \\mathbb{E} \\left[ \\sum_{t=0}^T \\gamma^t r_t^i \\right].\n",
        "   $$\n",
        "   However, $r_t^i $ depends on the joint action $\\mathbf{a}_t $, which changes as other agents update their policies.\n",
        "\n",
        "3. **Non-Stationary Policy Updates**:  \n",
        "   As agent $i$ updates its policy $\\pi^i(a^i | s)$, the effective transition and reward functions observed by other agents become time-dependent:  \n",
        "   $$\n",
        "   P(s_{t+1} | s_t, \\mathbf{a}_t) \\text{ and } r_t^j \\quad \\text{for } j \\neq i.\n",
        "   $$\n",
        "\n",
        "---\n",
        "\n",
        "**Impact of Non-Stationarity**\n",
        "\n",
        "- **Unstable Learning**: Agents cannot converge to optimal policies because their environment (other agents) is constantly changing.  \n",
        "- **Exploration-Exploitation Tradeoff**: It becomes harder to balance exploring new strategies with exploiting known ones.  \n",
        "- **Suboptimal Coordination**: Agents might struggle to form effective strategies due to frequent policy changes by others.\n",
        "\n"
      ],
      "metadata": {
        "id": "HMU6U9cMIEvB"
      }
    },
    {
      "cell_type": "markdown",
      "source": [
        "\n",
        "\n",
        "**Illustration Example**: Non-Stationarity in the \"Multi-Agent Particle Environment\"\n",
        "\n",
        "- **Environment Description**:\n",
        "  - **Agents**: Move on a 2D grid to collect and spread objects.\n",
        "  - **Goal**: The goal is for agents to cooperate and gather objects, maximizing a shared reward.\n",
        "  - **Actions**: Agents can move in four directions (up, down, left, right) and interact with other agents or objects.\n",
        "\n",
        "- **Reward Distribution**:\n",
        "  - In **single-agent** setup: Reward depends on the actions of the single agent, based on how effectively it collects objects.\n",
        "  - In **multi-agent** setup: The reward is shared among all agents based on their collective actions. Agents might hinder or help each other depending on the interactions.\n",
        "\n",
        "- **Key Points**:\n",
        "  - The environment is non-stationary because the actions of multiple agents create dynamic changes in the state.\n",
        "  - No learning or training: We sample random actions and observe how reward fluctuations occur due to non-stationarity.\n"
      ],
      "metadata": {
        "id": "NX89GhpXSqPB"
      }
    },
    {
      "cell_type": "code",
      "source": [
        "# @title Spread\n",
        "import numpy as np\n",
        "import matplotlib.pyplot as plt\n",
        "from pettingzoo.mpe import simple_spread_v3\n",
        "from IPython.display import Image, display\n",
        "import imageio\n",
        "from ipywidgets import interactive\n",
        "\n",
        "def initialize_env(N_agents):\n",
        "    env_single = simple_spread_v3.parallel_env(N=1, render_mode=\"rgb_array\")  # Single-agent setup\n",
        "    env_multi = simple_spread_v3.parallel_env(N=N_agents, render_mode=\"rgb_array\")  # Multi-agent setup\n",
        "    return env_single, env_multi\n",
        "\n",
        "def reset_envs(env_single, env_multi):\n",
        "    observations_single, infos_single = env_single.reset(seed=42)\n",
        "    observations_multi, infos_multi = env_multi.reset(seed=42)\n",
        "    return observations_single, infos_single, observations_multi, infos_multi\n",
        "\n",
        "def save_gif_from_images(images, filename):\n",
        "    \"\"\"Save a sequence of images as a GIF with looping enabled.\"\"\"\n",
        "    imageio.mimsave(filename, images, duration=0.1, loop=0)  # loop=0 ensures the GIF repeats indefinitely\n",
        "\n",
        "def simulate_non_stationarity_with_gif(N_agents, steps=100):\n",
        "    env_single, env_multi = initialize_env(N_agents)\n",
        "    observations_single, infos_single, observations_multi, infos_multi = reset_envs(env_single, env_multi)\n",
        "\n",
        "    rewards_single, rewards_multi = [], []\n",
        "    images_single, images_multi = [], []\n",
        "\n",
        "    for _ in range(steps):\n",
        "        actions_single = {}\n",
        "        actions_multi = {}\n",
        "\n",
        "        for agent in env_single.agents:\n",
        "            actions_single[agent] = env_single.action_space(agent).sample()\n",
        "\n",
        "        images_single.append(env_single.render())\n",
        "\n",
        "        observations, rewards, terminations, truncations, infos = env_single.step(actions_single)\n",
        "        rewards_single.append(sum(rewards.values()))\n",
        "\n",
        "        for agent in env_multi.agents:\n",
        "            actions_multi[agent] = env_multi.action_space(agent).sample()\n",
        "\n",
        "        images_multi.append(env_multi.render())\n",
        "\n",
        "        observations, rewards, terminations, truncations, infos = env_multi.step(actions_multi)\n",
        "        rewards_multi.append(sum(rewards.values()))\n",
        "\n",
        "    return rewards_single, rewards_multi, images_single, images_multi\n",
        "\n",
        "def plot_with_gif(N_agents=2, steps=100):\n",
        "    rewards_single, rewards_multi, images_single, images_multi = simulate_non_stationarity_with_gif(N_agents, steps)\n",
        "\n",
        "    rewards_plot = plt.figure(figsize=(10, 6))\n",
        "    plt.plot(rewards_single, label='Single-Agent Reward', color='blue')\n",
        "    plt.plot(rewards_multi, label=f'Multi-Agent Reward (N={N_agents})', color='red')\n",
        "    plt.title(\"Non-Stationarity: Reward Fluctuations in Single-Agent vs. Multi-Agent Setting\")\n",
        "    plt.xlabel(\"Training Steps\")\n",
        "    plt.ylabel(\"Reward\")\n",
        "    plt.legend()\n",
        "    plt.grid(True)\n",
        "    plt.tight_layout()\n",
        "    plt.show()\n",
        "\n",
        "    save_gif_from_images(images_single, filename='single_agent.gif')\n",
        "    save_gif_from_images(images_multi, filename='multi_agent.gif')\n",
        "\n",
        "    display(Markdown(\"### **Single-Agent Animation**\"))\n",
        "    display(Image(filename=\"single_agent.gif\"))\n",
        "\n",
        "    display(Markdown(f\"### **Multi-Agent Animation (N={N_agents})**\"))\n",
        "    display(Image(filename=\"multi_agent.gif\"))\n",
        "\n",
        "interactive_plot = interactive(plot_with_gif, N_agents=(2, 10, 1), steps=(100, 500, 10))\n",
        "display(interactive_plot)\n"
      ],
      "metadata": {
        "colab": {
          "base_uri": "https://localhost:8080/",
          "height": 1000,
          "referenced_widgets": [
            "512770e4816d41998b84043f6d0098a1",
            "23ded27c0f21406c85c78019d2be4be0",
            "9eb324967e9b4da3b43cc338468032d1",
            "79e0107ef10f42cbb72fc68e9442d617",
            "134785d0b5374ed69c4064f895ef2f29",
            "54144e24d7594c4094b8858a122db9b8",
            "90dedaa8d7c94a15a51f82cfab90b823",
            "6ba89839b68941a7875fd647d532403c",
            "0f54dfcb3025409da8d4ebd0ade3e40e",
            "78437239e06748b7931ff442b9ea965a"
          ]
        },
        "id": "0J8UWx5RaNBO",
        "outputId": "4daeb87a-af6d-4c92-bb67-89ce9f695cfb"
      },
      "execution_count": 9,
      "outputs": [
        {
          "output_type": "display_data",
          "data": {
            "text/plain": [
              "interactive(children=(IntSlider(value=2, description='N_agents', max=10, min=2), IntSlider(value=100, descript…"
            ],
            "application/vnd.jupyter.widget-view+json": {
              "version_major": 2,
              "version_minor": 0,
              "model_id": "512770e4816d41998b84043f6d0098a1"
            }
          },
          "metadata": {}
        }
      ]
    },
    {
      "cell_type": "markdown",
      "source": [
        "### 📊 3. **Credit Assignment**"
      ],
      "metadata": {
        "id": "6jfwNGmSETbl"
      }
    },
    {
      "cell_type": "markdown",
      "source": [
        "\n",
        "Agents work together to maximize a global reward. A key challenge is **credit assignment** — determining how much each agent contributes to the team’s success or failure. Without proper credit assignment, agents may struggle to learn effective policies.\n",
        "\n",
        "---\n",
        "\n",
        "**The Problem**\n",
        "\n",
        "- **Joint Reward**: Agents receive a shared reward $r_t$, making it unclear which agent's actions led to the outcome.  \n",
        "- **Delayed Rewards**: Rewards might not occur immediately, making it harder to link actions to results.  \n",
        "\n",
        "The goal is to distribute the joint reward among agents such that each learns its contribution to the global outcome.\n",
        "\n",
        "---\n",
        "\n",
        "1. **Global Objective**:\n",
        "   Maximize the total discounted reward:\n",
        "   $$\n",
        "   J = \\mathbb{E} \\left[ \\sum_{t=0}^T \\gamma^t r_t \\right],\\quad  \\text{where \\( \\gamma \\) is the discount factor.}\n",
        "   $$\n",
        "   \n",
        "\n",
        "2. **Credit Decomposition**:\n",
        "   Decompose $r_t $ into individual contributions  $c_t^i$ for $N$ agents:\n",
        "   $$\n",
        "   r_t = \\sum_{i=1}^N c_t^i.\n",
        "   $$\n",
        "\n",
        "3. **Advantage Function** (for Temporal Credit):\n",
        "   Use the advantage function to estimate an agent's impact:\n",
        "   $$\n",
        "   A_t^i = Q(s_t, a_t^i) - V(s_t),\n",
        "   $$\n",
        "   where $ Q(s_t, a_t^i) $ evaluates action $ a_t^i $, and $V(s_t) $ evaluates the state $s_t$.\n",
        "\n",
        "---\n"
      ],
      "metadata": {
        "id": "0C5iLj5s5six"
      }
    },
    {
      "cell_type": "markdown",
      "source": [
        "### 🔍 **4. Partial Observability**  \n",
        "\n",
        "Agents in MARL often lack access to the full global state, relying on partial observations, which poses significant challenges for coordination and learning.  \n",
        "\n",
        "---\n",
        "\n",
        "**The Problem**  \n",
        "\n",
        "1. **Limited Observations**: Each agent $i$ observes only a part of the environment:  \n",
        "   $$o_t^i = \\mathcal{O}^i(s_t),$$  \n",
        "   where $s_t$ is the true global state, and $\\mathcal{O}^i$ is the observation function of agent $i$.  \n",
        "\n",
        "2. **Decentralized Policies**: Agents act independently based on local observations:  \n",
        "   $$a_t^i = \\pi^i(o_t^i),$$  \n",
        "   which may lead to suboptimal joint behavior.  \n",
        "\n",
        "3. **Non-Markovian Observations**: The partial observation $o_t^i$ may not contain enough information to make decisions Markovian.  \n",
        "\n",
        "---\n",
        "\n",
        "**Challenges**  \n",
        "\n",
        "1. **Coordination Under Uncertainty**: Incomplete or inconsistent information hinders agents' ability to work together.  \n",
        "2. **Hidden States**: Critical environment or agent states are unobservable, leading to poorly informed decisions.  \n",
        "3. **Delayed Effects**: Observations may not immediately reflect the consequences of an action.  \n",
        "\n",
        "---\n"
      ],
      "metadata": {
        "id": "tM0qXQWALjFK"
      }
    },
    {
      "cell_type": "markdown",
      "source": [
        "### 📡 2. **Communication**\n"
      ],
      "metadata": {
        "id": "hTEv5AnY4MMg"
      }
    },
    {
      "cell_type": "markdown",
      "source": [
        "Agents work together to achieve common goals. A key challenge is **communication** — how do agents share information when they can't directly observe each other's states or intentions? Efficient communication is critical for coordinating actions, but poor communication strategies can reduce performance.\n",
        "\n",
        "\n",
        "\n",
        "**The Problem**\n",
        "\n",
        "In MARL, agents face three key communication challenges:\n",
        "\n",
        "1. **When to communicate?** Not all decisions require input from other agents, and over-communication can create inefficiencies.\n",
        "2. **What to communicate?** Agents need to decide which information is essential and relevant to share.\n",
        "3. **How to communicate efficiently?** Too much or too little communication can slow down decision-making and consume resources.\n",
        "\n",
        "If communication isn’t handled properly, agents may act independently or inefficiently, reducing the overall performance.\n",
        "\n",
        "---\n",
        "\n",
        " **Types of Communication**\n",
        "\n",
        "1. **Implicit Communication**:\n",
        "   - **Definition**: Agents communicate indirectly through their actions, inferring the intentions of others by observing their behavior.\n",
        "   - **Example**: Agent A moves in a specific direction, and Agent B infers that Agent A is trying to reach a destination.\n",
        "   - **Advantages**: No message overhead.\n",
        "   - **Disadvantages**: Can lead to misunderstandings, especially in complex environments.\n",
        "\n",
        "2. **Explicit Communication**:\n",
        "   - **Definition**: Agents send direct messages to each other to convey information.\n",
        "   - **Example**: Agent A tells Agent B, \"There’s an obstacle ahead, move left.\"\n",
        "   - **Advantages**: Clear coordination.\n",
        "   - **Disadvantages**: Communication overhead and possible complexity in managing messages.\n",
        "\n",
        "---\n",
        "\n",
        "**Potential Solutions to the Communication Challenge**\n",
        "\n",
        "1. **Learning Communication with Deep Reinforcement Learning (DRL)**:\n",
        "   - Agents can learn to develop communication protocols through reinforcement learning. They’re trained to maximize their performance, while also learning to share information in a way that improves coordination.\n",
        "   - **Example**: Agents learn when to signal each other or interpret each other’s actions without explicit instructions.\n",
        "\n",
        "2. **Targeted Multi-Agent Communication (TARMAC)**:\n",
        "   - Agents use attention mechanisms to decide what and who to communicate with, ensuring that only relevant information is shared. This reduces communication costs and improves coordination.\n",
        "   - **Example**: An agent might only communicate with another agent when an obstacle or important event occurs.\n"
      ],
      "metadata": {
        "id": "7BySW5X32Sit"
      }
    },
    {
      "cell_type": "markdown",
      "source": [
        "\n",
        "\n",
        "---\n",
        "\n",
        "# **Algorithmic Solutions**\n",
        "\n",
        "---\n",
        "\n"
      ],
      "metadata": {
        "id": "GRNaBf2CK2K0"
      }
    },
    {
      "cell_type": "markdown",
      "source": [
        "## **Centralized Training with Decentralized Execution**\n"
      ],
      "metadata": {
        "id": "GGpcHeGBjiB9"
      }
    },
    {
      "cell_type": "markdown",
      "source": [
        "CTDE enables agents to train using global information while executing policies based on local observations. This approach effectively addresses non-stationarity in cooperative settings.\n",
        "\n",
        "**Key Aspects of CTDE:**\n",
        "\n",
        "- **Centralized Training:** Agents learn from global information during training.\n",
        "\n",
        "- **Decentralized Execution:** Agents operate based on local observations during execution.\n",
        "\n",
        "- **Cooperative Focus:** Particularly effective in settings where agents collaborate toward a common goal.\n",
        "\n",
        "To facilitate information sharing during training, CTDE can utilize:\n",
        "\n",
        "1. **Centralized Critic Methods:** Employ a centralized critic during training to evaluate joint actions, providing a unified learning signal that addresses challenges like nonstationarity and credit assignment.\n",
        "\n",
        "2. **Value Function Factorization Methods:** Decompose the joint value function into individual components, enabling cooperative learning while maintaining decentralized execution.\n"
      ],
      "metadata": {
        "id": "b9Ju4UL_jeiQ"
      }
    },
    {
      "cell_type": "markdown",
      "source": [
        "### **🧠1. Policy Gradient Methods**\n",
        "\n",
        "These approaches optimize agents' policies directly through gradient-based techniques, effectively handling large or continuous action spaces.\n",
        "\n",
        "To enhance learning, **centralized critic methods** are employed during training, providing a unified evaluation of joint actions and addressing key challenges:\n",
        "\n",
        "- **Nonstationarity:** Centralized critics offer a stable learning signal, mitigating the nonstationary environment caused by agents' evolving policies.\n",
        "\n",
        "- **Credit Assignment:** They assist in evaluating joint actions, facilitating accurate credit assignment and improving individual agent learning.\n",
        "\n",
        "- **Sample Efficiency:** By leveraging global information, centralized critics lead to more efficient learning and faster convergence compared to decentralized approaches.\n",
        "\n",
        "Incorporating centralized critics enhances coordination and performance in cooperative multi-agent settings.\n",
        "#### 🧠🤝 1.1. Multi-Agent Deep Deterministic Policy Gradient (MADDPG)\n",
        "\n",
        "MADDPG extends the Deep Deterministic Policy Gradient (DDPG) algorithm to multi-agent environments by incorporating a centralized critic for each agent, which considers the actions and observations of all agents during training. This centralized training with decentralized execution (CTDE) framework enables agents to learn coordinated behaviors while acting based on their local observations during execution.\n",
        "\n",
        "**Update Formulas:**\n",
        "\n",
        "- **Critic Update:**\n",
        "\n",
        "  The critic for agent $i$ is updated by minimizing the loss function:\n",
        "\n",
        "  $$\n",
        "  \\mathcal{L}_i(\\theta_i) = \\mathbb{E} \\left[ \\left( Q_i(s_t, a_1, a_2, \\ldots, a_N; \\theta_i) - y_t \\right)^2 \\right]\n",
        "  $$\n",
        "\n",
        "  Where:\n",
        "  - $y_t = r_i + \\gamma \\, Q_i(s_{t+1}, a_1', a_2', \\ldots, a_N'; \\theta_i^-)$ is the target value.\n",
        "  - $a_j'$ represents the action taken by agent $j$ at the next time step, determined by its policy $\\pi_j$.\n",
        "  - $\\theta_i^-$ are the parameters of the target critic network for agent $i$.\n",
        "\n",
        "- **Actor Update:**\n",
        "\n",
        "  The actor for agent $i$ is updated by maximizing the expected return, using the policy gradient:\n",
        "\n",
        "  $$\n",
        "  \\nabla_{\\phi_i} J(\\phi_i) = \\mathbb{E} \\left[ \\nabla_{a_i} Q_i(s_t, a_1, a_2, \\ldots, a_N; \\theta_i) \\cdot \\nabla_{\\phi_i} \\pi_i(o_i; \\phi_i) \\right]\n",
        "  $$\n",
        "\n",
        "  Where:\n",
        "  - $\\pi_i(o_i; \\phi_i)$ is the policy of agent $i$ parameterized by $\\phi_i$, based on its local observation $o_i$.\n",
        "\n",
        "**Comparison with SARL:**\n",
        "\n",
        "In Single-Agent Reinforcement Learning (SARL), an agent learns a policy based solely on its own experiences and observations. In contrast, MADDPG allows each agent to consider the actions and observations of all agents during training through a centralized critic, facilitating coordinated behavior in multi-agent settings.\n",
        "\n",
        "#### 🧠⚖️ 1.2. Counterfactual Multi-Agent Policy Gradients (COMA)\n",
        "\n",
        "COMA is an actor-critic method designed for fully cooperative multi-agent environments. It employs a centralized critic to estimate the Q-value of joint actions and uses a counterfactual baseline to compute the advantage function for each agent, which helps in addressing the credit assignment problem by evaluating an agent's contribution to the team's success.\n",
        "\n",
        "**Update Formulas:**\n",
        "\n",
        "- **Critic Update:**\n",
        "\n",
        "  The critic is updated by minimizing the temporal-difference error:\n",
        "\n",
        "  $$\n",
        "  \\mathcal{L}(\\theta) = \\mathbb{E} \\left[ \\left( Q(s_t, \\mathbf{a}_t; \\theta) - y_t \\right)^2 \\right]\n",
        "  $$\n",
        "\n",
        "  Where:\n",
        "  - $y_t = r_t + \\gamma \\, Q(s_{t+1}, \\mathbf{a}_{t+1}; \\theta^-)$ is the target value.\n",
        "  - $\\mathbf{a}_t$ denotes the joint action of all agents at time $t$.\n",
        "  - $\\theta^-$ are the parameters of the target critic network.\n",
        "\n",
        "- **Actor Update:**\n",
        "\n",
        "  The actor for agent $i$ is updated using the policy gradient, weighted by the counterfactual advantage:\n",
        "\n",
        "  $$\n",
        "  \\nabla_{\\phi_i} J(\\phi_i) = \\mathbb{E} \\left[ \\nabla_{\\phi_i} \\log \\pi_i(a_{i,t} | o_{i,t}; \\phi_i) \\cdot A_i(s_t, \\mathbf{a}_t) \\right]\n",
        "  $$\n",
        "\n",
        "  Where:\n",
        "  - $A_i(s_t, \\mathbf{a}_t) = Q(s_t, \\mathbf{a}_t) - \\sum_{a_i'} \\pi_i(a_i' | o_{i,t}) Q(s_t, (a_i', \\mathbf{a}_{-i,t}))$ is the counterfactual advantage function for agent $i$.\n",
        "  - $\\mathbf{a}_{-i,t}$ represents the actions of all agents except agent $i$ at time $t$.\n",
        "\n",
        "**Comparison with SARL:**\n",
        "\n",
        "In SARL, the agent focuses on optimizing its own policy without considering the interactions with other agents. COMA, however, addresses the multi-agent credit assignment problem by using a centralized critic and counterfactual reasoning, enabling more effective learning in cooperative multi-agent environments.\n",
        "\n",
        "#### 🧠📈 1.3. Multi-Agent Proximal Policy Optimization (MAPPO)\n",
        "\n",
        "MAPPO extends the Proximal Policy Optimization (PPO) algorithm to multi-agent environments, incorporating mechanisms to handle the complexities of multi-agent interactions. It employs a centralized value function during training to improve sample efficiency and stability, while maintaining decentralized execution. :contentReference[oaicite:1]{index=1}\n",
        "\n",
        "**Objective Function:**\n",
        "\n",
        "The objective function for agent $i$ is:\n",
        "\n",
        "$$\n",
        "L_i(\\theta_i) = \\mathbb{E}_t \\left[ \\min \\left( r_t(\\theta_i) \\hat{A}_t, \\text{clip}(r_t(\\theta_i), 1 - \\epsilon, 1 + \\epsilon) \\hat{A}_t \\right) \\right]\n",
        "$$\n",
        "\n",
        "Where:\n",
        "- $r_t(\\theta_i) = \\frac{\\pi_i(a_i | o_i; \\theta_i)}{\\pi_i(a_i | o_i; \\theta_i^{\\text{old}})}$ is the probability ratio between the current and old policies.\n",
        "- $\\hat{A}_t$ is the estimated advantage function.\n",
        "- $\\epsilon$ is the clipping parameter to limit the change in policy updates.\n",
        "\n",
        "**Value Function Update:**\n",
        "\n",
        "The centralized value function is updated by minimizing the loss:\n",
        "\n",
        "$$\n",
        "\\mathcal{L}^V(\\phi) = \\mathbb{E}_t \\left[ \\left( V(s_t; \\phi) - R_t \\right)^2 \\right]\n",
        "$$\n",
        "#### 🧠🔄 1.4. Multi-Agent Actor-Critic for Mixed Cooperative-Competitive Environments (MAAC)\n",
        "\n",
        "MAAC combines actor-critic methods with attention mechanisms to handle mixed environments. The critic for agent $ i $ is:\n",
        "\n",
        "$$ Q_i(s_t, a_t) = \\mathbb{E}_{a_{-i}} \\left[ r_t + \\gamma V_i(s_{t+1}) \\right] $$\n",
        "\n",
        "Where:\n",
        "- $ a_{-i} $: Actions of all agents except $ i $\n",
        "- $ V_i(s_{t+1}) $: Value function for agent $ i $ at time $ t+1 $\n",
        "\n",
        "**Comparison with SARL:**\n",
        "In SARL, a single actor-critic method is applied to the agent. In MAAC, attention mechanisms are used to handle interactions in mixed cooperative-competitive environments.\n",
        "\n",
        "\n"
      ],
      "metadata": {
        "id": "gfPhfsNPqAID"
      }
    },
    {
      "cell_type": "markdown",
      "source": [
        "### **🧠2. Value Decomposition Methods**\n"
      ],
      "metadata": {
        "id": "3ti1pbp-o6i-"
      }
    },
    {
      "cell_type": "markdown",
      "source": [
        "\n",
        "Value decomposition methods aim to break down the joint value function into individual components, enabling agents to learn cooperative behaviors while maintaining decentralized execution. This decomposition simplifies the complex problem of credit assignment in multi-agent systems, where determining the contribution of each agent to the overall outcome is challenging.\n",
        "\n",
        "\n",
        "#### 🧠💡 2.1. Value Decomposition Networks (VDN)\n",
        "\n",
        "VDN decomposes the joint Q-function into a sum of individual Q-functions:\n",
        "\n",
        "$$ Q_{\\text{joint}}(s_t, \\mathbf{a}_t) = \\sum_{i} Q_i(s_t, a_{i,t}) $$\n",
        "\n",
        "Where:\n",
        "- $ \\mathbf{a}_t $: Joint action at time $ t $\n",
        "- $ Q_{\\text{joint}} $: Joint Q-function\n",
        "- $ Q_i $: Individual Q-function for agent $ i $\n",
        "\n",
        "**Comparison with SARL:**\n",
        "In SARL, a single Q-function is learned for the agent. In VDN, the joint Q-function is decomposed into individual Q-functions, facilitating decentralized learning.\n",
        "\n",
        "#### 🧠🔗 2.2. QMIX\n",
        "\n",
        "QMIX is a monotonic value function factorization method that ensures joint action-value maximization. The joint Q-function is represented as:\n",
        "\n",
        "$$ Q_{\\text{joint}}(s_t, \\mathbf{a}_t) = \\sum_{i} f_i(s_t, a_{i,t}) \\quad \\text{with} \\quad f_i \\text{ being a monotonic function} $$\n",
        "\n",
        "**Comparison with SARL:**\n",
        "In SARL, a single Q-function is learned for the agent. In QMIX, the joint Q-function is factorized into individual components, ensuring that the joint action-value is maximized.\n",
        "\n",
        "#### 🧠⚡ 2.3. QTRAN\n",
        "\n",
        "QTRAN decomposes the joint Q-function into individual Q-functions while maintaining optimality. The decomposition is:\n",
        "\n",
        "$$ Q_{\\text{joint}}(s_t, \\mathbf{a}_t) = \\sum_{i} Q_i(s_t, a_{i,t}) + \\sum_{i,j} \\Delta_{ij}(s_t, a_{i,t}, a_{j,t}) $$\n",
        "\n",
        "Where:\n",
        "- $ \\Delta_{ij} $: Interaction term between agents $ i $ and $ j $\n",
        "\n",
        "**Comparison with SARL:**\n",
        "In SARL, a single Q-function is learned for the agent. In QTRAN, the joint Q-function is decomposed into individual Q-functions with interaction terms, allowing for coordinated learning.\n",
        "\n",
        "\n"
      ],
      "metadata": {
        "id": "j6UMLYcJol24"
      }
    },
    {
      "cell_type": "markdown",
      "source": [
        "##  **Independent Learning Approaches**"
      ],
      "metadata": {
        "id": "COyU1j2RXkGY"
      }
    },
    {
      "cell_type": "markdown",
      "source": [
        " **Independent Learning Approaches** treat each agent as an autonomous learner, applying SARL techniques without explicit coordination. These approaches assume that other agents' policies are fixed, leading each agent to independently optimize its own policy.\n",
        "\n",
        "These independent learning approaches are particularly suited for competitive settings, where agents operate without explicit coordination. However, they may face challenges in cooperative environments due to the lack of shared information and potential for suboptimal outcomes.\n",
        "\n",
        "**Key Aspects of Independent Learning Approaches:**\n",
        "\n",
        "- **Decentralized Learning:** Each agent learns its policy without sharing information or coordinating with other agents.\n",
        "\n",
        "- **Potential for Suboptimal Outcomes:** Without coordination, agents may converge to suboptimal policies, especially in competitive or complex environments.\n",
        "\n",
        "**🧠 1. Independent Q-Learning (IQL)**\n",
        "\n",
        "In IQL, each agent independently learns its own Q-function, assuming other agents' policies remain static. The Q-value update rule for agent $i$ is:\n",
        "\n",
        "$$\n",
        "Q_i(s_t, a_t) \\leftarrow Q_i(s_t, a_t) + \\alpha \\left[ r_t + \\gamma \\max_{a'} Q_i(s_{t+1}, a') - Q_i(s_t, a_t) \\right]\n",
        "$$\n",
        "\n",
        "Where:\n",
        "- $s_t$: State at time $t$\n",
        "- $a_t$: Action taken at time $t$\n",
        "- $r_t$: Reward received at time $t$\n",
        "- $\\gamma$: Discount factor\n",
        "- $\\alpha$: Learning rate\n",
        "\n",
        "**🧠💻 2. Independent Deep Q-Networks (IDQN)**\n",
        "\n",
        "IDQN extends IQL by employing deep neural networks to approximate Q-functions. The update rule mirrors that of IQL, but the Q-function is represented by a neural network $Q_i(s, a; \\theta_i)$, where $\\theta_i$ denotes the network parameters.\n",
        "\n",
        "**🧠🎭 3. Independent Actor-Critic (IAC)**\n",
        "\n",
        "In IAC, each agent maintains its own policy $\\pi_i$ and value function $V_i$, updating them independently. The policy is updated using the policy gradient theorem:\n",
        "\n",
        "$$\n",
        "\\nabla_{\\theta_i} J(\\theta_i) = \\mathbb{E}_{\\tau} \\left[ \\nabla_{\\theta_i} \\log \\pi_i(a_t | s_t; \\theta_i) \\cdot \\delta_t \\right]\n",
        "$$\n",
        "\n",
        "Where:\n",
        "- $\\delta_t = r_t + \\gamma V_i(s_{t+1}) - V_i(s_t)$\n",
        "\n",
        "**🧠📈 4. Independent Proximal Policy Optimization (IPPO)**\n",
        "\n",
        "IPPO involves each agent independently applying Proximal Policy Optimization (PPO) to update its policy. The objective function for agent $i$ is:\n",
        "\n",
        "$$\n",
        "L^{\\text{CLIP}}_i(\\theta_i) = \\mathbb{E}_t \\left[ \\min \\left( r_t(\\theta_i) \\cdot \\hat{A}_t, \\text{clip}(r_t(\\theta_i), 1 - \\epsilon, 1 + \\epsilon) \\cdot \\hat{A}_t \\right) \\right]\n",
        "$$\n",
        "\n",
        "Where:\n",
        "- $r_t(\\theta_i) = \\frac{\\pi_i(a_t | s_t; \\theta_i)}{\\pi_i(a_t | s_t; \\theta_{i,\\text{old}})}$\n",
        "- $\\hat{A}_t$: Estimated advantage at time $t$\n",
        "- $\\epsilon$: Clipping parameter\n",
        "\n",
        "\n",
        "\n"
      ],
      "metadata": {
        "id": "prtXyrbUPK9v"
      }
    },
    {
      "cell_type": "markdown",
      "source": [
        "\n",
        "\n",
        "## **🧠🧠 Advanced Strategies for Competitive MARL**\n",
        "\n",
        "In competitive Multi-Agent Reinforcement Learning (MARL), agents operate with opposing objectives, aiming to outperform each other.\n",
        "Understanding and anticipating opponents' behaviors is essential in competitive settings. By modeling opponents, agents can predict actions and adjust their strategies accordingly. This approach enhances performance by enabling agents to counteract opponents' tactics effectively.\n",
        "\n",
        "**Key Strategies:**\n",
        "\n",
        "- **Self-Play:** Agents train by competing against copies of themselves, allowing them to develop robust strategies through repeated interactions. This method is particularly effective in games like chess and Go, where agents can simulate various scenarios to improve their performance.\n",
        "\n",
        "  - **Implementation Steps:**\n",
        "    - **Initialize Multiple Agent Instances:** Create multiple instances of the agent, each with identical or evolving policies.\n",
        "    - **Simulate Interactions:** Allow these agents to play against each other in the target environment.\n",
        "    - **Policy Update:** After each game, update the agents' policies based on the outcomes, reinforcing successful strategies.\n",
        "    - **Iterative Training:** Repeat the process, enabling agents to adapt and refine their strategies over time.\n",
        "\n",
        "- **Opponent Modeling:** Agents learn models of their opponents to predict future actions, facilitating strategic planning. This technique is beneficial in environments where understanding the opponent's strategy is key to success.\n",
        "\n",
        "  - **Implementation Steps:**\n",
        "    - **Opponent Behavior Encoding:** Use neural networks to encode observations of the opponent's actions and states.\n",
        "    - **Policy and Model Joint Training:** Simultaneously train the agent's policy and the opponent model, allowing the agent to adapt to various strategies.\n",
        "    - **Strategic Adjustment:** Utilize the opponent model to predict and counteract the opponent's moves during interactions.\n",
        "\n",
        "- **Meta-Learning:** Agents develop the ability to adapt to new opponents by learning from a variety of adversarial interactions. This approach enables agents to generalize across different competitive scenarios.\n",
        "\n",
        "  - **Implementation Steps:**\n",
        "    - **Diverse Training Scenarios:** Expose the agent to a wide range of opponents with varying strategies.\n",
        "    - **Adaptation Mechanism:** Implement algorithms that allow the agent to quickly adjust its policy in response to new opponents.\n",
        "    - **Performance Evaluation:** Assess the agent's ability to maintain performance across different adversarial conditions.\n",
        "\n",
        "- **Ensemble Methods:** By maintaining multiple models of potential opponents, agents can select the most appropriate strategy based on the current context, enhancing adaptability and robustness.\n",
        "\n",
        "  - **Implementation Steps:**\n",
        "    - **Model Collection:** Develop and maintain a set of models representing different opponent strategies.\n",
        "    - **Contextual Analysis:** Evaluate the current game state to determine the most likely opponent model.\n",
        "    - **Strategy Selection:** Choose the agent's strategy that is most effective against the identified opponent model.\n",
        "    - **Continuous Refinement:** Update and refine the opponent models based on new interactions to improve future performance.\n"
      ],
      "metadata": {
        "id": "5HjxXShobfNX"
      }
    },
    {
      "cell_type": "markdown",
      "source": [
        "# Example: Implementing IPPO for pistonball using PettingZoo Gym"
      ],
      "metadata": {
        "id": "1EKJPcKqGSAL"
      }
    },
    {
      "cell_type": "markdown",
      "source": [
        "In this example below, we showcase the use of an IPPO algorithm that is trained to play the Atari game, Pistonball.\n",
        "\n",
        "This is a simple physics based cooperative game where the goal is to move the ball to the left wall of the game border by activating the vertically moving pistons.We can see here this game falls into the cooperative setting, and can alternate between whether the agents act sequentially, know as the Agent Environment Cycle mode or they take decisions in parallel.\n",
        "\n",
        "The agents are rewarded for moving the ball to the left, and incentivized to to it quickly through the use of a time penalty.This is an IPPO implementation, where each agent is treated independently with shared policy weights but no explicit coordination or centralized critic.\n",
        "\n",
        "The hyperparameters that can be played with are the clipping co-efficient, the number of episodes, and the discount rate.\n",
        "\n",
        "This code has been slightly modified from the [documentation](https://pettingzoo.farama.org/tutorials/cleanrl/implementing_PPO/) to enable you to experiment with the hyperparameters in real time. Credit to author [Jet](https://github.com/jjshoots) for the initial implementation."
      ],
      "metadata": {
        "id": "_WYNy8X-TF-H"
      }
    },
    {
      "cell_type": "code",
      "source": [
        "!mv INF8250AE-MARL-NOTEBOOK INF8250AE_MARL_NOTEBOOK\n"
      ],
      "metadata": {
        "id": "kRxUvqCrsE3X"
      },
      "execution_count": 25,
      "outputs": []
    },
    {
      "cell_type": "code",
      "source": [
        "!pip install supersuit\n",
        "!pip install pymunk\n",
        "import sys\n",
        "sys.path.append(\"/content/INF8250AE_MARL_NOTEBOOK/PettingZoo_PistonBall\")  # Update with the path to your subfolder\n",
        "from INF8250AE_MARL_NOTEBOOK.PettingZoo_PistonBall.pistonball_mappo import train_policy, render_policy"
      ],
      "metadata": {
        "id": "xKtIOEkaN46V",
        "colab": {
          "base_uri": "https://localhost:8080/"
        },
        "outputId": "4579bb8e-87e7-40f0-959c-8751d733974d"
      },
      "execution_count": 26,
      "outputs": [
        {
          "output_type": "stream",
          "name": "stdout",
          "text": [
            "Requirement already satisfied: supersuit in /usr/local/lib/python3.10/dist-packages (3.9.3)\n",
            "Requirement already satisfied: numpy>=1.19.0 in /usr/local/lib/python3.10/dist-packages (from supersuit) (1.26.4)\n",
            "Requirement already satisfied: gymnasium>=0.28.1 in /usr/local/lib/python3.10/dist-packages (from supersuit) (1.0.0)\n",
            "Requirement already satisfied: tinyscaler>=1.2.6 in /usr/local/lib/python3.10/dist-packages (from supersuit) (1.2.8)\n",
            "Requirement already satisfied: cloudpickle>=1.2.0 in /usr/local/lib/python3.10/dist-packages (from gymnasium>=0.28.1->supersuit) (3.1.0)\n",
            "Requirement already satisfied: typing-extensions>=4.3.0 in /usr/local/lib/python3.10/dist-packages (from gymnasium>=0.28.1->supersuit) (4.12.2)\n",
            "Requirement already satisfied: farama-notifications>=0.0.1 in /usr/local/lib/python3.10/dist-packages (from gymnasium>=0.28.1->supersuit) (0.0.4)\n",
            "Requirement already satisfied: pymunk in /usr/local/lib/python3.10/dist-packages (6.9.0)\n",
            "Requirement already satisfied: cffi>=1.17.1 in /usr/local/lib/python3.10/dist-packages (from pymunk) (1.17.1)\n",
            "Requirement already satisfied: pycparser in /usr/local/lib/python3.10/dist-packages (from cffi>=1.17.1->pymunk) (2.22)\n"
          ]
        }
      ]
    },
    {
      "cell_type": "code",
      "source": [
        "#Use this cell to check if notebook is set to use cpu or gpu.\n",
        "#You can get faster results from the GPU\n",
        "print(\"GPU available:\", torch.cuda.is_available())\n",
        "device = torch.device(\"cuda\" if torch.cuda.is_available() else \"cpu\")\n",
        "print(\"Using device:\", device)"
      ],
      "metadata": {
        "id": "ifcGnGT29ix4",
        "colab": {
          "base_uri": "https://localhost:8080/"
        },
        "outputId": "9d1a597d-8f82-4291-b504-b9d093c66565"
      },
      "execution_count": 27,
      "outputs": [
        {
          "output_type": "stream",
          "name": "stdout",
          "text": [
            "GPU available: True\n",
            "Using device: cuda\n"
          ]
        }
      ]
    },
    {
      "cell_type": "code",
      "source": [
        "#Select Hyperparamters\n",
        "num_episodes = 1\n",
        "discount_rate = 0.99\n",
        "clipping_coef = 0.1"
      ],
      "metadata": {
        "id": "PXKsk1h2IXZH"
      },
      "execution_count": 28,
      "outputs": []
    },
    {
      "cell_type": "code",
      "source": [
        "trained_agent, device = train_policy(num_episodes, discount_rate, clipping_coef)"
      ],
      "metadata": {
        "id": "kp9byEEWMzA7",
        "colab": {
          "base_uri": "https://localhost:8080/"
        },
        "outputId": "7c3ec375-2f96-4ecb-9879-9bab301b790e"
      },
      "execution_count": 29,
      "outputs": [
        {
          "output_type": "stream",
          "name": "stdout",
          "text": [
            "Beginning Training\n",
            "Training episode 0\n",
            "Episodic Return: -16.102325439453125\n",
            "Episode Length: 124\n",
            "\n",
            "Value Loss: 2389.995849609375\n",
            "Policy Loss: -61.95140075683594\n",
            "Old Approx KL: -0.0005492642521858215\n",
            "Approx KL: 0.0001784302294254303\n",
            "Clip Fraction: 0.03819444444444445\n",
            "Explained Variance: -0.005816340446472168\n",
            "\n",
            "-------------------------------------------\n",
            "\n"
          ]
        }
      ]
    },
    {
      "cell_type": "code",
      "source": [
        "#Produce a gif of the output\n",
        "render_policy(trained_agent, num_episodes, device)"
      ],
      "metadata": {
        "id": "DQlGEdIKMywq",
        "colab": {
          "base_uri": "https://localhost:8080/",
          "height": 304
        },
        "outputId": "4a79c36c-6a08-4935-deb5-4d7e8cf18296"
      },
      "execution_count": 30,
      "outputs": [
        {
          "output_type": "error",
          "ename": "FileNotFoundError",
          "evalue": "The directory '/content/PettingZoo_PistonBall' does not exist",
          "traceback": [
            "\u001b[0;31m---------------------------------------------------------------------------\u001b[0m",
            "\u001b[0;31mFileNotFoundError\u001b[0m                         Traceback (most recent call last)",
            "\u001b[0;32m<ipython-input-30-6364170dd025>\u001b[0m in \u001b[0;36m<cell line: 2>\u001b[0;34m()\u001b[0m\n\u001b[1;32m      1\u001b[0m \u001b[0;31m#Produce a gif of the output\u001b[0m\u001b[0;34m\u001b[0m\u001b[0;34m\u001b[0m\u001b[0m\n\u001b[0;32m----> 2\u001b[0;31m \u001b[0mrender_policy\u001b[0m\u001b[0;34m(\u001b[0m\u001b[0mtrained_agent\u001b[0m\u001b[0;34m,\u001b[0m \u001b[0mnum_episodes\u001b[0m\u001b[0;34m,\u001b[0m \u001b[0mdevice\u001b[0m\u001b[0;34m)\u001b[0m\u001b[0;34m\u001b[0m\u001b[0;34m\u001b[0m\u001b[0m\n\u001b[0m",
            "\u001b[0;32m/content/INF8250AE_MARL_NOTEBOOK/PettingZoo_PistonBall/pistonball_mappo.py\u001b[0m in \u001b[0;36mrender_policy\u001b[0;34m(agent, total_episodes, device)\u001b[0m\n\u001b[1;32m    287\u001b[0m     \u001b[0;31m# Save frames as a GIF\u001b[0m\u001b[0;34m\u001b[0m\u001b[0;34m\u001b[0m\u001b[0m\n\u001b[1;32m    288\u001b[0m     \u001b[0moutput_filename\u001b[0m \u001b[0;34m=\u001b[0m \u001b[0;34m\"INF8250AE_MARL_NOTEBOOK/PettingZoo_PistonBall/pistonball.gif\"\u001b[0m\u001b[0;34m\u001b[0m\u001b[0;34m\u001b[0m\u001b[0m\n\u001b[0;32m--> 289\u001b[0;31m     \u001b[0mimageio\u001b[0m\u001b[0;34m.\u001b[0m\u001b[0mmimsave\u001b[0m\u001b[0;34m(\u001b[0m\u001b[0moutput_filename\u001b[0m\u001b[0;34m,\u001b[0m \u001b[0mframes\u001b[0m\u001b[0;34m,\u001b[0m \u001b[0mfps\u001b[0m\u001b[0;34m=\u001b[0m\u001b[0;36m5\u001b[0m\u001b[0;34m)\u001b[0m  \u001b[0;31m# Adjust fps as needed\u001b[0m\u001b[0;34m\u001b[0m\u001b[0;34m\u001b[0m\u001b[0m\n\u001b[0m\u001b[1;32m    290\u001b[0m     \u001b[0mprint\u001b[0m\u001b[0;34m(\u001b[0m\u001b[0;34mf\"Saved GIF to {output_filename}\"\u001b[0m\u001b[0;34m)\u001b[0m\u001b[0;34m\u001b[0m\u001b[0;34m\u001b[0m\u001b[0m\n\u001b[1;32m    291\u001b[0m \u001b[0;34m\u001b[0m\u001b[0m\n",
            "\u001b[0;32m/usr/local/lib/python3.10/dist-packages/imageio/v2.py\u001b[0m in \u001b[0;36mmimwrite\u001b[0;34m(uri, ims, format, **kwargs)\u001b[0m\n\u001b[1;32m    492\u001b[0m     \u001b[0mimopen_args\u001b[0m \u001b[0;34m=\u001b[0m \u001b[0mdecypher_format_arg\u001b[0m\u001b[0;34m(\u001b[0m\u001b[0mformat\u001b[0m\u001b[0;34m)\u001b[0m\u001b[0;34m\u001b[0m\u001b[0;34m\u001b[0m\u001b[0m\n\u001b[1;32m    493\u001b[0m     \u001b[0mimopen_args\u001b[0m\u001b[0;34m[\u001b[0m\u001b[0;34m\"legacy_mode\"\u001b[0m\u001b[0;34m]\u001b[0m \u001b[0;34m=\u001b[0m \u001b[0;32mTrue\u001b[0m\u001b[0;34m\u001b[0m\u001b[0;34m\u001b[0m\u001b[0m\n\u001b[0;32m--> 494\u001b[0;31m     \u001b[0;32mwith\u001b[0m \u001b[0mimopen\u001b[0m\u001b[0;34m(\u001b[0m\u001b[0muri\u001b[0m\u001b[0;34m,\u001b[0m \u001b[0;34m\"wI\"\u001b[0m\u001b[0;34m,\u001b[0m \u001b[0;34m**\u001b[0m\u001b[0mimopen_args\u001b[0m\u001b[0;34m)\u001b[0m \u001b[0;32mas\u001b[0m \u001b[0mfile\u001b[0m\u001b[0;34m:\u001b[0m\u001b[0;34m\u001b[0m\u001b[0;34m\u001b[0m\u001b[0m\n\u001b[0m\u001b[1;32m    495\u001b[0m         \u001b[0;32mreturn\u001b[0m \u001b[0mfile\u001b[0m\u001b[0;34m.\u001b[0m\u001b[0mwrite\u001b[0m\u001b[0;34m(\u001b[0m\u001b[0mims\u001b[0m\u001b[0;34m,\u001b[0m \u001b[0mis_batch\u001b[0m\u001b[0;34m=\u001b[0m\u001b[0;32mTrue\u001b[0m\u001b[0;34m,\u001b[0m \u001b[0;34m**\u001b[0m\u001b[0mkwargs\u001b[0m\u001b[0;34m)\u001b[0m\u001b[0;34m\u001b[0m\u001b[0;34m\u001b[0m\u001b[0m\n\u001b[1;32m    496\u001b[0m \u001b[0;34m\u001b[0m\u001b[0m\n",
            "\u001b[0;32m/usr/local/lib/python3.10/dist-packages/imageio/core/imopen.py\u001b[0m in \u001b[0;36mimopen\u001b[0;34m(uri, io_mode, plugin, extension, format_hint, legacy_mode, **kwargs)\u001b[0m\n\u001b[1;32m    111\u001b[0m         \u001b[0mrequest\u001b[0m\u001b[0;34m.\u001b[0m\u001b[0mformat_hint\u001b[0m \u001b[0;34m=\u001b[0m \u001b[0mformat_hint\u001b[0m\u001b[0;34m\u001b[0m\u001b[0;34m\u001b[0m\u001b[0m\n\u001b[1;32m    112\u001b[0m     \u001b[0;32melse\u001b[0m\u001b[0;34m:\u001b[0m\u001b[0;34m\u001b[0m\u001b[0;34m\u001b[0m\u001b[0m\n\u001b[0;32m--> 113\u001b[0;31m         \u001b[0mrequest\u001b[0m \u001b[0;34m=\u001b[0m \u001b[0mRequest\u001b[0m\u001b[0;34m(\u001b[0m\u001b[0muri\u001b[0m\u001b[0;34m,\u001b[0m \u001b[0mio_mode\u001b[0m\u001b[0;34m,\u001b[0m \u001b[0mformat_hint\u001b[0m\u001b[0;34m=\u001b[0m\u001b[0mformat_hint\u001b[0m\u001b[0;34m,\u001b[0m \u001b[0mextension\u001b[0m\u001b[0;34m=\u001b[0m\u001b[0mextension\u001b[0m\u001b[0;34m)\u001b[0m\u001b[0;34m\u001b[0m\u001b[0;34m\u001b[0m\u001b[0m\n\u001b[0m\u001b[1;32m    114\u001b[0m \u001b[0;34m\u001b[0m\u001b[0m\n\u001b[1;32m    115\u001b[0m     \u001b[0msource\u001b[0m \u001b[0;34m=\u001b[0m \u001b[0;34m\"<bytes>\"\u001b[0m \u001b[0;32mif\u001b[0m \u001b[0misinstance\u001b[0m\u001b[0;34m(\u001b[0m\u001b[0muri\u001b[0m\u001b[0;34m,\u001b[0m \u001b[0mbytes\u001b[0m\u001b[0;34m)\u001b[0m \u001b[0;32melse\u001b[0m \u001b[0muri\u001b[0m\u001b[0;34m\u001b[0m\u001b[0;34m\u001b[0m\u001b[0m\n",
            "\u001b[0;32m/usr/local/lib/python3.10/dist-packages/imageio/core/request.py\u001b[0m in \u001b[0;36m__init__\u001b[0;34m(self, uri, mode, extension, format_hint, **kwargs)\u001b[0m\n\u001b[1;32m    246\u001b[0m \u001b[0;34m\u001b[0m\u001b[0m\n\u001b[1;32m    247\u001b[0m         \u001b[0;31m# Parse what was given\u001b[0m\u001b[0;34m\u001b[0m\u001b[0;34m\u001b[0m\u001b[0m\n\u001b[0;32m--> 248\u001b[0;31m         \u001b[0mself\u001b[0m\u001b[0;34m.\u001b[0m\u001b[0m_parse_uri\u001b[0m\u001b[0;34m(\u001b[0m\u001b[0muri\u001b[0m\u001b[0;34m)\u001b[0m\u001b[0;34m\u001b[0m\u001b[0;34m\u001b[0m\u001b[0m\n\u001b[0m\u001b[1;32m    249\u001b[0m \u001b[0;34m\u001b[0m\u001b[0m\n\u001b[1;32m    250\u001b[0m         \u001b[0;31m# Set extension\u001b[0m\u001b[0;34m\u001b[0m\u001b[0;34m\u001b[0m\u001b[0m\n",
            "\u001b[0;32m/usr/local/lib/python3.10/dist-packages/imageio/core/request.py\u001b[0m in \u001b[0;36m_parse_uri\u001b[0;34m(self, uri)\u001b[0m\n\u001b[1;32m    411\u001b[0m                 \u001b[0mdn\u001b[0m \u001b[0;34m=\u001b[0m \u001b[0mos\u001b[0m\u001b[0;34m.\u001b[0m\u001b[0mpath\u001b[0m\u001b[0;34m.\u001b[0m\u001b[0mdirname\u001b[0m\u001b[0;34m(\u001b[0m\u001b[0mfn\u001b[0m\u001b[0;34m)\u001b[0m\u001b[0;34m\u001b[0m\u001b[0;34m\u001b[0m\u001b[0m\n\u001b[1;32m    412\u001b[0m                 \u001b[0;32mif\u001b[0m \u001b[0;32mnot\u001b[0m \u001b[0mos\u001b[0m\u001b[0;34m.\u001b[0m\u001b[0mpath\u001b[0m\u001b[0;34m.\u001b[0m\u001b[0mexists\u001b[0m\u001b[0;34m(\u001b[0m\u001b[0mdn\u001b[0m\u001b[0;34m)\u001b[0m\u001b[0;34m:\u001b[0m\u001b[0;34m\u001b[0m\u001b[0;34m\u001b[0m\u001b[0m\n\u001b[0;32m--> 413\u001b[0;31m                     \u001b[0;32mraise\u001b[0m \u001b[0mFileNotFoundError\u001b[0m\u001b[0;34m(\u001b[0m\u001b[0;34m\"The directory %r does not exist\"\u001b[0m \u001b[0;34m%\u001b[0m \u001b[0mdn\u001b[0m\u001b[0;34m)\u001b[0m\u001b[0;34m\u001b[0m\u001b[0;34m\u001b[0m\u001b[0m\n\u001b[0m\u001b[1;32m    414\u001b[0m \u001b[0;34m\u001b[0m\u001b[0m\n\u001b[1;32m    415\u001b[0m     \u001b[0;34m@\u001b[0m\u001b[0mproperty\u001b[0m\u001b[0;34m\u001b[0m\u001b[0;34m\u001b[0m\u001b[0m\n",
            "\u001b[0;31mFileNotFoundError\u001b[0m: The directory '/content/PettingZoo_PistonBall' does not exist"
          ]
        }
      ]
    },
    {
      "cell_type": "code",
      "source": [
        "from IPython.display import Image, display\n",
        "# Display the uploaded GIF\n",
        "display(Image(filename=\"/content/INF8250AE_MARL_NOTEBOOK/pistonball.gif\"))"
      ],
      "metadata": {
        "id": "M7gThkAXRwsF"
      },
      "execution_count": null,
      "outputs": []
    }
  ],
  "metadata": {
    "colab": {
      "provenance": [],
      "gpuType": "T4",
      "include_colab_link": true
    },
    "kernelspec": {
      "display_name": "Python 3",
      "name": "python3"
    },
    "widgets": {
      "application/vnd.jupyter.widget-state+json": {
        "a91718ae14864a5fa08879a166154c67": {
          "model_module": "@jupyter-widgets/controls",
          "model_name": "DropdownModel",
          "model_module_version": "1.5.0",
          "state": {
            "_dom_classes": [],
            "_model_module": "@jupyter-widgets/controls",
            "_model_module_version": "1.5.0",
            "_model_name": "DropdownModel",
            "_options_labels": [
              "Robotics",
              "Autonomous Vehicles",
              "Energy Systems",
              "Healthcare"
            ],
            "_view_count": null,
            "_view_module": "@jupyter-widgets/controls",
            "_view_module_version": "1.5.0",
            "_view_name": "DropdownView",
            "description": "Domain:",
            "description_tooltip": null,
            "disabled": false,
            "index": 0,
            "layout": "IPY_MODEL_02e9511cd69f41cb9fa5cf3294181be0",
            "style": "IPY_MODEL_9e4e77f57f99485ea0ef37caf306ff21"
          }
        },
        "02e9511cd69f41cb9fa5cf3294181be0": {
          "model_module": "@jupyter-widgets/base",
          "model_name": "LayoutModel",
          "model_module_version": "1.2.0",
          "state": {
            "_model_module": "@jupyter-widgets/base",
            "_model_module_version": "1.2.0",
            "_model_name": "LayoutModel",
            "_view_count": null,
            "_view_module": "@jupyter-widgets/base",
            "_view_module_version": "1.2.0",
            "_view_name": "LayoutView",
            "align_content": null,
            "align_items": null,
            "align_self": null,
            "border": null,
            "bottom": null,
            "display": null,
            "flex": null,
            "flex_flow": null,
            "grid_area": null,
            "grid_auto_columns": null,
            "grid_auto_flow": null,
            "grid_auto_rows": null,
            "grid_column": null,
            "grid_gap": null,
            "grid_row": null,
            "grid_template_areas": null,
            "grid_template_columns": null,
            "grid_template_rows": null,
            "height": null,
            "justify_content": null,
            "justify_items": null,
            "left": null,
            "margin": null,
            "max_height": null,
            "max_width": null,
            "min_height": null,
            "min_width": null,
            "object_fit": null,
            "object_position": null,
            "order": null,
            "overflow": null,
            "overflow_x": null,
            "overflow_y": null,
            "padding": null,
            "right": null,
            "top": null,
            "visibility": null,
            "width": null
          }
        },
        "9e4e77f57f99485ea0ef37caf306ff21": {
          "model_module": "@jupyter-widgets/controls",
          "model_name": "DescriptionStyleModel",
          "model_module_version": "1.5.0",
          "state": {
            "_model_module": "@jupyter-widgets/controls",
            "_model_module_version": "1.5.0",
            "_model_name": "DescriptionStyleModel",
            "_view_count": null,
            "_view_module": "@jupyter-widgets/base",
            "_view_module_version": "1.2.0",
            "_view_name": "StyleView",
            "description_width": ""
          }
        },
        "acd3055f1c4a41f398aaebb2ac6013b3": {
          "model_module": "@jupyter-widgets/output",
          "model_name": "OutputModel",
          "model_module_version": "1.0.0",
          "state": {
            "_dom_classes": [],
            "_model_module": "@jupyter-widgets/output",
            "_model_module_version": "1.0.0",
            "_model_name": "OutputModel",
            "_view_count": null,
            "_view_module": "@jupyter-widgets/output",
            "_view_module_version": "1.0.0",
            "_view_name": "OutputView",
            "layout": "IPY_MODEL_a28ca2db48914efca5aa3aac1e6543b1",
            "msg_id": "",
            "outputs": []
          }
        },
        "a28ca2db48914efca5aa3aac1e6543b1": {
          "model_module": "@jupyter-widgets/base",
          "model_name": "LayoutModel",
          "model_module_version": "1.2.0",
          "state": {
            "_model_module": "@jupyter-widgets/base",
            "_model_module_version": "1.2.0",
            "_model_name": "LayoutModel",
            "_view_count": null,
            "_view_module": "@jupyter-widgets/base",
            "_view_module_version": "1.2.0",
            "_view_name": "LayoutView",
            "align_content": null,
            "align_items": null,
            "align_self": null,
            "border": null,
            "bottom": null,
            "display": null,
            "flex": null,
            "flex_flow": null,
            "grid_area": null,
            "grid_auto_columns": null,
            "grid_auto_flow": null,
            "grid_auto_rows": null,
            "grid_column": null,
            "grid_gap": null,
            "grid_row": null,
            "grid_template_areas": null,
            "grid_template_columns": null,
            "grid_template_rows": null,
            "height": null,
            "justify_content": null,
            "justify_items": null,
            "left": null,
            "margin": null,
            "max_height": null,
            "max_width": null,
            "min_height": null,
            "min_width": null,
            "object_fit": null,
            "object_position": null,
            "order": null,
            "overflow": null,
            "overflow_x": null,
            "overflow_y": null,
            "padding": null,
            "right": null,
            "top": null,
            "visibility": null,
            "width": null
          }
        },
        "157b3fadc79441589a4085f9b592b987": {
          "model_module": "@jupyter-widgets/controls",
          "model_name": "VBoxModel",
          "model_module_version": "1.5.0",
          "state": {
            "_dom_classes": [
              "widget-interact"
            ],
            "_model_module": "@jupyter-widgets/controls",
            "_model_module_version": "1.5.0",
            "_model_name": "VBoxModel",
            "_view_count": null,
            "_view_module": "@jupyter-widgets/controls",
            "_view_module_version": "1.5.0",
            "_view_name": "VBoxView",
            "box_style": "",
            "children": [
              "IPY_MODEL_ea2deb5884d748eab0a02b6179fdb766",
              "IPY_MODEL_9b775f0b191649ac8df23c4d341165e4"
            ],
            "layout": "IPY_MODEL_ce566ee24e5842e6ae50d2bfaf58bee4"
          }
        },
        "ea2deb5884d748eab0a02b6179fdb766": {
          "model_module": "@jupyter-widgets/controls",
          "model_name": "IntSliderModel",
          "model_module_version": "1.5.0",
          "state": {
            "_dom_classes": [],
            "_model_module": "@jupyter-widgets/controls",
            "_model_module_version": "1.5.0",
            "_model_name": "IntSliderModel",
            "_view_count": null,
            "_view_module": "@jupyter-widgets/controls",
            "_view_module_version": "1.5.0",
            "_view_name": "IntSliderView",
            "continuous_update": true,
            "description": "Number of Agents:",
            "description_tooltip": null,
            "disabled": false,
            "layout": "IPY_MODEL_a9cb91bdbb7341b995a32d2003f8ac25",
            "max": 4,
            "min": 2,
            "orientation": "horizontal",
            "readout": true,
            "readout_format": "d",
            "step": 1,
            "style": "IPY_MODEL_10b6efc0a1a449409d7c3bd2797fcb06",
            "value": 2
          }
        },
        "9b775f0b191649ac8df23c4d341165e4": {
          "model_module": "@jupyter-widgets/output",
          "model_name": "OutputModel",
          "model_module_version": "1.0.0",
          "state": {
            "_dom_classes": [],
            "_model_module": "@jupyter-widgets/output",
            "_model_module_version": "1.0.0",
            "_model_name": "OutputModel",
            "_view_count": null,
            "_view_module": "@jupyter-widgets/output",
            "_view_module_version": "1.0.0",
            "_view_name": "OutputView",
            "layout": "IPY_MODEL_3769ca5cee344d4baaa39b49282b1d35",
            "msg_id": "",
            "outputs": [
              {
                "output_type": "stream",
                "name": "stdout",
                "text": [
                  "Single-Agent Environment (State Space Size: 5, Action Space Size: 4)\n",
                  "Multi-Agent Environment (2 Agents) - Joint State Space Size: 25, Joint Action Space Size: 16\n"
                ]
              },
              {
                "output_type": "display_data",
                "data": {
                  "text/plain": "<Figure size 1500x600 with 2 Axes>",
                  "image/png": "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\n"
                },
                "metadata": {}
              }
            ]
          }
        },
        "ce566ee24e5842e6ae50d2bfaf58bee4": {
          "model_module": "@jupyter-widgets/base",
          "model_name": "LayoutModel",
          "model_module_version": "1.2.0",
          "state": {
            "_model_module": "@jupyter-widgets/base",
            "_model_module_version": "1.2.0",
            "_model_name": "LayoutModel",
            "_view_count": null,
            "_view_module": "@jupyter-widgets/base",
            "_view_module_version": "1.2.0",
            "_view_name": "LayoutView",
            "align_content": null,
            "align_items": null,
            "align_self": null,
            "border": null,
            "bottom": null,
            "display": null,
            "flex": null,
            "flex_flow": null,
            "grid_area": null,
            "grid_auto_columns": null,
            "grid_auto_flow": null,
            "grid_auto_rows": null,
            "grid_column": null,
            "grid_gap": null,
            "grid_row": null,
            "grid_template_areas": null,
            "grid_template_columns": null,
            "grid_template_rows": null,
            "height": null,
            "justify_content": null,
            "justify_items": null,
            "left": null,
            "margin": null,
            "max_height": null,
            "max_width": null,
            "min_height": null,
            "min_width": null,
            "object_fit": null,
            "object_position": null,
            "order": null,
            "overflow": null,
            "overflow_x": null,
            "overflow_y": null,
            "padding": null,
            "right": null,
            "top": null,
            "visibility": null,
            "width": null
          }
        },
        "a9cb91bdbb7341b995a32d2003f8ac25": {
          "model_module": "@jupyter-widgets/base",
          "model_name": "LayoutModel",
          "model_module_version": "1.2.0",
          "state": {
            "_model_module": "@jupyter-widgets/base",
            "_model_module_version": "1.2.0",
            "_model_name": "LayoutModel",
            "_view_count": null,
            "_view_module": "@jupyter-widgets/base",
            "_view_module_version": "1.2.0",
            "_view_name": "LayoutView",
            "align_content": null,
            "align_items": null,
            "align_self": null,
            "border": null,
            "bottom": null,
            "display": null,
            "flex": null,
            "flex_flow": null,
            "grid_area": null,
            "grid_auto_columns": null,
            "grid_auto_flow": null,
            "grid_auto_rows": null,
            "grid_column": null,
            "grid_gap": null,
            "grid_row": null,
            "grid_template_areas": null,
            "grid_template_columns": null,
            "grid_template_rows": null,
            "height": null,
            "justify_content": null,
            "justify_items": null,
            "left": null,
            "margin": null,
            "max_height": null,
            "max_width": null,
            "min_height": null,
            "min_width": null,
            "object_fit": null,
            "object_position": null,
            "order": null,
            "overflow": null,
            "overflow_x": null,
            "overflow_y": null,
            "padding": null,
            "right": null,
            "top": null,
            "visibility": null,
            "width": null
          }
        },
        "10b6efc0a1a449409d7c3bd2797fcb06": {
          "model_module": "@jupyter-widgets/controls",
          "model_name": "SliderStyleModel",
          "model_module_version": "1.5.0",
          "state": {
            "_model_module": "@jupyter-widgets/controls",
            "_model_module_version": "1.5.0",
            "_model_name": "SliderStyleModel",
            "_view_count": null,
            "_view_module": "@jupyter-widgets/base",
            "_view_module_version": "1.2.0",
            "_view_name": "StyleView",
            "description_width": "initial",
            "handle_color": null
          }
        },
        "3769ca5cee344d4baaa39b49282b1d35": {
          "model_module": "@jupyter-widgets/base",
          "model_name": "LayoutModel",
          "model_module_version": "1.2.0",
          "state": {
            "_model_module": "@jupyter-widgets/base",
            "_model_module_version": "1.2.0",
            "_model_name": "LayoutModel",
            "_view_count": null,
            "_view_module": "@jupyter-widgets/base",
            "_view_module_version": "1.2.0",
            "_view_name": "LayoutView",
            "align_content": null,
            "align_items": null,
            "align_self": null,
            "border": null,
            "bottom": null,
            "display": null,
            "flex": null,
            "flex_flow": null,
            "grid_area": null,
            "grid_auto_columns": null,
            "grid_auto_flow": null,
            "grid_auto_rows": null,
            "grid_column": null,
            "grid_gap": null,
            "grid_row": null,
            "grid_template_areas": null,
            "grid_template_columns": null,
            "grid_template_rows": null,
            "height": null,
            "justify_content": null,
            "justify_items": null,
            "left": null,
            "margin": null,
            "max_height": null,
            "max_width": null,
            "min_height": null,
            "min_width": null,
            "object_fit": null,
            "object_position": null,
            "order": null,
            "overflow": null,
            "overflow_x": null,
            "overflow_y": null,
            "padding": null,
            "right": null,
            "top": null,
            "visibility": null,
            "width": null
          }
        },
        "0c9dc9f5a02445eb80b361a249868407": {
          "model_module": "@jupyter-widgets/controls",
          "model_name": "VBoxModel",
          "model_module_version": "1.5.0",
          "state": {
            "_dom_classes": [
              "widget-interact"
            ],
            "_model_module": "@jupyter-widgets/controls",
            "_model_module_version": "1.5.0",
            "_model_name": "VBoxModel",
            "_view_count": null,
            "_view_module": "@jupyter-widgets/controls",
            "_view_module_version": "1.5.0",
            "_view_name": "VBoxView",
            "box_style": "",
            "children": [
              "IPY_MODEL_93235f33085448af8dc1a7e7a35c8d41",
              "IPY_MODEL_8eb4f458f94442ad90ca75e4c508dd80"
            ],
            "layout": "IPY_MODEL_11f9ca6a0bb54e3fb17aa66af316e43d"
          }
        },
        "93235f33085448af8dc1a7e7a35c8d41": {
          "model_module": "@jupyter-widgets/controls",
          "model_name": "DropdownModel",
          "model_module_version": "1.5.0",
          "state": {
            "_dom_classes": [],
            "_model_module": "@jupyter-widgets/controls",
            "_model_module_version": "1.5.0",
            "_model_name": "DropdownModel",
            "_options_labels": [
              "Competitive",
              "Cooperative",
              "Mixed"
            ],
            "_view_count": null,
            "_view_module": "@jupyter-widgets/controls",
            "_view_module_version": "1.5.0",
            "_view_name": "DropdownView",
            "description": "marl_type",
            "description_tooltip": null,
            "disabled": false,
            "index": 0,
            "layout": "IPY_MODEL_ef62a29eca7541a7913358018902cc59",
            "style": "IPY_MODEL_c879f9dd8ebd4d249b66e2741eba23b0"
          }
        },
        "8eb4f458f94442ad90ca75e4c508dd80": {
          "model_module": "@jupyter-widgets/output",
          "model_name": "OutputModel",
          "model_module_version": "1.0.0",
          "state": {
            "_dom_classes": [],
            "_model_module": "@jupyter-widgets/output",
            "_model_module_version": "1.0.0",
            "_model_name": "OutputModel",
            "_view_count": null,
            "_view_module": "@jupyter-widgets/output",
            "_view_module_version": "1.0.0",
            "_view_name": "OutputView",
            "layout": "IPY_MODEL_9d5ded8a455d44e39a260459ba994cb0",
            "msg_id": "",
            "outputs": [
              {
                "output_type": "display_data",
                "data": {
                  "text/plain": "<IPython.core.display.Markdown object>",
                  "text/markdown": "\n            Competitive MARL\n            - Payoff Matrix: A zero-sum game where the total payoff across all players is zero.\n            - Key Characteristic: One player's gain is another player's loss.\n            - Example: Two-player games like chess, where players are directly competing.\n            "
                },
                "metadata": {}
              },
              {
                "output_type": "display_data",
                "data": {
                  "text/plain": "<Figure size 600x400 with 2 Axes>",
                  "image/png": "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\n"
                },
                "metadata": {}
              }
            ]
          }
        },
        "11f9ca6a0bb54e3fb17aa66af316e43d": {
          "model_module": "@jupyter-widgets/base",
          "model_name": "LayoutModel",
          "model_module_version": "1.2.0",
          "state": {
            "_model_module": "@jupyter-widgets/base",
            "_model_module_version": "1.2.0",
            "_model_name": "LayoutModel",
            "_view_count": null,
            "_view_module": "@jupyter-widgets/base",
            "_view_module_version": "1.2.0",
            "_view_name": "LayoutView",
            "align_content": null,
            "align_items": null,
            "align_self": null,
            "border": null,
            "bottom": null,
            "display": null,
            "flex": null,
            "flex_flow": null,
            "grid_area": null,
            "grid_auto_columns": null,
            "grid_auto_flow": null,
            "grid_auto_rows": null,
            "grid_column": null,
            "grid_gap": null,
            "grid_row": null,
            "grid_template_areas": null,
            "grid_template_columns": null,
            "grid_template_rows": null,
            "height": null,
            "justify_content": null,
            "justify_items": null,
            "left": null,
            "margin": null,
            "max_height": null,
            "max_width": null,
            "min_height": null,
            "min_width": null,
            "object_fit": null,
            "object_position": null,
            "order": null,
            "overflow": null,
            "overflow_x": null,
            "overflow_y": null,
            "padding": null,
            "right": null,
            "top": null,
            "visibility": null,
            "width": null
          }
        },
        "ef62a29eca7541a7913358018902cc59": {
          "model_module": "@jupyter-widgets/base",
          "model_name": "LayoutModel",
          "model_module_version": "1.2.0",
          "state": {
            "_model_module": "@jupyter-widgets/base",
            "_model_module_version": "1.2.0",
            "_model_name": "LayoutModel",
            "_view_count": null,
            "_view_module": "@jupyter-widgets/base",
            "_view_module_version": "1.2.0",
            "_view_name": "LayoutView",
            "align_content": null,
            "align_items": null,
            "align_self": null,
            "border": null,
            "bottom": null,
            "display": null,
            "flex": null,
            "flex_flow": null,
            "grid_area": null,
            "grid_auto_columns": null,
            "grid_auto_flow": null,
            "grid_auto_rows": null,
            "grid_column": null,
            "grid_gap": null,
            "grid_row": null,
            "grid_template_areas": null,
            "grid_template_columns": null,
            "grid_template_rows": null,
            "height": null,
            "justify_content": null,
            "justify_items": null,
            "left": null,
            "margin": null,
            "max_height": null,
            "max_width": null,
            "min_height": null,
            "min_width": null,
            "object_fit": null,
            "object_position": null,
            "order": null,
            "overflow": null,
            "overflow_x": null,
            "overflow_y": null,
            "padding": null,
            "right": null,
            "top": null,
            "visibility": null,
            "width": null
          }
        },
        "c879f9dd8ebd4d249b66e2741eba23b0": {
          "model_module": "@jupyter-widgets/controls",
          "model_name": "DescriptionStyleModel",
          "model_module_version": "1.5.0",
          "state": {
            "_model_module": "@jupyter-widgets/controls",
            "_model_module_version": "1.5.0",
            "_model_name": "DescriptionStyleModel",
            "_view_count": null,
            "_view_module": "@jupyter-widgets/base",
            "_view_module_version": "1.2.0",
            "_view_name": "StyleView",
            "description_width": ""
          }
        },
        "9d5ded8a455d44e39a260459ba994cb0": {
          "model_module": "@jupyter-widgets/base",
          "model_name": "LayoutModel",
          "model_module_version": "1.2.0",
          "state": {
            "_model_module": "@jupyter-widgets/base",
            "_model_module_version": "1.2.0",
            "_model_name": "LayoutModel",
            "_view_count": null,
            "_view_module": "@jupyter-widgets/base",
            "_view_module_version": "1.2.0",
            "_view_name": "LayoutView",
            "align_content": null,
            "align_items": null,
            "align_self": null,
            "border": null,
            "bottom": null,
            "display": null,
            "flex": null,
            "flex_flow": null,
            "grid_area": null,
            "grid_auto_columns": null,
            "grid_auto_flow": null,
            "grid_auto_rows": null,
            "grid_column": null,
            "grid_gap": null,
            "grid_row": null,
            "grid_template_areas": null,
            "grid_template_columns": null,
            "grid_template_rows": null,
            "height": null,
            "justify_content": null,
            "justify_items": null,
            "left": null,
            "margin": null,
            "max_height": null,
            "max_width": null,
            "min_height": null,
            "min_width": null,
            "object_fit": null,
            "object_position": null,
            "order": null,
            "overflow": null,
            "overflow_x": null,
            "overflow_y": null,
            "padding": null,
            "right": null,
            "top": null,
            "visibility": null,
            "width": null
          }
        },
        "512770e4816d41998b84043f6d0098a1": {
          "model_module": "@jupyter-widgets/controls",
          "model_name": "VBoxModel",
          "model_module_version": "1.5.0",
          "state": {
            "_dom_classes": [
              "widget-interact"
            ],
            "_model_module": "@jupyter-widgets/controls",
            "_model_module_version": "1.5.0",
            "_model_name": "VBoxModel",
            "_view_count": null,
            "_view_module": "@jupyter-widgets/controls",
            "_view_module_version": "1.5.0",
            "_view_name": "VBoxView",
            "box_style": "",
            "children": [
              "IPY_MODEL_23ded27c0f21406c85c78019d2be4be0",
              "IPY_MODEL_9eb324967e9b4da3b43cc338468032d1",
              "IPY_MODEL_79e0107ef10f42cbb72fc68e9442d617"
            ],
            "layout": "IPY_MODEL_134785d0b5374ed69c4064f895ef2f29"
          }
        },
        "23ded27c0f21406c85c78019d2be4be0": {
          "model_module": "@jupyter-widgets/controls",
          "model_name": "IntSliderModel",
          "model_module_version": "1.5.0",
          "state": {
            "_dom_classes": [],
            "_model_module": "@jupyter-widgets/controls",
            "_model_module_version": "1.5.0",
            "_model_name": "IntSliderModel",
            "_view_count": null,
            "_view_module": "@jupyter-widgets/controls",
            "_view_module_version": "1.5.0",
            "_view_name": "IntSliderView",
            "continuous_update": true,
            "description": "N_agents",
            "description_tooltip": null,
            "disabled": false,
            "layout": "IPY_MODEL_54144e24d7594c4094b8858a122db9b8",
            "max": 10,
            "min": 2,
            "orientation": "horizontal",
            "readout": true,
            "readout_format": "d",
            "step": 1,
            "style": "IPY_MODEL_90dedaa8d7c94a15a51f82cfab90b823",
            "value": 2
          }
        },
        "9eb324967e9b4da3b43cc338468032d1": {
          "model_module": "@jupyter-widgets/controls",
          "model_name": "IntSliderModel",
          "model_module_version": "1.5.0",
          "state": {
            "_dom_classes": [],
            "_model_module": "@jupyter-widgets/controls",
            "_model_module_version": "1.5.0",
            "_model_name": "IntSliderModel",
            "_view_count": null,
            "_view_module": "@jupyter-widgets/controls",
            "_view_module_version": "1.5.0",
            "_view_name": "IntSliderView",
            "continuous_update": true,
            "description": "steps",
            "description_tooltip": null,
            "disabled": false,
            "layout": "IPY_MODEL_6ba89839b68941a7875fd647d532403c",
            "max": 500,
            "min": 100,
            "orientation": "horizontal",
            "readout": true,
            "readout_format": "d",
            "step": 10,
            "style": "IPY_MODEL_0f54dfcb3025409da8d4ebd0ade3e40e",
            "value": 100
          }
        },
        "79e0107ef10f42cbb72fc68e9442d617": {
          "model_module": "@jupyter-widgets/output",
          "model_name": "OutputModel",
          "model_module_version": "1.0.0",
          "state": {
            "_dom_classes": [],
            "_model_module": "@jupyter-widgets/output",
            "_model_module_version": "1.0.0",
            "_model_name": "OutputModel",
            "_view_count": null,
            "_view_module": "@jupyter-widgets/output",
            "_view_module_version": "1.0.0",
            "_view_name": "OutputView",
            "layout": "IPY_MODEL_78437239e06748b7931ff442b9ea965a",
            "msg_id": "",
            "outputs": [
              {
                "output_type": "display_data",
                "data": {
                  "text/plain": "<Figure size 1000x600 with 1 Axes>",
                  "image/png": "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\n"
                },
                "metadata": {}
              },
              {
                "output_type": "display_data",
                "data": {
                  "text/plain": "<IPython.core.display.Markdown object>",
                  "text/markdown": "### **Single-Agent Animation**"
                },
                "metadata": {}
              },
              {
                "output_type": "display_data",
                "data": {
                  "image/gif": "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\n",
                  "text/plain": "<IPython.core.display.Image object>"
                },
                "metadata": {}
              },
              {
                "output_type": "display_data",
                "data": {
                  "text/plain": "<IPython.core.display.Markdown object>",
                  "text/markdown": "### **Multi-Agent Animation (N=2)**"
                },
                "metadata": {}
              },
              {
                "output_type": "display_data",
                "data": {
                  "image/gif": "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\n",
                  "text/plain": "<IPython.core.display.Image object>"
                },
                "metadata": {}
              }
            ]
          }
        },
        "134785d0b5374ed69c4064f895ef2f29": {
          "model_module": "@jupyter-widgets/base",
          "model_name": "LayoutModel",
          "model_module_version": "1.2.0",
          "state": {
            "_model_module": "@jupyter-widgets/base",
            "_model_module_version": "1.2.0",
            "_model_name": "LayoutModel",
            "_view_count": null,
            "_view_module": "@jupyter-widgets/base",
            "_view_module_version": "1.2.0",
            "_view_name": "LayoutView",
            "align_content": null,
            "align_items": null,
            "align_self": null,
            "border": null,
            "bottom": null,
            "display": null,
            "flex": null,
            "flex_flow": null,
            "grid_area": null,
            "grid_auto_columns": null,
            "grid_auto_flow": null,
            "grid_auto_rows": null,
            "grid_column": null,
            "grid_gap": null,
            "grid_row": null,
            "grid_template_areas": null,
            "grid_template_columns": null,
            "grid_template_rows": null,
            "height": null,
            "justify_content": null,
            "justify_items": null,
            "left": null,
            "margin": null,
            "max_height": null,
            "max_width": null,
            "min_height": null,
            "min_width": null,
            "object_fit": null,
            "object_position": null,
            "order": null,
            "overflow": null,
            "overflow_x": null,
            "overflow_y": null,
            "padding": null,
            "right": null,
            "top": null,
            "visibility": null,
            "width": null
          }
        },
        "54144e24d7594c4094b8858a122db9b8": {
          "model_module": "@jupyter-widgets/base",
          "model_name": "LayoutModel",
          "model_module_version": "1.2.0",
          "state": {
            "_model_module": "@jupyter-widgets/base",
            "_model_module_version": "1.2.0",
            "_model_name": "LayoutModel",
            "_view_count": null,
            "_view_module": "@jupyter-widgets/base",
            "_view_module_version": "1.2.0",
            "_view_name": "LayoutView",
            "align_content": null,
            "align_items": null,
            "align_self": null,
            "border": null,
            "bottom": null,
            "display": null,
            "flex": null,
            "flex_flow": null,
            "grid_area": null,
            "grid_auto_columns": null,
            "grid_auto_flow": null,
            "grid_auto_rows": null,
            "grid_column": null,
            "grid_gap": null,
            "grid_row": null,
            "grid_template_areas": null,
            "grid_template_columns": null,
            "grid_template_rows": null,
            "height": null,
            "justify_content": null,
            "justify_items": null,
            "left": null,
            "margin": null,
            "max_height": null,
            "max_width": null,
            "min_height": null,
            "min_width": null,
            "object_fit": null,
            "object_position": null,
            "order": null,
            "overflow": null,
            "overflow_x": null,
            "overflow_y": null,
            "padding": null,
            "right": null,
            "top": null,
            "visibility": null,
            "width": null
          }
        },
        "90dedaa8d7c94a15a51f82cfab90b823": {
          "model_module": "@jupyter-widgets/controls",
          "model_name": "SliderStyleModel",
          "model_module_version": "1.5.0",
          "state": {
            "_model_module": "@jupyter-widgets/controls",
            "_model_module_version": "1.5.0",
            "_model_name": "SliderStyleModel",
            "_view_count": null,
            "_view_module": "@jupyter-widgets/base",
            "_view_module_version": "1.2.0",
            "_view_name": "StyleView",
            "description_width": "",
            "handle_color": null
          }
        },
        "6ba89839b68941a7875fd647d532403c": {
          "model_module": "@jupyter-widgets/base",
          "model_name": "LayoutModel",
          "model_module_version": "1.2.0",
          "state": {
            "_model_module": "@jupyter-widgets/base",
            "_model_module_version": "1.2.0",
            "_model_name": "LayoutModel",
            "_view_count": null,
            "_view_module": "@jupyter-widgets/base",
            "_view_module_version": "1.2.0",
            "_view_name": "LayoutView",
            "align_content": null,
            "align_items": null,
            "align_self": null,
            "border": null,
            "bottom": null,
            "display": null,
            "flex": null,
            "flex_flow": null,
            "grid_area": null,
            "grid_auto_columns": null,
            "grid_auto_flow": null,
            "grid_auto_rows": null,
            "grid_column": null,
            "grid_gap": null,
            "grid_row": null,
            "grid_template_areas": null,
            "grid_template_columns": null,
            "grid_template_rows": null,
            "height": null,
            "justify_content": null,
            "justify_items": null,
            "left": null,
            "margin": null,
            "max_height": null,
            "max_width": null,
            "min_height": null,
            "min_width": null,
            "object_fit": null,
            "object_position": null,
            "order": null,
            "overflow": null,
            "overflow_x": null,
            "overflow_y": null,
            "padding": null,
            "right": null,
            "top": null,
            "visibility": null,
            "width": null
          }
        },
        "0f54dfcb3025409da8d4ebd0ade3e40e": {
          "model_module": "@jupyter-widgets/controls",
          "model_name": "SliderStyleModel",
          "model_module_version": "1.5.0",
          "state": {
            "_model_module": "@jupyter-widgets/controls",
            "_model_module_version": "1.5.0",
            "_model_name": "SliderStyleModel",
            "_view_count": null,
            "_view_module": "@jupyter-widgets/base",
            "_view_module_version": "1.2.0",
            "_view_name": "StyleView",
            "description_width": "",
            "handle_color": null
          }
        },
        "78437239e06748b7931ff442b9ea965a": {
          "model_module": "@jupyter-widgets/base",
          "model_name": "LayoutModel",
          "model_module_version": "1.2.0",
          "state": {
            "_model_module": "@jupyter-widgets/base",
            "_model_module_version": "1.2.0",
            "_model_name": "LayoutModel",
            "_view_count": null,
            "_view_module": "@jupyter-widgets/base",
            "_view_module_version": "1.2.0",
            "_view_name": "LayoutView",
            "align_content": null,
            "align_items": null,
            "align_self": null,
            "border": null,
            "bottom": null,
            "display": null,
            "flex": null,
            "flex_flow": null,
            "grid_area": null,
            "grid_auto_columns": null,
            "grid_auto_flow": null,
            "grid_auto_rows": null,
            "grid_column": null,
            "grid_gap": null,
            "grid_row": null,
            "grid_template_areas": null,
            "grid_template_columns": null,
            "grid_template_rows": null,
            "height": null,
            "justify_content": null,
            "justify_items": null,
            "left": null,
            "margin": null,
            "max_height": null,
            "max_width": null,
            "min_height": null,
            "min_width": null,
            "object_fit": null,
            "object_position": null,
            "order": null,
            "overflow": null,
            "overflow_x": null,
            "overflow_y": null,
            "padding": null,
            "right": null,
            "top": null,
            "visibility": null,
            "width": null
          }
        }
      }
    },
    "accelerator": "GPU"
  },
  "nbformat": 4,
  "nbformat_minor": 0
}