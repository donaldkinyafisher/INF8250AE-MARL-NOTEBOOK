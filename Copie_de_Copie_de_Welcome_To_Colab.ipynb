{
  "cells": [
    {
      "cell_type": "markdown",
      "metadata": {
        "id": "view-in-github",
        "colab_type": "text"
      },
      "source": [
        "<a href=\"https://colab.research.google.com/github/donaldkinyafisher/INF8250AE-MARL-NOTEBOOK/blob/main/Copie_de_Copie_de_Welcome_To_Colab.ipynb\" target=\"_parent\"><img src=\"https://colab.research.google.com/assets/colab-badge.svg\" alt=\"Open In Colab\"/></a>"
      ]
    },
    {
      "cell_type": "markdown",
      "source": [
        "# Setup, Install and  Import"
      ],
      "metadata": {
        "id": "uJUi-Mh-ItLp"
      }
    },
    {
      "cell_type": "code",
      "source": [
        "!rm -rf INF8250AE-MARL-NOTEBOOK\n",
        "!git clone https://github.com/donaldkinyafisher/INF8250AE-MARL-NOTEBOOK.git"
      ],
      "metadata": {
        "colab": {
          "base_uri": "https://localhost:8080/"
        },
        "outputId": "f6f59de3-2843-41d9-941b-3af45e9a69ed",
        "id": "XTspNhr9SY4q"
      },
      "execution_count": null,
      "outputs": [
        {
          "output_type": "stream",
          "name": "stdout",
          "text": [
            "Cloning into 'INF8250AE-MARL-NOTEBOOK'...\n",
            "remote: Enumerating objects: 49, done.\u001b[K\n",
            "remote: Counting objects: 100% (49/49), done.\u001b[K\n",
            "remote: Compressing objects: 100% (47/47), done.\u001b[K\n",
            "remote: Total 49 (delta 20), reused 0 (delta 0), pack-reused 0 (from 0)\u001b[K\n",
            "Receiving objects: 100% (49/49), 1.37 MiB | 8.35 MiB/s, done.\n",
            "Resolving deltas: 100% (20/20), done.\n"
          ]
        }
      ]
    },
    {
      "cell_type": "code",
      "source": [
        "# @title Setup Install and Import\n",
        "\n",
        "#Install dependences\n",
        "!pip install -r INF8250AE-MARL-NOTEBOOK/requirements.txt\n",
        "!pip install pettingzoo\n",
        "\n",
        "import numpy as np\n",
        "import matplotlib.pyplot as plt\n",
        "from matplotlib.patches import Circle, Rectangle, Arrow, ConnectionPatch\n",
        "import seaborn as sns\n",
        "from IPython.display import HTML, display, Markdown, Math, Image\n",
        "import ipywidgets as widgets\n",
        "from ipywidgets import interact, interactive, fixed, interact_manual\n",
        "import plotly.graph_objects as go\n",
        "import plotly.express as px\n",
        "import numpy as np\n",
        "import matplotlib.pyplot as plt\n",
        "from pettingzoo.mpe import simple_spread_v3\n",
        "from PIL import Image as PILImage\n",
        "import os\n",
        "import torch"
      ],
      "metadata": {
        "id": "qjWfywJ0JRQa",
        "colab": {
          "base_uri": "https://localhost:8080/"
        },
        "outputId": "6bd6f3c8-2793-4a27-947e-cedfeb7bb1bd"
      },
      "execution_count": null,
      "outputs": [
        {
          "output_type": "stream",
          "name": "stdout",
          "text": [
            "Collecting PettingZoo>=1.24.0 (from PettingZoo[butterfly,classic]>=1.24.0->-r INF8250AE-MARL-NOTEBOOK/requirements.txt (line 1))\n",
            "  Downloading pettingzoo-1.24.3-py3-none-any.whl.metadata (8.5 kB)\n",
            "Requirement already satisfied: Pillow>=9.4.0 in /usr/local/lib/python3.10/dist-packages (from -r INF8250AE-MARL-NOTEBOOK/requirements.txt (line 2)) (11.0.0)\n",
            "Collecting ray==2.7.0 (from ray[rllib]==2.7.0->-r INF8250AE-MARL-NOTEBOOK/requirements.txt (line 3))\n",
            "  Downloading ray-2.7.0-cp310-cp310-manylinux2014_x86_64.whl.metadata (13 kB)\n",
            "Collecting SuperSuit>=3.9.0 (from -r INF8250AE-MARL-NOTEBOOK/requirements.txt (line 4))\n",
            "  Downloading SuperSuit-3.9.3-py3-none-any.whl.metadata (3.2 kB)\n",
            "Requirement already satisfied: torch>=1.13.1 in /usr/local/lib/python3.10/dist-packages (from -r INF8250AE-MARL-NOTEBOOK/requirements.txt (line 5)) (2.5.1+cu121)\n",
            "Requirement already satisfied: tensorflow-probability>=0.19.0 in /usr/local/lib/python3.10/dist-packages (from -r INF8250AE-MARL-NOTEBOOK/requirements.txt (line 6)) (0.24.0)\n",
            "Collecting gymnasium (from -r INF8250AE-MARL-NOTEBOOK/requirements.txt (line 7))\n",
            "  Downloading gymnasium-1.0.0-py3-none-any.whl.metadata (9.5 kB)\n",
            "Requirement already satisfied: matplotlib in /usr/local/lib/python3.10/dist-packages (from -r INF8250AE-MARL-NOTEBOOK/requirements.txt (line 8)) (3.8.0)\n",
            "Requirement already satisfied: numpy in /usr/local/lib/python3.10/dist-packages (from -r INF8250AE-MARL-NOTEBOOK/requirements.txt (line 9)) (1.26.4)\n",
            "Collecting stable-baselines3 (from -r INF8250AE-MARL-NOTEBOOK/requirements.txt (line 10))\n",
            "  Downloading stable_baselines3-2.4.0-py3-none-any.whl.metadata (4.5 kB)\n",
            "Collecting shimmy>=2.0 (from -r INF8250AE-MARL-NOTEBOOK/requirements.txt (line 11))\n",
            "  Downloading Shimmy-2.0.0-py3-none-any.whl.metadata (3.5 kB)\n",
            "Requirement already satisfied: click>=7.0 in /usr/local/lib/python3.10/dist-packages (from ray==2.7.0->ray[rllib]==2.7.0->-r INF8250AE-MARL-NOTEBOOK/requirements.txt (line 3)) (8.1.7)\n",
            "Requirement already satisfied: filelock in /usr/local/lib/python3.10/dist-packages (from ray==2.7.0->ray[rllib]==2.7.0->-r INF8250AE-MARL-NOTEBOOK/requirements.txt (line 3)) (3.16.1)\n",
            "Requirement already satisfied: jsonschema in /usr/local/lib/python3.10/dist-packages (from ray==2.7.0->ray[rllib]==2.7.0->-r INF8250AE-MARL-NOTEBOOK/requirements.txt (line 3)) (4.23.0)\n",
            "Requirement already satisfied: msgpack<2.0.0,>=1.0.0 in /usr/local/lib/python3.10/dist-packages (from ray==2.7.0->ray[rllib]==2.7.0->-r INF8250AE-MARL-NOTEBOOK/requirements.txt (line 3)) (1.1.0)\n",
            "Requirement already satisfied: packaging in /usr/local/lib/python3.10/dist-packages (from ray==2.7.0->ray[rllib]==2.7.0->-r INF8250AE-MARL-NOTEBOOK/requirements.txt (line 3)) (24.2)\n",
            "Requirement already satisfied: protobuf!=3.19.5,>=3.15.3 in /usr/local/lib/python3.10/dist-packages (from ray==2.7.0->ray[rllib]==2.7.0->-r INF8250AE-MARL-NOTEBOOK/requirements.txt (line 3)) (4.25.5)\n",
            "Requirement already satisfied: pyyaml in /usr/local/lib/python3.10/dist-packages (from ray==2.7.0->ray[rllib]==2.7.0->-r INF8250AE-MARL-NOTEBOOK/requirements.txt (line 3)) (6.0.2)\n",
            "Requirement already satisfied: aiosignal in /usr/local/lib/python3.10/dist-packages (from ray==2.7.0->ray[rllib]==2.7.0->-r INF8250AE-MARL-NOTEBOOK/requirements.txt (line 3)) (1.3.2)\n",
            "Requirement already satisfied: frozenlist in /usr/local/lib/python3.10/dist-packages (from ray==2.7.0->ray[rllib]==2.7.0->-r INF8250AE-MARL-NOTEBOOK/requirements.txt (line 3)) (1.5.0)\n",
            "Requirement already satisfied: requests in /usr/local/lib/python3.10/dist-packages (from ray==2.7.0->ray[rllib]==2.7.0->-r INF8250AE-MARL-NOTEBOOK/requirements.txt (line 3)) (2.32.3)\n",
            "Requirement already satisfied: pandas in /usr/local/lib/python3.10/dist-packages (from ray[rllib]==2.7.0->-r INF8250AE-MARL-NOTEBOOK/requirements.txt (line 3)) (2.2.2)\n",
            "Collecting tensorboardX>=1.9 (from ray[rllib]==2.7.0->-r INF8250AE-MARL-NOTEBOOK/requirements.txt (line 3))\n",
            "  Downloading tensorboardX-2.6.2.2-py2.py3-none-any.whl.metadata (5.8 kB)\n",
            "Requirement already satisfied: pyarrow>=6.0.1 in /usr/local/lib/python3.10/dist-packages (from ray[rllib]==2.7.0->-r INF8250AE-MARL-NOTEBOOK/requirements.txt (line 3)) (17.0.0)\n",
            "Requirement already satisfied: fsspec in /usr/local/lib/python3.10/dist-packages (from ray[rllib]==2.7.0->-r INF8250AE-MARL-NOTEBOOK/requirements.txt (line 3)) (2024.10.0)\n",
            "Requirement already satisfied: dm-tree in /usr/local/lib/python3.10/dist-packages (from ray[rllib]==2.7.0->-r INF8250AE-MARL-NOTEBOOK/requirements.txt (line 3)) (0.1.8)\n",
            "Collecting gymnasium (from -r INF8250AE-MARL-NOTEBOOK/requirements.txt (line 7))\n",
            "  Downloading gymnasium-0.28.1-py3-none-any.whl.metadata (9.2 kB)\n",
            "Collecting lz4 (from ray[rllib]==2.7.0->-r INF8250AE-MARL-NOTEBOOK/requirements.txt (line 3))\n",
            "  Downloading lz4-4.3.3-cp310-cp310-manylinux_2_17_x86_64.manylinux2014_x86_64.whl.metadata (3.7 kB)\n",
            "Requirement already satisfied: scikit-image in /usr/local/lib/python3.10/dist-packages (from ray[rllib]==2.7.0->-r INF8250AE-MARL-NOTEBOOK/requirements.txt (line 3)) (0.25.0)\n",
            "Requirement already satisfied: scipy in /usr/local/lib/python3.10/dist-packages (from ray[rllib]==2.7.0->-r INF8250AE-MARL-NOTEBOOK/requirements.txt (line 3)) (1.13.1)\n",
            "Requirement already satisfied: typer in /usr/local/lib/python3.10/dist-packages (from ray[rllib]==2.7.0->-r INF8250AE-MARL-NOTEBOOK/requirements.txt (line 3)) (0.15.1)\n",
            "Requirement already satisfied: rich in /usr/local/lib/python3.10/dist-packages (from ray[rllib]==2.7.0->-r INF8250AE-MARL-NOTEBOOK/requirements.txt (line 3)) (13.9.4)\n",
            "Collecting jax-jumpy>=1.0.0 (from gymnasium->-r INF8250AE-MARL-NOTEBOOK/requirements.txt (line 7))\n",
            "  Downloading jax_jumpy-1.0.0-py3-none-any.whl.metadata (15 kB)\n",
            "Requirement already satisfied: cloudpickle>=1.2.0 in /usr/local/lib/python3.10/dist-packages (from gymnasium->-r INF8250AE-MARL-NOTEBOOK/requirements.txt (line 7)) (3.1.0)\n",
            "Requirement already satisfied: typing-extensions>=4.3.0 in /usr/local/lib/python3.10/dist-packages (from gymnasium->-r INF8250AE-MARL-NOTEBOOK/requirements.txt (line 7)) (4.12.2)\n",
            "Collecting farama-notifications>=0.0.1 (from gymnasium->-r INF8250AE-MARL-NOTEBOOK/requirements.txt (line 7))\n",
            "  Downloading Farama_Notifications-0.0.4-py3-none-any.whl.metadata (558 bytes)\n",
            "Collecting tinyscaler>=1.2.6 (from SuperSuit>=3.9.0->-r INF8250AE-MARL-NOTEBOOK/requirements.txt (line 4))\n",
            "  Downloading tinyscaler-1.2.8-cp310-cp310-manylinux_2_17_x86_64.manylinux2014_x86_64.whl.metadata (4.2 kB)\n",
            "Requirement already satisfied: networkx in /usr/local/lib/python3.10/dist-packages (from torch>=1.13.1->-r INF8250AE-MARL-NOTEBOOK/requirements.txt (line 5)) (3.4.2)\n",
            "Requirement already satisfied: jinja2 in /usr/local/lib/python3.10/dist-packages (from torch>=1.13.1->-r INF8250AE-MARL-NOTEBOOK/requirements.txt (line 5)) (3.1.4)\n",
            "Requirement already satisfied: sympy==1.13.1 in /usr/local/lib/python3.10/dist-packages (from torch>=1.13.1->-r INF8250AE-MARL-NOTEBOOK/requirements.txt (line 5)) (1.13.1)\n",
            "Requirement already satisfied: mpmath<1.4,>=1.1.0 in /usr/local/lib/python3.10/dist-packages (from sympy==1.13.1->torch>=1.13.1->-r INF8250AE-MARL-NOTEBOOK/requirements.txt (line 5)) (1.3.0)\n",
            "Requirement already satisfied: absl-py in /usr/local/lib/python3.10/dist-packages (from tensorflow-probability>=0.19.0->-r INF8250AE-MARL-NOTEBOOK/requirements.txt (line 6)) (1.4.0)\n",
            "Requirement already satisfied: six>=1.10.0 in /usr/local/lib/python3.10/dist-packages (from tensorflow-probability>=0.19.0->-r INF8250AE-MARL-NOTEBOOK/requirements.txt (line 6)) (1.17.0)\n",
            "Requirement already satisfied: decorator in /usr/local/lib/python3.10/dist-packages (from tensorflow-probability>=0.19.0->-r INF8250AE-MARL-NOTEBOOK/requirements.txt (line 6)) (4.4.2)\n",
            "Requirement already satisfied: gast>=0.3.2 in /usr/local/lib/python3.10/dist-packages (from tensorflow-probability>=0.19.0->-r INF8250AE-MARL-NOTEBOOK/requirements.txt (line 6)) (0.6.0)\n",
            "Requirement already satisfied: contourpy>=1.0.1 in /usr/local/lib/python3.10/dist-packages (from matplotlib->-r INF8250AE-MARL-NOTEBOOK/requirements.txt (line 8)) (1.3.1)\n",
            "Requirement already satisfied: cycler>=0.10 in /usr/local/lib/python3.10/dist-packages (from matplotlib->-r INF8250AE-MARL-NOTEBOOK/requirements.txt (line 8)) (0.12.1)\n",
            "Requirement already satisfied: fonttools>=4.22.0 in /usr/local/lib/python3.10/dist-packages (from matplotlib->-r INF8250AE-MARL-NOTEBOOK/requirements.txt (line 8)) (4.55.3)\n",
            "Requirement already satisfied: kiwisolver>=1.0.1 in /usr/local/lib/python3.10/dist-packages (from matplotlib->-r INF8250AE-MARL-NOTEBOOK/requirements.txt (line 8)) (1.4.7)\n",
            "Requirement already satisfied: pyparsing>=2.3.1 in /usr/local/lib/python3.10/dist-packages (from matplotlib->-r INF8250AE-MARL-NOTEBOOK/requirements.txt (line 8)) (3.2.0)\n",
            "Requirement already satisfied: python-dateutil>=2.7 in /usr/local/lib/python3.10/dist-packages (from matplotlib->-r INF8250AE-MARL-NOTEBOOK/requirements.txt (line 8)) (2.8.2)\n",
            "INFO: pip is looking at multiple versions of stable-baselines3 to determine which version is compatible with other requirements. This could take a while.\n",
            "Collecting stable-baselines3 (from -r INF8250AE-MARL-NOTEBOOK/requirements.txt (line 10))\n",
            "  Downloading stable_baselines3-2.3.2-py3-none-any.whl.metadata (5.1 kB)\n",
            "INFO: pip is looking at multiple versions of shimmy to determine which version is compatible with other requirements. This could take a while.\n",
            "  Downloading stable_baselines3-2.2.1-py3-none-any.whl.metadata (5.0 kB)\n",
            "  Downloading stable_baselines3-2.1.0-py3-none-any.whl.metadata (5.2 kB)\n",
            "  Downloading stable_baselines3-2.0.0-py3-none-any.whl.metadata (5.4 kB)\n",
            "  Downloading stable_baselines3-1.8.0-py3-none-any.whl.metadata (5.0 kB)\n",
            "Collecting gym==0.21 (from stable-baselines3->-r INF8250AE-MARL-NOTEBOOK/requirements.txt (line 10))\n",
            "  Downloading gym-0.21.0.tar.gz (1.5 MB)\n",
            "\u001b[2K     \u001b[90m━━━━━━━━━━━━━━━━━━━━━━━━━━━━━━━━━━━━━━━━\u001b[0m \u001b[32m1.5/1.5 MB\u001b[0m \u001b[31m22.9 MB/s\u001b[0m eta \u001b[36m0:00:00\u001b[0m\n",
            "\u001b[?25h  \u001b[1;31merror\u001b[0m: \u001b[1msubprocess-exited-with-error\u001b[0m\n",
            "  \n",
            "  \u001b[31m×\u001b[0m \u001b[32mpython setup.py egg_info\u001b[0m did not run successfully.\n",
            "  \u001b[31m│\u001b[0m exit code: \u001b[1;36m1\u001b[0m\n",
            "  \u001b[31m╰─>\u001b[0m See above for output.\n",
            "  \n",
            "  \u001b[1;35mnote\u001b[0m: This error originates from a subprocess, and is likely not a problem with pip.\n",
            "  Preparing metadata (setup.py) ... \u001b[?25l\u001b[?25herror\n",
            "\u001b[1;31merror\u001b[0m: \u001b[1mmetadata-generation-failed\u001b[0m\n",
            "\n",
            "\u001b[31m×\u001b[0m Encountered error while generating package metadata.\n",
            "\u001b[31m╰─>\u001b[0m See above for output.\n",
            "\n",
            "\u001b[1;35mnote\u001b[0m: This is an issue with the package mentioned above, not pip.\n",
            "\u001b[1;36mhint\u001b[0m: See above for details.\n",
            "Collecting pettingzoo\n",
            "  Using cached pettingzoo-1.24.3-py3-none-any.whl.metadata (8.5 kB)\n",
            "Requirement already satisfied: numpy>=1.21.0 in /usr/local/lib/python3.10/dist-packages (from pettingzoo) (1.26.4)\n",
            "Collecting gymnasium>=0.28.0 (from pettingzoo)\n",
            "  Using cached gymnasium-1.0.0-py3-none-any.whl.metadata (9.5 kB)\n",
            "Requirement already satisfied: cloudpickle>=1.2.0 in /usr/local/lib/python3.10/dist-packages (from gymnasium>=0.28.0->pettingzoo) (3.1.0)\n",
            "Requirement already satisfied: typing-extensions>=4.3.0 in /usr/local/lib/python3.10/dist-packages (from gymnasium>=0.28.0->pettingzoo) (4.12.2)\n",
            "Collecting farama-notifications>=0.0.1 (from gymnasium>=0.28.0->pettingzoo)\n",
            "  Using cached Farama_Notifications-0.0.4-py3-none-any.whl.metadata (558 bytes)\n",
            "Downloading pettingzoo-1.24.3-py3-none-any.whl (847 kB)\n",
            "\u001b[2K   \u001b[90m━━━━━━━━━━━━━━━━━━━━━━━━━━━━━━━━━━━━━━━━\u001b[0m \u001b[32m847.8/847.8 kB\u001b[0m \u001b[31m22.1 MB/s\u001b[0m eta \u001b[36m0:00:00\u001b[0m\n",
            "\u001b[?25hDownloading gymnasium-1.0.0-py3-none-any.whl (958 kB)\n",
            "\u001b[2K   \u001b[90m━━━━━━━━━━━━━━━━━━━━━━━━━━━━━━━━━━━━━━━━\u001b[0m \u001b[32m958.1/958.1 kB\u001b[0m \u001b[31m30.4 MB/s\u001b[0m eta \u001b[36m0:00:00\u001b[0m\n",
            "\u001b[?25hDownloading Farama_Notifications-0.0.4-py3-none-any.whl (2.5 kB)\n",
            "Installing collected packages: farama-notifications, gymnasium, pettingzoo\n",
            "Successfully installed farama-notifications-0.0.4 gymnasium-1.0.0 pettingzoo-1.24.3\n"
          ]
        }
      ]
    },
    {
      "cell_type": "markdown",
      "source": [
        "# 1. Introduction"
      ],
      "metadata": {
        "id": "4QBMH274HOQi"
      }
    },
    {
      "cell_type": "code",
      "source": [
        "# @title\n",
        "intro_text = \"\"\"\n",
        "<style>\n",
        "    /* Title Styling */\n",
        "      .intro-title {\n",
        "        font-size: 30px;\n",
        "        font-weight: bold;\n",
        "        color: #FF6347;\n",
        "        text-align: center;\n",
        "        text-shadow: 2px 2px 4px rgba(0, 0, 0, 0.3);\n",
        "        animation: fadeIn 2s ease-in-out;\n",
        "    }\n",
        "\n",
        "    /* Text Block Styling */\n",
        "    .intro-text {\n",
        "        font-size: 18px;\n",
        "        line-height: 1.8;\n",
        "        color: #555;\n",
        "        max-width: 800px;\n",
        "        margin: 20px auto;\n",
        "        padding: 25px;\n",
        "        border-radius: 8px;\n",
        "        background: #F5F5F5;\n",
        "        box-shadow: 0 6px 12px rgba(0, 0, 0, 0.1);\n",
        "        transition: transform 0.3s ease, background 0.3s ease;\n",
        "    }\n",
        "\n",
        "    /* Hover effect for the text block */\n",
        "    .intro-text:hover {\n",
        "        transform: scale(1.03);\n",
        "        background: #E0E0E0;\n",
        "        box-shadow: 0 8px 16px rgba(0, 0, 0, 0.15);\n",
        "    }\n",
        "\n",
        "    /* Fade-in effect for title */\n",
        "    @keyframes fadeIn {\n",
        "        from { opacity: 0; }\n",
        "        to { opacity: 1; }\n",
        "    }\n",
        "</style>\n",
        "\n",
        "<h2 class=\"intro-title\">Exploring the Evolution from Single-Agent to Multi-Agent RL</h2>\n",
        "\n",
        "<div class=\"intro-text\">\n",
        "    <p>In this tutorial, we explore the transition from single-agent reinforcement learning (RL) to multi-agent reinforcement learning (MARL). This progression is used for tackling real-world problems where multiple agents must interact, cooperate, or compete in dynamic environments. The challenges introduced by these multi-agent setups, such as coordination, scalability, and non-stationarity require novel approaches to exisiting algorithms. By the end of this tutorial, you will understand the foundational concepts of MARL and how single-agent RL strategies can be extended to multi-agent domains.</p>\n",
        "</div>\n",
        "\"\"\"\n",
        "\n",
        "display(HTML(intro_text))\n"
      ],
      "metadata": {
        "colab": {
          "base_uri": "https://localhost:8080/",
          "height": 408
        },
        "cellView": "form",
        "id": "CARAJFEyTC73",
        "outputId": "f1531e81-009d-438f-861b-77aabfe4e339"
      },
      "execution_count": null,
      "outputs": [
        {
          "output_type": "display_data",
          "data": {
            "text/plain": [
              "<IPython.core.display.HTML object>"
            ],
            "text/html": [
              "\n",
              "<style>\n",
              "    /* Title Styling */\n",
              "      .intro-title {\n",
              "        font-size: 30px;\n",
              "        font-weight: bold;\n",
              "        color: #FF6347;\n",
              "        text-align: center;\n",
              "        text-shadow: 2px 2px 4px rgba(0, 0, 0, 0.3);\n",
              "        animation: fadeIn 2s ease-in-out;\n",
              "    }\n",
              "\n",
              "    /* Text Block Styling */\n",
              "    .intro-text {\n",
              "        font-size: 18px;\n",
              "        line-height: 1.8;\n",
              "        color: #555;\n",
              "        max-width: 800px;\n",
              "        margin: 20px auto;\n",
              "        padding: 25px;\n",
              "        border-radius: 8px;\n",
              "        background: #F5F5F5;\n",
              "        box-shadow: 0 6px 12px rgba(0, 0, 0, 0.1);\n",
              "        transition: transform 0.3s ease, background 0.3s ease;\n",
              "    }\n",
              "\n",
              "    /* Hover effect for the text block */\n",
              "    .intro-text:hover {\n",
              "        transform: scale(1.03);\n",
              "        background: #E0E0E0;\n",
              "        box-shadow: 0 8px 16px rgba(0, 0, 0, 0.15);\n",
              "    }\n",
              "\n",
              "    /* Fade-in effect for title */\n",
              "    @keyframes fadeIn {\n",
              "        from { opacity: 0; }\n",
              "        to { opacity: 1; }\n",
              "    }\n",
              "</style>\n",
              "\n",
              "<h2 class=\"intro-title\">Exploring the Evolution from Single-Agent to Multi-Agent RL</h2>\n",
              "\n",
              "<div class=\"intro-text\">\n",
              "    <p>In this tutorial, we explore the transition from single-agent reinforcement learning (RL) to multi-agent reinforcement learning (MARL). This progression is used for tackling real-world problems where multiple agents must interact, cooperate, or compete in dynamic environments. The challenges introduced by these multi-agent setups, such as coordination, scalability, and non-stationarity require novel approaches to exisiting algorithms. By the end of this tutorial, you will understand the foundational concepts of MARL and how single-agent RL strategies can be extended to multi-agent domains.</p>\n",
              "</div>\n"
            ]
          },
          "metadata": {}
        }
      ]
    },
    {
      "cell_type": "markdown",
      "source": [
        "\n",
        "\n",
        "\n",
        "## Why Extend Single-Agent RL to Multi-Agent RL?\n",
        "\n"
      ],
      "metadata": {
        "id": "tfHAUjMgbORQ"
      }
    },
    {
      "cell_type": "markdown",
      "source": [
        "- **Realistic Modeling**: MARL is more aligned with real-world environments, where multiple agents interact and make decisions based on the actions of others.\n",
        "- **Coordination and Competition**: MARL enables agents to either cooperate (coordination) or compete with each other, which mirrors many real-world scenarios where both dynamics exist.\n",
        "- **Scalability**: MARL systems can scale to handle larger, more complex problems than SARL alone.\n",
        "- **Adaptability**: MARL enables agents to learn and adapt in real-time, responding to changes in their environment or among other agents.\n",
        "- **Real-World Impact**: MARL offer a practical approach to modelling in industries such as robotics, autonomous vehicles, energy systems, and healthcare.\n",
        "\n",
        "Presented below are some real-world examples where MARL is used."
      ],
      "metadata": {
        "id": "qYD8dBhHgc_m"
      }
    },
    {
      "cell_type": "markdown",
      "source": [
        "### Examples"
      ],
      "metadata": {
        "id": "EwRFC2sWD_SF"
      }
    },
    {
      "cell_type": "code",
      "source": [
        "# @title Example\n",
        "import ipywidgets as widgets\n",
        "from IPython.display import display, HTML, Image\n",
        "\n",
        "domains = {\n",
        "    \"Robotics\": {\n",
        "        \"description\": (\n",
        "            \"In collaborative robotics, MARL enables multiple robots to coordinate and \"\n",
        "            \"perform tasks such as exploration, disaster response, or assembly. \"\n",
        "            \"For instance, a team of drones can distribute responsibilities for mapping or delivering supplies \"\n",
        "            \"in disaster-affected areas, dynamically adapting to environmental changes.\"\n",
        "        ),\n",
        "        \"applications\": [\n",
        "            \"- Search and rescue operations\",\n",
        "            \"- Warehouse management\",\n",
        "            \"- Agricultural monitoring\",\n",
        "            \"- Construction automation\",\n",
        "        ],\n",
        "        \"image\": \"https://dp9eps5gd5xd0.cloudfront.net/image-handler/ts/20230831083549/ri/850/src/images/news/ImageForNews_14271_169348534600376.jpg\",\n",
        "        \"references\": [\n",
        "            \"[1] Brown, et al. (2023). 'Swarm Intelligence through Multi-Agent Learning.' Robotics and Autonomous Systems.\",\n",
        "            \"[2] Smith, et al. (2022). 'Cooperative Multi-Robot Task Allocation.' Science Robotics.\"\n",
        "        ]\n",
        "    },\n",
        "    \"Autonomous Vehicles\": {\n",
        "        \"description\": (\n",
        "            \"In autonomous driving, MARL enables multiple vehicles to learn cooperative behaviors \"\n",
        "            \"such as merging lanes, optimizing traffic flow, or preventing collisions. \"\n",
        "            \"For example, cars at a busy intersection can learn to prioritize movements without centralized traffic control.\"\n",
        "        ),\n",
        "        \"applications\": [\n",
        "            \"- Intersection management\",\n",
        "            \"- Lane merging coordination\",\n",
        "            \"- Platoon formation\",\n",
        "            \"- Collision avoidance\"\n",
        "        ],\n",
        "        \"image\": \"https://i.giphy.com/media/v1.Y2lkPTc5MGI3NjExdm9keGxsZjRkd2VpOGN4eG1sZzNuaTN2N3N6cWRyZThxdjJveWdmYiZlcD12MV9pbnRlcm5hbF9naWZfYnlfaWQmY3Q9Zw/H7rpSYHRyYgamxQNqw/giphy.gif\",\n",
        "        \"references\": [\n",
        "            \"[1] Wang, et al. (2023). 'Multi-Agent Reinforcement Learning for Connected Autonomous Vehicles.' IEEE Trans. Intelligent Transportation Systems.\",\n",
        "            \"[2] Chen, et al. (2022). 'Cooperative Multi-Agent Systems for Automated Driving.' Nature Machine Intelligence.\"\n",
        "        ]\n",
        "    },\n",
        "    \"Energy Systems\": {\n",
        "        \"description\": (\n",
        "            \"MARL optimizes decentralized energy systems by coordinating power allocation between \"\n",
        "            \"producers and consumers. For instance, agents representing wind turbines and energy storage units \"\n",
        "            \"can learn to balance supply and demand dynamically, minimizing wastage.\"\n",
        "        ),\n",
        "        \"applications\": [\n",
        "            \"- Demand-response management\",\n",
        "            \"- Distributed energy resource coordination\",\n",
        "            \"- Grid stability maintenance\",\n",
        "            \"- Real-time pricing optimization\"\n",
        "        ],\n",
        "        \"image\": \"https://miro.medium.com/v2/resize:fit:1400/format:webp/0*2GlP-gE7hptc1PeC.gif\",\n",
        "        \"references\": [\n",
        "            \"[1] Zhang, et al. (2023). 'Multi-Agent Deep Reinforcement Learning for Smart Grid Control.' Energy and Buildings.\",\n",
        "            \"[2] Liu, et al. (2022). 'Distributed Energy Management using Multi-Agent Systems.' Applied Energy.\"\n",
        "        ]\n",
        "    },\n",
        "    \"Healthcare\": {\n",
        "        \"description\": (\n",
        "            \"In healthcare, MARL helps allocate resources like ICU beds or optimize medical equipment usage. \"\n",
        "            \"For example, agents can learn to manage patient schedules and equipment dynamically, ensuring that \"\n",
        "            \"emergent needs are prioritized efficiently.\"\n",
        "        ),\n",
        "        \"applications\": [\n",
        "            \"- ICU bed allocation\",\n",
        "            \"- Medical equipment scheduling\",\n",
        "            \"- Emergency resource management\"\n",
        "        ],\n",
        "        \"image\": \"https://standexelectronics.com/wp-content/uploads/HospitalBedSensor.gif\",\n",
        "        \"references\": [\n",
        "            \"[1] Zhao, et al. (2023). 'Multi-Agent Reinforcement Learning for Healthcare Resource Management.' Journal of Medical Systems.\"\n",
        "        ]\n",
        "    }\n",
        "}\n",
        "\n",
        "dropdown = widgets.Dropdown(\n",
        "    options=domains.keys(),\n",
        "    description=\"Domain:\",\n",
        "    value=\"Robotics\"\n",
        ")\n",
        "\n",
        "output = widgets.Output()\n",
        "\n",
        "def update_content(change):\n",
        "    with output:\n",
        "        output.clear_output()\n",
        "        domain = change[\"new\"]\n",
        "        info = domains[domain]\n",
        "\n",
        "        display(HTML(f\"\"\"\n",
        "            <style>\n",
        "                h4 {{ font-size: 22px; font-weight: bold; color: #2E4053; }}\n",
        "                p, li {{ font-size: 16px; line-height: 1.5; color: #4F4F4F; }}\n",
        "                ul {{ margin-left: 20px; }}\n",
        "                button {{\n",
        "                    background-color: #4CAF50;\n",
        "                    color: white;\n",
        "                    padding: 10px;\n",
        "                    border: none;\n",
        "                    cursor: pointer;\n",
        "                }}\n",
        "                button:hover {{ background-color: #45a049; }}\n",
        "            </style>\n",
        "        \"\"\"))\n",
        "\n",
        "        display(HTML(f\"<h4>{domain}</h4><p>{info['description']}</p>\"))\n",
        "        display(HTML(\"<ul>\" + \"\".join([f\"<li>{app}</li>\" for app in info[\"applications\"]]) + \"</ul>\"))\n",
        "        display(Image(url=info[\"image\"], width=400, height=300))\n",
        "\n",
        "        display(HTML(f'<button onclick=\"this.nextElementSibling.style.display=\\'block\\'\">Show References</button><div style=\"display:none;\">'\n",
        "                     + \"<ul>\" + \"\".join([f\"<li>{ref}</li>\" for ref in info[\"references\"]]) + \"</ul></div>\"))\n",
        "\n",
        "dropdown.observe(update_content, names=\"value\")\n",
        "\n",
        "display(dropdown, output)\n"
      ],
      "metadata": {
        "colab": {
          "base_uri": "https://localhost:8080/",
          "height": 49,
          "referenced_widgets": [
            "c0356060cfd54213bcf6496b40cfd118",
            "0a07d00ef348498b945f9704b641a0b8",
            "58dd19b113464218b761031b76bc27a2",
            "3be9bdd389194573868e70d37005f127",
            "bdf619aa982b4ef7a43e4669bc070ab2"
          ]
        },
        "id": "2RqoryhrHl0C",
        "outputId": "6e535e4a-6d63-471f-e40a-8cc8d2114081",
        "cellView": "form"
      },
      "execution_count": null,
      "outputs": [
        {
          "output_type": "display_data",
          "data": {
            "text/plain": [
              "Dropdown(description='Domain:', options=('Robotics', 'Autonomous Vehicles', 'Energy Systems', 'Healthcare'), v…"
            ],
            "application/vnd.jupyter.widget-view+json": {
              "version_major": 2,
              "version_minor": 0,
              "model_id": "c0356060cfd54213bcf6496b40cfd118"
            }
          },
          "metadata": {}
        },
        {
          "output_type": "display_data",
          "data": {
            "text/plain": [
              "Output()"
            ],
            "application/vnd.jupyter.widget-view+json": {
              "version_major": 2,
              "version_minor": 0,
              "model_id": "3be9bdd389194573868e70d37005f127"
            }
          },
          "metadata": {}
        }
      ]
    },
    {
      "cell_type": "code",
      "source": [
        "# @title\n",
        "# Displaying the GIF from the URL\n",
        "gif_url = \"https://upload.wikimedia.org/wikipedia/commons/3/37/Multi_give_way_%284_agents%2C_each_trying_to_reach_a_specific_point%29.gif\"\n",
        "Image(url=gif_url)"
      ],
      "metadata": {
        "colab": {
          "base_uri": "https://localhost:8080/",
          "height": 471
        },
        "id": "StGDJ_AnvllQ",
        "outputId": "488f7709-bc42-4199-81bc-0c775809ced5",
        "cellView": "form"
      },
      "execution_count": null,
      "outputs": [
        {
          "output_type": "execute_result",
          "data": {
            "text/html": [
              "<img src=\"https://upload.wikimedia.org/wikipedia/commons/3/37/Multi_give_way_%284_agents%2C_each_trying_to_reach_a_specific_point%29.gif\"/>"
            ],
            "text/plain": [
              "<IPython.core.display.Image object>"
            ]
          },
          "metadata": {},
          "execution_count": 5
        }
      ]
    },
    {
      "cell_type": "markdown",
      "source": [
        "\n",
        "\n",
        "---\n",
        "\n",
        "\n",
        "#From Single-Agent to Multi-Agent: Understanding the Fundamental Shift\n",
        "\n",
        "\n",
        "---\n",
        "\n",
        "\n"
      ],
      "metadata": {
        "id": "DB40jyt08LvZ"
      }
    },
    {
      "cell_type": "markdown",
      "source": [
        "## **Mathematical Foundations: From MDPs to Markov Games**"
      ],
      "metadata": {
        "id": "lv7oLy2s9V9E"
      }
    },
    {
      "cell_type": "markdown",
      "source": [
        "Multi-agent systems model dynamic and nondeterministic environments that solve complex problems. In these situations we are dealing with agents that not only have to learn an optimal behavior or policy, but also have to adapt to new situations, where we assume a changing environment due to the actions of the other agents in the joint state-space.\n",
        "\n",
        "Subsequently, we must move away from MDPs and instead use a Markov Game as the framework for modelling multiple agents. The key difference in Markov Games are each agent has its own Action Space,  and the agents share a Joint State Space, where the actions of one agent affect all other agents."
      ],
      "metadata": {
        "id": "Bj3NP8Hc9eHt"
      }
    },
    {
      "cell_type": "code",
      "source": [
        "# @title SARL vs MARL\n",
        "from IPython.display import HTML, display\n",
        "\n",
        "def display_mathematical_comparison():\n",
        "    mdp_html = \"\"\"\n",
        "    <div style=\"background-color: #f0f0f0; padding: 20px; border-radius: 10px; margin: 10px; width: 48%; box-sizing: border-box; font-size: 18px; transition: transform 0.3s ease;\">\n",
        "        <h3 style=\"font-size: 22px;\">Markov Decision Process (MDP)</h3>\n",
        "        <p>MDP = <span id=\"mdp_eq1\">\\( (S, A, P, R, \\gamma) \\)</span></p>\n",
        "        <ul>\n",
        "            <li><span id=\"mdp_eq2\">\\( S \\): State space</span></li>\n",
        "            <li><span id=\"mdp_eq3\">\\( A \\): Action space</span></li>\n",
        "            <li><span id=\"mdp_eq4\">\\( P: (S, A, S) \\, \\&rarr; \\, [0,1] \\)</span></li>\n",
        "            <li><span id=\"mdp_eq5\">\\( R: (S, A, S) \\, \\&rarr; \\, \\mathbb{R} \\)</span></li>\n",
        "            <li><span id=\"mdp_eq6\">\\( \\gamma \\in [0,1] \\): Discount factor</span></li>\n",
        "        </ul>\n",
        "    </div>\n",
        "    \"\"\"\n",
        "\n",
        "    markov_game_html = \"\"\"\n",
        "    <div style=\"background-color: #e6f3ff; padding: 20px; border-radius: 10px; margin: 10px; width: 48%; box-sizing: border-box; font-size: 18px; transition: transform 0.3s ease;\">\n",
        "        <h3 style=\"font-size: 22px;\">Markov Game</h3>\n",
        "        <p>MG = <span id=\"mg_eq1\">\\( (N, S, \\{A_i\\}_{i=1}^N, P, \\{R_i\\}_{i=1}^N, \\gamma) \\)</span></p>\n",
        "        <ul>\n",
        "            <li><span id=\"mg_eq2\">\\( N \\): Number of agents</span></li>\n",
        "            <li><span id=\"mg_eq3\">\\( S \\): Joint state space</span></li>\n",
        "            <li><span id=\"mg_eq4\">\\( A_i \\): Action space for agent \\( i \\)</span></li>\n",
        "            <li><span id=\"mg_eq5\">\\( P: (S, A_1, \\dots, A_N, S) \\, \\&rarr; \\, [0,1] \\)</span></li>\n",
        "            <li><span id=\"mg_eq6\">\\( R_i: (S, A_1, \\dots, A_N, S) \\, \\&rarr; \\, \\mathbb{R} \\)</span></li>\n",
        "            <li><span id=\"mg_eq7\">\\( \\gamma \\in [0,1] \\): Discount factor</span></li>\n",
        "        </ul>\n",
        "    </div>\n",
        "    \"\"\"\n",
        "\n",
        "    # Add MathJax script to render the math formulas\n",
        "    display(HTML(f\"\"\"\n",
        "    <script type=\"text/javascript\" async\n",
        "      src=\"https://cdnjs.cloudflare.com/ajax/libs/mathjax/2.7.7/MathJax.js?config=TeX-MML-AM_CHTML\">\n",
        "    </script>\n",
        "    <div style=\"display: flex; justify-content: space-between; gap: 20px; flex-wrap: wrap; padding: 20px;\">\n",
        "        {mdp_html}\n",
        "        {markov_game_html}\n",
        "    </div>\n",
        "    <style>\n",
        "        div:hover {{\n",
        "            transform: scale(1.01);\n",
        "            box-shadow: 0 0 15px rgba(0, 0, 0, 0.2);\n",
        "        }}\n",
        "    </style>\n",
        "    \"\"\"))\n",
        "\n",
        "display_mathematical_comparison()\n"
      ],
      "metadata": {
        "colab": {
          "base_uri": "https://localhost:8080/",
          "height": 647
        },
        "cellView": "form",
        "id": "g0mGyHZ-9TLe",
        "outputId": "a564c6fa-f6fa-4117-e4b1-dd50dae8d105"
      },
      "execution_count": null,
      "outputs": [
        {
          "output_type": "display_data",
          "data": {
            "text/plain": [
              "<IPython.core.display.HTML object>"
            ],
            "text/html": [
              "\n",
              "    <script type=\"text/javascript\" async\n",
              "      src=\"https://cdnjs.cloudflare.com/ajax/libs/mathjax/2.7.7/MathJax.js?config=TeX-MML-AM_CHTML\">\n",
              "    </script>\n",
              "    <div style=\"display: flex; justify-content: space-between; gap: 20px; flex-wrap: wrap; padding: 20px;\">\n",
              "        \n",
              "    <div style=\"background-color: #f0f0f0; padding: 20px; border-radius: 10px; margin: 10px; width: 48%; box-sizing: border-box; font-size: 18px; transition: transform 0.3s ease;\">\n",
              "        <h3 style=\"font-size: 22px;\">Markov Decision Process (MDP)</h3>\n",
              "        <p>MDP = <span id=\"mdp_eq1\">\\( (S, A, P, R, \\gamma) \\)</span></p>\n",
              "        <ul>\n",
              "            <li><span id=\"mdp_eq2\">\\( S \\): State space</span></li>\n",
              "            <li><span id=\"mdp_eq3\">\\( A \\): Action space</span></li>\n",
              "            <li><span id=\"mdp_eq4\">\\( P: (S, A, S) \\, \\&rarr; \\, [0,1] \\)</span></li>\n",
              "            <li><span id=\"mdp_eq5\">\\( R: (S, A, S) \\, \\&rarr; \\, \\mathbb{R} \\)</span></li>\n",
              "            <li><span id=\"mdp_eq6\">\\( \\gamma \\in [0,1] \\): Discount factor</span></li>\n",
              "        </ul>\n",
              "    </div>\n",
              "    \n",
              "        \n",
              "    <div style=\"background-color: #e6f3ff; padding: 20px; border-radius: 10px; margin: 10px; width: 48%; box-sizing: border-box; font-size: 18px; transition: transform 0.3s ease;\">\n",
              "        <h3 style=\"font-size: 22px;\">Markov Game</h3>\n",
              "        <p>MG = <span id=\"mg_eq1\">\\( (N, S, \\{A_i\\}_{i=1}^N, P, \\{R_i\\}_{i=1}^N, \\gamma) \\)</span></p>\n",
              "        <ul>\n",
              "            <li><span id=\"mg_eq2\">\\( N \\): Number of agents</span></li>\n",
              "            <li><span id=\"mg_eq3\">\\( S \\): Joint state space</span></li>\n",
              "            <li><span id=\"mg_eq4\">\\( A_i \\): Action space for agent \\( i \\)</span></li>\n",
              "            <li><span id=\"mg_eq5\">\\( P: (S, A_1, \\dots, A_N, S) \\, \\&rarr; \\, [0,1] \\)</span></li>\n",
              "            <li><span id=\"mg_eq6\">\\( R_i: (S, A_1, \\dots, A_N, S) \\, \\&rarr; \\, \\mathbb{R} \\)</span></li>\n",
              "            <li><span id=\"mg_eq7\">\\( \\gamma \\in [0,1] \\): Discount factor</span></li>\n",
              "        </ul>\n",
              "    </div>\n",
              "    \n",
              "    </div>\n",
              "    <style>\n",
              "        div:hover {\n",
              "            transform: scale(1.01);\n",
              "            box-shadow: 0 0 15px rgba(0, 0, 0, 0.2);\n",
              "        }\n",
              "    </style>\n",
              "    "
            ]
          },
          "metadata": {}
        }
      ]
    },
    {
      "cell_type": "code",
      "source": [
        "# @title Illustration\n",
        "import matplotlib.pyplot as plt\n",
        "import numpy as np\n",
        "from ipywidgets import interact, widgets\n",
        "\n",
        "def create_environment_comparison(n_agents=2):\n",
        "    fig, (ax1, ax2) = plt.subplots(1, 2, figsize=(15, 6))\n",
        "\n",
        "    ax1.set_title('Single-Agent Environment')\n",
        "    circle = plt.Circle((0.5, 0.5), 0.3, color='b', alpha=0.3)\n",
        "    ax1.add_artist(circle)\n",
        "    ax1.plot(0.5, 0.5, 'b.', markersize=15, label='Agent')\n",
        "    ax1.set_xlim(0, 1)\n",
        "    ax1.set_ylim(0, 1)\n",
        "    ax1.legend()\n",
        "\n",
        "    ax2.set_title('Multi-Agent Environment')\n",
        "    colors = ['b', 'r', 'g', 'm']\n",
        "    markers = ['.', 's', '^', 'o']\n",
        "    for i in range(n_agents):\n",
        "        circle = plt.Circle((0.3 + i*0.2, 0.5), 0.15, color=colors[i], alpha=0.3)\n",
        "        ax2.add_artist(circle)\n",
        "        ax2.plot(0.3 + i*0.2, 0.5, color=colors[i], marker=markers[i],\n",
        "                 markersize=15, label=f'Agent {i+1}')\n",
        "    ax2.set_xlim(0, 1)\n",
        "    ax2.set_ylim(0, 1)\n",
        "    ax2.legend()\n",
        "\n",
        "    plt.tight_layout()\n",
        "    return fig\n",
        "\n",
        "def show_environment_comparison(n_agents):\n",
        "    \"\"\"\n",
        "    Displays the comparison between a single-agent and multi-agent environment.\n",
        "\n",
        "    Args:\n",
        "        n_agents (int): The number of agents in the multi-agent environment.\n",
        "\n",
        "    The function prints the sizes of the state space and action space for both environments\n",
        "    and creates an interactive visualization comparing the environments.\n",
        "    \"\"\"\n",
        "    state_space_single_agent = 5\n",
        "    action_space_single_agent = 4\n",
        "\n",
        "    state_space_multi_agent = state_space_single_agent ** n_agents\n",
        "    action_space_multi_agent = action_space_single_agent ** n_agents\n",
        "\n",
        "    print(f\"Single-Agent Environment (State Space Size: {state_space_single_agent}, Action Space Size: {action_space_single_agent})\")\n",
        "    print(f\"Multi-Agent Environment ({n_agents} Agents) - Joint State Space Size: {state_space_multi_agent}, Joint Action Space Size: {action_space_multi_agent}\")\n",
        "\n",
        "    fig = create_environment_comparison(n_agents)\n",
        "    plt.show()\n",
        "\n",
        "interact(show_environment_comparison, n_agents=widgets.IntSlider(min=2, max=4, step=1, value=2,\n",
        "                                                               description='Number of Agents:',\n",
        "                                                               style={'description_width': 'initial'}))\n"
      ],
      "metadata": {
        "colab": {
          "base_uri": "https://localhost:8080/",
          "height": 843,
          "referenced_widgets": [
            "2eee1aed79a44d2f9ff4d7949e0630e8",
            "71a4f23a10a649e4be992f5e36168d39",
            "4c35fa2e6aee419eaae2f1c00968672a",
            "49242fa4820548c1a08d940cc59ddc1a",
            "ad78d9fa0a564a3eb974db5f15bc9245",
            "48c4fe9a2dcd4a3ea0cfd2cdff0d3dfa",
            "1dda7e83db2941f4ad477391741fe410"
          ]
        },
        "id": "zxzQmtZkwBBg",
        "outputId": "8a28f2f9-5e47-4182-d143-3ea4915fc0a1",
        "cellView": "form"
      },
      "execution_count": null,
      "outputs": [
        {
          "output_type": "display_data",
          "data": {
            "text/plain": [
              "interactive(children=(IntSlider(value=2, description='Number of Agents:', max=4, min=2, style=SliderStyle(desc…"
            ],
            "application/vnd.jupyter.widget-view+json": {
              "version_major": 2,
              "version_minor": 0,
              "model_id": "2eee1aed79a44d2f9ff4d7949e0630e8"
            }
          },
          "metadata": {}
        },
        {
          "output_type": "execute_result",
          "data": {
            "text/plain": [
              "<function __main__.show_environment_comparison(n_agents)>"
            ],
            "text/html": [
              "<div style=\"max-width:800px; border: 1px solid var(--colab-border-color);\"><style>\n",
              "      pre.function-repr-contents {\n",
              "        overflow-x: auto;\n",
              "        padding: 8px 12px;\n",
              "        max-height: 500px;\n",
              "      }\n",
              "\n",
              "      pre.function-repr-contents.function-repr-contents-collapsed {\n",
              "        cursor: pointer;\n",
              "        max-height: 100px;\n",
              "      }\n",
              "    </style>\n",
              "    <pre style=\"white-space: initial; background:\n",
              "         var(--colab-secondary-surface-color); padding: 8px 12px;\n",
              "         border-bottom: 1px solid var(--colab-border-color);\"><b>show_environment_comparison</b><br/>def show_environment_comparison(n_agents)</pre><pre class=\"function-repr-contents function-repr-contents-collapsed\" style=\"\"><a class=\"filepath\" style=\"display:none\" href=\"#\">/content/&lt;ipython-input-7-45bd1f15460d&gt;</a>Displays the comparison between a single-agent and multi-agent environment.\n",
              "\n",
              "Args:\n",
              "    n_agents (int): The number of agents in the multi-agent environment.\n",
              "\n",
              "The function prints the sizes of the state space and action space for both environments\n",
              "and creates an interactive visualization comparing the environments.</pre></div>"
            ]
          },
          "metadata": {},
          "execution_count": 7
        }
      ]
    },
    {
      "cell_type": "markdown",
      "source": [
        "We can observe that the State and Aciton Space becomes significantly more complex in Multi-agent problems.\n",
        "\n",
        "- **Single-Agent Environment**:\n",
        "  - State space: $S$\n",
        "  - Action space: $A$\n",
        "\n",
        "- **Multi-Agent Environment ($N$ agents)**:\n",
        "  - **Joint State Space**: $S_{\\text{joint}} = S^N$  \n",
        "    The state space grows **exponentially** with the number of agents, as it represents all possible combinations of states for $N$ agents.\n",
        "  - **Joint Action Space**: $A_{\\text{joint}} = A^N$  \n",
        "    Similarly, the action space grows **exponentially**, reflecting all possible combinations of actions taken by $N$ agents simultaneously.\n",
        "\n",
        "---\n",
        "**Implications**\n",
        "- The **exponential growth** of state and action spaces with $N$ agents leads to significant computational challenges in modeling and solving multi-agent environments.\n",
        "- Addressing this complexity often requires:\n",
        "  - Efficient representations of the state and action spaces.\n",
        "  - **Decentralized strategies** to reduce the dimensionality of the problem.\n",
        "  - Utilizing approximations or hierarchical methods in reinforcement learning.\n"
      ],
      "metadata": {
        "id": "aaZ99kj5JWAP"
      }
    },
    {
      "cell_type": "markdown",
      "source": [
        "### Types of MARL\n"
      ],
      "metadata": {
        "id": "GIoB3hTyQovn"
      }
    },
    {
      "cell_type": "markdown",
      "source": [
        "\n",
        "MARL involves multiple agents interacting in a shared environment. The agents’ behaviors depend on their own actions as well as the actions of others. The main types of MARL are as follows:\n",
        "\n",
        "- **Competitive MARL**:\n",
        "  - Agents compete against each other.\n",
        "  - The reward for each agent is typically inversely related to the rewards of others, meaning that one agent’s gain comes at the expense of another’s loss.\n",
        "  \n",
        "  Mathematically, the reward for agent $i$ is:\n",
        "  $\n",
        "  R_i(s, a_1, a_2, \\dots, a_N)\n",
        "  $\n",
        "  where $s$ is the state and $a_1, a_2, \\dots, a_N$ are the actions of all agents.\n",
        "\n",
        "- **Cooperative MARL**:\n",
        "  - All agents share a common goal and work together to maximize the total reward.\n",
        "  - The reward is the same for all agents in a given state-action pair.\n",
        "\n",
        "  $\n",
        "  R_i(s, a_1, a_2, \\dots, a_N) = R(s, a_1, a_2, \\dots, a_N)\n",
        "  $\n",
        "  where $R$ is the shared reward across agents.\n",
        "\n",
        "- **Mixed MARL**:\n",
        "  - Mixed MARL combines both competitive and cooperative behaviors.\n",
        "  - Some agents may cooperate for certain tasks, while still competing for individual rewards.\n",
        "  $\n",
        "  R_i(s, a_1, a_2, \\dots, a_N) = R_c(s, a_1, a_2, \\dots, a_N) + R_p(s, a_1, a_2, \\dots, a_N)\n",
        "  $\n",
        "  where $R_c$ is the cooperative component and $R_p$ is the competitive component.\n",
        "\n",
        "### Payoff Matrix\n",
        "\n",
        "A **payoff matrix** represents the outcomes (payoffs) for each agent based on their chosen strategies. It’s a useful tool for analyzing strategic decisions in games.\n",
        "\n",
        "In a two-player game, the matrix is represented as:\n",
        "\n",
        "$$\n",
        "\\begin{array}{|c|c|c|}\n",
        "\\hline\n",
        "& \\text{Player 2: Strategy 1} & \\text{Player 2: Strategy 2} \\\\\n",
        "\\hline\n",
        "\\text{Player 1: Strategy 1} & (R_1, R_2) & (R_3, R_4) \\\\\n",
        "\\hline\n",
        "\\text{Player 1: Strategy 2} & (R_5, R_6) & (R_7, R_8) \\\\\n",
        "\\hline\n",
        "\\end{array}\n",
        "$$\n",
        "\n",
        "\n",
        "Where $(R_1, R_2)$, etc., represent the payoffs for Player 1 and Player 2 based on their strategies.\n",
        "\n",
        "In MARL, the payoff matrix helps analyze how agents' interactions affect outcomes in Competitive, Cooperative, and Mixed settings.\n"
      ],
      "metadata": {
        "id": "bZg0eF-cPVvS"
      }
    },
    {
      "cell_type": "code",
      "source": [
        "# @title Payoff Matrix\n",
        "import matplotlib.pyplot as plt\n",
        "import numpy as np\n",
        "import seaborn as sns\n",
        "from ipywidgets import interact\n",
        "from IPython.display import display, Markdown\n",
        "\n",
        "def create_marl_types_visualization():\n",
        "    competitive = np.array([[1,-1], [-1,1]])\n",
        "    cooperative = np.array([[2,0], [0,2]])\n",
        "    mixed = np.array([[2,-1], [-1,2]])\n",
        "\n",
        "    def plot_payoff_matrix(matrix, title):\n",
        "        fig = plt.figure(figsize=(6, 4))\n",
        "        sns.heatmap(matrix, annot=True, cmap='RdYlBu', center=0)\n",
        "        plt.title(title)\n",
        "        return fig\n",
        "\n",
        "    @interact(marl_type=['Competitive', 'Cooperative', 'Mixed'])\n",
        "    def show_marl_type(marl_type):\n",
        "        if marl_type == 'Competitive':\n",
        "            matrix = competitive\n",
        "            display(Markdown(\"\"\"\n",
        "            Competitive MARL\n",
        "            - Payoff Matrix: A zero-sum game where the total payoff across all players is zero.\n",
        "            - Key Characteristic: One player's gain is another player's loss.\n",
        "            - Example: Two-player games like chess, where players are directly competing.\n",
        "            \"\"\"))\n",
        "        elif marl_type == 'Cooperative':\n",
        "            matrix = cooperative\n",
        "            display(Markdown(\"\"\"\n",
        "            Cooperative MARL\n",
        "            - Payoff Matrix: A shared reward system where all agents work towards maximizing the collective reward.\n",
        "            - Key Characteristic: Agents collaborate to achieve a common goal.\n",
        "            - Example: Robot swarm coordination, where agents cooperate to achieve a common task.\n",
        "            \"\"\"))\n",
        "        else:\n",
        "            matrix = mixed\n",
        "            display(Markdown(\"\"\"\n",
        "            Mixed MARL\n",
        "            - Payoff Matrix: A combination of competitive and cooperative elements.\n",
        "            - Key Characteristic: Agents have partial alignment of goals but may still compete in certain situations.\n",
        "            - Example: Traffic management, where cooperation is needed to optimize the system, but individual vehicles still compete for resources like road space.\n",
        "            \"\"\"))\n",
        "\n",
        "        plot_payoff_matrix(matrix, f'{marl_type} MARL - Payoff Matrix')\n",
        "        plt.show()\n",
        "\n",
        "create_marl_types_visualization()\n"
      ],
      "metadata": {
        "colab": {
          "base_uri": "https://localhost:8080/",
          "height": 492,
          "referenced_widgets": [
            "330be2a9fb6a4c37bedc6bacbe9bd624",
            "0dfe1e7016bb47aaab93e8e6e14c65a2",
            "cd4ab5b441f94e63a4bed684ddf06787",
            "3b42ffab0fc645e59501f5bc0c37de07",
            "16669aef13254df08104256d771778ab",
            "46ab0f68a6184c38b692e3f1dbfe4843",
            "a9b34dcc85e9432eadfbead5481dd9dd"
          ]
        },
        "cellView": "form",
        "id": "Wpz9gs8I9HP2",
        "outputId": "cd59d0f2-78a9-4460-be62-9fa84281c9e9"
      },
      "execution_count": null,
      "outputs": [
        {
          "output_type": "display_data",
          "data": {
            "text/plain": [
              "interactive(children=(Dropdown(description='marl_type', options=('Competitive', 'Cooperative', 'Mixed'), value…"
            ],
            "application/vnd.jupyter.widget-view+json": {
              "version_major": 2,
              "version_minor": 0,
              "model_id": "330be2a9fb6a4c37bedc6bacbe9bd624"
            }
          },
          "metadata": {}
        }
      ]
    },
    {
      "cell_type": "markdown",
      "source": [
        "##  **Key Challenges MARL**\n"
      ],
      "metadata": {
        "id": "IOaRB0paXw4A"
      }
    },
    {
      "cell_type": "markdown",
      "source": [
        "MARL introduces unique challenges due to interactions between agents and the environment. Addressing these challenges is essential for building robust multi-agent systems.\n"
      ],
      "metadata": {
        "id": "q8CnTN1FSlnx"
      }
    },
    {
      "cell_type": "markdown",
      "source": [
        "### 🚩 **1. Non-Stationarity**\n"
      ],
      "metadata": {
        "id": "b59ERZSCV5kz"
      }
    },
    {
      "cell_type": "markdown",
      "source": [
        "In MARL, agents interact with each other in a shared environment. A key challenge is **non-stationarity** — the environment changes dynamically as agents adapt their policies. This creates instability and hinders learning.\n",
        "\n",
        "---\n",
        "\n",
        "**The Problem**\n",
        "\n",
        "In a multi-agent setup:  \n",
        "- Each agent's policy affects the environment.  \n",
        "- When one agent updates its policy, the environment effectively changes for all other agents.  \n",
        "- This violates the stationary environment assumption of standard reinforcement learning algorithms.\n",
        "\n",
        "---\n",
        "\n",
        "**Mathematical Formalism**\n",
        "\n",
        "1. **Environment Dynamics**:  \n",
        "   The environment’s state transition depends on all agents' actions:  \n",
        "   $$\n",
        "   P(s_{t+1} | s_t, \\mathbf{a}_t),\n",
        "   $$\n",
        "   where $\\mathbf{a}_t = (a_t^1, a_t^2, \\dots, a_t^N) $ represents all agents' actions.\n",
        "\n",
        "2. **Agent-Specific Rewards**:  \n",
        "   Each agent $i$ learns to maximize its own expected return:  \n",
        "  $$\n",
        "   J^i = \\mathbb{E} \\left[ \\sum_{t=0}^T \\gamma^t r_t^i \\right].\n",
        "   $$\n",
        "   However, $r_t^i $ depends on the joint action $\\mathbf{a}_t $, which changes as other agents update their policies.\n",
        "\n",
        "3. **Non-Stationary Policy Updates**:  \n",
        "   As agent $i$ updates its policy $\\pi^i(a^i | s)$, the effective transition and reward functions observed by other agents become time-dependent:  \n",
        "   $$\n",
        "   P(s_{t+1} | s_t, \\mathbf{a}_t) \\text{ and } r_t^j \\quad \\text{for } j \\neq i.\n",
        "   $$\n",
        "\n",
        "---\n",
        "\n",
        "**Impact of Non-Stationarity**\n",
        "\n",
        "- **Unstable Learning**: Agents cannot converge to optimal policies because their environment (other agents) is constantly changing.  \n",
        "- **Exploration-Exploitation Tradeoff**: It becomes harder to balance exploring new strategies with exploiting known ones.  \n",
        "- **Suboptimal Coordination**: Agents might struggle to form effective strategies due to frequent policy changes by others.\n",
        "\n"
      ],
      "metadata": {
        "id": "HMU6U9cMIEvB"
      }
    },
    {
      "cell_type": "markdown",
      "source": [
        "\n",
        "\n",
        "**Illustration Example**: Non-Stationarity in the \"Multi-Agent Particle Environment\"\n",
        "\n",
        "- **Environment Description**:\n",
        "  - **Agents**: Move on a 2D grid to collect and spread objects.\n",
        "  - **Goal**: The goal is for agents to cooperate and gather objects, maximizing a shared reward.\n",
        "  - **Actions**: Agents can move in four directions (up, down, left, right) and interact with other agents or objects.\n",
        "\n",
        "- **Reward Distribution**:\n",
        "  - In **single-agent** setup: Reward depends on the actions of the single agent, based on how effectively it collects objects.\n",
        "  - In **multi-agent** setup: The reward is shared among all agents based on their collective actions. Agents might hinder or help each other depending on the interactions.\n",
        "\n",
        "- **Key Points**:\n",
        "  - The environment is non-stationary because the actions of multiple agents create dynamic changes in the state.\n",
        "  - No learning or training: We sample random actions and observe how reward fluctuations occur due to non-stationarity.\n"
      ],
      "metadata": {
        "id": "NX89GhpXSqPB"
      }
    },
    {
      "cell_type": "code",
      "source": [
        "# @title Spread\n",
        "import numpy as np\n",
        "import matplotlib.pyplot as plt\n",
        "from pettingzoo.mpe import simple_spread_v3\n",
        "from IPython.display import Image, display\n",
        "import imageio\n",
        "from ipywidgets import interactive\n",
        "\n",
        "def initialize_env(N_agents):\n",
        "    env_single = simple_spread_v3.parallel_env(N=1, render_mode=\"rgb_array\")  # Single-agent setup\n",
        "    env_multi = simple_spread_v3.parallel_env(N=N_agents, render_mode=\"rgb_array\")  # Multi-agent setup\n",
        "    return env_single, env_multi\n",
        "\n",
        "def reset_envs(env_single, env_multi):\n",
        "    observations_single, infos_single = env_single.reset(seed=42)\n",
        "    observations_multi, infos_multi = env_multi.reset(seed=42)\n",
        "    return observations_single, infos_single, observations_multi, infos_multi\n",
        "\n",
        "def save_gif_from_images(images, filename):\n",
        "    \"\"\"Save a sequence of images as a GIF with looping enabled.\"\"\"\n",
        "    imageio.mimsave(filename, images, duration=0.1, loop=0)  # loop=0 ensures the GIF repeats indefinitely\n",
        "\n",
        "def simulate_non_stationarity_with_gif(N_agents, steps=100):\n",
        "    env_single, env_multi = initialize_env(N_agents)\n",
        "    observations_single, infos_single, observations_multi, infos_multi = reset_envs(env_single, env_multi)\n",
        "\n",
        "    rewards_single, rewards_multi = [], []\n",
        "    images_single, images_multi = [], []\n",
        "\n",
        "    for _ in range(steps):\n",
        "        actions_single = {}\n",
        "        actions_multi = {}\n",
        "\n",
        "        for agent in env_single.agents:\n",
        "            actions_single[agent] = env_single.action_space(agent).sample()\n",
        "\n",
        "        images_single.append(env_single.render())\n",
        "\n",
        "        observations, rewards, terminations, truncations, infos = env_single.step(actions_single)\n",
        "        rewards_single.append(sum(rewards.values()))\n",
        "\n",
        "        for agent in env_multi.agents:\n",
        "            actions_multi[agent] = env_multi.action_space(agent).sample()\n",
        "\n",
        "        images_multi.append(env_multi.render())\n",
        "\n",
        "        observations, rewards, terminations, truncations, infos = env_multi.step(actions_multi)\n",
        "        rewards_multi.append(sum(rewards.values()))\n",
        "\n",
        "    return rewards_single, rewards_multi, images_single, images_multi\n",
        "\n",
        "def plot_with_gif(N_agents=2, steps=100):\n",
        "    rewards_single, rewards_multi, images_single, images_multi = simulate_non_stationarity_with_gif(N_agents, steps)\n",
        "\n",
        "    rewards_plot = plt.figure(figsize=(10, 6))\n",
        "    plt.plot(rewards_single, label='Single-Agent Reward', color='blue')\n",
        "    plt.plot(rewards_multi, label=f'Multi-Agent Reward (N={N_agents})', color='red')\n",
        "    plt.title(\"Non-Stationarity: Reward Fluctuations in Single-Agent vs. Multi-Agent Setting\")\n",
        "    plt.xlabel(\"Training Steps\")\n",
        "    plt.ylabel(\"Reward\")\n",
        "    plt.legend()\n",
        "    plt.grid(True)\n",
        "    plt.tight_layout()\n",
        "    plt.show()\n",
        "\n",
        "    save_gif_from_images(images_single, filename='single_agent.gif')\n",
        "    save_gif_from_images(images_multi, filename='multi_agent.gif')\n",
        "\n",
        "    display(Markdown(\"### **Single-Agent Animation**\"))\n",
        "    display(Image(filename=\"single_agent.gif\"))\n",
        "\n",
        "    display(Markdown(f\"### **Multi-Agent Animation (N={N_agents})**\"))\n",
        "    display(Image(filename=\"multi_agent.gif\"))\n",
        "\n",
        "interactive_plot = interactive(plot_with_gif, N_agents=(2, 10, 1), steps=(100, 500, 10))\n",
        "display(interactive_plot)\n"
      ],
      "metadata": {
        "colab": {
          "base_uri": "https://localhost:8080/",
          "height": 1000,
          "referenced_widgets": [
            "66baaf78d41a4335a4f4e43e73251503",
            "933f225fd224402f8a46648e464599db",
            "05f1710e7cbd4ce6927d6fef968e2a94",
            "a4d81e47193948e08f8b40adac4c9a15",
            "9c5b8f2e17134aa283d6ab7d4951a2c3",
            "bfc16df018874d848d2bec7a63783b6a",
            "a1f0177eebf744d5bdce16440e636577",
            "390d056b3e294db3be57bd2efa8f2b92",
            "c7c0938ec27e401d86e35e009657bb2b",
            "7279285ce27b452daa5fc2674b2f3c95"
          ]
        },
        "id": "0J8UWx5RaNBO",
        "outputId": "a7cfd443-ed6d-48ad-f864-e4268f374d48"
      },
      "execution_count": null,
      "outputs": [
        {
          "output_type": "display_data",
          "data": {
            "text/plain": [
              "interactive(children=(IntSlider(value=2, description='N_agents', max=10, min=2), IntSlider(value=100, descript…"
            ],
            "application/vnd.jupyter.widget-view+json": {
              "version_major": 2,
              "version_minor": 0,
              "model_id": "66baaf78d41a4335a4f4e43e73251503"
            }
          },
          "metadata": {}
        }
      ]
    },
    {
      "cell_type": "markdown",
      "source": [
        "### 📊 3. **Credit Assignment**"
      ],
      "metadata": {
        "id": "6jfwNGmSETbl"
      }
    },
    {
      "cell_type": "markdown",
      "source": [
        "\n",
        "Agents work together to maximize a global reward. A key challenge is **credit assignment** — determining how much each agent contributes to the team’s success or failure. Without proper credit assignment, agents may struggle to learn effective policies.\n",
        "\n",
        "---\n",
        "\n",
        "**The Problem**\n",
        "\n",
        "- **Joint Reward**: Agents receive a shared reward $r_t$, making it unclear which agent's actions led to the outcome.  \n",
        "- **Delayed Rewards**: Rewards might not occur immediately, making it harder to link actions to results.  \n",
        "\n",
        "The goal is to distribute the joint reward among agents such that each learns its contribution to the global outcome.\n",
        "\n",
        "---\n",
        "\n",
        "1. **Global Objective**:\n",
        "   Maximize the total discounted reward:\n",
        "   $$\n",
        "   J = \\mathbb{E} \\left[ \\sum_{t=0}^T \\gamma^t r_t \\right],\\quad  \\text{where \\( \\gamma \\) is the discount factor.}\n",
        "   $$\n",
        "   \n",
        "\n",
        "2. **Credit Decomposition**:\n",
        "   Decompose $r_t $ into individual contributions  $c_t^i$ for $N$ agents:\n",
        "   $$\n",
        "   r_t = \\sum_{i=1}^N c_t^i.\n",
        "   $$\n",
        "\n",
        "3. **Advantage Function** (for Temporal Credit):\n",
        "   Use the advantage function to estimate an agent's impact:\n",
        "   $$\n",
        "   A_t^i = Q(s_t, a_t^i) - V(s_t),\n",
        "   $$\n",
        "   where $ Q(s_t, a_t^i) $ evaluates action $ a_t^i $, and $V(s_t) $ evaluates the state $s_t$.\n",
        "\n",
        "---\n"
      ],
      "metadata": {
        "id": "0C5iLj5s5six"
      }
    },
    {
      "cell_type": "markdown",
      "source": [
        "### 🔍 **4. Partial Observability**  \n",
        "\n",
        "Agents in MARL often lack access to the full global state, relying on partial observations, which poses significant challenges for coordination and learning.  \n",
        "\n",
        "---\n",
        "\n",
        "**The Problem**  \n",
        "\n",
        "1. **Limited Observations**: Each agent $i$ observes only a part of the environment:  \n",
        "   $$o_t^i = \\mathcal{O}^i(s_t),$$  \n",
        "   where $s_t$ is the true global state, and $\\mathcal{O}^i$ is the observation function of agent $i$.  \n",
        "\n",
        "2. **Decentralized Policies**: Agents act independently based on local observations:  \n",
        "   $$a_t^i = \\pi^i(o_t^i),$$  \n",
        "   which may lead to suboptimal joint behavior.  \n",
        "\n",
        "3. **Non-Markovian Observations**: The partial observation $o_t^i$ may not contain enough information to make decisions Markovian.  \n",
        "\n",
        "---\n",
        "\n",
        "**Challenges**  \n",
        "\n",
        "1. **Coordination Under Uncertainty**: Incomplete or inconsistent information hinders agents' ability to work together.  \n",
        "2. **Hidden States**: Critical environment or agent states are unobservable, leading to poorly informed decisions.  \n",
        "3. **Delayed Effects**: Observations may not immediately reflect the consequences of an action.  \n",
        "\n",
        "---\n"
      ],
      "metadata": {
        "id": "tM0qXQWALjFK"
      }
    },
    {
      "cell_type": "markdown",
      "source": [
        "### 📡 2. **Communication**\n"
      ],
      "metadata": {
        "id": "hTEv5AnY4MMg"
      }
    },
    {
      "cell_type": "markdown",
      "source": [
        "Agents work together to achieve common goals. A key challenge is **communication** — how do agents share information when they can't directly observe each other's states or intentions? Efficient communication is critical for coordinating actions, but poor communication strategies can reduce performance.\n",
        "\n",
        "\n",
        "\n",
        "**The Problem**\n",
        "\n",
        "In MARL, agents face three key communication challenges:\n",
        "\n",
        "1. **When to communicate?** Not all decisions require input from other agents, and over-communication can create inefficiencies.\n",
        "2. **What to communicate?** Agents need to decide which information is essential and relevant to share.\n",
        "3. **How to communicate efficiently?** Too much or too little communication can slow down decision-making and consume resources.\n",
        "\n",
        "If communication isn’t handled properly, agents may act independently or inefficiently, reducing the overall performance.\n",
        "\n",
        "---\n",
        "\n",
        " **Types of Communication**\n",
        "\n",
        "1. **Implicit Communication**:\n",
        "   - **Definition**: Agents communicate indirectly through their actions, inferring the intentions of others by observing their behavior.\n",
        "   - **Example**: Agent A moves in a specific direction, and Agent B infers that Agent A is trying to reach a destination.\n",
        "   - **Advantages**: No message overhead.\n",
        "   - **Disadvantages**: Can lead to misunderstandings, especially in complex environments.\n",
        "\n",
        "2. **Explicit Communication**:\n",
        "   - **Definition**: Agents send direct messages to each other to convey information.\n",
        "   - **Example**: Agent A tells Agent B, \"There’s an obstacle ahead, move left.\"\n",
        "   - **Advantages**: Clear coordination.\n",
        "   - **Disadvantages**: Communication overhead and possible complexity in managing messages.\n",
        "\n",
        "---\n",
        "\n",
        "**Potential Solutions to the Communication Challenge**\n",
        "\n",
        "1. **Learning Communication with Deep Reinforcement Learning (DRL)**:\n",
        "   - Agents can learn to develop communication protocols through reinforcement learning. They’re trained to maximize their performance, while also learning to share information in a way that improves coordination.\n",
        "   - **Example**: Agents learn when to signal each other or interpret each other’s actions without explicit instructions.\n",
        "\n",
        "2. **Targeted Multi-Agent Communication (TARMAC)**:\n",
        "   - Agents use attention mechanisms to decide what and who to communicate with, ensuring that only relevant information is shared. This reduces communication costs and improves coordination.\n",
        "   - **Example**: An agent might only communicate with another agent when an obstacle or important event occurs.\n"
      ],
      "metadata": {
        "id": "7BySW5X32Sit"
      }
    },
    {
      "cell_type": "markdown",
      "source": [
        "\n",
        "\n",
        "---\n",
        "\n",
        "# **Algorithmic Solutions**\n",
        "\n",
        "---\n",
        "\n"
      ],
      "metadata": {
        "id": "GRNaBf2CK2K0"
      }
    },
    {
      "cell_type": "markdown",
      "source": [
        "## **Centralized Training with Decentralized Execution**\n"
      ],
      "metadata": {
        "id": "GGpcHeGBjiB9"
      }
    },
    {
      "cell_type": "markdown",
      "source": [
        "CTDE enables agents to train using global information while executing policies based on local observations. This approach effectively addresses non-stationarity in cooperative settings.\n",
        "\n",
        "**Key Aspects of CTDE:**\n",
        "\n",
        "- **Centralized Training:** Agents learn from global information during training.\n",
        "\n",
        "- **Decentralized Execution:** Agents operate based on local observations during execution.\n",
        "\n",
        "- **Cooperative Focus:** Particularly effective in settings where agents collaborate toward a common goal.\n",
        "\n",
        "To facilitate information sharing during training, CTDE can utilize:\n",
        "\n",
        "1. **Centralized Critic Methods:** Employ a centralized critic during training to evaluate joint actions, providing a unified learning signal that addresses challenges like nonstationarity and credit assignment.\n",
        "\n",
        "2. **Value Function Factorization Methods:** Decompose the joint value function into individual components, enabling cooperative learning while maintaining decentralized execution.\n"
      ],
      "metadata": {
        "id": "b9Ju4UL_jeiQ"
      }
    },
    {
      "cell_type": "markdown",
      "source": [
        "### **🧠1. Policy Gradient Methods**\n",
        "\n",
        "These approaches optimize agents' policies directly through gradient-based techniques, effectively handling large or continuous action spaces.\n",
        "\n",
        "To enhance learning, **centralized critic methods** are employed during training, providing a unified evaluation of joint actions and addressing key challenges:\n",
        "\n",
        "- **Nonstationarity:** Centralized critics offer a stable learning signal, mitigating the nonstationary environment caused by agents' evolving policies.\n",
        "\n",
        "- **Credit Assignment:** They assist in evaluating joint actions, facilitating accurate credit assignment and improving individual agent learning.\n",
        "\n",
        "- **Sample Efficiency:** By leveraging global information, centralized critics lead to more efficient learning and faster convergence compared to decentralized approaches.\n",
        "\n",
        "Incorporating centralized critics enhances coordination and performance in cooperative multi-agent settings.\n",
        "#### 🧠🤝 1.1. Multi-Agent Deep Deterministic Policy Gradient (MADDPG)\n",
        "\n",
        "MADDPG extends the Deep Deterministic Policy Gradient (DDPG) algorithm to multi-agent environments by incorporating a centralized critic for each agent, which considers the actions and observations of all agents during training. This centralized training with decentralized execution (CTDE) framework enables agents to learn coordinated behaviors while acting based on their local observations during execution.\n",
        "\n",
        "**Update Formulas:**\n",
        "\n",
        "- **Critic Update:**\n",
        "\n",
        "  The critic for agent $i$ is updated by minimizing the loss function:\n",
        "\n",
        "  $$\n",
        "  \\mathcal{L}_i(\\theta_i) = \\mathbb{E} \\left[ \\left( Q_i(s_t, a_1, a_2, \\ldots, a_N; \\theta_i) - y_t \\right)^2 \\right]\n",
        "  $$\n",
        "\n",
        "  Where:\n",
        "  - $y_t = r_i + \\gamma \\, Q_i(s_{t+1}, a_1', a_2', \\ldots, a_N'; \\theta_i^-)$ is the target value.\n",
        "  - $a_j'$ represents the action taken by agent $j$ at the next time step, determined by its policy $\\pi_j$.\n",
        "  - $\\theta_i^-$ are the parameters of the target critic network for agent $i$.\n",
        "\n",
        "- **Actor Update:**\n",
        "\n",
        "  The actor for agent $i$ is updated by maximizing the expected return, using the policy gradient:\n",
        "\n",
        "  $$\n",
        "  \\nabla_{\\phi_i} J(\\phi_i) = \\mathbb{E} \\left[ \\nabla_{a_i} Q_i(s_t, a_1, a_2, \\ldots, a_N; \\theta_i) \\cdot \\nabla_{\\phi_i} \\pi_i(o_i; \\phi_i) \\right]\n",
        "  $$\n",
        "\n",
        "  Where:\n",
        "  - $\\pi_i(o_i; \\phi_i)$ is the policy of agent $i$ parameterized by $\\phi_i$, based on its local observation $o_i$.\n",
        "\n",
        "**Comparison with SARL:**\n",
        "\n",
        "In Single-Agent Reinforcement Learning (SARL), an agent learns a policy based solely on its own experiences and observations. In contrast, MADDPG allows each agent to consider the actions and observations of all agents during training through a centralized critic, facilitating coordinated behavior in multi-agent settings.\n",
        "\n",
        "#### 🧠⚖️ 1.2. Counterfactual Multi-Agent Policy Gradients (COMA)\n",
        "\n",
        "COMA is an actor-critic method designed for fully cooperative multi-agent environments. It employs a centralized critic to estimate the Q-value of joint actions and uses a counterfactual baseline to compute the advantage function for each agent, which helps in addressing the credit assignment problem by evaluating an agent's contribution to the team's success.\n",
        "\n",
        "**Update Formulas:**\n",
        "\n",
        "- **Critic Update:**\n",
        "\n",
        "  The critic is updated by minimizing the temporal-difference error:\n",
        "\n",
        "  $$\n",
        "  \\mathcal{L}(\\theta) = \\mathbb{E} \\left[ \\left( Q(s_t, \\mathbf{a}_t; \\theta) - y_t \\right)^2 \\right]\n",
        "  $$\n",
        "\n",
        "  Where:\n",
        "  - $y_t = r_t + \\gamma \\, Q(s_{t+1}, \\mathbf{a}_{t+1}; \\theta^-)$ is the target value.\n",
        "  - $\\mathbf{a}_t$ denotes the joint action of all agents at time $t$.\n",
        "  - $\\theta^-$ are the parameters of the target critic network.\n",
        "\n",
        "- **Actor Update:**\n",
        "\n",
        "  The actor for agent $i$ is updated using the policy gradient, weighted by the counterfactual advantage:\n",
        "\n",
        "  $$\n",
        "  \\nabla_{\\phi_i} J(\\phi_i) = \\mathbb{E} \\left[ \\nabla_{\\phi_i} \\log \\pi_i(a_{i,t} | o_{i,t}; \\phi_i) \\cdot A_i(s_t, \\mathbf{a}_t) \\right]\n",
        "  $$\n",
        "\n",
        "  Where:\n",
        "  - $A_i(s_t, \\mathbf{a}_t) = Q(s_t, \\mathbf{a}_t) - \\sum_{a_i'} \\pi_i(a_i' | o_{i,t}) Q(s_t, (a_i', \\mathbf{a}_{-i,t}))$ is the counterfactual advantage function for agent $i$.\n",
        "  - $\\mathbf{a}_{-i,t}$ represents the actions of all agents except agent $i$ at time $t$.\n",
        "\n",
        "**Comparison with SARL:**\n",
        "\n",
        "In SARL, the agent focuses on optimizing its own policy without considering the interactions with other agents. COMA, however, addresses the multi-agent credit assignment problem by using a centralized critic and counterfactual reasoning, enabling more effective learning in cooperative multi-agent environments.\n",
        "\n",
        "#### 🧠📈 1.3. Multi-Agent Proximal Policy Optimization (MAPPO)\n",
        "\n",
        "MAPPO extends the Proximal Policy Optimization (PPO) algorithm to multi-agent environments, incorporating mechanisms to handle the complexities of multi-agent interactions. It employs a centralized value function during training to improve sample efficiency and stability, while maintaining decentralized execution. :contentReference[oaicite:1]{index=1}\n",
        "\n",
        "**Objective Function:**\n",
        "\n",
        "The objective function for agent $i$ is:\n",
        "\n",
        "$$\n",
        "L_i(\\theta_i) = \\mathbb{E}_t \\left[ \\min \\left( r_t(\\theta_i) \\hat{A}_t, \\text{clip}(r_t(\\theta_i), 1 - \\epsilon, 1 + \\epsilon) \\hat{A}_t \\right) \\right]\n",
        "$$\n",
        "\n",
        "Where:\n",
        "- $r_t(\\theta_i) = \\frac{\\pi_i(a_i | o_i; \\theta_i)}{\\pi_i(a_i | o_i; \\theta_i^{\\text{old}})}$ is the probability ratio between the current and old policies.\n",
        "- $\\hat{A}_t$ is the estimated advantage function.\n",
        "- $\\epsilon$ is the clipping parameter to limit the change in policy updates.\n",
        "\n",
        "**Value Function Update:**\n",
        "\n",
        "The centralized value function is updated by minimizing the loss:\n",
        "\n",
        "$$\n",
        "\\mathcal{L}^V(\\phi) = \\mathbb{E}_t \\left[ \\left( V(s_t; \\phi) - R_t \\right)^2 \\right]\n",
        "$$\n",
        "#### 🧠🔄 1.4. Multi-Agent Actor-Critic for Mixed Cooperative-Competitive Environments (MAAC)\n",
        "\n",
        "MAAC combines actor-critic methods with attention mechanisms to handle mixed environments. The critic for agent $ i $ is:\n",
        "\n",
        "$$ Q_i(s_t, a_t) = \\mathbb{E}_{a_{-i}} \\left[ r_t + \\gamma V_i(s_{t+1}) \\right] $$\n",
        "\n",
        "Where:\n",
        "- $ a_{-i} $: Actions of all agents except $ i $\n",
        "- $ V_i(s_{t+1}) $: Value function for agent $ i $ at time $ t+1 $\n",
        "\n",
        "**Comparison with SARL:**\n",
        "In SARL, a single actor-critic method is applied to the agent. In MAAC, attention mechanisms are used to handle interactions in mixed cooperative-competitive environments.\n",
        "\n",
        "\n"
      ],
      "metadata": {
        "id": "gfPhfsNPqAID"
      }
    },
    {
      "cell_type": "markdown",
      "source": [
        "### **🧠2. Value Decomposition Methods**\n"
      ],
      "metadata": {
        "id": "3ti1pbp-o6i-"
      }
    },
    {
      "cell_type": "markdown",
      "source": [
        "\n",
        "Value decomposition methods aim to break down the joint value function into individual components, enabling agents to learn cooperative behaviors while maintaining decentralized execution. This decomposition simplifies the complex problem of credit assignment in multi-agent systems, where determining the contribution of each agent to the overall outcome is challenging.\n",
        "\n",
        "\n",
        "#### 🧠💡 2.1. Value Decomposition Networks (VDN)\n",
        "\n",
        "VDN decomposes the joint Q-function into a sum of individual Q-functions:\n",
        "\n",
        "$$ Q_{\\text{joint}}(s_t, \\mathbf{a}_t) = \\sum_{i} Q_i(s_t, a_{i,t}) $$\n",
        "\n",
        "Where:\n",
        "- $ \\mathbf{a}_t $: Joint action at time $ t $\n",
        "- $ Q_{\\text{joint}} $: Joint Q-function\n",
        "- $ Q_i $: Individual Q-function for agent $ i $\n",
        "\n",
        "**Comparison with SARL:**\n",
        "In SARL, a single Q-function is learned for the agent. In VDN, the joint Q-function is decomposed into individual Q-functions, facilitating decentralized learning.\n",
        "\n",
        "#### 🧠🔗 2.2. QMIX\n",
        "\n",
        "QMIX is a monotonic value function factorization method that ensures joint action-value maximization. The joint Q-function is represented as:\n",
        "\n",
        "$$ Q_{\\text{joint}}(s_t, \\mathbf{a}_t) = \\sum_{i} f_i(s_t, a_{i,t}) \\quad \\text{with} \\quad f_i \\text{ being a monotonic function} $$\n",
        "\n",
        "**Comparison with SARL:**\n",
        "In SARL, a single Q-function is learned for the agent. In QMIX, the joint Q-function is factorized into individual components, ensuring that the joint action-value is maximized.\n",
        "\n",
        "#### 🧠⚡ 2.3. QTRAN\n",
        "\n",
        "QTRAN decomposes the joint Q-function into individual Q-functions while maintaining optimality. The decomposition is:\n",
        "\n",
        "$$ Q_{\\text{joint}}(s_t, \\mathbf{a}_t) = \\sum_{i} Q_i(s_t, a_{i,t}) + \\sum_{i,j} \\Delta_{ij}(s_t, a_{i,t}, a_{j,t}) $$\n",
        "\n",
        "Where:\n",
        "- $ \\Delta_{ij} $: Interaction term between agents $ i $ and $ j $\n",
        "\n",
        "**Comparison with SARL:**\n",
        "In SARL, a single Q-function is learned for the agent. In QTRAN, the joint Q-function is decomposed into individual Q-functions with interaction terms, allowing for coordinated learning.\n",
        "\n",
        "\n"
      ],
      "metadata": {
        "id": "j6UMLYcJol24"
      }
    },
    {
      "cell_type": "markdown",
      "source": [
        "##  **Independent Learning Approaches**"
      ],
      "metadata": {
        "id": "COyU1j2RXkGY"
      }
    },
    {
      "cell_type": "markdown",
      "source": [
        " **Independent Learning Approaches** treat each agent as an autonomous learner, applying SARL techniques without explicit coordination. These approaches assume that other agents' policies are fixed, leading each agent to independently optimize its own policy.\n",
        "\n",
        "These independent learning approaches are particularly suited for competitive settings, where agents operate without explicit coordination. However, they may face challenges in cooperative environments due to the lack of shared information and potential for suboptimal outcomes.\n",
        "\n",
        "**Key Aspects of Independent Learning Approaches:**\n",
        "\n",
        "- **Decentralized Learning:** Each agent learns its policy without sharing information or coordinating with other agents.\n",
        "\n",
        "- **Potential for Suboptimal Outcomes:** Without coordination, agents may converge to suboptimal policies, especially in competitive or complex environments.\n",
        "\n",
        "**🧠 1. Independent Q-Learning (IQL)**\n",
        "\n",
        "In IQL, each agent independently learns its own Q-function, assuming other agents' policies remain static. The Q-value update rule for agent $i$ is:\n",
        "\n",
        "$$\n",
        "Q_i(s_t, a_t) \\leftarrow Q_i(s_t, a_t) + \\alpha \\left[ r_t + \\gamma \\max_{a'} Q_i(s_{t+1}, a') - Q_i(s_t, a_t) \\right]\n",
        "$$\n",
        "\n",
        "Where:\n",
        "- $s_t$: State at time $t$\n",
        "- $a_t$: Action taken at time $t$\n",
        "- $r_t$: Reward received at time $t$\n",
        "- $\\gamma$: Discount factor\n",
        "- $\\alpha$: Learning rate\n",
        "\n",
        "**🧠💻 2. Independent Deep Q-Networks (IDQN)**\n",
        "\n",
        "IDQN extends IQL by employing deep neural networks to approximate Q-functions. The update rule mirrors that of IQL, but the Q-function is represented by a neural network $Q_i(s, a; \\theta_i)$, where $\\theta_i$ denotes the network parameters.\n",
        "\n",
        "**🧠🎭 3. Independent Actor-Critic (IAC)**\n",
        "\n",
        "In IAC, each agent maintains its own policy $\\pi_i$ and value function $V_i$, updating them independently. The policy is updated using the policy gradient theorem:\n",
        "\n",
        "$$\n",
        "\\nabla_{\\theta_i} J(\\theta_i) = \\mathbb{E}_{\\tau} \\left[ \\nabla_{\\theta_i} \\log \\pi_i(a_t | s_t; \\theta_i) \\cdot \\delta_t \\right]\n",
        "$$\n",
        "\n",
        "Where:\n",
        "- $\\delta_t = r_t + \\gamma V_i(s_{t+1}) - V_i(s_t)$\n",
        "\n",
        "**🧠📈 4. Independent Proximal Policy Optimization (IPPO)**\n",
        "\n",
        "IPPO involves each agent independently applying Proximal Policy Optimization (PPO) to update its policy. The objective function for agent $i$ is:\n",
        "\n",
        "$$\n",
        "L^{\\text{CLIP}}_i(\\theta_i) = \\mathbb{E}_t \\left[ \\min \\left( r_t(\\theta_i) \\cdot \\hat{A}_t, \\text{clip}(r_t(\\theta_i), 1 - \\epsilon, 1 + \\epsilon) \\cdot \\hat{A}_t \\right) \\right]\n",
        "$$\n",
        "\n",
        "Where:\n",
        "- $r_t(\\theta_i) = \\frac{\\pi_i(a_t | s_t; \\theta_i)}{\\pi_i(a_t | s_t; \\theta_{i,\\text{old}})}$\n",
        "- $\\hat{A}_t$: Estimated advantage at time $t$\n",
        "- $\\epsilon$: Clipping parameter\n",
        "\n",
        "\n",
        "\n"
      ],
      "metadata": {
        "id": "prtXyrbUPK9v"
      }
    },
    {
      "cell_type": "markdown",
      "source": [
        "\n",
        "\n",
        "**🧠🧠 6. Advanced Strategies for Competitive MARL**\n",
        "In competitive Multi-Agent Reinforcement Learning (MARL), agents operate with opposing objectives, aiming to outperform each other.\n",
        "Understanding and anticipating opponents' behaviors is essential in competitive settings. By modeling opponents, agents can predict actions and adjust their strategies accordingly. This approach enhances performance by enabling agents to counteract opponents' tactics effectively.\n",
        "\n",
        "- **Self-Play:** Agents train by competing against copies of themselves, allowing them to develop robust strategies through repeated interactions. This method is particularly effective in games like chess and Go, where agents can simulate various scenarios to improve their performance.\n",
        "\n",
        "  - **Implementation Steps:**\n",
        "    - **Initialize Multiple Agent Instances:** Create multiple instances of the agent, each with identical or evolving policies.\n",
        "    - **Simulate Interactions:** Allow these agents to play against each other in the target environment.\n",
        "    - **Policy Update:** After each game, update the agents' policies based on the outcomes, reinforcing successful strategies.\n",
        "    - **Iterative Training:** Repeat the process, enabling agents to adapt and refine their strategies over time.\n",
        "\n",
        "- **Opponent Modeling:** Agents learn models of their opponents to predict future actions, facilitating strategic planning. This technique is beneficial in environments where understanding the opponent's strategy is key to success.\n",
        "\n",
        "  - **Implementation Steps:**\n",
        "    - **Opponent Behavior Encoding:** Use neural networks to encode observations of the opponent's actions and states.\n",
        "    - **Policy and Model Joint Training:** Simultaneously train the agent's policy and the opponent model, allowing the agent to adapt to various strategies.\n",
        "    - **Strategic Adjustment:** Utilize the opponent model to predict and counteract the opponent's moves during interactions.\n",
        "\n",
        "- **Meta-Learning:** Agents develop the ability to adapt to new opponents by learning from a variety of adversarial interactions. This approach enables agents to generalize across different competitive scenarios.\n",
        "\n",
        "  - **Implementation Steps:**\n",
        "    - **Diverse Training Scenarios:** Expose the agent to a wide range of opponents with varying strategies.\n",
        "    - **Adaptation Mechanism:** Implement algorithms that allow the agent to quickly adjust its policy in response to new opponents.\n",
        "    - **Performance Evaluation:** Assess the agent's ability to maintain performance across different adversarial conditions.\n",
        "\n",
        "- **Ensemble Methods:** By maintaining multiple models of potential opponents, agents can select the most appropriate strategy based on the current context, enhancing adaptability and robustness.\n",
        "\n",
        "  - **Implementation Steps:**\n",
        "    - **Model Collection:** Develop and maintain a set of models representing different opponent strategies.\n",
        "    - **Contextual Analysis:** Evaluate the current game state to determine the most likely opponent model.\n",
        "    - **Strategy Selection:** Choose the agent's strategy that is most effective against the identified opponent model.\n",
        "    - **Continuous Refinement:** Update and refine the opponent models based on new interactions to improve future performance.\n",
        "\n",
        "These strategies are particularly effective in competitive settings, where understanding and anticipating opponents' behaviors are crucial for success."
      ],
      "metadata": {
        "id": "5HjxXShobfNX"
      }
    },
    {
      "cell_type": "markdown",
      "source": [
        "# Example: Implementing IPPO for pistonball using PettingZoo Gym"
      ],
      "metadata": {
        "id": "1EKJPcKqGSAL"
      }
    },
    {
      "cell_type": "markdown",
      "source": [
        "In this example below, we showcase the use of an IPPO algorithm that is trained to play the Atari game, Pistonball.\n",
        "\n",
        "This is a simple physics based cooperative game where the goal is to move the ball to the left wall of the game border by activating the vertically moving pistons.We can see here this game falls into the cooperative setting, and can alternate between whether the agents act sequentially, know as the Agent Environment Cycle mode or they take decisions in parallel.\n",
        "\n",
        "The agents are rewarded for moving the ball to the left, and incentivized to to it quickly through the use of a time penalty.This is an IPPO implementation, where each agent is treated independently with shared policy weights but no explicit coordination or centralized critic.\n",
        "\n",
        "The hyperparameters that can be played with are the clipping co-efficient, the number of episodes, and the discount rate.\n",
        "\n",
        "This code has been slightly modified from the [documentation](https://pettingzoo.farama.org/tutorials/cleanrl/implementing_PPO/) to enable you to experiment with the hyperparameters in real time. Credit to author [Jet](https://github.com/jjshoots) for the initial implementation."
      ],
      "metadata": {
        "id": "_WYNy8X-TF-H"
      }
    },
    {
      "cell_type": "code",
      "source": [],
      "metadata": {
        "id": "-OoU-PvAWXqM"
      },
      "execution_count": null,
      "outputs": []
    },
    {
      "cell_type": "code",
      "source": [
        "import sys\n",
        "sys.path.append(\"/content/INF8250AE-MARL-NOTEBOOK/PettingZoo_PistonBall\")  # Update with the path to your subfolder\n",
        "!mv INF8250AE-MARL-NOTEBOOK new_folder_name\n",
        "\n",
        "from INF8250AE_MARL_NOTEBOOK.PettingZoo_PistonBall.pistonball_mappo import train_policy, render_policy"
      ],
      "metadata": {
        "id": "xKtIOEkaN46V",
        "colab": {
          "base_uri": "https://localhost:8080/",
          "height": 350
        },
        "outputId": "04837d7d-4188-4c90-f061-5ffad22cc9ae"
      },
      "execution_count": null,
      "outputs": [
        {
          "output_type": "error",
          "ename": "ModuleNotFoundError",
          "evalue": "No module named 'INF8250AE_MARL_NOTEBOOK'",
          "traceback": [
            "\u001b[0;31m---------------------------------------------------------------------------\u001b[0m",
            "\u001b[0;31mModuleNotFoundError\u001b[0m                       Traceback (most recent call last)",
            "\u001b[0;32m<ipython-input-10-7d95cbd175e1>\u001b[0m in \u001b[0;36m<cell line: 3>\u001b[0;34m()\u001b[0m\n\u001b[1;32m      1\u001b[0m \u001b[0;32mimport\u001b[0m \u001b[0msys\u001b[0m\u001b[0;34m\u001b[0m\u001b[0;34m\u001b[0m\u001b[0m\n\u001b[1;32m      2\u001b[0m \u001b[0msys\u001b[0m\u001b[0;34m.\u001b[0m\u001b[0mpath\u001b[0m\u001b[0;34m.\u001b[0m\u001b[0mappend\u001b[0m\u001b[0;34m(\u001b[0m\u001b[0;34m\"/content/INF8250AE-MARL-NOTEBOOK/PettingZoo_PistonBall\"\u001b[0m\u001b[0;34m)\u001b[0m  \u001b[0;31m# Update with the path to your subfolder\u001b[0m\u001b[0;34m\u001b[0m\u001b[0;34m\u001b[0m\u001b[0m\n\u001b[0;32m----> 3\u001b[0;31m \u001b[0;32mfrom\u001b[0m \u001b[0mINF8250AE_MARL_NOTEBOOK\u001b[0m\u001b[0;34m.\u001b[0m\u001b[0mPettingZoo_PistonBall\u001b[0m\u001b[0;34m.\u001b[0m\u001b[0mpistonball_mappo\u001b[0m \u001b[0;32mimport\u001b[0m \u001b[0mtrain_policy\u001b[0m\u001b[0;34m,\u001b[0m \u001b[0mrender_policy\u001b[0m\u001b[0;34m\u001b[0m\u001b[0;34m\u001b[0m\u001b[0m\n\u001b[0m",
            "\u001b[0;31mModuleNotFoundError\u001b[0m: No module named 'INF8250AE_MARL_NOTEBOOK'",
            "",
            "\u001b[0;31m---------------------------------------------------------------------------\u001b[0;32m\nNOTE: If your import is failing due to a missing package, you can\nmanually install dependencies using either !pip or !apt.\n\nTo view examples of installing some common dependencies, click the\n\"Open Examples\" button below.\n\u001b[0;31m---------------------------------------------------------------------------\u001b[0m\n"
          ],
          "errorDetails": {
            "actions": [
              {
                "action": "open_url",
                "actionText": "Open Examples",
                "url": "/notebooks/snippets/importing_libraries.ipynb"
              }
            ]
          }
        }
      ]
    },
    {
      "cell_type": "code",
      "source": [
        "#Use this cell to check if notebook is set to use cpu or gpu.\n",
        "#You can get faster results from the GPU\n",
        "print(\"GPU available:\", torch.cuda.is_available())\n",
        "device = torch.device(\"cuda\" if torch.cuda.is_available() else \"cpu\")\n",
        "print(\"Using device:\", device)"
      ],
      "metadata": {
        "id": "ifcGnGT29ix4"
      },
      "execution_count": null,
      "outputs": []
    },
    {
      "cell_type": "code",
      "source": [
        "#Select Hyperparamters\n",
        "num_episodes = 10\n",
        "discount_rate = 0.99\n",
        "clipping_coef = 0.1"
      ],
      "metadata": {
        "id": "PXKsk1h2IXZH"
      },
      "execution_count": null,
      "outputs": []
    },
    {
      "cell_type": "code",
      "source": [
        "trained_agent, device = train_policy(num_episodes, discount_rate, clipping_coef)"
      ],
      "metadata": {
        "id": "kp9byEEWMzA7"
      },
      "execution_count": null,
      "outputs": []
    },
    {
      "cell_type": "code",
      "source": [
        "#Produce a gif of the output\n",
        "render_policy(trained_agent, num_episodes, device)"
      ],
      "metadata": {
        "id": "DQlGEdIKMywq"
      },
      "execution_count": null,
      "outputs": []
    },
    {
      "cell_type": "code",
      "source": [
        "from IPython.display import Image, display\n",
        "# Display the uploaded GIF\n",
        "display(Image(filename=\"pistonball/pistonball.gif\"))"
      ],
      "metadata": {
        "id": "M7gThkAXRwsF"
      },
      "execution_count": null,
      "outputs": []
    }
  ],
  "metadata": {
    "colab": {
      "provenance": [],
      "gpuType": "T4",
      "include_colab_link": true
    },
    "kernelspec": {
      "display_name": "Python 3",
      "name": "python3"
    },
    "widgets": {
      "application/vnd.jupyter.widget-state+json": {
        "2eee1aed79a44d2f9ff4d7949e0630e8": {
          "model_module": "@jupyter-widgets/controls",
          "model_name": "VBoxModel",
          "model_module_version": "1.5.0",
          "state": {
            "_dom_classes": [
              "widget-interact"
            ],
            "_model_module": "@jupyter-widgets/controls",
            "_model_module_version": "1.5.0",
            "_model_name": "VBoxModel",
            "_view_count": null,
            "_view_module": "@jupyter-widgets/controls",
            "_view_module_version": "1.5.0",
            "_view_name": "VBoxView",
            "box_style": "",
            "children": [
              "IPY_MODEL_71a4f23a10a649e4be992f5e36168d39",
              "IPY_MODEL_4c35fa2e6aee419eaae2f1c00968672a"
            ],
            "layout": "IPY_MODEL_49242fa4820548c1a08d940cc59ddc1a"
          }
        },
        "71a4f23a10a649e4be992f5e36168d39": {
          "model_module": "@jupyter-widgets/controls",
          "model_name": "IntSliderModel",
          "model_module_version": "1.5.0",
          "state": {
            "_dom_classes": [],
            "_model_module": "@jupyter-widgets/controls",
            "_model_module_version": "1.5.0",
            "_model_name": "IntSliderModel",
            "_view_count": null,
            "_view_module": "@jupyter-widgets/controls",
            "_view_module_version": "1.5.0",
            "_view_name": "IntSliderView",
            "continuous_update": true,
            "description": "Number of Agents:",
            "description_tooltip": null,
            "disabled": false,
            "layout": "IPY_MODEL_ad78d9fa0a564a3eb974db5f15bc9245",
            "max": 4,
            "min": 2,
            "orientation": "horizontal",
            "readout": true,
            "readout_format": "d",
            "step": 1,
            "style": "IPY_MODEL_48c4fe9a2dcd4a3ea0cfd2cdff0d3dfa",
            "value": 2
          }
        },
        "4c35fa2e6aee419eaae2f1c00968672a": {
          "model_module": "@jupyter-widgets/output",
          "model_name": "OutputModel",
          "model_module_version": "1.0.0",
          "state": {
            "_dom_classes": [],
            "_model_module": "@jupyter-widgets/output",
            "_model_module_version": "1.0.0",
            "_model_name": "OutputModel",
            "_view_count": null,
            "_view_module": "@jupyter-widgets/output",
            "_view_module_version": "1.0.0",
            "_view_name": "OutputView",
            "layout": "IPY_MODEL_1dda7e83db2941f4ad477391741fe410",
            "msg_id": "",
            "outputs": [
              {
                "output_type": "stream",
                "name": "stdout",
                "text": [
                  "Single-Agent Environment (State Space Size: 5, Action Space Size: 4)\n",
                  "Multi-Agent Environment (2 Agents) - Joint State Space Size: 25, Joint Action Space Size: 16\n"
                ]
              },
              {
                "output_type": "display_data",
                "data": {
                  "text/plain": "<Figure size 1500x600 with 2 Axes>",
                  "image/png": "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\n"
                },
                "metadata": {}
              }
            ]
          }
        },
        "49242fa4820548c1a08d940cc59ddc1a": {
          "model_module": "@jupyter-widgets/base",
          "model_name": "LayoutModel",
          "model_module_version": "1.2.0",
          "state": {
            "_model_module": "@jupyter-widgets/base",
            "_model_module_version": "1.2.0",
            "_model_name": "LayoutModel",
            "_view_count": null,
            "_view_module": "@jupyter-widgets/base",
            "_view_module_version": "1.2.0",
            "_view_name": "LayoutView",
            "align_content": null,
            "align_items": null,
            "align_self": null,
            "border": null,
            "bottom": null,
            "display": null,
            "flex": null,
            "flex_flow": null,
            "grid_area": null,
            "grid_auto_columns": null,
            "grid_auto_flow": null,
            "grid_auto_rows": null,
            "grid_column": null,
            "grid_gap": null,
            "grid_row": null,
            "grid_template_areas": null,
            "grid_template_columns": null,
            "grid_template_rows": null,
            "height": null,
            "justify_content": null,
            "justify_items": null,
            "left": null,
            "margin": null,
            "max_height": null,
            "max_width": null,
            "min_height": null,
            "min_width": null,
            "object_fit": null,
            "object_position": null,
            "order": null,
            "overflow": null,
            "overflow_x": null,
            "overflow_y": null,
            "padding": null,
            "right": null,
            "top": null,
            "visibility": null,
            "width": null
          }
        },
        "ad78d9fa0a564a3eb974db5f15bc9245": {
          "model_module": "@jupyter-widgets/base",
          "model_name": "LayoutModel",
          "model_module_version": "1.2.0",
          "state": {
            "_model_module": "@jupyter-widgets/base",
            "_model_module_version": "1.2.0",
            "_model_name": "LayoutModel",
            "_view_count": null,
            "_view_module": "@jupyter-widgets/base",
            "_view_module_version": "1.2.0",
            "_view_name": "LayoutView",
            "align_content": null,
            "align_items": null,
            "align_self": null,
            "border": null,
            "bottom": null,
            "display": null,
            "flex": null,
            "flex_flow": null,
            "grid_area": null,
            "grid_auto_columns": null,
            "grid_auto_flow": null,
            "grid_auto_rows": null,
            "grid_column": null,
            "grid_gap": null,
            "grid_row": null,
            "grid_template_areas": null,
            "grid_template_columns": null,
            "grid_template_rows": null,
            "height": null,
            "justify_content": null,
            "justify_items": null,
            "left": null,
            "margin": null,
            "max_height": null,
            "max_width": null,
            "min_height": null,
            "min_width": null,
            "object_fit": null,
            "object_position": null,
            "order": null,
            "overflow": null,
            "overflow_x": null,
            "overflow_y": null,
            "padding": null,
            "right": null,
            "top": null,
            "visibility": null,
            "width": null
          }
        },
        "48c4fe9a2dcd4a3ea0cfd2cdff0d3dfa": {
          "model_module": "@jupyter-widgets/controls",
          "model_name": "SliderStyleModel",
          "model_module_version": "1.5.0",
          "state": {
            "_model_module": "@jupyter-widgets/controls",
            "_model_module_version": "1.5.0",
            "_model_name": "SliderStyleModel",
            "_view_count": null,
            "_view_module": "@jupyter-widgets/base",
            "_view_module_version": "1.2.0",
            "_view_name": "StyleView",
            "description_width": "initial",
            "handle_color": null
          }
        },
        "1dda7e83db2941f4ad477391741fe410": {
          "model_module": "@jupyter-widgets/base",
          "model_name": "LayoutModel",
          "model_module_version": "1.2.0",
          "state": {
            "_model_module": "@jupyter-widgets/base",
            "_model_module_version": "1.2.0",
            "_model_name": "LayoutModel",
            "_view_count": null,
            "_view_module": "@jupyter-widgets/base",
            "_view_module_version": "1.2.0",
            "_view_name": "LayoutView",
            "align_content": null,
            "align_items": null,
            "align_self": null,
            "border": null,
            "bottom": null,
            "display": null,
            "flex": null,
            "flex_flow": null,
            "grid_area": null,
            "grid_auto_columns": null,
            "grid_auto_flow": null,
            "grid_auto_rows": null,
            "grid_column": null,
            "grid_gap": null,
            "grid_row": null,
            "grid_template_areas": null,
            "grid_template_columns": null,
            "grid_template_rows": null,
            "height": null,
            "justify_content": null,
            "justify_items": null,
            "left": null,
            "margin": null,
            "max_height": null,
            "max_width": null,
            "min_height": null,
            "min_width": null,
            "object_fit": null,
            "object_position": null,
            "order": null,
            "overflow": null,
            "overflow_x": null,
            "overflow_y": null,
            "padding": null,
            "right": null,
            "top": null,
            "visibility": null,
            "width": null
          }
        },
        "330be2a9fb6a4c37bedc6bacbe9bd624": {
          "model_module": "@jupyter-widgets/controls",
          "model_name": "VBoxModel",
          "model_module_version": "1.5.0",
          "state": {
            "_dom_classes": [
              "widget-interact"
            ],
            "_model_module": "@jupyter-widgets/controls",
            "_model_module_version": "1.5.0",
            "_model_name": "VBoxModel",
            "_view_count": null,
            "_view_module": "@jupyter-widgets/controls",
            "_view_module_version": "1.5.0",
            "_view_name": "VBoxView",
            "box_style": "",
            "children": [
              "IPY_MODEL_0dfe1e7016bb47aaab93e8e6e14c65a2",
              "IPY_MODEL_cd4ab5b441f94e63a4bed684ddf06787"
            ],
            "layout": "IPY_MODEL_3b42ffab0fc645e59501f5bc0c37de07"
          }
        },
        "0dfe1e7016bb47aaab93e8e6e14c65a2": {
          "model_module": "@jupyter-widgets/controls",
          "model_name": "DropdownModel",
          "model_module_version": "1.5.0",
          "state": {
            "_dom_classes": [],
            "_model_module": "@jupyter-widgets/controls",
            "_model_module_version": "1.5.0",
            "_model_name": "DropdownModel",
            "_options_labels": [
              "Competitive",
              "Cooperative",
              "Mixed"
            ],
            "_view_count": null,
            "_view_module": "@jupyter-widgets/controls",
            "_view_module_version": "1.5.0",
            "_view_name": "DropdownView",
            "description": "marl_type",
            "description_tooltip": null,
            "disabled": false,
            "index": 0,
            "layout": "IPY_MODEL_16669aef13254df08104256d771778ab",
            "style": "IPY_MODEL_46ab0f68a6184c38b692e3f1dbfe4843"
          }
        },
        "cd4ab5b441f94e63a4bed684ddf06787": {
          "model_module": "@jupyter-widgets/output",
          "model_name": "OutputModel",
          "model_module_version": "1.0.0",
          "state": {
            "_dom_classes": [],
            "_model_module": "@jupyter-widgets/output",
            "_model_module_version": "1.0.0",
            "_model_name": "OutputModel",
            "_view_count": null,
            "_view_module": "@jupyter-widgets/output",
            "_view_module_version": "1.0.0",
            "_view_name": "OutputView",
            "layout": "IPY_MODEL_a9b34dcc85e9432eadfbead5481dd9dd",
            "msg_id": "",
            "outputs": [
              {
                "output_type": "display_data",
                "data": {
                  "text/plain": "<IPython.core.display.Markdown object>",
                  "text/markdown": "\n            Competitive MARL\n            - Payoff Matrix: A zero-sum game where the total payoff across all players is zero.\n            - Key Characteristic: One player's gain is another player's loss.\n            - Example: Two-player games like chess, where players are directly competing.\n            "
                },
                "metadata": {}
              },
              {
                "output_type": "display_data",
                "data": {
                  "text/plain": "<Figure size 600x400 with 2 Axes>",
                  "image/png": "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\n"
                },
                "metadata": {}
              }
            ]
          }
        },
        "3b42ffab0fc645e59501f5bc0c37de07": {
          "model_module": "@jupyter-widgets/base",
          "model_name": "LayoutModel",
          "model_module_version": "1.2.0",
          "state": {
            "_model_module": "@jupyter-widgets/base",
            "_model_module_version": "1.2.0",
            "_model_name": "LayoutModel",
            "_view_count": null,
            "_view_module": "@jupyter-widgets/base",
            "_view_module_version": "1.2.0",
            "_view_name": "LayoutView",
            "align_content": null,
            "align_items": null,
            "align_self": null,
            "border": null,
            "bottom": null,
            "display": null,
            "flex": null,
            "flex_flow": null,
            "grid_area": null,
            "grid_auto_columns": null,
            "grid_auto_flow": null,
            "grid_auto_rows": null,
            "grid_column": null,
            "grid_gap": null,
            "grid_row": null,
            "grid_template_areas": null,
            "grid_template_columns": null,
            "grid_template_rows": null,
            "height": null,
            "justify_content": null,
            "justify_items": null,
            "left": null,
            "margin": null,
            "max_height": null,
            "max_width": null,
            "min_height": null,
            "min_width": null,
            "object_fit": null,
            "object_position": null,
            "order": null,
            "overflow": null,
            "overflow_x": null,
            "overflow_y": null,
            "padding": null,
            "right": null,
            "top": null,
            "visibility": null,
            "width": null
          }
        },
        "16669aef13254df08104256d771778ab": {
          "model_module": "@jupyter-widgets/base",
          "model_name": "LayoutModel",
          "model_module_version": "1.2.0",
          "state": {
            "_model_module": "@jupyter-widgets/base",
            "_model_module_version": "1.2.0",
            "_model_name": "LayoutModel",
            "_view_count": null,
            "_view_module": "@jupyter-widgets/base",
            "_view_module_version": "1.2.0",
            "_view_name": "LayoutView",
            "align_content": null,
            "align_items": null,
            "align_self": null,
            "border": null,
            "bottom": null,
            "display": null,
            "flex": null,
            "flex_flow": null,
            "grid_area": null,
            "grid_auto_columns": null,
            "grid_auto_flow": null,
            "grid_auto_rows": null,
            "grid_column": null,
            "grid_gap": null,
            "grid_row": null,
            "grid_template_areas": null,
            "grid_template_columns": null,
            "grid_template_rows": null,
            "height": null,
            "justify_content": null,
            "justify_items": null,
            "left": null,
            "margin": null,
            "max_height": null,
            "max_width": null,
            "min_height": null,
            "min_width": null,
            "object_fit": null,
            "object_position": null,
            "order": null,
            "overflow": null,
            "overflow_x": null,
            "overflow_y": null,
            "padding": null,
            "right": null,
            "top": null,
            "visibility": null,
            "width": null
          }
        },
        "46ab0f68a6184c38b692e3f1dbfe4843": {
          "model_module": "@jupyter-widgets/controls",
          "model_name": "DescriptionStyleModel",
          "model_module_version": "1.5.0",
          "state": {
            "_model_module": "@jupyter-widgets/controls",
            "_model_module_version": "1.5.0",
            "_model_name": "DescriptionStyleModel",
            "_view_count": null,
            "_view_module": "@jupyter-widgets/base",
            "_view_module_version": "1.2.0",
            "_view_name": "StyleView",
            "description_width": ""
          }
        },
        "a9b34dcc85e9432eadfbead5481dd9dd": {
          "model_module": "@jupyter-widgets/base",
          "model_name": "LayoutModel",
          "model_module_version": "1.2.0",
          "state": {
            "_model_module": "@jupyter-widgets/base",
            "_model_module_version": "1.2.0",
            "_model_name": "LayoutModel",
            "_view_count": null,
            "_view_module": "@jupyter-widgets/base",
            "_view_module_version": "1.2.0",
            "_view_name": "LayoutView",
            "align_content": null,
            "align_items": null,
            "align_self": null,
            "border": null,
            "bottom": null,
            "display": null,
            "flex": null,
            "flex_flow": null,
            "grid_area": null,
            "grid_auto_columns": null,
            "grid_auto_flow": null,
            "grid_auto_rows": null,
            "grid_column": null,
            "grid_gap": null,
            "grid_row": null,
            "grid_template_areas": null,
            "grid_template_columns": null,
            "grid_template_rows": null,
            "height": null,
            "justify_content": null,
            "justify_items": null,
            "left": null,
            "margin": null,
            "max_height": null,
            "max_width": null,
            "min_height": null,
            "min_width": null,
            "object_fit": null,
            "object_position": null,
            "order": null,
            "overflow": null,
            "overflow_x": null,
            "overflow_y": null,
            "padding": null,
            "right": null,
            "top": null,
            "visibility": null,
            "width": null
          }
        },
        "66baaf78d41a4335a4f4e43e73251503": {
          "model_module": "@jupyter-widgets/controls",
          "model_name": "VBoxModel",
          "model_module_version": "1.5.0",
          "state": {
            "_dom_classes": [
              "widget-interact"
            ],
            "_model_module": "@jupyter-widgets/controls",
            "_model_module_version": "1.5.0",
            "_model_name": "VBoxModel",
            "_view_count": null,
            "_view_module": "@jupyter-widgets/controls",
            "_view_module_version": "1.5.0",
            "_view_name": "VBoxView",
            "box_style": "",
            "children": [
              "IPY_MODEL_933f225fd224402f8a46648e464599db",
              "IPY_MODEL_05f1710e7cbd4ce6927d6fef968e2a94",
              "IPY_MODEL_a4d81e47193948e08f8b40adac4c9a15"
            ],
            "layout": "IPY_MODEL_9c5b8f2e17134aa283d6ab7d4951a2c3"
          }
        },
        "933f225fd224402f8a46648e464599db": {
          "model_module": "@jupyter-widgets/controls",
          "model_name": "IntSliderModel",
          "model_module_version": "1.5.0",
          "state": {
            "_dom_classes": [],
            "_model_module": "@jupyter-widgets/controls",
            "_model_module_version": "1.5.0",
            "_model_name": "IntSliderModel",
            "_view_count": null,
            "_view_module": "@jupyter-widgets/controls",
            "_view_module_version": "1.5.0",
            "_view_name": "IntSliderView",
            "continuous_update": true,
            "description": "N_agents",
            "description_tooltip": null,
            "disabled": false,
            "layout": "IPY_MODEL_bfc16df018874d848d2bec7a63783b6a",
            "max": 10,
            "min": 2,
            "orientation": "horizontal",
            "readout": true,
            "readout_format": "d",
            "step": 1,
            "style": "IPY_MODEL_a1f0177eebf744d5bdce16440e636577",
            "value": 2
          }
        },
        "05f1710e7cbd4ce6927d6fef968e2a94": {
          "model_module": "@jupyter-widgets/controls",
          "model_name": "IntSliderModel",
          "model_module_version": "1.5.0",
          "state": {
            "_dom_classes": [],
            "_model_module": "@jupyter-widgets/controls",
            "_model_module_version": "1.5.0",
            "_model_name": "IntSliderModel",
            "_view_count": null,
            "_view_module": "@jupyter-widgets/controls",
            "_view_module_version": "1.5.0",
            "_view_name": "IntSliderView",
            "continuous_update": true,
            "description": "steps",
            "description_tooltip": null,
            "disabled": false,
            "layout": "IPY_MODEL_390d056b3e294db3be57bd2efa8f2b92",
            "max": 500,
            "min": 100,
            "orientation": "horizontal",
            "readout": true,
            "readout_format": "d",
            "step": 10,
            "style": "IPY_MODEL_c7c0938ec27e401d86e35e009657bb2b",
            "value": 100
          }
        },
        "a4d81e47193948e08f8b40adac4c9a15": {
          "model_module": "@jupyter-widgets/output",
          "model_name": "OutputModel",
          "model_module_version": "1.0.0",
          "state": {
            "_dom_classes": [],
            "_model_module": "@jupyter-widgets/output",
            "_model_module_version": "1.0.0",
            "_model_name": "OutputModel",
            "_view_count": null,
            "_view_module": "@jupyter-widgets/output",
            "_view_module_version": "1.0.0",
            "_view_name": "OutputView",
            "layout": "IPY_MODEL_7279285ce27b452daa5fc2674b2f3c95",
            "msg_id": "",
            "outputs": [
              {
                "output_type": "display_data",
                "data": {
                  "text/plain": "<Figure size 1000x600 with 1 Axes>",
                  "image/png": "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\n"
                },
                "metadata": {}
              },
              {
                "output_type": "display_data",
                "data": {
                  "text/plain": "<IPython.core.display.Markdown object>",
                  "text/markdown": "### **Single-Agent Animation**"
                },
                "metadata": {}
              },
              {
                "output_type": "display_data",
                "data": {
                  "image/gif": "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\n",
                  "text/plain": "<IPython.core.display.Image object>"
                },
                "metadata": {}
              },
              {
                "output_type": "display_data",
                "data": {
                  "text/plain": "<IPython.core.display.Markdown object>",
                  "text/markdown": "### **Multi-Agent Animation (N=2)**"
                },
                "metadata": {}
              },
              {
                "output_type": "display_data",
                "data": {
                  "image/gif": "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\n",
                  "text/plain": "<IPython.core.display.Image object>"
                },
                "metadata": {}
              }
            ]
          }
        },
        "9c5b8f2e17134aa283d6ab7d4951a2c3": {
          "model_module": "@jupyter-widgets/base",
          "model_name": "LayoutModel",
          "model_module_version": "1.2.0",
          "state": {
            "_model_module": "@jupyter-widgets/base",
            "_model_module_version": "1.2.0",
            "_model_name": "LayoutModel",
            "_view_count": null,
            "_view_module": "@jupyter-widgets/base",
            "_view_module_version": "1.2.0",
            "_view_name": "LayoutView",
            "align_content": null,
            "align_items": null,
            "align_self": null,
            "border": null,
            "bottom": null,
            "display": null,
            "flex": null,
            "flex_flow": null,
            "grid_area": null,
            "grid_auto_columns": null,
            "grid_auto_flow": null,
            "grid_auto_rows": null,
            "grid_column": null,
            "grid_gap": null,
            "grid_row": null,
            "grid_template_areas": null,
            "grid_template_columns": null,
            "grid_template_rows": null,
            "height": null,
            "justify_content": null,
            "justify_items": null,
            "left": null,
            "margin": null,
            "max_height": null,
            "max_width": null,
            "min_height": null,
            "min_width": null,
            "object_fit": null,
            "object_position": null,
            "order": null,
            "overflow": null,
            "overflow_x": null,
            "overflow_y": null,
            "padding": null,
            "right": null,
            "top": null,
            "visibility": null,
            "width": null
          }
        },
        "bfc16df018874d848d2bec7a63783b6a": {
          "model_module": "@jupyter-widgets/base",
          "model_name": "LayoutModel",
          "model_module_version": "1.2.0",
          "state": {
            "_model_module": "@jupyter-widgets/base",
            "_model_module_version": "1.2.0",
            "_model_name": "LayoutModel",
            "_view_count": null,
            "_view_module": "@jupyter-widgets/base",
            "_view_module_version": "1.2.0",
            "_view_name": "LayoutView",
            "align_content": null,
            "align_items": null,
            "align_self": null,
            "border": null,
            "bottom": null,
            "display": null,
            "flex": null,
            "flex_flow": null,
            "grid_area": null,
            "grid_auto_columns": null,
            "grid_auto_flow": null,
            "grid_auto_rows": null,
            "grid_column": null,
            "grid_gap": null,
            "grid_row": null,
            "grid_template_areas": null,
            "grid_template_columns": null,
            "grid_template_rows": null,
            "height": null,
            "justify_content": null,
            "justify_items": null,
            "left": null,
            "margin": null,
            "max_height": null,
            "max_width": null,
            "min_height": null,
            "min_width": null,
            "object_fit": null,
            "object_position": null,
            "order": null,
            "overflow": null,
            "overflow_x": null,
            "overflow_y": null,
            "padding": null,
            "right": null,
            "top": null,
            "visibility": null,
            "width": null
          }
        },
        "a1f0177eebf744d5bdce16440e636577": {
          "model_module": "@jupyter-widgets/controls",
          "model_name": "SliderStyleModel",
          "model_module_version": "1.5.0",
          "state": {
            "_model_module": "@jupyter-widgets/controls",
            "_model_module_version": "1.5.0",
            "_model_name": "SliderStyleModel",
            "_view_count": null,
            "_view_module": "@jupyter-widgets/base",
            "_view_module_version": "1.2.0",
            "_view_name": "StyleView",
            "description_width": "",
            "handle_color": null
          }
        },
        "390d056b3e294db3be57bd2efa8f2b92": {
          "model_module": "@jupyter-widgets/base",
          "model_name": "LayoutModel",
          "model_module_version": "1.2.0",
          "state": {
            "_model_module": "@jupyter-widgets/base",
            "_model_module_version": "1.2.0",
            "_model_name": "LayoutModel",
            "_view_count": null,
            "_view_module": "@jupyter-widgets/base",
            "_view_module_version": "1.2.0",
            "_view_name": "LayoutView",
            "align_content": null,
            "align_items": null,
            "align_self": null,
            "border": null,
            "bottom": null,
            "display": null,
            "flex": null,
            "flex_flow": null,
            "grid_area": null,
            "grid_auto_columns": null,
            "grid_auto_flow": null,
            "grid_auto_rows": null,
            "grid_column": null,
            "grid_gap": null,
            "grid_row": null,
            "grid_template_areas": null,
            "grid_template_columns": null,
            "grid_template_rows": null,
            "height": null,
            "justify_content": null,
            "justify_items": null,
            "left": null,
            "margin": null,
            "max_height": null,
            "max_width": null,
            "min_height": null,
            "min_width": null,
            "object_fit": null,
            "object_position": null,
            "order": null,
            "overflow": null,
            "overflow_x": null,
            "overflow_y": null,
            "padding": null,
            "right": null,
            "top": null,
            "visibility": null,
            "width": null
          }
        },
        "c7c0938ec27e401d86e35e009657bb2b": {
          "model_module": "@jupyter-widgets/controls",
          "model_name": "SliderStyleModel",
          "model_module_version": "1.5.0",
          "state": {
            "_model_module": "@jupyter-widgets/controls",
            "_model_module_version": "1.5.0",
            "_model_name": "SliderStyleModel",
            "_view_count": null,
            "_view_module": "@jupyter-widgets/base",
            "_view_module_version": "1.2.0",
            "_view_name": "StyleView",
            "description_width": "",
            "handle_color": null
          }
        },
        "7279285ce27b452daa5fc2674b2f3c95": {
          "model_module": "@jupyter-widgets/base",
          "model_name": "LayoutModel",
          "model_module_version": "1.2.0",
          "state": {
            "_model_module": "@jupyter-widgets/base",
            "_model_module_version": "1.2.0",
            "_model_name": "LayoutModel",
            "_view_count": null,
            "_view_module": "@jupyter-widgets/base",
            "_view_module_version": "1.2.0",
            "_view_name": "LayoutView",
            "align_content": null,
            "align_items": null,
            "align_self": null,
            "border": null,
            "bottom": null,
            "display": null,
            "flex": null,
            "flex_flow": null,
            "grid_area": null,
            "grid_auto_columns": null,
            "grid_auto_flow": null,
            "grid_auto_rows": null,
            "grid_column": null,
            "grid_gap": null,
            "grid_row": null,
            "grid_template_areas": null,
            "grid_template_columns": null,
            "grid_template_rows": null,
            "height": null,
            "justify_content": null,
            "justify_items": null,
            "left": null,
            "margin": null,
            "max_height": null,
            "max_width": null,
            "min_height": null,
            "min_width": null,
            "object_fit": null,
            "object_position": null,
            "order": null,
            "overflow": null,
            "overflow_x": null,
            "overflow_y": null,
            "padding": null,
            "right": null,
            "top": null,
            "visibility": null,
            "width": null
          }
        },
        "c0356060cfd54213bcf6496b40cfd118": {
          "model_module": "@jupyter-widgets/controls",
          "model_name": "DropdownModel",
          "model_module_version": "1.5.0",
          "state": {
            "_dom_classes": [],
            "_model_module": "@jupyter-widgets/controls",
            "_model_module_version": "1.5.0",
            "_model_name": "DropdownModel",
            "_options_labels": [
              "Robotics",
              "Autonomous Vehicles",
              "Energy Systems",
              "Healthcare"
            ],
            "_view_count": null,
            "_view_module": "@jupyter-widgets/controls",
            "_view_module_version": "1.5.0",
            "_view_name": "DropdownView",
            "description": "Domain:",
            "description_tooltip": null,
            "disabled": false,
            "index": 0,
            "layout": "IPY_MODEL_0a07d00ef348498b945f9704b641a0b8",
            "style": "IPY_MODEL_58dd19b113464218b761031b76bc27a2"
          }
        },
        "0a07d00ef348498b945f9704b641a0b8": {
          "model_module": "@jupyter-widgets/base",
          "model_name": "LayoutModel",
          "model_module_version": "1.2.0",
          "state": {
            "_model_module": "@jupyter-widgets/base",
            "_model_module_version": "1.2.0",
            "_model_name": "LayoutModel",
            "_view_count": null,
            "_view_module": "@jupyter-widgets/base",
            "_view_module_version": "1.2.0",
            "_view_name": "LayoutView",
            "align_content": null,
            "align_items": null,
            "align_self": null,
            "border": null,
            "bottom": null,
            "display": null,
            "flex": null,
            "flex_flow": null,
            "grid_area": null,
            "grid_auto_columns": null,
            "grid_auto_flow": null,
            "grid_auto_rows": null,
            "grid_column": null,
            "grid_gap": null,
            "grid_row": null,
            "grid_template_areas": null,
            "grid_template_columns": null,
            "grid_template_rows": null,
            "height": null,
            "justify_content": null,
            "justify_items": null,
            "left": null,
            "margin": null,
            "max_height": null,
            "max_width": null,
            "min_height": null,
            "min_width": null,
            "object_fit": null,
            "object_position": null,
            "order": null,
            "overflow": null,
            "overflow_x": null,
            "overflow_y": null,
            "padding": null,
            "right": null,
            "top": null,
            "visibility": null,
            "width": null
          }
        },
        "58dd19b113464218b761031b76bc27a2": {
          "model_module": "@jupyter-widgets/controls",
          "model_name": "DescriptionStyleModel",
          "model_module_version": "1.5.0",
          "state": {
            "_model_module": "@jupyter-widgets/controls",
            "_model_module_version": "1.5.0",
            "_model_name": "DescriptionStyleModel",
            "_view_count": null,
            "_view_module": "@jupyter-widgets/base",
            "_view_module_version": "1.2.0",
            "_view_name": "StyleView",
            "description_width": ""
          }
        },
        "3be9bdd389194573868e70d37005f127": {
          "model_module": "@jupyter-widgets/output",
          "model_name": "OutputModel",
          "model_module_version": "1.0.0",
          "state": {
            "_dom_classes": [],
            "_model_module": "@jupyter-widgets/output",
            "_model_module_version": "1.0.0",
            "_model_name": "OutputModel",
            "_view_count": null,
            "_view_module": "@jupyter-widgets/output",
            "_view_module_version": "1.0.0",
            "_view_name": "OutputView",
            "layout": "IPY_MODEL_bdf619aa982b4ef7a43e4669bc070ab2",
            "msg_id": "",
            "outputs": []
          }
        },
        "bdf619aa982b4ef7a43e4669bc070ab2": {
          "model_module": "@jupyter-widgets/base",
          "model_name": "LayoutModel",
          "model_module_version": "1.2.0",
          "state": {
            "_model_module": "@jupyter-widgets/base",
            "_model_module_version": "1.2.0",
            "_model_name": "LayoutModel",
            "_view_count": null,
            "_view_module": "@jupyter-widgets/base",
            "_view_module_version": "1.2.0",
            "_view_name": "LayoutView",
            "align_content": null,
            "align_items": null,
            "align_self": null,
            "border": null,
            "bottom": null,
            "display": null,
            "flex": null,
            "flex_flow": null,
            "grid_area": null,
            "grid_auto_columns": null,
            "grid_auto_flow": null,
            "grid_auto_rows": null,
            "grid_column": null,
            "grid_gap": null,
            "grid_row": null,
            "grid_template_areas": null,
            "grid_template_columns": null,
            "grid_template_rows": null,
            "height": null,
            "justify_content": null,
            "justify_items": null,
            "left": null,
            "margin": null,
            "max_height": null,
            "max_width": null,
            "min_height": null,
            "min_width": null,
            "object_fit": null,
            "object_position": null,
            "order": null,
            "overflow": null,
            "overflow_x": null,
            "overflow_y": null,
            "padding": null,
            "right": null,
            "top": null,
            "visibility": null,
            "width": null
          }
        }
      }
    }
  },
  "nbformat": 4,
  "nbformat_minor": 0
}