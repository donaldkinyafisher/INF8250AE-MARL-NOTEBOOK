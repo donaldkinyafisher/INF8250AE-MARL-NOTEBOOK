{
  "cells": [
    {
      "cell_type": "markdown",
      "metadata": {
        "id": "view-in-github",
        "colab_type": "text"
      },
      "source": [
        "<a href=\"https://colab.research.google.com/github/donaldkinyafisher/INF8250AE-MARL-NOTEBOOK/blob/main/multiagent-rl-tutorial.ipynb\" target=\"_parent\"><img src=\"https://colab.research.google.com/assets/colab-badge.svg\" alt=\"Open In Colab\"/></a>"
      ]
    },
    {
      "cell_type": "markdown",
      "source": [
        "# Setup, Install and  Import"
      ],
      "metadata": {
        "id": "uJUi-Mh-ItLp"
      }
    },
    {
      "cell_type": "code",
      "source": [
        "!rm -rf INF8250AE_MARL_NOTEBOOK\n",
        "!git clone https://github.com/donaldkinyafisher/INF8250AE-MARL-NOTEBOOK.git"
      ],
      "metadata": {
        "colab": {
          "base_uri": "https://localhost:8080/"
        },
        "outputId": "7f601f96-7b16-4a24-994b-6168d439f751",
        "id": "XTspNhr9SY4q"
      },
      "execution_count": null,
      "outputs": [
        {
          "output_type": "stream",
          "name": "stdout",
          "text": [
            "fatal: destination path 'INF8250AE-MARL-NOTEBOOK' already exists and is not an empty directory.\n"
          ]
        }
      ]
    },
    {
      "cell_type": "code",
      "source": [
        "\n",
        "# @title Setup Install and Import\n",
        "\n",
        "#Install dependences\n",
        "!pip install -r INF8250AE-MARL-NOTEBOOK/requirements.txt\n",
        "!pip install pettingzoo\n",
        "\n",
        "import numpy as np\n",
        "import matplotlib.pyplot as plt\n",
        "from matplotlib.patches import Circle, Rectangle, Arrow, ConnectionPatch\n",
        "import seaborn as sns\n",
        "from IPython.display import HTML, display, Markdown, Math, Image\n",
        "import ipywidgets as widgets\n",
        "from ipywidgets import interact, interactive, fixed, interact_manual\n",
        "import plotly.graph_objects as go\n",
        "import plotly.express as px\n",
        "import numpy as np\n",
        "import matplotlib.pyplot as plt\n",
        "from pettingzoo.mpe import simple_spread_v3\n",
        "from PIL import Image as PILImage\n",
        "import os\n",
        "import torch"
      ],
      "metadata": {
        "id": "qjWfywJ0JRQa",
        "colab": {
          "base_uri": "https://localhost:8080/"
        },
        "outputId": "8a66ce34-f33b-42c8-a0a2-170fec5007d6"
      },
      "execution_count": null,
      "outputs": [
        {
          "output_type": "stream",
          "name": "stdout",
          "text": [
            "Requirement already satisfied: PettingZoo>=1.24.0 in /usr/local/lib/python3.10/dist-packages (from PettingZoo[butterfly,classic]>=1.24.0->-r INF8250AE-MARL-NOTEBOOK/requirements.txt (line 1)) (1.24.3)\n",
            "Requirement already satisfied: Pillow>=9.4.0 in /usr/local/lib/python3.10/dist-packages (from -r INF8250AE-MARL-NOTEBOOK/requirements.txt (line 2)) (11.0.0)\n",
            "Collecting ray==2.7.0 (from ray[rllib]==2.7.0->-r INF8250AE-MARL-NOTEBOOK/requirements.txt (line 3))\n",
            "  Using cached ray-2.7.0-cp310-cp310-manylinux2014_x86_64.whl.metadata (13 kB)\n",
            "Collecting SuperSuit>=3.9.0 (from -r INF8250AE-MARL-NOTEBOOK/requirements.txt (line 4))\n",
            "  Using cached SuperSuit-3.9.3-py3-none-any.whl.metadata (3.2 kB)\n",
            "Requirement already satisfied: torch>=1.13.1 in /usr/local/lib/python3.10/dist-packages (from -r INF8250AE-MARL-NOTEBOOK/requirements.txt (line 5)) (2.5.1+cu121)\n",
            "Requirement already satisfied: tensorflow-probability>=0.19.0 in /usr/local/lib/python3.10/dist-packages (from -r INF8250AE-MARL-NOTEBOOK/requirements.txt (line 6)) (0.24.0)\n",
            "Requirement already satisfied: gymnasium in /usr/local/lib/python3.10/dist-packages (from -r INF8250AE-MARL-NOTEBOOK/requirements.txt (line 7)) (1.0.0)\n",
            "Requirement already satisfied: matplotlib in /usr/local/lib/python3.10/dist-packages (from -r INF8250AE-MARL-NOTEBOOK/requirements.txt (line 8)) (3.8.0)\n",
            "Requirement already satisfied: numpy in /usr/local/lib/python3.10/dist-packages (from -r INF8250AE-MARL-NOTEBOOK/requirements.txt (line 9)) (1.26.4)\n",
            "Collecting stable-baselines3 (from -r INF8250AE-MARL-NOTEBOOK/requirements.txt (line 10))\n",
            "  Using cached stable_baselines3-2.4.0-py3-none-any.whl.metadata (4.5 kB)\n",
            "Collecting shimmy>=2.0 (from -r INF8250AE-MARL-NOTEBOOK/requirements.txt (line 11))\n",
            "  Using cached Shimmy-2.0.0-py3-none-any.whl.metadata (3.5 kB)\n",
            "Requirement already satisfied: click>=7.0 in /usr/local/lib/python3.10/dist-packages (from ray==2.7.0->ray[rllib]==2.7.0->-r INF8250AE-MARL-NOTEBOOK/requirements.txt (line 3)) (8.1.7)\n",
            "Requirement already satisfied: filelock in /usr/local/lib/python3.10/dist-packages (from ray==2.7.0->ray[rllib]==2.7.0->-r INF8250AE-MARL-NOTEBOOK/requirements.txt (line 3)) (3.16.1)\n",
            "Requirement already satisfied: jsonschema in /usr/local/lib/python3.10/dist-packages (from ray==2.7.0->ray[rllib]==2.7.0->-r INF8250AE-MARL-NOTEBOOK/requirements.txt (line 3)) (4.23.0)\n",
            "Requirement already satisfied: msgpack<2.0.0,>=1.0.0 in /usr/local/lib/python3.10/dist-packages (from ray==2.7.0->ray[rllib]==2.7.0->-r INF8250AE-MARL-NOTEBOOK/requirements.txt (line 3)) (1.1.0)\n",
            "Requirement already satisfied: packaging in /usr/local/lib/python3.10/dist-packages (from ray==2.7.0->ray[rllib]==2.7.0->-r INF8250AE-MARL-NOTEBOOK/requirements.txt (line 3)) (24.2)\n",
            "Requirement already satisfied: protobuf!=3.19.5,>=3.15.3 in /usr/local/lib/python3.10/dist-packages (from ray==2.7.0->ray[rllib]==2.7.0->-r INF8250AE-MARL-NOTEBOOK/requirements.txt (line 3)) (4.25.5)\n",
            "Requirement already satisfied: pyyaml in /usr/local/lib/python3.10/dist-packages (from ray==2.7.0->ray[rllib]==2.7.0->-r INF8250AE-MARL-NOTEBOOK/requirements.txt (line 3)) (6.0.2)\n",
            "Requirement already satisfied: aiosignal in /usr/local/lib/python3.10/dist-packages (from ray==2.7.0->ray[rllib]==2.7.0->-r INF8250AE-MARL-NOTEBOOK/requirements.txt (line 3)) (1.3.2)\n",
            "Requirement already satisfied: frozenlist in /usr/local/lib/python3.10/dist-packages (from ray==2.7.0->ray[rllib]==2.7.0->-r INF8250AE-MARL-NOTEBOOK/requirements.txt (line 3)) (1.5.0)\n",
            "Requirement already satisfied: requests in /usr/local/lib/python3.10/dist-packages (from ray==2.7.0->ray[rllib]==2.7.0->-r INF8250AE-MARL-NOTEBOOK/requirements.txt (line 3)) (2.32.3)\n",
            "Requirement already satisfied: pandas in /usr/local/lib/python3.10/dist-packages (from ray[rllib]==2.7.0->-r INF8250AE-MARL-NOTEBOOK/requirements.txt (line 3)) (2.2.2)\n",
            "Collecting tensorboardX>=1.9 (from ray[rllib]==2.7.0->-r INF8250AE-MARL-NOTEBOOK/requirements.txt (line 3))\n",
            "  Using cached tensorboardX-2.6.2.2-py2.py3-none-any.whl.metadata (5.8 kB)\n",
            "Requirement already satisfied: pyarrow>=6.0.1 in /usr/local/lib/python3.10/dist-packages (from ray[rllib]==2.7.0->-r INF8250AE-MARL-NOTEBOOK/requirements.txt (line 3)) (17.0.0)\n",
            "Requirement already satisfied: fsspec in /usr/local/lib/python3.10/dist-packages (from ray[rllib]==2.7.0->-r INF8250AE-MARL-NOTEBOOK/requirements.txt (line 3)) (2024.10.0)\n",
            "Requirement already satisfied: dm-tree in /usr/local/lib/python3.10/dist-packages (from ray[rllib]==2.7.0->-r INF8250AE-MARL-NOTEBOOK/requirements.txt (line 3)) (0.1.8)\n",
            "Collecting gymnasium (from -r INF8250AE-MARL-NOTEBOOK/requirements.txt (line 7))\n",
            "  Using cached gymnasium-0.28.1-py3-none-any.whl.metadata (9.2 kB)\n",
            "Collecting lz4 (from ray[rllib]==2.7.0->-r INF8250AE-MARL-NOTEBOOK/requirements.txt (line 3))\n",
            "  Using cached lz4-4.3.3-cp310-cp310-manylinux_2_17_x86_64.manylinux2014_x86_64.whl.metadata (3.7 kB)\n",
            "Requirement already satisfied: scikit-image in /usr/local/lib/python3.10/dist-packages (from ray[rllib]==2.7.0->-r INF8250AE-MARL-NOTEBOOK/requirements.txt (line 3)) (0.25.0)\n",
            "Requirement already satisfied: scipy in /usr/local/lib/python3.10/dist-packages (from ray[rllib]==2.7.0->-r INF8250AE-MARL-NOTEBOOK/requirements.txt (line 3)) (1.13.1)\n",
            "Requirement already satisfied: typer in /usr/local/lib/python3.10/dist-packages (from ray[rllib]==2.7.0->-r INF8250AE-MARL-NOTEBOOK/requirements.txt (line 3)) (0.15.1)\n",
            "Requirement already satisfied: rich in /usr/local/lib/python3.10/dist-packages (from ray[rllib]==2.7.0->-r INF8250AE-MARL-NOTEBOOK/requirements.txt (line 3)) (13.9.4)\n",
            "Collecting jax-jumpy>=1.0.0 (from gymnasium->-r INF8250AE-MARL-NOTEBOOK/requirements.txt (line 7))\n",
            "  Using cached jax_jumpy-1.0.0-py3-none-any.whl.metadata (15 kB)\n",
            "Requirement already satisfied: cloudpickle>=1.2.0 in /usr/local/lib/python3.10/dist-packages (from gymnasium->-r INF8250AE-MARL-NOTEBOOK/requirements.txt (line 7)) (3.1.0)\n",
            "Requirement already satisfied: typing-extensions>=4.3.0 in /usr/local/lib/python3.10/dist-packages (from gymnasium->-r INF8250AE-MARL-NOTEBOOK/requirements.txt (line 7)) (4.12.2)\n",
            "Requirement already satisfied: farama-notifications>=0.0.1 in /usr/local/lib/python3.10/dist-packages (from gymnasium->-r INF8250AE-MARL-NOTEBOOK/requirements.txt (line 7)) (0.0.4)\n",
            "Collecting tinyscaler>=1.2.6 (from SuperSuit>=3.9.0->-r INF8250AE-MARL-NOTEBOOK/requirements.txt (line 4))\n",
            "  Using cached tinyscaler-1.2.8-cp310-cp310-manylinux_2_17_x86_64.manylinux2014_x86_64.whl.metadata (4.2 kB)\n",
            "Requirement already satisfied: networkx in /usr/local/lib/python3.10/dist-packages (from torch>=1.13.1->-r INF8250AE-MARL-NOTEBOOK/requirements.txt (line 5)) (3.4.2)\n",
            "Requirement already satisfied: jinja2 in /usr/local/lib/python3.10/dist-packages (from torch>=1.13.1->-r INF8250AE-MARL-NOTEBOOK/requirements.txt (line 5)) (3.1.4)\n",
            "Requirement already satisfied: sympy==1.13.1 in /usr/local/lib/python3.10/dist-packages (from torch>=1.13.1->-r INF8250AE-MARL-NOTEBOOK/requirements.txt (line 5)) (1.13.1)\n",
            "Requirement already satisfied: mpmath<1.4,>=1.1.0 in /usr/local/lib/python3.10/dist-packages (from sympy==1.13.1->torch>=1.13.1->-r INF8250AE-MARL-NOTEBOOK/requirements.txt (line 5)) (1.3.0)\n",
            "Requirement already satisfied: absl-py in /usr/local/lib/python3.10/dist-packages (from tensorflow-probability>=0.19.0->-r INF8250AE-MARL-NOTEBOOK/requirements.txt (line 6)) (1.4.0)\n",
            "Requirement already satisfied: six>=1.10.0 in /usr/local/lib/python3.10/dist-packages (from tensorflow-probability>=0.19.0->-r INF8250AE-MARL-NOTEBOOK/requirements.txt (line 6)) (1.17.0)\n",
            "Requirement already satisfied: decorator in /usr/local/lib/python3.10/dist-packages (from tensorflow-probability>=0.19.0->-r INF8250AE-MARL-NOTEBOOK/requirements.txt (line 6)) (4.4.2)\n",
            "Requirement already satisfied: gast>=0.3.2 in /usr/local/lib/python3.10/dist-packages (from tensorflow-probability>=0.19.0->-r INF8250AE-MARL-NOTEBOOK/requirements.txt (line 6)) (0.6.0)\n",
            "Requirement already satisfied: contourpy>=1.0.1 in /usr/local/lib/python3.10/dist-packages (from matplotlib->-r INF8250AE-MARL-NOTEBOOK/requirements.txt (line 8)) (1.3.1)\n",
            "Requirement already satisfied: cycler>=0.10 in /usr/local/lib/python3.10/dist-packages (from matplotlib->-r INF8250AE-MARL-NOTEBOOK/requirements.txt (line 8)) (0.12.1)\n",
            "Requirement already satisfied: fonttools>=4.22.0 in /usr/local/lib/python3.10/dist-packages (from matplotlib->-r INF8250AE-MARL-NOTEBOOK/requirements.txt (line 8)) (4.55.3)\n",
            "Requirement already satisfied: kiwisolver>=1.0.1 in /usr/local/lib/python3.10/dist-packages (from matplotlib->-r INF8250AE-MARL-NOTEBOOK/requirements.txt (line 8)) (1.4.7)\n",
            "Requirement already satisfied: pyparsing>=2.3.1 in /usr/local/lib/python3.10/dist-packages (from matplotlib->-r INF8250AE-MARL-NOTEBOOK/requirements.txt (line 8)) (3.2.0)\n",
            "Requirement already satisfied: python-dateutil>=2.7 in /usr/local/lib/python3.10/dist-packages (from matplotlib->-r INF8250AE-MARL-NOTEBOOK/requirements.txt (line 8)) (2.8.2)\n",
            "INFO: pip is looking at multiple versions of stable-baselines3 to determine which version is compatible with other requirements. This could take a while.\n",
            "Collecting stable-baselines3 (from -r INF8250AE-MARL-NOTEBOOK/requirements.txt (line 10))\n",
            "  Using cached stable_baselines3-2.3.2-py3-none-any.whl.metadata (5.1 kB)\n",
            "INFO: pip is looking at multiple versions of shimmy to determine which version is compatible with other requirements. This could take a while.\n",
            "  Using cached stable_baselines3-2.2.1-py3-none-any.whl.metadata (5.0 kB)\n",
            "  Using cached stable_baselines3-2.1.0-py3-none-any.whl.metadata (5.2 kB)\n",
            "  Using cached stable_baselines3-2.0.0-py3-none-any.whl.metadata (5.4 kB)\n",
            "  Using cached stable_baselines3-1.8.0-py3-none-any.whl.metadata (5.0 kB)\n",
            "Collecting gym==0.21 (from stable-baselines3->-r INF8250AE-MARL-NOTEBOOK/requirements.txt (line 10))\n",
            "  Using cached gym-0.21.0.tar.gz (1.5 MB)\n",
            "  \u001b[1;31merror\u001b[0m: \u001b[1msubprocess-exited-with-error\u001b[0m\n",
            "  \n",
            "  \u001b[31m×\u001b[0m \u001b[32mpython setup.py egg_info\u001b[0m did not run successfully.\n",
            "  \u001b[31m│\u001b[0m exit code: \u001b[1;36m1\u001b[0m\n",
            "  \u001b[31m╰─>\u001b[0m See above for output.\n",
            "  \n",
            "  \u001b[1;35mnote\u001b[0m: This error originates from a subprocess, and is likely not a problem with pip.\n",
            "  Preparing metadata (setup.py) ... \u001b[?25l\u001b[?25herror\n",
            "\u001b[1;31merror\u001b[0m: \u001b[1mmetadata-generation-failed\u001b[0m\n",
            "\n",
            "\u001b[31m×\u001b[0m Encountered error while generating package metadata.\n",
            "\u001b[31m╰─>\u001b[0m See above for output.\n",
            "\n",
            "\u001b[1;35mnote\u001b[0m: This is an issue with the package mentioned above, not pip.\n",
            "\u001b[1;36mhint\u001b[0m: See above for details.\n",
            "Requirement already satisfied: pettingzoo in /usr/local/lib/python3.10/dist-packages (1.24.3)\n",
            "Requirement already satisfied: numpy>=1.21.0 in /usr/local/lib/python3.10/dist-packages (from pettingzoo) (1.26.4)\n",
            "Requirement already satisfied: gymnasium>=0.28.0 in /usr/local/lib/python3.10/dist-packages (from pettingzoo) (1.0.0)\n",
            "Requirement already satisfied: cloudpickle>=1.2.0 in /usr/local/lib/python3.10/dist-packages (from gymnasium>=0.28.0->pettingzoo) (3.1.0)\n",
            "Requirement already satisfied: typing-extensions>=4.3.0 in /usr/local/lib/python3.10/dist-packages (from gymnasium>=0.28.0->pettingzoo) (4.12.2)\n",
            "Requirement already satisfied: farama-notifications>=0.0.1 in /usr/local/lib/python3.10/dist-packages (from gymnasium>=0.28.0->pettingzoo) (0.0.4)\n"
          ]
        }
      ]
    },
    {
      "cell_type": "markdown",
      "source": [
        "# 1. Introduction"
      ],
      "metadata": {
        "id": "4QBMH274HOQi"
      }
    },
    {
      "cell_type": "code",
      "source": [
        "# @title\n",
        "intro_text = \"\"\"\n",
        "<style>\n",
        "    /* Title Styling */\n",
        "      .intro-title {\n",
        "        font-size: 30px;\n",
        "        font-weight: bold;\n",
        "        color: #FF6347;\n",
        "        text-align: center;\n",
        "        text-shadow: 2px 2px 4px rgba(0, 0, 0, 0.3);\n",
        "        animation: fadeIn 2s ease-in-out;\n",
        "    }\n",
        "\n",
        "    /* Text Block Styling */\n",
        "    .intro-text {\n",
        "        font-size: 18px;\n",
        "        line-height: 1.8;\n",
        "        color: #555;\n",
        "        max-width: 800px;\n",
        "        margin: 20px auto;\n",
        "        padding: 25px;\n",
        "        border-radius: 8px;\n",
        "        background: #F5F5F5;\n",
        "        box-shadow: 0 6px 12px rgba(0, 0, 0, 0.1);\n",
        "        transition: transform 0.3s ease, background 0.3s ease;\n",
        "    }\n",
        "\n",
        "    /* Hover effect for the text block */\n",
        "    .intro-text:hover {\n",
        "        transform: scale(1.03);\n",
        "        background: #E0E0E0;\n",
        "        box-shadow: 0 8px 16px rgba(0, 0, 0, 0.15);\n",
        "    }\n",
        "\n",
        "    /* Fade-in effect for title */\n",
        "    @keyframes fadeIn {\n",
        "        from { opacity: 0; }\n",
        "        to { opacity: 1; }\n",
        "    }\n",
        "</style>\n",
        "\n",
        "<h2 class=\"intro-title\">Exploring the Evolution from Single-Agent to Multi-Agent RL</h2>\n",
        "\n",
        "<div class=\"intro-text\">\n",
        "    <p>In this tutorial, we explore the transition from single-agent reinforcement learning (RL) to multi-agent reinforcement learning (MARL). This progression is used for tackling real-world problems where multiple agents must interact, cooperate, or compete in dynamic environments. The challenges introduced by these multi-agent setups, such as coordination, scalability, and non-stationarity require novel approaches to exisiting algorithms. By the end of this tutorial, you will understand the foundational concepts of MARL and how single-agent RL strategies can be extended to multi-agent domains.</p>\n",
        "</div>\n",
        "\"\"\"\n",
        "\n",
        "display(HTML(intro_text))\n"
      ],
      "metadata": {
        "colab": {
          "base_uri": "https://localhost:8080/",
          "height": 408
        },
        "cellView": "form",
        "id": "CARAJFEyTC73",
        "outputId": "817379fa-549d-4c8b-fd15-a5b2e3cd3e48"
      },
      "execution_count": null,
      "outputs": [
        {
          "output_type": "display_data",
          "data": {
            "text/plain": [
              "<IPython.core.display.HTML object>"
            ],
            "text/html": [
              "\n",
              "<style>\n",
              "    /* Title Styling */\n",
              "      .intro-title {\n",
              "        font-size: 30px;\n",
              "        font-weight: bold;\n",
              "        color: #FF6347;\n",
              "        text-align: center;\n",
              "        text-shadow: 2px 2px 4px rgba(0, 0, 0, 0.3);\n",
              "        animation: fadeIn 2s ease-in-out;\n",
              "    }\n",
              "\n",
              "    /* Text Block Styling */\n",
              "    .intro-text {\n",
              "        font-size: 18px;\n",
              "        line-height: 1.8;\n",
              "        color: #555;\n",
              "        max-width: 800px;\n",
              "        margin: 20px auto;\n",
              "        padding: 25px;\n",
              "        border-radius: 8px;\n",
              "        background: #F5F5F5;\n",
              "        box-shadow: 0 6px 12px rgba(0, 0, 0, 0.1);\n",
              "        transition: transform 0.3s ease, background 0.3s ease;\n",
              "    }\n",
              "\n",
              "    /* Hover effect for the text block */\n",
              "    .intro-text:hover {\n",
              "        transform: scale(1.03);\n",
              "        background: #E0E0E0;\n",
              "        box-shadow: 0 8px 16px rgba(0, 0, 0, 0.15);\n",
              "    }\n",
              "\n",
              "    /* Fade-in effect for title */\n",
              "    @keyframes fadeIn {\n",
              "        from { opacity: 0; }\n",
              "        to { opacity: 1; }\n",
              "    }\n",
              "</style>\n",
              "\n",
              "<h2 class=\"intro-title\">Exploring the Evolution from Single-Agent to Multi-Agent RL</h2>\n",
              "\n",
              "<div class=\"intro-text\">\n",
              "    <p>In this tutorial, we explore the transition from single-agent reinforcement learning (RL) to multi-agent reinforcement learning (MARL). This progression is used for tackling real-world problems where multiple agents must interact, cooperate, or compete in dynamic environments. The challenges introduced by these multi-agent setups, such as coordination, scalability, and non-stationarity require novel approaches to exisiting algorithms. By the end of this tutorial, you will understand the foundational concepts of MARL and how single-agent RL strategies can be extended to multi-agent domains.</p>\n",
              "</div>\n"
            ]
          },
          "metadata": {}
        }
      ]
    },
    {
      "cell_type": "markdown",
      "source": [
        "\n",
        "\n",
        "\n",
        "## Why Extend Single-Agent RL to Multi-Agent RL?\n",
        "\n"
      ],
      "metadata": {
        "id": "tfHAUjMgbORQ"
      }
    },
    {
      "cell_type": "markdown",
      "source": [
        "- **Realistic Modeling**: MARL is more aligned with real-world environments, where multiple agents interact and make decisions based on the actions of others.\n",
        "- **Coordination and Competition**: MARL enables agents to either cooperate (coordination) or compete with each other, which mirrors many real-world scenarios where both dynamics exist.\n",
        "- **Scalability**: MARL systems can scale to handle larger, more complex problems than SARL alone.\n",
        "- **Adaptability**: MARL enables agents to learn and adapt in real-time, responding to changes in their environment or among other agents.\n",
        "- **Real-World Impact**: MARL offer a practical approach to modelling in industries such as robotics, autonomous vehicles, energy systems, and healthcare.\n",
        "\n",
        "Presented below are some real-world examples where MARL is used."
      ],
      "metadata": {
        "id": "qYD8dBhHgc_m"
      }
    },
    {
      "cell_type": "markdown",
      "source": [
        "### Examples"
      ],
      "metadata": {
        "id": "EwRFC2sWD_SF"
      }
    },
    {
      "cell_type": "code",
      "source": [
        "# @title Example\n",
        "import ipywidgets as widgets\n",
        "from IPython.display import display, HTML, Image\n",
        "\n",
        "domains = {\n",
        "    \"Robotics\": {\n",
        "        \"description\": (\n",
        "            \"In collaborative robotics, MARL enables multiple robots to coordinate and \"\n",
        "            \"perform tasks such as exploration, disaster response, or assembly. \"\n",
        "            \"For instance, a team of drones can distribute responsibilities for mapping or delivering supplies \"\n",
        "            \"in disaster-affected areas, dynamically adapting to environmental changes.\"\n",
        "        ),\n",
        "        \"applications\": [\n",
        "            \"- Search and rescue operations\",\n",
        "            \"- Warehouse management\",\n",
        "            \"- Agricultural monitoring\",\n",
        "            \"- Construction automation\",\n",
        "        ],\n",
        "        \"image\": \"https://dp9eps5gd5xd0.cloudfront.net/image-handler/ts/20230831083549/ri/850/src/images/news/ImageForNews_14271_169348534600376.jpg\",\n",
        "        \"references\": [\n",
        "            \"[1] Brown, et al. (2023). 'Swarm Intelligence through Multi-Agent Learning.' Robotics and Autonomous Systems.\",\n",
        "            \"[2] Smith, et al. (2022). 'Cooperative Multi-Robot Task Allocation.' Science Robotics.\"\n",
        "        ]\n",
        "    },\n",
        "    \"Autonomous Vehicles\": {\n",
        "        \"description\": (\n",
        "            \"In autonomous driving, MARL enables multiple vehicles to learn cooperative behaviors \"\n",
        "            \"such as merging lanes, optimizing traffic flow, or preventing collisions. \"\n",
        "            \"For example, cars at a busy intersection can learn to prioritize movements without centralized traffic control.\"\n",
        "        ),\n",
        "        \"applications\": [\n",
        "            \"- Intersection management\",\n",
        "            \"- Lane merging coordination\",\n",
        "            \"- Platoon formation\",\n",
        "            \"- Collision avoidance\"\n",
        "        ],\n",
        "        \"image\": \"https://i.giphy.com/media/v1.Y2lkPTc5MGI3NjExdm9keGxsZjRkd2VpOGN4eG1sZzNuaTN2N3N6cWRyZThxdjJveWdmYiZlcD12MV9pbnRlcm5hbF9naWZfYnlfaWQmY3Q9Zw/H7rpSYHRyYgamxQNqw/giphy.gif\",\n",
        "        \"references\": [\n",
        "            \"[1] Wang, et al. (2023). 'Multi-Agent Reinforcement Learning for Connected Autonomous Vehicles.' IEEE Trans. Intelligent Transportation Systems.\",\n",
        "            \"[2] Chen, et al. (2022). 'Cooperative Multi-Agent Systems for Automated Driving.' Nature Machine Intelligence.\"\n",
        "        ]\n",
        "    },\n",
        "    \"Energy Systems\": {\n",
        "        \"description\": (\n",
        "            \"MARL optimizes decentralized energy systems by coordinating power allocation between \"\n",
        "            \"producers and consumers. For instance, agents representing wind turbines and energy storage units \"\n",
        "            \"can learn to balance supply and demand dynamically, minimizing wastage.\"\n",
        "        ),\n",
        "        \"applications\": [\n",
        "            \"- Demand-response management\",\n",
        "            \"- Distributed energy resource coordination\",\n",
        "            \"- Grid stability maintenance\",\n",
        "            \"- Real-time pricing optimization\"\n",
        "        ],\n",
        "        \"image\": \"https://miro.medium.com/v2/resize:fit:1400/format:webp/0*2GlP-gE7hptc1PeC.gif\",\n",
        "        \"references\": [\n",
        "            \"[1] Zhang, et al. (2023). 'Multi-Agent Deep Reinforcement Learning for Smart Grid Control.' Energy and Buildings.\",\n",
        "            \"[2] Liu, et al. (2022). 'Distributed Energy Management using Multi-Agent Systems.' Applied Energy.\"\n",
        "        ]\n",
        "    },\n",
        "    \"Healthcare\": {\n",
        "        \"description\": (\n",
        "            \"In healthcare, MARL helps allocate resources like ICU beds or optimize medical equipment usage. \"\n",
        "            \"For example, agents can learn to manage patient schedules and equipment dynamically, ensuring that \"\n",
        "            \"emergent needs are prioritized efficiently.\"\n",
        "        ),\n",
        "        \"applications\": [\n",
        "            \"- ICU bed allocation\",\n",
        "            \"- Medical equipment scheduling\",\n",
        "            \"- Emergency resource management\"\n",
        "        ],\n",
        "        \"image\": \"https://standexelectronics.com/wp-content/uploads/HospitalBedSensor.gif\",\n",
        "        \"references\": [\n",
        "            \"[1] Zhao, et al. (2023). 'Multi-Agent Reinforcement Learning for Healthcare Resource Management.' Journal of Medical Systems.\"\n",
        "        ]\n",
        "    }\n",
        "}\n",
        "\n",
        "dropdown = widgets.Dropdown(\n",
        "    options=domains.keys(),\n",
        "    description=\"Domain:\",\n",
        "    value=\"Robotics\"\n",
        ")\n",
        "\n",
        "output = widgets.Output()\n",
        "\n",
        "def update_content(change):\n",
        "    with output:\n",
        "        output.clear_output()\n",
        "        domain = change[\"new\"]\n",
        "        info = domains[domain]\n",
        "\n",
        "        display(HTML(f\"\"\"\n",
        "            <style>\n",
        "                h4 {{ font-size: 22px; font-weight: bold; color: #2E4053; }}\n",
        "                p, li {{ font-size: 16px; line-height: 1.5; color: #4F4F4F; }}\n",
        "                ul {{ margin-left: 20px; }}\n",
        "                button {{\n",
        "                    background-color: #4CAF50;\n",
        "                    color: white;\n",
        "                    padding: 10px;\n",
        "                    border: none;\n",
        "                    cursor: pointer;\n",
        "                }}\n",
        "                button:hover {{ background-color: #45a049; }}\n",
        "            </style>\n",
        "        \"\"\"))\n",
        "\n",
        "        display(HTML(f\"<h4>{domain}</h4><p>{info['description']}</p>\"))\n",
        "        display(HTML(\"<ul>\" + \"\".join([f\"<li>{app}</li>\" for app in info[\"applications\"]]) + \"</ul>\"))\n",
        "        display(Image(url=info[\"image\"], width=400, height=300))\n",
        "\n",
        "        display(HTML(f'<button onclick=\"this.nextElementSibling.style.display=\\'block\\'\">Show References</button><div style=\"display:none;\">'\n",
        "                     + \"<ul>\" + \"\".join([f\"<li>{ref}</li>\" for ref in info[\"references\"]]) + \"</ul></div>\"))\n",
        "\n",
        "dropdown.observe(update_content, names=\"value\")\n",
        "\n",
        "display(dropdown, output)\n"
      ],
      "metadata": {
        "colab": {
          "base_uri": "https://localhost:8080/",
          "height": 605,
          "referenced_widgets": [
            "4dbb29475ecb43d49419def138c4f09e",
            "bbfe3535a363440e958b4234435f623a",
            "019ca0e4c4e24887a32d39b61504e1e7",
            "18f30226d4d44814b8dda5aa7cfd6fb4",
            "fa6fc80ec5294498a3a3512551b1dd42"
          ]
        },
        "id": "2RqoryhrHl0C",
        "outputId": "80ea87bc-7fc5-4e82-f029-30a5222e4ba0",
        "cellView": "form"
      },
      "execution_count": null,
      "outputs": [
        {
          "output_type": "display_data",
          "data": {
            "text/plain": [
              "Dropdown(description='Domain:', options=('Robotics', 'Autonomous Vehicles', 'Energy Systems', 'Healthcare'), v…"
            ],
            "application/vnd.jupyter.widget-view+json": {
              "version_major": 2,
              "version_minor": 0,
              "model_id": "4dbb29475ecb43d49419def138c4f09e"
            }
          },
          "metadata": {}
        },
        {
          "output_type": "display_data",
          "data": {
            "text/plain": [
              "Output()"
            ],
            "application/vnd.jupyter.widget-view+json": {
              "version_major": 2,
              "version_minor": 0,
              "model_id": "18f30226d4d44814b8dda5aa7cfd6fb4"
            }
          },
          "metadata": {}
        }
      ]
    },
    {
      "cell_type": "markdown",
      "source": [],
      "metadata": {
        "id": "Ewdw7FZ_9s-D"
      }
    },
    {
      "cell_type": "code",
      "source": [
        "# @title\n",
        "# Displaying the GIF from the URL\n",
        "gif_url = \"https://upload.wikimedia.org/wikipedia/commons/3/37/Multi_give_way_%284_agents%2C_each_trying_to_reach_a_specific_point%29.gif\"\n",
        "Image(url=gif_url)"
      ],
      "metadata": {
        "colab": {
          "base_uri": "https://localhost:8080/",
          "height": 471
        },
        "id": "StGDJ_AnvllQ",
        "outputId": "afeb3c7b-86fe-44bd-993f-3e5183893b5c"
      },
      "execution_count": null,
      "outputs": [
        {
          "output_type": "execute_result",
          "data": {
            "text/html": [
              "<img src=\"https://upload.wikimedia.org/wikipedia/commons/3/37/Multi_give_way_%284_agents%2C_each_trying_to_reach_a_specific_point%29.gif\"/>"
            ],
            "text/plain": [
              "<IPython.core.display.Image object>"
            ]
          },
          "metadata": {},
          "execution_count": 5
        }
      ]
    },
    {
      "cell_type": "markdown",
      "source": [
        "\n",
        "\n",
        "---\n",
        "\n",
        "\n",
        "#From Single-Agent to Multi-Agent: Understanding the Fundamental Shift\n",
        "\n",
        "\n",
        "---\n",
        "\n",
        "\n"
      ],
      "metadata": {
        "id": "DB40jyt08LvZ"
      }
    },
    {
      "cell_type": "markdown",
      "source": [
        "## **Mathematical Foundations: From MDPs to Markov Games**"
      ],
      "metadata": {
        "id": "lv7oLy2s9V9E"
      }
    },
    {
      "cell_type": "markdown",
      "source": [
        "Multi-agent systems model dynamic and nondeterministic environments that solve complex problems. In these situations we are dealing with agents that not only have to learn an optimal behavior or policy, but also have to adapt to new situations, where we assume a changing environment due to the actions of the other agents in the joint state-space.\n",
        "\n",
        "Subsequently, we must move away from MDPs and instead use a Markov Game as the framework for modelling multiple agents. The key difference in Markov Games are each agent has its own Action Space,  and the agents share a Joint State Space, where the actions of one agent affect all other agents.\n",
        ">\n",
        "**Note**: To improve visibility, please switch the notebook to light mode."
      ],
      "metadata": {
        "id": "Bj3NP8Hc9eHt"
      }
    },
    {
      "cell_type": "code",
      "source": [
        "# @title SARL vs MARL\n",
        "from IPython.display import HTML, display\n",
        "\n",
        "def display_mathematical_comparison():\n",
        "    mdp_html = \"\"\"\n",
        "    <div style=\"background-color: #f0f0f0; padding: 20px; border-radius: 10px; margin: 10px; width: 48%; box-sizing: border-box; font-size: 18px; transition: transform 0.3s ease;\">\n",
        "        <h3 style=\"font-size: 22px;\">Markov Decision Process (MDP)</h3>\n",
        "        <p>MDP = <span id=\"mdp_eq1\">\\( (S, A, P, R, \\gamma) \\)</span></p>\n",
        "        <ul>\n",
        "            <li><span id=\"mdp_eq2\">\\( S \\): State space</span></li>\n",
        "            <li><span id=\"mdp_eq3\">\\( A \\): Action space</span></li>\n",
        "            <li><span id=\"mdp_eq4\">\\( P: (S, A, S) \\, \\&rarr; \\, [0,1] \\)</span></li>\n",
        "            <li><span id=\"mdp_eq5\">\\( R: (S, A, S) \\, \\&rarr; \\, \\mathbb{R} \\)</span></li>\n",
        "            <li><span id=\"mdp_eq6\">\\( \\gamma \\in [0,1] \\): Discount factor</span></li>\n",
        "        </ul>\n",
        "    </div>\n",
        "    \"\"\"\n",
        "\n",
        "    markov_game_html = \"\"\"\n",
        "    <div style=\"background-color: #e6f3ff; padding: 20px; border-radius: 10px; margin: 10px; width: 48%; box-sizing: border-box; font-size: 18px; transition: transform 0.3s ease;\">\n",
        "        <h3 style=\"font-size: 22px;\">Markov Game</h3>\n",
        "        <p>MG = <span id=\"mg_eq1\">\\( (N, S, \\{A_i\\}_{i=1}^N, P, \\{R_i\\}_{i=1}^N, \\gamma) \\)</span></p>\n",
        "        <ul>\n",
        "            <li><span id=\"mg_eq2\">\\( N \\): Number of agents</span></li>\n",
        "            <li><span id=\"mg_eq3\">\\( S \\): Joint state space</span></li>\n",
        "            <li><span id=\"mg_eq4\">\\( A_i \\): Action space for agent \\( i \\)</span></li>\n",
        "            <li><span id=\"mg_eq5\">\\( P: (S, A_1, \\dots, A_N, S) \\, \\&rarr; \\, [0,1] \\)</span></li>\n",
        "            <li><span id=\"mg_eq6\">\\( R_i: (S, A_1, \\dots, A_N, S) \\, \\&rarr; \\, \\mathbb{R} \\)</span></li>\n",
        "            <li><span id=\"mg_eq7\">\\( \\gamma \\in [0,1] \\): Discount factor</span></li>\n",
        "        </ul>\n",
        "    </div>\n",
        "    \"\"\"\n",
        "\n",
        "    # Add MathJax script to render the math formulas\n",
        "    display(HTML(f\"\"\"\n",
        "    <script type=\"text/javascript\" async\n",
        "      src=\"https://cdnjs.cloudflare.com/ajax/libs/mathjax/2.7.7/MathJax.js?config=TeX-MML-AM_CHTML\">\n",
        "    </script>\n",
        "    <div style=\"display: flex; justify-content: space-between; gap: 20px; flex-wrap: wrap; padding: 20px;\">\n",
        "        {mdp_html}\n",
        "        {markov_game_html}\n",
        "    </div>\n",
        "    <style>\n",
        "        div:hover {{\n",
        "            transform: scale(1.01);\n",
        "            box-shadow: 0 0 15px rgba(0, 0, 0, 0.2);\n",
        "        }}\n",
        "    </style>\n",
        "    \"\"\"))\n",
        "\n",
        "display_mathematical_comparison()\n"
      ],
      "metadata": {
        "colab": {
          "base_uri": "https://localhost:8080/",
          "height": 647
        },
        "cellView": "form",
        "id": "g0mGyHZ-9TLe",
        "outputId": "2189a04e-9d7d-44f3-f6e5-7f0ce6be0217"
      },
      "execution_count": null,
      "outputs": [
        {
          "output_type": "display_data",
          "data": {
            "text/plain": [
              "<IPython.core.display.HTML object>"
            ],
            "text/html": [
              "\n",
              "    <script type=\"text/javascript\" async\n",
              "      src=\"https://cdnjs.cloudflare.com/ajax/libs/mathjax/2.7.7/MathJax.js?config=TeX-MML-AM_CHTML\">\n",
              "    </script>\n",
              "    <div style=\"display: flex; justify-content: space-between; gap: 20px; flex-wrap: wrap; padding: 20px;\">\n",
              "        \n",
              "    <div style=\"background-color: #f0f0f0; padding: 20px; border-radius: 10px; margin: 10px; width: 48%; box-sizing: border-box; font-size: 18px; transition: transform 0.3s ease;\">\n",
              "        <h3 style=\"font-size: 22px;\">Markov Decision Process (MDP)</h3>\n",
              "        <p>MDP = <span id=\"mdp_eq1\">\\( (S, A, P, R, \\gamma) \\)</span></p>\n",
              "        <ul>\n",
              "            <li><span id=\"mdp_eq2\">\\( S \\): State space</span></li>\n",
              "            <li><span id=\"mdp_eq3\">\\( A \\): Action space</span></li>\n",
              "            <li><span id=\"mdp_eq4\">\\( P: (S, A, S) \\, \\&rarr; \\, [0,1] \\)</span></li>\n",
              "            <li><span id=\"mdp_eq5\">\\( R: (S, A, S) \\, \\&rarr; \\, \\mathbb{R} \\)</span></li>\n",
              "            <li><span id=\"mdp_eq6\">\\( \\gamma \\in [0,1] \\): Discount factor</span></li>\n",
              "        </ul>\n",
              "    </div>\n",
              "    \n",
              "        \n",
              "    <div style=\"background-color: #e6f3ff; padding: 20px; border-radius: 10px; margin: 10px; width: 48%; box-sizing: border-box; font-size: 18px; transition: transform 0.3s ease;\">\n",
              "        <h3 style=\"font-size: 22px;\">Markov Game</h3>\n",
              "        <p>MG = <span id=\"mg_eq1\">\\( (N, S, \\{A_i\\}_{i=1}^N, P, \\{R_i\\}_{i=1}^N, \\gamma) \\)</span></p>\n",
              "        <ul>\n",
              "            <li><span id=\"mg_eq2\">\\( N \\): Number of agents</span></li>\n",
              "            <li><span id=\"mg_eq3\">\\( S \\): Joint state space</span></li>\n",
              "            <li><span id=\"mg_eq4\">\\( A_i \\): Action space for agent \\( i \\)</span></li>\n",
              "            <li><span id=\"mg_eq5\">\\( P: (S, A_1, \\dots, A_N, S) \\, \\&rarr; \\, [0,1] \\)</span></li>\n",
              "            <li><span id=\"mg_eq6\">\\( R_i: (S, A_1, \\dots, A_N, S) \\, \\&rarr; \\, \\mathbb{R} \\)</span></li>\n",
              "            <li><span id=\"mg_eq7\">\\( \\gamma \\in [0,1] \\): Discount factor</span></li>\n",
              "        </ul>\n",
              "    </div>\n",
              "    \n",
              "    </div>\n",
              "    <style>\n",
              "        div:hover {\n",
              "            transform: scale(1.01);\n",
              "            box-shadow: 0 0 15px rgba(0, 0, 0, 0.2);\n",
              "        }\n",
              "    </style>\n",
              "    "
            ]
          },
          "metadata": {}
        }
      ]
    },
    {
      "cell_type": "markdown",
      "source": [
        "# State and Action Space in MARL\n",
        "We can observe that the State and Action Space becomes significantly more complex in Multi-agent problems.\n",
        "\n",
        "- **Single-Agent Environment**:\n",
        "  - State space: $S$\n",
        "  - Action space: $A$\n",
        "\n",
        "- **Multi-Agent Environment ($N$ agents)**:\n",
        "  - **Joint State Space**: $S_{\\text{joint}} = S^N$  \n",
        "    The state space grows **exponentially** with the number of agents, as it represents all possible combinations of states for $N$ agents.\n",
        "  - **Joint Action Space**: $A_{\\text{joint}} = A^N$  \n",
        "    Similarly, the action space grows **exponentially**, reflecting all possible combinations of actions taken by $N$ agents simultaneously.\n",
        "\n",
        "---\n",
        "**Implications**\n",
        "- The **exponential growth** of state and action spaces with $N$ agents leads to significant computational challenges in modeling and solving multi-agent environments.\n",
        "- Addressing this complexity often requires:\n",
        "  - Efficient representations of the state and action spaces.\n",
        "  - **Decentralized strategies** to reduce the dimensionality of the problem.\n",
        "  - Utilizing approximations or hierarchical methods in reinforcement learning.\n"
      ],
      "metadata": {
        "id": "aaZ99kj5JWAP"
      }
    },
    {
      "cell_type": "code",
      "source": [
        "# @title Illustration\n",
        "import matplotlib.pyplot as plt\n",
        "import numpy as np\n",
        "from ipywidgets import interact, widgets\n",
        "\n",
        "def create_environment_comparison(n_agents=2):\n",
        "    fig, (ax1, ax2) = plt.subplots(1, 2, figsize=(15, 6))\n",
        "\n",
        "    ax1.set_title('Single-Agent Environment')\n",
        "    circle = plt.Circle((0.5, 0.5), 0.3, color='b', alpha=0.3)\n",
        "    ax1.add_artist(circle)\n",
        "    ax1.plot(0.5, 0.5, 'b.', markersize=15, label='Agent')\n",
        "    ax1.set_xlim(0, 1)\n",
        "    ax1.set_ylim(0, 1)\n",
        "    ax1.legend()\n",
        "\n",
        "    ax2.set_title('Multi-Agent Environment')\n",
        "    colors = ['b', 'r', 'g', 'm']\n",
        "    markers = ['.', 's', '^', 'o']\n",
        "    for i in range(n_agents):\n",
        "        circle = plt.Circle((0.3 + i*0.2, 0.5), 0.15, color=colors[i], alpha=0.3)\n",
        "        ax2.add_artist(circle)\n",
        "        ax2.plot(0.3 + i*0.2, 0.5, color=colors[i], marker=markers[i],\n",
        "                 markersize=15, label=f'Agent {i+1}')\n",
        "    ax2.set_xlim(0, 1)\n",
        "    ax2.set_ylim(0, 1)\n",
        "    ax2.legend()\n",
        "\n",
        "    plt.tight_layout()\n",
        "    return fig\n",
        "\n",
        "def show_environment_comparison(n_agents):\n",
        "    \"\"\"\n",
        "    Displays the comparison between a single-agent and multi-agent environment.\n",
        "\n",
        "    Args:\n",
        "        n_agents (int): The number of agents in the multi-agent environment.\n",
        "\n",
        "    The function prints the sizes of the state space and action space for both environments\n",
        "    and creates an interactive visualization comparing the environments.\n",
        "    \"\"\"\n",
        "    state_space_single_agent = 5\n",
        "    action_space_single_agent = 4\n",
        "\n",
        "    state_space_multi_agent = state_space_single_agent ** n_agents\n",
        "    action_space_multi_agent = action_space_single_agent ** n_agents\n",
        "\n",
        "    print(f\"Single-Agent Environment (State Space Size: {state_space_single_agent}, Action Space Size: {action_space_single_agent})\")\n",
        "    print(f\"Multi-Agent Environment ({n_agents} Agents) - Joint State Space Size: {state_space_multi_agent}, Joint Action Space Size: {action_space_multi_agent}\")\n",
        "\n",
        "    fig = create_environment_comparison(n_agents)\n",
        "    plt.show()\n",
        "\n",
        "interact(show_environment_comparison, n_agents=widgets.IntSlider(min=2, max=4, step=1, value=2,\n",
        "                                                               description='Number of Agents:',\n",
        "                                                               style={'description_width': 'initial'}))\n"
      ],
      "metadata": {
        "colab": {
          "base_uri": "https://localhost:8080/",
          "height": 592,
          "referenced_widgets": [
            "5b3696f510094ed2be3843951d554d6d",
            "9c628424e3c64f46976f18b394610e08",
            "efd368518bcb47d9bd590fcd04afc464",
            "ca7748d12a914ce6bf95c7fd48675c65",
            "b50a9eec187f428d84e79ba0c5abbd0b",
            "2e4c89e8b60f47b2b6b903990c70dae6",
            "a7eede863633414a81eb2910064c83af"
          ]
        },
        "id": "zxzQmtZkwBBg",
        "outputId": "2e480ff1-0ed5-4ac8-944d-5463239b908c",
        "cellView": "form"
      },
      "execution_count": 18,
      "outputs": [
        {
          "output_type": "display_data",
          "data": {
            "text/plain": [
              "interactive(children=(IntSlider(value=2, description='Number of Agents:', max=4, min=2, style=SliderStyle(desc…"
            ],
            "application/vnd.jupyter.widget-view+json": {
              "version_major": 2,
              "version_minor": 0,
              "model_id": "5b3696f510094ed2be3843951d554d6d"
            }
          },
          "metadata": {}
        },
        {
          "output_type": "execute_result",
          "data": {
            "text/plain": [
              "<function __main__.show_environment_comparison(n_agents)>"
            ],
            "text/html": [
              "<div style=\"max-width:800px; border: 1px solid var(--colab-border-color);\"><style>\n",
              "      pre.function-repr-contents {\n",
              "        overflow-x: auto;\n",
              "        padding: 8px 12px;\n",
              "        max-height: 500px;\n",
              "      }\n",
              "\n",
              "      pre.function-repr-contents.function-repr-contents-collapsed {\n",
              "        cursor: pointer;\n",
              "        max-height: 100px;\n",
              "      }\n",
              "    </style>\n",
              "    <pre style=\"white-space: initial; background:\n",
              "         var(--colab-secondary-surface-color); padding: 8px 12px;\n",
              "         border-bottom: 1px solid var(--colab-border-color);\"><b>show_environment_comparison</b><br/>def show_environment_comparison(n_agents)</pre><pre class=\"function-repr-contents function-repr-contents-collapsed\" style=\"\"><a class=\"filepath\" style=\"display:none\" href=\"#\">/content/&lt;ipython-input-18-45bd1f15460d&gt;</a>Displays the comparison between a single-agent and multi-agent environment.\n",
              "\n",
              "Args:\n",
              "    n_agents (int): The number of agents in the multi-agent environment.\n",
              "\n",
              "The function prints the sizes of the state space and action space for both environments\n",
              "and creates an interactive visualization comparing the environments.</pre></div>"
            ]
          },
          "metadata": {},
          "execution_count": 18
        }
      ]
    },
    {
      "cell_type": "markdown",
      "source": [
        "# Types of MARL\n"
      ],
      "metadata": {
        "id": "GIoB3hTyQovn"
      }
    },
    {
      "cell_type": "markdown",
      "source": [
        "\n",
        "MARL involves multiple agents interacting in a shared environment. The agents’ behaviors depend on their own actions as well as the actions of others. The main types of MARL are as follows:\n",
        "\n",
        "- **Competitive MARL**:\n",
        "  - Agents compete against each other.\n",
        "  - The reward for each agent is typically inversely related to the rewards of others, meaning that one agent’s gain comes at the expense of another’s loss.\n",
        "  \n",
        "  Mathematically, the reward for agent $i$ is:\n",
        "  $\n",
        "  R_i(s, a_1, a_2, \\dots, a_N)\n",
        "  $\n",
        "  where $s$ is the state and $a_1, a_2, \\dots, a_N$ are the actions of all agents.\n",
        "\n",
        "- **Cooperative MARL**:\n",
        "  - All agents share a common goal and work together to maximize the total reward.\n",
        "  - The reward is the same for all agents in a given state-action pair.\n",
        "\n",
        "  $\n",
        "  R_i(s, a_1, a_2, \\dots, a_N) = R(s, a_1, a_2, \\dots, a_N)\n",
        "  $\n",
        "  where $R$ is the shared reward across agents.\n",
        "\n",
        "- **Mixed MARL**:\n",
        "  - Mixed MARL combines both competitive and cooperative behaviors.\n",
        "  - Some agents may cooperate for certain tasks, while still competing for individual rewards.\n",
        "  $\n",
        "  R_i(s, a_1, a_2, \\dots, a_N) = R_c(s, a_1, a_2, \\dots, a_N) + R_p(s, a_1, a_2, \\dots, a_N)\n",
        "  $\n",
        "  where $R_c$ is the cooperative component and $R_p$ is the competitive component.\n",
        "\n",
        "### Payoff Matrix\n",
        "\n",
        "A **payoff matrix** represents the outcomes (payoffs) for each agent based on their chosen strategies. It’s a useful tool for analyzing strategic decisions in games.\n",
        "\n",
        "In a two-player game, the matrix is represented as:\n",
        "\n",
        "$$\n",
        "\\begin{array}{|c|c|c|}\n",
        "\\hline\n",
        "& \\text{Player 2: Strategy 1} & \\text{Player 2: Strategy 2} \\\\\n",
        "\\hline\n",
        "\\text{Player 1: Strategy 1} & (R_1, R_2) & (R_3, R_4) \\\\\n",
        "\\hline\n",
        "\\text{Player 1: Strategy 2} & (R_5, R_6) & (R_7, R_8) \\\\\n",
        "\\hline\n",
        "\\end{array}\n",
        "$$\n",
        "\n",
        "\n",
        "Where $(R_1, R_2)$, etc., represent the payoffs for Player 1 and Player 2 based on their strategies.\n",
        "\n",
        "In MARL, the payoff matrix helps analyze how agents' interactions affect outcomes in Competitive, Cooperative, and Mixed settings.\n"
      ],
      "metadata": {
        "id": "bZg0eF-cPVvS"
      }
    },
    {
      "cell_type": "code",
      "source": [
        "# @title Payoff Matrix\n",
        "import matplotlib.pyplot as plt\n",
        "import numpy as np\n",
        "import seaborn as sns\n",
        "from ipywidgets import interact\n",
        "from IPython.display import display, Markdown\n",
        "\n",
        "def create_marl_types_visualization():\n",
        "    competitive = np.array([[1,-1], [-1,1]])\n",
        "    cooperative = np.array([[2,0], [0,2]])\n",
        "    mixed = np.array([[2,-1], [-1,2]])\n",
        "\n",
        "    def plot_payoff_matrix(matrix, title):\n",
        "        fig = plt.figure(figsize=(6, 4))\n",
        "        sns.heatmap(matrix, annot=True, cmap='RdYlBu', center=0)\n",
        "        plt.title(title)\n",
        "        return fig\n",
        "\n",
        "    @interact(marl_type=['Competitive', 'Cooperative', 'Mixed'])\n",
        "    def show_marl_type(marl_type):\n",
        "        if marl_type == 'Competitive':\n",
        "            matrix = competitive\n",
        "            display(Markdown(\"\"\"\n",
        "            Competitive MARL\n",
        "            - Payoff Matrix: A zero-sum game where the total payoff across all players is zero.\n",
        "            - Key Characteristic: One player's gain is another player's loss.\n",
        "            - Example: Two-player games like chess, where players are directly competing.\n",
        "            \"\"\"))\n",
        "        elif marl_type == 'Cooperative':\n",
        "            matrix = cooperative\n",
        "            display(Markdown(\"\"\"\n",
        "            Cooperative MARL\n",
        "            - Payoff Matrix: A shared reward system where all agents work towards maximizing the collective reward.\n",
        "            - Key Characteristic: Agents collaborate to achieve a common goal.\n",
        "            - Example: Robot swarm coordination, where agents cooperate to achieve a common task.\n",
        "            \"\"\"))\n",
        "        else:\n",
        "            matrix = mixed\n",
        "            display(Markdown(\"\"\"\n",
        "            Mixed MARL\n",
        "            - Payoff Matrix: A combination of competitive and cooperative elements.\n",
        "            - Key Characteristic: Agents have partial alignment of goals but may still compete in certain situations.\n",
        "            - Example: Traffic management, where cooperation is needed to optimize the system, but individual vehicles still compete for resources like road space.\n",
        "            \"\"\"))\n",
        "\n",
        "        plot_payoff_matrix(matrix, f'{marl_type} MARL - Payoff Matrix')\n",
        "        plt.show()\n",
        "\n",
        "create_marl_types_visualization()\n"
      ],
      "metadata": {
        "colab": {
          "base_uri": "https://localhost:8080/",
          "height": 509,
          "referenced_widgets": [
            "198f2eda52aa410e8f58a6eca1bf12f8",
            "ab69d16ba1414ed09cdb1711959bb948",
            "44bc18a2a4a54a97bd6c0efa026bcb14",
            "59dbb77514854257bf6ba200040267f5",
            "9d13799a448a42119e6ac232c5296ae2",
            "e7550929b5314f4d9db49e5d68f2a366",
            "cd7bcba87f784403980e62943025308e"
          ]
        },
        "cellView": "form",
        "id": "Wpz9gs8I9HP2",
        "outputId": "8143d3ab-d05a-4df7-9689-2dc3ce5e699d"
      },
      "execution_count": 19,
      "outputs": [
        {
          "output_type": "display_data",
          "data": {
            "text/plain": [
              "interactive(children=(Dropdown(description='marl_type', options=('Competitive', 'Cooperative', 'Mixed'), value…"
            ],
            "application/vnd.jupyter.widget-view+json": {
              "version_major": 2,
              "version_minor": 0,
              "model_id": "198f2eda52aa410e8f58a6eca1bf12f8"
            }
          },
          "metadata": {}
        }
      ]
    },
    {
      "cell_type": "markdown",
      "source": [
        "#  **Key Challenges MARL**\n"
      ],
      "metadata": {
        "id": "IOaRB0paXw4A"
      }
    },
    {
      "cell_type": "markdown",
      "source": [
        "MARL introduces unique challenges due to interactions between agents and the environment. Addressing these challenges is essential for building robust multi-agent systems.\n"
      ],
      "metadata": {
        "id": "q8CnTN1FSlnx"
      }
    },
    {
      "cell_type": "markdown",
      "source": [
        "### 🚩 **1. Non-Stationarity**\n"
      ],
      "metadata": {
        "id": "b59ERZSCV5kz"
      }
    },
    {
      "cell_type": "markdown",
      "source": [
        "In MARL, agents interact with each other in a shared environment. A key challenge is **non-stationarity** — the environment changes dynamically as agents adapt their policies. This creates instability and hinders learning.\n",
        "\n",
        "---\n",
        "\n",
        "**The Problem**\n",
        "\n",
        "In a multi-agent setup:  \n",
        "- Each agent's policy affects the environment.  \n",
        "- When one agent updates its policy, the environment effectively changes for all other agents.  \n",
        "- This violates the stationary environment assumption of standard reinforcement learning algorithms.\n",
        "\n",
        "---\n",
        "\n",
        "**Mathematical Formalism**\n",
        "\n",
        "1. **Environment Dynamics**:  \n",
        "   The environment’s state transition depends on all agents' actions:  \n",
        "   $$\n",
        "   P(s_{t+1} | s_t, \\mathbf{a}_t),\n",
        "   $$\n",
        "   where $\\mathbf{a}_t = (a_t^1, a_t^2, \\dots, a_t^N) $ represents all agents' actions.\n",
        "\n",
        "2. **Agent-Specific Rewards**:  \n",
        "   Each agent $i$ learns to maximize its own expected return:  \n",
        "  $$\n",
        "   J^i = \\mathbb{E} \\left[ \\sum_{t=0}^T \\gamma^t r_t^i \\right].\n",
        "   $$\n",
        "   However, $r_t^i $ depends on the joint action $\\mathbf{a}_t $, which changes as other agents update their policies.\n",
        "\n",
        "3. **Non-Stationary Policy Updates**:  \n",
        "   As agent $i$ updates its policy $\\pi^i(a^i | s)$, the effective transition and reward functions observed by other agents become time-dependent:  \n",
        "   $$\n",
        "   P(s_{t+1} | s_t, \\mathbf{a}_t) \\text{ and } r_t^j \\quad \\text{for } j \\neq i.\n",
        "   $$\n",
        "\n",
        "---\n",
        "\n",
        "**Impact of Non-Stationarity**\n",
        "\n",
        "- **Unstable Learning**: Agents cannot converge to optimal policies because their environment (other agents) is constantly changing.  \n",
        "- **Exploration-Exploitation Tradeoff**: It becomes harder to balance exploring new strategies with exploiting known ones.  \n",
        "- **Suboptimal Coordination**: Agents might struggle to form effective strategies due to frequent policy changes by others.\n",
        "\n"
      ],
      "metadata": {
        "id": "HMU6U9cMIEvB"
      }
    },
    {
      "cell_type": "markdown",
      "source": [
        "\n",
        "\n",
        "**Illustration Example**: Non-Stationarity in the \"Multi-Agent Particle Environment\"\n",
        "\n",
        "- **Environment Description**:\n",
        "  - **Agents**: Move on a 2D grid to collect and spread objects.\n",
        "  - **Goal**: The goal is for agents to cooperate and gather objects, maximizing a shared reward.\n",
        "  - **Actions**: Agents can move in four directions (up, down, left, right) and interact with other agents or objects.\n",
        "\n",
        "- **Reward Distribution**:\n",
        "  - In **single-agent** setup: Reward depends on the actions of the single agent, based on how effectively it collects objects.\n",
        "  - In **multi-agent** setup: The reward is shared among all agents based on their collective actions. Agents might hinder or help each other depending on the interactions.\n",
        "\n",
        "- **Key Points**:\n",
        "  - The environment is non-stationary because the actions of multiple agents create dynamic changes in the state.\n",
        "  - No learning or training: We sample random actions and observe how reward fluctuations occur due to non-stationarity.\n"
      ],
      "metadata": {
        "id": "NX89GhpXSqPB"
      }
    },
    {
      "cell_type": "code",
      "source": [
        "# @title Spread\n",
        "import numpy as np\n",
        "import matplotlib.pyplot as plt\n",
        "from pettingzoo.mpe import simple_spread_v3\n",
        "from IPython.display import Image, display\n",
        "import imageio\n",
        "from ipywidgets import interactive\n",
        "\n",
        "def initialize_env(N_agents):\n",
        "    env_single = simple_spread_v3.parallel_env(N=1, render_mode=\"rgb_array\")  # Single-agent setup\n",
        "    env_multi = simple_spread_v3.parallel_env(N=N_agents, render_mode=\"rgb_array\")  # Multi-agent setup\n",
        "    return env_single, env_multi\n",
        "\n",
        "def reset_envs(env_single, env_multi):\n",
        "    observations_single, infos_single = env_single.reset(seed=42)\n",
        "    observations_multi, infos_multi = env_multi.reset(seed=42)\n",
        "    return observations_single, infos_single, observations_multi, infos_multi\n",
        "\n",
        "def save_gif_from_images(images, filename):\n",
        "    \"\"\"Save a sequence of images as a GIF with looping enabled.\"\"\"\n",
        "    imageio.mimsave(filename, images, duration=0.1, loop=0)  # loop=0 ensures the GIF repeats indefinitely\n",
        "\n",
        "def simulate_non_stationarity_with_gif(N_agents, steps=100):\n",
        "    env_single, env_multi = initialize_env(N_agents)\n",
        "    observations_single, infos_single, observations_multi, infos_multi = reset_envs(env_single, env_multi)\n",
        "\n",
        "    rewards_single, rewards_multi = [], []\n",
        "    images_single, images_multi = [], []\n",
        "\n",
        "    for _ in range(steps):\n",
        "        actions_single = {}\n",
        "        actions_multi = {}\n",
        "\n",
        "        for agent in env_single.agents:\n",
        "            actions_single[agent] = env_single.action_space(agent).sample()\n",
        "\n",
        "        images_single.append(env_single.render())\n",
        "\n",
        "        observations, rewards, terminations, truncations, infos = env_single.step(actions_single)\n",
        "        rewards_single.append(sum(rewards.values()))\n",
        "\n",
        "        for agent in env_multi.agents:\n",
        "            actions_multi[agent] = env_multi.action_space(agent).sample()\n",
        "\n",
        "        images_multi.append(env_multi.render())\n",
        "\n",
        "        observations, rewards, terminations, truncations, infos = env_multi.step(actions_multi)\n",
        "        rewards_multi.append(sum(rewards.values()))\n",
        "\n",
        "    return rewards_single, rewards_multi, images_single, images_multi\n",
        "\n",
        "def plot_with_gif(N_agents=2, steps=100):\n",
        "    rewards_single, rewards_multi, images_single, images_multi = simulate_non_stationarity_with_gif(N_agents, steps)\n",
        "\n",
        "    rewards_plot = plt.figure(figsize=(10, 6))\n",
        "    plt.plot(rewards_single, label='Single-Agent Reward', color='blue')\n",
        "    plt.plot(rewards_multi, label=f'Multi-Agent Reward (N={N_agents})', color='red')\n",
        "    plt.title(\"Non-Stationarity: Reward Fluctuations in Single-Agent vs. Multi-Agent Setting\")\n",
        "    plt.xlabel(\"Training Steps\")\n",
        "    plt.ylabel(\"Reward\")\n",
        "    plt.legend()\n",
        "    plt.grid(True)\n",
        "    plt.tight_layout()\n",
        "    plt.show()\n",
        "\n",
        "    save_gif_from_images(images_single, filename='single_agent.gif')\n",
        "    save_gif_from_images(images_multi, filename='multi_agent.gif')\n",
        "\n",
        "    display(Markdown(\"### **Single-Agent Animation**\"))\n",
        "    display(Image(filename=\"single_agent.gif\", width=200, height=200))\n",
        "\n",
        "    display(Markdown(f\"### **Multi-Agent Animation (N={N_agents})**\"))\n",
        "    display(Image(filename=\"multi_agent.gif\", width=200, height=200))\n",
        "\n",
        "interactive_plot = interactive(plot_with_gif, N_agents=(2, 10, 1), steps=(100, 500, 10))\n",
        "display(interactive_plot)\n"
      ],
      "metadata": {
        "colab": {
          "base_uri": "https://localhost:8080/",
          "height": 1000,
          "referenced_widgets": [
            "9ea780c228ef4ababade5b054347a726",
            "ed4b38a643fe41e3a9cdd5b4d4cced0e",
            "53c41417bf2d4b7580d0610d607be014",
            "92d1cd60b755478799c1407f750dadb4",
            "0166ba01ca424046a3ebe63bd48bc88a",
            "3d0dccc32309475296b7a151b8825bf2",
            "09a03259b6584349a95752a6dbf2358d",
            "d4ff8395e7af43a39faa52d7bb2670e7",
            "7ca6f885ebbe4410a87d36f8915053e8",
            "93731ab87bb54da1911206377f395e34"
          ]
        },
        "id": "0J8UWx5RaNBO",
        "outputId": "9677941a-4777-4d26-f416-b2fe08983b02"
      },
      "execution_count": 21,
      "outputs": [
        {
          "output_type": "display_data",
          "data": {
            "text/plain": [
              "interactive(children=(IntSlider(value=2, description='N_agents', max=10, min=2), IntSlider(value=100, descript…"
            ],
            "application/vnd.jupyter.widget-view+json": {
              "version_major": 2,
              "version_minor": 0,
              "model_id": "9ea780c228ef4ababade5b054347a726"
            }
          },
          "metadata": {}
        }
      ]
    },
    {
      "cell_type": "markdown",
      "source": [
        "### 📡 2. **Communication**\n"
      ],
      "metadata": {
        "id": "hTEv5AnY4MMg"
      }
    },
    {
      "cell_type": "markdown",
      "source": [
        "Agents work together to achieve common goals. A key challenge is **communication** — how do agents share information when they can't directly observe each other's states or intentions? Efficient communication is critical for coordinating actions, but poor communication strategies can reduce performance.\n",
        "\n",
        "\n",
        "\n",
        "**The Problem**\n",
        "\n",
        "In MARL, agents face three key communication challenges:\n",
        "\n",
        "1. **When to communicate?** Not all decisions require input from other agents, and over-communication can create inefficiencies.\n",
        "2. **What to communicate?** Agents need to decide which information is essential and relevant to share.\n",
        "3. **How to communicate efficiently?** Too much or too little communication can slow down decision-making and consume resources.\n",
        "\n",
        "If communication isn’t handled properly, agents may act independently or inefficiently, reducing the overall performance.\n",
        "\n",
        "---\n",
        "\n",
        " **Types of Communication**\n",
        "\n",
        "1. **Implicit Communication**:\n",
        "   - **Definition**: Agents communicate indirectly through their actions, inferring the intentions of others by observing their behavior.\n",
        "   - **Example**: Agent A moves in a specific direction, and Agent B infers that Agent A is trying to reach a destination.\n",
        "   - **Advantages**: No message overhead.\n",
        "   - **Disadvantages**: Can lead to misunderstandings, especially in complex environments.\n",
        "\n",
        "2. **Explicit Communication**:\n",
        "   - **Definition**: Agents send direct messages to each other to convey information.\n",
        "   - **Example**: Agent A tells Agent B, \"There’s an obstacle ahead, move left.\"\n",
        "   - **Advantages**: Clear coordination.\n",
        "   - **Disadvantages**: Communication overhead and possible complexity in managing messages.\n",
        "\n",
        "---\n",
        "\n",
        "**Potential Solutions to the Communication Challenge**\n",
        "\n",
        "1. **Learning Communication with Deep Reinforcement Learning (DRL)**:\n",
        "   - Agents can learn to develop communication protocols through reinforcement learning. They’re trained to maximize their performance, while also learning to share information in a way that improves coordination.\n",
        "   - **Example**: Agents learn when to signal each other or interpret each other’s actions without explicit instructions.\n",
        "\n",
        "2. **Targeted Multi-Agent Communication (TARMAC)**:\n",
        "   - Agents use attention mechanisms to decide what and who to communicate with, ensuring that only relevant information is shared. This reduces communication costs and improves coordination.\n",
        "   - **Example**: An agent might only communicate with another agent when an obstacle or important event occurs.\n"
      ],
      "metadata": {
        "id": "7BySW5X32Sit"
      }
    },
    {
      "cell_type": "markdown",
      "source": [
        "### 📊 3. **Credit Assignment**"
      ],
      "metadata": {
        "id": "6jfwNGmSETbl"
      }
    },
    {
      "cell_type": "markdown",
      "source": [
        "\n",
        "Agents work together to maximize a global reward. A key challenge is **credit assignment** — determining how much each agent contributes to the team’s success or failure. Without proper credit assignment, agents may struggle to learn effective policies.\n",
        "\n",
        "---\n",
        "\n",
        "**The Problem**\n",
        "\n",
        "- **Joint Reward**: Agents receive a shared reward $r_t$, making it unclear which agent's actions led to the outcome.  \n",
        "- **Delayed Rewards**: Rewards might not occur immediately, making it harder to link actions to results.  \n",
        "\n",
        "The goal is to distribute the joint reward among agents such that each learns its contribution to the global outcome.\n",
        "\n",
        "---\n",
        "\n",
        "1. **Global Objective**:\n",
        "   Maximize the total discounted reward:\n",
        "   $$\n",
        "   J = \\mathbb{E} \\left[ \\sum_{t=0}^T \\gamma^t r_t \\right],\\quad  \\text{where \\( \\gamma \\) is the discount factor.}\n",
        "   $$\n",
        "   \n",
        "\n",
        "2. **Credit Decomposition**:\n",
        "   Decompose $r_t $ into individual contributions  $c_t^i$ for $N$ agents:\n",
        "   $$\n",
        "   r_t = \\sum_{i=1}^N c_t^i.\n",
        "   $$\n",
        "\n",
        "3. **Advantage Function** (for Temporal Credit):\n",
        "   Use the advantage function to estimate an agent's impact:\n",
        "   $$\n",
        "   A_t^i = Q(s_t, a_t^i) - V(s_t),\n",
        "   $$\n",
        "   where $ Q(s_t, a_t^i) $ evaluates action $ a_t^i $, and $V(s_t) $ evaluates the state $s_t$.\n",
        "\n",
        "---\n"
      ],
      "metadata": {
        "id": "0C5iLj5s5six"
      }
    },
    {
      "cell_type": "markdown",
      "source": [
        "### 🔍 **4. Partial Observability**  \n",
        "\n",
        "Agents in MARL often lack access to the full global state, relying on partial observations, which poses significant challenges for coordination and learning.  \n",
        "\n",
        "---\n",
        "\n",
        "**The Problem**  \n",
        "\n",
        "1. **Limited Observations**: Each agent $i$ observes only a part of the environment:  \n",
        "   $$o_t^i = \\mathcal{O}^i(s_t),$$  \n",
        "   where $s_t$ is the true global state, and $\\mathcal{O}^i$ is the observation function of agent $i$.  \n",
        "\n",
        "2. **Decentralized Policies**: Agents act independently based on local observations:  \n",
        "   $$a_t^i = \\pi^i(o_t^i),$$  \n",
        "   which may lead to suboptimal joint behavior.  \n",
        "\n",
        "3. **Non-Markovian Observations**: The partial observation $o_t^i$ may not contain enough information to make decisions Markovian.  \n",
        "\n",
        "---\n",
        "\n",
        "**Challenges**  \n",
        "\n",
        "1. **Coordination Under Uncertainty**: Incomplete or inconsistent information hinders agents' ability to work together.  \n",
        "2. **Hidden States**: Critical environment or agent states are unobservable, leading to poorly informed decisions.  \n",
        "3. **Delayed Effects**: Observations may not immediately reflect the consequences of an action.  \n",
        "\n",
        "---\n"
      ],
      "metadata": {
        "id": "tM0qXQWALjFK"
      }
    },
    {
      "cell_type": "markdown",
      "source": [
        "\n",
        "\n",
        "---\n",
        "\n",
        "# **Algorithmic Solutions**\n",
        "\n",
        "---\n",
        "\n"
      ],
      "metadata": {
        "id": "GRNaBf2CK2K0"
      }
    },
    {
      "cell_type": "markdown",
      "source": [
        "## **Centralized Training with Decentralized Execution**\n"
      ],
      "metadata": {
        "id": "GGpcHeGBjiB9"
      }
    },
    {
      "cell_type": "markdown",
      "source": [
        "CTDE enables agents to train using global information while executing policies based on local observations. This approach effectively addresses non-stationarity in cooperative settings.\n",
        "\n",
        "**Key Aspects of CTDE:**\n",
        "\n",
        "- **Centralized Training:** Agents learn from global information during training.\n",
        "\n",
        "- **Decentralized Execution:** Agents operate based on local observations during execution.\n",
        "\n",
        "- **Cooperative Focus:** Particularly effective in settings where agents collaborate toward a common goal.\n",
        "\n",
        "To facilitate information sharing during training, CTDE can utilize:\n",
        "\n",
        "1. **Centralized Critic Methods:** Employ a centralized critic during training to evaluate joint actions, providing a unified learning signal that addresses challenges like nonstationarity and credit assignment.\n",
        "\n",
        "2. **Value Function Factorization Methods:** Decompose the joint value function into individual components, enabling cooperative learning while maintaining decentralized execution.\n"
      ],
      "metadata": {
        "id": "b9Ju4UL_jeiQ"
      }
    },
    {
      "cell_type": "markdown",
      "source": [
        "### **🧠1. Policy Gradient Methods and its Multi-agent variants**\n",
        "\n",
        "These approaches optimize agents' policies directly through gradient-based techniques, effectively handling large or continuous action spaces.\n",
        "\n",
        "To enhance learning, **centralized critic methods** are employed during training, providing a unified evaluation of joint actions and addressing key challenges:\n",
        "\n",
        "- **Nonstationarity:** Centralized critics offer a stable learning signal, mitigating the nonstationary environment caused by agents' evolving policies.\n",
        "\n",
        "- **Credit Assignment:** They assist in evaluating joint actions, facilitating accurate credit assignment and improving individual agent learning.\n",
        "\n",
        "- **Sample Efficiency:** By leveraging global information, centralized critics lead to more efficient learning and faster convergence compared to decentralized approaches.\n",
        "\n",
        "Incorporating centralized critics enhances coordination and performance in cooperative multi-agent settings.\n",
        "#### 🧠🤝 1.1. Multi-Agent Deep Deterministic Policy Gradient (MADDPG)\n",
        "\n",
        "MADDPG extends the Deep Deterministic Policy Gradient (DDPG) algorithm to multi-agent environments by incorporating a centralized critic for each agent, which considers the actions and observations of all agents during training. This centralized training with decentralized execution (CTDE) framework enables agents to learn coordinated behaviors while acting based on their local observations during execution.\n",
        "\n",
        "**Update Formulas:**\n",
        "\n",
        "- **Critic Update:**\n",
        "\n",
        "  The critic for agent $i$ is updated by minimizing the loss function:\n",
        "\n",
        "  $$\n",
        "  \\mathcal{L}_i(\\theta_i) = \\mathbb{E} \\left[ \\left( Q_i(s_t, a_1, a_2, \\ldots, a_N; \\theta_i) - y_t \\right)^2 \\right]\n",
        "  $$\n",
        "\n",
        "  Where:\n",
        "  - $y_t = r_i + \\gamma \\, Q_i(s_{t+1}, a_1', a_2', \\ldots, a_N'; \\theta_i^-)$ is the target value.\n",
        "  - $a_j'$ represents the action taken by agent $j$ at the next time step, determined by its policy $\\pi_j$.\n",
        "  - $\\theta_i^-$ are the parameters of the target critic network for agent $i$.\n",
        "\n",
        "- **Actor Update:**\n",
        "\n",
        "  The actor for agent $i$ is updated by maximizing the expected return, using the policy gradient:\n",
        "\n",
        "  $$\n",
        "  \\nabla_{\\phi_i} J(\\phi_i) = \\mathbb{E} \\left[ \\nabla_{a_i} Q_i(s_t, a_1, a_2, \\ldots, a_N; \\theta_i) \\cdot \\nabla_{\\phi_i} \\pi_i(o_i; \\phi_i) \\right]\n",
        "  $$\n",
        "\n",
        "  Where:\n",
        "  - $\\pi_i(o_i; \\phi_i)$ is the policy of agent $i$ parameterized by $\\phi_i$, based on its local observation $o_i$.\n",
        "\n",
        "**Comparison with SARL:**\n",
        "\n",
        "In Single-Agent Reinforcement Learning (SARL), an agent learns a policy based solely on its own experiences and observations. In contrast, MADDPG allows each agent to consider the actions and observations of all agents during training through a centralized critic, facilitating coordinated behavior in multi-agent settings.\n",
        "\n",
        "#### 🧠⚖️ 1.2. Counterfactual Multi-Agent Policy Gradients (COMA)\n",
        "\n",
        "COMA is an actor-critic method designed for fully cooperative multi-agent environments. It employs a centralized critic to estimate the Q-value of joint actions and uses a counterfactual baseline to compute the advantage function for each agent, which helps in addressing the credit assignment problem by evaluating an agent's contribution to the team's success.\n",
        "\n",
        "**Update Formulas:**\n",
        "\n",
        "- **Critic Update:**\n",
        "\n",
        "  The critic is updated by minimizing the temporal-difference error:\n",
        "\n",
        "  $$\n",
        "  \\mathcal{L}(\\theta) = \\mathbb{E} \\left[ \\left( Q(s_t, \\mathbf{a}_t; \\theta) - y_t \\right)^2 \\right]\n",
        "  $$\n",
        "\n",
        "  Where:\n",
        "  - $y_t = r_t + \\gamma \\, Q(s_{t+1}, \\mathbf{a}_{t+1}; \\theta^-)$ is the target value.\n",
        "  - $\\mathbf{a}_t$ denotes the joint action of all agents at time $t$.\n",
        "  - $\\theta^-$ are the parameters of the target critic network.\n",
        "\n",
        "- **Actor Update:**\n",
        "\n",
        "  The actor for agent $i$ is updated using the policy gradient, weighted by the counterfactual advantage:\n",
        "\n",
        "  $$\n",
        "  \\nabla_{\\phi_i} J(\\phi_i) = \\mathbb{E} \\left[ \\nabla_{\\phi_i} \\log \\pi_i(a_{i,t} | o_{i,t}; \\phi_i) \\cdot A_i(s_t, \\mathbf{a}_t) \\right]\n",
        "  $$\n",
        "\n",
        "  Where:\n",
        "  - $A_i(s_t, \\mathbf{a}_t) = Q(s_t, \\mathbf{a}_t) - \\sum_{a_i'} \\pi_i(a_i' | o_{i,t}) Q(s_t, (a_i', \\mathbf{a}_{-i,t}))$ is the counterfactual advantage function for agent $i$.\n",
        "  - $\\mathbf{a}_{-i,t}$ represents the actions of all agents except agent $i$ at time $t$.\n",
        "\n",
        "**Comparison with SARL:**\n",
        "\n",
        "In SARL, the agent focuses on optimizing its own policy without considering the interactions with other agents. COMA, however, addresses the multi-agent credit assignment problem by using a centralized critic and counterfactual reasoning, enabling more effective learning in cooperative multi-agent environments.\n",
        "\n",
        "#### 🧠📈 1.3. Multi-Agent Proximal Policy Optimization (MAPPO)\n",
        "\n",
        "MAPPO extends the Proximal Policy Optimization (PPO) algorithm to multi-agent environments, incorporating mechanisms to handle the complexities of multi-agent interactions. It employs a centralized value function during training to improve sample efficiency and stability, while maintaining decentralized execution. :contentReference[oaicite:1]{index=1}\n",
        "\n",
        "**Objective Function:**\n",
        "\n",
        "The objective function for agent $i$ is:\n",
        "\n",
        "$$\n",
        "L_i(\\theta_i) = \\mathbb{E}_t \\left[ \\min \\left( r_t(\\theta_i) \\hat{A}_t, \\text{clip}(r_t(\\theta_i), 1 - \\epsilon, 1 + \\epsilon) \\hat{A}_t \\right) \\right]\n",
        "$$\n",
        "\n",
        "Where:\n",
        "- $r_t(\\theta_i) = \\frac{\\pi_i(a_i | o_i; \\theta_i)}{\\pi_i(a_i | o_i; \\theta_i^{\\text{old}})}$ is the probability ratio between the current and old policies.\n",
        "- $\\hat{A}_t$ is the estimated advantage function.\n",
        "- $\\epsilon$ is the clipping parameter to limit the change in policy updates.\n",
        "\n",
        "**Value Function Update:**\n",
        "\n",
        "The centralized value function is updated by minimizing the loss:\n",
        "\n",
        "$$\n",
        "\\mathcal{L}^V(\\phi) = \\mathbb{E}_t \\left[ \\left( V(s_t; \\phi) - R_t \\right)^2 \\right]\n",
        "$$\n",
        "#### 🧠🔄 1.4. Multi-Agent Actor-Critic for Mixed Cooperative-Competitive Environments (MAAC)\n",
        "\n",
        "MAAC combines actor-critic methods with attention mechanisms to handle mixed environments. The critic for agent $ i $ is:\n",
        "\n",
        "$$ Q_i(s_t, a_t) = \\mathbb{E}_{a_{-i}} \\left[ r_t + \\gamma V_i(s_{t+1}) \\right] $$\n",
        "\n",
        "Where:\n",
        "- $ a_{-i} $: Actions of all agents except $ i $\n",
        "- $ V_i(s_{t+1}) $: Value function for agent $ i $ at time $ t+1 $\n",
        "\n",
        "**Comparison with SARL:**\n",
        "In SARL, a single actor-critic method is applied to the agent. In MAAC, attention mechanisms are used to handle interactions in mixed cooperative-competitive environments.\n",
        "\n",
        "\n"
      ],
      "metadata": {
        "id": "gfPhfsNPqAID"
      }
    },
    {
      "cell_type": "markdown",
      "source": [
        "### **🧠2. Value Decomposition Methods**\n"
      ],
      "metadata": {
        "id": "3ti1pbp-o6i-"
      }
    },
    {
      "cell_type": "markdown",
      "source": [
        "\n",
        "Value decomposition methods aim to break down the joint value function into individual components, enabling agents to learn cooperative behaviors while maintaining decentralized execution. This decomposition simplifies the complex problem of credit assignment in multi-agent systems, where determining the contribution of each agent to the overall outcome is challenging.\n",
        "\n",
        "\n",
        "#### 🧠💡 2.1. Value Decomposition Networks (VDN)\n",
        "\n",
        "VDN decomposes the joint Q-function into a sum of individual Q-functions:\n",
        "\n",
        "$$ Q_{\\text{joint}}(s_t, \\mathbf{a}_t) = \\sum_{i} Q_i(s_t, a_{i,t}) $$\n",
        "\n",
        "Where:\n",
        "- $ \\mathbf{a}_t $: Joint action at time $ t $\n",
        "- $ Q_{\\text{joint}} $: Joint Q-function\n",
        "- $ Q_i $: Individual Q-function for agent $ i $\n",
        "\n",
        "**Comparison with SARL:**\n",
        "In SARL, a single Q-function is learned for the agent. In VDN, the joint Q-function is decomposed into individual Q-functions, facilitating decentralized learning.\n",
        "\n",
        "#### 🧠🔗 2.2. QMIX\n",
        "\n",
        "QMIX is a monotonic value function factorization method that ensures joint action-value maximization. The joint Q-function is represented as:\n",
        "\n",
        "$$ Q_{\\text{joint}}(s_t, \\mathbf{a}_t) = \\sum_{i} f_i(s_t, a_{i,t}) \\quad \\text{with} \\quad f_i \\text{ being a monotonic function} $$\n",
        "\n",
        "**Comparison with SARL:**\n",
        "In SARL, a single Q-function is learned for the agent. In QMIX, the joint Q-function is factorized into individual components, ensuring that the joint action-value is maximized.\n",
        "\n",
        "#### 🧠⚡ 2.3. QTRAN\n",
        "\n",
        "QTRAN decomposes the joint Q-function into individual Q-functions while maintaining optimality. The decomposition is:\n",
        "\n",
        "$$ Q_{\\text{joint}}(s_t, \\mathbf{a}_t) = \\sum_{i} Q_i(s_t, a_{i,t}) + \\sum_{i,j} \\Delta_{ij}(s_t, a_{i,t}, a_{j,t}) $$\n",
        "\n",
        "Where:\n",
        "- $ \\Delta_{ij} $: Interaction term between agents $ i $ and $ j $\n",
        "\n",
        "**Comparison with SARL:**\n",
        "In SARL, a single Q-function is learned for the agent. In QTRAN, the joint Q-function is decomposed into individual Q-functions with interaction terms, allowing for coordinated learning.\n",
        "\n",
        "\n"
      ],
      "metadata": {
        "id": "j6UMLYcJol24"
      }
    },
    {
      "cell_type": "markdown",
      "source": [
        "##  **Independent Learning Approaches**"
      ],
      "metadata": {
        "id": "COyU1j2RXkGY"
      }
    },
    {
      "cell_type": "markdown",
      "source": [
        " **Independent Learning Approaches** treat each agent as an autonomous learner, applying SARL techniques without explicit coordination. These approaches assume that other agents' policies are fixed, leading each agent to independently optimize its own policy.\n",
        "\n",
        "These independent learning approaches are particularly suited for competitive settings, where agents operate without explicit coordination. However, they may face challenges in cooperative environments due to the lack of shared information and potential for suboptimal outcomes.\n",
        "\n",
        "**Key Aspects of Independent Learning Approaches:**\n",
        "\n",
        "- **Decentralized Learning:** Each agent learns its policy without sharing information or coordinating with other agents.\n",
        "\n",
        "- **Potential for Suboptimal Outcomes:** Without coordination, agents may converge to suboptimal policies, especially in competitive or complex environments.\n",
        "\n",
        "**🧠 1. Independent Q-Learning (IQL)**\n",
        "\n",
        "In IQL, each agent independently learns its own Q-function, assuming other agents' policies remain static. The Q-value update rule for agent $i$ is:\n",
        "\n",
        "$$\n",
        "Q_i(s_t, a_t) \\leftarrow Q_i(s_t, a_t) + \\alpha \\left[ r_t + \\gamma \\max_{a'} Q_i(s_{t+1}, a') - Q_i(s_t, a_t) \\right]\n",
        "$$\n",
        "\n",
        "Where:\n",
        "- $s_t$: State at time $t$\n",
        "- $a_t$: Action taken at time $t$\n",
        "- $r_t$: Reward received at time $t$\n",
        "- $\\gamma$: Discount factor\n",
        "- $\\alpha$: Learning rate\n",
        "\n",
        "**🧠💻 2. Independent Deep Q-Networks (IDQN)**\n",
        "\n",
        "IDQN extends IQL by employing deep neural networks to approximate Q-functions. The update rule mirrors that of IQL, but the Q-function is represented by a neural network $Q_i(s, a; \\theta_i)$, where $\\theta_i$ denotes the network parameters.\n",
        "\n",
        "**🧠🎭 3. Independent Actor-Critic (IAC)**\n",
        "\n",
        "In IAC, each agent maintains its own policy $\\pi_i$ and value function $V_i$, updating them independently. The policy is updated using the policy gradient theorem:\n",
        "\n",
        "$$\n",
        "\\nabla_{\\theta_i} J(\\theta_i) = \\mathbb{E}_{\\tau} \\left[ \\nabla_{\\theta_i} \\log \\pi_i(a_t | s_t; \\theta_i) \\cdot \\delta_t \\right]\n",
        "$$\n",
        "\n",
        "Where:\n",
        "- $\\delta_t = r_t + \\gamma V_i(s_{t+1}) - V_i(s_t)$\n",
        "\n",
        "**🧠📈 4. Independent Proximal Policy Optimization (IPPO)**\n",
        "\n",
        "IPPO involves each agent independently applying Proximal Policy Optimization (PPO) to update its policy. The objective function for agent $i$ is:\n",
        "\n",
        "$$\n",
        "L^{\\text{CLIP}}_i(\\theta_i) = \\mathbb{E}_t \\left[ \\min \\left( r_t(\\theta_i) \\cdot \\hat{A}_t, \\text{clip}(r_t(\\theta_i), 1 - \\epsilon, 1 + \\epsilon) \\cdot \\hat{A}_t \\right) \\right]\n",
        "$$\n",
        "\n",
        "Where:\n",
        "- $r_t(\\theta_i) = \\frac{\\pi_i(a_t | s_t; \\theta_i)}{\\pi_i(a_t | s_t; \\theta_{i,\\text{old}})}$\n",
        "- $\\hat{A}_t$: Estimated advantage at time $t$\n",
        "- $\\epsilon$: Clipping parameter\n",
        "\n",
        "\n",
        "\n"
      ],
      "metadata": {
        "id": "prtXyrbUPK9v"
      }
    },
    {
      "cell_type": "markdown",
      "source": [
        "## Independent PPO in Cooperative setting for Pistonball game using PettingZoo Gym"
      ],
      "metadata": {
        "id": "1EKJPcKqGSAL"
      }
    },
    {
      "cell_type": "markdown",
      "source": [
        "In this example below, we showcase the use of an IPPO algorithm that is trained to play the Atari game, Pistonball.\n",
        "\n",
        "This is a simple physics based cooperative game where the goal is to move the ball to the left wall of the game border by activating the vertically moving pistons.We can see here this game falls into the cooperative setting, and can alternate between whether the agents act sequentially, know as the Agent Environment Cycle mode or they take decisions in parallel.\n",
        "\n",
        "The agents are rewarded for moving the ball to the left, and incentivized to to it quickly through the use of a time penalty.This is an IPPO implementation, where each agent is treated independently with shared policy weights but no explicit coordination or centralized critic.\n",
        "\n",
        "The hyperparameters that can be played with are the clipping co-efficient, the number of episodes, and the discount rate.\n",
        "\n",
        "This code has been slightly modified from the [documentation](https://pettingzoo.farama.org/tutorials/cleanrl/implementing_PPO/) to enable you to experiment with the hyperparameters in real time. Credit to author [Jet](https://github.com/jjshoots) for the initial implementation."
      ],
      "metadata": {
        "id": "_WYNy8X-TF-H"
      }
    },
    {
      "cell_type": "code",
      "source": [
        "!mv INF8250AE-MARL-NOTEBOOK INF8250AE_MARL_NOTEBOOK\n"
      ],
      "metadata": {
        "id": "kRxUvqCrsE3X"
      },
      "execution_count": null,
      "outputs": []
    },
    {
      "cell_type": "code",
      "source": [
        "!pip install supersuit\n",
        "!pip install pymunk\n",
        "import sys\n",
        "sys.path.append(\"/content/INF8250AE_MARL_NOTEBOOK/PettingZoo_PistonBall\")  # Update with the path to your subfolder\n",
        "from INF8250AE_MARL_NOTEBOOK.PettingZoo_PistonBall.pistonball_mappo import train_policy, render_policy"
      ],
      "metadata": {
        "id": "xKtIOEkaN46V",
        "colab": {
          "base_uri": "https://localhost:8080/"
        },
        "outputId": "9b97cb62-677b-46c1-95a0-467197099597"
      },
      "execution_count": null,
      "outputs": [
        {
          "output_type": "stream",
          "name": "stdout",
          "text": [
            "Requirement already satisfied: supersuit in /usr/local/lib/python3.10/dist-packages (3.9.3)\n",
            "Requirement already satisfied: numpy>=1.19.0 in /usr/local/lib/python3.10/dist-packages (from supersuit) (1.26.4)\n",
            "Requirement already satisfied: gymnasium>=0.28.1 in /usr/local/lib/python3.10/dist-packages (from supersuit) (1.0.0)\n",
            "Requirement already satisfied: tinyscaler>=1.2.6 in /usr/local/lib/python3.10/dist-packages (from supersuit) (1.2.8)\n",
            "Requirement already satisfied: cloudpickle>=1.2.0 in /usr/local/lib/python3.10/dist-packages (from gymnasium>=0.28.1->supersuit) (3.1.0)\n",
            "Requirement already satisfied: typing-extensions>=4.3.0 in /usr/local/lib/python3.10/dist-packages (from gymnasium>=0.28.1->supersuit) (4.12.2)\n",
            "Requirement already satisfied: farama-notifications>=0.0.1 in /usr/local/lib/python3.10/dist-packages (from gymnasium>=0.28.1->supersuit) (0.0.4)\n",
            "Requirement already satisfied: pymunk in /usr/local/lib/python3.10/dist-packages (6.9.0)\n",
            "Requirement already satisfied: cffi>=1.17.1 in /usr/local/lib/python3.10/dist-packages (from pymunk) (1.17.1)\n",
            "Requirement already satisfied: pycparser in /usr/local/lib/python3.10/dist-packages (from cffi>=1.17.1->pymunk) (2.22)\n"
          ]
        }
      ]
    },
    {
      "cell_type": "code",
      "source": [
        "#Use this cell to check if notebook is set to use cpu or gpu.\n",
        "#You can get faster results from the GPU\n",
        "print(\"GPU available:\", torch.cuda.is_available())\n",
        "device = torch.device(\"cuda\" if torch.cuda.is_available() else \"cpu\")\n",
        "print(\"Using device:\", device)"
      ],
      "metadata": {
        "id": "ifcGnGT29ix4",
        "colab": {
          "base_uri": "https://localhost:8080/"
        },
        "outputId": "b5875147-9762-4a7e-bd5d-ae6d78af01ef"
      },
      "execution_count": null,
      "outputs": [
        {
          "output_type": "stream",
          "name": "stdout",
          "text": [
            "GPU available: True\n",
            "Using device: cuda\n"
          ]
        }
      ]
    },
    {
      "cell_type": "code",
      "source": [
        "#Select Hyperparamters\n",
        "num_episodes = 1\n",
        "discount_rate = 0.99\n",
        "clipping_coef = 0.1"
      ],
      "metadata": {
        "id": "PXKsk1h2IXZH"
      },
      "execution_count": null,
      "outputs": []
    },
    {
      "cell_type": "code",
      "source": [
        "trained_agent, device = train_policy(num_episodes, discount_rate, clipping_coef)"
      ],
      "metadata": {
        "id": "kp9byEEWMzA7",
        "colab": {
          "base_uri": "https://localhost:8080/"
        },
        "outputId": "66cdd6b9-06fc-4ae7-e252-493de6d113eb"
      },
      "execution_count": null,
      "outputs": [
        {
          "output_type": "stream",
          "name": "stdout",
          "text": [
            "Beginning Training\n",
            "Training episode 0\n",
            "Episodic Return: -13.218403816223145\n",
            "Episode Length: 124\n",
            "\n",
            "Value Loss: 99.61067199707031\n",
            "Policy Loss: -13.34893798828125\n",
            "Old Approx KL: -0.0021174773573875427\n",
            "Approx KL: 0.0009930990636348724\n",
            "Clip Fraction: 0.10096153846153846\n",
            "Explained Variance: -0.042389869689941406\n",
            "\n",
            "-------------------------------------------\n",
            "\n"
          ]
        }
      ]
    },
    {
      "cell_type": "code",
      "source": [
        "#Produce a gif of the output\n",
        "render_policy(trained_agent, num_episodes, device)"
      ],
      "metadata": {
        "id": "DQlGEdIKMywq",
        "colab": {
          "base_uri": "https://localhost:8080/"
        },
        "outputId": "5ee79d40-2e92-4fc7-a849-8bc59ee47c1d"
      },
      "execution_count": null,
      "outputs": [
        {
          "output_type": "stream",
          "name": "stdout",
          "text": [
            "Saved GIF to pistonball.gif\n"
          ]
        }
      ]
    },
    {
      "cell_type": "code",
      "source": [
        "from IPython.display import Image, display\n",
        "# Display the uploaded GIF\n",
        "display(Image(filename=\"/content/pistonball.gif\"))"
      ],
      "metadata": {
        "id": "M7gThkAXRwsF",
        "colab": {
          "base_uri": "https://localhost:8080/",
          "height": 577
        },
        "outputId": "beaf73d3-9190-4cff-ceff-4611e794eae8"
      },
      "execution_count": null,
      "outputs": [
        {
          "output_type": "display_data",
          "data": {
            "image/gif": "[encoded data removed]",
            "text/plain": [
              "<IPython.core.display.Image object>"
            ]
          },
          "metadata": {}
        }
      ]
    },
    {
      "cell_type": "markdown",
      "source": [
        "# Competitive Scenario in Multi-Agent RL\n",
        "\n",
        "In this part of the tutorial, we will explore the dynamics of **competitive scenarios in multi-agent reinforcement learning (MARL)**, discuss different types of algorithms for competitive MARL, and explain how we can apply design choices for such scenarios. We will also introduce the **Minimax Q-Learning Algorithm** for self-play, explain how to evaluate agents using different metrics like win rate, **ELO rating**, and **TrueSkill**, and use a **Tic-Tac-Toe game** as a practical example using the `PettingZoo` library.\n",
        "\n",
        "## 1. Competitive Scenario and Its MDP Dynamics\n",
        "\n",
        "### What is a Competitive Scenario in MARL?\n",
        "A competitive scenario in MARL refers to a setup where multiple agents compete against each other, usually with opposing goals. For example, two agents could play a zero-sum game, where one agent’s gain is another agent’s loss.\n",
        "\n",
        "# Zero-Sum Game\n",
        "\n",
        "A **zero-sum game** is a situation in game theory where one player's gain or loss is exactly balanced by the losses or gains of other players. In other words, the total \"wealth\" or \"points\" in the game remains constant, and the sum of outcomes is always zero.\n",
        "\n",
        "### For Zero sum games:\n",
        "- **Competitive**: One player’s gain comes at the expense of another's loss.\n",
        "- **Constant Total**: The total value in the game does not change.\n",
        "- **Examples**:\n",
        "  - **Poker**: The amount won by one player is lost by others.\n",
        "  - **Tennis**: One player's score increase is balanced by the other's decrease.\n",
        "\n",
        "### Example:\n",
        "In a two-player game where Player A wins \\$10, Player B loses \\$10. The total is 0, hence a **zero-sum** situation.\n"
      ],
      "metadata": {
        "id": "qXemkhtPnB6s"
      }
    },
    {
      "cell_type": "markdown",
      "source": [
        "\n",
        "\n",
        "### MDP Dynamics in Competitive Scenarios\n",
        "In a multi-agent competitive scenario, each agent operates in a **Markov Decision Process (MDP)**, where:\n",
        "- The environment is **partially observable** to each agent (as they do not have access to other agents' internal states).\n",
        "- The state space, action space, and reward structure are influenced by the actions of all agents involved.\n",
        "- The goal is often to optimize a reward signal that is **inversely related** to the other agent's reward (e.g., if one agent wins, the other loses).\n",
        "\n",
        "\n"
      ],
      "metadata": {
        "id": "O3K4RlE2nb4z"
      }
    },
    {
      "cell_type": "markdown",
      "source": [
        "\n",
        "## 2. Types of Algorithms for Multi-Agent Reinforcement Learning in Competitive Scenarios 🧠\n",
        "\n",
        "In competitive MARL, agents need to account for the actions and strategies of their opponents while learning to maximize their own reward. There are several approaches to tackle competitive MARL problems:\n",
        "\n",
        "### a. **Independent Q-Learning (IQL)**\n",
        "Each agent learns independently using **Q-learning**, treating the other agents as part of the environment. However, this approach may lead to suboptimal behavior as it assumes other agents are stationary, which is not the case in competitive scenarios.\n",
        "\n",
        "### b. **Minimax Algorithms**\n",
        "Minimax algorithms are based on the assumption that the opponent is playing optimally to minimize the agent's reward. **Minimax Q-learning** is one such algorithm that combines **Q-learning** with a **minimax strategy**, where each agent considers not only the maximum reward it can achieve but also the minimum reward its opponent can achieve.\n",
        "\n",
        "### c. **Counterfactual Regret Minimization (CFR)**\n",
        "In **CFR**, each agent uses regret minimization to adjust its strategy iteratively, aiming to minimize regret over time by evaluating the impact of its actions on the opponent’s strategy.\n",
        "\n",
        "### d. **Multi-Agent Deep Reinforcement Learning (MADRL)**\n",
        "Deep RL techniques like **actor-critic methods** are extended to multi-agent settings, allowing agents to learn complex behaviors. **Centralized training with decentralized execution** is often used in these cases, where the agents are trained together but act independently during execution.\n",
        "\n",
        "### e. **Opponent Modeling**\n",
        "In competitive scenarios, agents can model their opponents' strategies and adjust their behavior accordingly. This can be done through **Supervised Learning** or **Inverse Reinforcement Learning** (IRL).\n",
        "This technique is beneficial in environments where understanding the opponent's strategy is key to success.\n",
        "\n",
        "  - **Implementation Steps:**\n",
        "    - **Opponent Behavior Encoding:** Use neural networks to encode observations of the opponent's actions and states.\n",
        "    - **Policy and Model Joint Training:** Simultaneously train the agent's policy and the opponent model, allowing the agent to adapt to various strategies.\n",
        "    - **Strategic Adjustment:** Utilize the opponent model to predict and counteract the opponent's moves during interactions.\n"
      ],
      "metadata": {
        "id": "0z7jxlA-oPaB"
      }
    },
    {
      "cell_type": "markdown",
      "source": [
        "\n",
        "## 3. Design Choices for Competitive Scenarios\n",
        "\n",
        "When designing an algorithm for competitive MARL, some key design choices include:\n",
        "\n",
        "### a. **Exploration vs. Exploitation**\n",
        "- In a competitive scenario, balancing exploration (trying new strategies) and exploitation (sticking to learned strategies) is essential.\n",
        "- Techniques like **epsilon-greedy** or **Thompson Sampling** can help balance this trade-off.\n",
        "\n",
        "### b. **Opponent Modeling**\n",
        "- Agents may benefit from modeling the opponent's strategy and adapting to changes over time.\n",
        "- This can be done using either **explicit** (keeping a model of the opponent) or **implicit** methods (inferring behavior).\n",
        "\n",
        "### c. **Reward Shaping**\n",
        "- In competitive environments, reward shaping (altering rewards to guide learning) can be used, but care must be taken not to bias the agent’s strategy.\n",
        "  \n",
        "### d. **Training in Adversarial Environments**\n",
        "- **Self-play** is often used, where agents are trained against themselves to learn competitive strategies.\n",
        "  \n",
        "### e. **Fairness**\n",
        "- Ensure that the training process is fair and that the agent is not overfitting to a particular opponent's behavior."
      ],
      "metadata": {
        "id": "Ixp_6cRoooBD"
      }
    },
    {
      "cell_type": "markdown",
      "source": [
        "## 4. Self-Play Competitive Algorithm\n",
        "\n",
        "Self-play is a popular method in competitive MARL where an agent plays against itself to learn an optimal strategy. This is particularly useful when no predefined opponent is available.\n",
        "\n",
        "### Benefits of Self-Play:\n",
        "- **Improves generalization**: Since the agent is constantly facing itself as an opponent, it learns to handle a variety of strategies.\n",
        "- **Zero-sum games**: It is particularly useful for zero-sum games, where the goal of the agent is to maximize its reward while minimizing the opponent's reward.\n",
        "\n",
        "### Example: Self-Play in TicTacToe and Chess games\n",
        "We can use self-play by playing the game with ourself for both the turns. This helps to improve our behaviour in the game with the skill that we have. We'll see an implementation of self-play in the following sections."
      ],
      "metadata": {
        "id": "ZbsO99fKove1"
      }
    },
    {
      "cell_type": "markdown",
      "source": [
        "## 5. Minimax Q-Learning Algorithm\n",
        "\n",
        "### What is Minimax Q-Learning?\n",
        "Minimax Q-Learning is a modification of traditional Q-Learning, designed for competitive scenarios. The agent doesn't just maximize its own reward but also minimizes the reward that the opponent can achieve. This is done by updating the Q-values based on the maximum reward the opponent can achieve in the next state.\n",
        "\n",
        "### Minimax Q-Learning Algorithm Steps:\n",
        "1. **Initialization**: Initialize Q-values for the agent and the opponent.\n",
        "2. **Action Selection**: For each agent, choose actions based on the **minimax criterion**:\n",
        "    - Maximize your own reward while minimizing the opponent’s reward.\n",
        "3. **Q-value Update**: Update the Q-values for the agent based on the observed rewards and the expected future rewards.\n",
        "4. **Repeat**: Continue until convergence or a predefined number of episodes.\n",
        "\n",
        "### Pseudocode for Minimax Q-Learning with Self-Play:\n",
        "```python\n",
        "# Minimax Q-Learning Pseudocode\n",
        "Initialize Q-values for agent and opponent\n",
        "\n",
        "for each episode:\n",
        "    Initialize state S\n",
        "    while not done:\n",
        "        # Agent's action selection (using minimax strategy)\n",
        "        action_a = argmax(Q_a(S) - max(Q_o(S)))\n",
        "        \n",
        "        # Opponent's action selection (using minimax strategy)\n",
        "        action_o = argmax(Q_o(S) - max(Q_a(S)))\n",
        "        \n",
        "        # Take action and observe reward and next state\n",
        "        reward_a, reward_o = step(S, action_a, action_o)\n",
        "        \n",
        "        # Update agent's Q-value\n",
        "        Q_a(S) += alpha * (reward_a + gamma * max(Q_o(S')) - Q_a(S))\n",
        "        \n",
        "        # Update opponent's Q-value\n",
        "        Q_o(S) += alpha * (reward_o + gamma * max(Q_a(S')) - Q_o(S))\n",
        "        \n",
        "        # Update state\n",
        "        S = S'\n"
      ],
      "metadata": {
        "id": "TQeG3hUnf1Du"
      }
    },
    {
      "cell_type": "markdown",
      "source": [
        "# Hands On for Self-Play in Tic-Tac-Toe🤚 ❌ ⭕ 🎮\n",
        "\n",
        "In this section, we implement the MINIMAX Q-LEARNING algorithm with Self-play for the game of TIC-TAC_TOE, a common game played between two players.\n",
        "\n",
        "Interesting facts about the game:\n",
        "- There are over 255,000 possible outcomes in a game of tic-tac-toe. 🔥\n",
        "- Similar games to tic-tac-toe have been found in ancient Egypt and Rome. In Rome, an early version of the game was called terni lapilli, which means \"three pebbles at a time\". 💎 🪓"
      ],
      "metadata": {
        "id": "XXWdooEgpW0E"
      }
    },
    {
      "cell_type": "code",
      "execution_count": null,
      "metadata": {
        "colab": {
          "base_uri": "https://localhost:8080/"
        },
        "id": "ze4U6GSMU9pG",
        "outputId": "9c47291d-2811-4895-d8d8-37b0e6a0a376"
      },
      "outputs": [
        {
          "output_type": "stream",
          "name": "stdout",
          "text": [
            "Requirement already satisfied: pettingzoo in /usr/local/lib/python3.10/dist-packages (1.24.3)\n",
            "Requirement already satisfied: numpy>=1.21.0 in /usr/local/lib/python3.10/dist-packages (from pettingzoo) (1.26.4)\n",
            "Requirement already satisfied: gymnasium>=0.28.0 in /usr/local/lib/python3.10/dist-packages (from pettingzoo) (1.0.0)\n",
            "Requirement already satisfied: cloudpickle>=1.2.0 in /usr/local/lib/python3.10/dist-packages (from gymnasium>=0.28.0->pettingzoo) (3.1.0)\n",
            "Requirement already satisfied: typing-extensions>=4.3.0 in /usr/local/lib/python3.10/dist-packages (from gymnasium>=0.28.0->pettingzoo) (4.12.2)\n",
            "Requirement already satisfied: farama-notifications>=0.0.1 in /usr/local/lib/python3.10/dist-packages (from gymnasium>=0.28.0->pettingzoo) (0.0.4)\n"
          ]
        }
      ],
      "source": [
        "!pip3 install pettingzoo pymunk imageio"
      ]
    },
    {
      "cell_type": "markdown",
      "source": [
        "# Tic Tac Toe Game in Petting zoo\n",
        "\n",
        "[PettingZoo](https://pettingzoo.farama.org/) is a simple library to use for representing general multi-agent reinforcement learning (MARL) problems. PettingZoo includes a wide variety of reference environments, helpful utilities, and tools for creating your own custom environments.\n",
        "\n",
        "<img src=\"https://pettingzoo.farama.org/_images/classic_tictactoe.gif\" alt=\"GIF\" width=\"100\"/>\n",
        "\n",
        "For this environment, we have the following specifications:\n",
        "- Discrete Actions\n",
        "- Discrete States\n",
        "- Rewards : {Win: +1, Loss: -1, Draw: 0}\n",
        "- Agents: 2\n",
        "- Action Shape : (1)\n",
        "- Action Values : [0, 8]\n",
        "- Observation Shape - (3, 3, 2)\n",
        "- Observation Values - [0,1]\n",
        "\n",
        "More can be read about the environment [here](https://pettingzoo.farama.org/environments/classic/tictactoe/)\n"
      ],
      "metadata": {
        "id": "Fab02P3gq8Ui"
      }
    },
    {
      "cell_type": "markdown",
      "source": [
        "## Design Choices used for Competitive Algorithm in Tictactoe\n",
        "- Minimax Q-learning : As the environment is discrete, this can be used to model the opponents behaviour\n",
        "- Self-Play : We use our agent as an adversary to improve on the learning behaviour generated during the game.\n",
        "- Exploration-Exploitation tradeoff: Epsilon greedy method used with a deacying factor"
      ],
      "metadata": {
        "id": "53qa0dY9svvH"
      }
    },
    {
      "cell_type": "markdown",
      "source": [
        "## Coding sections\n",
        "\n",
        "Follow through the comments of select_action() and update_q_values() functions in MinimaxQLearningAgent class, to understand the implementation of the algorithm.\n",
        "\n",
        "TLDR: While taking action, chose the best action of the agent with respect to opponent's best response based on the agent's perspective.\n",
        "\n",
        "For updating q-values, use your estimation of opponents qvalues as target for the TD error."
      ],
      "metadata": {
        "id": "Jqm84sxKuFOS"
      }
    },
    {
      "cell_type": "code",
      "source": [
        "import numpy as np\n",
        "import imageio\n",
        "import random\n",
        "from collections import defaultdict\n",
        "from pettingzoo.classic import tictactoe_v3\n",
        "from itertools import product\n",
        "\n",
        "\n",
        "def render_frame(env):\n",
        "    frame = env.render()  # Returns an RGB array\n",
        "    plt.imshow(frame)\n",
        "    plt.axis(\"off\")\n",
        "    plt.show()\n",
        "\n",
        "    return frame\n",
        "\n",
        "# Define the Random Agent\n",
        "class RandomAgent:\n",
        "    def __init__(self, action_space_size):\n",
        "        self.action_space_size = action_space_size\n",
        "\n",
        "    def select_action(self, legal_actions):\n",
        "        return random.choice(legal_actions)  # Select a random legal action\n",
        "\n",
        "\n",
        "class MinimaxQLearningAgent:\n",
        "    def __init__(self, state_space_size, action_space_size, alpha=0.1, gamma=0.99, epsilon=1.0, epsilon_decay=0.995, epsilon_min=0.01):\n",
        "        self.state_space_size = state_space_size\n",
        "        self.action_space_size = action_space_size\n",
        "        self.alpha = alpha\n",
        "        self.gamma = gamma\n",
        "        self.epsilon = epsilon\n",
        "        self.epsilon_decay = epsilon_decay\n",
        "        self.epsilon_min = epsilon_min\n",
        "\n",
        "        # Q-values for agent and opponent\n",
        "        self.q_values = defaultdict(lambda: np.zeros(action_space_size))\n",
        "        # represents agent's estimation of opponent's qvalues\n",
        "        self.opponent_q_values = defaultdict(lambda: np.zeros(action_space_size))\n",
        "\n",
        "    def select_action(self, state, legal_actions):\n",
        "\n",
        "        if np.random.rand() < self.epsilon:\n",
        "            return random.choice(legal_actions)\n",
        "\n",
        "        # Minimax Q-values: maximize agent's gain while minimizing opponent's\n",
        "        q_values = self.q_values[state]\n",
        "        opponent_q_values = self.opponent_q_values[state]\n",
        "        minimax_values = [q_values[a] - np.max(opponent_q_values) for a in range(self.action_space_size)]\n",
        "\n",
        "        # Select the best action from the legal actions\n",
        "        best_action = legal_actions[np.argmax([minimax_values[a] for a in legal_actions])]\n",
        "        return best_action\n",
        "\n",
        "    def update_q_values(self, state, action, reward, next_state, done, legal_actions):\n",
        "\n",
        "        max_opponent_q = 0 if done else np.max(\n",
        "            [self.opponent_q_values[next_state][a] for a in legal_actions]\n",
        "        )\n",
        "        target = reward + self.gamma * max_opponent_q\n",
        "\n",
        "        # Update agent's Q-value\n",
        "        self.q_values[state][action] += self.alpha * (target - self.q_values[state][action])\n",
        "\n",
        "        # Target for the opponent's Q-values\n",
        "        opponent_reward = -reward  # Opponent's reward is the negative of the agent's\n",
        "        max_agent_q = 0 if done else np.max(\n",
        "            [self.q_values[next_state][a] for a in legal_actions]\n",
        "        )\n",
        "        opponent_target = opponent_reward + self.gamma * max_agent_q\n",
        "\n",
        "        # Update opponent's Q-value\n",
        "        self.opponent_q_values[state][action] += self.alpha * (\n",
        "            opponent_target - self.opponent_q_values[state][action]\n",
        "        )\n",
        "\n",
        "    def decay_epsilon(self):\n",
        "        self.epsilon = max(self.epsilon_min, self.epsilon * self.epsilon_decay)\n",
        "\n",
        "\n",
        "\n",
        "def state_changer(state):\n",
        "    return tuple(state.reshape(-1).tolist())\n",
        "\n",
        "\n",
        "# Training Loop for Self-Play\n",
        "def train_self_play(env, agent, num_episodes=1000):\n",
        "\n",
        "    agent_reward_per_episode = {agent_id: [] for agent_id in env.agents}\n",
        "    wins_cross = 0\n",
        "    wins_circle = 0\n",
        "    draws = 0\n",
        "    game_frames = []\n",
        "\n",
        "\n",
        "    for episode in trange(num_episodes):\n",
        "\n",
        "        env.reset()\n",
        "        done = {agent_id: False for agent_id in env.agents}\n",
        "        total_rewards = {agent_id: 0 for agent_id in env.agents}\n",
        "\n",
        "        for agent_id in env.agent_iter():\n",
        "\n",
        "            current_agent = agent   # Self-play\n",
        "            obs, reward, terminated, truncated, _ = env.last()\n",
        "\n",
        "            state = state_changer(obs['observation'])\n",
        "            legal_actions = obs['action_mask'].nonzero()[0]\n",
        "\n",
        "            if terminated or truncated:\n",
        "                action = None\n",
        "            else:\n",
        "                action = current_agent.select_action(state, legal_actions)\n",
        "\n",
        "            env.step(action)\n",
        "\n",
        "            next_obs = env.observe(agent_id)\n",
        "            next_state = state_changer(next_obs['observation']) if next_obs else None\n",
        "\n",
        "            done[agent_id] = terminated or truncated\n",
        "\n",
        "            current_agent.update_q_values(\n",
        "                state, action, reward, next_state, done[agent_id], legal_actions\n",
        "            )\n",
        "            total_rewards[agent_id] += reward\n",
        "\n",
        "            agent.decay_epsilon()\n",
        "\n",
        "        env.reset()\n",
        "        for agent_id in env.agents:\n",
        "            agent_reward_per_episode[agent_id].append(total_rewards[agent_id])\n",
        "\n",
        "        wins_cross += 1 if total_rewards['player_1'] > 0 else 0\n",
        "        wins_circle += 1 if total_rewards['player_2'] > 0 else 0\n",
        "        draws += 1 if total_rewards['player_1'] == 0 and total_rewards['player_2'] == 0 else 0\n",
        "        # print(f\"Episode {episode + 1}/{num_episodes} - Wins: Cross-{wins_cross} Circle-{wins_circle} - Draws: {draws}\")\n",
        "\n",
        "    win_rate_per_agent = {}\n",
        "    for agent_id, rewards in agent_reward_per_episode.items():\n",
        "        rewards = np.array(rewards)\n",
        "        total_games = len(rewards)\n",
        "        win_games = sum(rewards > 0)\n",
        "        win_rate = win_games / total_games if total_games > 0 else 0.0\n",
        "        win_rate_per_agent[agent_id] = win_rate\n",
        "\n",
        "    return win_rate_per_agent\n",
        "\n",
        "# Evaluation Function\n",
        "def evaluate_self_play(env, agent, num_games=100, render_mode=False, seed=42):\n",
        "\n",
        "    wins_cross = 0\n",
        "    wins_circle = 0\n",
        "    draws = 0\n",
        "    game_frames = []\n",
        "\n",
        "    for i in range(num_games):\n",
        "        clear_output(wait=True)\n",
        "        print(f\"Game: {i+1}\")\n",
        "        if render_mode:\n",
        "            time.sleep(1)\n",
        "\n",
        "        env.reset(seed)\n",
        "        done = {agent: False for agent in env.agents}\n",
        "        total_rewards = {agent_id: 0 for agent_id in env.agents}\n",
        "\n",
        "        for agent_id in env.agent_iter():\n",
        "            current_agent = agent\n",
        "            obs, reward, terminated, truncated, _ = env.last()\n",
        "            if render_mode:\n",
        "                clear_output(wait=True)\n",
        "                frame = render_frame(env)\n",
        "                game_frames.append(frame)\n",
        "                time.sleep(0.5)\n",
        "\n",
        "            state = state_changer(obs['observation'])\n",
        "\n",
        "            legal_actions = obs['action_mask'].nonzero()[0]\n",
        "            if terminated or truncated:\n",
        "                action = None\n",
        "            else:\n",
        "                action = current_agent.select_action(state, legal_actions)\n",
        "\n",
        "            env.step(action)\n",
        "            done[agent_id] = terminated or truncated\n",
        "            total_rewards[agent_id] += reward\n",
        "\n",
        "        wins_cross += 1 if total_rewards['player_1'] > 0 else 0\n",
        "        wins_circle += 1 if total_rewards['player_2'] > 0 else 0\n",
        "        draws += 1 if total_rewards['player_1'] == 0 and total_rewards['player_2'] == 0 else 0\n",
        "\n",
        "        if render_mode:\n",
        "            print(f\"Saving eval game {i+1} of trained self-pay\")\n",
        "            imageio.mimsave(f'eval_trained_game_{i+1}.gif', game_frames, duration=1)\n",
        "\n",
        "    print(f\"Evaluation Results - Wins: Cross-{wins_cross} Circle-{wins_circle} - Draws: {draws}\")\n",
        "\n",
        "    # plotting wins rates for agents\n",
        "    win_rates = {\n",
        "        'Cross': wins_cross / num_games,\n",
        "        'Circle': wins_circle / num_games,\n",
        "        'Draw': draws / num_games\n",
        "    }\n",
        "    bar_colors = ['blue', 'orange', 'green']\n",
        "    plt.bar(win_rates.keys(), win_rates.values(), color=bar_colors)\n",
        "    plt.xlabel('Agent w/ Draw case')\n",
        "    plt.ylabel('Rates')\n",
        "    plt.title('Distribution of wins and draws for agents')\n",
        "    plt.show()\n",
        "    return win_rates\n",
        "\n",
        "\n",
        "def evaluate_against_random(env, trained_agent, num_games=100, render_mode=False, seed=42):\n",
        "    wins_trained = 0\n",
        "    wins_random = 0\n",
        "    draws = 0\n",
        "\n",
        "    random_agent = RandomAgent(action_space_size=9)\n",
        "\n",
        "    for i in range(num_games):\n",
        "        clear_output(wait=True)\n",
        "        print(f\"Game: {i+1}\")\n",
        "        if render_mode:\n",
        "            time.sleep(1)\n",
        "        env.reset(seed)\n",
        "        done = {agent: False for agent in env.agents}\n",
        "        total_rewards = {agent_id: 0 for agent_id in env.agents}\n",
        "        game_frames = []\n",
        "\n",
        "        for agent_id in env.agent_iter():\n",
        "            if agent_id == 'player_1':\n",
        "                current_agent = trained_agent  # Trained agent plays as player_1\n",
        "            else:\n",
        "                current_agent = random_agent  # Random agent plays as player_2\n",
        "\n",
        "            obs, reward, terminated, truncated, _ = env.last()\n",
        "            if render_mode:\n",
        "                clear_output(wait=True)\n",
        "                frame = render_frame(env)\n",
        "                game_frames.append(frame)\n",
        "                time.sleep(0.5)\n",
        "\n",
        "\n",
        "            state = state_changer(obs['observation'])\n",
        "            legal_actions = obs['action_mask'].nonzero()[0]\n",
        "\n",
        "            if terminated or truncated:\n",
        "                action = None\n",
        "            else:\n",
        "                if agent_id == 'player_1':\n",
        "                    action = current_agent.select_action(state, legal_actions)\n",
        "                else:\n",
        "                    action = current_agent.select_action(legal_actions)\n",
        "\n",
        "            env.step(action)\n",
        "            done[agent_id] = terminated or truncated\n",
        "            total_rewards[agent_id] += reward\n",
        "\n",
        "        if total_rewards['player_1'] > 0:\n",
        "            wins_trained += 1  # Trained agent wins\n",
        "        elif total_rewards['player_2'] > 0:\n",
        "            wins_random += 1  # Random agent wins\n",
        "        else:\n",
        "            draws += 1  # Draw\n",
        "\n",
        "        if render_mode:\n",
        "            print(f\"Saving eval game {i+1} of trained v/s random\")\n",
        "            imageio.mimsave(f'eval_trained_vs_random_game_{i+1}.gif', game_frames, duration=1)\n",
        "\n",
        "\n",
        "    print(f\"Evaluation Results - Trained Agent Wins: {wins_trained}, Random Agent Wins: {wins_random}, Draws: {draws}\")\n",
        "\n",
        "    win_rates = {\n",
        "        'Trained Agent': wins_trained / num_games,\n",
        "        'Random Agent': wins_random / num_games,\n",
        "        'Draw': draws / num_games\n",
        "    }\n",
        "\n",
        "    bar_colors = ['blue', 'orange', 'green']\n",
        "    plt.bar(win_rates.keys(), win_rates.values(), color=bar_colors)\n",
        "    plt.xlabel('Agent')\n",
        "    plt.ylabel('Win Rate')\n",
        "    plt.title('Trained Agent vs Random Agent - Win Rates')\n",
        "    plt.show()\n",
        "\n",
        "    return win_rates\n"
      ],
      "metadata": {
        "id": "1FtwYPz6VXM5"
      },
      "execution_count": null,
      "outputs": []
    },
    {
      "cell_type": "markdown",
      "source": [
        "# Training\n",
        "\n",
        "Now let's train our agents for 1000 games/ episodes 🏃"
      ],
      "metadata": {
        "id": "7RC6ZCdIwXEx"
      }
    },
    {
      "cell_type": "code",
      "source": [
        "env = tictactoe_v3.env(render_mode=\"rgb_array\")\n",
        "env.reset()\n",
        "\n",
        "state_dim = 9  # TicTacToe board size\n",
        "action_dim = 9  # Number of possible moves\n",
        "alpha=0.1\n",
        "gamma=0.99\n",
        "epsilon=1.0\n",
        "epsilon_decay=0.995\n",
        "epsilon_min=0.01\n",
        "agent = MinimaxQLearningAgent(state_space_size=state_dim,\n",
        "                              action_space_size=action_dim,\n",
        "                              alpha=alpha, gamma=gamma,\n",
        "                              epsilon=epsilon,\n",
        "                              epsilon_decay=epsilon_decay,\n",
        "                              epsilon_min=epsilon_min)\n",
        "\n",
        "# Train agent using self-play\n",
        "print(\"Training using self-play...\")\n",
        "win_rate_history = train_self_play(env, agent, num_episodes=1000)\n",
        "print(\"Training completed.\")\n",
        "print(\"Win Rates:\", win_rate_history)"
      ],
      "metadata": {
        "colab": {
          "base_uri": "https://localhost:8080/"
        },
        "id": "ENMHXUkzYhfe",
        "outputId": "44ce96e8-0f08-407f-fb52-64befcb213ff"
      },
      "execution_count": null,
      "outputs": [
        {
          "output_type": "stream",
          "name": "stdout",
          "text": [
            "Training using self-play...\n"
          ]
        },
        {
          "output_type": "stream",
          "name": "stderr",
          "text": [
            "100%|██████████| 10000/10000 [00:51<00:00, 192.97it/s]\n"
          ]
        },
        {
          "output_type": "stream",
          "name": "stdout",
          "text": [
            "Training completed.\n",
            "Win Rates: {'player_1': 0.9726, 'player_2': 0.0089}\n"
          ]
        }
      ]
    },
    {
      "cell_type": "markdown",
      "source": [
        "# Evaluation of Agents\n",
        "\n",
        "We are using win rate for evaluation, although there are other metrics like ELO, TrueSkill that can also be used."
      ],
      "metadata": {
        "id": "_9lZH5fr1HVy"
      }
    },
    {
      "cell_type": "markdown",
      "source": [
        "##Evaluation of Agents with itself\n",
        "\n",
        "We here see that the agent (player_1: mentioned as Cross in the diagram) has achieved high performance in 100 games.\n",
        "\n"
      ],
      "metadata": {
        "id": "RD7Ka85o0cw5"
      }
    },
    {
      "cell_type": "code",
      "source": [
        "print(\"Evaluating trained agent against itself ...\")\n",
        "evaluation_results = evaluate_self_play(env, agent,num_games=100)\n",
        "print(\"Evaluation Results:\", evaluation_results)"
      ],
      "metadata": {
        "colab": {
          "base_uri": "https://localhost:8080/",
          "height": 524
        },
        "id": "XPzUjSVqZEfu",
        "outputId": "e9748e63-ed2e-4e7e-e053-b380ae88262e"
      },
      "execution_count": null,
      "outputs": [
        {
          "output_type": "stream",
          "name": "stdout",
          "text": [
            "Game: 100\n",
            "Evaluation Results - Wins: Cross-96 Circle-1 - Draws: 3\n"
          ]
        },
        {
          "output_type": "display_data",
          "data": {
            "text/plain": [
              "<Figure size 640x480 with 1 Axes>"
            ],
            "image/png": "[encoded data removed]"
          },
          "metadata": {}
        },
        {
          "output_type": "stream",
          "name": "stdout",
          "text": [
            "Evaluation Results: {'Cross': 0.96, 'Circle': 0.01, 'Draw': 0.03}\n"
          ]
        }
      ]
    },
    {
      "cell_type": "markdown",
      "source": [
        "##Evaluation of Agents with a Random agent\n",
        "\n",
        "We here see that the trained agent achieves high performance against a random agent in 100 games.\n",
        "\n"
      ],
      "metadata": {
        "id": "FiJUSy0B1pt_"
      }
    },
    {
      "cell_type": "code",
      "source": [
        "print(\"Evaluating trained agent against a random agent...\")\n",
        "evaluation_results = evaluate_against_random(env, agent, num_games=100, render_mode=False)\n",
        "print(\"Evaluation Results:\", evaluation_results)\n"
      ],
      "metadata": {
        "id": "qKmgxUErtU0y",
        "colab": {
          "base_uri": "https://localhost:8080/",
          "height": 524
        },
        "outputId": "5520a874-8a58-4b6d-b1b1-2b345d819738"
      },
      "execution_count": null,
      "outputs": [
        {
          "output_type": "stream",
          "name": "stdout",
          "text": [
            "Game: 100\n",
            "Evaluation Results - Trained Agent Wins: 80, Random Agent Wins: 16, Draws: 4\n"
          ]
        },
        {
          "output_type": "display_data",
          "data": {
            "text/plain": [
              "<Figure size 640x480 with 1 Axes>"
            ],
            "image/png": "[encoded data removed]"
          },
          "metadata": {}
        },
        {
          "output_type": "stream",
          "name": "stdout",
          "text": [
            "Evaluation Results: {'Trained Agent': 0.8, 'Random Agent': 0.16, 'Draw': 0.04}\n"
          ]
        }
      ]
    },
    {
      "cell_type": "markdown",
      "source": [
        "## Simulation of tictactoe for both trained vs trained and trained vs random agents' games\n",
        "\n",
        "We here try to render the games we play in evaluation. Feel free to change the number of games to see the results. All the evaluation games are getting saved in /content folder. 🤗"
      ],
      "metadata": {
        "id": "RHtWExhm2C1P"
      }
    },
    {
      "cell_type": "code",
      "source": [
        "# Render a game of tictactoe with trained vs random agent fro gifs\n",
        "evaluation_results = evaluate_against_random(env, agent, num_games=5, render_mode=True)\n",
        "print(\"Evaluation Results:\", evaluation_results)\n"
      ],
      "metadata": {
        "colab": {
          "base_uri": "https://localhost:8080/",
          "height": 913
        },
        "id": "7FlGXJXeSS-Z",
        "outputId": "38be234e-d218-4a45-f667-53fddfed0b7f"
      },
      "execution_count": null,
      "outputs": [
        {
          "output_type": "display_data",
          "data": {
            "text/plain": [
              "<Figure size 640x480 with 1 Axes>"
            ],
            "image/png": "[encoded data removed]"
          },
          "metadata": {}
        },
        {
          "output_type": "stream",
          "name": "stdout",
          "text": [
            "Saving eval game 5 of trained v/s random\n",
            "Evaluation Results - Trained Agent Wins: 3, Random Agent Wins: 2, Draws: 0\n"
          ]
        },
        {
          "output_type": "display_data",
          "data": {
            "text/plain": [
              "<Figure size 640x480 with 1 Axes>"
            ],
            "image/png": "[encoded data removed]"
          },
          "metadata": {}
        },
        {
          "output_type": "stream",
          "name": "stdout",
          "text": [
            "Evaluation Results: {'Trained Agent': 0.6, 'Random Agent': 0.4, 'Draw': 0.0}\n"
          ]
        }
      ]
    },
    {
      "cell_type": "code",
      "source": [
        "# Render a game of tictactoe with trained v/s itself for gifs\n",
        "evaluation_results = evaluate_self_play(env, agent,num_games=5, render_mode=True)\n",
        "print(\"Evaluation Results:\", evaluation_results)"
      ],
      "metadata": {
        "colab": {
          "base_uri": "https://localhost:8080/",
          "height": 913
        },
        "id": "bsZrZKbwWrTU",
        "outputId": "e9b7ceef-6a1a-4a44-e7a0-f4c786374ead"
      },
      "execution_count": null,
      "outputs": [
        {
          "output_type": "display_data",
          "data": {
            "text/plain": [
              "<Figure size 640x480 with 1 Axes>"
            ],
            "image/png": "[encoded data removed]"
          },
          "metadata": {}
        },
        {
          "output_type": "stream",
          "name": "stdout",
          "text": [
            "Saving eval game 5 of trained self-pay\n",
            "Evaluation Results - Wins: Cross-5 Circle-0 - Draws: 0\n"
          ]
        },
        {
          "output_type": "display_data",
          "data": {
            "text/plain": [
              "<Figure size 640x480 with 1 Axes>"
            ],
            "image/png": "[encoded data removed]"
          },
          "metadata": {}
        },
        {
          "output_type": "stream",
          "name": "stdout",
          "text": [
            "Evaluation Results: {'Cross': 1.0, 'Circle': 0.0, 'Draw': 0.0}\n"
          ]
        }
      ]
    },
    {
      "cell_type": "markdown",
      "source": [
        "# Qualitative Analysis of trained agent in Tictactoe game\n",
        "\n",
        "\n",
        "For evaluation of trained agent versus itself games, we often see [this](https://drive.google.com/file/d/1JWAGsblC2TuwZWMTi29SewvCy7f5Cipd/view?usp=drive_link) game pattern. This suggests that the trained agent has learnt some ideas of double trick (use of central square with corner square along the same side), but doesn't try to act on it to win the game. (delay of 1 move before winning).\n",
        "\n",
        "Similarly, during the evaluation of trained versus random agent games, we often see [this](https://drive.google.com/file/d/1XC6Vzo07nuZvYU8m99_ulyyPBSfEFFN3/view?usp=sharing) game pattern, where the trained agent simply tries to get the crosses in a straight line."
      ],
      "metadata": {
        "id": "UA9YZDBh2oEf"
      }
    },
    {
      "cell_type": "code",
      "source": [],
      "metadata": {
        "id": "XFOxsKqmeZkw"
      },
      "execution_count": null,
      "outputs": []
    }
  ],
  "metadata": {
    "colab": {
      "provenance": [],
      "gpuType": "T4",
      "toc_visible": true,
      "include_colab_link": true
    },
    "kernelspec": {
      "display_name": "Python 3",
      "name": "python3"
    },
    "widgets": {
      "application/vnd.jupyter.widget-state+json": {
        "4dbb29475ecb43d49419def138c4f09e": {
          "model_module": "@jupyter-widgets/controls",
          "model_name": "DropdownModel",
          "model_module_version": "1.5.0",
          "state": {
            "_dom_classes": [],
            "_model_module": "@jupyter-widgets/controls",
            "_model_module_version": "1.5.0",
            "_model_name": "DropdownModel",
            "_options_labels": [
              "Robotics",
              "Autonomous Vehicles",
              "Energy Systems",
              "Healthcare"
            ],
            "_view_count": null,
            "_view_module": "@jupyter-widgets/controls",
            "_view_module_version": "1.5.0",
            "_view_name": "DropdownView",
            "description": "Domain:",
            "description_tooltip": null,
            "disabled": false,
            "index": 0,
            "layout": "IPY_MODEL_bbfe3535a363440e958b4234435f623a",
            "style": "IPY_MODEL_019ca0e4c4e24887a32d39b61504e1e7"
          }
        },
        "bbfe3535a363440e958b4234435f623a": {
          "model_module": "@jupyter-widgets/base",
          "model_name": "LayoutModel",
          "model_module_version": "1.2.0",
          "state": {
            "_model_module": "@jupyter-widgets/base",
            "_model_module_version": "1.2.0",
            "_model_name": "LayoutModel",
            "_view_count": null,
            "_view_module": "@jupyter-widgets/base",
            "_view_module_version": "1.2.0",
            "_view_name": "LayoutView",
            "align_content": null,
            "align_items": null,
            "align_self": null,
            "border": null,
            "bottom": null,
            "display": null,
            "flex": null,
            "flex_flow": null,
            "grid_area": null,
            "grid_auto_columns": null,
            "grid_auto_flow": null,
            "grid_auto_rows": null,
            "grid_column": null,
            "grid_gap": null,
            "grid_row": null,
            "grid_template_areas": null,
            "grid_template_columns": null,
            "grid_template_rows": null,
            "height": null,
            "justify_content": null,
            "justify_items": null,
            "left": null,
            "margin": null,
            "max_height": null,
            "max_width": null,
            "min_height": null,
            "min_width": null,
            "object_fit": null,
            "object_position": null,
            "order": null,
            "overflow": null,
            "overflow_x": null,
            "overflow_y": null,
            "padding": null,
            "right": null,
            "top": null,
            "visibility": null,
            "width": null
          }
        },
        "019ca0e4c4e24887a32d39b61504e1e7": {
          "model_module": "@jupyter-widgets/controls",
          "model_name": "DescriptionStyleModel",
          "model_module_version": "1.5.0",
          "state": {
            "_model_module": "@jupyter-widgets/controls",
            "_model_module_version": "1.5.0",
            "_model_name": "DescriptionStyleModel",
            "_view_count": null,
            "_view_module": "@jupyter-widgets/base",
            "_view_module_version": "1.2.0",
            "_view_name": "StyleView",
            "description_width": ""
          }
        },
        "18f30226d4d44814b8dda5aa7cfd6fb4": {
          "model_module": "@jupyter-widgets/output",
          "model_name": "OutputModel",
          "model_module_version": "1.0.0",
          "state": {
            "_dom_classes": [],
            "_model_module": "@jupyter-widgets/output",
            "_model_module_version": "1.0.0",
            "_model_name": "OutputModel",
            "_view_count": null,
            "_view_module": "@jupyter-widgets/output",
            "_view_module_version": "1.0.0",
            "_view_name": "OutputView",
            "layout": "IPY_MODEL_fa6fc80ec5294498a3a3512551b1dd42",
            "msg_id": "",
            "outputs": [
              {
                "output_type": "display_data",
                "data": {
                  "text/plain": "<IPython.core.display.HTML object>",
                  "text/html": "\n            <style>\n                h4 { font-size: 22px; font-weight: bold; color: #2E4053; }\n                p, li { font-size: 16px; line-height: 1.5; color: #4F4F4F; }\n                ul { margin-left: 20px; }\n                button {\n                    background-color: #4CAF50;\n                    color: white;\n                    padding: 10px;\n                    border: none;\n                    cursor: pointer;\n                }\n                button:hover { background-color: #45a049; }\n            </style>\n        "
                },
                "metadata": {}
              },
              {
                "output_type": "display_data",
                "data": {
                  "text/plain": "<IPython.core.display.HTML object>",
                  "text/html": "<h4>Robotics</h4><p>In collaborative robotics, MARL enables multiple robots to coordinate and perform tasks such as exploration, disaster response, or assembly. For instance, a team of drones can distribute responsibilities for mapping or delivering supplies in disaster-affected areas, dynamically adapting to environmental changes.</p>"
                },
                "metadata": {}
              },
              {
                "output_type": "display_data",
                "data": {
                  "text/plain": "<IPython.core.display.HTML object>",
                  "text/html": "<ul><li>- Search and rescue operations</li><li>- Warehouse management</li><li>- Agricultural monitoring</li><li>- Construction automation</li></ul>"
                },
                "metadata": {}
              },
              {
                "output_type": "display_data",
                "data": {
                  "text/html": "<img src=\"https://dp9eps5gd5xd0.cloudfront.net/image-handler/ts/20230831083549/ri/850/src/images/news/ImageForNews_14271_169348534600376.jpg\" width=\"400\" height=\"300\"/>",
                  "text/plain": "<IPython.core.display.Image object>"
                },
                "metadata": {}
              },
              {
                "output_type": "display_data",
                "data": {
                  "text/plain": "<IPython.core.display.HTML object>",
                  "text/html": "<button onclick=\"this.nextElementSibling.style.display='block'\">Show References</button><div style=\"display:none;\"><ul><li>[1] Brown, et al. (2023). 'Swarm Intelligence through Multi-Agent Learning.' Robotics and Autonomous Systems.</li><li>[2] Smith, et al. (2022). 'Cooperative Multi-Robot Task Allocation.' Science Robotics.</li></ul></div>"
                },
                "metadata": {}
              }
            ]
          }
        },
        "fa6fc80ec5294498a3a3512551b1dd42": {
          "model_module": "@jupyter-widgets/base",
          "model_name": "LayoutModel",
          "model_module_version": "1.2.0",
          "state": {
            "_model_module": "@jupyter-widgets/base",
            "_model_module_version": "1.2.0",
            "_model_name": "LayoutModel",
            "_view_count": null,
            "_view_module": "@jupyter-widgets/base",
            "_view_module_version": "1.2.0",
            "_view_name": "LayoutView",
            "align_content": null,
            "align_items": null,
            "align_self": null,
            "border": null,
            "bottom": null,
            "display": null,
            "flex": null,
            "flex_flow": null,
            "grid_area": null,
            "grid_auto_columns": null,
            "grid_auto_flow": null,
            "grid_auto_rows": null,
            "grid_column": null,
            "grid_gap": null,
            "grid_row": null,
            "grid_template_areas": null,
            "grid_template_columns": null,
            "grid_template_rows": null,
            "height": null,
            "justify_content": null,
            "justify_items": null,
            "left": null,
            "margin": null,
            "max_height": null,
            "max_width": null,
            "min_height": null,
            "min_width": null,
            "object_fit": null,
            "object_position": null,
            "order": null,
            "overflow": null,
            "overflow_x": null,
            "overflow_y": null,
            "padding": null,
            "right": null,
            "top": null,
            "visibility": null,
            "width": null
          }
        },
        "5b3696f510094ed2be3843951d554d6d": {
          "model_module": "@jupyter-widgets/controls",
          "model_name": "VBoxModel",
          "model_module_version": "1.5.0",
          "state": {
            "_dom_classes": [
              "widget-interact"
            ],
            "_model_module": "@jupyter-widgets/controls",
            "_model_module_version": "1.5.0",
            "_model_name": "VBoxModel",
            "_view_count": null,
            "_view_module": "@jupyter-widgets/controls",
            "_view_module_version": "1.5.0",
            "_view_name": "VBoxView",
            "box_style": "",
            "children": [
              "IPY_MODEL_9c628424e3c64f46976f18b394610e08",
              "IPY_MODEL_efd368518bcb47d9bd590fcd04afc464"
            ],
            "layout": "IPY_MODEL_ca7748d12a914ce6bf95c7fd48675c65"
          }
        },
        "9c628424e3c64f46976f18b394610e08": {
          "model_module": "@jupyter-widgets/controls",
          "model_name": "IntSliderModel",
          "model_module_version": "1.5.0",
          "state": {
            "_dom_classes": [],
            "_model_module": "@jupyter-widgets/controls",
            "_model_module_version": "1.5.0",
            "_model_name": "IntSliderModel",
            "_view_count": null,
            "_view_module": "@jupyter-widgets/controls",
            "_view_module_version": "1.5.0",
            "_view_name": "IntSliderView",
            "continuous_update": true,
            "description": "Number of Agents:",
            "description_tooltip": null,
            "disabled": false,
            "layout": "IPY_MODEL_b50a9eec187f428d84e79ba0c5abbd0b",
            "max": 4,
            "min": 2,
            "orientation": "horizontal",
            "readout": true,
            "readout_format": "d",
            "step": 1,
            "style": "IPY_MODEL_2e4c89e8b60f47b2b6b903990c70dae6",
            "value": 2
          }
        },
        "efd368518bcb47d9bd590fcd04afc464": {
          "model_module": "@jupyter-widgets/output",
          "model_name": "OutputModel",
          "model_module_version": "1.0.0",
          "state": {
            "_dom_classes": [],
            "_model_module": "@jupyter-widgets/output",
            "_model_module_version": "1.0.0",
            "_model_name": "OutputModel",
            "_view_count": null,
            "_view_module": "@jupyter-widgets/output",
            "_view_module_version": "1.0.0",
            "_view_name": "OutputView",
            "layout": "IPY_MODEL_a7eede863633414a81eb2910064c83af",
            "msg_id": "",
            "outputs": [
              {
                "output_type": "stream",
                "name": "stdout",
                "text": [
                  "Single-Agent Environment (State Space Size: 5, Action Space Size: 4)\n",
                  "Multi-Agent Environment (2 Agents) - Joint State Space Size: 25, Joint Action Space Size: 16\n"
                ]
              },
              {
                "output_type": "display_data",
                "data": {
                  "text/plain": "<Figure size 1500x600 with 2 Axes>",
                  "image/png": "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\n"
                },
                "metadata": {}
              }
            ]
          }
        },
        "ca7748d12a914ce6bf95c7fd48675c65": {
          "model_module": "@jupyter-widgets/base",
          "model_name": "LayoutModel",
          "model_module_version": "1.2.0",
          "state": {
            "_model_module": "@jupyter-widgets/base",
            "_model_module_version": "1.2.0",
            "_model_name": "LayoutModel",
            "_view_count": null,
            "_view_module": "@jupyter-widgets/base",
            "_view_module_version": "1.2.0",
            "_view_name": "LayoutView",
            "align_content": null,
            "align_items": null,
            "align_self": null,
            "border": null,
            "bottom": null,
            "display": null,
            "flex": null,
            "flex_flow": null,
            "grid_area": null,
            "grid_auto_columns": null,
            "grid_auto_flow": null,
            "grid_auto_rows": null,
            "grid_column": null,
            "grid_gap": null,
            "grid_row": null,
            "grid_template_areas": null,
            "grid_template_columns": null,
            "grid_template_rows": null,
            "height": null,
            "justify_content": null,
            "justify_items": null,
            "left": null,
            "margin": null,
            "max_height": null,
            "max_width": null,
            "min_height": null,
            "min_width": null,
            "object_fit": null,
            "object_position": null,
            "order": null,
            "overflow": null,
            "overflow_x": null,
            "overflow_y": null,
            "padding": null,
            "right": null,
            "top": null,
            "visibility": null,
            "width": null
          }
        },
        "b50a9eec187f428d84e79ba0c5abbd0b": {
          "model_module": "@jupyter-widgets/base",
          "model_name": "LayoutModel",
          "model_module_version": "1.2.0",
          "state": {
            "_model_module": "@jupyter-widgets/base",
            "_model_module_version": "1.2.0",
            "_model_name": "LayoutModel",
            "_view_count": null,
            "_view_module": "@jupyter-widgets/base",
            "_view_module_version": "1.2.0",
            "_view_name": "LayoutView",
            "align_content": null,
            "align_items": null,
            "align_self": null,
            "border": null,
            "bottom": null,
            "display": null,
            "flex": null,
            "flex_flow": null,
            "grid_area": null,
            "grid_auto_columns": null,
            "grid_auto_flow": null,
            "grid_auto_rows": null,
            "grid_column": null,
            "grid_gap": null,
            "grid_row": null,
            "grid_template_areas": null,
            "grid_template_columns": null,
            "grid_template_rows": null,
            "height": null,
            "justify_content": null,
            "justify_items": null,
            "left": null,
            "margin": null,
            "max_height": null,
            "max_width": null,
            "min_height": null,
            "min_width": null,
            "object_fit": null,
            "object_position": null,
            "order": null,
            "overflow": null,
            "overflow_x": null,
            "overflow_y": null,
            "padding": null,
            "right": null,
            "top": null,
            "visibility": null,
            "width": null
          }
        },
        "2e4c89e8b60f47b2b6b903990c70dae6": {
          "model_module": "@jupyter-widgets/controls",
          "model_name": "SliderStyleModel",
          "model_module_version": "1.5.0",
          "state": {
            "_model_module": "@jupyter-widgets/controls",
            "_model_module_version": "1.5.0",
            "_model_name": "SliderStyleModel",
            "_view_count": null,
            "_view_module": "@jupyter-widgets/base",
            "_view_module_version": "1.2.0",
            "_view_name": "StyleView",
            "description_width": "initial",
            "handle_color": null
          }
        },
        "a7eede863633414a81eb2910064c83af": {
          "model_module": "@jupyter-widgets/base",
          "model_name": "LayoutModel",
          "model_module_version": "1.2.0",
          "state": {
            "_model_module": "@jupyter-widgets/base",
            "_model_module_version": "1.2.0",
            "_model_name": "LayoutModel",
            "_view_count": null,
            "_view_module": "@jupyter-widgets/base",
            "_view_module_version": "1.2.0",
            "_view_name": "LayoutView",
            "align_content": null,
            "align_items": null,
            "align_self": null,
            "border": null,
            "bottom": null,
            "display": null,
            "flex": null,
            "flex_flow": null,
            "grid_area": null,
            "grid_auto_columns": null,
            "grid_auto_flow": null,
            "grid_auto_rows": null,
            "grid_column": null,
            "grid_gap": null,
            "grid_row": null,
            "grid_template_areas": null,
            "grid_template_columns": null,
            "grid_template_rows": null,
            "height": null,
            "justify_content": null,
            "justify_items": null,
            "left": null,
            "margin": null,
            "max_height": null,
            "max_width": null,
            "min_height": null,
            "min_width": null,
            "object_fit": null,
            "object_position": null,
            "order": null,
            "overflow": null,
            "overflow_x": null,
            "overflow_y": null,
            "padding": null,
            "right": null,
            "top": null,
            "visibility": null,
            "width": null
          }
        },
        "198f2eda52aa410e8f58a6eca1bf12f8": {
          "model_module": "@jupyter-widgets/controls",
          "model_name": "VBoxModel",
          "model_module_version": "1.5.0",
          "state": {
            "_dom_classes": [
              "widget-interact"
            ],
            "_model_module": "@jupyter-widgets/controls",
            "_model_module_version": "1.5.0",
            "_model_name": "VBoxModel",
            "_view_count": null,
            "_view_module": "@jupyter-widgets/controls",
            "_view_module_version": "1.5.0",
            "_view_name": "VBoxView",
            "box_style": "",
            "children": [
              "IPY_MODEL_ab69d16ba1414ed09cdb1711959bb948",
              "IPY_MODEL_44bc18a2a4a54a97bd6c0efa026bcb14"
            ],
            "layout": "IPY_MODEL_59dbb77514854257bf6ba200040267f5"
          }
        },
        "ab69d16ba1414ed09cdb1711959bb948": {
          "model_module": "@jupyter-widgets/controls",
          "model_name": "DropdownModel",
          "model_module_version": "1.5.0",
          "state": {
            "_dom_classes": [],
            "_model_module": "@jupyter-widgets/controls",
            "_model_module_version": "1.5.0",
            "_model_name": "DropdownModel",
            "_options_labels": [
              "Competitive",
              "Cooperative",
              "Mixed"
            ],
            "_view_count": null,
            "_view_module": "@jupyter-widgets/controls",
            "_view_module_version": "1.5.0",
            "_view_name": "DropdownView",
            "description": "marl_type",
            "description_tooltip": null,
            "disabled": false,
            "index": 2,
            "layout": "IPY_MODEL_9d13799a448a42119e6ac232c5296ae2",
            "style": "IPY_MODEL_e7550929b5314f4d9db49e5d68f2a366"
          }
        },
        "44bc18a2a4a54a97bd6c0efa026bcb14": {
          "model_module": "@jupyter-widgets/output",
          "model_name": "OutputModel",
          "model_module_version": "1.0.0",
          "state": {
            "_dom_classes": [],
            "_model_module": "@jupyter-widgets/output",
            "_model_module_version": "1.0.0",
            "_model_name": "OutputModel",
            "_view_count": null,
            "_view_module": "@jupyter-widgets/output",
            "_view_module_version": "1.0.0",
            "_view_name": "OutputView",
            "layout": "IPY_MODEL_cd7bcba87f784403980e62943025308e",
            "msg_id": "",
            "outputs": [
              {
                "output_type": "display_data",
                "data": {
                  "text/plain": "<IPython.core.display.Markdown object>",
                  "text/markdown": "\n            Mixed MARL\n            - Payoff Matrix: A combination of competitive and cooperative elements.\n            - Key Characteristic: Agents have partial alignment of goals but may still compete in certain situations.\n            - Example: Traffic management, where cooperation is needed to optimize the system, but individual vehicles still compete for resources like road space.\n            "
                },
                "metadata": {}
              },
              {
                "output_type": "display_data",
                "data": {
                  "text/plain": "<Figure size 600x400 with 2 Axes>",
                  "image/png": "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\n"
                },
                "metadata": {}
              }
            ]
          }
        },
        "59dbb77514854257bf6ba200040267f5": {
          "model_module": "@jupyter-widgets/base",
          "model_name": "LayoutModel",
          "model_module_version": "1.2.0",
          "state": {
            "_model_module": "@jupyter-widgets/base",
            "_model_module_version": "1.2.0",
            "_model_name": "LayoutModel",
            "_view_count": null,
            "_view_module": "@jupyter-widgets/base",
            "_view_module_version": "1.2.0",
            "_view_name": "LayoutView",
            "align_content": null,
            "align_items": null,
            "align_self": null,
            "border": null,
            "bottom": null,
            "display": null,
            "flex": null,
            "flex_flow": null,
            "grid_area": null,
            "grid_auto_columns": null,
            "grid_auto_flow": null,
            "grid_auto_rows": null,
            "grid_column": null,
            "grid_gap": null,
            "grid_row": null,
            "grid_template_areas": null,
            "grid_template_columns": null,
            "grid_template_rows": null,
            "height": null,
            "justify_content": null,
            "justify_items": null,
            "left": null,
            "margin": null,
            "max_height": null,
            "max_width": null,
            "min_height": null,
            "min_width": null,
            "object_fit": null,
            "object_position": null,
            "order": null,
            "overflow": null,
            "overflow_x": null,
            "overflow_y": null,
            "padding": null,
            "right": null,
            "top": null,
            "visibility": null,
            "width": null
          }
        },
        "9d13799a448a42119e6ac232c5296ae2": {
          "model_module": "@jupyter-widgets/base",
          "model_name": "LayoutModel",
          "model_module_version": "1.2.0",
          "state": {
            "_model_module": "@jupyter-widgets/base",
            "_model_module_version": "1.2.0",
            "_model_name": "LayoutModel",
            "_view_count": null,
            "_view_module": "@jupyter-widgets/base",
            "_view_module_version": "1.2.0",
            "_view_name": "LayoutView",
            "align_content": null,
            "align_items": null,
            "align_self": null,
            "border": null,
            "bottom": null,
            "display": null,
            "flex": null,
            "flex_flow": null,
            "grid_area": null,
            "grid_auto_columns": null,
            "grid_auto_flow": null,
            "grid_auto_rows": null,
            "grid_column": null,
            "grid_gap": null,
            "grid_row": null,
            "grid_template_areas": null,
            "grid_template_columns": null,
            "grid_template_rows": null,
            "height": null,
            "justify_content": null,
            "justify_items": null,
            "left": null,
            "margin": null,
            "max_height": null,
            "max_width": null,
            "min_height": null,
            "min_width": null,
            "object_fit": null,
            "object_position": null,
            "order": null,
            "overflow": null,
            "overflow_x": null,
            "overflow_y": null,
            "padding": null,
            "right": null,
            "top": null,
            "visibility": null,
            "width": null
          }
        },
        "e7550929b5314f4d9db49e5d68f2a366": {
          "model_module": "@jupyter-widgets/controls",
          "model_name": "DescriptionStyleModel",
          "model_module_version": "1.5.0",
          "state": {
            "_model_module": "@jupyter-widgets/controls",
            "_model_module_version": "1.5.0",
            "_model_name": "DescriptionStyleModel",
            "_view_count": null,
            "_view_module": "@jupyter-widgets/base",
            "_view_module_version": "1.2.0",
            "_view_name": "StyleView",
            "description_width": ""
          }
        },
        "cd7bcba87f784403980e62943025308e": {
          "model_module": "@jupyter-widgets/base",
          "model_name": "LayoutModel",
          "model_module_version": "1.2.0",
          "state": {
            "_model_module": "@jupyter-widgets/base",
            "_model_module_version": "1.2.0",
            "_model_name": "LayoutModel",
            "_view_count": null,
            "_view_module": "@jupyter-widgets/base",
            "_view_module_version": "1.2.0",
            "_view_name": "LayoutView",
            "align_content": null,
            "align_items": null,
            "align_self": null,
            "border": null,
            "bottom": null,
            "display": null,
            "flex": null,
            "flex_flow": null,
            "grid_area": null,
            "grid_auto_columns": null,
            "grid_auto_flow": null,
            "grid_auto_rows": null,
            "grid_column": null,
            "grid_gap": null,
            "grid_row": null,
            "grid_template_areas": null,
            "grid_template_columns": null,
            "grid_template_rows": null,
            "height": null,
            "justify_content": null,
            "justify_items": null,
            "left": null,
            "margin": null,
            "max_height": null,
            "max_width": null,
            "min_height": null,
            "min_width": null,
            "object_fit": null,
            "object_position": null,
            "order": null,
            "overflow": null,
            "overflow_x": null,
            "overflow_y": null,
            "padding": null,
            "right": null,
            "top": null,
            "visibility": null,
            "width": null
          }
        },
        "9ea780c228ef4ababade5b054347a726": {
          "model_module": "@jupyter-widgets/controls",
          "model_name": "VBoxModel",
          "model_module_version": "1.5.0",
          "state": {
            "_dom_classes": [
              "widget-interact"
            ],
            "_model_module": "@jupyter-widgets/controls",
            "_model_module_version": "1.5.0",
            "_model_name": "VBoxModel",
            "_view_count": null,
            "_view_module": "@jupyter-widgets/controls",
            "_view_module_version": "1.5.0",
            "_view_name": "VBoxView",
            "box_style": "",
            "children": [
              "IPY_MODEL_ed4b38a643fe41e3a9cdd5b4d4cced0e",
              "IPY_MODEL_53c41417bf2d4b7580d0610d607be014",
              "IPY_MODEL_92d1cd60b755478799c1407f750dadb4"
            ],
            "layout": "IPY_MODEL_0166ba01ca424046a3ebe63bd48bc88a"
          }
        },
        "ed4b38a643fe41e3a9cdd5b4d4cced0e": {
          "model_module": "@jupyter-widgets/controls",
          "model_name": "IntSliderModel",
          "model_module_version": "1.5.0",
          "state": {
            "_dom_classes": [],
            "_model_module": "@jupyter-widgets/controls",
            "_model_module_version": "1.5.0",
            "_model_name": "IntSliderModel",
            "_view_count": null,
            "_view_module": "@jupyter-widgets/controls",
            "_view_module_version": "1.5.0",
            "_view_name": "IntSliderView",
            "continuous_update": true,
            "description": "N_agents",
            "description_tooltip": null,
            "disabled": false,
            "layout": "IPY_MODEL_3d0dccc32309475296b7a151b8825bf2",
            "max": 10,
            "min": 2,
            "orientation": "horizontal",
            "readout": true,
            "readout_format": "d",
            "step": 1,
            "style": "IPY_MODEL_09a03259b6584349a95752a6dbf2358d",
            "value": 2
          }
        },
        "53c41417bf2d4b7580d0610d607be014": {
          "model_module": "@jupyter-widgets/controls",
          "model_name": "IntSliderModel",
          "model_module_version": "1.5.0",
          "state": {
            "_dom_classes": [],
            "_model_module": "@jupyter-widgets/controls",
            "_model_module_version": "1.5.0",
            "_model_name": "IntSliderModel",
            "_view_count": null,
            "_view_module": "@jupyter-widgets/controls",
            "_view_module_version": "1.5.0",
            "_view_name": "IntSliderView",
            "continuous_update": true,
            "description": "steps",
            "description_tooltip": null,
            "disabled": false,
            "layout": "IPY_MODEL_d4ff8395e7af43a39faa52d7bb2670e7",
            "max": 500,
            "min": 100,
            "orientation": "horizontal",
            "readout": true,
            "readout_format": "d",
            "step": 10,
            "style": "IPY_MODEL_7ca6f885ebbe4410a87d36f8915053e8",
            "value": 100
          }
        },
        "92d1cd60b755478799c1407f750dadb4": {
          "model_module": "@jupyter-widgets/output",
          "model_name": "OutputModel",
          "model_module_version": "1.0.0",
          "state": {
            "_dom_classes": [],
            "_model_module": "@jupyter-widgets/output",
            "_model_module_version": "1.0.0",
            "_model_name": "OutputModel",
            "_view_count": null,
            "_view_module": "@jupyter-widgets/output",
            "_view_module_version": "1.0.0",
            "_view_name": "OutputView",
            "layout": "IPY_MODEL_93731ab87bb54da1911206377f395e34",
            "msg_id": "",
            "outputs": [
              {
                "output_type": "display_data",
                "data": {
                  "text/plain": "<Figure size 1000x600 with 1 Axes>",
                  "image/png": "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\n"
                },
                "metadata": {}
              },
              {
                "output_type": "display_data",
                "data": {
                  "text/plain": "<IPython.core.display.Markdown object>",
                  "text/markdown": "### **Single-Agent Animation**"
                },
                "metadata": {}
              },
              {
                "output_type": "display_data",
                "data": {
                  "image/gif": "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\n",
                  "text/plain": "<IPython.core.display.Image object>"
                },
                "metadata": {
                  "image/gif": {
                    "width": 200,
                    "height": 200
                  }
                }
              },
              {
                "output_type": "display_data",
                "data": {
                  "text/plain": "<IPython.core.display.Markdown object>",
                  "text/markdown": "### **Multi-Agent Animation (N=2)**"
                },
                "metadata": {}
              },
              {
                "output_type": "display_data",
                "data": {
                  "image/gif": "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\n",
                  "text/plain": "<IPython.core.display.Image object>"
                },
                "metadata": {
                  "image/gif": {
                    "width": 200,
                    "height": 200
                  }
                }
              }
            ]
          }
        },
        "0166ba01ca424046a3ebe63bd48bc88a": {
          "model_module": "@jupyter-widgets/base",
          "model_name": "LayoutModel",
          "model_module_version": "1.2.0",
          "state": {
            "_model_module": "@jupyter-widgets/base",
            "_model_module_version": "1.2.0",
            "_model_name": "LayoutModel",
            "_view_count": null,
            "_view_module": "@jupyter-widgets/base",
            "_view_module_version": "1.2.0",
            "_view_name": "LayoutView",
            "align_content": null,
            "align_items": null,
            "align_self": null,
            "border": null,
            "bottom": null,
            "display": null,
            "flex": null,
            "flex_flow": null,
            "grid_area": null,
            "grid_auto_columns": null,
            "grid_auto_flow": null,
            "grid_auto_rows": null,
            "grid_column": null,
            "grid_gap": null,
            "grid_row": null,
            "grid_template_areas": null,
            "grid_template_columns": null,
            "grid_template_rows": null,
            "height": null,
            "justify_content": null,
            "justify_items": null,
            "left": null,
            "margin": null,
            "max_height": null,
            "max_width": null,
            "min_height": null,
            "min_width": null,
            "object_fit": null,
            "object_position": null,
            "order": null,
            "overflow": null,
            "overflow_x": null,
            "overflow_y": null,
            "padding": null,
            "right": null,
            "top": null,
            "visibility": null,
            "width": null
          }
        },
        "3d0dccc32309475296b7a151b8825bf2": {
          "model_module": "@jupyter-widgets/base",
          "model_name": "LayoutModel",
          "model_module_version": "1.2.0",
          "state": {
            "_model_module": "@jupyter-widgets/base",
            "_model_module_version": "1.2.0",
            "_model_name": "LayoutModel",
            "_view_count": null,
            "_view_module": "@jupyter-widgets/base",
            "_view_module_version": "1.2.0",
            "_view_name": "LayoutView",
            "align_content": null,
            "align_items": null,
            "align_self": null,
            "border": null,
            "bottom": null,
            "display": null,
            "flex": null,
            "flex_flow": null,
            "grid_area": null,
            "grid_auto_columns": null,
            "grid_auto_flow": null,
            "grid_auto_rows": null,
            "grid_column": null,
            "grid_gap": null,
            "grid_row": null,
            "grid_template_areas": null,
            "grid_template_columns": null,
            "grid_template_rows": null,
            "height": null,
            "justify_content": null,
            "justify_items": null,
            "left": null,
            "margin": null,
            "max_height": null,
            "max_width": null,
            "min_height": null,
            "min_width": null,
            "object_fit": null,
            "object_position": null,
            "order": null,
            "overflow": null,
            "overflow_x": null,
            "overflow_y": null,
            "padding": null,
            "right": null,
            "top": null,
            "visibility": null,
            "width": null
          }
        },
        "09a03259b6584349a95752a6dbf2358d": {
          "model_module": "@jupyter-widgets/controls",
          "model_name": "SliderStyleModel",
          "model_module_version": "1.5.0",
          "state": {
            "_model_module": "@jupyter-widgets/controls",
            "_model_module_version": "1.5.0",
            "_model_name": "SliderStyleModel",
            "_view_count": null,
            "_view_module": "@jupyter-widgets/base",
            "_view_module_version": "1.2.0",
            "_view_name": "StyleView",
            "description_width": "",
            "handle_color": null
          }
        },
        "d4ff8395e7af43a39faa52d7bb2670e7": {
          "model_module": "@jupyter-widgets/base",
          "model_name": "LayoutModel",
          "model_module_version": "1.2.0",
          "state": {
            "_model_module": "@jupyter-widgets/base",
            "_model_module_version": "1.2.0",
            "_model_name": "LayoutModel",
            "_view_count": null,
            "_view_module": "@jupyter-widgets/base",
            "_view_module_version": "1.2.0",
            "_view_name": "LayoutView",
            "align_content": null,
            "align_items": null,
            "align_self": null,
            "border": null,
            "bottom": null,
            "display": null,
            "flex": null,
            "flex_flow": null,
            "grid_area": null,
            "grid_auto_columns": null,
            "grid_auto_flow": null,
            "grid_auto_rows": null,
            "grid_column": null,
            "grid_gap": null,
            "grid_row": null,
            "grid_template_areas": null,
            "grid_template_columns": null,
            "grid_template_rows": null,
            "height": null,
            "justify_content": null,
            "justify_items": null,
            "left": null,
            "margin": null,
            "max_height": null,
            "max_width": null,
            "min_height": null,
            "min_width": null,
            "object_fit": null,
            "object_position": null,
            "order": null,
            "overflow": null,
            "overflow_x": null,
            "overflow_y": null,
            "padding": null,
            "right": null,
            "top": null,
            "visibility": null,
            "width": null
          }
        },
        "7ca6f885ebbe4410a87d36f8915053e8": {
          "model_module": "@jupyter-widgets/controls",
          "model_name": "SliderStyleModel",
          "model_module_version": "1.5.0",
          "state": {
            "_model_module": "@jupyter-widgets/controls",
            "_model_module_version": "1.5.0",
            "_model_name": "SliderStyleModel",
            "_view_count": null,
            "_view_module": "@jupyter-widgets/base",
            "_view_module_version": "1.2.0",
            "_view_name": "StyleView",
            "description_width": "",
            "handle_color": null
          }
        },
        "93731ab87bb54da1911206377f395e34": {
          "model_module": "@jupyter-widgets/base",
          "model_name": "LayoutModel",
          "model_module_version": "1.2.0",
          "state": {
            "_model_module": "@jupyter-widgets/base",
            "_model_module_version": "1.2.0",
            "_model_name": "LayoutModel",
            "_view_count": null,
            "_view_module": "@jupyter-widgets/base",
            "_view_module_version": "1.2.0",
            "_view_name": "LayoutView",
            "align_content": null,
            "align_items": null,
            "align_self": null,
            "border": null,
            "bottom": null,
            "display": null,
            "flex": null,
            "flex_flow": null,
            "grid_area": null,
            "grid_auto_columns": null,
            "grid_auto_flow": null,
            "grid_auto_rows": null,
            "grid_column": null,
            "grid_gap": null,
            "grid_row": null,
            "grid_template_areas": null,
            "grid_template_columns": null,
            "grid_template_rows": null,
            "height": null,
            "justify_content": null,
            "justify_items": null,
            "left": null,
            "margin": null,
            "max_height": null,
            "max_width": null,
            "min_height": null,
            "min_width": null,
            "object_fit": null,
            "object_position": null,
            "order": null,
            "overflow": null,
            "overflow_x": null,
            "overflow_y": null,
            "padding": null,
            "right": null,
            "top": null,
            "visibility": null,
            "width": null
          }
        }
      }
    },
    "accelerator": "GPU"
  },
  "nbformat": 4,
  "nbformat_minor": 0
}