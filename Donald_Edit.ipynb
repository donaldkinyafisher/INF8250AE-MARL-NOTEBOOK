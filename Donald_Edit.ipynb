{
  "cells": [
    {
      "cell_type": "markdown",
      "metadata": {
        "id": "view-in-github",
        "colab_type": "text"
      },
      "source": [
        "<a href=\"https://colab.research.google.com/github/donaldkinyafisher/INF8250AE-MARL-NOTEBOOK/blob/main/Donald_Edit.ipynb\" target=\"_parent\"><img src=\"https://colab.research.google.com/assets/colab-badge.svg\" alt=\"Open In Colab\"/></a>"
      ]
    },
    {
      "cell_type": "markdown",
      "source": [
        "# Setup, Install and  Import"
      ],
      "metadata": {
        "id": "uJUi-Mh-ItLp"
      }
    },
    {
      "cell_type": "code",
      "source": [
        "!rm -rf INF8250AE-MARL-NOTEBOOK\n",
        "!git clone https://github.com/donaldkinyafisher/INF8250AE-MARL-NOTEBOOK.git"
      ],
      "metadata": {
        "colab": {
          "base_uri": "https://localhost:8080/"
        },
        "id": "jYsZMqfT7rvw",
        "outputId": "2303bd9e-85c1-43c4-f6fd-edbdf406753e"
      },
      "execution_count": 17,
      "outputs": [
        {
          "output_type": "stream",
          "name": "stdout",
          "text": [
            "Cloning into 'INF8250AE-MARL-NOTEBOOK'...\n",
            "remote: Enumerating objects: 39, done.\u001b[K\n",
            "remote: Counting objects:   2% (1/39)\u001b[K\rremote: Counting objects:   5% (2/39)\u001b[K\rremote: Counting objects:   7% (3/39)\u001b[K\rremote: Counting objects:  10% (4/39)\u001b[K\rremote: Counting objects:  12% (5/39)\u001b[K\rremote: Counting objects:  15% (6/39)\u001b[K\rremote: Counting objects:  17% (7/39)\u001b[K\rremote: Counting objects:  20% (8/39)\u001b[K\rremote: Counting objects:  23% (9/39)\u001b[K\rremote: Counting objects:  25% (10/39)\u001b[K\rremote: Counting objects:  28% (11/39)\u001b[K\rremote: Counting objects:  30% (12/39)\u001b[K\rremote: Counting objects:  33% (13/39)\u001b[K\rremote: Counting objects:  35% (14/39)\u001b[K\rremote: Counting objects:  38% (15/39)\u001b[K\rremote: Counting objects:  41% (16/39)\u001b[K\rremote: Counting objects:  43% (17/39)\u001b[K\rremote: Counting objects:  46% (18/39)\u001b[K\rremote: Counting objects:  48% (19/39)\u001b[K\rremote: Counting objects:  51% (20/39)\u001b[K\rremote: Counting objects:  53% (21/39)\u001b[K\rremote: Counting objects:  56% (22/39)\u001b[K\rremote: Counting objects:  58% (23/39)\u001b[K\rremote: Counting objects:  61% (24/39)\u001b[K\rremote: Counting objects:  64% (25/39)\u001b[K\rremote: Counting objects:  66% (26/39)\u001b[K\rremote: Counting objects:  69% (27/39)\u001b[K\rremote: Counting objects:  71% (28/39)\u001b[K\rremote: Counting objects:  74% (29/39)\u001b[K\rremote: Counting objects:  76% (30/39)\u001b[K\rremote: Counting objects:  79% (31/39)\u001b[K\rremote: Counting objects:  82% (32/39)\u001b[K\rremote: Counting objects:  84% (33/39)\u001b[K\rremote: Counting objects:  87% (34/39)\u001b[K\rremote: Counting objects:  89% (35/39)\u001b[K\rremote: Counting objects:  92% (36/39)\u001b[K\rremote: Counting objects:  94% (37/39)\u001b[K\rremote: Counting objects:  97% (38/39)\u001b[K\rremote: Counting objects: 100% (39/39)\u001b[K\rremote: Counting objects: 100% (39/39), done.\u001b[K\n",
            "remote: Compressing objects: 100% (37/37), done.\u001b[K\n",
            "remote: Total 39 (delta 16), reused 0 (delta 0), pack-reused 0 (from 0)\u001b[K\n",
            "Receiving objects: 100% (39/39), 1000.34 KiB | 14.09 MiB/s, done.\n",
            "Resolving deltas: 100% (16/16), done.\n"
          ]
        }
      ]
    },
    {
      "cell_type": "code",
      "source": [
        "# @title Setup Install and Import\n",
        "\n",
        "#Install dependences\n",
        "!pip install -r INF8250AE-MARL-NOTEBOOK/requirements.txt\n",
        "\n",
        "import numpy as np\n",
        "import matplotlib.pyplot as plt\n",
        "from matplotlib.patches import Circle, Rectangle, Arrow, ConnectionPatch\n",
        "import seaborn as sns\n",
        "from IPython.display import HTML, display, Markdown, Math, Image\n",
        "import ipywidgets as widgets\n",
        "from ipywidgets import interact, interactive, fixed, interact_manual\n",
        "import plotly.graph_objects as go\n",
        "import plotly.express as px\n",
        "import numpy as np\n",
        "import matplotlib.pyplot as plt\n",
        "from pettingzoo.mpe import simple_spread_v3\n",
        "from PIL import Image as PILImage\n",
        "import os\n",
        "import torch"
      ],
      "metadata": {
        "id": "qjWfywJ0JRQa"
      },
      "execution_count": null,
      "outputs": []
    },
    {
      "cell_type": "markdown",
      "source": [
        "# 1. Introduction"
      ],
      "metadata": {
        "id": "4QBMH274HOQi"
      }
    },
    {
      "cell_type": "code",
      "source": [
        "# @title\n",
        "intro_text = \"\"\"\n",
        "<style>\n",
        "    /* Title Styling */\n",
        "      .intro-title {\n",
        "        font-size: 30px;\n",
        "        font-weight: bold;\n",
        "        color: #FF6347;\n",
        "        text-align: center;\n",
        "        text-shadow: 2px 2px 4px rgba(0, 0, 0, 0.3);\n",
        "        animation: fadeIn 2s ease-in-out;\n",
        "    }\n",
        "\n",
        "    /* Text Block Styling */\n",
        "    .intro-text {\n",
        "        font-size: 18px;\n",
        "        line-height: 1.8;\n",
        "        color: #555;\n",
        "        max-width: 800px;\n",
        "        margin: 20px auto;\n",
        "        padding: 25px;\n",
        "        border-radius: 8px;\n",
        "        background: #F5F5F5;\n",
        "        box-shadow: 0 6px 12px rgba(0, 0, 0, 0.1);\n",
        "        transition: transform 0.3s ease, background 0.3s ease;\n",
        "    }\n",
        "\n",
        "    /* Hover effect for the text block */\n",
        "    .intro-text:hover {\n",
        "        transform: scale(1.03);\n",
        "        background: #E0E0E0;\n",
        "        box-shadow: 0 8px 16px rgba(0, 0, 0, 0.15);\n",
        "    }\n",
        "\n",
        "    /* Fade-in effect for title */\n",
        "    @keyframes fadeIn {\n",
        "        from { opacity: 0; }\n",
        "        to { opacity: 1; }\n",
        "    }\n",
        "</style>\n",
        "\n",
        "<h2 class=\"intro-title\">Exploring the Evolution from Single-Agent to Multi-Agent RL</h2>\n",
        "\n",
        "<div class=\"intro-text\">\n",
        "    <p>In this tutorial, we explore the transition from single-agent reinforcement learning (RL) to multi-agent reinforcement learning (MARL). This progression is used for tackling real-world problems where multiple agents must interact, cooperate, or compete in dynamic environments. The challenges introduced by these multi-agent setups, such as coordination, scalability, and non-stationarity require novel approaches to exisiting algorithms. By the end of this tutorial, you will understand the foundational concepts of MARL and how single-agent RL strategies can be extended to multi-agent domains.</p>\n",
        "</div>\n",
        "\"\"\"\n",
        "\n",
        "display(HTML(intro_text))\n"
      ],
      "metadata": {
        "colab": {
          "base_uri": "https://localhost:8080/",
          "height": 408
        },
        "cellView": "form",
        "id": "CARAJFEyTC73",
        "outputId": "2c105826-db3a-45a9-c83c-8233b2a72354"
      },
      "execution_count": 19,
      "outputs": [
        {
          "output_type": "display_data",
          "data": {
            "text/plain": [
              "<IPython.core.display.HTML object>"
            ],
            "text/html": [
              "\n",
              "<style>\n",
              "    /* Title Styling */\n",
              "      .intro-title {\n",
              "        font-size: 30px;\n",
              "        font-weight: bold;\n",
              "        color: #FF6347;\n",
              "        text-align: center;\n",
              "        text-shadow: 2px 2px 4px rgba(0, 0, 0, 0.3);\n",
              "        animation: fadeIn 2s ease-in-out;\n",
              "    }\n",
              "\n",
              "    /* Text Block Styling */\n",
              "    .intro-text {\n",
              "        font-size: 18px;\n",
              "        line-height: 1.8;\n",
              "        color: #555;\n",
              "        max-width: 800px;\n",
              "        margin: 20px auto;\n",
              "        padding: 25px;\n",
              "        border-radius: 8px;\n",
              "        background: #F5F5F5;\n",
              "        box-shadow: 0 6px 12px rgba(0, 0, 0, 0.1);\n",
              "        transition: transform 0.3s ease, background 0.3s ease;\n",
              "    }\n",
              "\n",
              "    /* Hover effect for the text block */\n",
              "    .intro-text:hover {\n",
              "        transform: scale(1.03);\n",
              "        background: #E0E0E0;\n",
              "        box-shadow: 0 8px 16px rgba(0, 0, 0, 0.15);\n",
              "    }\n",
              "\n",
              "    /* Fade-in effect for title */\n",
              "    @keyframes fadeIn {\n",
              "        from { opacity: 0; }\n",
              "        to { opacity: 1; }\n",
              "    }\n",
              "</style>\n",
              "\n",
              "<h2 class=\"intro-title\">Exploring the Evolution from Single-Agent to Multi-Agent RL</h2>\n",
              "\n",
              "<div class=\"intro-text\">\n",
              "    <p>In this tutorial, we explore the transition from single-agent reinforcement learning (RL) to multi-agent reinforcement learning (MARL). This progression is used for tackling real-world problems where multiple agents must interact, cooperate, or compete in dynamic environments. The challenges introduced by these multi-agent setups, such as coordination, scalability, and non-stationarity require novel approaches to exisiting algorithms. By the end of this tutorial, you will understand the foundational concepts of MARL and how single-agent RL strategies can be extended to multi-agent domains.</p>\n",
              "</div>\n"
            ]
          },
          "metadata": {}
        }
      ]
    },
    {
      "cell_type": "markdown",
      "source": [
        "\n",
        "\n",
        "\n",
        "## Why Extend Single-Agent RL to Multi-Agent RL?\n",
        "\n"
      ],
      "metadata": {
        "id": "tfHAUjMgbORQ"
      }
    },
    {
      "cell_type": "markdown",
      "source": [
        "- **Realistic Modeling**: MARL is more aligned with real-world environments, where multiple agents interact and make decisions based on the actions of others.\n",
        "- **Coordination and Competition**: MARL enables agents to either cooperate (coordination) or compete with each other, which mirrors many real-world scenarios where both dynamics exist.\n",
        "- **Scalability**: MARL systems can scale to handle larger, more complex problems than SARL alone.\n",
        "- **Adaptability**: MARL enables agents to learn and adapt in real-time, responding to changes in their environment or among other agents.\n",
        "- **Real-World Impact**: MARL offer a practical approach to modelling in industries such as robotics, autonomous vehicles, energy systems, and healthcare.\n",
        "\n",
        "Presented below are some real-world examples where MARL is used."
      ],
      "metadata": {
        "id": "qYD8dBhHgc_m"
      }
    },
    {
      "cell_type": "markdown",
      "source": [
        "### Examples"
      ],
      "metadata": {
        "id": "EwRFC2sWD_SF"
      }
    },
    {
      "cell_type": "code",
      "source": [
        "# @title Example\n",
        "import ipywidgets as widgets\n",
        "from IPython.display import display, HTML, Image\n",
        "\n",
        "domains = {\n",
        "    \"Robotics\": {\n",
        "        \"description\": (\n",
        "            \"In collaborative robotics, MARL enables multiple robots to coordinate and \"\n",
        "            \"perform tasks such as exploration, disaster response, or assembly. \"\n",
        "            \"For instance, a team of drones can distribute responsibilities for mapping or delivering supplies \"\n",
        "            \"in disaster-affected areas, dynamically adapting to environmental changes.\"\n",
        "        ),\n",
        "        \"applications\": [\n",
        "            \"- Search and rescue operations\",\n",
        "            \"- Warehouse management\",\n",
        "            \"- Agricultural monitoring\",\n",
        "            \"- Construction automation\",\n",
        "        ],\n",
        "        \"image\": \"https://dp9eps5gd5xd0.cloudfront.net/image-handler/ts/20230831083549/ri/850/src/images/news/ImageForNews_14271_169348534600376.jpg\",\n",
        "        \"references\": [\n",
        "            \"[1] Brown, et al. (2023). 'Swarm Intelligence through Multi-Agent Learning.' Robotics and Autonomous Systems.\",\n",
        "            \"[2] Smith, et al. (2022). 'Cooperative Multi-Robot Task Allocation.' Science Robotics.\"\n",
        "        ]\n",
        "    },\n",
        "    \"Autonomous Vehicles\": {\n",
        "        \"description\": (\n",
        "            \"In autonomous driving, MARL enables multiple vehicles to learn cooperative behaviors \"\n",
        "            \"such as merging lanes, optimizing traffic flow, or preventing collisions. \"\n",
        "            \"For example, cars at a busy intersection can learn to prioritize movements without centralized traffic control.\"\n",
        "        ),\n",
        "        \"applications\": [\n",
        "            \"- Intersection management\",\n",
        "            \"- Lane merging coordination\",\n",
        "            \"- Platoon formation\",\n",
        "            \"- Collision avoidance\"\n",
        "        ],\n",
        "        \"image\": \"https://i.giphy.com/media/v1.Y2lkPTc5MGI3NjExdm9keGxsZjRkd2VpOGN4eG1sZzNuaTN2N3N6cWRyZThxdjJveWdmYiZlcD12MV9pbnRlcm5hbF9naWZfYnlfaWQmY3Q9Zw/H7rpSYHRyYgamxQNqw/giphy.gif\",\n",
        "        \"references\": [\n",
        "            \"[1] Wang, et al. (2023). 'Multi-Agent Reinforcement Learning for Connected Autonomous Vehicles.' IEEE Trans. Intelligent Transportation Systems.\",\n",
        "            \"[2] Chen, et al. (2022). 'Cooperative Multi-Agent Systems for Automated Driving.' Nature Machine Intelligence.\"\n",
        "        ]\n",
        "    },\n",
        "    \"Energy Systems\": {\n",
        "        \"description\": (\n",
        "            \"MARL optimizes decentralized energy systems by coordinating power allocation between \"\n",
        "            \"producers and consumers. For instance, agents representing wind turbines and energy storage units \"\n",
        "            \"can learn to balance supply and demand dynamically, minimizing wastage.\"\n",
        "        ),\n",
        "        \"applications\": [\n",
        "            \"- Demand-response management\",\n",
        "            \"- Distributed energy resource coordination\",\n",
        "            \"- Grid stability maintenance\",\n",
        "            \"- Real-time pricing optimization\"\n",
        "        ],\n",
        "        \"image\": \"https://miro.medium.com/v2/resize:fit:1400/format:webp/0*2GlP-gE7hptc1PeC.gif\",\n",
        "        \"references\": [\n",
        "            \"[1] Zhang, et al. (2023). 'Multi-Agent Deep Reinforcement Learning for Smart Grid Control.' Energy and Buildings.\",\n",
        "            \"[2] Liu, et al. (2022). 'Distributed Energy Management using Multi-Agent Systems.' Applied Energy.\"\n",
        "        ]\n",
        "    },\n",
        "    \"Healthcare\": {\n",
        "        \"description\": (\n",
        "            \"In healthcare, MARL helps allocate resources like ICU beds or optimize medical equipment usage. \"\n",
        "            \"For example, agents can learn to manage patient schedules and equipment dynamically, ensuring that \"\n",
        "            \"emergent needs are prioritized efficiently.\"\n",
        "        ),\n",
        "        \"applications\": [\n",
        "            \"- ICU bed allocation\",\n",
        "            \"- Medical equipment scheduling\",\n",
        "            \"- Emergency resource management\"\n",
        "        ],\n",
        "        \"image\": \"https://standexelectronics.com/wp-content/uploads/HospitalBedSensor.gif\",\n",
        "        \"references\": [\n",
        "            \"[1] Zhao, et al. (2023). 'Multi-Agent Reinforcement Learning for Healthcare Resource Management.' Journal of Medical Systems.\"\n",
        "        ]\n",
        "    }\n",
        "}\n",
        "\n",
        "dropdown = widgets.Dropdown(\n",
        "    options=domains.keys(),\n",
        "    description=\"Domain:\",\n",
        "    value=\"Robotics\"\n",
        ")\n",
        "\n",
        "output = widgets.Output()\n",
        "\n",
        "def update_content(change):\n",
        "    with output:\n",
        "        output.clear_output()\n",
        "        domain = change[\"new\"]\n",
        "        info = domains[domain]\n",
        "\n",
        "        display(HTML(f\"\"\"\n",
        "            <style>\n",
        "                h4 {{ font-size: 22px; font-weight: bold; color: #2E4053; }}\n",
        "                p, li {{ font-size: 16px; line-height: 1.5; color: #4F4F4F; }}\n",
        "                ul {{ margin-left: 20px; }}\n",
        "                button {{\n",
        "                    background-color: #4CAF50;\n",
        "                    color: white;\n",
        "                    padding: 10px;\n",
        "                    border: none;\n",
        "                    cursor: pointer;\n",
        "                }}\n",
        "                button:hover {{ background-color: #45a049; }}\n",
        "            </style>\n",
        "        \"\"\"))\n",
        "\n",
        "        display(HTML(f\"<h4>{domain}</h4><p>{info['description']}</p>\"))\n",
        "        display(HTML(\"<ul>\" + \"\".join([f\"<li>{app}</li>\" for app in info[\"applications\"]]) + \"</ul>\"))\n",
        "        display(Image(url=info[\"image\"], width=400, height=300))\n",
        "\n",
        "        display(HTML(f'<button onclick=\"this.nextElementSibling.style.display=\\'block\\'\">Show References</button><div style=\"display:none;\">'\n",
        "                     + \"<ul>\" + \"\".join([f\"<li>{ref}</li>\" for ref in info[\"references\"]]) + \"</ul></div>\"))\n",
        "\n",
        "dropdown.observe(update_content, names=\"value\")\n",
        "\n",
        "display(dropdown, output)\n"
      ],
      "metadata": {
        "colab": {
          "base_uri": "https://localhost:8080/",
          "height": 49,
          "referenced_widgets": [
            "35a50442e5a143888a6566c88365415a",
            "ae3eed33ae0740a3b09948780727df4b",
            "80c181d91d7e4d01aa797a0ec4291fb9",
            "932024a4bce246628f0f49651f7a941c",
            "5f6a7662e366498f9611715ff6f8430f"
          ]
        },
        "id": "2RqoryhrHl0C",
        "outputId": "ebd134fb-60a3-413d-c7b1-b7edd302af7b",
        "cellView": "form"
      },
      "execution_count": 20,
      "outputs": [
        {
          "output_type": "display_data",
          "data": {
            "text/plain": [
              "Dropdown(description='Domain:', options=('Robotics', 'Autonomous Vehicles', 'Energy Systems', 'Healthcare'), v…"
            ],
            "application/vnd.jupyter.widget-view+json": {
              "version_major": 2,
              "version_minor": 0,
              "model_id": "35a50442e5a143888a6566c88365415a"
            }
          },
          "metadata": {}
        },
        {
          "output_type": "display_data",
          "data": {
            "text/plain": [
              "Output()"
            ],
            "application/vnd.jupyter.widget-view+json": {
              "version_major": 2,
              "version_minor": 0,
              "model_id": "932024a4bce246628f0f49651f7a941c"
            }
          },
          "metadata": {}
        }
      ]
    },
    {
      "cell_type": "code",
      "source": [
        "# @title\n",
        "# Displaying the GIF from the URL\n",
        "gif_url = \"https://upload.wikimedia.org/wikipedia/commons/3/37/Multi_give_way_%284_agents%2C_each_trying_to_reach_a_specific_point%29.gif\"\n",
        "Image(url=gif_url)"
      ],
      "metadata": {
        "colab": {
          "base_uri": "https://localhost:8080/",
          "height": 471
        },
        "id": "StGDJ_AnvllQ",
        "outputId": "b01b686d-5d7d-4810-b223-75efa662aa36",
        "cellView": "form"
      },
      "execution_count": 21,
      "outputs": [
        {
          "output_type": "execute_result",
          "data": {
            "text/html": [
              "<img src=\"https://upload.wikimedia.org/wikipedia/commons/3/37/Multi_give_way_%284_agents%2C_each_trying_to_reach_a_specific_point%29.gif\"/>"
            ],
            "text/plain": [
              "<IPython.core.display.Image object>"
            ]
          },
          "metadata": {},
          "execution_count": 21
        }
      ]
    },
    {
      "cell_type": "markdown",
      "source": [
        "\n",
        "#From Single-Agent to Multi-Agent: Understanding the Fundamental Shift\n"
      ],
      "metadata": {
        "id": "DB40jyt08LvZ"
      }
    },
    {
      "cell_type": "markdown",
      "source": [
        "\n",
        "In this section, we'll explore the fundamental transition from SARL to MARL. We'll use interactive visualizations to understand why MARL requires a different framework than traditional MDPs."
      ],
      "metadata": {
        "id": "Gf4E1AD-8lMF"
      }
    },
    {
      "cell_type": "markdown",
      "source": [
        "## **Mathematical Foundations: From MDPs to Markov Games**"
      ],
      "metadata": {
        "id": "lv7oLy2s9V9E"
      }
    },
    {
      "cell_type": "markdown",
      "source": [
        "Multi-agent systems model dynamic and nondeterministic environments that solve complex problems. In these situations we are dealing with agents that not only have to learn an optimal behavior or policy, but also have to adapt to new situations, where we assume a changing environment due to the actions of the other agents in the joint state-space.\n",
        "\n",
        "Subsequently, we must move away from MDPs and instead use a Markov Game as the framework for modelling multiple agents. The key difference in Markov Games are"
      ],
      "metadata": {
        "id": "Bj3NP8Hc9eHt"
      }
    },
    {
      "cell_type": "code",
      "source": [
        "# @title SARL vs MARL\n",
        "from IPython.display import HTML, display\n",
        "\n",
        "def display_mathematical_comparison():\n",
        "    mdp_html = \"\"\"\n",
        "    <div style=\"background-color: #f0f0f0; padding: 20px; border-radius: 10px; margin: 10px; width: 48%; box-sizing: border-box; font-size: 18px; transition: transform 0.3s ease;\">\n",
        "        <h3 style=\"font-size: 22px;\">Markov Decision Process (MDP)</h3>\n",
        "        <p>MDP = <span id=\"mdp_eq1\">\\( (S, A, P, R, \\gamma) \\)</span></p>\n",
        "        <ul>\n",
        "            <li><span id=\"mdp_eq2\">\\( S \\): State space</span></li>\n",
        "            <li><span id=\"mdp_eq3\">\\( A \\): Action space</span></li>\n",
        "            <li><span id=\"mdp_eq4\">\\( P: (S, A, S) \\, \\&rarr; \\, [0,1] \\)</span></li>\n",
        "            <li><span id=\"mdp_eq5\">\\( R: (S, A, S) \\, \\&rarr; \\, \\mathbb{R} \\)</span></li>\n",
        "            <li><span id=\"mdp_eq6\">\\( \\gamma \\in [0,1] \\): Discount factor</span></li>\n",
        "        </ul>\n",
        "    </div>\n",
        "    \"\"\"\n",
        "\n",
        "    markov_game_html = \"\"\"\n",
        "    <div style=\"background-color: #e6f3ff; padding: 20px; border-radius: 10px; margin: 10px; width: 48%; box-sizing: border-box; font-size: 18px; transition: transform 0.3s ease;\">\n",
        "        <h3 style=\"font-size: 22px;\">Markov Game</h3>\n",
        "        <p>MG = <span id=\"mg_eq1\">\\( (N, S, \\{A_i\\}_{i=1}^N, P, \\{R_i\\}_{i=1}^N, \\gamma) \\)</span></p>\n",
        "        <ul>\n",
        "            <li><span id=\"mg_eq2\">\\( N \\): Number of agents</span></li>\n",
        "            <li><span id=\"mg_eq3\">\\( S \\): Joint state space</span></li>\n",
        "            <li><span id=\"mg_eq4\">\\( A_i \\): Action space for agent \\( i \\)</span></li>\n",
        "            <li><span id=\"mg_eq5\">\\( P: (S, A_1, \\dots, A_N, S) \\, \\&rarr; \\, [0,1] \\)</span></li>\n",
        "            <li><span id=\"mg_eq6\">\\( R_i: (S, A_1, \\dots, A_N, S) \\, \\&rarr; \\, \\mathbb{R} \\)</span></li>\n",
        "            <li><span id=\"mg_eq7\">\\( \\gamma \\in [0,1] \\): Discount factor</span></li>\n",
        "        </ul>\n",
        "    </div>\n",
        "    \"\"\"\n",
        "\n",
        "    # Add MathJax script to render the math formulas\n",
        "    display(HTML(f\"\"\"\n",
        "    <script type=\"text/javascript\" async\n",
        "      src=\"https://cdnjs.cloudflare.com/ajax/libs/mathjax/2.7.7/MathJax.js?config=TeX-MML-AM_CHTML\">\n",
        "    </script>\n",
        "    <div style=\"display: flex; justify-content: space-between; gap: 20px; flex-wrap: wrap; padding: 20px;\">\n",
        "        {mdp_html}\n",
        "        {markov_game_html}\n",
        "    </div>\n",
        "    <style>\n",
        "        div:hover {{\n",
        "            transform: scale(1.01);\n",
        "            box-shadow: 0 0 15px rgba(0, 0, 0, 0.2);\n",
        "        }}\n",
        "    </style>\n",
        "    \"\"\"))\n",
        "\n",
        "display_mathematical_comparison()\n"
      ],
      "metadata": {
        "colab": {
          "base_uri": "https://localhost:8080/",
          "height": 665
        },
        "cellView": "form",
        "id": "g0mGyHZ-9TLe",
        "outputId": "31cd41c4-2ba4-4b06-b493-b9cf5177b1d2"
      },
      "execution_count": 22,
      "outputs": [
        {
          "output_type": "stream",
          "name": "stderr",
          "text": [
            "<>:5: DeprecationWarning: invalid escape sequence '\\('\n"
          ]
        },
        {
          "output_type": "display_data",
          "data": {
            "text/plain": [
              "<IPython.core.display.HTML object>"
            ],
            "text/html": [
              "\n",
              "    <script type=\"text/javascript\" async\n",
              "      src=\"https://cdnjs.cloudflare.com/ajax/libs/mathjax/2.7.7/MathJax.js?config=TeX-MML-AM_CHTML\">\n",
              "    </script>\n",
              "    <div style=\"display: flex; justify-content: space-between; gap: 20px; flex-wrap: wrap; padding: 20px;\">\n",
              "        \n",
              "    <div style=\"background-color: #f0f0f0; padding: 20px; border-radius: 10px; margin: 10px; width: 48%; box-sizing: border-box; font-size: 18px; transition: transform 0.3s ease;\">\n",
              "        <h3 style=\"font-size: 22px;\">Markov Decision Process (MDP)</h3>\n",
              "        <p>MDP = <span id=\"mdp_eq1\">\\( (S, A, P, R, \\gamma) \\)</span></p>\n",
              "        <ul>\n",
              "            <li><span id=\"mdp_eq2\">\\( S \\): State space</span></li>\n",
              "            <li><span id=\"mdp_eq3\">\\( A \\): Action space</span></li>\n",
              "            <li><span id=\"mdp_eq4\">\\( P: (S, A, S) \\, \\&rarr; \\, [0,1] \\)</span></li>\n",
              "            <li><span id=\"mdp_eq5\">\\( R: (S, A, S) \\, \\&rarr; \\, \\mathbb{R} \\)</span></li>\n",
              "            <li><span id=\"mdp_eq6\">\\( \\gamma \\in [0,1] \\): Discount factor</span></li>\n",
              "        </ul>\n",
              "    </div>\n",
              "    \n",
              "        \n",
              "    <div style=\"background-color: #e6f3ff; padding: 20px; border-radius: 10px; margin: 10px; width: 48%; box-sizing: border-box; font-size: 18px; transition: transform 0.3s ease;\">\n",
              "        <h3 style=\"font-size: 22px;\">Markov Game</h3>\n",
              "        <p>MG = <span id=\"mg_eq1\">\\( (N, S, \\{A_i\\}_{i=1}^N, P, \\{R_i\\}_{i=1}^N, \\gamma) \\)</span></p>\n",
              "        <ul>\n",
              "            <li><span id=\"mg_eq2\">\\( N \\): Number of agents</span></li>\n",
              "            <li><span id=\"mg_eq3\">\\( S \\): Joint state space</span></li>\n",
              "            <li><span id=\"mg_eq4\">\\( A_i \\): Action space for agent \\( i \\)</span></li>\n",
              "            <li><span id=\"mg_eq5\">\\( P: (S, A_1, \\dots, A_N, S) \\, \\&rarr; \\, [0,1] \\)</span></li>\n",
              "            <li><span id=\"mg_eq6\">\\( R_i: (S, A_1, \\dots, A_N, S) \\, \\&rarr; \\, \\mathbb{R} \\)</span></li>\n",
              "            <li><span id=\"mg_eq7\">\\( \\gamma \\in [0,1] \\): Discount factor</span></li>\n",
              "        </ul>\n",
              "    </div>\n",
              "    \n",
              "    </div>\n",
              "    <style>\n",
              "        div:hover {\n",
              "            transform: scale(1.01);\n",
              "            box-shadow: 0 0 15px rgba(0, 0, 0, 0.2);\n",
              "        }\n",
              "    </style>\n",
              "    "
            ]
          },
          "metadata": {}
        }
      ]
    },
    {
      "cell_type": "code",
      "source": [
        "# @title Illustration\n",
        "import matplotlib.pyplot as plt\n",
        "import numpy as np\n",
        "from ipywidgets import interact, widgets\n",
        "\n",
        "def create_environment_comparison(n_agents=2):\n",
        "    fig, (ax1, ax2) = plt.subplots(1, 2, figsize=(15, 6))\n",
        "\n",
        "    ax1.set_title('Single-Agent Environment')\n",
        "    circle = plt.Circle((0.5, 0.5), 0.3, color='b', alpha=0.3)\n",
        "    ax1.add_artist(circle)\n",
        "    ax1.plot(0.5, 0.5, 'b.', markersize=15, label='Agent')\n",
        "    ax1.set_xlim(0, 1)\n",
        "    ax1.set_ylim(0, 1)\n",
        "    ax1.legend()\n",
        "\n",
        "    ax2.set_title('Multi-Agent Environment')\n",
        "    colors = ['b', 'r', 'g', 'm']\n",
        "    markers = ['.', 's', '^', 'o']\n",
        "    for i in range(n_agents):\n",
        "        circle = plt.Circle((0.3 + i*0.2, 0.5), 0.15, color=colors[i], alpha=0.3)\n",
        "        ax2.add_artist(circle)\n",
        "        ax2.plot(0.3 + i*0.2, 0.5, color=colors[i], marker=markers[i],\n",
        "                 markersize=15, label=f'Agent {i+1}')\n",
        "    ax2.set_xlim(0, 1)\n",
        "    ax2.set_ylim(0, 1)\n",
        "    ax2.legend()\n",
        "\n",
        "    plt.tight_layout()\n",
        "    return fig\n",
        "\n",
        "def show_environment_comparison(n_agents):\n",
        "    \"\"\"\n",
        "    Displays the comparison between a single-agent and multi-agent environment.\n",
        "\n",
        "    Args:\n",
        "        n_agents (int): The number of agents in the multi-agent environment.\n",
        "\n",
        "    The function prints the sizes of the state space and action space for both environments\n",
        "    and creates an interactive visualization comparing the environments.\n",
        "    \"\"\"\n",
        "    state_space_single_agent = 5\n",
        "    action_space_single_agent = 4\n",
        "\n",
        "    state_space_multi_agent = state_space_single_agent ** n_agents\n",
        "    action_space_multi_agent = action_space_single_agent ** n_agents\n",
        "\n",
        "    print(f\"Single-Agent Environment (State Space Size: {state_space_single_agent}, Action Space Size: {action_space_single_agent})\")\n",
        "    print(f\"Multi-Agent Environment ({n_agents} Agents) - Joint State Space Size: {state_space_multi_agent}, Joint Action Space Size: {action_space_multi_agent}\")\n",
        "\n",
        "    fig = create_environment_comparison(n_agents)\n",
        "    plt.show()\n",
        "\n",
        "interact(show_environment_comparison, n_agents=widgets.IntSlider(min=2, max=4, step=1, value=2,\n",
        "                                                               description='Number of Agents:',\n",
        "                                                               style={'description_width': 'initial'}))\n"
      ],
      "metadata": {
        "colab": {
          "base_uri": "https://localhost:8080/",
          "height": 668,
          "referenced_widgets": [
            "67cdc7e208df454298b74a67a11a775e",
            "1d1df54415a84942a81aa41d4ad91d79",
            "e6df3b1456c44c06a3a67acf7f646e53",
            "f3d4e1859d8e44aa90be3fb45a9bb537",
            "8f904f4ca6a34d3581dd80c8986a6909",
            "543ea5a4c1c540f5af2b188120c995ff",
            "db8ede3ed51c4a139037be7fedecb72e"
          ]
        },
        "cellView": "form",
        "id": "zxzQmtZkwBBg",
        "outputId": "562270be-6ed4-43ef-ac3a-ef375bbe1df5"
      },
      "execution_count": 23,
      "outputs": [
        {
          "output_type": "display_data",
          "data": {
            "text/plain": [
              "interactive(children=(IntSlider(value=2, description='Number of Agents:', max=4, min=2, style=SliderStyle(desc…"
            ],
            "application/vnd.jupyter.widget-view+json": {
              "version_major": 2,
              "version_minor": 0,
              "model_id": "67cdc7e208df454298b74a67a11a775e"
            }
          },
          "metadata": {}
        },
        {
          "output_type": "execute_result",
          "data": {
            "text/plain": [
              "<function __main__.show_environment_comparison(n_agents)>"
            ],
            "text/html": [
              "<div style=\"max-width:800px; border: 1px solid var(--colab-border-color);\"><style>\n",
              "      pre.function-repr-contents {\n",
              "        overflow-x: auto;\n",
              "        padding: 8px 12px;\n",
              "        max-height: 500px;\n",
              "      }\n",
              "\n",
              "      pre.function-repr-contents.function-repr-contents-collapsed {\n",
              "        cursor: pointer;\n",
              "        max-height: 100px;\n",
              "      }\n",
              "    </style>\n",
              "    <pre style=\"white-space: initial; background:\n",
              "         var(--colab-secondary-surface-color); padding: 8px 12px;\n",
              "         border-bottom: 1px solid var(--colab-border-color);\"><b>show_environment_comparison</b><br/>def show_environment_comparison(n_agents)</pre><pre class=\"function-repr-contents function-repr-contents-collapsed\" style=\"\"><a class=\"filepath\" style=\"display:none\" href=\"#\">/content/&lt;ipython-input-23-45bd1f15460d&gt;</a>Displays the comparison between a single-agent and multi-agent environment.\n",
              "\n",
              "Args:\n",
              "    n_agents (int): The number of agents in the multi-agent environment.\n",
              "\n",
              "The function prints the sizes of the state space and action space for both environments\n",
              "and creates an interactive visualization comparing the environments.</pre></div>"
            ]
          },
          "metadata": {},
          "execution_count": 23
        }
      ]
    },
    {
      "cell_type": "markdown",
      "source": [
        "#### Conclusion on the Evolution of State Space and Action Space\n",
        "\n",
        "- **Single-Agent Environment**:\n",
        "  - State space: $S$\n",
        "  - Action space: $A$\n",
        "\n",
        "- **Multi-Agent Environment ($N$ agents)**:\n",
        "  - **Joint State Space**: $S_{\\text{joint}} = S^N$  \n",
        "    The state space grows **exponentially** with the number of agents, as it represents all possible combinations of states for $N$ agents.\n",
        "  - **Joint Action Space**: $A_{\\text{joint}} = A^N$  \n",
        "    Similarly, the action space grows **exponentially**, reflecting all possible combinations of actions taken by $N$ agents simultaneously.\n",
        "\n",
        "---\n",
        "\n",
        "#### Implications\n",
        "- The **exponential growth** of state and action spaces with $N$ agents leads to significant computational challenges in modeling and solving multi-agent environments.\n",
        "- Addressing this complexity often requires:\n",
        "  - Efficient representations of the state and action spaces.\n",
        "  - **Decentralized strategies** to reduce the dimensionality of the problem.\n",
        "  - Utilizing approximations or hierarchical methods in reinforcement learning.\n"
      ],
      "metadata": {
        "id": "aaZ99kj5JWAP"
      }
    },
    {
      "cell_type": "markdown",
      "source": [
        "### Types of MARL\n"
      ],
      "metadata": {
        "id": "GIoB3hTyQovn"
      }
    },
    {
      "cell_type": "markdown",
      "source": [
        "\n",
        "MARL involves multiple agents interacting in a shared environment. The agents’ behaviors depend on their own actions as well as the actions of others. The main types of MARL are as follows:\n",
        "\n",
        "- **Competitive MARL**:\n",
        "  - Agents compete against each other.\n",
        "  - The reward for each agent is typically inversely related to the rewards of others, meaning that one agent’s gain comes at the expense of another’s loss.\n",
        "  \n",
        "  Mathematically, the reward for agent $i$ is:\n",
        "  $\n",
        "  R_i(s, a_1, a_2, \\dots, a_N)\n",
        "  $\n",
        "  where $s$ is the state and $a_1, a_2, \\dots, a_N$ are the actions of all agents.\n",
        "\n",
        "- **Cooperative MARL**:\n",
        "  - All agents share a common goal and work together to maximize the total reward.\n",
        "  - The reward is the same for all agents in a given state-action pair.\n",
        "\n",
        "  $\n",
        "  R_i(s, a_1, a_2, \\dots, a_N) = R(s, a_1, a_2, \\dots, a_N)\n",
        "  $\n",
        "  where $R$ is the shared reward across agents.\n",
        "\n",
        "- **Mixed MARL**:\n",
        "  - Mixed MARL combines both competitive and cooperative behaviors.\n",
        "  - Some agents may cooperate for certain tasks, while still competing for individual rewards.\n",
        "  $\n",
        "  R_i(s, a_1, a_2, \\dots, a_N) = R_c(s, a_1, a_2, \\dots, a_N) + R_p(s, a_1, a_2, \\dots, a_N)\n",
        "  $\n",
        "  where $R_c$ is the cooperative component and $R_p$ is the competitive component.\n",
        "\n",
        "### Payoff Matrix\n",
        "\n",
        "A **payoff matrix** represents the outcomes (payoffs) for each agent based on their chosen strategies. It’s a useful tool for analyzing strategic decisions in games.\n",
        "\n",
        "In a two-player game, the matrix is represented as:\n",
        "\n",
        "$$\n",
        "\\begin{array}{|c|c|c|}\n",
        "\\hline\n",
        "& \\text{Player 2: Strategy 1} & \\text{Player 2: Strategy 2} \\\\\n",
        "\\hline\n",
        "\\text{Player 1: Strategy 1} & (R_1, R_2) & (R_3, R_4) \\\\\n",
        "\\hline\n",
        "\\text{Player 1: Strategy 2} & (R_5, R_6) & (R_7, R_8) \\\\\n",
        "\\hline\n",
        "\\end{array}\n",
        "$$\n",
        "\n",
        "\n",
        "Where $(R_1, R_2)$, etc., represent the payoffs for Player 1 and Player 2 based on their strategies.\n",
        "\n",
        "In MARL, the payoff matrix helps analyze how agents' interactions affect outcomes in Competitive, Cooperative, and Mixed settings.\n"
      ],
      "metadata": {
        "id": "bZg0eF-cPVvS"
      }
    },
    {
      "cell_type": "code",
      "source": [
        "# @title Payoff Matrix\n",
        "import matplotlib.pyplot as plt\n",
        "import numpy as np\n",
        "import seaborn as sns\n",
        "from ipywidgets import interact\n",
        "from IPython.display import display, Markdown\n",
        "\n",
        "def create_marl_types_visualization():\n",
        "    competitive = np.array([[1,-1], [-1,1]])\n",
        "    cooperative = np.array([[2,0], [0,2]])\n",
        "    mixed = np.array([[2,-1], [-1,2]])\n",
        "\n",
        "    def plot_payoff_matrix(matrix, title):\n",
        "        fig = plt.figure(figsize=(6, 4))\n",
        "        sns.heatmap(matrix, annot=True, cmap='RdYlBu', center=0)\n",
        "        plt.title(title)\n",
        "        return fig\n",
        "\n",
        "    @interact(marl_type=['Competitive', 'Cooperative', 'Mixed'])\n",
        "    def show_marl_type(marl_type):\n",
        "        if marl_type == 'Competitive':\n",
        "            matrix = competitive\n",
        "            display(Markdown(\"\"\"\n",
        "            Competitive MARL\n",
        "            - Payoff Matrix: A zero-sum game where the total payoff across all players is zero.\n",
        "            - Key Characteristic: One player's gain is another player's loss.\n",
        "            - Example: Two-player games like chess, where players are directly competing.\n",
        "            \"\"\"))\n",
        "        elif marl_type == 'Cooperative':\n",
        "            matrix = cooperative\n",
        "            display(Markdown(\"\"\"\n",
        "            Cooperative MARL\n",
        "            - Payoff Matrix: A shared reward system where all agents work towards maximizing the collective reward.\n",
        "            - Key Characteristic: Agents collaborate to achieve a common goal.\n",
        "            - Example: Robot swarm coordination, where agents cooperate to achieve a common task.\n",
        "            \"\"\"))\n",
        "        else:\n",
        "            matrix = mixed\n",
        "            display(Markdown(\"\"\"\n",
        "            Mixed MARL\n",
        "            - Payoff Matrix: A combination of competitive and cooperative elements.\n",
        "            - Key Characteristic: Agents have partial alignment of goals but may still compete in certain situations.\n",
        "            - Example: Traffic management, where cooperation is needed to optimize the system, but individual vehicles still compete for resources like road space.\n",
        "            \"\"\"))\n",
        "\n",
        "        plot_payoff_matrix(matrix, f'{marl_type} MARL - Payoff Matrix')\n",
        "        plt.show()\n",
        "\n",
        "create_marl_types_visualization()\n"
      ],
      "metadata": {
        "colab": {
          "base_uri": "https://localhost:8080/",
          "height": 492,
          "referenced_widgets": [
            "2e4285058275462e84946f63ba32b7ad",
            "4796c53245ce4cc2a829d573b18cfeca",
            "cbbca25e2bff4abebbbf9e8b7671a714",
            "370f3f575dca41859d47fd782c2b03af",
            "eefaf5aacd544c42b43ae6b15b048a27",
            "d9ae4ff2ebe342169addceceecd43078",
            "3e07bab6ac5a45d290ded1b0ebac8b00"
          ]
        },
        "cellView": "form",
        "id": "Wpz9gs8I9HP2",
        "outputId": "5a4bca31-01cb-484b-b5d6-80f0f90e79e2"
      },
      "execution_count": 24,
      "outputs": [
        {
          "output_type": "display_data",
          "data": {
            "text/plain": [
              "interactive(children=(Dropdown(description='marl_type', options=('Competitive', 'Cooperative', 'Mixed'), value…"
            ],
            "application/vnd.jupyter.widget-view+json": {
              "version_major": 2,
              "version_minor": 0,
              "model_id": "2e4285058275462e84946f63ba32b7ad"
            }
          },
          "metadata": {}
        }
      ]
    },
    {
      "cell_type": "markdown",
      "source": [
        "##  **Key Challenges MARL**\n"
      ],
      "metadata": {
        "id": "IOaRB0paXw4A"
      }
    },
    {
      "cell_type": "markdown",
      "source": [
        "MARL introduces unique challenges due to interactions between agents and the environment. Addressing these challenges is essential for building robust multi-agent systems.\n"
      ],
      "metadata": {
        "id": "q8CnTN1FSlnx"
      }
    },
    {
      "cell_type": "markdown",
      "source": [
        "### 🚩 **1. Non-Stationarity**\n"
      ],
      "metadata": {
        "id": "b59ERZSCV5kz"
      }
    },
    {
      "cell_type": "markdown",
      "source": [
        "In MARL, agents interact with each other in a shared environment. A key challenge is **non-stationarity** — the environment changes dynamically as agents adapt their policies. This creates instability and hinders learning.\n",
        "\n",
        "---\n",
        "\n",
        "**The Problem**\n",
        "\n",
        "In a multi-agent setup:  \n",
        "- Each agent's policy affects the environment.  \n",
        "- When one agent updates its policy, the environment effectively changes for all other agents.  \n",
        "- This violates the stationary environment assumption of standard reinforcement learning algorithms.\n",
        "\n",
        "---\n",
        "\n",
        "**Mathematical Formalism**\n",
        "\n",
        "1. **Environment Dynamics**:  \n",
        "   The environment’s state transition depends on all agents' actions:  \n",
        "   $$\n",
        "   P(s_{t+1} | s_t, \\mathbf{a}_t),\n",
        "   $$\n",
        "   where $\\mathbf{a}_t = (a_t^1, a_t^2, \\dots, a_t^N) $ represents all agents' actions.\n",
        "\n",
        "2. **Agent-Specific Rewards**:  \n",
        "   Each agent $i$ learns to maximize its own expected return:  \n",
        "  $$\n",
        "   J^i = \\mathbb{E} \\left[ \\sum_{t=0}^T \\gamma^t r_t^i \\right].\n",
        "   $$\n",
        "   However, $r_t^i $ depends on the joint action $\\mathbf{a}_t $, which changes as other agents update their policies.\n",
        "\n",
        "3. **Non-Stationary Policy Updates**:  \n",
        "   As agent $i$ updates its policy $\\pi^i(a^i | s)$, the effective transition and reward functions observed by other agents become time-dependent:  \n",
        "   $$\n",
        "   P(s_{t+1} | s_t, \\mathbf{a}_t) \\text{ and } r_t^j \\quad \\text{for } j \\neq i.\n",
        "   $$\n",
        "\n",
        "---\n",
        "\n",
        "**Impact of Non-Stationarity**\n",
        "\n",
        "- **Unstable Learning**: Agents cannot converge to optimal policies because their environment (other agents) is constantly changing.  \n",
        "- **Exploration-Exploitation Tradeoff**: It becomes harder to balance exploring new strategies with exploiting known ones.  \n",
        "- **Suboptimal Coordination**: Agents might struggle to form effective strategies due to frequent policy changes by others.\n",
        "\n"
      ],
      "metadata": {
        "id": "HMU6U9cMIEvB"
      }
    },
    {
      "cell_type": "markdown",
      "source": [
        "\n",
        "\n",
        "**Illustration Example**: Non-Stationarity in the \"Multi-Agent Particle Environment\"\n",
        "\n",
        "- **Environment Description**:\n",
        "  - **Agents**: Move on a 2D grid to collect and spread objects.\n",
        "  - **Goal**: The goal is for agents to cooperate and gather objects, maximizing a shared reward.\n",
        "  - **Actions**: Agents can move in four directions (up, down, left, right) and interact with other agents or objects.\n",
        "\n",
        "- **Reward Distribution**:\n",
        "  - In **single-agent** setup: Reward depends on the actions of the single agent, based on how effectively it collects objects.\n",
        "  - In **multi-agent** setup: The reward is shared among all agents based on their collective actions. Agents might hinder or help each other depending on the interactions.\n",
        "\n",
        "- **Key Points**:\n",
        "  - The environment is non-stationary because the actions of multiple agents create dynamic changes in the state.\n",
        "  - No learning or training: We sample random actions and observe how reward fluctuations occur due to non-stationarity.\n"
      ],
      "metadata": {
        "id": "NX89GhpXSqPB"
      }
    },
    {
      "cell_type": "code",
      "source": [
        "# @title Spread\n",
        "import numpy as np\n",
        "import matplotlib.pyplot as plt\n",
        "from pettingzoo.mpe import simple_spread_v3\n",
        "from IPython.display import Image, display\n",
        "import imageio\n",
        "from ipywidgets import interactive\n",
        "\n",
        "def initialize_env(N_agents):\n",
        "    env_single = simple_spread_v3.parallel_env(N=1, render_mode=\"rgb_array\")  # Single-agent setup\n",
        "    env_multi = simple_spread_v3.parallel_env(N=N_agents, render_mode=\"rgb_array\")  # Multi-agent setup\n",
        "    return env_single, env_multi\n",
        "\n",
        "def reset_envs(env_single, env_multi):\n",
        "    observations_single, infos_single = env_single.reset(seed=42)\n",
        "    observations_multi, infos_multi = env_multi.reset(seed=42)\n",
        "    return observations_single, infos_single, observations_multi, infos_multi\n",
        "\n",
        "def save_gif_from_images(images, filename):\n",
        "    \"\"\"Save a sequence of images as a GIF with looping enabled.\"\"\"\n",
        "    imageio.mimsave(filename, images, duration=0.1, loop=0)  # loop=0 ensures the GIF repeats indefinitely\n",
        "\n",
        "def simulate_non_stationarity_with_gif(N_agents, steps=100):\n",
        "    env_single, env_multi = initialize_env(N_agents)\n",
        "    observations_single, infos_single, observations_multi, infos_multi = reset_envs(env_single, env_multi)\n",
        "\n",
        "    rewards_single, rewards_multi = [], []\n",
        "    images_single, images_multi = [], []\n",
        "\n",
        "    for _ in range(steps):\n",
        "        actions_single = {}\n",
        "        actions_multi = {}\n",
        "\n",
        "        for agent in env_single.agents:\n",
        "            actions_single[agent] = env_single.action_space(agent).sample()\n",
        "\n",
        "        images_single.append(env_single.render())\n",
        "\n",
        "        observations, rewards, terminations, truncations, infos = env_single.step(actions_single)\n",
        "        rewards_single.append(sum(rewards.values()))\n",
        "\n",
        "        for agent in env_multi.agents:\n",
        "            actions_multi[agent] = env_multi.action_space(agent).sample()\n",
        "\n",
        "        images_multi.append(env_multi.render())\n",
        "\n",
        "        observations, rewards, terminations, truncations, infos = env_multi.step(actions_multi)\n",
        "        rewards_multi.append(sum(rewards.values()))\n",
        "\n",
        "    return rewards_single, rewards_multi, images_single, images_multi\n",
        "\n",
        "def plot_with_gif(N_agents=2, steps=100):\n",
        "    rewards_single, rewards_multi, images_single, images_multi = simulate_non_stationarity_with_gif(N_agents, steps)\n",
        "\n",
        "    rewards_plot = plt.figure(figsize=(10, 6))\n",
        "    plt.plot(rewards_single, label='Single-Agent Reward', color='blue')\n",
        "    plt.plot(rewards_multi, label=f'Multi-Agent Reward (N={N_agents})', color='red')\n",
        "    plt.title(\"Non-Stationarity: Reward Fluctuations in Single-Agent vs. Multi-Agent Setting\")\n",
        "    plt.xlabel(\"Training Steps\")\n",
        "    plt.ylabel(\"Reward\")\n",
        "    plt.legend()\n",
        "    plt.grid(True)\n",
        "    plt.tight_layout()\n",
        "    plt.show()\n",
        "\n",
        "    save_gif_from_images(images_single, filename='single_agent.gif')\n",
        "    save_gif_from_images(images_multi, filename='multi_agent.gif')\n",
        "\n",
        "    display(Markdown(\"### **Single-Agent Animation**\"))\n",
        "    display(Image(filename=\"single_agent.gif\"))\n",
        "\n",
        "    display(Markdown(f\"### **Multi-Agent Animation (N={N_agents})**\"))\n",
        "    display(Image(filename=\"multi_agent.gif\"))\n",
        "\n",
        "interactive_plot = interactive(plot_with_gif, N_agents=(2, 10, 1), steps=(100, 500, 10))\n",
        "display(interactive_plot)\n"
      ],
      "metadata": {
        "colab": {
          "base_uri": "https://localhost:8080/",
          "height": 1000,
          "referenced_widgets": [
            "c82d2168108e4b5fabe34c20caf4cec5",
            "95bfe3c121134af08e7309cb6787d8a5",
            "cb6b470e68954337b8d99b8f61ec3fa0",
            "d4fc3418ad8c4549a6c3f3b0bed1de27",
            "f694cd2845c643029822f6e3d82a1930",
            "e6fe30740b464a43b79a6dc7ffba9be2",
            "6526bc393ce64a95943903d424e4a6b5",
            "41dc44b4bf754f52b1a311ece7f91587",
            "3178d510ff1e43b29e6d73f9b7d14c40",
            "c622b3e362e349ae9bc99a0ac5ad36b2"
          ]
        },
        "id": "0J8UWx5RaNBO",
        "outputId": "33288ae8-a64a-4272-82a2-ea70f03dc2d1"
      },
      "execution_count": 25,
      "outputs": [
        {
          "output_type": "stream",
          "name": "stderr",
          "text": [
            "/usr/local/lib/python3.10/dist-packages/ipykernel/ipkernel.py:283: DeprecationWarning: `should_run_async` will not call `transform_cell` automatically in the future. Please pass the result to `transformed_cell` argument and any exception that happen during thetransform in `preprocessing_exc_tuple` in IPython 7.17 and above.\n",
            "  and should_run_async(code)\n"
          ]
        },
        {
          "output_type": "display_data",
          "data": {
            "text/plain": [
              "interactive(children=(IntSlider(value=2, description='N_agents', max=10, min=2), IntSlider(value=100, descript…"
            ],
            "application/vnd.jupyter.widget-view+json": {
              "version_major": 2,
              "version_minor": 0,
              "model_id": "c82d2168108e4b5fabe34c20caf4cec5"
            }
          },
          "metadata": {}
        }
      ]
    },
    {
      "cell_type": "markdown",
      "source": [
        "### 📊 3. **Credit Assignment**"
      ],
      "metadata": {
        "id": "6jfwNGmSETbl"
      }
    },
    {
      "cell_type": "markdown",
      "source": [
        "\n",
        "Agents work together to maximize a global reward. A key challenge is **credit assignment** — determining how much each agent contributes to the team’s success or failure. Without proper credit assignment, agents may struggle to learn effective policies.\n",
        "\n",
        "---\n",
        "\n",
        "**The Problem**\n",
        "\n",
        "- **Joint Reward**: Agents receive a shared reward $r_t$, making it unclear which agent's actions led to the outcome.  \n",
        "- **Delayed Rewards**: Rewards might not occur immediately, making it harder to link actions to results.  \n",
        "\n",
        "The goal is to distribute the joint reward among agents such that each learns its contribution to the global outcome.\n",
        "\n",
        "---\n",
        "\n",
        "**Mathematical Formalism**\n",
        "\n",
        "1. **Global Objective**:\n",
        "   Maximize the total discounted reward:\n",
        "   $$\n",
        "   J = \\mathbb{E} \\left[ \\sum_{t=0}^T \\gamma^t r_t \\right],\\quad  \\text{where \\( \\gamma \\) is the discount factor.}\n",
        "   $$\n",
        "   \n",
        "\n",
        "2. **Credit Decomposition**:\n",
        "   Decompose $r_t $ into individual contributions  $c_t^i$ for $N$ agents:\n",
        "   $$\n",
        "   r_t = \\sum_{i=1}^N c_t^i.\n",
        "   $$\n",
        "\n",
        "3. **Advantage Function** (for Temporal Credit):\n",
        "   Use the advantage function to estimate an agent's impact:\n",
        "   $$\n",
        "   A_t^i = Q(s_t, a_t^i) - V(s_t),\n",
        "   $$\n",
        "   where $ Q(s_t, a_t^i) $ evaluates action $ a_t^i $, and $V(s_t) $ evaluates the state $s_t$.\n",
        "\n",
        "---\n",
        "\n",
        "**Approaches to Credit Assignment**\n",
        "\n",
        "1. **Implicit Credit Assignment**:\n",
        "   - Use joint rewards to train all agents collectively.\n",
        "   - Example: Value Decomposition Networks (VDN) decompose the joint value:\n",
        "     $$\n",
        "     Q(\\mathbf{s}, \\mathbf{a}) = \\sum_{i=1}^N Q^i(s_t, a_t^i).\n",
        "     $$\n",
        "\n",
        "2. **Explicit Credit Assignment**:\n",
        "   - Use techniques like **Shapley values** to allocate rewards based on marginal contributions:\n",
        "     $$\n",
        "     \\phi^i = \\sum_{S \\subseteq N \\setminus \\{i\\}} \\frac{|S|! (N - |S| - 1)!}{N!} \\left[ f(S \\cup \\{i\\}) - f(S) \\right].\n",
        "     $$\n",
        "   - Provides fairness but is computationally expensive.\n",
        "---\n"
      ],
      "metadata": {
        "id": "0C5iLj5s5six"
      }
    },
    {
      "cell_type": "markdown",
      "source": [
        "### 🔍 **4. Partial Observability**  \n",
        "\n",
        "Agents in MARL often lack access to the full global state, relying on partial observations, which poses significant challenges for coordination and learning.  \n",
        "\n",
        "---\n",
        "\n",
        "**The Problem**  \n",
        "\n",
        "1. **Limited Observations**: Each agent $i$ observes only a part of the environment:  \n",
        "   $$o_t^i = \\mathcal{O}^i(s_t),$$  \n",
        "   where $s_t$ is the true global state, and $\\mathcal{O}^i$ is the observation function of agent $i$.  \n",
        "\n",
        "2. **Decentralized Policies**: Agents act independently based on local observations:  \n",
        "   $$a_t^i = \\pi^i(o_t^i),$$  \n",
        "   which may lead to suboptimal joint behavior.  \n",
        "\n",
        "3. **Non-Markovian Observations**: The partial observation $o_t^i$ may not contain enough information to make decisions Markovian.  \n",
        "\n",
        "---\n",
        "\n",
        "**Challenges**  \n",
        "\n",
        "1. **Coordination Under Uncertainty**: Incomplete or inconsistent information hinders agents' ability to work together.  \n",
        "2. **Hidden States**: Critical environment or agent states are unobservable, leading to poorly informed decisions.  \n",
        "3. **Delayed Effects**: Observations may not immediately reflect the consequences of an action.  \n",
        "\n",
        "---\n"
      ],
      "metadata": {
        "id": "tM0qXQWALjFK"
      }
    },
    {
      "cell_type": "markdown",
      "source": [
        "### 📡 2. **Communication**\n"
      ],
      "metadata": {
        "id": "hTEv5AnY4MMg"
      }
    },
    {
      "cell_type": "markdown",
      "source": [
        "Agents work together to achieve common goals. A key challenge is **communication** — how do agents share information when they can't directly observe each other's states or intentions? Efficient communication is critical for coordinating actions, but poor communication strategies can reduce performance.\n",
        "\n",
        "\n",
        "\n",
        "**The Problem**\n",
        "\n",
        "In MARL, agents face three key communication challenges:\n",
        "\n",
        "1. **When to communicate?** Not all decisions require input from other agents, and over-communication can create inefficiencies.\n",
        "2. **What to communicate?** Agents need to decide which information is essential and relevant to share.\n",
        "3. **How to communicate efficiently?** Too much or too little communication can slow down decision-making and consume resources.\n",
        "\n",
        "If communication isn’t handled properly, agents may act independently or inefficiently, reducing the overall performance.\n",
        "\n",
        "---\n",
        "\n",
        " **Types of Communication**\n",
        "\n",
        "1. **Implicit Communication**:\n",
        "   - **Definition**: Agents communicate indirectly through their actions, inferring the intentions of others by observing their behavior.\n",
        "   - **Example**: Agent A moves in a specific direction, and Agent B infers that Agent A is trying to reach a destination.\n",
        "   - **Advantages**: No message overhead.\n",
        "   - **Disadvantages**: Can lead to misunderstandings, especially in complex environments.\n",
        "\n",
        "2. **Explicit Communication**:\n",
        "   - **Definition**: Agents send direct messages to each other to convey information.\n",
        "   - **Example**: Agent A tells Agent B, \"There’s an obstacle ahead, move left.\"\n",
        "   - **Advantages**: Clear coordination.\n",
        "   - **Disadvantages**: Communication overhead and possible complexity in managing messages.\n",
        "\n",
        "---\n",
        "\n",
        "**Potential Solutions to the Communication Challenge**\n",
        "\n",
        "1. **Learning Communication with Deep Reinforcement Learning (DRL)**:\n",
        "   - Agents can learn to develop communication protocols through reinforcement learning. They’re trained to maximize their performance, while also learning to share information in a way that improves coordination.\n",
        "   - **Example**: Agents learn when to signal each other or interpret each other’s actions without explicit instructions.\n",
        "\n",
        "2. **Targeted Multi-Agent Communication (TARMAC)**:\n",
        "   - Agents use attention mechanisms to decide what and who to communicate with, ensuring that only relevant information is shared. This reduces communication costs and improves coordination.\n",
        "   - **Example**: An agent might only communicate with another agent when an obstacle or important event occurs.\n"
      ],
      "metadata": {
        "id": "7BySW5X32Sit"
      }
    },
    {
      "cell_type": "markdown",
      "source": [
        "# **Algorithmic Solutions**"
      ],
      "metadata": {
        "id": "m5v7XGaLendd"
      }
    },
    {
      "cell_type": "markdown",
      "source": [
        "## **2. Centralized Training with Decentralized Execution**\n"
      ],
      "metadata": {
        "id": "GGpcHeGBjiB9"
      }
    },
    {
      "cell_type": "markdown",
      "source": [
        "CTDE is a paradigm where agents are trained using centralized information but execute their policies based on local observations. This approach addresses the non-stationarity problems by allowing agents to learn from a shared perspective during training while maintaining autonomy during execution.\n",
        "\n",
        "\n",
        "\n",
        "### 🧠📈 2.3 Centralized Q-Learning (CQL)\n",
        "\n",
        "CQL is a centralized approach where a single Q-function is learned for all agents, with decentralized execution.\n",
        "\n",
        "The Q-value update is:\n",
        "\n",
        "$$ Q(s_t, a_t) \\leftarrow Q(s_t, a_t) + \\alpha \\left[ r_t + \\gamma \\max_{a'} Q(s_{t+1}, a') - Q(s_t, a_t) \\right] $$\n",
        "\n",
        "Where:\n",
        "- $s_t$: State at time $t$\n",
        "- $a_t$: Action taken at time $t$\n",
        "- $r_t$: Reward received at time $t$\n",
        "- $\\gamma$: Discount factor\n",
        "- $\\alpha$: Learning rate\n",
        "\n",
        "**Comparison with SARL:**\n",
        "\n",
        "In SARL, the Q-value update is similar but considers the environment's response to the agent's action. In CQL, a centralized Q-function is learned for all agents, allowing for coordinated learning during training, while agents execute policies based on local observations during execution.\n"
      ],
      "metadata": {
        "id": "b9Ju4UL_jeiQ"
      }
    },
    {
      "cell_type": "markdown",
      "source": [
        "## 3. Value Decomposition Methods\n"
      ],
      "metadata": {
        "id": "3ti1pbp-o6i-"
      }
    },
    {
      "cell_type": "markdown",
      "source": [
        "\n",
        "Value decomposition methods aim to break down the joint value function into individual components, enabling agents to learn cooperative behaviors while maintaining decentralized execution. This decomposition simplifies the complex problem of credit assignment in multi-agent systems, where determining the contribution of each agent to the overall outcome is challenging.\n",
        "\n",
        "\n",
        "### 🧠💡 3.1. Value Decomposition Networks (VDN)\n",
        "\n",
        "VDN decomposes the joint Q-function into a sum of individual Q-functions:\n",
        "\n",
        "$$ Q_{\\text{joint}}(s_t, \\mathbf{a}_t) = \\sum_{i} Q_i(s_t, a_{i,t}) $$\n",
        "\n",
        "Where:\n",
        "- $ \\mathbf{a}_t $: Joint action at time $ t $\n",
        "- $ Q_{\\text{joint}} $: Joint Q-function\n",
        "- $ Q_i $: Individual Q-function for agent $ i $\n",
        "\n",
        "**Comparison with SARL:**\n",
        "In SARL, a single Q-function is learned for the agent. In VDN, the joint Q-function is decomposed into individual Q-functions, facilitating decentralized learning.\n",
        "\n",
        "### 🧠🔗 3.2. QMIX\n",
        "\n",
        "QMIX is a monotonic value function factorization method that ensures joint action-value maximization. The joint Q-function is represented as:\n",
        "\n",
        "$$ Q_{\\text{joint}}(s_t, \\mathbf{a}_t) = \\sum_{i} f_i(s_t, a_{i,t}) \\quad \\text{with} \\quad f_i \\text{ being a monotonic function} $$\n",
        "\n",
        "**Comparison with SARL:**\n",
        "In SARL, a single Q-function is learned for the agent. In QMIX, the joint Q-function is factorized into individual components, ensuring that the joint action-value is maximized.\n",
        "\n",
        "### 🧠⚡ 3.3. QTRAN\n",
        "\n",
        "QTRAN decomposes the joint Q-function into individual Q-functions while maintaining optimality. The decomposition is:\n",
        "\n",
        "$$ Q_{\\text{joint}}(s_t, \\mathbf{a}_t) = \\sum_{i} Q_i(s_t, a_{i,t}) + \\sum_{i,j} \\Delta_{ij}(s_t, a_{i,t}, a_{j,t}) $$\n",
        "\n",
        "Where:\n",
        "- $ \\Delta_{ij} $: Interaction term between agents $ i $ and $ j $\n",
        "\n",
        "**Comparison with SARL:**\n",
        "In SARL, a single Q-function is learned for the agent. In QTRAN, the joint Q-function is decomposed into individual Q-functions with interaction terms, allowing for coordinated learning.\n",
        "\n",
        "### 🧠🧩 3.4. VDN with Advantage Decomposition (VDN-Adv)\n",
        "\n",
        "VDN-Adv extends VDN by incorporating advantage decomposition for improved performance. The joint Q-function is:\n",
        "\n",
        "$$ Q_{\\text{joint}}(s_t, \\mathbf{a}_t) = \\sum_{i} \\left( V_i(s_t) + A_i(s_t, a_{i,t}) \\right) $$\n",
        "\n",
        "Where:\n",
        "- $ V_i(s_t) $: Value function for agent $ i $\n",
        "- $ A_i(s_t, a_{i,t}) $: Advantage function for agent $ i $\n",
        "\n",
        "**Comparison with SARL:**\n",
        "In SARL, a single Q-function is learned for the agent. In VDN-Adv, the joint Q-function is decomposed into value and advantage functions, facilitating more efficient learning.\n"
      ],
      "metadata": {
        "id": "j6UMLYcJol24"
      }
    },
    {
      "cell_type": "markdown",
      "source": [
        "## 4. Policy Gradient Methods\n",
        "\n",
        "These approaches optimize policies directly using gradient-based methods.\n",
        "\n",
        "\n",
        "### 🧠🚀 4.1. Multi-Agent Proximal Policy Optimization (MAPPO)\n",
        "\n",
        "MAPPO extends Proximal Policy Optimization (PPO) to multi-agent settings with centralized training. The objective function for agent $ i $ is:\n",
        "\n",
        "$$ L_i(\\theta_i) = \\mathbb{E}_t \\left[ \\min \\left( r_t(\\theta_i) \\cdot \\hat{A}_t, \\text{clip}(r_t(\\theta_i), 1 - \\epsilon, 1 + \\epsilon) \\cdot \\hat{A}_t \\right) \\right] $$\n",
        "\n",
        "Where:\n",
        "- $ r_t(\\theta_i) $ is the probability ratio\n",
        "- $ \\hat{A}_t $ is the advantage estimate\n",
        "- $ \\epsilon $ is the clipping parameter\n",
        "\n",
        "**Comparison with SARL:**\n",
        "In SARL, PPO is applied to a single agent. In MAPPO, PPO is extended to multi-agent settings, allowing for coordinated policy updates during training.\n",
        "\n",
        "### 🧠💻 2.1 Multi-Agent Deep Deterministic Policy Gradient (MADDPG)\n",
        "\n",
        "MADDPG is an actor-critic algorithm where each agent has its own policy (actor) and a centralized critic evaluates joint actions.\n",
        "\n",
        "**Update Formulas:**\n",
        "\n",
        "- **Critic Update:**\n",
        "\n",
        "  The critic for agent $i$ is updated using the loss function:\n",
        "\n",
        "  $$ \\mathcal{L}_i = \\mathbb{E} \\left[ \\left( Q_i(s_t, a_t, a_{-i}; \\theta_i) - y_t \\right)^2 \\right] $$\n",
        "\n",
        "  Where:\n",
        "  - $y_t = r_t + \\gamma Q_i(s_{t+1}, a_{t+1}, a_{-i}; \\theta_i^-)$\n",
        "  - $a_{-i}$: Actions of all agents except $i$\n",
        "  - $\\theta_i^-$: Target network parameters\n",
        "\n",
        "- **Actor Update:**\n",
        "\n",
        "  The actor for agent $i$ is updated using the policy gradient theorem:\n",
        "\n",
        "  $$ \\nabla_{\\theta_i} J(\\theta_i) = \\mathbb{E}_{\\tau} \\left[ \\nabla_{\\theta_i} \\log \\pi_i(a_t | s_t; \\theta_i) \\cdot \\nabla_{a_t} Q_i(s_t, a_t, a_{-i}; \\theta_i) \\right] $$\n",
        "\n",
        "**Comparison with SARL:**\n",
        "\n",
        "In Single-Agent Reinforcement Learning (SARL), a single critic evaluates the agent's actions. In MADDPG, a centralized critic evaluates joint actions, allowing for coordinated learning among agents.\n",
        "\n",
        "### 🧠🎭 2.2 Multi-Agent Trust Region Policy Optimization (MATRO)\n",
        "\n",
        "MATRO combines trust region optimization with multi-agent settings to ensure stable policy updates.\n",
        "\n",
        "\n",
        "The objective function for agent $i$ is:\n",
        "\n",
        "$$ L_i(\\theta_i) = \\mathbb{E}_t \\left[ \\min \\left( r_t(\\theta_i) \\cdot \\hat{A}_t, \\text{clip}(r_t(\\theta_i), 1 - \\epsilon, 1 + \\epsilon) \\cdot \\hat{A}_t \\right) \\right] $$\n",
        "\n",
        "Where:\n",
        "- $r_t(\\theta_i)$ is the probability ratio\n",
        "- $\\hat{A}_t$ is the advantage estimate\n",
        "- $\\epsilon$ is the clipping parameter\n",
        "\n",
        "**Comparison with SARL:**\n",
        "\n",
        "In SARL, trust region optimization is applied to a single agent. In MATRO, it is extended to multi-agent settings, ensuring stable updates across agents.\n",
        "### 🧠🔄 4.2. Multi-Agent Actor-Critic for Mixed Cooperative-Competitive Environments (MAAC)\n",
        "\n",
        "MAAC combines actor-critic methods with attention mechanisms to handle mixed environments. The critic for agent $ i $ is:\n",
        "\n",
        "$$ Q_i(s_t, a_t) = \\mathbb{E}_{a_{-i}} \\left[ r_t + \\gamma V_i(s_{t+1}) \\right] $$\n",
        "\n",
        "Where:\n",
        "- $ a_{-i} $: Actions of all agents except $ i $\n",
        "- $ V_i(s_{t+1}) $: Value function for agent $ i $ at time $ t+1 $\n",
        "\n",
        "**Comparison with SARL:**\n",
        "In SARL, a single actor-critic method is applied to the agent. In MAAC, attention mechanisms are used to handle interactions in mixed cooperative-competitive environments.\n",
        "\n",
        "### 🧠💬 4.3. Multi-Agent Trust Region Policy Optimization (MATRO)\n",
        "\n",
        "MATRO combines trust region optimization with multi-agent settings to ensure stable policy updates. The objective function for agent $ i $ is:\n",
        "\n",
        "$$ L_i(\\theta_i) = \\mathbb{E}_t \\left[ \\min \\left( r_t(\\theta_i) \\cdot \\hat{A}_t, \\text{clip}(r_t(\\theta_i), 1 - \\epsilon, 1 + \\epsilon) \\cdot \\hat{A}_t \\right) \\right] $$\n",
        "\n",
        "Where:\n",
        "- $ r_t(\\theta_i) $ is the probability ratio\n",
        "- $ \\hat{A}_t $ is the advantage estimate\n",
        "- $ \\epsilon $ is the clipping parameter\n",
        "\n",
        "**Comparison with SARL:**\n",
        "In SARL, trust region optimization is applied to a single agent. In MATRO, it is extended to multi-agent settings, ensuring stable updates.\n",
        "\n",
        "### 🧠📊 4.4. Multi-Agent Proximal Policy Optimization with Centralized Critic (MAPPO-CC)\n",
        "\n",
        "MAPPO-CC is an extension of MAPPO that uses a centralized critic for improved performance. The critic for agent $ i $ is:\n",
        "\n",
        "$$ Q_i(s_t, a_t) = \\mathbb{E}_{a_{-i}} \\left[ r_t + \\gamma V_i(s_{t+1}) \\right] $$\n",
        "\n",
        "Where:\n",
        "- $ a_{-i} $: Actions of all agents except $ i $\n",
        "- $ V_i(s_{t+1}) $: Value function for agent $ i $ at time $ t+1 $\n",
        "\n",
        "**Comparison with SARL:**\n",
        "In SARL, a single critic is used for the agent's actions. In MAPPO-CC, a centralized critic allows for coordinated evaluation and learning across all agents during training, leading to more efficient updates.\n"
      ],
      "metadata": {
        "id": "gfPhfsNPqAID"
      }
    },
    {
      "cell_type": "markdown",
      "source": [
        "##  **1. Independent Learning Approaches**"
      ],
      "metadata": {
        "id": "COyU1j2RXkGY"
      }
    },
    {
      "cell_type": "markdown",
      "source": [
        "**Independent Learning Approaches** treat each agent as an autonomous learner, applying SARL techniques without explicit coordination. These approaches assume that other agents' policies are fixed, leading each agent to independently optimize its own policy.\n",
        "\n",
        "\n",
        "*   Decentralized Learning: Each agent learns its policy without sharing information or coordinating with other agents.\n",
        "\n",
        "\n",
        "*   Potential for Suboptimal Outcomes: Without coordination, agents may converge to suboptimal policies, especially in competitive or complex environments.\n",
        "\n",
        "\n",
        "\n",
        "\n",
        "### 🧠 1. Independent Q-Learning (IQL)\n",
        "\n",
        "**Description:**\n",
        "In IQL, each agent independently learns its own Q-function, assuming other agents' policies remain static. The Q-value update rule for agent $i$  is:\n",
        "\n",
        "$$\n",
        "Q_i(s_t, a_t) \\leftarrow Q_i(s_t, a_t) + \\alpha \\left[ r_t + \\gamma \\max_{a'} Q_i(s_{t+1}, a') - Q_i(s_t, a_t) \\right]\n",
        "$$\n",
        "\n",
        "Where:\n",
        "- $s_t$: State at time $t$\n",
        "- $a_t$: Action taken at time $t$\n",
        "- $r_t$: Reward received at time $t$\n",
        "- $\\gamma$: Discount factor\n",
        "- $\\alpha$: Learning rate\n",
        "\n",
        "**Comparison with SARL:**\n",
        "In SARL, the Q-value update is similar but considers the environment's response to the agent's action in isolation. In contrast, IQL updates Q-values independently for each agent, disregarding the actions and potential learning dynamics of other agents. This independence can lead to non-stationary environments from an individual agent's perspective, potentially impacting convergence and stability.\n",
        "\n",
        "---\n",
        "\n",
        "### 🧠💻 2. Independent Deep Q-Networks (IDQN)\n",
        "\n",
        "**Description:**\n",
        "IDQN extends IQL by employing deep neural networks to approximate Q-functions. The update rule mirrors that of IQL, but the Q-function is represented by a neural network \\(Q_i(s, a; \\theta_i)\\), where \\(\\theta_i\\) denotes the network parameters.\n",
        "\n",
        "**Comparison with SARL:**\n",
        "In SARL, a single Q-network is trained to approximate the Q-function for the agent. In IDQN, each agent maintains its own Q-network, leading to decentralized learning. This decentralization introduces challenges such as increased computational complexity and the need for each agent to effectively manage its learning process without centralized oversight.\n",
        "\n",
        "---\n",
        "\n",
        "### 🧠🎭 3. Independent Actor-Critic (IAC)\n",
        "\n",
        "**Description:**\n",
        "In IAC, each agent maintains its own policy \\(\\pi_i\\) and value function \\(V_i\\), updating them independently. The policy is updated using the policy gradient theorem:\n",
        "\n",
        "$$\n",
        "\\nabla_{\\theta_i} J(\\theta_i) = \\mathbb{E}_{\\tau} \\left[ \\nabla_{\\theta_i} \\log \\pi_i(a_t | s_t; \\theta_i) \\cdot \\delta_t \\right]\n",
        "$$\n",
        "\n",
        "Where:\n",
        "- $\\delta_t = r_t + \\gamma V_i(s_{t+1}) - V_i(s_t)$\n",
        "\n",
        "**Comparison with SARL:**\n",
        "In SARL, a single policy and value function are updated based on the environment's response. In IAC, each agent updates its own policy and value function independently, which can lead to challenges in environments requiring coordination, as agents may converge to suboptimal policies without considering the actions of others.\n",
        "\n",
        "---\n",
        "\n",
        "### 🧠📈 4. Independent Proximal Policy Optimization (IPPO)\n",
        "\n",
        "**Description:**\n",
        "IPPO involves each agent independently applying Proximal Policy Optimization (PPO) to update its policy. The objective function for agent \\(i\\) is:\n",
        "\n",
        "$$\n",
        "L^{\\text{CLIP}}_i(\\theta_i) = \\mathbb{E}_t \\left[ \\min \\left( r_t(\\theta_i) \\cdot \\hat{A}_t, \\text{clip}(r_t(\\theta_i), 1 - \\epsilon, 1 + \\epsilon) \\cdot \\hat{A}_t \\right) \\right]\n",
        "$$\n",
        "\n",
        "Where:\n",
        "- $r_t(\\theta_i) = \\frac{\\pi_i(a_t | s_t; \\theta_i)}{\\pi_i(a_t | s_t; \\theta_{i,\\text{old}})}$\n",
        "- $\\hat{A}_t$: Estimated advantage at time $t$\n",
        "- $\\epsilon$: Clipping parameter\n",
        "\n",
        "**Comparison with SARL:**\n",
        "In SARL, PPO is applied to a single agent. In IPPO, each agent applies PPO independently, leading to decentralized policy updates. This independence can result in non-stationary environments from each agent's perspective, as the policies of other agents evolve concurrently, potentially complicating the learning process.\n",
        "\n"
      ],
      "metadata": {
        "id": "prtXyrbUPK9v"
      }
    },
    {
      "cell_type": "markdown",
      "source": [
        "# Example: Implementing MAPPO for pistonball using PettingZoo Gym"
      ],
      "metadata": {
        "id": "1EKJPcKqGSAL"
      }
    },
    {
      "cell_type": "markdown",
      "source": [
        "In this example below, we showcase the use of an MA-PPO algorithm that is trained to play the Atari game, Pistonball.\n",
        "\n",
        "This is a simple physics based cooperative game where the goal is to move the ball to the left wall of the game border by activating the vertically moving pistons.We can see here this game falls into the cooperative setting, and can alternate between whether the agents act sequentially, know as the Agent Environment Cycle mode or they take decisions in parallel.\n",
        "\n",
        "The agents are rewarded for moving the ball to the left, and incentivized to to it quickly through the use of a time penalty.This is an IPPO implementation, where each agent is treated independently with shared policy weights but no explicit coordination or centralized critic.\n",
        "\n",
        "The hyperparameters that can be played with are the clipping co-efficient, the number of episodes, and the discount rate.\n",
        "\n",
        "This code has been slightly modified from the [documentation](https://pettingzoo.farama.org/tutorials/cleanrl/implementing_PPO/) to enable you to experiment with the hyperparameters in real time. Credit to author [Jet](https://github.com/jjshoots) for the initial implementation.\n",
        "\n",
        "\n"
      ],
      "metadata": {
        "id": "R9jYdLab-D6e"
      }
    },
    {
      "cell_type": "code",
      "source": [
        "import sys\n",
        "sys.path.append(\"/content/INF8250AE-MARL-NOTEBOOK/PettingZoo_PistonBall\")  # Update with the path to your subfolder\n",
        "from INF8250AE_MARL_NOTEBOOK.PettingZoo_PistonBall.pistonball_mappo import train_policy, render_policy\n"
      ],
      "metadata": {
        "id": "xKtIOEkaN46V"
      },
      "execution_count": 39,
      "outputs": []
    },
    {
      "cell_type": "code",
      "source": [
        "#Use this cell to check if notebook is set to use cpu or gpu.\n",
        "#You can get faster results from the GPU\n",
        "print(\"GPU available:\", torch.cuda.is_available())\n",
        "device = torch.device(\"cuda\" if torch.cuda.is_available() else \"cpu\")\n",
        "print(\"Using device:\", device)"
      ],
      "metadata": {
        "id": "ifcGnGT29ix4",
        "outputId": "32bab117-70c0-446d-95de-25175568749c",
        "colab": {
          "base_uri": "https://localhost:8080/"
        }
      },
      "execution_count": 38,
      "outputs": [
        {
          "output_type": "stream",
          "name": "stdout",
          "text": [
            "GPU available: False\n",
            "Using device: cpu\n"
          ]
        }
      ]
    },
    {
      "cell_type": "code",
      "source": [
        "#Select Hyperparamters\n",
        "num_episodes = 10\n",
        "discount_rate = 0.99\n",
        "clipping_coef = 0.1"
      ],
      "metadata": {
        "id": "PXKsk1h2IXZH"
      },
      "execution_count": 35,
      "outputs": []
    },
    {
      "cell_type": "code",
      "source": [
        "trained_agent, device = train_policy(num_episodes, discount_rate, clipping_coef)"
      ],
      "metadata": {
        "id": "kp9byEEWMzA7"
      },
      "execution_count": null,
      "outputs": []
    },
    {
      "cell_type": "code",
      "source": [
        "#Produce a gif of the output\n",
        "render_policy(trained_agent, num_episodes, device)"
      ],
      "metadata": {
        "id": "DQlGEdIKMywq"
      },
      "execution_count": null,
      "outputs": []
    },
    {
      "cell_type": "code",
      "source": [
        "from IPython.display import Image, display\n",
        "# Display the uploaded GIF\n",
        "display(Image(filename=\"pistonball/pistonball.gif\"))"
      ],
      "metadata": {
        "id": "M7gThkAXRwsF"
      },
      "execution_count": null,
      "outputs": []
    }
  ],
  "metadata": {
    "colab": {
      "provenance": [],
      "include_colab_link": true
    },
    "kernelspec": {
      "display_name": "Python 3",
      "name": "python3"
    },
    "widgets": {
      "application/vnd.jupyter.widget-state+json": {
        "35a50442e5a143888a6566c88365415a": {
          "model_module": "@jupyter-widgets/controls",
          "model_name": "DropdownModel",
          "model_module_version": "1.5.0",
          "state": {
            "_dom_classes": [],
            "_model_module": "@jupyter-widgets/controls",
            "_model_module_version": "1.5.0",
            "_model_name": "DropdownModel",
            "_options_labels": [
              "Robotics",
              "Autonomous Vehicles",
              "Energy Systems",
              "Healthcare"
            ],
            "_view_count": null,
            "_view_module": "@jupyter-widgets/controls",
            "_view_module_version": "1.5.0",
            "_view_name": "DropdownView",
            "description": "Domain:",
            "description_tooltip": null,
            "disabled": false,
            "index": 0,
            "layout": "IPY_MODEL_ae3eed33ae0740a3b09948780727df4b",
            "style": "IPY_MODEL_80c181d91d7e4d01aa797a0ec4291fb9"
          }
        },
        "ae3eed33ae0740a3b09948780727df4b": {
          "model_module": "@jupyter-widgets/base",
          "model_name": "LayoutModel",
          "model_module_version": "1.2.0",
          "state": {
            "_model_module": "@jupyter-widgets/base",
            "_model_module_version": "1.2.0",
            "_model_name": "LayoutModel",
            "_view_count": null,
            "_view_module": "@jupyter-widgets/base",
            "_view_module_version": "1.2.0",
            "_view_name": "LayoutView",
            "align_content": null,
            "align_items": null,
            "align_self": null,
            "border": null,
            "bottom": null,
            "display": null,
            "flex": null,
            "flex_flow": null,
            "grid_area": null,
            "grid_auto_columns": null,
            "grid_auto_flow": null,
            "grid_auto_rows": null,
            "grid_column": null,
            "grid_gap": null,
            "grid_row": null,
            "grid_template_areas": null,
            "grid_template_columns": null,
            "grid_template_rows": null,
            "height": null,
            "justify_content": null,
            "justify_items": null,
            "left": null,
            "margin": null,
            "max_height": null,
            "max_width": null,
            "min_height": null,
            "min_width": null,
            "object_fit": null,
            "object_position": null,
            "order": null,
            "overflow": null,
            "overflow_x": null,
            "overflow_y": null,
            "padding": null,
            "right": null,
            "top": null,
            "visibility": null,
            "width": null
          }
        },
        "80c181d91d7e4d01aa797a0ec4291fb9": {
          "model_module": "@jupyter-widgets/controls",
          "model_name": "DescriptionStyleModel",
          "model_module_version": "1.5.0",
          "state": {
            "_model_module": "@jupyter-widgets/controls",
            "_model_module_version": "1.5.0",
            "_model_name": "DescriptionStyleModel",
            "_view_count": null,
            "_view_module": "@jupyter-widgets/base",
            "_view_module_version": "1.2.0",
            "_view_name": "StyleView",
            "description_width": ""
          }
        },
        "932024a4bce246628f0f49651f7a941c": {
          "model_module": "@jupyter-widgets/output",
          "model_name": "OutputModel",
          "model_module_version": "1.0.0",
          "state": {
            "_dom_classes": [],
            "_model_module": "@jupyter-widgets/output",
            "_model_module_version": "1.0.0",
            "_model_name": "OutputModel",
            "_view_count": null,
            "_view_module": "@jupyter-widgets/output",
            "_view_module_version": "1.0.0",
            "_view_name": "OutputView",
            "layout": "IPY_MODEL_5f6a7662e366498f9611715ff6f8430f",
            "msg_id": "",
            "outputs": []
          }
        },
        "5f6a7662e366498f9611715ff6f8430f": {
          "model_module": "@jupyter-widgets/base",
          "model_name": "LayoutModel",
          "model_module_version": "1.2.0",
          "state": {
            "_model_module": "@jupyter-widgets/base",
            "_model_module_version": "1.2.0",
            "_model_name": "LayoutModel",
            "_view_count": null,
            "_view_module": "@jupyter-widgets/base",
            "_view_module_version": "1.2.0",
            "_view_name": "LayoutView",
            "align_content": null,
            "align_items": null,
            "align_self": null,
            "border": null,
            "bottom": null,
            "display": null,
            "flex": null,
            "flex_flow": null,
            "grid_area": null,
            "grid_auto_columns": null,
            "grid_auto_flow": null,
            "grid_auto_rows": null,
            "grid_column": null,
            "grid_gap": null,
            "grid_row": null,
            "grid_template_areas": null,
            "grid_template_columns": null,
            "grid_template_rows": null,
            "height": null,
            "justify_content": null,
            "justify_items": null,
            "left": null,
            "margin": null,
            "max_height": null,
            "max_width": null,
            "min_height": null,
            "min_width": null,
            "object_fit": null,
            "object_position": null,
            "order": null,
            "overflow": null,
            "overflow_x": null,
            "overflow_y": null,
            "padding": null,
            "right": null,
            "top": null,
            "visibility": null,
            "width": null
          }
        },
        "67cdc7e208df454298b74a67a11a775e": {
          "model_module": "@jupyter-widgets/controls",
          "model_name": "VBoxModel",
          "model_module_version": "1.5.0",
          "state": {
            "_dom_classes": [
              "widget-interact"
            ],
            "_model_module": "@jupyter-widgets/controls",
            "_model_module_version": "1.5.0",
            "_model_name": "VBoxModel",
            "_view_count": null,
            "_view_module": "@jupyter-widgets/controls",
            "_view_module_version": "1.5.0",
            "_view_name": "VBoxView",
            "box_style": "",
            "children": [
              "IPY_MODEL_1d1df54415a84942a81aa41d4ad91d79",
              "IPY_MODEL_e6df3b1456c44c06a3a67acf7f646e53"
            ],
            "layout": "IPY_MODEL_f3d4e1859d8e44aa90be3fb45a9bb537"
          }
        },
        "1d1df54415a84942a81aa41d4ad91d79": {
          "model_module": "@jupyter-widgets/controls",
          "model_name": "IntSliderModel",
          "model_module_version": "1.5.0",
          "state": {
            "_dom_classes": [],
            "_model_module": "@jupyter-widgets/controls",
            "_model_module_version": "1.5.0",
            "_model_name": "IntSliderModel",
            "_view_count": null,
            "_view_module": "@jupyter-widgets/controls",
            "_view_module_version": "1.5.0",
            "_view_name": "IntSliderView",
            "continuous_update": true,
            "description": "Number of Agents:",
            "description_tooltip": null,
            "disabled": false,
            "layout": "IPY_MODEL_8f904f4ca6a34d3581dd80c8986a6909",
            "max": 4,
            "min": 2,
            "orientation": "horizontal",
            "readout": true,
            "readout_format": "d",
            "step": 1,
            "style": "IPY_MODEL_543ea5a4c1c540f5af2b188120c995ff",
            "value": 2
          }
        },
        "e6df3b1456c44c06a3a67acf7f646e53": {
          "model_module": "@jupyter-widgets/output",
          "model_name": "OutputModel",
          "model_module_version": "1.0.0",
          "state": {
            "_dom_classes": [],
            "_model_module": "@jupyter-widgets/output",
            "_model_module_version": "1.0.0",
            "_model_name": "OutputModel",
            "_view_count": null,
            "_view_module": "@jupyter-widgets/output",
            "_view_module_version": "1.0.0",
            "_view_name": "OutputView",
            "layout": "IPY_MODEL_db8ede3ed51c4a139037be7fedecb72e",
            "msg_id": "",
            "outputs": [
              {
                "output_type": "stream",
                "name": "stdout",
                "text": [
                  "Single-Agent Environment (State Space Size: 5, Action Space Size: 4)\n",
                  "Multi-Agent Environment (2 Agents) - Joint State Space Size: 25, Joint Action Space Size: 16\n"
                ]
              },
              {
                "output_type": "display_data",
                "data": {
                  "text/plain": "<Figure size 1500x600 with 2 Axes>",
                  "image/png": "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\n"
                },
                "metadata": {}
              }
            ]
          }
        },
        "f3d4e1859d8e44aa90be3fb45a9bb537": {
          "model_module": "@jupyter-widgets/base",
          "model_name": "LayoutModel",
          "model_module_version": "1.2.0",
          "state": {
            "_model_module": "@jupyter-widgets/base",
            "_model_module_version": "1.2.0",
            "_model_name": "LayoutModel",
            "_view_count": null,
            "_view_module": "@jupyter-widgets/base",
            "_view_module_version": "1.2.0",
            "_view_name": "LayoutView",
            "align_content": null,
            "align_items": null,
            "align_self": null,
            "border": null,
            "bottom": null,
            "display": null,
            "flex": null,
            "flex_flow": null,
            "grid_area": null,
            "grid_auto_columns": null,
            "grid_auto_flow": null,
            "grid_auto_rows": null,
            "grid_column": null,
            "grid_gap": null,
            "grid_row": null,
            "grid_template_areas": null,
            "grid_template_columns": null,
            "grid_template_rows": null,
            "height": null,
            "justify_content": null,
            "justify_items": null,
            "left": null,
            "margin": null,
            "max_height": null,
            "max_width": null,
            "min_height": null,
            "min_width": null,
            "object_fit": null,
            "object_position": null,
            "order": null,
            "overflow": null,
            "overflow_x": null,
            "overflow_y": null,
            "padding": null,
            "right": null,
            "top": null,
            "visibility": null,
            "width": null
          }
        },
        "8f904f4ca6a34d3581dd80c8986a6909": {
          "model_module": "@jupyter-widgets/base",
          "model_name": "LayoutModel",
          "model_module_version": "1.2.0",
          "state": {
            "_model_module": "@jupyter-widgets/base",
            "_model_module_version": "1.2.0",
            "_model_name": "LayoutModel",
            "_view_count": null,
            "_view_module": "@jupyter-widgets/base",
            "_view_module_version": "1.2.0",
            "_view_name": "LayoutView",
            "align_content": null,
            "align_items": null,
            "align_self": null,
            "border": null,
            "bottom": null,
            "display": null,
            "flex": null,
            "flex_flow": null,
            "grid_area": null,
            "grid_auto_columns": null,
            "grid_auto_flow": null,
            "grid_auto_rows": null,
            "grid_column": null,
            "grid_gap": null,
            "grid_row": null,
            "grid_template_areas": null,
            "grid_template_columns": null,
            "grid_template_rows": null,
            "height": null,
            "justify_content": null,
            "justify_items": null,
            "left": null,
            "margin": null,
            "max_height": null,
            "max_width": null,
            "min_height": null,
            "min_width": null,
            "object_fit": null,
            "object_position": null,
            "order": null,
            "overflow": null,
            "overflow_x": null,
            "overflow_y": null,
            "padding": null,
            "right": null,
            "top": null,
            "visibility": null,
            "width": null
          }
        },
        "543ea5a4c1c540f5af2b188120c995ff": {
          "model_module": "@jupyter-widgets/controls",
          "model_name": "SliderStyleModel",
          "model_module_version": "1.5.0",
          "state": {
            "_model_module": "@jupyter-widgets/controls",
            "_model_module_version": "1.5.0",
            "_model_name": "SliderStyleModel",
            "_view_count": null,
            "_view_module": "@jupyter-widgets/base",
            "_view_module_version": "1.2.0",
            "_view_name": "StyleView",
            "description_width": "initial",
            "handle_color": null
          }
        },
        "db8ede3ed51c4a139037be7fedecb72e": {
          "model_module": "@jupyter-widgets/base",
          "model_name": "LayoutModel",
          "model_module_version": "1.2.0",
          "state": {
            "_model_module": "@jupyter-widgets/base",
            "_model_module_version": "1.2.0",
            "_model_name": "LayoutModel",
            "_view_count": null,
            "_view_module": "@jupyter-widgets/base",
            "_view_module_version": "1.2.0",
            "_view_name": "LayoutView",
            "align_content": null,
            "align_items": null,
            "align_self": null,
            "border": null,
            "bottom": null,
            "display": null,
            "flex": null,
            "flex_flow": null,
            "grid_area": null,
            "grid_auto_columns": null,
            "grid_auto_flow": null,
            "grid_auto_rows": null,
            "grid_column": null,
            "grid_gap": null,
            "grid_row": null,
            "grid_template_areas": null,
            "grid_template_columns": null,
            "grid_template_rows": null,
            "height": null,
            "justify_content": null,
            "justify_items": null,
            "left": null,
            "margin": null,
            "max_height": null,
            "max_width": null,
            "min_height": null,
            "min_width": null,
            "object_fit": null,
            "object_position": null,
            "order": null,
            "overflow": null,
            "overflow_x": null,
            "overflow_y": null,
            "padding": null,
            "right": null,
            "top": null,
            "visibility": null,
            "width": null
          }
        },
        "2e4285058275462e84946f63ba32b7ad": {
          "model_module": "@jupyter-widgets/controls",
          "model_name": "VBoxModel",
          "model_module_version": "1.5.0",
          "state": {
            "_dom_classes": [
              "widget-interact"
            ],
            "_model_module": "@jupyter-widgets/controls",
            "_model_module_version": "1.5.0",
            "_model_name": "VBoxModel",
            "_view_count": null,
            "_view_module": "@jupyter-widgets/controls",
            "_view_module_version": "1.5.0",
            "_view_name": "VBoxView",
            "box_style": "",
            "children": [
              "IPY_MODEL_4796c53245ce4cc2a829d573b18cfeca",
              "IPY_MODEL_cbbca25e2bff4abebbbf9e8b7671a714"
            ],
            "layout": "IPY_MODEL_370f3f575dca41859d47fd782c2b03af"
          }
        },
        "4796c53245ce4cc2a829d573b18cfeca": {
          "model_module": "@jupyter-widgets/controls",
          "model_name": "DropdownModel",
          "model_module_version": "1.5.0",
          "state": {
            "_dom_classes": [],
            "_model_module": "@jupyter-widgets/controls",
            "_model_module_version": "1.5.0",
            "_model_name": "DropdownModel",
            "_options_labels": [
              "Competitive",
              "Cooperative",
              "Mixed"
            ],
            "_view_count": null,
            "_view_module": "@jupyter-widgets/controls",
            "_view_module_version": "1.5.0",
            "_view_name": "DropdownView",
            "description": "marl_type",
            "description_tooltip": null,
            "disabled": false,
            "index": 0,
            "layout": "IPY_MODEL_eefaf5aacd544c42b43ae6b15b048a27",
            "style": "IPY_MODEL_d9ae4ff2ebe342169addceceecd43078"
          }
        },
        "cbbca25e2bff4abebbbf9e8b7671a714": {
          "model_module": "@jupyter-widgets/output",
          "model_name": "OutputModel",
          "model_module_version": "1.0.0",
          "state": {
            "_dom_classes": [],
            "_model_module": "@jupyter-widgets/output",
            "_model_module_version": "1.0.0",
            "_model_name": "OutputModel",
            "_view_count": null,
            "_view_module": "@jupyter-widgets/output",
            "_view_module_version": "1.0.0",
            "_view_name": "OutputView",
            "layout": "IPY_MODEL_3e07bab6ac5a45d290ded1b0ebac8b00",
            "msg_id": "",
            "outputs": [
              {
                "output_type": "display_data",
                "data": {
                  "text/plain": "<IPython.core.display.Markdown object>",
                  "text/markdown": "\n            Competitive MARL\n            - Payoff Matrix: A zero-sum game where the total payoff across all players is zero.\n            - Key Characteristic: One player's gain is another player's loss.\n            - Example: Two-player games like chess, where players are directly competing.\n            "
                },
                "metadata": {}
              },
              {
                "output_type": "display_data",
                "data": {
                  "text/plain": "<Figure size 600x400 with 2 Axes>",
                  "image/png": "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\n"
                },
                "metadata": {}
              }
            ]
          }
        },
        "370f3f575dca41859d47fd782c2b03af": {
          "model_module": "@jupyter-widgets/base",
          "model_name": "LayoutModel",
          "model_module_version": "1.2.0",
          "state": {
            "_model_module": "@jupyter-widgets/base",
            "_model_module_version": "1.2.0",
            "_model_name": "LayoutModel",
            "_view_count": null,
            "_view_module": "@jupyter-widgets/base",
            "_view_module_version": "1.2.0",
            "_view_name": "LayoutView",
            "align_content": null,
            "align_items": null,
            "align_self": null,
            "border": null,
            "bottom": null,
            "display": null,
            "flex": null,
            "flex_flow": null,
            "grid_area": null,
            "grid_auto_columns": null,
            "grid_auto_flow": null,
            "grid_auto_rows": null,
            "grid_column": null,
            "grid_gap": null,
            "grid_row": null,
            "grid_template_areas": null,
            "grid_template_columns": null,
            "grid_template_rows": null,
            "height": null,
            "justify_content": null,
            "justify_items": null,
            "left": null,
            "margin": null,
            "max_height": null,
            "max_width": null,
            "min_height": null,
            "min_width": null,
            "object_fit": null,
            "object_position": null,
            "order": null,
            "overflow": null,
            "overflow_x": null,
            "overflow_y": null,
            "padding": null,
            "right": null,
            "top": null,
            "visibility": null,
            "width": null
          }
        },
        "eefaf5aacd544c42b43ae6b15b048a27": {
          "model_module": "@jupyter-widgets/base",
          "model_name": "LayoutModel",
          "model_module_version": "1.2.0",
          "state": {
            "_model_module": "@jupyter-widgets/base",
            "_model_module_version": "1.2.0",
            "_model_name": "LayoutModel",
            "_view_count": null,
            "_view_module": "@jupyter-widgets/base",
            "_view_module_version": "1.2.0",
            "_view_name": "LayoutView",
            "align_content": null,
            "align_items": null,
            "align_self": null,
            "border": null,
            "bottom": null,
            "display": null,
            "flex": null,
            "flex_flow": null,
            "grid_area": null,
            "grid_auto_columns": null,
            "grid_auto_flow": null,
            "grid_auto_rows": null,
            "grid_column": null,
            "grid_gap": null,
            "grid_row": null,
            "grid_template_areas": null,
            "grid_template_columns": null,
            "grid_template_rows": null,
            "height": null,
            "justify_content": null,
            "justify_items": null,
            "left": null,
            "margin": null,
            "max_height": null,
            "max_width": null,
            "min_height": null,
            "min_width": null,
            "object_fit": null,
            "object_position": null,
            "order": null,
            "overflow": null,
            "overflow_x": null,
            "overflow_y": null,
            "padding": null,
            "right": null,
            "top": null,
            "visibility": null,
            "width": null
          }
        },
        "d9ae4ff2ebe342169addceceecd43078": {
          "model_module": "@jupyter-widgets/controls",
          "model_name": "DescriptionStyleModel",
          "model_module_version": "1.5.0",
          "state": {
            "_model_module": "@jupyter-widgets/controls",
            "_model_module_version": "1.5.0",
            "_model_name": "DescriptionStyleModel",
            "_view_count": null,
            "_view_module": "@jupyter-widgets/base",
            "_view_module_version": "1.2.0",
            "_view_name": "StyleView",
            "description_width": ""
          }
        },
        "3e07bab6ac5a45d290ded1b0ebac8b00": {
          "model_module": "@jupyter-widgets/base",
          "model_name": "LayoutModel",
          "model_module_version": "1.2.0",
          "state": {
            "_model_module": "@jupyter-widgets/base",
            "_model_module_version": "1.2.0",
            "_model_name": "LayoutModel",
            "_view_count": null,
            "_view_module": "@jupyter-widgets/base",
            "_view_module_version": "1.2.0",
            "_view_name": "LayoutView",
            "align_content": null,
            "align_items": null,
            "align_self": null,
            "border": null,
            "bottom": null,
            "display": null,
            "flex": null,
            "flex_flow": null,
            "grid_area": null,
            "grid_auto_columns": null,
            "grid_auto_flow": null,
            "grid_auto_rows": null,
            "grid_column": null,
            "grid_gap": null,
            "grid_row": null,
            "grid_template_areas": null,
            "grid_template_columns": null,
            "grid_template_rows": null,
            "height": null,
            "justify_content": null,
            "justify_items": null,
            "left": null,
            "margin": null,
            "max_height": null,
            "max_width": null,
            "min_height": null,
            "min_width": null,
            "object_fit": null,
            "object_position": null,
            "order": null,
            "overflow": null,
            "overflow_x": null,
            "overflow_y": null,
            "padding": null,
            "right": null,
            "top": null,
            "visibility": null,
            "width": null
          }
        },
        "c82d2168108e4b5fabe34c20caf4cec5": {
          "model_module": "@jupyter-widgets/controls",
          "model_name": "VBoxModel",
          "model_module_version": "1.5.0",
          "state": {
            "_dom_classes": [
              "widget-interact"
            ],
            "_model_module": "@jupyter-widgets/controls",
            "_model_module_version": "1.5.0",
            "_model_name": "VBoxModel",
            "_view_count": null,
            "_view_module": "@jupyter-widgets/controls",
            "_view_module_version": "1.5.0",
            "_view_name": "VBoxView",
            "box_style": "",
            "children": [
              "IPY_MODEL_95bfe3c121134af08e7309cb6787d8a5",
              "IPY_MODEL_cb6b470e68954337b8d99b8f61ec3fa0",
              "IPY_MODEL_d4fc3418ad8c4549a6c3f3b0bed1de27"
            ],
            "layout": "IPY_MODEL_f694cd2845c643029822f6e3d82a1930"
          }
        },
        "95bfe3c121134af08e7309cb6787d8a5": {
          "model_module": "@jupyter-widgets/controls",
          "model_name": "IntSliderModel",
          "model_module_version": "1.5.0",
          "state": {
            "_dom_classes": [],
            "_model_module": "@jupyter-widgets/controls",
            "_model_module_version": "1.5.0",
            "_model_name": "IntSliderModel",
            "_view_count": null,
            "_view_module": "@jupyter-widgets/controls",
            "_view_module_version": "1.5.0",
            "_view_name": "IntSliderView",
            "continuous_update": true,
            "description": "N_agents",
            "description_tooltip": null,
            "disabled": false,
            "layout": "IPY_MODEL_e6fe30740b464a43b79a6dc7ffba9be2",
            "max": 10,
            "min": 2,
            "orientation": "horizontal",
            "readout": true,
            "readout_format": "d",
            "step": 1,
            "style": "IPY_MODEL_6526bc393ce64a95943903d424e4a6b5",
            "value": 2
          }
        },
        "cb6b470e68954337b8d99b8f61ec3fa0": {
          "model_module": "@jupyter-widgets/controls",
          "model_name": "IntSliderModel",
          "model_module_version": "1.5.0",
          "state": {
            "_dom_classes": [],
            "_model_module": "@jupyter-widgets/controls",
            "_model_module_version": "1.5.0",
            "_model_name": "IntSliderModel",
            "_view_count": null,
            "_view_module": "@jupyter-widgets/controls",
            "_view_module_version": "1.5.0",
            "_view_name": "IntSliderView",
            "continuous_update": true,
            "description": "steps",
            "description_tooltip": null,
            "disabled": false,
            "layout": "IPY_MODEL_41dc44b4bf754f52b1a311ece7f91587",
            "max": 500,
            "min": 100,
            "orientation": "horizontal",
            "readout": true,
            "readout_format": "d",
            "step": 10,
            "style": "IPY_MODEL_3178d510ff1e43b29e6d73f9b7d14c40",
            "value": 100
          }
        },
        "d4fc3418ad8c4549a6c3f3b0bed1de27": {
          "model_module": "@jupyter-widgets/output",
          "model_name": "OutputModel",
          "model_module_version": "1.0.0",
          "state": {
            "_dom_classes": [],
            "_model_module": "@jupyter-widgets/output",
            "_model_module_version": "1.0.0",
            "_model_name": "OutputModel",
            "_view_count": null,
            "_view_module": "@jupyter-widgets/output",
            "_view_module_version": "1.0.0",
            "_view_name": "OutputView",
            "layout": "IPY_MODEL_c622b3e362e349ae9bc99a0ac5ad36b2",
            "msg_id": "",
            "outputs": [
              {
                "output_type": "display_data",
                "data": {
                  "text/plain": "<Figure size 1000x600 with 1 Axes>",
                  "image/png": "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\n"
                },
                "metadata": {}
              },
              {
                "output_type": "display_data",
                "data": {
                  "text/plain": "<IPython.core.display.Markdown object>",
                  "text/markdown": "### **Single-Agent Animation**"
                },
                "metadata": {}
              },
              {
                "output_type": "display_data",
                "data": {
                  "image/gif": "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\n",
                  "text/plain": "<IPython.core.display.Image object>"
                },
                "metadata": {}
              },
              {
                "output_type": "display_data",
                "data": {
                  "text/plain": "<IPython.core.display.Markdown object>",
                  "text/markdown": "### **Multi-Agent Animation (N=2)**"
                },
                "metadata": {}
              },
              {
                "output_type": "display_data",
                "data": {
                  "image/gif": "R0lGODlhvAK8AoEAAP///0ZGqjIyMgAAACH/C05FVFNDQVBFMi4wAwEAAAAsAAAAALwCvAIACP8AAQgcSLCgwYMIEypcyLChw4cQI0qcSLGixYsYM2rcyLGjx48gQ4ocSbKkyZMoU6pcybKly5cwY8qcSbOmzZs4c+rcybOnz59AgwodSrSo0aNIkypdyrSp06dQo0qdSrWq1atYs2rdyrWr169gw4odS7as2bNo06pdy7at27dw48qdS7eu3bt48+rdy7ev37+AAwseTLiw4cOIEytezLix48eQI0ueTLmy5cuYM2vezLmz57kDQosO/bm06dMwQwtYzXo1adSwY8veqLq1bdcDZuvezRth7dvABbzuTby46QHBk7PObby588vIlUtn/ry69cXRpU+/zr274Ozat3v/H0/+LvjwyamXX89+7Xn06dvLn0/2PXzg6unr32/V/n38/AUoIFT+/WdbfgMmqGBQBRp44IIQRshTgw4uJ+GFGM5EYYXCZejhhyptWCGCIJZoIm0cinfiiixaJKKDJLYo44y+pahcjDTmSOOLBuKo448s8gifj0AWWaKQ6BFp5JIZIqkik1Ca6OSNUVYppY0WWqmlh1MCuOWXF3bZmpJglkmfmB2aqeaCXZK55pvr/RbecHDWGaCcwdFp55784bmcm3wGSt5oowlq6KGIJqrooow26uijkEYq6aSUVmrppZhmqummnHbq6aeghirqqKSWauqpqKaq6qqsturqq7DG/yrrrLTWauutuOaq66689urrr8AGK+ywxBZr7LHIJqvsssw26+yz0EYr7bTUVmvttdhmq+223Hbr7bfghivuuOSWa+656Kar7rrstuvuu/DGK++89NZr77345qvvvvz26++/AAcs8MAEF2zwwQgnrPDCDDfs8MMQRyzxxBRXbPHFGGes8cYcd+zxxyCHLPLIJJds8skop6zyyiy37PLLMMcs88w012zzzTjnrPPOPPfs889AB/0woaIJzaifuBl9KNIHAqp0lEzn6fTTRbZJtZloTn21jGi6trWVXWf5NZNhez32kmWLffaPaZu9to5tq/0211jepvXcbNbtJd5B6v9tN98txj0m4H37PTjhJwouN+JcGn444yAq7jbkjTs+OeVNWn435mdqzvmRhm/uItGkf75Z3KJDRGgArLfuuuuEmm5Z2qk3JNrruOeOe9GyR0Y7SLfrLvzwrPPee2Nh135Q8MQ3T7zxxyeWdUehOW/99XpGX5jVtA1w/ffYK689XFHjJ/5A3oOvvvXnj+9W+Ul3v/78zmfvfmBM2+8i/fzXf/9hpGufQKrXvwIOT3//K036DMhA4QkwgdJroAQdCMHTLHCCGIRdBT1DwAx6sHUI3KDvPkjC1z1QhHq5YAlLeEIUmmeFMAxAC11IFxXG8IMzpCH5bnjDHOqQLTbkIQn/ffhDtARRiEMsImKOiEQPElGJY2FiE50IxcFIcYpUrCJgrohFDD5Ri1vhYhe9CEa+iHGMZCxjXs6IRgl+UY1TYWMb3QhHu8hxjgx8Yx2dckc85nGPcumjHwuoR0AqRZCD5F8hDXkURCZSkYxsiyMfOb9FRnIok6Sk+ix5SaBkUpOb7KQRQclDTopyQqTs4SnL8slUfs+Uq7xJK13JvliKZZa0bB4sbUkTXObygLwEiy9/qbtdBjM1xIShMY/ZkmEmM3fLZOZKnPlME0pTK9SsJgivmZVsalOG3MSKN7UZzXCaZJzVLKc5SYLOZ6pznSJpZzLfCU/gfTOL9YyKPIlJ/898Uu+eGeynP2kD0DQOlI8FnaBAD5qRfdJyoQzFiENdCdGI7i+hBqyoRSky0VRqdKMS6SgpPwrSiIiUkiQtqeow2r+UqtQhJ32kS19qO5ZWkqZMiakfZ4rThegUjzztqUJ+isagCjUhRB2jUY+6PJuCb6lMNUhSpwjVqBZkqk2sqlUJgtVSbvWQTtXlV8Ea1mKOdSldZeFZ0VrW3a2VrW0t3ltzGletzvWqdb0rXcNqV73i1aZ99etfExpYwQ72noU1LFcJq9inpPWmjXXsY8MXWalMVqyVjeMvE5tZpD60s/25LAg5C1qforS02ExrCFFr2TmSlrWq++lqYVuVDv/28LW05ahtnTjb3IZxtxntrW+/wjz6QW+4khwN+wqFXPMEMHbNja50p0vd6lr3utjNrna3y93ueve74A2veMdL3vKa97zoTa9618ve9rr3vfCNr3znS9/62ve++M2vfvfL3/76978ADrCAB0zgAhv4wAhOsIIXzOAGO/jBEI6whCdM4Qpb+MIYzrCGN8zhDntYJs+F7ofPqdz6MXfE1APuJoWL4qGquKUsbvEAX+zGGHuYxjjErXZxvEIbWxirOp4uj4Xo4weLNsi5HXIXi4xg0boVw06G5oWjbNYJK1mmSBYslf3n4C3XssFe5vKCw/zlBJMZe2Yua5ateuZQFrj/zU99c1zlKmA4QxbAdl7fmmma5zvzt8/G9S+g/ZzfQQd6v4YmtH0TfWj8MlrR9H20ngs9ZzHXV9KQji+mJ73oSpd5vpvOtHtDzWlQexrNpj61peFLalGvt9Wl1rSqVz3qWX+61rbGLKtzrev3wtrV6P11rHHNawrKutjG3jWyq6zsZT+52c7W4LGjLW1oUxuc0742tq1N7T2vU9ivjLS2t53taHv72+M+tznBjepUm7vT3Yb3u+WNbHXXk93AvC++k03vXNs7n/t+tr6X/W+AF7vgBuc1whM+64UzXNUOf3ilI+5PdlO84qe+OMbnrPGBwrrjHs+rgUkNcoZuuuQR/5U0yi3K6JWznLFdBqjLQXrlRDIZz/Oc8mYzHOaZM7XmWfU5m087YqD3WOhrBbKMuSpbpPvV6MFduovbeVypIxXqurz50otbSa1bHX0lznrVv66REJ+Y7GhPu9rXzva2u/3tcI+73OdO97rb/e54z7ve9873vvv974APvOAHT/jCG/7wiE+84hfP+MY7/vGQj7zkJ0/5ylv+8pjPvOY3z/nOe/7zoA+96EdP+tKb/vSoT73qV8/61rv+9bCPvexnT/va2/72uM+97nfP+977/vfAD77wh0/84hv/+MhPvvKXz/zmO//50I++9KdP/epb//rYz772t8/97nv/++APv6n4x0/+8pv//OhPv/rXz/72u//98I+//OdP//rb//74z7/+98///vv//wAYgAI4gARYgAZ4gAiYgAq4gAzYgA74gBAYgRI4gRRYgRZ4gRiYgRq4gRzYgR74gSAYgiI4giRYgiZ4giiYgiq4gizYgi74gjAYgzI4gzRYgzZ4gziYgzq4gzzYgz74g0AYhEI4hERYhEZ4hEiYhEq4hEzYhE74hFAYhVKILQEBACH5BAEAAAQALBYCpgBoAHkAgf///0ZGqjIyMgAAAAj/AAkIHEiwoMGDCBMCWMiwYcOEECNKnEixIgGHGDNitMixo8eDGkOKZPixpEmEI1OqPMmyo8qXMFvKVAiz5suZOC/a3Hkz50meQFf69Bi0qNChFI0qHYlU4tKnTJuChEpVo9SCVbNmvCpQq1eHUr+KBetzrFmSOM+qBZA264C3cOPG1ToTqlyKcqG2XAqXJdylP4v2zfm3aMmgg6UW5vmR51uuBt8ydmnzMWSEkm1y3DngssQBOy3WtOw5YuaeE0eXtgg6ptOXpFfjbX2UZsrOsj3Sjmp7JO7culFP9Q3c5O6QvTXGLq77+NbhypnLdE7WoMjf0v2KhJ4Re3bjvAde//8+kzpagiG9kz9pni366Otxtn+PUX187c+7dr9P2Kr++vz5ZN5/DdkXIH5k7XdgfxvpVOCCQzlHIAAGQojgQg4yVKGF4I3HYYQefsiggiIKCF+JIzq0IYofUbciiy0CCGOKC704I0fH2Xgjjg/uKF+PPk6nYZAM6kgkXu4dqeSSTH4WQJMnBfDWk1CWJOUAAVBZJUdZTqnllhV1ieWXYE4kZpZklpkQml6mqeZBbI7p5psFxYnmnHQScGebeNK5p5x9vvnnnYGCSSifhW55KKBZ5kkQoVISwKijAx0qEKOJLgkpbphmSiSkkUoKap6gcgqqpzue+lunqMKoKkGslun56kCstlriqaHSiiuUuKpXq60Q4pqrrsIqKeywxJ5qbK+YHfupsAb+iuaNx3aZkLSNslgtsgVhm62I23Lbbbjgbvuit9MuGK61Tq574LriNgtvfPDGK++839Vr7734Aqfvvtf+C2yU/xo5rsDfNoUwu7otnC5ODjPcYsQPW0kxwHhdTChFGu9ZXscg12twuyGXfOzIJJussscCoruywMsR9nLJKDc8s8Y1T3xzxDmXhOjO68Z8mctAS5zbz0Vv2rPMSc+6HtJAC/0d1CtLHR9cMycmItYgaz0j1wt7TaRc4d71plxoi+1ZQAAh+QQBAAAEACzeAbcAoAACAYH///9GRqoyMjIAAAAI/wAJCBxIsKDBgwgTKlzIsKFCABAjSpTosKLFixgzatxIYKLHjx45ihxJsmRDkChTRjTJsqXLkypjxnxJsyZJmThz2tzJc2HOnzp7CuUJtGjQoUhZGl0qM6lTkUyjNn1KtaLUqyqrak2ItWvWrWA7eh0LMqzWlAPSql27luxUs0k9snXI1m1ZuEInqh2p1m5IvDYj7m3Z1y9EwDQBDLZZ2C5iwk/TOn5MMm2AqpLJUhY5IMDlrQPcbs5o+TPYzF5HW+zsGXDosaoZlm7t+jXW2ApZezaN2PZV3Ad1097sWypwgsKHE+96nMDs3cBRR42+u3pz57dVJ4d+vbjR2Nt5H//3/p14devXBZIHav688vTrfz4O/x6+cdfu0adHPh1/fvH7YdefWfTVF2B8b532H3cBFoTgV2EVCGCDAi4V4YIGUvhgSgpiOCGFFbIHmocgIrQhSlpJmGGJJ36UoocfsmghVSquKGNRmMEY440iRgZjibnNmFSNOwLZ4kQ+/ghkQkdS5BSRSzJZHlJEFmkkjkPqaCWPRw1VZZRS9ihUlVtymWBPZIIZZpdoalkmiE0CkKWWapooZpt01mlQnFS6+Sac8nnpp57BBTqmn382eOScbhLqIJs8kWljlIv2OaijA1Uq6KWYhgjhoYh26imKjDbaaYtPIprofqiWaqqjJyb/GSqmsaaq6qlngnorrDPRqOqq4+W66ax61iorsWpu+OKvhCqb46/Agvepr8wm2+uy1VI6LbXQgokgXJKepy2HBEI7abCklmtutK6lC+66ZiLpn7mA3jUvvYra29u651K23mjh/seqi9rxyy5m+vpr8MGREQzewgx76TBuAQus3V/NVWzxck7CB3HENRWn4ccgEyavoiSXbJJtS2qMIYErUZqyyhu9VuzMNF9kc7M45+yQnLT2zGBNuw0gqnNC62fSeUYf7ZzLyGrkXlpOI5f0xgth2HTVVl9N8tZcd+21wWCHjRzUXlNtNpNj/1r22sGhnbLacMvWNoxv152b3OvS/613Rc+17fffOgeO82KEc6TWzIgnXtLi/DbuuEtsaTnX5EOypfngmHfu+eeghy766KSXbvrpqKeu+uqst+7667DHLvvstNdu++2456777rz37vvvwAcv/PDEF2/88cgnr/zyzIeOU6aba047UHRbvhbr1HNOAKKSg5593gZxr33i32ckPvhrZ0+S+H+rzxL76f+E/kjch+0+0X6OXyf1Q9WP6f1Cgd/+5FcV/4GJf1oxIJAQuBUFNgiADczf/GLDQLw48DgVBMwFcZNBC+YvPR3U4AcxSMDYbPAxIaTMCfGSws2s0CwtVOEIKRNDF84QMDUczQurkkMbummCT+mhDv9vCBYhqmaHSDHiEH8IwxICCYk9UeIRiRhEJy4JioGx4hOpGBctlgiLifHiFplIFSkCB4wuMSNu0KgUMV6Ri0Rx4xgtV8WcALFBbLyJHN9IxqGosTl5hMoe56ijO7bRjp0KJEf+eBxFaoSRgITjSyDZSEmmcZB8pGNeMElIvPmRk1+0ZEsoeUZRHhInhgSRIzFCyjWa0iStNOErSxLLKfYxjogU1SovUsslajKKoFTlLPWYy0QOk5ioNOYtgVlMQu2SlcEM0DN5Gc39TNMivXzMNbFZzUguc5PNVNM2uRlOMI2TnMms0znRKZNUevOXTsmmWdbJzpi405Xf7GI5hZm8zyR205bwLOM/ZdhPfaazkx66Z03k+RR6PnKgIixoHQ8qzWOCk6LXcagg91lKiZ4Fogm0qEHbmVGRjtSeJfVoWBhKE42OEqT9MykPYcoTl4aRo2Gx6U0x6kGV0pCmL9FpFu2oUPz9sKiIYelFhPpJnAZQpqNRKkOYGk/5IXUjAiSUVAtC1a1A0CVZPZpSu8pCq7YkrGb7qvkkOLnyYeR83rPqHeFaOrdyVYJXbZ9ZBWK97rXueeqJ3uUwFRAAIfkEAQAABAAs7wHDAH8A9gCB////RkaqMjIyAAAACP8ACQgcSLCgwYMIEypcKBCAw4cQITKcSLGixYsYB0bcyHFjxo8gQ2LsSLLkQ5EoU4Y0ybKlypcwD7acSTOmTZQ0c9a8ybOizp87ewqVCbQoy6FIGxpdejQpT6ZQTTqNGbWq1Kk4rWrtiHXl1q8eu44ES1aiWIpl00Y8u1Ct25Nsib59G9fg3Ll1Cd69m5fA3r11//5lK1jw2cKDuyI2PHVx4caOEyONOqCy5cuXI5sVahQzRcyRh/60jNIyYs40Scc0LdlmS9VCWdO9ybKy2Mp4XZO0HRe3WtodB/QVOOA3VY68hxPwTfZ4ROHKCxZvDvM59OjSp2+tDvE69oPatb7/7P59Yfiq4x16L4/wPFSV6tezb+9+aUoA8ucrrF9U/1n+P/l3G3oiDRCAgBYBmFOBByKYYFQgGdiggxUpONNHEk5I4WdMYRjAhxs+aB9GGWoYIkMWXpXghyyeKCJQJLIIoosc9reijCbSuJ+Nn+E4o44TpcjRjTgCWaNOFfr4o5HmBdijkkwG6SSKSi4ZZUJCbmZelTleaVCWcFHJpZc7BrUll12SORCYT46pZntm7odmmm+yKSaab2J54Z145vmlS0HOaaWfywF6pqCE/qminIIO6qeFbSKa6JqLMtropJSWFKmkkyq4KaedkvTpnJgSJ2qgjcpYKn9JptoipqyO/wrqo0O26qqjatZH5K10XuneRSXymuh5MfL6Kq1aypoqoeFlFKyxyALgobGq5qndtNQeS+Z0EWZbZK7ShvQstduGK66335aqrLDqrsuukQHkVyy66Z7Iorzz0qsthfe+NC69IcqIb7767qsfjgMTXDCuyvmYsMIL91qXkg8DG3GV2HFZscUX+9hwlRtz3LHHcc0Z8q4j1+tUoyejnLLKN7nasssvkwyTsTPTXLPNIGWbs847u8lQwT8DHfTRIDv1L9JM96t001BTjNXSUe9cdLdVN3011lkjvTXXXdf89blhvzw2g2V3fHZpaUe8NtttE40d1XGzXF5ldeP89mp5y/+MIN19x0sh4HXvPRTegQtseFKEZ734VIgX/nhXjR89+X+Vp5xcrpkvvPmjkYv9Oayhez56u8SVTi1sqO93Waqete4sZrSfLvvtuOeu++689+7778AHL/zwxBevZlO1x757bZcJJKjy6jL/8PO2eyk9RtRfLtb1ImXPJPM2UU8j+D2Jv2FtK5vsIPnpo1n9cOif9Tx77MtvsvYXxd/X/PCbhL9F/AuM/8oTwO35738ZMR9W9Hcw9UGmJAhESQFFM0AHTbAnDETQBXUDQRdtMD0dpNEHsxJCHY3QKyUUoQO5k0ITrvA+FYzSCfMXQybN0Cc1lOELP5LBK92wLTn04Q7/adhCMv0QIT300hHtEkQ1LVEvTTTiECeSRCm6byxFzNMT/RJFJ05RIVX04hVxmEU/LTGMbzpjF9P4RSaWkVA/RKMW2wjFN5qRjhpZ4xzHCEQ77lFjDJHjHfmIRD0OEpBgNOQfk5ZIPx6SkQkR5CKl1sjd3G6GkmQjIeViSdlhUpGaRGQkQSlGURbSkZN0WB872bpPojKUkDwlK1F3w0wqEY9KeeUtNynL4LQSl1zUpRB5yUlf0hKYwZzlpNQoTHghM5nGLNUTbQmkLVLThcSsZDQTtUVoImeZz6yjMmFJSSKOs5SxtMg1N9TNPDaTneF04zltGE95bnOXpuQhKS1Yms9efnOY+UThPD3Yz1G+k4AF1eY/sRlQGB40Ou2k4j4zllCJPnRiFUXLRPMSUSwO9Dsd9eg9G5jNp2xULCHVJwQjeBEFGvCi5cuoQz+KUpnC56QxsykId8NSg7g0OutUSUopuFKs/HQ+QU2gTp1Sv/Ddb3wHdKr7espBnn7Ne2TiHgDvR9UFHnB6XG2d9HiTvfe1C3nJYx12AgIAIfkEAQAABAAs8AHdAH0A3ACB////RkaqMjIyAAAACP8ACQgcSLCgwYMIEyYEwLChQ4cKI0qcSLGixYoPM2rMeLGjx48gB24cSbJhyJMoT5ZcyTKly5cIWcqcCbMmypk4adrciTGnT5k8gy78SXSl0KMCiyptiXTn0qclm8KESjWqVJVVs268ClKrV41cO34d+zAsRbJoy5odmrYtgLUH3cp9C5fgXLd1Rd7FW3fvXLhQBwgeTJiwX7pcixamWPhv4pyDUQ5u+1hm5JqTyUq1LBhpZq9NV3YOKxj00ZKj4ZbOKhR1XoIDtAYdmfq1wNVQedK2jTA2VacZa/MuiFupTY0Dhkv0vbRmcOUTmRd17jA59OjNX1a3fj26dJ/aGXL/717xO87w48mXJ+qyYXr12NnfBPAefnzwN+vbv39epf79/OkEoGr4DbiWeUaBNEAABiqYk4IBMNjgRwiOBOGEDvZ30YISYuhRhVttGGGHHnYEIkciRlgihQIyNiKJK1p0IkQyvhjjh0CV9yKMNzLGlIs29rjhj9HtKOSQCRZp5JEyJrncjjwyqdCMiD25pJQBgqXklVguZ5WVXHY55ZcRcQilmF5auOWZaJapJphstpkQiEBCGaWcA9G5Zph4wvZmmXaO2OdBFdYZ6KCEagmnnYgahKChhzaaJ4p7MirpbZQuauml5ukYaJCSflfjp4JyqhakkYZ6aqWpIipdiqSq/6iqSaPGKqurtNZq66xVokpqo759aCufaMYG4bC3yhkshciWqmyvsDZ7qYnNOjutr7uiGcB/nlZ7543bpmSmt1hGyG233n6L4Yjnolstk+a+NC65PbIrb7rEDrhju7ri6+G+mOGbr3pQ8tuvwAbaafDBCMMX6MIMN9zdpxBHLDFvpFZs8cV5xarxxhyHZevH0Qq86VXDklyyya3yVK3KK7PcckrpwkytzMiiJLDNN+NMr0Q+89yzz0QTLbSwRSfN8mVmzav00yOze3TMUFf9otPCeWb11go/TBrXYG+b8dTehQ21YCl/bXbRTo/NVdtr14wv2ZrG/bLJdJcJt90U7/+NbN6A8p2y0YDP6TffaCdd+JyCd302aYe/O9G+keN9YOUnm4j50qolni2Fwm29OKCDzSxj1gVVPXpvlHMYEtMUPb26ow8TxpjtICn+dua3FeY76iGxLVXb0AmvNajXBX28tRPjPPq4Ccu8uJkTSs8T9etybpPrJWoP04JCWn7t5HOPT37N5p/v7dH0dVn+fLObhT5W8a81f1fta7t+SO7Juf9H/cPT/8Qinj4N0CLVGdTLCBhAA/6NgQVU4AMRmMBGNQtiD6kfxiY4kedIioMS8aAF03aWDF4KhApBzrRIGEIRjtBjJTThCUfWQRWuEIYtdOELKVZDHSKKhhHZzbX/cJjCjWiweBnLoQ9/mMQgCnGGXlPiEh0YxSI+EYoFk+IUqZhFJ17xg1VkyxeZ2EUvjlGCZbTiGbl4tR6S5IgbBJgb1+i/NKqRjm1SWAxdA8Y27vGNWIzXH/EoJjveEZA7DFdPWALHjvlxkaIhoyApyEhJKpKSleTixyBDRZJxUoCThGAm9XdJj/ikkVIJpSk/WchSApCVUlLlK2F5JFfi75Tp06JlcnnIXfIyJkRBJWagNZ+fAA9ApQGOYjzEHN0oRZgsYshslgJNJElzms+s5nJedZqnaHNOq8ImNb8Jm06FhirkJMCjrlKVYzalOLnaTFbceT09Vaad9BQXPMPJXM6vwM4ln/mTWdDyzw/tM0R5activBNQJ/XlLr/73XR4c5ivQKeirOkORrOjno3Kxz4efdCAQpqjBpFUoCY9KT8xpFJiluikXdqonPzSKMqMzzS/fMove6ko6AQEACH5BAEAAAQALPAB8QCDALwAgf///0ZGqjIyMgAAAAj/AAkIHEiwoMGDCBMCWMiwYcOEECNKnEixokWJDjNqzHixo8ePIBVuHElyYciTKFMSLMmypcqXMCO2nEkzpk2YNHPWvMnTo86fO3sKlQm0KMuhSA0aXeoyKVKmUEs67Rm1qtSpOK1q3YhV5davGrueBEvWoVifZRsOWMu2bduiZyumdUvRbc64GMGyRcl2Jl6IW/fG7EvyL0KrgoUSDmt4ZdS1YtdybUzg8YC/kjkafkyZwADGeJlC7uz588PQSy+TJmiaYdzUqlezbg3grNHYsg22Fns7N8TdU3v7/u3aKdDRw39/Nv4Td/KIy5/qdP688fHqFaNTnY59NffuFQNQ/3/5HXz48SlzojefMID4m+rZW3S/HmR8+fPfZ21ZH/9B9/p5NVN//hUEIIFyDVjgRQcKyBKCCxIEYIAhKRhheA2ixN+F+WVY4YMcYujhRxuGKCJ9H5YEoYkETEhhRyWyKJGLKx4EoowTufiiRTfiGJGONRbUo4/t0WgfSUGaqOOOFKlI5IxAkojkkz9GidZGSSq5ZJZTUgnRkkzmhaWXX255pUZZhggmlyOlyeGaUmbk5oVgoggjmmQWCeedcuaJUJ1hEtWnnwYByuaghEpYZ5p4JjoQoIEKqpajjxoa56SUtmjppQvNWSCkkUraaaaguolooqWmOKqjoIYqqqf4tf86p0OwyifrWJj6eSuuDNUK3q68AuArdq26OlGuZBbra6+6KkveqlQWa2yCwibrbFbD+ibttDxWS+S22Q4ELY7g8uQtueWaG25j23Kb6X+VpqpYAEoWCum60f6551AD0EtnmVYi1a+/sRIMsJ1JDWzwrx26yxeA7C1MkcMpKcywR5fh+5uLz7kH0mUUn6Swx9qGFBu9GiM0MsmdsYxxoSnrtmTLfP0Xc0ErQ4yXyx+hh7DAdYrFc89lIscvpEjpXHOVIWMctNIvQb00lE1flDPPUnuUdcUY3jzQ1fpu/d+EPdU4omIjT9yqwEmePa/Ez7npdtlwDzfnhF4LdG51sM7/bVOveX/sq9/7jbtatngLhWbgda1LeHqLd6Zx4vA1anRkMVMe05hfM9550o8fSetBiZV9eU9GFo6sbqfz1fpQmju4ekKl9/x6UqnLzqxFdE3U+1+5a9io7W4V77naPwe7O6XBq7o8q7GLPvq70XNqOPShH3sq89XzOTuq3V+0PffhNzk++cmLfz726Xc7/bsCNa/++/DL7/7z9dtv/vfot78//tTTn/b4xz7/DRCApBKgmBDYv6qtr4AOpF/+yrfA6yWQgqLa2wSzBxgCEspM0tPgBTH4KvjFi4QdZCD4FFhBEUIQVhKEYNXE5UFrsfCALvxgwFR1PNLsy3k9pAwI44WnQi8NkYg5NOIRlRdE4O0QiUl80hKR2MS4/BByRUTXDc9Uxa5cUXZdxMoXwZinMT4rimoyIxmjNcW/WVBLbXQjGj+lxs1l0T91lGMYbbKortzRPH3kzRttlUfFzZFYgbTNIH9VyKH8cTiJ/MsjV7OpziwyN5UkzSFblklN7jFHnfSOZ5Jzr0/KxJQGCmVyakPJe5kQJfJ65UdKhUqQ1E0owLoQyG4ZNVnVsmJki0m6fLQWjp2kXbczUTFnBsp2ieeXaLuaM0sJTaewZZrUlGXnpAmuZL7SLcpqizZ5Z7zi4SUgACH5BAEAAAQALPkB+gCVAMYAgf///0ZGqjIyMgAAAAj/AAkIHEiwoMGDCBMSHMCwoUOHCiNKnEixosWLGBc6DMCxo0ePDzOKHEmy5MWGH1OqTNnQpMuXMCmiXEmzJseWMXPqJDnTpk+bOHcKHXqQ4c+jSBkSXSrUqE2KSD8qZUrV5ACaJqMGGFC1K0anH3Um5eq1rMKrYZceJWu2rUCwAcz6nOrWK1qOdQnMzVv1Lt+BQP8S9StYYODCMZ0iLliT7uKRhB8DbixZJNrKByljtnh1c+aVbD1H7CzaIM3QpTOn/qwS9erXEUHDni1RNu3bplvj3k3QNu/dvjcDcP3bMEvRw4sn1K38dvDFyZsjZP44uvTpx6sTv25cqnbuCqn//wVgHTzrjtvbkk9vPvv48ubP3xS8Pn5473zJw7fPGOR79vy551Z9/C2H34AEFogdenklqKB8W9Xl4IP9+afehBT2ZqFZ+gGo4IFldZjhgvNxiOGIkzEY4oko6rVhVyK2mJuKXsUoo4Y0wsgiiiBSpd9+N77oo403phhhjUQW6WKJOu7IY45DOjmikEz96CGFVC5lpZI4HtkkkDJmSdSWXHbnZVU/gvnkmWiSySWUUUqJJZNfqjklnW0mGSSeecpZIJx92vkgoHEK+iGfgRoaIJtIuhkmo436GR+hiV7ZHqSRSgoeoivqOSinmSrKHaihWnodqaXeaWqVaa5aHKqhiv+qHKYSpikrb7TW2uqgriZ6q3O9+vprmTHZOuxrudJna7ClxQUAcsYyC+2znhl7bLVpYrusdNYKFy233WJmrbTQWUuet8uSmxdX5mZbmbnqtjVAu8aKOy5s89Jbr2TtxtuXvuHyC6+/QzEEsLn2wotZvh0+5LDB7r478GIGEwDRRA+dm/C9ggXFE8FC0euYWS3F9dJWIxemb8pMTYVXTOixnJ/IMidGl8ligQTySwd7/JLHL+/U2s4mHbxezRVdDBhTz+lq9NE+J5SxY0GrNfR7T0f7sMO7TuaVZghmLXa63bXVGNEVja22iB3ltVena4vtYmFv1xn3wZL9hLZCdz//jbRba+1tUN9GC+5SUqwSLrJnURkukOIrM474UJAvLlrjlFfO8eWY76T5t6lplWxGn2+LrFZEl971aqKnrrqmdLde7OuOCyU6rGnTTtvto1P0+rV/8e6v7rjx3ntExDsnfNGl12718iSp7jxRxh+fUPO/VW/9QdjjWj253QP3ffSaT/+88dJ+bj712qdf/qvtj/Q+/PGTXvn67NeP0fzZa799QZDD31D8RynkKU6AtiPg/wYSwFkpkFkNpJ//IHhABxLQfXdDoNAUiDvu9U2DOeMgBTNowQfKj4T94+ACGYhC76kQg2sDIcxUuEIWxjCFLyTfDV2YwxPuUHw0VFfc/2R4OBp28Ho/VJ4R45XE2RixgL5TGxFL8sQj8m1sUxxJFa14RbFlESNbrKEHvbi7Le4Mi04Mo+v8BpswclEiZDydGnUSx2a5UXBZ+2Jt3ChGOBbOjnx0HBs3w8c3XmSQmClkH6MIMD1CyIyF6lfeFLnIQ0ZuMZQ0pA4VhphManKTm+OLJyspEsu5bZSk9CHoAIfKLHJSLqj8ZE5CWZVYypKOq2SaLVM5y9Xlb5eOHJyjcrLLHiWMaMUUEOtwpsVkimc1d2nbRJx5GNpEk5oT5M01sQk9bXJzfMXZ5jcnF85xyk46cDHnaYIJE3GqE4q/cac62bkTeX6Tnk2xZzL/BjwefdoSn1RJZzH5WSB/KhKgJDOoGRHqFoEGkqF86clCIYoYiT6QoMQyiEVvF7WMfmUjelOaR222NZGWJSAAIfkEAQAABAAs6AHcAMAADQGB////RkaqMjIyAAAACP8ACQgcSLCgwYMIEw5YyLBhw4QQI0qcSLGixYsYM2Z0GKCjx48fHWocSbKkyZMoCTIEybIlS4YpY8qcSZPiSpc4c3aEWbOnz58Yb+ocqpMn0KNIfy4kyrTpwqRQo5pc2rQq06dSs2qNOMCqV6dbw4ql+rVs0QFi00LtarbtULRq49Yk67auS6xy8061y7eo3r8a2fYd3BIu4MMSBRNeHBKx44N0GUsOgPcxYsWTM1O2fFmzZ4+GOefF/FlyaNFqSZc2jTqu6tWsW4d9DTu2bKm0a9u+nTS37sWneSv9XTu4cJq+iTM2fjxmcuWEmTc/+Rx69Okzq1u/jj2l9u19pXf/v/gdfPjxe80XR0+yPHGKX8Wzh+i+tMmr8zeq7zjTb36L9UkGFE7y/afSdlK9ZKBN0IXV2IJcKRcXaBDS955cO1WokG4athZgW48B0OGBq1k2AAAijkjAh15xdiKKKrJYlWgvwtihjEyhViOKKS6I41C37WijgT/mxJuQQ+ZXJE5H8uikj5kJh2SS7C3J0nFTUjmelR81l6WW2HHJn5dOlgmml4xN9+WZWC4WpplmVklYd2vyiB6XdMIZ55aDbannnmH2deefgKLJ16CEPkmnXYgmqqiajPrp6KOGgtjopGzqWFeVmFIq5aaXYrqoWZx26umRlkpqaqY0pprnqqy2//pVqbDGamJZtNYa6KyhrjrqjL3CuiuwqtZq62Pu5WrsrzkWa2yPlTb76rPH3irtm9Seiuq1amar7bZATusttJCG2+24dvJpLpnoVuviulK2m+6dOp0rL7nDumSvvEoaieW988qpb7wAu+vhwEEWHPB8qjWpsMEHX5nww/gK3KVsdY5bYWQ6ZuztiIrRSPG3/wnm4sgklzymYx63q6JABY7VsssvI4tyoS8DUFlaC92Ms4o8xnzUzADXTFDQQs9F9L1GH+3kzkMvXXTTAsFpVE8M+Zwo1QP9eTVKWWu9NddVJ/r1Rj2LPSnZZU8q0kQOqW0q222b6tDdYcvtK90E6P/tN5x81/233oELPrjahRt++M2Jd7241o07/jjjkSs+OdOVS3751JlbvvnHnWv+ucahOz066KWbfvqyqRu0OuutF/S6rrG7PnuntSN0+9q5J7S7nr1L9HuZwU80PMS1D1/8RbPLznvwq/edbe/H09569bCXjn32nW9vvfbezx17+KLm/nH0xZcv+ufLW6R8+xFVD7/v2M9v+/b2e378/OQTv3z/PxsfAFPWvQH6L3kGDGDmEgi81DHwTw58IOBCJ0EILrCCFowcBjOYuA0SqnEeHFvgQvjBEZKwhHQ7IQrJpkIRcq2FK6QaDDnYtBnGsGY2pCEOczjBGvKwgUb7IRD/dyjEA+asiD0EGvnwhjdhEXF4b0tMQ56nxN2dLShpG+KIbnfFkuSNgPl5XRedk0XkHed0UANKFo94uTT25kRsfFzS8rc+v7kxK5SZY3PkqBcKaehwd9xKSPR4m8EREikKWtDfDonIRP7Hjo65i4HkFki1EIiRjlEbJqHiH/SIbZOc7GR3Pimat8zHZ6BMCn48ibJUqnKVoxyZK18Jy+nIUjZWmaVYbtmaXI7nYbpspC+xo7BgCnOYeyyYMY9SlmVmBWDO/ElbogmVe1HTJ2655lGsyZtsEhNd2qyJXcL5k3aRsz91OWdPwCkcvqizJuN6Z0rOk8xsyRMl9Kynse55/xLunJFa/LzPYAIaE4DeBjixhBVBR7Ib4ezzoMtJqN1w2dB/dmqhGdEMRlGyqo1eRKO/vGgvQRpSt6HmMx5NCaZSKpHSsJSjZivlal5qEkfRNCGwuWlJYmqZ9ZzSa4/5jU5PoqehCoQ4Rq2pmYyqnKQq9WmHgY5Tn4qim25nqkStah+vukWdYcg8WM3PfsIKtpXhcT+bidHFQonWtIKsJQNq64PUirB5yhUkZPUOvDJ618IYrTzw6aso3ypYn75MTIUdLGET65m8OoexKKUaYiGLV65NlrJubdplKetYmWwWsp31LGYRyrbPFja0oh3tQPlm2ruiNjuqdWfhWovW14wiJ7beTBxtwVq53VrHtj7xrVQ7J1yhlq64OU0dcmfauuU2tnbOnQxwcYNbSQYvuqstHnbzed3q+rF9keHsdF2j2vGOBrPm1ct2a0nHgYR3rOntjFzji6z1goa+7wIPfjsm1f1irLiVbK9N3hudAAuYPASepoEPPBKhmGWMDM5OQ67ykAhvhYl320pAAAAh+QQBAAAEACzYAdcA4wBBAYH///9GRqoyMjIAAAAI/wAJCBxIsKDBgwgTDljIsGHDhBAjSpxIsaLFixgzatw40WGAjyBDhnTIsaTJkyhTqjzJUKTLly4ZrpxJs6bNmwVbwtzJ86NMnECDCh0qUGfPoz1/El3KtGnFhUijSnVKtWpVqFKzWgTA1arXrysHZEW6cQDXs2DTqn0qduxOlmbPdl1Lty6Btm5dzowrd67dv06x5gV5c2FftIATC8U7OMDiw4gVS97b+ONSvocna0bJOG9TzJk3i74o2DNVw5ABjF4tsbPbr6D7sp6ds7La2HJp63Y99XbqyLpF845aF3fu4JuHk7Vr/DjyxMp7Km4O/Dnd6DwnU/drfS32t5K3q//u7n1w8t/VyV81Lxw9d/WnTbd3Px5+YPmjxde3T/Q7TNri8ceUf3oBSN9+AuJEoEjI6ZdgUAuG1OCBDyqI324UVlhThJZZpx+CGnL2mocHghhiSRw6Rt6HJ6aUonostsjSWPB9aKKMFr1YY4k4cqQjjDz2qBGH/NkoJEY/7pjhkU+NaF+MTFJEpIBGRtkRjVSWeKOVtWmVZZBcKoRlglWGedCUZGppJkJofrnkmgS1WaSacHbZW5pg1lmUlw/auCWXEWrop54DBVrhoITexSeeedZpaJ9a/mnlo4y+6eiibloKJ6WZ0peoondW6umnCx4aqaSThjpnpJ+Cupyooyb/WiqkrJKq6pOnturqUbC6p+uu0nUaq63ECevrrwQae6yuya5aK7O3kvgsssUCmeuve7664qmorjnrttNi22x3fr5HrbbPldvtpehieC22cVY74bvwFtrubOquS6h/89Jbr728Bpfvv2feex63BLMZMGv56tsqvwxz6zC0Cx/sb8IGfZefxBOLW/F0HGN8ZbAgSyzyyNmFF/LJrX1c3Most4bdX6ghHHOTKXvHcccxz+wbzDfnmDNsO/McdGkMelWzyUGXNfSARRvddKHKfdawuVMPCd5QV2Od9ZDDLda11F+zGbZNSwNdtotIq6gSQ1GTvXZHSMM1dnpzbyhYWWkX/533gAvl2FDcsv2ttEOIEw6Z4WApHi7jXzn+G+SJSe415XbFjblujW7u+eeghy766KSXbvrpqKeu+uqst+7667DHLvvstNdu++2456777rz37vvvwAcv/PDEF2/88cgnr/zyzDfv/PPQRy/99NRXb/312Gev/fbcd+/99+CHL/745Jdv/vnop6/++rN33r3m2lsut+/yh9Z8/csej7/7v+9/ce/+sxn9Aqg23BHQb7k7IOFup0DF1a6BjmsfBCP4ugnWr3UWxN/qMrg/1XFQg6j7YAdNJ0L/la6EARwdCgkouhWmEHQuZKHnYnjAGdLwhZS7YQ0hp0MF8rCHMvwbEP99KMQhBnFtRiQiEpN4xK8xsYlTe+IOnShFHGatilZsGhahGLMtZvFmXjRhFMMoxqCRsYxgPCMIzajGC2qxjfJ7IxzjmMY5Wo6NUkScHu92uX8lkSR0g1sBMQZEpfBNXXh0oSE507fJ1bGEi6SJINGTSA4G7jLUqeQELxkY42iygQMAC24+SUBOwgY0pPRfKF+Gt4RB0JTXiUsq5bdKkMlRlZoJQC27GMBdKsYns4wbLH/pE1+6En/GlIxIklkvZLImJiyrHzMT85JpYouWz6zmySxnTWrCpJutchw4/5IUkSlunOQs5zGFSZujoFNP7JxNVN4Jp6jRsy5SuWeY7Kn/m3wSkmP6XMtYAmolgAbHLQSNksQSCpa8MPRI3HroVwYj0R6dqqJVaQxGcaSljTqlMrpcJ3082hSQkvREJTopUUAa0n+iR6VDYSkwRZoamApFpi2l6WFsChSc5lSnZ+EpTnw6U5f2Rag2IWpRjRrU1Sh1qTpFak2eClWCHdWpVP2pUaWqkqyChKsV4gpYT+LVr2pxrCUpq1mP5jZvqrWqGMMLYN66TLYSBp90HYldJZSWvELzZrxpqF/rCtitlXSwf+0ZyWKKWG0W1mBdbexO0EqlMaVEsu7cq2U1gtl5arYxFOksQj8r2tLq9bGmTe1aFava1lK2sq017WthG1vR4s62SLUt7W2flFvbTi1FvfXpbnkbXMQOl7jF9etxa5TcwS6Xuc1963OhG92yThdG1VXrdbGbXapul7vdVep3VxTep46XvOXF6XnRm16Wrpe97aUo5IAb39Uajr7xfS9y6+vZzeG3vPrFLX+REmDaDvibovtvdAtMpgMjmHQK7i2DBeVg+5Yuwqqd8IkwnFoNb/jAHm5R27I7TNVx2LmzOzFdQxwlFVv3diN2LYvN5GLh9i7GmC1x7mosX+HheMUzFhePkxLkfxnFq5FM3pHVq+PmLdmhTZaeRwj8EPHtEXFUCQgAIfkEAQAABAAsvAHSAAABeQGB////RkaqMjIyAAAACP8ACQgcSLCgwYMIEw5YyLBhw4QQI0qcSLGixYsYM2rcyFGjwwAgQ4oU6bCjyZMoU6pcyfIiw5EwY8Jk2LKmzZs4c3J8KbOnT5A0dQodSrToRp4/k/4MarSp06c5FyqdSlUggKtYs16FyrWrV4NSqYpNKnCh1rNZv6pdq3PA2LcwFaKdu5Wt3bs73cKFO9Es3bl4AwuGqHevWIwD/v4dzDhwWMNK8yqm27jy18KQf6JMPBmw5c9GMWeWuZJz57OgU7cdrZml6dNaVcsuLZq1yJt+YaedzXun7Z5tdaPuTbxi7d8BiL4WDqC484jHbRddzvy59YLRWTelLvz69eyjn3L/7+6dOHjIXcfrLs/7vOHLzIezT+1+L/z4u+d/rs9XrXrY+lnG31t2/XdagI0NeFiB+MWGoGPIheRYg/k9uJaCC+JlYGcWFhghSINtyGGHl32YHGMiTkaiVxhOlSCFWK3IVYuRVZaiYjKK9+F+MMaYY2g7CthjXT8ORWNrPA5ZpJFBJtnjkkIdCRx9QxIJZU1STkmlklfalCVpqt2IY5dYRjibmGOSqdKXMbVXpZqlNRnmm3CmxOZIvaG5WJ0n3Xmbm3Ty2ZGfEgLKpaBHmWlelc0h6pGieTLq6KPIFacnZZMiBqmhT2bq0qZnSuqpRYSeuKioo/ZVqaWMNpqqRKU6/3cppq9Ct+qpgdaq0K2RoqorQrGy6uuvYPHKaafEHhQsrocmi52xoQ7r7ECECivttARUy2yz2Jb1m7W5dpvtt9siK+640pUL47kEaRvttd26K9ustLKLrnbHmmuvn/nqyy6/78IbL7lztmpvsfhuafDB7aarsMDiyivkwgw3nPDEFFfs7cU2tmqlxvdm5iTE+zr8oscgIyxyxx67mjK1HGvYsssvb7xyiDPXrDJ6gtG7p87P3nyXzz8DDXN4MrdstLIxs5jz0kwLfZ/SUEfN89QoVw0s0unNTLPWFl89o9dg7yr1dmSXrdCX4hFdr9pbi22k11/DbbV9ytFtN0VZ5v+t9959SdmW20UDDqvcpdH9seGwCu4a4W8zbtx7aypet+R8H7kZ5JFj7pLmR3HeueeIPVbV56J7RrqdptcIXW6Wr45l6z6tnXrhsrf0UWsOWS5f7lE6JLxVvqMFPF7FO3i8YL4vDxrVzsvmb/S9HUj99dhnr/323Hfv/ffghy/++OSXb/756Kev/vrst+/++/DHL//89Ndv//3456///vz37///AAygAAdIwAIa8IAITKACF8jABjrwgRCMoAQnSMEKWvCCGMygBjfIwQ568IMgDKEIR0jCEprwhChMoQpXyMIWuvCFMIyhDGdIwxra8IY4zKEOd8jDHvrwh0AMohD/h0jEIhrxiEhMohKXyMQmOvGJUIyiFKdIxSpaEYjWA+H0Jgi9CDavgcmrUAHDaDwCkhF3/DtjmtKoxhHpr40Awh8cq1O/OcaHfnbEj/zy2KD38XGL5Psjt8onyHAFspCA/B4iDQm+RZIse47MmPcimTVFUvKRzrtkJbenyS5CspOSvB4oPRm9UT5NlKbcZCZTSUrgsbKVsnvlKY8nS1iSrpaqjCUuc3nLXYayl75kJOaCyUvJEfOXxjymMA2nTGQCrpmYLBs0l7m3aQ6ScdZMJNyyec1qcnNdnvsmOIcpzj6Gs5x6PCc66UhOTQrvnbcDJiJLEjiGdNNu81yISexp/8522pEprLuUPNUI0NmJaaBh1Od0UoRQ3ynUKbBTXTITirUyqtNyD2XReHSJ0aQp76Izy2iBlsPRkLJscdj02gCclDuTgiYxrmyVSPfTUkatdDZAqWmPbiobkpSUQjxVjU9XN6SgCvVPRAVqb+LyU+EY9ahIbehpngrVQjV1qsRpk051Q9XUaHWrnekqaMAE1smI9TNkLStdzmoZLcVUMWytTO2WF9bizJWuf4lrY5CE17nodTBkKaVf7crXvmrlr4JxnWAPu1TFLvYqiMXL6bCXlcjaJUOohCxvMItKy7JlLNy73F4JxD23eLU/2isMWvGW2qgmlnKtxVNguJa94/9IlrbYy85aCJbbwj4FWtGrD1TkdL0BGcVEpuotaHGCXKsqF7Upaa5sa4vbjEj3q881GUSu69vgcve7nKVeqcB7Nu+S97xuLS5618tU6rL3vclVL3zZu73xztdF9b0vekur3/Pyt7/g/S+AuSvgAUu3e/Y18HRjq2DkIrjBzfVegiEsYQibqMIWBhWDM9y07HK4vB7+MGwfLGIQh7jEy/3ehAccvhUDWHwu1u/4YjzfGaMYuuCj8XvLp+P18vjG4c0xkPH74yF3t8VGvqv5esxdz8o3ySNx8pOhHAAp55bJEZpp+rBsGyuTGMVexrCIw6xiLo9Fy/Iz81TITD7azRcvzfdTc0zYvGU5A4XO63PzdeEMQKQ0t6AJ9HOX+axAQcMF0BTcXVLoCUJ4Do8lAQEAIfkEAQAABAAspwHSABUBoQGB////RkaqMjIyAAAACP8ACQgcSLCgwYMIEypcCKChw4cPF0qcSLGixYsYM2rcyLGjx4kQQ4oM+bGkyZMoU6pcyXGky5cOWcqcSbOmTZUwc+q8ybOnz58sdQodCrSo0aNIBw5dSjSp06dQSzKd2jSq1atYDVLdujOr169IuYrtCras2Zlj08I8y7btR7Vw17qdS1di3Lsu6+rdKxCvX5F8A7cNOaCw4cOH/zIVzNirQ8QUESsm27hyWMMeDU9+abkz0AEEQKPUvJmk59MzDQcIIJN0aQCoY6csvHq1zcKvYcvezZF2bdY8cZfmTfzigN+2fw54Xby5Qt+/jQqf7Lw6wePIk0vfbL06dOROp/v/7V4ce3bgT5crJr/b/Hmr6sezR+0+O9b4eOd3/m4/q/i4+jVW33tf4QdXgIIN2B9YBqqFIF8KgldWg2k9qFeE0Z1F4VgWzoVhhhrm1yFbH4IYIoAjmlVibXRtuFWKE55HoFsuUgVjgTLOSCOKN161IosX8tgjVD9q16KQQyZVpJFHOphkeDnqGKSTTx61JHp71bhUlVZGKeWUHHJZ1JVYZkmlmD2RWaaZYaKZppcLJnimmzWRWZmWQtF5k5qW4ZmTnrfBGaecbQLamqASClihoYciaiJjfnLGKEtqrhlYpHlNulKl+xWqqUmVWnqpWJ/O5miid5Ja6kmheoYpYKuC/3rqo5CqGutHrXbK1a24zkprrS/y2lGoTAI7lbCZ+frrqDYi25uyQPYZrLMaESsqhNNSi5G1rmarrUXWXgvmlt9mFK6ui5W7LbTRKnqsusax2y6h5MILrrzFYpuuvRWFK26T9fI7kb//7hiwwBIRnOrBCC/kr7sMN5yQwvTmKXFk+OYLsMUXJ5yxxgZz3LHDHxesYsQjH0SwyQWinLJBK7PsX1Uvk1wym5TV/FzJMsNHs84787yxpEB7LLSHIhcd9M1tRao0xjz3rGTOT08cNcg+/lk11FGfLNfWA18t9Zhagx321QyWbbbRYnul5dr3ij32bUTD3a/cc6dWt91ct/9NZKZ8x4t33rMBHrjgeCO14eEbxZzjdqYxXu3g8+4ZueSNU1653hBh3qvmWLPaueclOQ5naxGRLivog37Emm6qj8a6jB7VJlrsKvE3O6oKZVcY7qntzvPtwDcqvLzEF2/88b4mr3xrpl/9+/PBMY+o89TXGT3y2GcfqPW+e2/l9o5OL/74zJt/vpK6i43Z+j62j+/78Bco/6n016/hYdcfpv+liAmg+v5HwAIa8IAITKACF8jABjrwgRCMoAQnSMEKWvCCGMygBjfIwQ568IMgDKEIR0jCEprwhChMoQpXyMIWuvCFMIyhDGdIwxra8IY4zKEOd8jDHvrwh0AMohD/h0jEIhrxiEhMohKXyMQmOvGJUIyiFKdIxSpa8YpYzKIWt8jFLnrxi2AMoxjHSMYymvGMaEyjGtfIxja68Y1wjKMc50jHOtrxjnjMox73yMc++vGPgAykIAdJyEIa8pCITKQiF8nIRjrykZCMpCQnSclKWvKSmMykJjfJyU568pOgDKUoR0nKUsIraUZcVBDls0Pm2DA3o4MhLEfiwll+DYW2VBsJc/kzEPLSZRn8ZbM6KExvYbCYu9IgMm1VwWXOCYLOPJAEo4mkBlJTmg+8Jjatqc1nJrCb21QgOMP5zXGqUpzmPCcC0+nNArJTnQZ8JzwJKM95/q+enqInPpnp/859JjOe/vxnPwM6zIESdF/6POi7DKrQXtavoQu9J0QRqr+JUvShFnXo+WApQAHmhqF3gczAEvMXkKYlf9X6jz3FFxeU4kqlxlzfSQeYO5gCk3pjoSlNbEq1jW5Fp3t6VUwkOpXu+USosMPoUoD6mVclVChGtZJGvTcUprKvpyzVSVT/dkv4aZVEXZUpTLaaNcN51SVWddviiEoYfcVSqRAhq9dSV1GRyHVClztrXCHWEIbeFaxDZetfmxbYugJgsAYbKGIJm1SMLnZHXXysEiXrueNs0TxaxCwW3ZPF+lxxQJ9tXRQVVMUIlfZxU8RQar0kxRWN9nRPLFJsHeXEJf/V9lRNtNNklbVb3gaGcHDLFV+AuzZiDZe4ZjvXXJYFvIe1hXfPo5hZRFu8lU2Xus3tWlZQ6z3TYSVK59seVGDb3cQlRVDhpZxRaCs+8jGXJbNan3uhmxJoyfd49ZXXfa1Xu4/tF3ybO4jc/gvgAsNvvgVGL4ETzLwDMxjA9UPwg2nn4Anjt8IW3p3+JJzhAFOPwx1Grt1A3OH/kdjCJg4x6Ah44gezWMXqfTGMB1zAFgOYspWdsfQOaOP0JbDHu8Nx7IA8OyEPWcfIayCRB2fk6iJ5Vk1W3pKjFmUpP/l6E5zyx6r8YS1DK61KvjJyuLxgJJMZw2b+4P0eDGYLevk0PGfm8ZtX0+YNvjnODFwz6OoMQj3Ljc8jVI3mXBpDQVMZ0C00NLsIzUPE9I/RQ+xoAGsSEAAh+QQBAAAEACyWAd8AJgGwAYH///9GRqoyMjIAAAAI/wAJCBxIsKDBgwgTKjwIoKHDhw8XSpxIsaLFixgzatzIsaPHjwUhihwpEqTJkyhTqlzJUiXJlzAdtpxJs6bNmzgFxtzJM6fPn0CD4uRJtKjQo0iTKlVYtKnRpVCjSp3ptOrTqVizaq1otWvPrWDDbvVK9qvYs2iFll0bM63btzTZym0Lt67djnPzvrzLt+9EvYBH+h1MWGfgwxELK4aLuDHExZDFOp4sM7LlqZQzA7jMealmyp1Dq/0MWrTpm6Q1n17dMvVn1rBPuiYduzbe2apt676Im/bu3wt7pwZOnKHw18WTEzg+XDlwsgOiS58+nblg57udUqdI3fpm7LaLSv/3KJ05+No7x6Msj/s8bJjqW7Jv7t40yeg+o9OvH1ok/qD65cZfZ/4pNQByA1720H8GHlhagpY5NABWDjoGYYQAMDhVgI1dCFmGYlV4mIckniQiYCWm+NGJeql4V3QBvMVhiy7CNUAAONbFIls1yohjjjqi2GNaN/5o145lDYlWkUAeKaSSWzHZpJN5QRnlj0b2hWRXVmYlZZZaztUlhViCydeWVY0p1ZdmnimXmlCx2aaba8G5lJxThlmnnUjhmaeeZPF5lJ9/AsqloACWqehiaJqFaE6EFmpomo/mp+iijAZaKU6RSjppU5tyeumlkDW6V6g3derpi4eiSpOqq7L/SqmrM8EaY6lW0frqqKTiOquuKtkaK5VXARssr6NGZupjxq4k7K2ZgtpsSs8OGyRR0x6LbLK+OpotSNVCq9iyDX273ra8dkuXuSaFKy5h5LLbLrrpqnuqvOTRW++4O+ELrr7c8ruuvxy5O+enzBLckcHWutWowvkCHPBgaEIcscS9UnyvxRsxfDCxJXFcMMb7IvydyB2TXLKsCaOskcdYahyyyy+rvPK1idFcs80T41yuzinz3LOMOQO9s9CY2li00RnBnDTRlTF9NNJl4iz1yFQPHZaDV2OddcZdm+b0zWFfNjbZUwUwYdlef631Uj+uzXbQbr+NVNxzL1z3tlCV/yl33k3vzXdSiv4NOEZn6yvUpYYfflHiAPvEa+OOVwQ5xjShS3nl3AlOckr6bs75RJfz7BHGoo8uUelUU8Rz6qovxLrnbsMeu0Kz04607bfjrvvvKvPee0K5A4/68G0brzzjyOu9/PNYCt888dBXr/b0zltvvPTYU6/979x37/33gocv/vjkf23++QgV//z67B/k/vbxtzu/5xrWv2L6NsOvv+z8O97/tBVAzQ2QJTAq4Kjyd0BqKbBwDaxJAhXIwAgikIIWhNT9Fui/DBZsg3HroAfJM0HdxWeEgyqh+iqIwj6pMHgsbGGcphO66chQRtTJYQxvyMMe+vCHQAyiEP+HSMQiGvGISEyiEpfIxCY68YlQjKIUp0jFKlrxiljMoha3yMUuevGLYAyjGMdIxjKa8YxoTKMa18jGNrrxjXCMoxznSMc62vGOeMyjHvfIxz768Y+ADKQgB0nIQhrykIhMpCIXychGOvKRkIykJCdJyUpa8pKYzKQmN8nJTnryk6AMpShHScpSmvKUqEylKlfJyla68pWwjKUsZ0nLWtrylrjMpS53ycte+vKXwAymMIdJzGIa85jITKYyl8nMZjrzmdCMpjSnSc1qWvOa2MymNrfJzW5685vgDKc4x0lON2KLj3ua45PYOJk07geMvYGnebjonZNdsZ5LkyI+Wwb/xX2SJIr+3NgSAwqTJhJ0YEY86DmLqNBiBbGh0hIiRB3qw4lGtKIWvegNM/qrFnI0Vxv9qFNCKtKRorCkrcogSkGq0pV29IAuZWkEHaNDHfpmpoDZDumqYyEL5uWEL5sRjRooF6CuSKg8wqlXjEotpHrFp13ZobPIhVD9RVWEC6PqP4laFayCS1MwbYpUNZhSq4qVQjI1K0/GKhSnFjSs6QmRRuNHFK+miqLsW6vDFqrW+9g1P6aC60j+CqCq5vU+fqnY/+CT2Lf2FSKE7ZNAD1ugwiBpgIO1188eCyJlzax+ldUsZhfEmRONtiGR9VI+z0fazojotKnVSoVGG9so/20WtJ0V223pWluwHAizvbXtAG8Um+ACjbiwMa7OkMsa5bqsSI2ELiOZtEgpVTdmivxSItm03acVUk6IBO8hxftdtPnRT4YkVHnNy8dIEbJToXkX9uDbGflOT1WcadjoYGWZjyGPv5Hx7/BsBRnsnk9Yiqka+55FGO/O93N9AZv4GBxhBz8Yc3ex239tBhdk1c9gbhncgoWGFnTpj2FiodeJW5eVyH04a1iR2P/G1jcMv/hrSlHZjPe2OA7vmMc5EZpzn6u7zFFtyChzH+hqd8D7nW5vSCay9VwHvgiCEINWfuD7Mnhl/kXZaF3+3pfBrOUqozDM1Ruz1NC8PDWvuW3MUO4hm4Hn5q7NmXZ1Dtud4yzEPauPiH7OWp7nFmghH/GFcOagEgsNsEHvN9GTeyKjkeXo2yH6gWw9NKQrfV9GZ5qJgeb0guf86SheGnyibvKpa1fqLEqnfK324qt3F+sxUqeGTLVjTXOYk4AAACH5BAEAAAQALIsB+gAxAasBgf///0ZGqjIyMgAAAAj/AAkIHEiwoMGDCBMqJACgocOHDxdKnEixosWLGDNq3Mixo8ePFiGKHCkSpMmTKFOqXMmyJUKSMGM6dEmzps2bOHMalMmzp86fQIMKFdqzqNGhSJMqXRrSqNOiTKNKnfrzqdWjVLNq3drxqlefXMOKHUvwq1mwZNOqXXq2rcy1cOPmdEv3rdy7eE/W3Qszr9+/GPkKHgm4sOGDgxNDPMwYsOLHixtLhgu58szJmMVa3gwgs2etnC1/Hh019GbSqIea5py69dzVrF3Lbgnb9OzbKWuHxs37o27bvYMH/g1cuHGJxIsfX74zuXLmzJ3Dhk5d+mrq0a1fx25c+3buvb1P/wfPW/x38rPNP0efWv159qjdr4f/efCA+/jz5/dOvz1d/RTp51x/pLWFn0f4/UbgaF8diFKC7y3Y2FUOtgRhbBJK9tR9Ot2HYYaMGcVhUB5WBqKGPQ2g1AAmnhiiTCOuyKJiLh7Gk4pTzZhYjYXFFGOOOvLFo2Mk4chVkHUN+VeRZCHplpJ+jWTkWE6eBWVeEP3YZJVeXYnXQ1PCxaVVXt7lUJhxjelUmXKd6ZeaWLG5VkNoygUnWnKmBUCdd91pV56ALuRnX4FSGUBjgxJWqFgDHMpYoiUtemQAlCJ6laSTUuroo2RiqlWjmkoGaUOeZgVqqKI+VWqOmqKaapyrLv91aquTJRprVLPSWitUt8raqq6v8tTrir/+itmdwxJbrKuW/pmsULkau6uzz/4UbbHHxlTtUNdKG6yi2wLVLbDNkhSuuMsumy245+Y0rrflRtauu+mq++1l8+L0LrbTRpSvvvWm2y+p/wIcsL2c4luwTfsifFiQCxt8ML8PKxyxSw3Xa+nFN2UsMKccMzxxwCFL6LHGhQXAZ8kPjnwwYJSuzLJJJ5Ocl6Yyz/xRzSjjhbPOFro8sc8/A70Szy+vVWzORm+EdNJkLct00xk9DXVY6U5N9UVWX61VvVpvXVHXQ2d1cNhiT0R22VJNjHbaEq3NdlIjvw23oELnDa9QLtv/fXdCcrvMt9B+/31Q4ELrpLfKhu+8+OMUswQ5440jOPnllaKEeeGVF4T45R5hXnTnHH0ueuYSnb406Zar7vrrfbPeOuy0194q57ILZLrtvI+eu0a791477r8TELzwsBP/+/HIu6788s1Hr/fz0EtvvdvFO3799qtnPzv34FOfPfPgY+89SOSXn/X5NKtvvfjsp+++7+xrP7/t8Ndv/P2856+//OXzn/72xz/nDfBoBTydAA+ouwReboEMJKADHwfBCAIQeRWMoPEuOLwMarCBEzzbBzsWQrCNUGIlpN8JaXKfFKrMgys8XAlhGEOEtLCAWqphh/hHQx0KioNZ66EP/+MGRJwJcYgBumHvKoREIAWPiU3cCn5EB8UoUik/fcuPFf+iny5WcYtgDKMYx0jGMprxjGhMoxrXyMY2uvGNcIyjHOdIxzra8Y54zKMe98jHPvrxj4AMpCAHSchCGvKQiEykIhfJyEY68pGQjKQkJ0nJSlrykpjMpCY3yclOevKToAylKEdJylKa8pSoTKUqV8nKVrrylbCMpSxnScta2vKWuMylLnfJy1768pfADKYwh0nMYhrzmMhMpjKXycxmOvOZ0IymNKdJzWpa85rYzKY2t8nNbnrzm+AMpzjHSc5ymvOc6EynOtfJzna6853wjKc850nPetrznvjMpz73yf/PfvrznwANqEAHStCCVpNXp2xLKAWzyRZNMkKKVNAipZNI7RhSPYOUDyDl4689clReePxopO4oUnbJsaTaOilKU/rGlQqrpS5lKRtj+tI10hRPZ7wpQs2oU1iR0Sle9KJ4cgojLaptPwP6KUy+yLUSSVSMUsohgpwK0SZmSaoPouqHogimI26wqjqkk1cJolXIbJFOK9qNFccKuFF9xZJu7ZIPW2iquKpKh6eSollrmNcjPYav5PoUjU6oRNQdya7UYmC01IJYQmnwWmtprEkPCFnGCumxDkuLZEE6wG7ZKUmK7ZmY6BJa0Y5WoZS12WdR+z/V9om18fPaat/aWtf/vtYstbXtbeV6vowVBrH18y1ggNtbwf2Wt+Mz7nCRW72RVaxTyVXucqFbvJM9967VzVvC1hRd6U6Xu9lN3HV9yjqkbXensjPveHFa3sWdl72de1q8aprex803sfGF3HvxWzmr7Vem7bXvevlrOLL911y5M/CAHRtg/S4YwfUFnWFslWDMPXiy/bXwhMmbYQ1/l8AFFt2G4dthD7+JxCWWMBdR3DjEfRjCzRXxiQFcYdWtmMYRtnFe1BTc1+GFxz123Y9xHOPT7XaksYXdbDlbXNqlCcNNVrJlkdzZ2kUWylGWcpOonFrbUYnLXfZyWCC2QvmN2WIjNLNgCQZY5JmKrM1tdnMlgciUTTWxiEqJ2RaLaGfF6XnP3POzCpHI58CqRGpjLPTePmLCRPMvdCIko6Jli5C8sfVuk47epTHtQiqmMdPC23SIO704UbeY1JZ+I6hfZ+r8otp8qn51wFpd3lVPDqtutHWp86hrwu2x17DWY2EniOs7AvtXtH7ssYvNx14nO4bDvh6zAxltDD77ztVO3rQTOUVtX9uM3X7gtimpnywyNZRB7SJXAgIAIfkEAQAABAAsiwEeASIBhwGB////RkaqMjIyAAAACP8ACQgcSLCgwYMIEwJYyLBhw4QQI0qcSLGixYsYM2rcyLGjx4MOQ4oM+bGkyZMoU6pcyVLgyJcwGbacSbOmzZs2Y+rcibOnz59Ae+4cSjSo0aNIk0YkyrSo0qdQo85sStWp1KtYs1asypWn1q9gtXYd6zWs2bNByaqNibat26lr48J8S7duR7l4X9rdy1di3r8i+woeTACwYYeEE789zBix4sdfG0uWCbly1MmYAVjenDTzZM6ggXrGHLp0ztGkTatWidrz6tclW4+GTXujbNe1c2+9jVu3b4S8Uf8eXjD4bOLEjQtH7lt5a+a6gw+YTr16dcDQa7e2TtG63OywPVP/90hdLfjVmMejLN/1vOnG6luyb+q+9OHpPqfTr8/ZMP6g+lnFH2SADaDUAAIOqFhe/x2IoE4KEoiXgVc9yFaEicnVYIUWjoRhhmtRCFaHJH0oWFwihkWiYybuFaJbK1LWol1kbYhWgCzOSNdYKdK1oo40ctVjXSQCuWNXQ/pYopFoIUlYkUw2WVWSe3UYpZRNUcmXhVeeRZWWfT3YpVlfWibmmGBlyRmCaKZJFJhtxgncm3LWSRGdoQUAp50/DbUnYQHoySdUfpoW6J+DnhYTooMFKmiiSO3EqGCOTgopS4uq5uihlx6VqaGbWtopSp+Wtumjo/b5kqh8nYpqqjjB/8TqXq7OCutdI9lKl6uv3qqoQ7ruymuwvl6U62q89losXMBqmiyxy+7WELRtJctptDSFRC1a1iqLLWvTOmvttt8qFC6o45bL7ELkhtWtt+qexFC7YL17bbzgAkDvV/bCi+9H7KL77r7/FqavwN0SXPDBefbrb8EKOnwvxC1K/DDFGw0QAGcWX4xxRhpvXFnHHn98UciWkaxwwSGLrBjJJZtcUcsuNwrzyv/SXHOrMMcs80Q671xXzxP/3JHOlPaMM8uu8qy00SYFHaiwRPsMdURST11t1UVfrVHWWpvFdaVefwS20FiN3XXZINurldpks310v2nDvbbcJzsMld1x4//N0dmnKsV3335/3bFRg4da+NyH95S44ov/TTRNj9caueRcp1T5s5djPrZHm6fbecaPUxR6v0sbDfjprHM+uuetx25v6lCvLnvrtF9t++2b564778AT/jrjwcvue9m7Fz/28cgrj/vwKSXv/M3QqyT99BIz7/f12A9cvXzdq6394tyHb/n34Jv/NPozTae+xTayz1L5049fPf3F2/89/rzrj7777wuV/+THv9ANUH4CAWD44odAoxTQbgdsYEEUGDwGSjApFIydBS/4FOqwLj4cHFEGxbfBEH7Fg1wDoQmJVB2HcWeFj7GODFUIwxra8IY4zKEOd8jDHvrwh0AMohD/h0jEIhrxiEhMohKXyMQmOvGJUIyiFKdIxSpa8YpYzKIWt8jFLnrxi2AMoxjHSMYymvGMaEyjGtfIxja68Y1wjKMc50jHOtrxjnjMox73yMc++vGPgAykIAdJyEIa8pCITKQiF8nIRjrykZCMpCQnSclKWvKSmMykJjfJyU568pOgDKUoR0nKUprylKhMpSpXycpWuvKVsIylLGdJy1ra8pa4zKUud8nLXvryl8AMpjCHScxiGvOYyEymMpfJzGY685nQjKY0p0nNalrzmtjs3AxnaDAIzdE6ervOUNiIQrohZD7eJGM53dYdHKWzi+t8V8bceaEsjtBaUYuRh6x4/89kWU+fgZli8tqXICb2k1c1oedcmjhQnAB0SUg8aNPy89AcEbGhACooEDHqQI32kKNHqehDNgpSpChULx+VWFZEKqMcljQqLF3IDl8KlZhqxqUqHZFHOUjTCu20gT3Fik1hGNSV/vR/OW3LUENYVK0sVYJNPeFRXxdVp05Vm0m1y1ORqjfBbPV+Wa3SVbcX1i2NVW5VPctXR5fWG53Va21V61t/19XErDVycXXrOKla1sHctXB5letesVpXyPwVrX190lxNFli9loV8ibXrYinWWKVOFmKVdew7yVrYyhwWrpFV7GA5a07QfFZ1oZXsaBHbWTNdFl+Ztexq2RZbzf/WE2+1FexjWVvaNb02Xrk1y2l/FlwV/VZdxdXpbJvXWs8et1zJlepyQdtcwz73W9G16nSp21vnbpe77NzMcFFbXdXuFrep9ep1oZveMK2XveVV73eZ213FjLd27dXqe5Gb37fcl6719et++Rtfsc6Xt+EV7Xkvl10MDhi4/bXtQqHX4I4emLQJdu+FMSxP+S6YrwWWMErZV+Ge/BeyIZbuh8GaYu2umMUBFu6DiRvhDs6Yxi2G6Y1xHGOjbnh/Nbbwi6Ea5J+cmMRFduiOaZvkmxyZgE2myZMRKNHA1XTKRM6xlJdM2B4r+cc3LHF3uDy8Km/KyFgOc5RBRmYSi3k9ICfd5xPfnOYfmtlR/2yzCe8cNvLUuYjx7NY8/5zEQOOznYR2oqH9ec44B1SN4KSbOIecxm3KsJu37UlAAAAh+QQBAAAEACyTAToBCwFrAYH///9GRqoyMjIAAAAI/wAJCBxIsKDBgwgTAljIsGHDhBAjSpxIsaLFixgzatzIsSNChyBDgvRIsqTJkyhTqtQosqVLhitjypxJs6bJlzhz2tzJs6fPkzmDCv1JtKjRokKTDj3KtKlTj0qjLn1KtapVglKz6rzKtStRrWC3eh1LVmXYsy/Lql27Ea3btGzjyv34tq7IuXjn2t0bMq/fsnwDO/xL2Krgw4MLKzaKuDHMxZB5Op4MILJlmpQdX95sNrNmzqChep4cunTG0TkHqF7NmrVY07AhohbZmmLrlrFz0529cLXH1SN1CxfIG4BvlMAfD489+7jM5MuZe1btc0B02NOtG9V+/fL0pgG4d/+HTJk6+PDix/8tXzWA+/Tq8To2T9X9e/jx187vav99fr2I4fdUf/79x1aAYxFYoIFkHUafVwqix+BYggl4VYQLTmgYXxZeiGF4Gm7IYVwfdhjiT4GZ6CGGKp6404hyfZihi1/t1SJXMoJII1J23Yhjjj7uiJKNfuWoo5A99fiXkUciaVNdQf5oZJROtgVlYUxSWeVpb2m5IpBbztTlYkzOGCZQbnn5JZhndnaWmmuy2Saab0JWpplzdoQWnHHKmadoYfFp1Z14/slloJER2qShVoIl6KCKPvpnnYlGyqieiFZKqKR5Zqrpppc2mhWn9Sm6aKgWOWqZqYWiKpFWpA7/yOqprr466mWz0lqrbLeuOmusYcKK66+7XtSrnbkCG2xUyjKVa6vFGiRVs0c9q2u0BzHr67PUOqntp8RiO9G3yHIrLkVKdfuTtdCeO1C64IbrLq9CqesTu9fO+2695VprL5JJ/bsTvvnqS1xQAtdEcMEG86vYwgkLifDDEBs8Lk4Rx7RwuxYTMPGSFXds60sZp7QxwyJ7THKRJ5cM8Mp5nYxyyjDPJfPMNLvkskc371ylzjH2nLKxtJF4M85Dq1z0Wkf7vGxITl90NNJJHwxS1BRNzXHV2V6doNZYt+k1f1pTzTVWDYWNUNlbn71bb5CyrfakcJfKttluS1u3s3e3/533q2H3bd/coVZmlOCD/23yvYj7rbht/dHUOIGE7zqAgiZPTvnjKl0eIc+aK1h5tJ7nmHXoMo5OOuplq45t6ay3zDlNsMeOr+vu1m57srPbpPvurOI+7+/A3ym8vqoVH+nxFhOvvOi9b/e8n9H/5PzzzFed/PSDZ3/29ax7n/f2wD9YfVXgCy7+7ORrbv75XbXf9/vwj7Wa3PTXr9b9Leevv1z845b//ueX1pSpNgQ0TWsW6JwEOvCBEIygBCdIwQpa8IIYzKAGN8jBDnrwgyAMoQhHSMISmvCEKEyhClfIwha68IUwjKEMZ0jDGtrwhjjMoQ53yMMe+vCHQAyiEP+HSMQiGvGISEyiEpfIxCY68YlQjKIUp0jFKlrxiljMoha3yMUuevGLYAyjGMdIxjKa8YxoTKMa18jGNrrxjXCMoxznSMc62vGOeMyjHvfIxz768Y+ADKQgB0nIQhrykIhMpCIXychGOvKRkIykJCdJyUpa8pKYzKQmN8nJTnryk6AMpShHScrzMZCB6HqNEA2YJdagDSw+DCDvlIYWHMqSXQJJjltkeEtrIUSXtWSh/Hw5EdXUJYXDfBZGjPkWE6aPUBwZwDFFmMxc/UaazfzgM+90EmzukoPVnFVKmPlNDG6zTM+ZpgXPySTaqXOC7DSS7975wHCyiifkDKYD42n/OuvRs378lNF2/mnKjQ00m/oL6IeY4k19FnRhTmnoWeCnUAxRRaJhqV5FP4c+go7PoB1F6OM2irmrYBSWIwUpV06qlZRCNH4eHRpJCUQWlmbloy+taUybp1L77RR5PdWpSFM208itxaZS0V5Qy4LUqCStqPYB4E/FBVX3SHWoBqtqAPDSVKUQdan7m2qxtMpVsdaKrHnpalI6htayYvVcbZ2LWqcyPLDGZa5Byapd2YJXVVJ1r0c166Xi6tZy5g6wYX3rWBEbWMWelbGJNezrIMtUwf6JsGm1bJ4wW1iHTjanf+krTuoK2gJqdk6cletp25Taq0p2daXNrGNd1dq7/672TLXl623DlNvGvnaxse3sRElLMMKIFi7ExZdxd4tbynrluC7Ra3BtO9vHTle31bVucWX7279et7LZ1a5yuevZ5OJSteG1nHND2l24rveizL3se5sCXdzIdL4Mja98v7tS/e53u5EtL1vxW5T63oVrvY2ofxmVYPoumMEExueDBxvhmhi4L4prMFEuHJwMVzid6RWZhnfC4cSw78Odm7B6+duTEj/koQA+iouVA+PxHrS9J2YxiHGc4xhXR8XmJeaPQzzSEV8TyAPWMUlmvJB1olgiTDack5WskShr0J6mGqeVwfnkgWzZg1hW1JGJDM8Kf3mEYYbmRfI53BOmmS2bxTwzMt+MzoMAs80v7KUyCXDnjN5Qz5aiJZ51yMopuXJfKCXiKReYytESJSAAIfkEAQAABAAsqAFNAdoAWAGB////RkaqMjIyAAAACP8ACQgcSLCgwYMIEypEOKChw4cPF0qcSLGixYsYM2rcqBCAx48gPxJ4GKCkyZMnIXJcybKly5cwCYScCdIhAZQ4c6K0GbOnz59AKdIcyvOgzqMpGwZdyrQpx6E0i0pESlWq06tYm0KNOmAjVaRKs4od+3LrzLAsv+pES7atW4lmz/ZUm7Pr27t4B8atadcn3Z198wrGurcm0787ByvWWhgA26WITT5eTJllY4+BnUaWXLnzysuO224OkNmzabiXS2cdrfq0a4KpW6/ePPn1adCyx44mbds2bsqse9/+DTxybuF4iRc3jryy8srBmw9+3jm69LvUPVu/ThZ0aNu0ubv/zW56u/ir5E+bP7/U+/HqzNk7Te96vfye9F/bv+/S/fnw/PmUH3gABljWgAQi9p6BFiGYoIIMtuTffQVGuNGE8lVoYUYO9rbfhqilZqCGIArVoYfxldigiCOSqGJCGAbo4osHxcjfjDQWdCJyH+Yo0448puijQTbKKOSQsAEpHI4+FnnjkUgKpOSSTL7opJEQRqnXlFRmqeWPLG5YpYpXPumllmVSCOWQaWa4ZpNconhmlG2yN2aJdf73Zo55incniH1y9+eGgV43qIWFSndohN59Z+GecIbJ4KKIxlkfpHxaqh6mNCba5V8Lkunpg2qFaqWm8M35JZiNmfopXa7i/znqpqCuWiOqi1Eqq6Ruqmpro7HSCqutCM0KHad04iqYrqIqixeyaDr7FrOnSiuar8QmyWtz1HZqbF7Q/vrttNhmS6S1V3XL5rhkhWsusK9+FWy27GKlbrToAuWuuVvmO1e5/C4Er3YAByxwvT/ta7CO/qal8ML9bvtswRAfjNu8+oKKccURSyzWwxzf2jBFIIcsssdNlWzyya1u7JXGK8fUqKOHURyzRsC6TDLMN/80s84KqdyziRf/CyvQQ0/0M9I38Zz0fDlvrDHTT180s2O1ITR11dgtLdvWXE/ntVKlRhR2Z1d7NBJEbFN9NmF7vS333HTXbffdeOet99589//t99+ABy744IQXbvjhiCeu+OKMN+7445BHLvnklFdu+eWYZ6755px37vnnoIcu+uikl2766ainrvrqrLfu+uuwxy777LTXbvvtuOeu++689+7778AHL/zwxBdv/PHIJ6/88sw37/zz0Ecv/fTUV2/99dhnr/323Hfv/ffghy/++OSXb/756Kev/vrst+/++/DHL//89Ndv//34568/Q22zDTxER7PK7Byym6S4zXIELOBaska6BCpQXgz0XEMeyJoDGm6CFCxgBBGYwQxa8G8Y7CAFN/i4AYjwhLxBoAlReEISIm6FLGThB+cGwxjKEHI1tOENGRdCHdrQhX3LoQ//dTjDmwlxiEQ83BGRGMMimmyJTMzJztZCOChGMQAOS4ngrIhEo6XQb1zUYc0AF0YUZmUAattbGUVIFjSm8W5rzOBb3AgAvMXxgXeh4xvldscCCkaPdeQjExUDyECGrY+boUwhDfk0REamM4vkmiP/4plFMtKIPjyNJS/5RBu+ZpOc5NgkqWIbUIZyYaMkZSm3ErNUHkU4plyZK6UIy7iEbJY4kY4pT5ktXJ7kOrvkpa18aRJgxg2VZuROMJHJRvEEU5hRIiYWnVkYgxGTPc+E5pB8KZ9sapNG1+xmY8zFzft4s5cd5M85iYXLAHnzmyVqpzpBw045zvMy9cSjO70z/0wKGuid8NzQLP/Jz1W5kkEADWiEDkrQgmqJoft0aDQVuNCZfSmVFW2UQf3YUI1elKMR9ehDQXpPkU50NBm16EhRitC0bTSRHVXpSh8ZU5MiyZEtdelLEVNTm94UpiW9Wj9pGlSZfpSnRTXqTOkSUp3ulKlJ9elJoSrOtIkkn1TFplWvitWvmHOrXB1qVpUJVoWqKI5aLas1x9qchEJlrWo5j1uHwkxVGrOse+RXGe+K14rtVZd4zWvAwgjYwJp1m16tpWFladdPGlawELNib+ZqllY21jSUfSsmX+mazGrWiEvUpGc/27PQQvKxIJEkLRWJ2tSqNpeLGS0rz9bDaZX+UbazfVsO/9jakNSth3nEbW5/W0y3CLeydlxhG4873OTa1ikN6S1NyOhEgThEunT9G2aAaJHrYje7gOML0Lz7XfAG7ixmkwhEyotcwm2lf2xjbzUNJ9/yIq6+0lUcflHbuP2q9XH+tarkAqxUABMYn5Y7sC0zp2DSMrjBYeUchA8buQOfbr+s+67sHou7rQJvvmMJCAAh+QQBAAAEACy6AU0BswBLAYH///9GRqoyMjIAAAAI/wAJCBxIsKDBgwgTAljIsGHDhBAjSpxIsaLFixgzGnTIsSNHjSBDihxJ8qLHkygZllzJsqXLjSljxnxJs6ZNiDJz6rzJs+dKnUB3+hxKdGLQo0KLKl2KtKnMpVB9Op36NKpVl1SzprzKdaTWr1u7irUItuzJsWgjml3bMa3bgmzjOnzrVq7duXS73u04oK/fv3+P5r26dyFgioBzDo561+9Iv2EXF5XruCVkj5KJsq1s8zLezDfX9lXa9yPommZHRy398PTLsgPEDmjtmiVY1bJnL6z982vst7oB8CapFTfw2cNFFgeNPHnG5aebOydL9ff06zinGq9tHbtCp915B/8IEN47Qe3Yx5c3TwD9dfXsYSJdLx5+fIHg2Y8nf7/9/Pj78RfffwAGSN9wTR3onIHsEXhfgAJid5SC00EYoXMO9gchhZlN2B9BFnK4WFAiVhjidCR+COKJGOpUooks8paiiitumBxQL75n4YWn4UhjQTvyCJqPPw4UZI5juVhkjTH2mBOSMDY55JNLGnmkjDJBGaWUklFZpUBB2udkTFouGGaZjJH5pZVnupblmmCGKeRgb8Ip55x51bnmnWhCpeaefNaWUp/D3SlmhygRWl+gY3qkaG2G4knXoHASEOmjmp2EKWiRSjqppnZeKiiogBq66VCkVtmpp5/yVaqpWLr/+uWqp6Iq65KrstqqQ7XmlWuvPTk6K603cgSsW7nqumtDx6L1K4rGFplss8FG++O011mrYrLKjsgsjdx2Syev22LrHbkackvtZAytu1S44nb5bYHmNtguvfXaC4C7Q8Eb75j88uRvwEztm97ANBp2MLwEF9ywS/7+i6CZET9cqUgRH1rkAAG4lrHGG3ec2ccSY8exyHSRXLLJ+6WsssWyBeisyiubd/J4YtFcs80WWqUzyBffLHNRPwN9MQFCQyhw0UYfjfSdEDO9H8yLJR3kSFLb6DREVhtKUdZtbs012GRPLbZEfZUt9XZnJ9S12hW3bdHbcKsr90V0190p1Sbn/633kXzz/Pfedz/m999sF67R4XAH/mPag0/t+JKQ65244iz5VTZnmPOk+c+cd07U5xVfLnpRgO391+l0AeZ66KzHLvvstNdu++2456777rz37vvvwAcv/PDEF2/88cgnr/zyzDfv/PPQRy/99NRXb/312Gev/fbcd+/99+CHL/745Jdv/vnop6/++uy37/778Mcv//z012///fjnr//+/Pfv//8ADKAAB0jAAhrwgAhMoAIXyMAGOvCBEIygBCdIwQpa8IIYzKAGN8jBDnrwgyAMoQgxqBjzZeV7a8neXqRnndd55ivKWx3KuBYYrRSPdDOcG2uoAjwc5nBxO2wK7/98iLPMBVEwt6uc0mpyRKDUTolLvEkTk3I6uqHOKVW0ImmCE5TO5c0qXHTi3aAYxdWEkYpO++JYzljCNMrJLWysStCgBkekBM1veZliZKp0OMnEESVf6mNm/ngWytFxkHZ8nNeig0QVCdI1hMTMhx7JnUayh3HOiaRp4kNJ3mhyk97p5HA++ZnrYNJkXQzlIlGZyumcMpStTM4rbRZLT0bqPqRUiSw71Z9cCmeXq+RkLZnDy0mKkTvF7OUxIXlLRw6zask0Jhr9GE1lThOawZTmNVtXTW3KkZrNfNwysZlNb85kkKvi4zbh2E1nrhMtjPuhO9s4mHgGcpzcDOfG8Mn/znbO85z1TOc96ZlPfe6ToMARqDoR2k+DipOhaYmnPP+5x4KWk0a5BKdDMfrOmPnTnIAk50UpGtKAKvSgADXpR3EJ0YjmaqApzeNLFxpTma70kh1d40wfWlOb3hSW3xTpSIUZVJX+1JRFFeohQSrJ6OyUqW1h5lNZ2lONbhSoVVXqG6EKSqdOlZZZtepQM9lSsY51lEn16kmxWlJgrtWVaZXqV2UZVrke1Y9xRWayWNlWlu2VrBVV5VyZk1e3vpWwgRXcYOtZV1NyC5KNdexjEVvIkP0Vr4md5GQZm1lHhiuPkcXlZ+vY1zVJtIyyKS2cTju01FZ2a2S8a2cIWTjWW7ZsNao9m21ve8XXKm63RRzKH2UXW9mGRI+/nB1wg/uS4SZxucwliR6HSDLpRtV3xd0s3sJ4Q+juaCKxoc3xiFi0gST3eeTNGOyml95fmc56qbvU6sznQtdJJiAAIfkEAQAABAAsvwFcAZ8APwGB////RkaqMjIyAAAACP8ACQgcSLCgwYMIEx4EwLChQ4cKI0qcSLGixYsYKT7cyHFjxo8gQ4ocObCjyZMNSapcyfIjypcwW8qcKROmzZs0c+q0eLMnzp1Agwr0SfSn0KMtiyqNibSpyKVQmTqdWjGqVZRUsyq8yhWr1q9Du4rtCFZr0QFo06pVOxZiWac311JcO/btUZtpR6YVa3fny7wt917tS/MkYJ2CoRKuyRGtU7SKF69sPEArZKWSSTZ+O2Bp5pAbHdu9TPRzxtCZOxc1fdGh6NSqe7Ku2rDybAKxjd5G6Hq3wNw2ffNmaFs48JfCDRIvnpy01OTEkx88flI6AQDMrQ+kThY6du0GuXf/9/0dfHjds8ubPx98vXvxD3cPCOA+IfyU9dffx296fn77z0k2H33/IbQfa/4VaGCAfQ2oIIBeLTYggQ9OFyFhDla44IWcBeChhhCaJKGHFIJY0H0YkliiiQTBlyKJLFooYoMwxsjejGVNuKKNv1XXYY08tuhjjioGeeKQX+m4Y5Di/QikkT2Ol6SKS/LYJFhKVmmllFllCeWRHBFJ5ZdChokllVrayJ2YRZIZpUdTounmdmZahmaaatbZ5Z14sngcm2PO+eeZd86JG5xxyikoonYWumh8hDpKJnBOKjoppJFa+iWlgGpqZG6j8fnhpfxl6imTbnV6ap4MvcjnpqlW/7qqn7GqGiiqrbr66qelyiopq6mJOiqrAAQrbJ/5qfZZlr+C2BmCxyKrX67LRisteM9Ca62hoUbrbLG3Mdsst1SJO657AWSn7bb/pductU+a56G6s5k7q3TuSmfvvb7Nq92+/JpGIr2+AXxrv/6aZ/DBs6lIsHHwttnwwMlGLLFkVD6sr8UX94WmxhtzHO9Xd4Js3cLnTlWyhiinLBSfJissMsNBiRqzzDMHTFK0N+Ocs84Ywduzfi2zG1LEr1n5s7cTzTx0gUUvLXXCbkY9dc5PV4jW1VyXnLWzXYedL7ktWi22w18rfbbTZEe09dpCpz2p2Usn3fZEacGNttx35/8t9mF36/V23XYHvtJacQNu+E5rNa744pBHLvnklFdu+eWYZ6755px37vnnoIcu+uikl2766ainrvrqrLfu+uuwxy777LTXbvvtuOeu++689+7778AHL/zwxBdv/PHIJ6/88sw37/zz0Ecv/fTUV2/99dhnr/323Hfv/ffghy/++OSXb/756Kev/vrst+/++/DHL//8lLc3u1Wtt2V6cY4nhlnngEEWXf5nOb9dKzzOkY3kDHhAhfgPPeRiYAPnkkDkkG1wHZNJBTkEJQyOLCcbxFEHd4WU/WBKTczqkgl7BTaXHWWF1GKZuDgDwxa6cCowBBfUSIghBVbshknyocL/zIWgFb5HWPKx38mQWDAlvouH4YJguER1Min2h4n6cuK6gNgfLRoLilVkkICwiC0v6gpoURRjt8CoMDPa6oNlVKOpaPYeN+6JjP8x4YioqDU7PuZY37Kgr+iYLDn+EY8P0uMb4ZhHQ5YQkCZSZKLYmEhHBmVfxEJSuSBJK0FuEpGB5OAjQckySyKGkzGS5CFJWUpRCgVgvHLlJVGZSRGOko+4kiXjaJlKU2qQabHU5CuBmUtbDpOXvdQlCIm5JWXSBJYd9OQLmVlLPU0TmZ0U5iyxGUlpHpOVoTTmNsHZSm0CBZrBFOc5jdZMda6Tmtnk0jW5WU55zhOX1WRUU9CZ9c8T7pOd8bTmP+FZT4HekpxQc+YuCaogFE0Sn+E06EDp2UhzThSh07LoRSFaSY0elKMNVeg3MfovkY4UpIX06EZRWkd33pGiJVXpKmGaRZc2iqFhtOcgudhEmz6Upc2R6U8paRyhDpWnXfTpTtGYGqMukpD1cupToZpUiW6Rpg1S6hexyhmpnhGoWdXqFeGFIK+OMWJV9ad+LNZUq2ILZRhaE8vYmiOx/ouultFpIjnWJb1qrWWPoU7V+PpKv6ayaIwT7AVnNhPF9s1sKkng5DyIV4w4B3MSFBnewqLDzWV2aiXZH2VF9rjTIc5acqFd/xr3mYAAACH5BAEAAAQALLoBaAGYAEYBgf///0ZGqjIyMgAAAAj/AAkIHEiwoMGDCBMWBMCwoUOHCiNKnEixosWLGA8+3MhxY8aPIEOK/NixpMmGI1OqXHnxpMuXLGPKVPmyps2ZOHNKtMnzps6fOnsK9Qm0KM2hSF0aXQoyqVOYTKNOfEr1pNSrGqtqNYm169avJbtKBUuWo9ilZdM+PPtTrdu1bGW+nYsy7kq6eAHYPZr37d6RffH+bRpY8OCWhfMerpg48OKpjRU/VhjZ8eSslfteNpjZ8maBageIHk2adOLPBMCWplha8mWto0eOnruZauyYs9W+RnpbZ26wk3kPkCqa7GOhosUW33qc5/C4A5gfdv7c7nKq02tWHxwd++CXySdf/0f63eX2y92T/jWPemD6oetNnkf9vude+fPbj+dpt2T+9u7BF1dH/wEYoH0DclSggQTUBxVbCjIYkYNWQbjRghIKRCFXZ12Y4UQbdmRhQxh+eOCDXjlUookNEpUiQyuy2CKKWJEoY0UhQtQhjDeyRuNVPPboY4ViARCjkBoS6dWRSOaoF5IM5ghllBx2NUAAU1oU4llXZoljWMoFgKWXEm3IpZhjkjmhWWGKqWaZbFqJ5ptreiTnnHQq5GCbeOZ5UH1nopmmnwUBeqeghCL0Hp+IJlpoXYc26uiJgQo66KTpVWrppAdquimnSXoqKafRiToqqIxaeimqWF2p6ql+Bv/AJE6uvurmpLKyVautq74p5qwz7coroWgCK5OwthL7q668fuprscw2CyuUlhqLm7TTIllttNjemqWq1rKErLTfggtdt9l++Gq416Lbp4y2siuuu++yGK919NabIa/yrjQuuuo226+/+aY7mbQDE1ywvpdhm7BK/7rbXrcPQ7yws4uhW7HFFxsslrsbpxRxwX/lG7LIHatql8mPjbzwxwWfjHLKyUbVscwz01yzTjTjnLPOw8YEdK7oDY3tSEYTXXTSAE/EtKA+K/z01EBHPS/VWF9s9dVZdw1ylF6HjXCGLouN9dbBmq02tB+WvbbRaOfk9ts99zg33QvHDdTdeH//3WTfTOtdFN+AC+ylaIXfLHhUhCeu9JuNA754pI7zi2nkZodHauXmstog5lRr7nmDlU+OHuhVm/4Z4muLPnpCo3nd2+ussZ707LRjFHvPruceUmkak+a7b6UV3/vwyCev/PLMN+/889BHL/301Fdv/fXYZ6/99tx37/334Icv/vjkl2/++einr/767Lfv/vvwxy///PTXb//9+Oev//789+///wAMoAAHSMACGvCACEygAhfIwAY68IEQjKAEJ0jBClrwejVBn3e8Z5zs0WZ6hXleZZbXGYYgr4SQGh0K7cSqFcZpUi6sEqFiqCQ60VApebrhj6CkQ/5kqYcIQhIQ/4XCwyH6sEdGJOKNqmI843nmQ0lZDYhM88EMDQV3GflNWqBoEyzKZj/SYZB2jocbMG6wPeBZnBmdYqCTkNEoaxQQatxonTDuhkCq+5OTXNScCC1mjzuMz4XyWCZA1rA8DyHkl9jYRxUZyJBgyo4jqaSexahIkR+J4yETFCQWQRIugsSkyOR4n07K6JMp5KQoIUZKC63SX0rszyvFFUQIzRI3tSzSLWl5xPN98lx+giQw8yTMMyWqmK3yVjAzeCdHGfJQmArk4BgGOWn+ZFekwiFxPHY4bTKOm1na41WEBSonjRNjx9zk3tBJKHN+k53tlCEcVVZOeU4TnsuM5Dxfhf8qM72Tntl84T4BGk2B3pOgzhTRP/FJTIUuZWT9ZOFDmxVRUE40aAHVEVNcVk+NbpRcGTXhNika0ictdGfpTOVFSZpQlQ4UoykV6UhBGlPKoTSfJp0pTfOZKpg2NKc63SmdSmWqm5KJqEXlZ0PPJbH0Ec5Xonyqmh6XVKMKiapVtSq8sNrTblFrWX+J3FXBGtaX9YhtZTWrvdCaVrUyaFt/TJmEOncY1PXqYHStK80mlle96qxh91raXjMWWMH+dS9jW53RVmY4/SQNZo11LNOkojGwTQ0o9NplmbImk5i1LWxI05qJ7Eoyp+lMszjiHNzsptrT/q21on0tbD0LJdJQJg61v7Mt3d7I2tlGFnK+LSwxgwvXY+o2dLj1jW+Tu7fjpi53zk0ZcxkXXZNNd5zVddh1lWO7s/FWebu73XefF17FbVc/pAmeF8PXxOINJiAAIfkEAQAABAAstQGCAZUAOgGB////RkaqMjIyAAAACP8ACQgcSLCgwYMIExYEwLChQ4cKI0qcSLGixYsYCT7cyHFjxo8gQ4q82HCAyZMoUXZ8OLKly5cUAQg8STHlSoYwc+oUKZPAgJEnb/bcSbRowp85g640ynQn0qZKOTadKtJkAKoDTXbEyrXmgABXu84csFWsWYJfw56dWXYtV6tq3fokK1UuVLB2DdL1mNdp2r5690IE/DJtXMJZ6yIOaXjxQcGDHV/8K/lx28oR4WJGqJXvZs5g8X62zHK03tCHTScurXpm6NakWZtuDDt25M+0a9tuONpwat2rb0v2DVwh5KHDXxc/qngx8eXMZRN+Dj268L65q3Nunpe69u3S5Xr//w7++trx5PV6Fo86vcTj3du7N77+rO/f89GGF4s+f0H4bvXnX3C8nYcafgOyZR5WAiao4IJTNegggPwd6CB9EDIl4YUUviXfheUV6OGHIO5WIYkl/refhhamaGJXG4LYYYQoukggTgy2aKN6Gep0344vUvUjkCr2mJSORD6Io5BIJgnZiMolqSRyd9UI5JM5WrkjlkxqaSOXNHrpIphVRiklmSyKmSKaRt2H4JpGHtnklXHKaSaddcI0pJMrtjnnl30W5eaZeep54JscFmqomgmyGSaj/glm4J8yKmqnaIBauiik7kka4KFbanopovM5CuWdE4o6KqnpeWrXoJWK//gqqLEuGR+lrapKlJusLreXY7BGqqufuELnqnOH9grbr5gFS96xyRVbG7TRStsas70lqx22s2nrq6yqOTvtsJNy6hy55Vp7rq268apsd+wWB5e6r9LVqbeVcftssu++BW6r/K7LobvY2VsiweLFO3DAZnXmJL/9AqXwl+5iyhSVUs4FscUuRUxxxRxnFNZTGb8378YUKUdyyRadtPHLodHEMlAowQxWSjPvmtLOJuXs889ABy300EQXbfTRSCet9NJMN+3001BHLfXUVFdt9dVYZ6311lx37fXXYIct9thkl2322WinrfbabLft9ttwxy333HTXbffdeOet99589//t99+ABy744IQXbvjhiCeu+OKMN+7445BHLvnklFdu+eWYZz60UP9azTnnVH8ueudHj256oD6frjp3qa/uen0lvy4760TObjvqF96uO+7+7e476QP+Ljzw7g1vPMbzHX98gsorn5/sPPPcPPLFqY7zRDYN/53pMjPWme/afd59Yd/bXp1Q4+t83OrL3dQzjOufDtxK79sX/+i10Y/d7LBxVH939wOdavw3nNeZZiP/c04AbzKah6wsX+zbjAOvFUHJTHBZFVxMSR44mwXCri8lqY4HeScWhnCwXabToAm/M0J0wWSFz0ohYQBwwm+JboY1NBb+vtZCsPXQhzdkT63/GCjERAnQQHA64onGpEQYhaxRTcySx2y4lIahKlVEdOITjVhFKOGpi1L84mUeNUURZrFLW+Qi7YiVRiyOMU1XPBgYy9RGN35QUPTKz/2kGEc5rtEptCJS/PhYRzu6EHuBFOMh35PIUP1xVYWEIglbgjBB3hGQ+FIk9TDZyEwtMjMMs+QkgQIxPn0SlKF0JPF8VEpRrhKSfbSjFlPJxFfCMpJ6PCUqW+nJE/GylpvEI8pUacVhJjGYbKQlF+0Ds1qmS5mSfCY0hcWeZiZqVtZMFTaz6TWQmStq3oyl1cIpzuIEIIe+5OZ3zokYcpazNTdrp82+iZmYIWueZURMPO+Jyc/q2BNY+HynY1CDzk8FFJeEOVBBDXpQeBIUNwdFqFwUmq2ISlQsyVrorSwqmYxey6ICpQq/NAoYd/7SLRAjaUlBSs+cbEyl02FpS0fyMpjKU6YzvYjNbMpPnIa0IvjkaU99mlOCRFSoQyVqJxEiU6QCy6RKjWoCWRjVqta0UVbNKkUnpFWtOvVaUO3qS786LbHilKzAOZlZ5znVL601qDNT61sVitZWhZWobY2rXLOavqG5zKp9Rdpfm5pXpqWErSjhWvR2RpiAAAAh+QQBAAAEACy1AYQBjgA4AYH///9GRqoyMjIAAAAI/wAJCBxIsKDBgwgTAljIsGHDhBAjSpxIsaLFiwYdatwIoOCAjyBBYhxJsqTJjBw5hhxQMIDLly9XnpxJs2ZKlR8nwtzpUmTNn0Ah3tzo8yLPnUWDKqU51GHSkkdhPl1KlWLThjmDRpXKsqrXiFcXZqW6NWbXr2gFhhWbtmzMtGjXjm3rdi7cn2sBnL1LwG1PvnjD2gXsdzDgi3IPH/QbYK/iiokfG2TsWLLCyJZbFs4sVHBlzgILf86MGfTizabVXh2dui/l1KVba65rOrbs2WVZ37V9G/dW3XEF95b4+rHw4REZN1bMG7nvqMCXNnf+/Gj0oMepJy+edrp2gty/ev//Dh61+NXkKSq/bnJ8+oHhpaN/rzM+UPf0Q5tXmj3/9v33zefff7Tx19+ACdnHlIAIQrSegU2xN+CDATLYYIIAznTghQhRaJOFHJ6WYUn4caggSRuGKGKBGoKo4mQnYpTii+WNONKMNOpnI2I45ugai+256CN8MUIm5JA/AonikUN6SCKTPjq5ZIRIdlikVVDmKOWNWdK4pYxdvvglj1RWCeOORpZpZo1Kcqnmmjq2CeabcI5pUY9RXonlUBKaaOedYfqJJqB0VvknoXzCGWduHxaK5KGIptQngsot12iia0IaqaR16knmTZPmV2moYAXqn6afgmomqqmqZCirm7r/2qSnbmKa56BB2uolrK3KuiuuJ5n63ajnOUoprcEaeyqvT+p6LLItKpses8k6Kyq11ao6IbbZanstsFQJaxqxkombGbmWmfsYuqRJmxq77boLGrfhynsuvfVaOy68rUVIqlej/rubvXDxO5y6WuELGMI0VWopff4qFjCCDGPksMD98olxRROrWDGB4EKssVIXb0xdxDM53JjJ6WlMqspTKUqAy/UFzHKINLNps8xTalSddSHxjNZKRMcs9NFIJ6300kw37fTTUEct9dRUV2311VhnrfXWXHft9ddghy322GSXbfbZaKet9tpst+3223DHLffcdNdt991456333nz3/+3334AHLvjghBdu+OGIJ6744ow37vjjkEcu+eSUV2755ZhnrvnmnHfu+eeghy766KSXbvrpqKcuedFFp73SekGDDZLKQN+85uy012WY07jnvvPTH/ku/MpMBz/88bvffrx6IYdovMopQ2e7cwPQTrJ1Zj7PGFo8Jd9g9codhlSO4PtlmVQvll/Wvg8jqP1WrZnl/va9vZWf+vAjZ/97+PNEXvvf6d9O3gNA6rlFVNOrigBhMiHtLNAlcXug8zrSmwcGAG4WjGD+0kdB00jQRwPoYGY+OKQQgoaEIBThY1BYQhUeZoFwCqEL78JCJJlwhVGRmQxx6D8dMuSFOeTZDv8BI8CjyXCGXimi0I7IFyUa8YdwceISoZgWKQqRil+x4hQXUsWjLI2JQ/Oi0sCYxR6O8SFlHOAX0ahAMa6Ri0k04xvhSJX+8Y6NS7Fj046IxJrosXh4VMof59hHmuAPeA5pIwPvGEigHJKRWAzKI/eYyDqqkZKN/MkkAZlJP16Sk5F05CcJWciZqA+SoRTlS1BJxzwuEpSp1OQrSVnKk5wSk52UJQRhGUtd7vKMlYzjKmnZxV8ijY+9VOUFgRlMYS4zachspTOhuREaDvOJPoviNbfYzDAaU1HRrKUktwnOahLxm7fjCBDRWaVw8tCH5lRM9cqpznemM544vCc+82msw5Sc8JkprCdn5hnQfY4QoBMUqNvCmUyzMVSaqSHohR4awZs4cEAfsah29HK/obQsgVn06Hs4GkCRjlQvIHXkQxt6MLZU8CoUE0tKS5LRpnCIITPFyEpZ2jKZWqamJvUYTnOaEKAG9UVO8Z4fjXrUHGnEaCYBSV4UhROTSTUv4kRqVZU6kJVgFaJU9RfrQvLVbh6trGg1qNLSmtaqsTUsW3urWrUm17TB9TEBAQAh+QQBAAAEACzCAYUBfAAxAYH///9GRqoyMjIAAAAI/wAJCBxIsKDBgwgTEgDAsKFDhwojSpxIsaJFig8zasx4saPHjyAFbhxJsmHIkyhDllzJMqXLlwdZypwJs+bJmThp2tyJMadPmTyDIvxJtKXQo0WTGj1qU6nTkkxhPp0KNepNqlg3WgWZtavGrR29in0ItufYsybLJkTLNq3agm3jAngLVy5bugPtMhzAt69fv0nxxv1L8a/Pt2z7ouyLs+xZxTUZL43qFbJQySO3duWrli9Jylg54/WsFSnVAXgLDigd9DTq1KpXc+R5GnZC2WR3PhVtGyFpt1Kdvu4dETfDpkqHEy8OMXhS5cuZA0f5HHr04rKd+7R+feLql0W5d//3Pjdl+PEev5v/KR69VaLt3YPOGV9+xAD1JW63DzIAfq778ffRfx8FKKBH/uU3FE4KHoiQfwReRJ+DAyboEYMUVmihRRhmqGGEE3XoYUcQgqifTA2OaFCJJio0U4oqEsRiiijGiOCMZpUEo40CsdjigivtyKOPDbIk5JBEhhgkjyQmeaKOTF7k448GLRmlRVNSSZCVV1KUZX5cdinRl09udCSTWWqZ10hn2pimmiKxKaaXaYIp55xj1llmRm3G+KadGvXp5597NiToiG9u6GKgeOZJaERmNnpfogoyKumDicIZ50OHZpippgvxeSmmlOa416grflokp6gW9CmooTr/1KmDr9Ioa6sDvQprrKfiSoCuMN6Kq6678jorf8TuKOyoyV7Y66XEFrsmAMeiF+2ZzzYarbRbVnvdttyu6e1y2wpKrbbl+ioluOOiya5LAwRwJbiKnhTvvPQeey+S774Ur38q0gthtf8C7KnA9aZUsLy0IhxucSwe6HDC8Poo38QUV2zxeBhnrPHGxHXssb9Zhixyu6q9mZrIA0e18JRqsdyyVS+XfJTMJaLsG7E24ezkVjVnipLPU+qsUNC60kk0mXQhvfTTD5MM9dQjA0011UZX5PTVGGdtEV9cy8zbcluH3Sx6ZZudqdf2qp2vgGC7XSvbUsv9aIZx2z0j3Tyl/30135f5vfTYTObNNeFd9jW1ZaMqLjbiuDqOMOPqGvTX3JRXLtFfnGeu+eeghy766KSXbvrpqKeu+uqst+7667DHLvvstNdu++2456777rz37vvvwAcv/PDEF2/88cgnr/zyzDfv/PPQRy/99NRXb/312Gev/fbcd+/99+CHL/745Jdv/vmvd96565er6pfpkgvseavxdzz/nPX7PO10MRqOs2/GyQ3eBBctrQVQgPwhYNLSsxL5+M9hizngV66jwERFBii9eSC9+ibBCY6mY0zp4GzeUsE00UwnYCkhzFKIwhCqEGQpFOEIg/LCiKVGhgi0SQ1LlMEWRmZixMFhDv8/JrDoCHGIIdkhwyiYEyKCyz1HbE4SgQjFxrQNYfaJIv++BsEENjE9XYTbFy+yQwppcYtHC+OBzliewqjRQWzUGhZHxMY2pnGOdBzjHTfYv8Ps8Yk8quMft1U4P+6Mj4H8ySERmUg9EqSGiVOk5Yp4pTraUSBljKQjCQBJMVkyZYyM0icHkklPGpKTlMSfJFEZykquspOqNOQLJWXJucAST5+8ZSybqEtTHqaXmuRlK325nWEGkz7GdCV7kilK+DCzkMsEJC2dKc1G1XKWl7rmMxtZzGrikiisLOA0wanCbBYlnDwbpyLLqc5fblNFtSSlN5X5ynk2E5yYtCc0V4nuzld985zyJCQxT9lPfw50kyU8KEL1mUd8glKc9+TnIwW6T4kGFKI2quUlH7rAjAbmNhTtI0BBilEPaXSjB6mgSEc6yE/B86PeKekalcLFdMKRpjW1qRhZKkedZhGnHVGpF2EKRp9256QoJaNRjeiUxciUbEC9YkeZStQILnU0SN2JAoPY1L5NdTRPucxXOxPWo2jQZmX5TVXFalCglTWGbTUrUo/TtLj2bSqwOSsMYaLWtTbNb5GZK12NqFcIRVCwgx1P/niYnr5GNYt6NSBipWhGv+yVlIDpSiUJg8nMigVXd/mcZkvXVdZh8C0BAQAh+QQBAAAEACyyAZcBiwAbAYH///9GRqoyMjIAAAAI/wAJCBxIsKDBgwgTKlxoEIDDhxAhMpxIsaLFixgrRtzIcWPGjyBDijzYsaTJhyNTqlxJ8KTLlyxjypz4sqbNmThx2tx5M6dPkTyD9vxJVKPQoy6LKlWItCnMpVAFOp16MqpSqlirWs2ZtWvJrTO9iuUIluXYsxHLjkTLNq3ajG3jonxrUa5dAHSN3m2bl+ZeuX2Z/rUbmOTgu4VbHt6bWOpixIkf/y0seXDgypPzYrb8dvPhzp4zgw39eTRp0VE3D1jNunVrtFsXu6boumvsvaxHsqZq9W7umLubpm7722fwoMPPrra6GvlStMvLNt/5fOyAvgOoX/UaHXv2p0TFXv9vTOB70vBZu5OfbrJoevIHzXd0T3U8fIPyPaJ3av8+/q8/TaWef/jlNxdXTfVHYEIG4uVTggvSph+CRykYIUIGBljhhRJK9KBQFnLIoIcU7hSiiCM6pKGJKF703Yo2ndgihip+GOOMLjpYoksy4lgWiz5SVlOPQR4UAJFAvYRkkQUFcKSNJi3JpEBOPrkjR1JOSUCVVoZ1UpZTcgnmRV9qWRGXXcZUppkToTlmXSW9GSSaaarZkZxz0oknQ3Gy2aaeVzq054x0OjnoQlj6yVChhuq00aEtMlqnWRFBKqKkk65UqaILYZppSptympCnliIEUakXevopqA+hGqGqrjb/JKioRsL6YawEqtooV7jep+uutC71K7DBFjXsqioNEECxWx7bK0HKLkvrscTOFG2w1CKbUrTSKpqttrpx6e23zw7ErZNsflutTOeiG6a64IrUbrdFwhtvSPPSi6O994KUr7uR8tuvv5IGzG+50GJ6qcADE6zwqww3/NG/aPoXcZUIm/srfBdjrBTFdBbWsccfH9vXyCQXBTKjaqEsJlQrsxyVyy/DbC9RNANqs8Ay5cxoxvFdPJLPkgIdtMsUEa2r0fgp7TS8TDf99NS/Ri011VgXrVbMWStt9dFdhy0xu2J3/TWDZVN9NtppP7022237/LZCXMet7tx0200z3nnr/90x3wvV7betBAo++M8XGn54zREqvvi6/jl+OOAYrfY4rJRPfLnWRUoudubhbp7ylJZfPqCWnnsdbOl2n85p6iODrjLsArvOLOtT286subjvrfvuBdJeaHHAu9g7ub8XX5FrVbemPE6uRU/889RXb/312Gev/fbcd+/99+CHL/745Jdv/vnop6/++uy37/778Mcv//z012///fjnr//+/Pfv//8ADKAAB3g+6UlPfsxbmvPSx5raJS97DYzdA5UXQZ8NpEbVOx7PApcf4GlQXRlhz4FeFzHdzIdNHzTZSkTols7xKycNGiGKUqgrorCwhRyCHczak8ObRSWGMoRP6v+koxUhDnFrQMRgYY6YlyTqCDvwSowTlwhCKZ6HLp4TInjAIrnCbfGH32rcF0sWRjEWcWfUyuEYf9JFETlRiWws4wzXaK1s4eiNcKyjHe9IxxXKkY9X1KMKg4THJ7KkjZ3ro7z2yKRCki2NZnLkIRlJupoAB5KRHEroBplJRboIkyjUJL5A2UlP0oaSoTTlRBRHq0IaMoSkTKUq+8ZJRUnSYcMqlitHWUtbivKTvfTTLnFZQ11qp3KxfN0vTxlMX1oSls0U5jJXmUxnzvJqxbzdMS1iOA9uc3nRlOY0AxdOWV4zYbncnStfSc10anOctMymMeEJN3mu7pvM3Jg68dn/Tn2+85nI9Oc9+dlPVe2ToAwR3EHpWU9PLRSgwBSoqNbJS3taE6IBtag4GRpPhw6Uox0tWCudQ0yPKhOh4JSoOc/ZUJFeFKOaU2klUcpNd640kIvUaCJ54keZEpKnk9QpIGmaUZPOlKhFfVgjSXpJgy6VqUF16k+BCj2hJk4ocZRqi9YZxEdq1Y1QhaFV78PVPIr1qwsqKzuNM9YlYpU5aNXiW8EY18aoVTptfctdkVhXLO4Vi30l4lybaNQmIkWKhd3aYe26Mr2q1ayBaSwXF1s4kDHnsWsVolJVJpwZWpaNmM1sWikGw9CS7oOHvCFVUXc83ah2tbbsXQhfG9aJHLYGYAx6DVau1x0DhvaE3IsL+cSivqnID6b+CQgAIfkEAQAABAAsqAG2AZoABgGB////RkaqMjIyAAAACP8ACQgcSLCgwYMIEypcyJAhgIcQI0ZsSLGixYsYM2ocKLGjx44bQ4ocSdLhx5MoH5ZcybLlwpQwY7qcSTNkzJs4a+rciRBnxwFAgwoVmpKn0Zo+Hw6lOPTj0aclfQYdGRQk1KsYcU5tWXUi1q8vYW7V2RUA2LMFYwLFChQi2rNiB6Bta/btVbF2BQ5QmddoyrV9CbQNjPQvYYJ76x6OihLwYr17H480LLlg5MoaG2PeTFIz58+ZPzoGjZh0wpNyTRsMkFo1R9GuD7KOLRA17YKzY9u+jbs16d28e6uGHXx17s/Eixv3XRm4cuGckz/HfVyy9OnUmR++jn1ggOrbPWr/7+4dfGDx5BN+N58XfXrZ38e/df8ePnu09OtTvw9Xonz96/GHVX767fffgD8ViNB6B97ln4ILMtheghDa1+BRBFYokIR2UajhfgJi+OCHIF7Ik4ckbshhfxGZWGCALtKEYooqxoffiDSWZyOLEMVYH4w3tpgjQUDyCICPPxb5FY5DEhBgiDoxOeSTSLIkZY5UGlllelmCdSWNXS4pZJM17ihmj2SWCWVhaKYZ5plHuvkmgkrJqSScW3b35JpsxknmnnkyVuefc9LpJ5aFGhqocoB22Caid7K4aHB78rnToylWOqmgh5LYaF+YaqjpeYN6+umEpYqaaJCbqjYqYaEq//gqrKm+eCqtndq6qqOtflappQj2itmvws5UK5ezWpernsk2V+xhvwLb37OBEfvbssVZaxq2vEVL7YnfguUtbdy6qq1u4V417m3lgrYub4q5Fq20abY0b7r1MnQveQME4O6+/H437Lz0kgaUv48RPNp7/SLcF8EF09bwwwqT2LDDX0EccXAHC6wuxAtb/CRPGpvZZMcBulRyfPi6dvHIIq28Yr6QEUyRzFS2zPHLOPfMoM7PBeUzzmPR3JDQQ3sbstEVIZ00a0szndFQJS8lNU1DZV301Vx37fXXYIct9thkl2322WinrfbabLft9ttwxy333HTXbffdeOet99589//t99+ABy744IQXbnhPMumdlEdzLw5T244ndXbklMfrdeWYW8505pxrXm/nnRsN+uiep0g66U2ernrpBa6+Oomuu65h7LEr6LjWWtPuVXpaCcUUUbWTp1bUFpV1uvCoEb+R8aFjJ5ryJTGP+XTiAW1ZYpwr95P1CNGVeXAznoX99Oz2yP3R40de/rF9pe+4bkqdj5H36g/XLmHu+2S//CLlnxNo7NuM/25iMIkNsCh5OyBKBIix2yjQKQms32P6NZ0HMm6CHgva4jDYQOVYUCKHuVh6PugW/K1nhJILjAgZlkK7vEw/JGTdVV5YnxjmhYYw1N9cYFYgEr6FZxDyofj/9lShD+6Qhz0kIFh41sEcJo4tRNSQEb/CxA9NcYaVstgTocLEJjoRgViMohS3eJQuevGLJ4FiFrUIxqeYMUUPDOMa2ZhGLkaLRgqUoxit2EajmPGMaLygG+8Ixz7u5I8Z5CMEBzkvPNaRkYSko1Ug+StHLrKMNivkJf0IMU1OkpKVlOTuQDnHMQqSlKUM4ilRuUdVfpKVSHQlCNXYSVOO0o4aU+QtYRnLJM6SiiUr4iv12EhZlnCJKzOmDDkZTAWl74cyc+YugZnMGk6Tms1k4TGhGU1tLpOYtewO9kKIMxTyRYU949c5TVjOCq6Tne304DeH6DO9ITKSvLlMZe6JtE+78bOfpAEkOZMmr43Rsp4BNSg2EcoZk4Hmn5mUTKQe+rREEmaiBquoRd+yq89ANJwc7ahHNXrCszRLYiQtKVTOVZyPVlMnAKtgSltJEpAFbKapzMjK+MdMnAI0QkSroUt9WlHoeZCoSBUpdoaa1J2KrKk45akLmQpVQEm1fVVN2lXxR9WmGtWKWa3a1VAWVqt6jaxl/Wq9nOZVtTKNrSndGtrg6jO5to1qGrNaAnGn1xwFBAA7\n",
                  "text/plain": "<IPython.core.display.Image object>"
                },
                "metadata": {}
              }
            ]
          }
        },
        "f694cd2845c643029822f6e3d82a1930": {
          "model_module": "@jupyter-widgets/base",
          "model_name": "LayoutModel",
          "model_module_version": "1.2.0",
          "state": {
            "_model_module": "@jupyter-widgets/base",
            "_model_module_version": "1.2.0",
            "_model_name": "LayoutModel",
            "_view_count": null,
            "_view_module": "@jupyter-widgets/base",
            "_view_module_version": "1.2.0",
            "_view_name": "LayoutView",
            "align_content": null,
            "align_items": null,
            "align_self": null,
            "border": null,
            "bottom": null,
            "display": null,
            "flex": null,
            "flex_flow": null,
            "grid_area": null,
            "grid_auto_columns": null,
            "grid_auto_flow": null,
            "grid_auto_rows": null,
            "grid_column": null,
            "grid_gap": null,
            "grid_row": null,
            "grid_template_areas": null,
            "grid_template_columns": null,
            "grid_template_rows": null,
            "height": null,
            "justify_content": null,
            "justify_items": null,
            "left": null,
            "margin": null,
            "max_height": null,
            "max_width": null,
            "min_height": null,
            "min_width": null,
            "object_fit": null,
            "object_position": null,
            "order": null,
            "overflow": null,
            "overflow_x": null,
            "overflow_y": null,
            "padding": null,
            "right": null,
            "top": null,
            "visibility": null,
            "width": null
          }
        },
        "e6fe30740b464a43b79a6dc7ffba9be2": {
          "model_module": "@jupyter-widgets/base",
          "model_name": "LayoutModel",
          "model_module_version": "1.2.0",
          "state": {
            "_model_module": "@jupyter-widgets/base",
            "_model_module_version": "1.2.0",
            "_model_name": "LayoutModel",
            "_view_count": null,
            "_view_module": "@jupyter-widgets/base",
            "_view_module_version": "1.2.0",
            "_view_name": "LayoutView",
            "align_content": null,
            "align_items": null,
            "align_self": null,
            "border": null,
            "bottom": null,
            "display": null,
            "flex": null,
            "flex_flow": null,
            "grid_area": null,
            "grid_auto_columns": null,
            "grid_auto_flow": null,
            "grid_auto_rows": null,
            "grid_column": null,
            "grid_gap": null,
            "grid_row": null,
            "grid_template_areas": null,
            "grid_template_columns": null,
            "grid_template_rows": null,
            "height": null,
            "justify_content": null,
            "justify_items": null,
            "left": null,
            "margin": null,
            "max_height": null,
            "max_width": null,
            "min_height": null,
            "min_width": null,
            "object_fit": null,
            "object_position": null,
            "order": null,
            "overflow": null,
            "overflow_x": null,
            "overflow_y": null,
            "padding": null,
            "right": null,
            "top": null,
            "visibility": null,
            "width": null
          }
        },
        "6526bc393ce64a95943903d424e4a6b5": {
          "model_module": "@jupyter-widgets/controls",
          "model_name": "SliderStyleModel",
          "model_module_version": "1.5.0",
          "state": {
            "_model_module": "@jupyter-widgets/controls",
            "_model_module_version": "1.5.0",
            "_model_name": "SliderStyleModel",
            "_view_count": null,
            "_view_module": "@jupyter-widgets/base",
            "_view_module_version": "1.2.0",
            "_view_name": "StyleView",
            "description_width": "",
            "handle_color": null
          }
        },
        "41dc44b4bf754f52b1a311ece7f91587": {
          "model_module": "@jupyter-widgets/base",
          "model_name": "LayoutModel",
          "model_module_version": "1.2.0",
          "state": {
            "_model_module": "@jupyter-widgets/base",
            "_model_module_version": "1.2.0",
            "_model_name": "LayoutModel",
            "_view_count": null,
            "_view_module": "@jupyter-widgets/base",
            "_view_module_version": "1.2.0",
            "_view_name": "LayoutView",
            "align_content": null,
            "align_items": null,
            "align_self": null,
            "border": null,
            "bottom": null,
            "display": null,
            "flex": null,
            "flex_flow": null,
            "grid_area": null,
            "grid_auto_columns": null,
            "grid_auto_flow": null,
            "grid_auto_rows": null,
            "grid_column": null,
            "grid_gap": null,
            "grid_row": null,
            "grid_template_areas": null,
            "grid_template_columns": null,
            "grid_template_rows": null,
            "height": null,
            "justify_content": null,
            "justify_items": null,
            "left": null,
            "margin": null,
            "max_height": null,
            "max_width": null,
            "min_height": null,
            "min_width": null,
            "object_fit": null,
            "object_position": null,
            "order": null,
            "overflow": null,
            "overflow_x": null,
            "overflow_y": null,
            "padding": null,
            "right": null,
            "top": null,
            "visibility": null,
            "width": null
          }
        },
        "3178d510ff1e43b29e6d73f9b7d14c40": {
          "model_module": "@jupyter-widgets/controls",
          "model_name": "SliderStyleModel",
          "model_module_version": "1.5.0",
          "state": {
            "_model_module": "@jupyter-widgets/controls",
            "_model_module_version": "1.5.0",
            "_model_name": "SliderStyleModel",
            "_view_count": null,
            "_view_module": "@jupyter-widgets/base",
            "_view_module_version": "1.2.0",
            "_view_name": "StyleView",
            "description_width": "",
            "handle_color": null
          }
        },
        "c622b3e362e349ae9bc99a0ac5ad36b2": {
          "model_module": "@jupyter-widgets/base",
          "model_name": "LayoutModel",
          "model_module_version": "1.2.0",
          "state": {
            "_model_module": "@jupyter-widgets/base",
            "_model_module_version": "1.2.0",
            "_model_name": "LayoutModel",
            "_view_count": null,
            "_view_module": "@jupyter-widgets/base",
            "_view_module_version": "1.2.0",
            "_view_name": "LayoutView",
            "align_content": null,
            "align_items": null,
            "align_self": null,
            "border": null,
            "bottom": null,
            "display": null,
            "flex": null,
            "flex_flow": null,
            "grid_area": null,
            "grid_auto_columns": null,
            "grid_auto_flow": null,
            "grid_auto_rows": null,
            "grid_column": null,
            "grid_gap": null,
            "grid_row": null,
            "grid_template_areas": null,
            "grid_template_columns": null,
            "grid_template_rows": null,
            "height": null,
            "justify_content": null,
            "justify_items": null,
            "left": null,
            "margin": null,
            "max_height": null,
            "max_width": null,
            "min_height": null,
            "min_width": null,
            "object_fit": null,
            "object_position": null,
            "order": null,
            "overflow": null,
            "overflow_x": null,
            "overflow_y": null,
            "padding": null,
            "right": null,
            "top": null,
            "visibility": null,
            "width": null
          }
        }
      }
    }
  },
  "nbformat": 4,
  "nbformat_minor": 0
}